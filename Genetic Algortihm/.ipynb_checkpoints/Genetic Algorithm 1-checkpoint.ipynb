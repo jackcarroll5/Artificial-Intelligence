{
 "cells": [
  {
   "cell_type": "code",
   "execution_count": 1,
   "metadata": {},
   "outputs": [],
   "source": [
    "#imports here\n",
    "import numpy as np\n",
    "import matplotlib.pyplot as plt\n",
    "from copy import deepcopy\n",
    "import time"
   ]
  },
  {
   "cell_type": "code",
   "execution_count": 2,
   "metadata": {},
   "outputs": [],
   "source": [
    "x = np.array([0.03, 9.34, 0.12])"
   ]
  },
  {
   "cell_type": "code",
   "execution_count": 3,
   "metadata": {},
   "outputs": [],
   "source": [
    "#Test Function\n",
    "def sphere_function(x):\n",
    "    return sum((x**2 - 2*x - 4)**2)"
   ]
  },
  {
   "cell_type": "code",
   "execution_count": 4,
   "metadata": {},
   "outputs": [
    {
     "data": {
      "text/plain": [
       "4201.75747953"
      ]
     },
     "execution_count": 4,
     "metadata": {},
     "output_type": "execute_result"
    }
   ],
   "source": [
    "sphere_function(x)"
   ]
  },
  {
   "cell_type": "code",
   "execution_count": 6,
   "metadata": {},
   "outputs": [],
   "source": [
    "# Problem to be defined here as a class (or struct) struct = Structure\n",
    "class problem:\n",
    "        \n",
    "        def __init__(self):\n",
    "\n",
    "        # Cost Function\n",
    "          self.cost_function = sphere_function\n",
    "\n",
    "        # Number of genes (Variables in individual)\n",
    "          self.number_of_genes = 5\n",
    "\n",
    "        # Max Gene Value\n",
    "          self.maximum_value = 10\n",
    "\n",
    "        # Min Gene Value\n",
    "          self.minimum_value = -10"
   ]
  },
  {
   "cell_type": "code",
   "execution_count": 7,
   "metadata": {},
   "outputs": [],
   "source": [
    "p1 = problem()"
   ]
  },
  {
   "cell_type": "code",
   "execution_count": 8,
   "metadata": {},
   "outputs": [
    {
     "data": {
      "text/plain": [
       "-10"
      ]
     },
     "execution_count": 8,
     "metadata": {},
     "output_type": "execute_result"
    }
   ],
   "source": [
    "p1.minimum_value"
   ]
  },
  {
   "cell_type": "code",
   "execution_count": 9,
   "metadata": {},
   "outputs": [
    {
     "data": {
      "text/plain": [
       "10"
      ]
     },
     "execution_count": 9,
     "metadata": {},
     "output_type": "execute_result"
    }
   ],
   "source": [
    "p1.maximum_value"
   ]
  },
  {
   "cell_type": "code",
   "execution_count": 10,
   "metadata": {},
   "outputs": [
    {
     "data": {
      "text/plain": [
       "5"
      ]
     },
     "execution_count": 10,
     "metadata": {},
     "output_type": "execute_result"
    }
   ],
   "source": [
    "p1.number_of_genes"
   ]
  },
  {
   "cell_type": "code",
   "execution_count": 11,
   "metadata": {},
   "outputs": [],
   "source": [
    "#Genetic Algorithm parameters here as class or struct\n",
    "class parameters():\n",
    "    def __init__(self):\n",
    "               \n",
    "        # Number of iterations of genetic algorithm\n",
    "            self.number_of_iterations = 100\n",
    "        \n",
    "        # Number of individuals in population\n",
    "            self.number_in_population = 50\n",
    "          \n",
    "        # Rate of new children per iteration\n",
    "            self.child_rate = 1\n",
    "            \n",
    "        # Number of children    \n",
    "            self.number_of_children = self.number_in_population * self.child_rate\n",
    "            \n",
    "         # Exploration rate (Gamma)   \n",
    "            self.explore_rate = 0.1\n",
    "          \n",
    "         # Mutation rate - Probability that individual gene will be mutated\n",
    "            self.mutation_rate = 0.2\n",
    "        \n",
    "        # Mutation Range - Determines the amount an individual gene will change\n",
    "            self.mutation_range = 0.1\n",
    "            \n",
    "    def to_string(self):\n",
    "        return \"Iterations/Generations {} Population {} Children No {} Child Rate {} Explore Rate {} Mutation Rate {} Mutation Range {}\".format(self.number_of_iterations,self.number_in_population,self.number_of_children,self.child_rate,self.explore_rate,self.mutation_rate,self.mutation_range)"
   ]
  },
  {
   "cell_type": "code",
   "execution_count": 12,
   "metadata": {},
   "outputs": [],
   "source": [
    "# Structure for individual of population as class or struct\n",
    "class individual:\n",
    "    \n",
    "    # Genotype or Chromosome\n",
    "        chromosome = None\n",
    "        \n",
    "    # Cost for individual\n",
    "        cost = 0\n",
    "        \n",
    "    # Constructor(s)     \n",
    "        # if problem is passed as parameter to constructor, a random individual is generated\n",
    "    #   https://docs.python.org/3/glossary.html#term-argument\n",
    "        def __init__(self,problem = None):\n",
    "               \n",
    "            if problem is not None:\n",
    "                self.chromosome = np.random.uniform(problem.minimum_value,problem.maximum_value,problem.number_of_genes)\n",
    "                self.cost = problem.cost_function(self.chromosome)#Fitness\n",
    "    \n",
    "    # Crossover with another indivdual method\n",
    "        def crossover(self,other_individual,explore_rate):\n",
    "            child1 = deepcopy(self)\n",
    "            child2 = deepcopy(other_individual)\n",
    "            \n",
    "            # Individual alpha for each child\n",
    "            # Shape of chromosome (returns 5)\n",
    "            alpha = np.random.uniform(-explore_rate, 1 + explore_rate, child1.chromosome.shape)\n",
    "            child1.chromosome = alpha * self.chromosome + (1 - alpha) * other_individual.chromosome\n",
    "            child2.chromosome = alpha * other_individual.chromosome + (1 - alpha) * self.chromosome\n",
    "            return child1,child2\n",
    "        \n",
    "    # Mutate method\n",
    "        def mutate(self,rate,range_of_change):\n",
    "            for i in range(len(self.chromosome)):\n",
    "                if np.random.rand() < rate:\n",
    "                    # Normal Distribution\n",
    "                    self.chromosome[i] += np.random.randn() * range_of_change\n"
   ]
  },
  {
   "cell_type": "code",
   "execution_count": 13,
   "metadata": {},
   "outputs": [],
   "source": [
    "i = individual(p1)"
   ]
  },
  {
   "cell_type": "code",
   "execution_count": 14,
   "metadata": {},
   "outputs": [],
   "source": [
    "j = individual(p1)"
   ]
  },
  {
   "cell_type": "code",
   "execution_count": 15,
   "metadata": {},
   "outputs": [],
   "source": [
    "c1,c2 = i.crossover(j,0.1)"
   ]
  },
  {
   "cell_type": "code",
   "execution_count": 16,
   "metadata": {},
   "outputs": [
    {
     "data": {
      "text/plain": [
       "(11229.747021810224, 10128.515934702134)"
      ]
     },
     "execution_count": 16,
     "metadata": {},
     "output_type": "execute_result"
    }
   ],
   "source": [
    "c1.cost,c2.cost"
   ]
  },
  {
   "cell_type": "code",
   "execution_count": 17,
   "metadata": {},
   "outputs": [
    {
     "data": {
      "text/plain": [
       "array([-7.86304693, -0.94614668,  7.60476003,  9.41250459, -1.41543197])"
      ]
     },
     "execution_count": 17,
     "metadata": {},
     "output_type": "execute_result"
    }
   ],
   "source": [
    "i.chromosome"
   ]
  },
  {
   "cell_type": "code",
   "execution_count": 18,
   "metadata": {},
   "outputs": [
    {
     "data": {
      "text/plain": [
       "array([ 9.91834211, -7.18715606,  6.40136805,  5.05820472,  3.83303586])"
      ]
     },
     "execution_count": 18,
     "metadata": {},
     "output_type": "execute_result"
    }
   ],
   "source": [
    "j.chromosome"
   ]
  },
  {
   "cell_type": "code",
   "execution_count": 19,
   "metadata": {},
   "outputs": [
    {
     "data": {
      "text/plain": [
       "5"
      ]
     },
     "execution_count": 19,
     "metadata": {},
     "output_type": "execute_result"
    }
   ],
   "source": [
    "len(c1.chromosome)"
   ]
  },
  {
   "cell_type": "code",
   "execution_count": 20,
   "metadata": {},
   "outputs": [],
   "source": [
    "def choose_distinct_pair_from(population_size):\n",
    "    index1 = np.random.randint(population_size)\n",
    "    index2 = np.random.randint(population_size)\n",
    "    \n",
    "    if index1 == index2:\n",
    "        return choose_distinct_pair_from(population_size)\n",
    "    else:\n",
    "        return index1,index2"
   ]
  },
  {
   "cell_type": "code",
   "execution_count": null,
   "metadata": {},
   "outputs": [],
   "source": [
    "t = \"R \"\n",
    "q = \"w\""
   ]
  },
  {
   "cell_type": "code",
   "execution_count": null,
   "metadata": {},
   "outputs": [],
   "source": [
    "if \"Rob Sheehy\" < \"rob sheehy\":\n",
    "    print(\"hello\")"
   ]
  },
  {
   "cell_type": "code",
   "execution_count": 21,
   "metadata": {},
   "outputs": [
    {
     "data": {
      "text/plain": [
       "(0, 1)"
      ]
     },
     "execution_count": 21,
     "metadata": {},
     "output_type": "execute_result"
    }
   ],
   "source": [
    "choose_distinct_pair_from(3)"
   ]
  },
  {
   "cell_type": "code",
   "execution_count": 22,
   "metadata": {},
   "outputs": [
    {
     "data": {
      "text/plain": [
       "11229.747021810224"
      ]
     },
     "execution_count": 22,
     "metadata": {},
     "output_type": "execute_result"
    }
   ],
   "source": [
    "i.cost"
   ]
  },
  {
   "cell_type": "code",
   "execution_count": 23,
   "metadata": {},
   "outputs": [
    {
     "data": {
      "text/plain": [
       "10128.515934702134"
      ]
     },
     "execution_count": 23,
     "metadata": {},
     "output_type": "execute_result"
    }
   ],
   "source": [
    "j.cost"
   ]
  },
  {
   "cell_type": "code",
   "execution_count": 24,
   "metadata": {},
   "outputs": [
    {
     "data": {
      "text/plain": [
       "array([-1.86245404, -0.49055442, -0.47470254,  0.26185709,  1.4937079 ])"
      ]
     },
     "execution_count": 24,
     "metadata": {},
     "output_type": "execute_result"
    }
   ],
   "source": [
    "np.random.uniform(-2,2,5)"
   ]
  },
  {
   "cell_type": "code",
   "execution_count": 25,
   "metadata": {},
   "outputs": [
    {
     "data": {
      "text/plain": [
       "range(0, 9)"
      ]
     },
     "execution_count": 25,
     "metadata": {},
     "output_type": "execute_result"
    }
   ],
   "source": [
    "range(0,9)"
   ]
  },
  {
   "cell_type": "code",
   "execution_count": 26,
   "metadata": {},
   "outputs": [],
   "source": [
    "def run_genetic(problem, parameters, max_error):\n",
    "    \n",
    "    #read problem\n",
    "    #Fitness Function\n",
    "    cost_function = problem.cost_function\n",
    "    \n",
    "    #read parameters\n",
    "    number_in_population = parameters.number_in_population\n",
    "    number_of_iterations = parameters.number_of_iterations\n",
    "    number_of_children = parameters.number_of_children\n",
    "    explore_rate = parameters.explore_rate\n",
    "    mutation_rate = parameters.mutation_rate\n",
    "    mutation_range = parameters.mutation_range\n",
    "    \n",
    "    #placeholder for best solution\n",
    "    best_solution = deepcopy(individual())\n",
    "    best_solution.cost = np.infty\n",
    "    \n",
    "    # Placeholder for best cost at each iteration\n",
    "    #best_costs = []\n",
    "    \n",
    "    population = []\n",
    "    \n",
    "    #initialize population for the above problem. i.e. generate random individuals\n",
    "    for i in range(number_in_population):\n",
    "        new_individual = individual(problem)\n",
    "        population.append(new_individual)\n",
    "        if new_individual.cost < best_solution.cost:#Cost = Fitness\n",
    "            best_solution = deepcopy(new_individual)\n",
    "            \n",
    "    for iteration in range(number_of_iterations):      \n",
    "        # generate a new population of children\n",
    "        children = []\n",
    "        \n",
    "        # How Many Children\n",
    "        while len(children) < number_of_children:\n",
    "            \n",
    "        # Select 2 Parents\n",
    "            parent1_index, parent2_index = choose_distinct_pair_from(number_in_population)\n",
    "            parent_1 = population[parent1_index]\n",
    "            parent_2 = population[parent2_index]\n",
    "            #print(\"Parent 1 {} Parent 2 {}\".format(parent_1,parent_2))\n",
    "            \n",
    "        # Use crossover to produce 2 children\n",
    "            child_1,child_2 = parent_1.crossover(parent_2, explore_rate)\n",
    "            \n",
    "        # Mutate these children\n",
    "            child_1.mutate(mutation_rate, mutation_range)\n",
    "            child_2.mutate(mutation_rate, mutation_range)\n",
    "            \n",
    "        # calculate costs (Fitness) for these children\n",
    "            child_1.cost = cost_function(child_1.chromosome)\n",
    "            child_2.cost = cost_function(child_2.chromosome)\n",
    "            #print(\"Child 1 Cost {} Child 2 Cost {}\".format(child_1.cost,child_2.cost))\n",
    "                \n",
    "        # add to the children population\n",
    "            children.append(child_1)\n",
    "            children.append(child_2)\n",
    "            \n",
    "        #merge parent and child populations    \n",
    "        population += children\n",
    "        \n",
    "        #Sort into ascending order of cost\n",
    "        population = sorted(population,key = lambda x: x.cost)#List of individuals\n",
    "        \n",
    "        #Select population next iteration\n",
    "        population = population[0:number_in_population]\n",
    "        \n",
    "        #update best solution - Fitness\n",
    "        if population[0].cost < best_solution.cost:\n",
    "            best_solution = deepcopy(population[0])\n",
    "            \n",
    "        #print iteration results\n",
    "        #print(\"Iteration/Generation {} \\nBest Cost/Fitness {} \\nBest Cost Chromosome {} \\n\".format(iteration,best_solution.cost,best_solution.chromosome))\n",
    "        #best_costs.append(best_solution.cost)\n",
    "        #output results ?? class/struct/ best solution/ population?\n",
    "        if best_solution.cost < max_error:\n",
    "            #print(\"Stopped at {} Iterations\".format(iteration))\n",
    "            break\n",
    "            \n",
    "    #plt.semilogy(best_costs)\n",
    "    #plt.xlabel(\"Iterations\")\n",
    "    #plt.ylabel(\"Best Cost\")\n",
    "    #plt.title(\"Genetic Algorithm \\n\" + parameters.to_string())\n",
    "    #print(\"Solution Score {}\".format(best_solution.chromosome))\n",
    "    return population, best_solution      "
   ]
  },
  {
   "cell_type": "code",
   "execution_count": 27,
   "metadata": {},
   "outputs": [],
   "source": [
    "prob = problem()"
   ]
  },
  {
   "cell_type": "code",
   "execution_count": 28,
   "metadata": {},
   "outputs": [],
   "source": [
    "pars = parameters()"
   ]
  },
  {
   "cell_type": "code",
   "execution_count": 29,
   "metadata": {},
   "outputs": [
    {
     "data": {
      "text/plain": [
       "'Iterations/Generations 100 Population 50 Children No 50 Child Rate 1 Explore Rate 0.1 Mutation Rate 0.2 Mutation Range 0.1'"
      ]
     },
     "execution_count": 29,
     "metadata": {},
     "output_type": "execute_result"
    }
   ],
   "source": [
    "pars.to_string()"
   ]
  },
  {
   "cell_type": "code",
   "execution_count": 30,
   "metadata": {},
   "outputs": [],
   "source": [
    "final_pop, best_solution = run_genetic(prob,pars,0.1)"
   ]
  },
  {
   "cell_type": "code",
   "execution_count": 31,
   "metadata": {},
   "outputs": [
    {
     "data": {
      "text/plain": [
       "array([ 3.20890869,  3.2130373 , -1.17579511, -1.23839172, -1.23416357])"
      ]
     },
     "execution_count": 31,
     "metadata": {},
     "output_type": "execute_result"
    }
   ],
   "source": [
    "best_solution.chromosome"
   ]
  },
  {
   "cell_type": "code",
   "execution_count": 32,
   "metadata": {},
   "outputs": [
    {
     "data": {
      "text/plain": [
       "0.09596488175913645"
      ]
     },
     "execution_count": 32,
     "metadata": {},
     "output_type": "execute_result"
    }
   ],
   "source": [
    "best_solution.cost"
   ]
  },
  {
   "cell_type": "code",
   "execution_count": 33,
   "metadata": {},
   "outputs": [],
   "source": [
    "def test_genetic(number_of_runs,problem,parameters,max_error):\n",
    "    start_time = time.perf_counter()\n",
    "    for i in range(number_of_runs):\n",
    "        run_genetic(problem,parameters,max_error)\n",
    "    return time.perf_counter() - start_time"
   ]
  },
  {
   "cell_type": "code",
   "execution_count": 34,
   "metadata": {},
   "outputs": [
    {
     "data": {
      "text/plain": [
       "28.652236599999924"
      ]
     },
     "execution_count": 34,
     "metadata": {},
     "output_type": "execute_result"
    }
   ],
   "source": [
    "test_genetic(100,prob,pars,0.0001)"
   ]
  },
  {
   "cell_type": "markdown",
   "metadata": {},
   "source": [
    "<h3>The code above shows the time taken for the algorithm to complete when the number of runs is 100 which uses the original parameters at the start of the notebook in the parameters class. The time takes longer when the number of runs is higher as it goes through the algorithm 100 times to show the best solution for the algortihm. That can be tweaked to search for the perfect optimal solution. The error rate here is 0.0001 which shows that the risk of an error is quite low for forming an optimal solution. The number of iterations in the parameters class is set at 100 anyway where the entire population is basically children.<h3>"
   ]
  },
  {
   "cell_type": "code",
   "execution_count": 35,
   "metadata": {},
   "outputs": [
    {
     "data": {
      "text/plain": [
       "3.2432088999998996"
      ]
     },
     "execution_count": 35,
     "metadata": {},
     "output_type": "execute_result"
    }
   ],
   "source": [
    "test_genetic(10,prob,pars,0.0001)"
   ]
  },
  {
   "cell_type": "markdown",
   "metadata": {},
   "source": [
    "<h3>The code above shows the time taken for the algorithm to complete when the number of runs is 10 that uses the original parameters at the start of the notebook in the parameters class. The time taken to complete this test is shorter as the number of runs is less than the first test where the genetic algortihm is carried out 100 times. With the number of children set at 50 which is half of the population where the population number is set at 100, this allows the genetic algorithm to run quite quickly.<h3>"
   ]
  },
  {
   "cell_type": "code",
   "execution_count": null,
   "metadata": {},
   "outputs": [],
   "source": [
    "def test_explore():\n",
    "    times_for_explore_rate = []\n",
    "    for i in range(10):\n",
    "        pars.explore_rate = float(i) / 5.0\n",
    "        times_for_explore_rate.append(test_genetic(10,prob,pars,0.1))\n",
    "        print(\"Explore Rate {} \\nTime for Explore Rate {}\\n\".format(pars.explore_rate,times_for_explore_rate))\n",
    "    plt.xlabel(\"Iterations\")\n",
    "    plt.ylabel(\"Best Score - Times for Explore Rate\")\n",
    "    plt.title(\"Genetic Algorithm\")\n",
    "    plt.plot(times_for_explore_rate)\n",
    "    print(\"Cost {} Chromosome {}\".format(best_solution.cost,best_solution.chromosome))"
   ]
  },
  {
   "cell_type": "code",
   "execution_count": null,
   "metadata": {},
   "outputs": [],
   "source": [
    "test_explore()"
   ]
  },
  {
   "cell_type": "markdown",
   "metadata": {},
   "source": [
    "<h3>With this graph, the population size of 50 is used here where an explore rate of 0.1 is utilized that runs across 10 iterations. The mutation rate is 0.2 and the mutation range is 0.1. The number of iterations used for the algorithm is 10 in this test. The best solution score of the algorithm in this case is actually reached during the second iteration where the graph starts decreasing during the first iteration but rises after reaching the quickest time to perform the algortihm as the iterations progress due to the number of children in the population being 50 which peaks here at the end as the mutation range and rate are low in this first test. The number of children turns out to be 50 here too due to the child rate being 1 in the parameters class where the explore rate is quick at the start of the algorithm. However, the explore rate seems to have an impact on the efficiency of the algorithm as time progresses as the iteration is repeated multiple times where a higher best solution cost seems to be reached as the test progresses.<h3>"
   ]
  },
  {
   "cell_type": "code",
   "execution_count": null,
   "metadata": {},
   "outputs": [],
   "source": [
    "def test_explore_alt():\n",
    "    times_for_explore_rate = []\n",
    "    for i in range(20):\n",
    "        pars.explore_rate = float(i) / 5.0\n",
    "        times_for_explore_rate.append(test_genetic(10,prob,pars,0.1))\n",
    "    plt.xlabel(\"Iterations\")\n",
    "    plt.ylabel(\"Best Score - Times for Explore Rate\")\n",
    "    plt.title(\"Genetic Algorithm\")\n",
    "    plt.plot(times_for_explore_rate)\n",
    "    print(\"Cost {} Chromosome {}\".format(best_solution.cost,best_solution.chromosome))"
   ]
  },
  {
   "cell_type": "code",
   "execution_count": null,
   "metadata": {},
   "outputs": [],
   "source": [
    "test_explore_alt()"
   ]
  },
  {
   "cell_type": "markdown",
   "metadata": {},
   "source": [
    "<h3><h3>"
   ]
  },
  {
   "cell_type": "code",
   "execution_count": null,
   "metadata": {},
   "outputs": [],
   "source": [
    "best_solution.cost"
   ]
  },
  {
   "cell_type": "code",
   "execution_count": null,
   "metadata": {},
   "outputs": [],
   "source": [
    "pars.explore_rate = 0.5"
   ]
  },
  {
   "cell_type": "code",
   "execution_count": null,
   "metadata": {},
   "outputs": [],
   "source": [
    "test_genetic(100,prob,pars,0.0001)"
   ]
  },
  {
   "cell_type": "markdown",
   "metadata": {},
   "source": [
    "<h3>With the explore rate set at 0.5, the time it takes for 100 runs of the genetic algortihm is longer than when the explore rate is inputted as 0.1. This shows that a higher explore rate searches the search space as much as possible which would allow for an efficient way to serach for the perfect answer quickly. The exploration is done at the start of the algorithm. This makes it more harder to find the defining solution despite a chance that an answer can be found more quickly<h3>"
   ]
  },
  {
   "cell_type": "code",
   "execution_count": null,
   "metadata": {},
   "outputs": [],
   "source": [
    "test_genetic(10,prob,pars,0.0001)"
   ]
  },
  {
   "cell_type": "markdown",
   "metadata": {},
   "source": [
    "<h3>Unsurprisingly, the time to compute the genetic algortihm across ten runs occurs slower than when the explore rate is set at 0.1 compared to 0.5. The value may be lower than 1 for example for the explore rate but it looks like the target could be reached within the optimal solution answer where the cost would be reached.<h3>"
   ]
  },
  {
   "cell_type": "code",
   "execution_count": null,
   "metadata": {},
   "outputs": [],
   "source": [
    "test_explore()"
   ]
  },
  {
   "cell_type": "markdown",
   "metadata": {},
   "source": [
    "<h3>This time in the graph above, the population size of 50 is still used here where a different explore rate of 0.5 is utilized that runs across 10 iterations. The mutation rate is also 0.2 and the mutation range is 0.1. The number of iterations used for the algorithm is 100 in this test. The best solution score of the algorithm in this case is reached at iteration 1 once again. The graph starts decreasing before it rises as far as the 5th iteration and slides downwards before it rises again after the 6th iteration. The last score at the end is lower than the first explore rate test as it proves that a lower explore rate has a better chance of reaching the optimal solution depending on the test that is carried out. The maximum number of generations has been reached here where it goes as far as 10 rather than 100. This shows that a lower explore rate can ensure a better best fitness cost to acquire the optimal solution when the explore rate is lowered quicker at 0.1 which was tested earlier on 10 and 100 runs.<h3>"
   ]
  },
  {
   "cell_type": "code",
   "execution_count": null,
   "metadata": {},
   "outputs": [],
   "source": [
    "test_explore_alt()"
   ]
  },
  {
   "cell_type": "code",
   "execution_count": null,
   "metadata": {},
   "outputs": [],
   "source": []
  },
  {
   "cell_type": "code",
   "execution_count": null,
   "metadata": {},
   "outputs": [],
   "source": [
    "pars.number_of_iterations = 200"
   ]
  },
  {
   "cell_type": "code",
   "execution_count": null,
   "metadata": {},
   "outputs": [],
   "source": [
    "test_genetic(10,prob,pars,0.0001)"
   ]
  },
  {
   "cell_type": "markdown",
   "metadata": {},
   "source": [
    "<h3>With a higher number of iterations that is set at 200 when the iteration parameter is changed, it is clear that the time it takes for the genetic algorithm to be completed is much longer than the time it takes when 100 iterations are used. The time would be shorter if less iterations were used for the algorithm when the number of runs is put at 10 during the testing of the genetic algorithm. A graph for 200 iterations would take too long to form considering the iterations would be bigger and it would take a longer while to carry out the genetic algorithm than when the iterations is set at 100.<h3>"
   ]
  },
  {
   "cell_type": "code",
   "execution_count": null,
   "metadata": {},
   "outputs": [],
   "source": [
    "test_explore()"
   ]
  },
  {
   "cell_type": "code",
   "execution_count": null,
   "metadata": {},
   "outputs": [],
   "source": [
    "test_explore_alt()"
   ]
  },
  {
   "cell_type": "code",
   "execution_count": null,
   "metadata": {},
   "outputs": [],
   "source": [
    "pars.mutation_range = 0.2"
   ]
  },
  {
   "cell_type": "code",
   "execution_count": null,
   "metadata": {},
   "outputs": [],
   "source": [
    "test_genetic(100,prob,pars,0.0001)"
   ]
  },
  {
   "cell_type": "markdown",
   "metadata": {},
   "source": [
    "The test for the number of runs which is set at 100 where the mutation range is set at 0.2 rather than 0.1. The greater mutation range would allow for determining the amount that the individual gene would change by. The time it takes for the genetic algorithm to last 100 runs here is higher when the higher mutation range is present as well as the updated explore rate of 0.5."
   ]
  },
  {
   "cell_type": "code",
   "execution_count": null,
   "metadata": {},
   "outputs": [],
   "source": [
    "test_genetic(10,prob,pars,0.0001)"
   ]
  },
  {
   "cell_type": "markdown",
   "metadata": {},
   "source": [
    "The time taken for the algortihm to finish is longer than both of the explore rate tests which onvolvs 10 as the number of runs as the mutation range is 0.1 higher than the initial value when the mutation range was set at 0.1. In this case, the mutation range is set at 0.2 in addition to the updated parameters of the explore rate as mentioned earlier on. This higher exploration and mutation range coulkd bring us closer to the optimal solution when the explore rate is quick at the beginning but it slows down due to the higher best solution costs"
   ]
  },
  {
   "cell_type": "code",
   "execution_count": null,
   "metadata": {},
   "outputs": [],
   "source": [
    "def test_mutation_range():\n",
    "    times_for_mutation_range = []\n",
    "    for i in range(10):\n",
    "        pars.mutation_range = float(i) / 5.0\n",
    "        times_for_mutation_range.append(test_genetic(10,prob,pars,0.1))   \n",
    "    plt.xlabel(\"Iterations\")\n",
    "    plt.ylabel(\"Best Score - Times for Mutation Range\")\n",
    "    plt.title(\"Genetic Algorithm\")\n",
    "    plt.plot(times_for_mutation_range)\n",
    "    print(\"Cost {} Chromosome {}\".format(best_solution.cost,best_solution.chromosome))"
   ]
  },
  {
   "cell_type": "code",
   "execution_count": null,
   "metadata": {},
   "outputs": [],
   "source": [
    "test_mutation_range()"
   ]
  },
  {
   "cell_type": "markdown",
   "metadata": {},
   "source": [
    "When the mutation range is changed to 0.2 compared to the original value of 0.1, the graph shows that the starting score increases once the generations of the algorithm begins and the final score turns out to be lower than the starting score in iteration 10 where it ends. The score peaks at iteration 2 where the range of mutation to determine the amount that an individual gene will change by is higher. This would result in higher costs for the algorithm in general as the higher the fitness cost, the better the problem will be when attempting to reach the optimal solution. Once the peak occurs, a massive decrease occurs as the genes do not exactly vary afterwards where the graph seems to rise in every second iteration that represents the mutation range. It basically fluctuates as the offspring is created and emerges from the parents after crossover and mutation are applied. If more iterations were put in, the results could be expanded upon to form the optimal solution when modifying the parameters in the first part. This mutation range value is now edited alongside the explore rate."
   ]
  },
  {
   "cell_type": "code",
   "execution_count": null,
   "metadata": {},
   "outputs": [],
   "source": [
    "def test_mutation_range_alt():\n",
    "    times_for_mutation_range = []\n",
    "    for i in range(20):\n",
    "        pars.mutation_range = float(i) / 5.0\n",
    "        times_for_mutation_range.append(test_genetic(10,prob,pars,0.1))   \n",
    "    plt.xlabel(\"Iterations\")\n",
    "    plt.ylabel(\"Best Score - Times for Mutation Range\")\n",
    "    plt.title(\"Genetic Algorithm\")\n",
    "    plt.plot(times_for_mutation_range)\n",
    "    print(\"Cost {} Chromosome {}\".format(best_solution.cost,best_solution.chromosome))"
   ]
  },
  {
   "cell_type": "code",
   "execution_count": null,
   "metadata": {},
   "outputs": [],
   "source": [
    "test_mutation_range_alt()"
   ]
  },
  {
   "cell_type": "markdown",
   "metadata": {},
   "source": [
    "The cost cannot be reached when the number of runs are tested out on whether it is 10 or 20 because the mutation range is set up at 0.2 compared to 0.1 which has a bigger chance of determining the amount that the individual gene would change by. The time it takes the mutation range to play a role in the genetic algorithm is significant where the graph fluctuates between high and low during the 20 times that the genetic algorithm is ran The higher mutation range along with the edited explore rate and the unchanged parameters at the start of the notebook in the parameters class causes the graph values to get much higher than 1 itself as seen in the first graph which was explained earlier."
   ]
  },
  {
   "cell_type": "code",
   "execution_count": null,
   "metadata": {},
   "outputs": [],
   "source": [
    "pars.number_of_children = self.number_in_population * self.child_rate"
   ]
  },
  {
   "cell_type": "markdown",
   "metadata": {},
   "source": []
  },
  {
   "cell_type": "code",
   "execution_count": null,
   "metadata": {},
   "outputs": [],
   "source": [
    "pars.mutation_rate = 0.3"
   ]
  },
  {
   "cell_type": "code",
   "execution_count": null,
   "metadata": {},
   "outputs": [],
   "source": [
    "test_genetic(100,prob,pars,0.1)"
   ]
  },
  {
   "cell_type": "markdown",
   "metadata": {},
   "source": [
    "The mutation rate has changed to 0.3 in this test as it is clear that the test for the genetic algorithm which runs 10 times combined with the changed explore rate and mutation range from earlier allows for the ime to take longer to complete the algorithm. The higher the mutation rate, the better chance there is of reaching the perfect solution when the chances of mutation within an individual gene are higher."
   ]
  },
  {
   "cell_type": "code",
   "execution_count": null,
   "metadata": {},
   "outputs": [],
   "source": [
    "test_genetic(10,prob,pars,0.1)"
   ]
  },
  {
   "cell_type": "markdown",
   "metadata": {},
   "source": [
    "The time for the number of runs taken when the genetic algorithm occurs is longer than the previous tests as the mutation rate is bigger than the original mutation rate value of 0.1. This is because the mutation rate here in this test has a higher probability that the individual gene will be mutated. This enables the test to be completed in a longer time period."
   ]
  },
  {
   "cell_type": "code",
   "execution_count": null,
   "metadata": {},
   "outputs": [],
   "source": [
    "def test_mutation_rate():\n",
    "    times_for_mutation_rate = []\n",
    "    for i in range(10):\n",
    "        pars.mutation_rate = float(i) / 5.0\n",
    "        times_for_mutation_rate.append(test_genetic(10,prob,pars,0.1))   \n",
    "    plt.xlabel(\"Iterations\")\n",
    "    plt.ylabel(\"Best Score - Times for Mutation Rate\")\n",
    "    plt.title(\"Genetic Algorithm\")\n",
    "    plt.plot(times_for_mutation_rate)\n",
    "    print(\"Cost {} Chromosome {}\".format(best_solution.cost,best_solution.chromosome))"
   ]
  },
  {
   "cell_type": "code",
   "execution_count": null,
   "metadata": {},
   "outputs": [],
   "source": [
    "test_mutation_rate()"
   ]
  },
  {
   "cell_type": "markdown",
   "metadata": {},
   "source": []
  },
  {
   "cell_type": "code",
   "execution_count": null,
   "metadata": {},
   "outputs": [],
   "source": [
    "def test_mutation_rate_alt():\n",
    "    times_for_mutation_rate = []\n",
    "    for i in range(20):\n",
    "        pars.mutation_rate = float(i) / 5.0\n",
    "        times_for_mutation_rate.append(test_genetic(10,prob,pars,0.1))   \n",
    "    plt.xlabel(\"Iterations\")\n",
    "    plt.ylabel(\"Best Score - Times for Mutation Rate\")\n",
    "    plt.title(\"Genetic Algorithm\")\n",
    "    plt.plot(times_for_mutation_rate)\n",
    "    print(\"Cost {} Chromosome {}\".format(best_solution.cost,best_solution.chromosome))"
   ]
  },
  {
   "cell_type": "code",
   "execution_count": null,
   "metadata": {},
   "outputs": [],
   "source": [
    "test_mutation_rate_alt()"
   ]
  },
  {
   "cell_type": "markdown",
   "metadata": {},
   "source": []
  },
  {
   "cell_type": "code",
   "execution_count": null,
   "metadata": {},
   "outputs": [],
   "source": [
    "pars.child_rate = 5"
   ]
  },
  {
   "cell_type": "code",
   "execution_count": null,
   "metadata": {},
   "outputs": [],
   "source": [
    "test_genetic(100,prob,pars,0.1)"
   ]
  },
  {
   "cell_type": "markdown",
   "metadata": {},
   "source": [
    "The child rate is set to 5 here where the time it takes to run the genetic algorithm here is slower than all of the previous tests where the number of runs was 100 because all of the changed parameters as tested out here for the first CA have a major impact on the cost of the algorithm where the higher the fitness cost, the closer we hopefully get to the optimal solution."
   ]
  },
  {
   "cell_type": "code",
   "execution_count": null,
   "metadata": {},
   "outputs": [],
   "source": [
    "test_genetic(10,prob,pars,0.1)"
   ]
  },
  {
   "cell_type": "markdown",
   "metadata": {},
   "source": [
    "Meanwhile, the test by using the number of runs for the test of the genetic algorithm is surprisingly slower than the tests when the values of the mutation rate and range were performed and implemented. This is because the child rate is much higher than the child rate of 1. This allows for much more children to be born in every iteration when combined with the edited mutation rate and range as there is a greater possibility that the optimal solution would be reached when multiple iterations of the algorithm are carried out."
   ]
  },
  {
   "cell_type": "code",
   "execution_count": null,
   "metadata": {},
   "outputs": [],
   "source": [
    "def test_child_rate():\n",
    "    times_for_child_rate = []\n",
    "    for i in range(30):\n",
    "        pars.child_rate = float(i) / 5.0\n",
    "        times_for_child_rate.append(test_genetic(10,prob,pars,0.1))   \n",
    "    plt.xlabel(\"Iterations\")\n",
    "    plt.ylabel(\"Best Score - Times for Child Rate\")\n",
    "    plt.title(\"Genetic Algorithm\")\n",
    "    plt.plot(times_for_child_rate)\n",
    "    print(\"Cost {} Best Solution Chromosome {}\".format(best_solution.cost,best_solution.chromosome))"
   ]
  },
  {
   "cell_type": "code",
   "execution_count": null,
   "metadata": {},
   "outputs": [],
   "source": [
    "test_child_rate()"
   ]
  },
  {
   "cell_type": "code",
   "execution_count": null,
   "metadata": {},
   "outputs": [],
   "source": [
    "def test_child_rate_alt():\n",
    "    times_for_child_rate = []\n",
    "    for i in range(10):\n",
    "        pars.child_rate = float(i) / 5.0\n",
    "        times_for_child_rate.append(test_genetic(10,prob,pars,0.1))   \n",
    "    plt.xlabel(\"Iterations\")\n",
    "    plt.ylabel(\"Best Score - Times for Child Rate\")\n",
    "    plt.title(\"Genetic Algorithm\")\n",
    "    plt.plot(times_for_child_rate)\n",
    "    print(\"Cost {} Chromosome {}\".format(best_solution.cost,best_solution.chromosome))"
   ]
  },
  {
   "cell_type": "code",
   "execution_count": null,
   "metadata": {},
   "outputs": [],
   "source": [
    "test_child_rate_alt()"
   ]
  },
  {
   "cell_type": "markdown",
   "metadata": {},
   "source": [
    "This algortihm does not look close to the optimal solution where a mean distribution would occur if the perfect solution is reached. The graph naturally increases and decreases after the halfway mark of the testing of the algorithm. It may fluctuate at the beginning of the test with the graph figures as the test is appended to try and accommodate for the best score so far in the algorithm. More tweaking of the parameters would probably lead to a much improved solution which can be fixed when the algortihm is changed and edited soon."
   ]
  },
  {
   "cell_type": "markdown",
   "metadata": {},
   "source": []
  },
  {
   "cell_type": "code",
   "execution_count": null,
   "metadata": {},
   "outputs": [],
   "source": [
    "pars.number_in_population = 20"
   ]
  },
  {
   "cell_type": "code",
   "execution_count": null,
   "metadata": {},
   "outputs": [],
   "source": [
    "def test_number_in_population():\n",
    "    times_for_population_no = []\n",
    "    for i in range(10):\n",
    "        pars.number_in_population = float(i) / 5.0\n",
    "        times_for_population_no.append(test_genetic(10,prob,pars,0.1))   \n",
    "    plt.xlabel(\"Iterations\")\n",
    "    plt.ylabel(\"Best Score - Times for Population Numbers\")\n",
    "    plt.title(\"Genetic Algorithm\")\n",
    "    plt.plot(times_for_population_no)\n",
    "    print(\"Cost {} Chromosome {}\".format(best_solution.cost,best_solution.chromosome))"
   ]
  },
  {
   "cell_type": "code",
   "execution_count": null,
   "metadata": {},
   "outputs": [],
   "source": [
    "test_number_in_population()"
   ]
  },
  {
   "cell_type": "markdown",
   "metadata": {},
   "source": []
  },
  {
   "cell_type": "code",
   "execution_count": null,
   "metadata": {},
   "outputs": [],
   "source": []
  },
  {
   "cell_type": "code",
   "execution_count": null,
   "metadata": {},
   "outputs": [],
   "source": [
    "final_pop[0].chromosome"
   ]
  },
  {
   "cell_type": "code",
   "execution_count": null,
   "metadata": {},
   "outputs": [],
   "source": [
    "q = parameters()"
   ]
  },
  {
   "cell_type": "code",
   "execution_count": null,
   "metadata": {},
   "outputs": [],
   "source": [
    "pop = run_genetic(p1, q, 0.0001)"
   ]
  },
  {
   "cell_type": "code",
   "execution_count": null,
   "metadata": {},
   "outputs": [],
   "source": [
    "pop, best_soln = run_genetic(p1,q,0.0001)"
   ]
  },
  {
   "cell_type": "code",
   "execution_count": null,
   "metadata": {},
   "outputs": [],
   "source": [
    "pop[5].chromosome"
   ]
  },
  {
   "cell_type": "code",
   "execution_count": null,
   "metadata": {},
   "outputs": [],
   "source": [
    "best_soln.chromosome"
   ]
  },
  {
   "cell_type": "code",
   "execution_count": null,
   "metadata": {},
   "outputs": [],
   "source": [
    "plt.plot(best_solution.chromosome)"
   ]
  },
  {
   "cell_type": "code",
   "execution_count": null,
   "metadata": {},
   "outputs": [],
   "source": []
  },
  {
   "cell_type": "code",
   "execution_count": null,
   "metadata": {},
   "outputs": [],
   "source": []
  },
  {
   "cell_type": "code",
   "execution_count": null,
   "metadata": {},
   "outputs": [],
   "source": [
    "def run_genetic_alt(problem, parameters, max_error):\n",
    "    \n",
    "    #read problem\n",
    "    #Fitness Function\n",
    "    cost_function = problem.cost_function\n",
    "    \n",
    "    #read parameters\n",
    "    number_in_population = parameters.number_in_population\n",
    "    number_of_iterations = parameters.number_of_iterations\n",
    "    number_of_children = parameters.number_of_children\n",
    "    explore_rate = parameters.explore_rate\n",
    "    mutation_rate = parameters.mutation_rate\n",
    "    mutation_range = parameters.mutation_range\n",
    "    \n",
    "    #placeholder for best solution\n",
    "    best_solution = deepcopy(individual())\n",
    "    best_solution.cost = np.infty\n",
    "    \n",
    "    # Placeholder for best cost at each iteration\n",
    "    best_costs = []\n",
    "    \n",
    "    population = []\n",
    "    \n",
    "    #initialize population for the above problem. i.e. generate random individuals\n",
    "    for i in range(number_in_population):\n",
    "        new_individual = individual(problem)\n",
    "        population.append(new_individual)\n",
    "        if new_individual.cost < best_solution.cost:#Cost = Fitness\n",
    "            best_solution = deepcopy(new_individual)\n",
    "            \n",
    "    for iteration in range(number_of_iterations):      \n",
    "        # generate a new population of children\n",
    "        children = []\n",
    "        \n",
    "        # How Many Children\n",
    "        while len(children) < number_of_children:\n",
    "            \n",
    "        # Select 2 Parents\n",
    "            parent1_index, parent2_index = choose_distinct_pair_from(number_in_population)\n",
    "            parent_1 = population[parent1_index]\n",
    "            parent_2 = population[parent2_index]\n",
    "            \n",
    "        # Use crossover to produce 2 children\n",
    "            child_1,child_2 = parent_1.crossover(parent_2, explore_rate)\n",
    "            \n",
    "        # Mutate these children\n",
    "            child_1.mutate(mutation_rate, mutation_range)\n",
    "            child_2.mutate(mutation_rate, mutation_range)\n",
    "            \n",
    "        # calculate costs (Fitness) for these children\n",
    "            child_1.cost = cost_function(child_1.chromosome)\n",
    "            child_2.cost = cost_function(child_2.chromosome)\n",
    "                \n",
    "        # add to the children population\n",
    "            children.append(child_1)\n",
    "            children.append(child_2)\n",
    "            \n",
    "        #merge parent and child populations    \n",
    "        population += children\n",
    "        \n",
    "        #Sort into ascending order of cost\n",
    "        population = sorted(population, key = lambda x: x.cost)\n",
    "        \n",
    "        #Select population next iteration\n",
    "        population = population[0:number_in_population]\n",
    "        \n",
    "        #update best solution - Fitness\n",
    "        if population[0].cost < best_solution.cost:\n",
    "            best_solution = deepcopy(population[0])\n",
    "            \n",
    "        #print iteration results\n",
    "        #print(\"Iteration/Generation {} Cost/Fitness {}\".format(iteration, best_solution.cost))\n",
    "        #best_costs.append(best_solution.cost)\n",
    "        #output results ?? class/struct/ best solution/ population?\n",
    "        if best_solution.cost < max_error:\n",
    "            #print(\"Stopped at {} Iterations\".format(iteration))\n",
    "            break\n",
    "            \n",
    "    #plt.semilogy(best_costs)\n",
    "    #plt.xlabel(\"Iterations\")\n",
    "    #plt.ylabel(\"Best Cost\")\n",
    "    #plt.title(\"Genetic Algorithm \\n\" + parameters.to_string())\n",
    "    #print(\"Solution Score {}\".format(best_solution.chromosome))\n",
    "    return population, best_solution      "
   ]
  },
  {
   "cell_type": "code",
   "execution_count": null,
   "metadata": {},
   "outputs": [],
   "source": []
  },
  {
   "cell_type": "code",
   "execution_count": null,
   "metadata": {},
   "outputs": [],
   "source": []
  },
  {
   "cell_type": "code",
   "execution_count": null,
   "metadata": {},
   "outputs": [],
   "source": []
  },
  {
   "cell_type": "code",
   "execution_count": null,
   "metadata": {},
   "outputs": [],
   "source": []
  },
  {
   "cell_type": "code",
   "execution_count": null,
   "metadata": {},
   "outputs": [],
   "source": []
  }
 ],
 "metadata": {
  "kernelspec": {
   "display_name": "Python 3",
   "language": "python",
   "name": "python3"
  },
  "language_info": {
   "codemirror_mode": {
    "name": "ipython",
    "version": 3
   },
   "file_extension": ".py",
   "mimetype": "text/x-python",
   "name": "python",
   "nbconvert_exporter": "python",
   "pygments_lexer": "ipython3",
   "version": "3.7.4"
  }
 },
 "nbformat": 4,
 "nbformat_minor": 2
}
