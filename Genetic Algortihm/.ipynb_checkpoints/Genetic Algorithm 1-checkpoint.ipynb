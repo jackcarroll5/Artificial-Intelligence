{
 "cells": [
  {
   "cell_type": "code",
   "execution_count": 1,
   "metadata": {},
   "outputs": [],
   "source": [
    "#imports here\n",
    "import numpy as np\n",
    "import matplotlib.pyplot as plt\n",
    "from copy import deepcopy\n",
    "import time"
   ]
  },
  {
   "cell_type": "code",
   "execution_count": 2,
   "metadata": {},
   "outputs": [],
   "source": [
    "x = np.array([0.03, 9.34, 0.12])"
   ]
  },
  {
   "cell_type": "code",
   "execution_count": 3,
   "metadata": {},
   "outputs": [],
   "source": [
    "#Test Function\n",
    "def sphere_function(x):\n",
    "    return sum((x**2 - 2*x - 4)**2)"
   ]
  },
  {
   "cell_type": "code",
   "execution_count": 4,
   "metadata": {},
   "outputs": [
    {
     "data": {
      "text/plain": [
       "4201.75747953"
      ]
     },
     "execution_count": 4,
     "metadata": {},
     "output_type": "execute_result"
    }
   ],
   "source": [
    "sphere_function(x)"
   ]
  },
  {
   "cell_type": "code",
   "execution_count": 5,
   "metadata": {},
   "outputs": [],
   "source": [
    "# Problem to be defined here as a class (or struct) struct = Structure\n",
    "class problem:\n",
    "        \n",
    "        def __init__(self):\n",
    "\n",
    "        # Cost Function\n",
    "          self.cost_function = sphere_function\n",
    "\n",
    "        # Number of genes (Variables in individual)\n",
    "          self.number_of_genes = 5\n",
    "\n",
    "        # Max Gene Value\n",
    "          self.maximum_value = 10\n",
    "\n",
    "        # Min Gene Value\n",
    "          self.minimum_value = -10"
   ]
  },
  {
   "cell_type": "code",
   "execution_count": 6,
   "metadata": {},
   "outputs": [],
   "source": [
    "p1 = problem()"
   ]
  },
  {
   "cell_type": "code",
   "execution_count": 7,
   "metadata": {},
   "outputs": [
    {
     "data": {
      "text/plain": [
       "-10"
      ]
     },
     "execution_count": 7,
     "metadata": {},
     "output_type": "execute_result"
    }
   ],
   "source": [
    "p1.minimum_value"
   ]
  },
  {
   "cell_type": "code",
   "execution_count": 8,
   "metadata": {},
   "outputs": [
    {
     "data": {
      "text/plain": [
       "10"
      ]
     },
     "execution_count": 8,
     "metadata": {},
     "output_type": "execute_result"
    }
   ],
   "source": [
    "p1.maximum_value"
   ]
  },
  {
   "cell_type": "code",
   "execution_count": 9,
   "metadata": {},
   "outputs": [
    {
     "data": {
      "text/plain": [
       "5"
      ]
     },
     "execution_count": 9,
     "metadata": {},
     "output_type": "execute_result"
    }
   ],
   "source": [
    "p1.number_of_genes"
   ]
  },
  {
   "cell_type": "code",
   "execution_count": 10,
   "metadata": {},
   "outputs": [],
   "source": [
    "#Genetic Algorithm parameters here as class or struct\n",
    "class parameters():\n",
    "    def __init__(self):\n",
    "               \n",
    "        # Number of iterations of genetic algorithm\n",
    "            self.number_of_iterations = 100\n",
    "        \n",
    "        # Number of individuals in population\n",
    "            self.number_in_population = 50\n",
    "          \n",
    "        # Rate of new children per iteration\n",
    "            self.child_rate = 1\n",
    "            \n",
    "        # Number of children    \n",
    "            self.number_of_children = self.number_in_population * self.child_rate\n",
    "            \n",
    "         # Exploration rate (Gamma)   \n",
    "            self.explore_rate = 0.1\n",
    "          \n",
    "         # Mutation rate - Probability that individual gene will be mutated\n",
    "            self.mutation_rate = 0.2\n",
    "        \n",
    "        # Mutation Range - Determines the amount an individual gene will change\n",
    "            self.mutation_range = 0.1\n",
    "            \n",
    "    def to_string(self):\n",
    "        return \"Iterations/Generations {} Population {} Children No {} Child Rate {} Explore Rate {} Mutation Rate {} Mutation Range {}\".format(self.number_of_iterations,self.number_in_population,self.number_of_children,self.child_rate,self.explore_rate,self.mutation_rate,self.mutation_range)"
   ]
  },
  {
   "cell_type": "code",
   "execution_count": 11,
   "metadata": {},
   "outputs": [],
   "source": [
    "# Structure for individual of population as class or struct\n",
    "class individual:\n",
    "    \n",
    "    # Genotype or Chromosome\n",
    "        chromosome = None\n",
    "        \n",
    "    # Cost for individual\n",
    "        cost = 0\n",
    "        \n",
    "    # Constructor(s)     \n",
    "        # if problem is passed as parameter to constructor, a random individual is generated\n",
    "    #   https://docs.python.org/3/glossary.html#term-argument\n",
    "        def __init__(self,problem = None):\n",
    "               \n",
    "            if problem is not None:\n",
    "                self.chromosome = np.random.uniform(problem.minimum_value,problem.maximum_value,problem.number_of_genes)\n",
    "                self.cost = problem.cost_function(self.chromosome)#Fitness\n",
    "    \n",
    "    # Crossover with another indivdual method\n",
    "        def crossover(self,other_individual,explore_rate):\n",
    "            child1 = deepcopy(self)\n",
    "            child2 = deepcopy(other_individual)\n",
    "            \n",
    "            # Individual alpha for each child\n",
    "            # Shape of chromosome (returns 5)\n",
    "            alpha = np.random.uniform(-explore_rate, 1 + explore_rate, child1.chromosome.shape)\n",
    "            child1.chromosome = alpha * self.chromosome + (1 - alpha) * other_individual.chromosome\n",
    "            child2.chromosome = alpha * other_individual.chromosome + (1 - alpha) * self.chromosome\n",
    "            return child1,child2\n",
    "        \n",
    "    # Mutate method\n",
    "        def mutate(self,rate,range_of_change):\n",
    "            for i in range(len(self.chromosome)):\n",
    "                if np.random.rand() < rate:\n",
    "                    # Normal Distribution\n",
    "                    self.chromosome[i] += np.random.randn() * range_of_change\n"
   ]
  },
  {
   "cell_type": "code",
   "execution_count": 12,
   "metadata": {},
   "outputs": [],
   "source": [
    "i = individual(p1)"
   ]
  },
  {
   "cell_type": "code",
   "execution_count": 13,
   "metadata": {},
   "outputs": [],
   "source": [
    "j = individual(p1)"
   ]
  },
  {
   "cell_type": "code",
   "execution_count": 14,
   "metadata": {},
   "outputs": [],
   "source": [
    "c1,c2 = i.crossover(j,0.1)"
   ]
  },
  {
   "cell_type": "code",
   "execution_count": 83,
   "metadata": {},
   "outputs": [
    {
     "data": {
      "text/plain": [
       "(2484.1983929147314, 4628.151722328197)"
      ]
     },
     "execution_count": 83,
     "metadata": {},
     "output_type": "execute_result"
    }
   ],
   "source": [
    "c1.cost,c2.cost"
   ]
  },
  {
   "cell_type": "code",
   "execution_count": 16,
   "metadata": {},
   "outputs": [
    {
     "data": {
      "text/plain": [
       "array([ 7.2987728 ,  6.04568406,  6.85031557, -1.31523407, -1.8286302 ])"
      ]
     },
     "execution_count": 16,
     "metadata": {},
     "output_type": "execute_result"
    }
   ],
   "source": [
    "i.chromosome"
   ]
  },
  {
   "cell_type": "code",
   "execution_count": 17,
   "metadata": {},
   "outputs": [
    {
     "data": {
      "text/plain": [
       "array([-4.52827284,  7.27916992, -6.58103076, -2.29440554,  2.90418481])"
      ]
     },
     "execution_count": 17,
     "metadata": {},
     "output_type": "execute_result"
    }
   ],
   "source": [
    "j.chromosome"
   ]
  },
  {
   "cell_type": "code",
   "execution_count": 18,
   "metadata": {},
   "outputs": [
    {
     "data": {
      "text/plain": [
       "5"
      ]
     },
     "execution_count": 18,
     "metadata": {},
     "output_type": "execute_result"
    }
   ],
   "source": [
    "len(c1.chromosome)"
   ]
  },
  {
   "cell_type": "code",
   "execution_count": 19,
   "metadata": {},
   "outputs": [],
   "source": [
    "def choose_distinct_pair_from(population_size):\n",
    "    index1 = np.random.randint(population_size)\n",
    "    index2 = np.random.randint(population_size)\n",
    "    \n",
    "    if index1 == index2:\n",
    "        return choose_distinct_pair_from(population_size)\n",
    "    else:\n",
    "        return index1,index2"
   ]
  },
  {
   "cell_type": "code",
   "execution_count": null,
   "metadata": {},
   "outputs": [],
   "source": [
    "t = \"R \"\n",
    "q = \"w\""
   ]
  },
  {
   "cell_type": "code",
   "execution_count": null,
   "metadata": {},
   "outputs": [],
   "source": [
    "if \"Rob Sheehy\" < \"rob sheehy\":\n",
    "    print(\"hello\")"
   ]
  },
  {
   "cell_type": "code",
   "execution_count": 20,
   "metadata": {},
   "outputs": [
    {
     "data": {
      "text/plain": [
       "(2, 1)"
      ]
     },
     "execution_count": 20,
     "metadata": {},
     "output_type": "execute_result"
    }
   ],
   "source": [
    "choose_distinct_pair_from(3)"
   ]
  },
  {
   "cell_type": "code",
   "execution_count": 21,
   "metadata": {},
   "outputs": [
    {
     "data": {
      "text/plain": [
       "2484.1983929147314"
      ]
     },
     "execution_count": 21,
     "metadata": {},
     "output_type": "execute_result"
    }
   ],
   "source": [
    "i.cost"
   ]
  },
  {
   "cell_type": "code",
   "execution_count": 22,
   "metadata": {},
   "outputs": [
    {
     "data": {
      "text/plain": [
       "4628.151722328197"
      ]
     },
     "execution_count": 22,
     "metadata": {},
     "output_type": "execute_result"
    }
   ],
   "source": [
    "j.cost"
   ]
  },
  {
   "cell_type": "code",
   "execution_count": 23,
   "metadata": {},
   "outputs": [
    {
     "data": {
      "text/plain": [
       "array([ 1.96930625, -1.625224  ,  1.96617825, -0.29077987,  1.56306196])"
      ]
     },
     "execution_count": 23,
     "metadata": {},
     "output_type": "execute_result"
    }
   ],
   "source": [
    "np.random.uniform(-2,2,5)"
   ]
  },
  {
   "cell_type": "code",
   "execution_count": 24,
   "metadata": {},
   "outputs": [
    {
     "data": {
      "text/plain": [
       "range(0, 9)"
      ]
     },
     "execution_count": 24,
     "metadata": {},
     "output_type": "execute_result"
    }
   ],
   "source": [
    "range(0,9)"
   ]
  },
  {
   "cell_type": "code",
   "execution_count": 25,
   "metadata": {},
   "outputs": [],
   "source": [
    "def run_genetic(problem, parameters, max_error):\n",
    "    \n",
    "    #read problem\n",
    "    #Fitness Function\n",
    "    cost_function = problem.cost_function\n",
    "    \n",
    "    #read parameters\n",
    "    number_in_population = parameters.number_in_population\n",
    "    number_of_iterations = parameters.number_of_iterations\n",
    "    number_of_children = parameters.number_of_children\n",
    "    explore_rate = parameters.explore_rate\n",
    "    mutation_rate = parameters.mutation_rate\n",
    "    mutation_range = parameters.mutation_range\n",
    "    \n",
    "    #placeholder for best solution\n",
    "    best_solution = deepcopy(individual())\n",
    "    best_solution.cost = np.infty\n",
    "    \n",
    "    # Placeholder for best cost at each iteration\n",
    "    #best_costs = []\n",
    "    \n",
    "    population = []\n",
    "    \n",
    "    #initialize population for the above problem. i.e. generate random individuals\n",
    "    for i in range(number_in_population):\n",
    "        new_individual = individual(problem)\n",
    "        population.append(new_individual)\n",
    "        if new_individual.cost < best_solution.cost:#Cost = Fitness\n",
    "            best_solution = deepcopy(new_individual)\n",
    "            \n",
    "    for iteration in range(number_of_iterations):      \n",
    "        # generate a new population of children\n",
    "        children = []\n",
    "        \n",
    "        # How Many Children\n",
    "        while len(children) < number_of_children:\n",
    "            \n",
    "        # Select 2 Parents\n",
    "            parent1_index, parent2_index = choose_distinct_pair_from(number_in_population)\n",
    "            parent_1 = population[parent1_index]\n",
    "            parent_2 = population[parent2_index]\n",
    "            #print(\"Parent 1 {} Parent 2 {}\".format(parent_1,parent_2))\n",
    "            \n",
    "        # Use crossover to produce 2 children\n",
    "            child_1,child_2 = parent_1.crossover(parent_2, explore_rate)\n",
    "            \n",
    "        # Mutate these children\n",
    "            child_1.mutate(mutation_rate, mutation_range)\n",
    "            child_2.mutate(mutation_rate, mutation_range)\n",
    "            \n",
    "        # calculate costs (Fitness) for these children\n",
    "            child_1.cost = cost_function(child_1.chromosome)\n",
    "            child_2.cost = cost_function(child_2.chromosome)\n",
    "            #print(\"Child 1 Cost {} Child 2 Cost {}\".format(child_1.cost,child_2.cost))\n",
    "                \n",
    "        # add to the children population\n",
    "            children.append(child_1)\n",
    "            children.append(child_2)\n",
    "            \n",
    "        #merge parent and child populations    \n",
    "        population += children\n",
    "        \n",
    "        #Sort into ascending order of cost\n",
    "        population = sorted(population,key = lambda x: x.cost)#List of individuals\n",
    "        \n",
    "        #Select population next iteration\n",
    "        population = population[0:number_in_population]\n",
    "        \n",
    "        #update best solution - Fitness\n",
    "        if population[0].cost < best_solution.cost:\n",
    "            best_solution = deepcopy(population[0])\n",
    "            \n",
    "        #print iteration results\n",
    "        #print(\"Iteration/Generation {} \\nBest Cost/Fitness {} \\nBest Cost Chromosome {} \\n\".format(iteration,best_solution.cost,best_solution.chromosome))\n",
    "        #best_costs.append(best_solution.cost)\n",
    "        #output results ?? class/struct/ best solution/ population?\n",
    "        if best_solution.cost < max_error:\n",
    "            #print(\"\\nStopped at {} Iterations\".format(iteration))\n",
    "            break\n",
    "            \n",
    "    #plt.semilogy(best_costs)\n",
    "    #plt.xlabel(\"Iterations\")\n",
    "    #plt.ylabel(\"Best Cost\")\n",
    "    #plt.title(\"Genetic Algorithm \\n\" + parameters.to_string())\n",
    "    #print(\"Solution Score {}\".format(best_solution.chromosome))\n",
    "    return population, best_solution      "
   ]
  },
  {
   "cell_type": "code",
   "execution_count": 26,
   "metadata": {},
   "outputs": [],
   "source": [
    "prob = problem()"
   ]
  },
  {
   "cell_type": "code",
   "execution_count": 27,
   "metadata": {},
   "outputs": [],
   "source": [
    "pars = parameters()"
   ]
  },
  {
   "cell_type": "code",
   "execution_count": 28,
   "metadata": {},
   "outputs": [
    {
     "data": {
      "text/plain": [
       "'Iterations/Generations 100 Population 50 Children No 50 Child Rate 1 Explore Rate 0.1 Mutation Rate 0.2 Mutation Range 0.1'"
      ]
     },
     "execution_count": 28,
     "metadata": {},
     "output_type": "execute_result"
    }
   ],
   "source": [
    "pars.to_string()"
   ]
  },
  {
   "cell_type": "code",
   "execution_count": 29,
   "metadata": {},
   "outputs": [],
   "source": [
    "final_pop, best_solution = run_genetic(prob,pars,0.1)"
   ]
  },
  {
   "cell_type": "code",
   "execution_count": 30,
   "metadata": {},
   "outputs": [
    {
     "data": {
      "text/plain": [
       "array([ 3.2069152 ,  3.21926693, -1.26891329, -1.21659282,  3.2647649 ])"
      ]
     },
     "execution_count": 30,
     "metadata": {},
     "output_type": "execute_result"
    }
   ],
   "source": [
    "best_solution.chromosome"
   ]
  },
  {
   "cell_type": "code",
   "execution_count": 31,
   "metadata": {},
   "outputs": [
    {
     "data": {
      "text/plain": [
       "0.06847638560643593"
      ]
     },
     "execution_count": 31,
     "metadata": {},
     "output_type": "execute_result"
    }
   ],
   "source": [
    "best_solution.cost"
   ]
  },
  {
   "cell_type": "code",
   "execution_count": 97,
   "metadata": {},
   "outputs": [
    {
     "data": {
      "text/plain": [
       "0.11010224035224868"
      ]
     },
     "execution_count": 97,
     "metadata": {},
     "output_type": "execute_result"
    }
   ],
   "source": [
    "final_pop[1].cost"
   ]
  },
  {
   "cell_type": "code",
   "execution_count": 32,
   "metadata": {},
   "outputs": [],
   "source": [
    "def test_genetic(number_of_runs,problem,parameters,max_error):\n",
    "    start_time = time.perf_counter()\n",
    "    for i in range(number_of_runs):\n",
    "        run_genetic(problem,parameters,max_error)\n",
    "    return time.perf_counter() - start_time"
   ]
  },
  {
   "cell_type": "code",
   "execution_count": 33,
   "metadata": {},
   "outputs": [
    {
     "data": {
      "text/plain": [
       "32.83561230000001"
      ]
     },
     "execution_count": 33,
     "metadata": {},
     "output_type": "execute_result"
    }
   ],
   "source": [
    "test_genetic(100,prob,pars,0.0001)"
   ]
  },
  {
   "cell_type": "markdown",
   "metadata": {},
   "source": [
    "<h3>The code above shows the time taken for the algorithm to complete when the number of runs is 100 which uses the original parameters at the start of the notebook in the parameters class. The time takes longer when the number of runs is higher as it goes through the algorithm 100 times to show the best solution for the algortihm. That can be tweaked to search for the perfect optimal solution. The error rate here is 0.0001 which shows that the risk of an error is quite low for forming an optimal solution. Once a best solution cost goes below the error rate, the algorithm finishes if it is just one run of the algorithm or 50. The number of iterations in the parameters class is set at 100 anyway where the half of the entire population is basically children.<h3>"
   ]
  },
  {
   "cell_type": "code",
   "execution_count": 34,
   "metadata": {},
   "outputs": [
    {
     "data": {
      "text/plain": [
       "2.5376198000000016"
      ]
     },
     "execution_count": 34,
     "metadata": {},
     "output_type": "execute_result"
    }
   ],
   "source": [
    "test_genetic(10,prob,pars,0.0001)"
   ]
  },
  {
   "cell_type": "markdown",
   "metadata": {},
   "source": [
    "<h3>The code above shows the time taken for the algorithm to complete when the number of runs is 10 that uses the original parameters at the start of the notebook in the parameters class. The time taken to complete this test is shorter as the number of runs is less than the first test where the genetic algortihm is carried out 100 times. With the number of children set at 50 which is half of the population where the population number is set at 100, this allows the genetic algorithm to run quite quickly. The low mutation rate which would be changed to a higher rate quickly directly impacts the time of the test shown above where the tests for both mutation rate iterations of 10 and 100 are quicker than the two tests for the orignal parameters shown above as a low mutation rate reduces the variety of the genes for the algorithm where the process actually occurs quicker when the average time of the algorithm for 100 iterations is put into play in the test for timing the runs of the algorithm using the updated mutation rate of 0.3 later on in the tests.<h3>"
   ]
  },
  {
   "cell_type": "markdown",
   "metadata": {},
   "source": [
    "<h2>------------------------------------------------------------------------------------------<h2>"
   ]
  },
  {
   "cell_type": "markdown",
   "metadata": {},
   "source": [
    "<h1>Testing out explore rate for the first time with a value of 0.1 along with the default parameters shown at the start of the notebook in the parameters class.<h1>"
   ]
  },
  {
   "cell_type": "code",
   "execution_count": 35,
   "metadata": {},
   "outputs": [],
   "source": [
    "def test_explore():\n",
    "    times_for_explore_rate = []\n",
    "    for i in range(10):\n",
    "        #pars.explore_rate = float(i) / 5.0\n",
    "        times_for_explore_rate.append(test_genetic(10,prob,pars,0.1))\n",
    "        print(\"Iteration {} \\nTime for Explore Rate {}\\n\".format(i,pars.explore_rate,times_for_explore_rate))\n",
    "        print()\n",
    "    plt.xlabel(\"Iterations\")\n",
    "    plt.ylabel(\"Times for Explore Rate\")\n",
    "    plt.title(\"Genetic Algorithm\")\n",
    "    plt.plot(times_for_explore_rate)\n",
    "    print(\"\\nTimes test for all original parameters - 10 runs {}\".format(times_for_explore_rate))\n",
    "    print(\"\\nBest Cost {} Best Chromosome {}\".format(best_solution.cost,best_solution.chromosome))"
   ]
  },
  {
   "cell_type": "code",
   "execution_count": 36,
   "metadata": {
    "scrolled": false
   },
   "outputs": [
    {
     "name": "stdout",
     "output_type": "stream",
     "text": [
      "Iteration 0 \n",
      "Time for Explore Rate 0.1\n",
      "\n",
      "\n",
      "Iteration 1 \n",
      "Time for Explore Rate 0.1\n",
      "\n",
      "\n",
      "Iteration 2 \n",
      "Time for Explore Rate 0.1\n",
      "\n",
      "\n",
      "Iteration 3 \n",
      "Time for Explore Rate 0.1\n",
      "\n",
      "\n",
      "Iteration 4 \n",
      "Time for Explore Rate 0.1\n",
      "\n",
      "\n",
      "Iteration 5 \n",
      "Time for Explore Rate 0.1\n",
      "\n",
      "\n",
      "Iteration 6 \n",
      "Time for Explore Rate 0.1\n",
      "\n",
      "\n",
      "Iteration 7 \n",
      "Time for Explore Rate 0.1\n",
      "\n",
      "\n",
      "Iteration 8 \n",
      "Time for Explore Rate 0.1\n",
      "\n",
      "\n",
      "Iteration 9 \n",
      "Time for Explore Rate 0.1\n",
      "\n",
      "\n",
      "\n",
      "Times test for all original parameters - 10 runs [1.2396831999999876, 1.3164361999999983, 1.1051830999999908, 1.253745699999996, 1.0678549999999944, 1.003347699999992, 1.6409981999999985, 1.7318595999999928, 2.1508961000000113, 2.1997266000000053]\n",
      "\n",
      "Best Cost 0.06847638560643593 Best Chromosome [ 3.2069152   3.21926693 -1.26891329 -1.21659282  3.2647649 ]\n"
     ]
    },
    {
     "data": {
      "image/png": "[encoded data removed]",
      "text/plain": [
       "<Figure size 432x288 with 1 Axes>"
      ]
     },
     "metadata": {
      "needs_background": "light"
     },
     "output_type": "display_data"
    }
   ],
   "source": [
    "test_explore()"
   ]
  },
  {
   "cell_type": "markdown",
   "metadata": {},
   "source": [
    "<h3>With this graph, the population size of 50 is used here where an explore rate of 0.1 is utilized that runs across 10 iterations. The mutation rate is 0.2 and the mutation range is 0.1. The explore rate variable where the iteration range is divided by 5 to increase the rate to 1.8 as the iterations progress is left out here as we are seeing how the different times have an impact on the algorithm that is triggered by the parameters to see if the best solution cost can be reached. The number of iterations used for the algorithm is 10 in this test. The best solution score of the algorithm in this case can be reached in a quick amount of time early on in the iteration where the graph starts decreasing and increasing after an inital increase of time taken to complete the algorithm. But this rises after reaching the quickest time to perform the algorithm as the iterations progress due to the number of children in the population being 50 which peaks here with the longest time taken to compute the algorithm at the end as the mutation range and rate are low in this first test. The times start to veer up and down later in this test as most of the parameters are quite low for now. The number of children turns out to be 50 here too due to the child rate being 1 in the parameters class where the explore rate time to reach the best solution cost just below the error rate is quick at the start of the algorithm. However, the explore rate seems to have an impact on the efficiency of the algorithm as time progresses as the iteration is repeated multiple times where a higher best solution cost seems to be reached as the test progresses which veers further away from the actual best solution cost which would be lower.<h3>"
   ]
  },
  {
   "cell_type": "markdown",
   "metadata": {},
   "source": [
    "<h3>In these tests, the best solution cost will be shown with the best solution chromosome to compare the graph results with the expected fitness value to try and reach this optimal fitness value and the best chromosome. This would alllow us to see which graph is most efficient with regards to time for the best solution costs of each test to be shown at the end of each test along with the different times taken for each run of the test to be completed.<h3>"
   ]
  },
  {
   "cell_type": "markdown",
   "metadata": {},
   "source": [
    "<h3>The error rate for the graph tests is set at 0.1 for all of the tests where 0.0001 is used for the test_genetic algorithm with regards to the time taken to finish an iteration of the algorithm after the best solution cost goes below the error rate or when the number of iterations has reached its limit of 10 or 100 for example.<h3>"
   ]
  },
  {
   "cell_type": "code",
   "execution_count": 39,
   "metadata": {},
   "outputs": [],
   "source": [
    "def test_explore_alt():\n",
    "    times_for_explore_rate = []\n",
    "    for i in range(100):\n",
    "        #pars.explore_rate = float(i) / 5.0\n",
    "        times_for_explore_rate.append(test_genetic(10,prob,pars,0.1))\n",
    "        print(\"Iteration {} \\nExplore Rate {}\".format(i,pars.explore_rate))\n",
    "        print()\n",
    "    plt.xlabel(\"Iterations\")\n",
    "    plt.ylabel(\"Times for Explore Rate\")\n",
    "    plt.title(\"Genetic Algorithm\")\n",
    "    plt.plot(times_for_explore_rate)\n",
    "    print(\"\\nTimes test for all original parameters - 100 runs {}\".format(times_for_explore_rate))\n",
    "    print(\"\\nBest Cost {} Best Chromosome {}\".format(best_solution.cost,best_solution.chromosome))"
   ]
  },
  {
   "cell_type": "code",
   "execution_count": 40,
   "metadata": {},
   "outputs": [
    {
     "name": "stdout",
     "output_type": "stream",
     "text": [
      "Iteration 0 \n",
      "Explore Rate 0.1\n",
      "\n",
      "Iteration 1 \n",
      "Explore Rate 0.1\n",
      "\n",
      "Iteration 2 \n",
      "Explore Rate 0.1\n",
      "\n",
      "Iteration 3 \n",
      "Explore Rate 0.1\n",
      "\n",
      "Iteration 4 \n",
      "Explore Rate 0.1\n",
      "\n",
      "Iteration 5 \n",
      "Explore Rate 0.1\n",
      "\n",
      "Iteration 6 \n",
      "Explore Rate 0.1\n",
      "\n",
      "Iteration 7 \n",
      "Explore Rate 0.1\n",
      "\n",
      "Iteration 8 \n",
      "Explore Rate 0.1\n",
      "\n",
      "Iteration 9 \n",
      "Explore Rate 0.1\n",
      "\n",
      "Iteration 10 \n",
      "Explore Rate 0.1\n",
      "\n",
      "Iteration 11 \n",
      "Explore Rate 0.1\n",
      "\n",
      "Iteration 12 \n",
      "Explore Rate 0.1\n",
      "\n",
      "Iteration 13 \n",
      "Explore Rate 0.1\n",
      "\n",
      "Iteration 14 \n",
      "Explore Rate 0.1\n",
      "\n",
      "Iteration 15 \n",
      "Explore Rate 0.1\n",
      "\n",
      "Iteration 16 \n",
      "Explore Rate 0.1\n",
      "\n",
      "Iteration 17 \n",
      "Explore Rate 0.1\n",
      "\n",
      "Iteration 18 \n",
      "Explore Rate 0.1\n",
      "\n",
      "Iteration 19 \n",
      "Explore Rate 0.1\n",
      "\n",
      "Iteration 20 \n",
      "Explore Rate 0.1\n",
      "\n",
      "Iteration 21 \n",
      "Explore Rate 0.1\n",
      "\n",
      "Iteration 22 \n",
      "Explore Rate 0.1\n",
      "\n",
      "Iteration 23 \n",
      "Explore Rate 0.1\n",
      "\n",
      "Iteration 24 \n",
      "Explore Rate 0.1\n",
      "\n",
      "Iteration 25 \n",
      "Explore Rate 0.1\n",
      "\n",
      "Iteration 26 \n",
      "Explore Rate 0.1\n",
      "\n",
      "Iteration 27 \n",
      "Explore Rate 0.1\n",
      "\n",
      "Iteration 28 \n",
      "Explore Rate 0.1\n",
      "\n",
      "Iteration 29 \n",
      "Explore Rate 0.1\n",
      "\n",
      "Iteration 30 \n",
      "Explore Rate 0.1\n",
      "\n",
      "Iteration 31 \n",
      "Explore Rate 0.1\n",
      "\n",
      "Iteration 32 \n",
      "Explore Rate 0.1\n",
      "\n",
      "Iteration 33 \n",
      "Explore Rate 0.1\n",
      "\n",
      "Iteration 34 \n",
      "Explore Rate 0.1\n",
      "\n",
      "Iteration 35 \n",
      "Explore Rate 0.1\n",
      "\n",
      "Iteration 36 \n",
      "Explore Rate 0.1\n",
      "\n",
      "Iteration 37 \n",
      "Explore Rate 0.1\n",
      "\n",
      "Iteration 38 \n",
      "Explore Rate 0.1\n",
      "\n",
      "Iteration 39 \n",
      "Explore Rate 0.1\n",
      "\n",
      "Iteration 40 \n",
      "Explore Rate 0.1\n",
      "\n",
      "Iteration 41 \n",
      "Explore Rate 0.1\n",
      "\n",
      "Iteration 42 \n",
      "Explore Rate 0.1\n",
      "\n",
      "Iteration 43 \n",
      "Explore Rate 0.1\n",
      "\n",
      "Iteration 44 \n",
      "Explore Rate 0.1\n",
      "\n",
      "Iteration 45 \n",
      "Explore Rate 0.1\n",
      "\n",
      "Iteration 46 \n",
      "Explore Rate 0.1\n",
      "\n",
      "Iteration 47 \n",
      "Explore Rate 0.1\n",
      "\n",
      "Iteration 48 \n",
      "Explore Rate 0.1\n",
      "\n",
      "Iteration 49 \n",
      "Explore Rate 0.1\n",
      "\n",
      "Iteration 50 \n",
      "Explore Rate 0.1\n",
      "\n",
      "Iteration 51 \n",
      "Explore Rate 0.1\n",
      "\n",
      "Iteration 52 \n",
      "Explore Rate 0.1\n",
      "\n",
      "Iteration 53 \n",
      "Explore Rate 0.1\n",
      "\n",
      "Iteration 54 \n",
      "Explore Rate 0.1\n",
      "\n",
      "Iteration 55 \n",
      "Explore Rate 0.1\n",
      "\n",
      "Iteration 56 \n",
      "Explore Rate 0.1\n",
      "\n",
      "Iteration 57 \n",
      "Explore Rate 0.1\n",
      "\n",
      "Iteration 58 \n",
      "Explore Rate 0.1\n",
      "\n",
      "Iteration 59 \n",
      "Explore Rate 0.1\n",
      "\n",
      "Iteration 60 \n",
      "Explore Rate 0.1\n",
      "\n",
      "Iteration 61 \n",
      "Explore Rate 0.1\n",
      "\n",
      "Iteration 62 \n",
      "Explore Rate 0.1\n",
      "\n",
      "Iteration 63 \n",
      "Explore Rate 0.1\n",
      "\n",
      "Iteration 64 \n",
      "Explore Rate 0.1\n",
      "\n",
      "Iteration 65 \n",
      "Explore Rate 0.1\n",
      "\n",
      "Iteration 66 \n",
      "Explore Rate 0.1\n",
      "\n",
      "Iteration 67 \n",
      "Explore Rate 0.1\n",
      "\n",
      "Iteration 68 \n",
      "Explore Rate 0.1\n",
      "\n",
      "Iteration 69 \n",
      "Explore Rate 0.1\n",
      "\n",
      "Iteration 70 \n",
      "Explore Rate 0.1\n",
      "\n",
      "Iteration 71 \n",
      "Explore Rate 0.1\n",
      "\n",
      "Iteration 72 \n",
      "Explore Rate 0.1\n",
      "\n",
      "Iteration 73 \n",
      "Explore Rate 0.1\n",
      "\n",
      "Iteration 74 \n",
      "Explore Rate 0.1\n",
      "\n",
      "Iteration 75 \n",
      "Explore Rate 0.1\n",
      "\n",
      "Iteration 76 \n",
      "Explore Rate 0.1\n",
      "\n",
      "Iteration 77 \n",
      "Explore Rate 0.1\n",
      "\n",
      "Iteration 78 \n",
      "Explore Rate 0.1\n",
      "\n",
      "Iteration 79 \n",
      "Explore Rate 0.1\n",
      "\n",
      "Iteration 80 \n",
      "Explore Rate 0.1\n",
      "\n",
      "Iteration 81 \n",
      "Explore Rate 0.1\n",
      "\n",
      "Iteration 82 \n",
      "Explore Rate 0.1\n",
      "\n",
      "Iteration 83 \n",
      "Explore Rate 0.1\n",
      "\n",
      "Iteration 84 \n",
      "Explore Rate 0.1\n",
      "\n",
      "Iteration 85 \n",
      "Explore Rate 0.1\n",
      "\n",
      "Iteration 86 \n",
      "Explore Rate 0.1\n",
      "\n",
      "Iteration 87 \n",
      "Explore Rate 0.1\n",
      "\n",
      "Iteration 88 \n",
      "Explore Rate 0.1\n",
      "\n",
      "Iteration 89 \n",
      "Explore Rate 0.1\n",
      "\n",
      "Iteration 90 \n",
      "Explore Rate 0.1\n",
      "\n",
      "Iteration 91 \n",
      "Explore Rate 0.1\n",
      "\n",
      "Iteration 92 \n",
      "Explore Rate 0.1\n",
      "\n",
      "Iteration 93 \n",
      "Explore Rate 0.1\n",
      "\n",
      "Iteration 94 \n",
      "Explore Rate 0.1\n",
      "\n",
      "Iteration 95 \n",
      "Explore Rate 0.1\n",
      "\n",
      "Iteration 96 \n",
      "Explore Rate 0.1\n",
      "\n",
      "Iteration 97 \n",
      "Explore Rate 0.1\n",
      "\n",
      "Iteration 98 \n",
      "Explore Rate 0.1\n",
      "\n",
      "Iteration 99 \n",
      "Explore Rate 0.1\n",
      "\n",
      "\n",
      "Times test for all original parameters - 100 runs [1.8879686999999876, 1.0571512999999868, 1.1342750000000024, 1.834492300000079, 1.7976436999999805, 1.721862500000043, 1.7895631000000094, 1.7331078000000844, 1.8800321999999596, 1.6993309000000636, 1.1689040999999634, 1.0911450999999488, 1.6330238999998983, 1.8950058000000354, 1.540680400000042, 1.7146915000000718, 1.6239704999999276, 1.8758924999999635, 1.1673024000000396, 1.4397493999999824, 1.6871667000000343, 1.5765693000000738, 1.8336387000000514, 1.8347254999999905, 1.5723968999999443, 1.7745476000000053, 1.1247759000000315, 1.1960080999999718, 1.6449052000000393, 2.0232335000000603, 1.9514975999999251, 1.9560904000001074, 1.7749062000000322, 1.1612402000000657, 1.3149400000000924, 1.0430671000000302, 1.4727007000000185, 1.6653559999999743, 2.5558917000000747, 1.9372819000000163, 1.9073257000000012, 1.3569721000000072, 1.0031969000000345, 1.277137400000015, 1.8128424000000223, 1.497404500000016, 1.8123008000000027, 1.6861265000000003, 1.724126100000035, 1.7937903000000688, 1.3315304999999853, 0.9648382999999967, 1.326416800000061, 1.6445734999999786, 1.6207124999999678, 1.7161226999999144, 1.6174243000000388, 1.9396099000000504, 1.4967989000000443, 1.337067100000013, 1.372990800000025, 1.2598279000000048, 1.041325200000074, 1.5689083999999411, 1.9074169000000438, 1.7573261999999659, 1.98824639999998, 1.7056436000000303, 1.3704596000000038, 1.0726029999999582, 1.9041392000000315, 1.9601109999999835, 1.59592269999996, 1.7020100999999386, 1.674049699999955, 2.218875300000036, 1.3695218000000295, 0.9456006000000343, 1.2284385000000384, 1.512220799999909, 2.4081790000000183, 1.9098208999999997, 1.7945256000000427, 1.8316729000000578, 1.1137437000001, 0.9254171999999699, 0.9478334000000359, 1.0042602000000898, 1.2228645999999799, 1.176940400000035, 1.1583378999999923, 1.6450016000000005, 1.5427425999999969, 1.3973138000000063, 1.2468234000000393, 1.3365552000000207, 1.2718495000000303, 1.389792899999975, 1.1813755999999103, 0.9473121999999421]\n",
      "\n",
      "Best Cost 0.06847638560643593 Best Chromosome [ 3.2069152   3.21926693 -1.26891329 -1.21659282  3.2647649 ]\n"
     ]
    },
    {
     "data": {
      "image/png": "[encoded data removed]",
      "text/plain": [
       "<Figure size 432x288 with 1 Axes>"
      ]
     },
     "metadata": {
      "needs_background": "light"
     },
     "output_type": "display_data"
    }
   ],
   "source": [
    "test_explore_alt()"
   ]
  },
  {
   "cell_type": "markdown",
   "metadata": {},
   "source": [
    "<h3>This time, when the algorithm is ran 100 times, the best solution cost is reached quite quickly more frequently than the previous explore rate test with regards to time as the quest towards the optimal solution begins with the switching of the parameters where the first two tests here are based on the original parameters at the beginning of the notebook. The graph increases and decreases as the 100 runs of the algorithm progresses where the algorithm takes longer at times during some of the iterations in the test than the beginning of the test. The times for the completion of each run of the algorithm get higher as the complicated process of mutation, crossover and selection in no particular order occurs. As the number of iterations progresses, the time it takes for the best solution cost to be reached or for the best solution cost of each iteration to reach or get close to the optimal solution is much longer at times than the beginning of the test as the explore rate is low at the beginning of the testing phase and the exploration phase starts to find search spaces for reaching the optimal solution. The shortest time for the algorithm to be completed when the best cost goes below the error rate occurs at the end of the test above. The best cost solution can be seen in the best_solution.cost line as seen earlier in this notebook as well as the best solution chromosome represented by best_solution.chromosome line that is seen early on in this notebook.<h3>"
   ]
  },
  {
   "cell_type": "markdown",
   "metadata": {},
   "source": [
    "<h2>------------------------------------------------------------------------------------------<h2>"
   ]
  },
  {
   "cell_type": "markdown",
   "metadata": {},
   "source": [
    "<h1>Testing out explore rate below multiple times this time with 0.5 instead of 0.1<h1>"
   ]
  },
  {
   "cell_type": "code",
   "execution_count": 41,
   "metadata": {},
   "outputs": [],
   "source": [
    "pars.explore_rate = 0.5"
   ]
  },
  {
   "cell_type": "code",
   "execution_count": 42,
   "metadata": {},
   "outputs": [
    {
     "data": {
      "text/plain": [
       "33.83628220000003"
      ]
     },
     "execution_count": 42,
     "metadata": {},
     "output_type": "execute_result"
    }
   ],
   "source": [
    "test_genetic(100,prob,pars,0.0001)"
   ]
  },
  {
   "cell_type": "markdown",
   "metadata": {},
   "source": [
    "<h3>With the explore rate set at 0.5, the time it takes for 100 runs of the genetic algortihm is slightly quicker than when the explore rate is inputted as 0.1. This shows that a higher explore rate searches the search space as much as possible which would allow for an efficient way to serach for the perfect answer quickly. The exploration is done at the start of the algorithm. This makes it a little easier to find the defining solution despite a chance that an answer can be found more quickly. This test leads to a higher chance of solving the algorithm quickly in multiple iterations to reach the optimal solution in a short time period especially at the start of the testing of the algorithm. Exploration does not work as well in the end where the Gamma rate would reduce the overtime as exploration is meant to build a better estimate to get new knowledge and try the values out. The exploitation would see which value is good locally and uses all prior experience as knowledge.<h3>"
   ]
  },
  {
   "cell_type": "code",
   "execution_count": 43,
   "metadata": {},
   "outputs": [
    {
     "data": {
      "text/plain": [
       "3.0441396999999597"
      ]
     },
     "execution_count": 43,
     "metadata": {},
     "output_type": "execute_result"
    }
   ],
   "source": [
    "test_genetic(10,prob,pars,0.0001)"
   ]
  },
  {
   "cell_type": "markdown",
   "metadata": {},
   "source": [
    "<h3>Unsurprisingly, the time to compute the genetic algorithm across ten runs shown above occurs slower than when the explore rate is set at 0.1 compared to 0.5. The value may be lower than 1 for example for the explore rate but it looks like the target could be reached within the optimal solution answer where the cost would be reached once a best cost solution goes less than the error rate. A higher exploration rate results in a slightly shorter time period to reach the optimal cost or to get as close to the best solution as possible than when the explore rate was set up at 0.1.<h3>"
   ]
  },
  {
   "cell_type": "code",
   "execution_count": 44,
   "metadata": {},
   "outputs": [
    {
     "name": "stdout",
     "output_type": "stream",
     "text": [
      "Iteration 0 \n",
      "Time for Explore Rate 0.5\n",
      "\n",
      "\n",
      "Iteration 1 \n",
      "Time for Explore Rate 0.5\n",
      "\n",
      "\n",
      "Iteration 2 \n",
      "Time for Explore Rate 0.5\n",
      "\n",
      "\n",
      "Iteration 3 \n",
      "Time for Explore Rate 0.5\n",
      "\n",
      "\n",
      "Iteration 4 \n",
      "Time for Explore Rate 0.5\n",
      "\n",
      "\n",
      "Iteration 5 \n",
      "Time for Explore Rate 0.5\n",
      "\n",
      "\n",
      "Iteration 6 \n",
      "Time for Explore Rate 0.5\n",
      "\n",
      "\n",
      "Iteration 7 \n",
      "Time for Explore Rate 0.5\n",
      "\n",
      "\n",
      "Iteration 8 \n",
      "Time for Explore Rate 0.5\n",
      "\n",
      "\n",
      "Iteration 9 \n",
      "Time for Explore Rate 0.5\n",
      "\n",
      "\n",
      "\n",
      "Times test for all original parameters - 10 runs [1.2261412000000291, 1.2883578000000853, 1.311286900000141, 1.2051020000001245, 1.477234400000043, 1.8406439999998838, 1.802956100000074, 2.050167900000133, 1.8387539000000288, 1.056982600000083]\n",
      "\n",
      "Best Cost 0.06847638560643593 Best Chromosome [ 3.2069152   3.21926693 -1.26891329 -1.21659282  3.2647649 ]\n"
     ]
    },
    {
     "data": {
      "image/png": "[encoded data removed]",
      "text/plain": [
       "<Figure size 432x288 with 1 Axes>"
      ]
     },
     "metadata": {
      "needs_background": "light"
     },
     "output_type": "display_data"
    }
   ],
   "source": [
    "test_explore()"
   ]
  },
  {
   "cell_type": "markdown",
   "metadata": {},
   "source": [
    "<h3>This time in the graph above, the population size of 50 is still used here where a different explore rate of 0.5 is utilized that runs across 10 iterations. The mutation rate is also 0.2 and the mutation range is 0.1. The number of iterations used for the algorithm is 20 in this test. The best solution score of the algorithm in this case is reached at an earlier point as the previously set example of 0.1 for the explore rate. The graph starts increasing to reach its optimal solution in a short time space before it decreases briefly and rises again and slides downwards briefly before it rises again. The time taken gets much shorter as the test nears its end with the last few iterations. The list of times can be seen above in the test just before the graph. The last time at the end is quicker at completing the algorithm than the first explore rate test as it proves that a lower explore rate has a better chance of reaching the optimal solution depending on the test that is carried out. The maximum number of generations has been reached here where it goes as far as 10 rather than 100. This shows that a lower explore rate can ensure a better best fitness cost to acquire the optimal solution when the explore rate is lowered quicker at 0.1 which was tested earlier on 10 and 100 runs.<h3>"
   ]
  },
  {
   "cell_type": "markdown",
   "metadata": {},
   "source": [
    "<h3>It seems that when the explore rate is set at 0.5, the graph above for testing out the algorithm 10 times is closest to the mean / normal distribution which would clearly form the optimal solution if this was the case as at the start, a gradual increase occurs and then it peaks almost halfway throgh the test and then it decreases gradually before rising again at the end of the test and getting lower when 10 runs of the iterations occur. This may be the graph with the best parameters where the updated explore rate is set at 0.5 and the other parameters are unchanged.<h3>"
   ]
  },
  {
   "cell_type": "code",
   "execution_count": 45,
   "metadata": {},
   "outputs": [
    {
     "name": "stdout",
     "output_type": "stream",
     "text": [
      "Iteration 0 \n",
      "Explore Rate 0.5\n",
      "\n",
      "Iteration 1 \n",
      "Explore Rate 0.5\n",
      "\n",
      "Iteration 2 \n",
      "Explore Rate 0.5\n",
      "\n",
      "Iteration 3 \n",
      "Explore Rate 0.5\n",
      "\n",
      "Iteration 4 \n",
      "Explore Rate 0.5\n",
      "\n",
      "Iteration 5 \n",
      "Explore Rate 0.5\n",
      "\n",
      "Iteration 6 \n",
      "Explore Rate 0.5\n",
      "\n",
      "Iteration 7 \n",
      "Explore Rate 0.5\n",
      "\n",
      "Iteration 8 \n",
      "Explore Rate 0.5\n",
      "\n",
      "Iteration 9 \n",
      "Explore Rate 0.5\n",
      "\n",
      "Iteration 10 \n",
      "Explore Rate 0.5\n",
      "\n",
      "Iteration 11 \n",
      "Explore Rate 0.5\n",
      "\n",
      "Iteration 12 \n",
      "Explore Rate 0.5\n",
      "\n",
      "Iteration 13 \n",
      "Explore Rate 0.5\n",
      "\n",
      "Iteration 14 \n",
      "Explore Rate 0.5\n",
      "\n",
      "Iteration 15 \n",
      "Explore Rate 0.5\n",
      "\n",
      "Iteration 16 \n",
      "Explore Rate 0.5\n",
      "\n",
      "Iteration 17 \n",
      "Explore Rate 0.5\n",
      "\n",
      "Iteration 18 \n",
      "Explore Rate 0.5\n",
      "\n",
      "Iteration 19 \n",
      "Explore Rate 0.5\n",
      "\n",
      "Iteration 20 \n",
      "Explore Rate 0.5\n",
      "\n",
      "Iteration 21 \n",
      "Explore Rate 0.5\n",
      "\n",
      "Iteration 22 \n",
      "Explore Rate 0.5\n",
      "\n",
      "Iteration 23 \n",
      "Explore Rate 0.5\n",
      "\n",
      "Iteration 24 \n",
      "Explore Rate 0.5\n",
      "\n",
      "Iteration 25 \n",
      "Explore Rate 0.5\n",
      "\n",
      "Iteration 26 \n",
      "Explore Rate 0.5\n",
      "\n",
      "Iteration 27 \n",
      "Explore Rate 0.5\n",
      "\n",
      "Iteration 28 \n",
      "Explore Rate 0.5\n",
      "\n",
      "Iteration 29 \n",
      "Explore Rate 0.5\n",
      "\n",
      "Iteration 30 \n",
      "Explore Rate 0.5\n",
      "\n",
      "Iteration 31 \n",
      "Explore Rate 0.5\n",
      "\n",
      "Iteration 32 \n",
      "Explore Rate 0.5\n",
      "\n",
      "Iteration 33 \n",
      "Explore Rate 0.5\n",
      "\n",
      "Iteration 34 \n",
      "Explore Rate 0.5\n",
      "\n",
      "Iteration 35 \n",
      "Explore Rate 0.5\n",
      "\n",
      "Iteration 36 \n",
      "Explore Rate 0.5\n",
      "\n",
      "Iteration 37 \n",
      "Explore Rate 0.5\n",
      "\n",
      "Iteration 38 \n",
      "Explore Rate 0.5\n",
      "\n",
      "Iteration 39 \n",
      "Explore Rate 0.5\n",
      "\n",
      "Iteration 40 \n",
      "Explore Rate 0.5\n",
      "\n",
      "Iteration 41 \n",
      "Explore Rate 0.5\n",
      "\n",
      "Iteration 42 \n",
      "Explore Rate 0.5\n",
      "\n",
      "Iteration 43 \n",
      "Explore Rate 0.5\n",
      "\n",
      "Iteration 44 \n",
      "Explore Rate 0.5\n",
      "\n",
      "Iteration 45 \n",
      "Explore Rate 0.5\n",
      "\n",
      "Iteration 46 \n",
      "Explore Rate 0.5\n",
      "\n",
      "Iteration 47 \n",
      "Explore Rate 0.5\n",
      "\n",
      "Iteration 48 \n",
      "Explore Rate 0.5\n",
      "\n",
      "Iteration 49 \n",
      "Explore Rate 0.5\n",
      "\n",
      "Iteration 50 \n",
      "Explore Rate 0.5\n",
      "\n",
      "Iteration 51 \n",
      "Explore Rate 0.5\n",
      "\n",
      "Iteration 52 \n",
      "Explore Rate 0.5\n",
      "\n",
      "Iteration 53 \n",
      "Explore Rate 0.5\n",
      "\n",
      "Iteration 54 \n",
      "Explore Rate 0.5\n",
      "\n",
      "Iteration 55 \n",
      "Explore Rate 0.5\n",
      "\n",
      "Iteration 56 \n",
      "Explore Rate 0.5\n",
      "\n",
      "Iteration 57 \n",
      "Explore Rate 0.5\n",
      "\n",
      "Iteration 58 \n",
      "Explore Rate 0.5\n",
      "\n",
      "Iteration 59 \n",
      "Explore Rate 0.5\n",
      "\n",
      "Iteration 60 \n",
      "Explore Rate 0.5\n",
      "\n",
      "Iteration 61 \n",
      "Explore Rate 0.5\n",
      "\n",
      "Iteration 62 \n",
      "Explore Rate 0.5\n",
      "\n",
      "Iteration 63 \n",
      "Explore Rate 0.5\n",
      "\n",
      "Iteration 64 \n",
      "Explore Rate 0.5\n",
      "\n",
      "Iteration 65 \n",
      "Explore Rate 0.5\n",
      "\n",
      "Iteration 66 \n",
      "Explore Rate 0.5\n",
      "\n",
      "Iteration 67 \n",
      "Explore Rate 0.5\n",
      "\n",
      "Iteration 68 \n",
      "Explore Rate 0.5\n",
      "\n",
      "Iteration 69 \n",
      "Explore Rate 0.5\n",
      "\n",
      "Iteration 70 \n",
      "Explore Rate 0.5\n",
      "\n",
      "Iteration 71 \n",
      "Explore Rate 0.5\n",
      "\n",
      "Iteration 72 \n",
      "Explore Rate 0.5\n",
      "\n",
      "Iteration 73 \n",
      "Explore Rate 0.5\n",
      "\n",
      "Iteration 74 \n",
      "Explore Rate 0.5\n",
      "\n",
      "Iteration 75 \n",
      "Explore Rate 0.5\n",
      "\n",
      "Iteration 76 \n",
      "Explore Rate 0.5\n",
      "\n",
      "Iteration 77 \n",
      "Explore Rate 0.5\n",
      "\n",
      "Iteration 78 \n",
      "Explore Rate 0.5\n",
      "\n",
      "Iteration 79 \n",
      "Explore Rate 0.5\n",
      "\n",
      "Iteration 80 \n",
      "Explore Rate 0.5\n",
      "\n",
      "Iteration 81 \n",
      "Explore Rate 0.5\n",
      "\n",
      "Iteration 82 \n",
      "Explore Rate 0.5\n",
      "\n",
      "Iteration 83 \n",
      "Explore Rate 0.5\n",
      "\n",
      "Iteration 84 \n",
      "Explore Rate 0.5\n",
      "\n",
      "Iteration 85 \n",
      "Explore Rate 0.5\n",
      "\n",
      "Iteration 86 \n",
      "Explore Rate 0.5\n",
      "\n",
      "Iteration 87 \n",
      "Explore Rate 0.5\n",
      "\n",
      "Iteration 88 \n",
      "Explore Rate 0.5\n",
      "\n",
      "Iteration 89 \n",
      "Explore Rate 0.5\n",
      "\n",
      "Iteration 90 \n",
      "Explore Rate 0.5\n",
      "\n",
      "Iteration 91 \n",
      "Explore Rate 0.5\n",
      "\n",
      "Iteration 92 \n",
      "Explore Rate 0.5\n",
      "\n",
      "Iteration 93 \n",
      "Explore Rate 0.5\n",
      "\n",
      "Iteration 94 \n",
      "Explore Rate 0.5\n",
      "\n",
      "Iteration 95 \n",
      "Explore Rate 0.5\n",
      "\n",
      "Iteration 96 \n",
      "Explore Rate 0.5\n",
      "\n",
      "Iteration 97 \n",
      "Explore Rate 0.5\n",
      "\n",
      "Iteration 98 \n",
      "Explore Rate 0.5\n",
      "\n",
      "Iteration 99 \n",
      "Explore Rate 0.5\n",
      "\n",
      "\n",
      "Times test for all original parameters - 100 runs [1.2901150000000143, 1.3567875999999615, 1.8194367000000966, 1.6709912999999688, 2.4589154000000235, 2.256637899999987, 1.3998452999999245, 1.396349999999984, 1.1340853000001516, 1.1164985000000343, 1.5036520999999539, 1.8565800999999738, 1.846107700000175, 2.1214202000001023, 2.423942200000056, 1.2207068000000163, 1.4618742000000111, 1.858659100000068, 1.8116574000000583, 2.3140336999999818, 1.96636599999988, 2.1259228999999777, 1.5078710000000228, 1.209333000000015, 1.1369013999999424, 1.8774682999999186, 1.8432662000000164, 1.8528003999999783, 1.8063985999999659, 1.8034559000000172, 1.405997399999933, 1.2002461000001858, 1.7154112999999143, 2.1868647000001147, 1.876347399999986, 1.7633382999999867, 1.9228568000000905, 1.4985741000000417, 1.0821462999999767, 1.6224220999999943, 1.8882041000001664, 2.1796838000000207, 2.0737819999999374, 1.6512921999999435, 1.5373682000001736, 1.3415238999998564, 1.1604756000001544, 1.1703895000000557, 1.6172418000001016, 1.9846522000000277, 1.817844199999854, 2.2639518000000862, 1.978710699999965, 1.664794000000029, 1.5583363999999165, 1.1203085999998166, 1.362463899999966, 1.8319806999998036, 1.8567137000000002, 1.8096036000001732, 2.223003300000073, 1.979752899999994, 1.098450899999989, 1.1834976000000097, 1.7949528000001465, 1.8013266000000385, 1.8677032000000509, 1.8857045999998263, 1.870124899999837, 1.6040792000001147, 1.4990969000000405, 1.0078805000000557, 1.4018114000000423, 1.98275220000005, 1.8603158000000803, 1.888448599999947, 1.9241119999999228, 2.01335690000019, 1.4459260000000995, 1.5370636000000104, 2.1124589000000924, 1.9552633999999216, 1.8896634000000176, 2.154648500000121, 1.3538355999999112, 1.0880781999999272, 1.1775293000000602, 1.9709133999999722, 1.877820100000008, 2.4263750000000073, 1.9318213000001379, 1.730990600000041, 1.419842000000017, 1.171217100000149, 1.200131299999839, 1.3701724000000013, 1.3466882000000169, 1.1922718999999233, 1.1150586999999632, 1.3602612000001955]\n",
      "\n",
      "Best Cost 0.06847638560643593 Best Chromosome [ 3.2069152   3.21926693 -1.26891329 -1.21659282  3.2647649 ]\n"
     ]
    },
    {
     "data": {
      "image/png": "[encoded data removed]",
      "text/plain": [
       "<Figure size 432x288 with 1 Axes>"
      ]
     },
     "metadata": {
      "needs_background": "light"
     },
     "output_type": "display_data"
    }
   ],
   "source": [
    "test_explore_alt()"
   ]
  },
  {
   "cell_type": "markdown",
   "metadata": {},
   "source": [
    "<h3>The time taken to accomplish the genetic algorithm when running the algorithm 100 times is actually shorter here in general than previous tests acccording to this graph but it occurs multiple times as the solution heads under the error rate in short amounts of time thoughout the test when it runs multiple times. At one point, when the solution runs 100 times, the shortest time to get the best cost is reached in short time periods in more iterations than the test using the original explore rate value when the test is performed 100 times compared to 10 times. It shows how the Gamma value determines when the exploitation comes into effect where the exploration is carried out at the start and not the end when exploitation is performed to search for a preferable path that offers rewards immediately when exploiting the opportunistic paths when performing exploration. With exploration here, the entire search space is searched over to find other beneficial solutions to problems that must be edited which is known as a global search.<h3>"
   ]
  },
  {
   "cell_type": "markdown",
   "metadata": {},
   "source": [
    "<h2>------------------------------------------------------------------------------------------<h2>"
   ]
  },
  {
   "cell_type": "markdown",
   "metadata": {},
   "source": [
    "<h1>Testing out number of iterations set at 200 to see what would happen with all of the existing parameters whether original at the start or the values updated later on. (Save this one for last before looking at second part of CA)<h1>"
   ]
  },
  {
   "cell_type": "code",
   "execution_count": 77,
   "metadata": {},
   "outputs": [],
   "source": [
    "pars.number_of_iterations = 200"
   ]
  },
  {
   "cell_type": "code",
   "execution_count": 78,
   "metadata": {},
   "outputs": [
    {
     "data": {
      "text/plain": [
       "'Iterations/Generations 200 Population 100 Children No 200 Child Rate 2 Explore Rate 0.5 Mutation Rate 0.3 Mutation Range 0.2'"
      ]
     },
     "execution_count": 78,
     "metadata": {},
     "output_type": "execute_result"
    }
   ],
   "source": [
    "pars.to_string()"
   ]
  },
  {
   "cell_type": "code",
   "execution_count": 79,
   "metadata": {},
   "outputs": [
    {
     "data": {
      "text/plain": [
       "9.718888700000207"
      ]
     },
     "execution_count": 79,
     "metadata": {},
     "output_type": "execute_result"
    }
   ],
   "source": [
    "test_genetic(10,prob,pars,0.0001)"
   ]
  },
  {
   "cell_type": "markdown",
   "metadata": {},
   "source": [
    "<h3>With a higher number of iterations that is set at 200 when the iteration parameter is changed, it is clear that the time it takes for the genetic algorithm to be completed when both the number of runs are set at 10 and 100 is much longer than the time it takes when 100 iterations are used. The time would be shorter if less iterations were used for the algorithm when the number of runs is put at 10 during the testing of the genetic algorithm. A graph for 200 iterations would take too long to form considering the iterations would be bigger and it would take a longer while to carry out the genetic algorithm than when the iterations is set at 100. An error rate of 0.0001 is used where the running of the algorithm finishes after an iteration of the algorithm finishes with the best solution of that run in an iteration going under the error rate. The graphs would likely display that the average time to complete the iteration when the number of iterations is set at 200 would be fluctuating a lot of the time and it would tak the longest time out of the tests unless the population number was set at a high value like 250 from the original value of 100. The graph for the 10 runs looks nothing like a natural distribution when working out how the times have an impact on which parameters work best to get close to the optimal solution as best as possible. When the cost function is low, the fitness will be high which would confirm the best possible solution.<h3>"
   ]
  },
  {
   "cell_type": "code",
   "execution_count": 80,
   "metadata": {},
   "outputs": [
    {
     "name": "stdout",
     "output_type": "stream",
     "text": [
      "Iteration 0 \n",
      "Time for Explore Rate 0.5\n",
      "\n",
      "\n",
      "Iteration 1 \n",
      "Time for Explore Rate 0.5\n",
      "\n",
      "\n",
      "Iteration 2 \n",
      "Time for Explore Rate 0.5\n",
      "\n",
      "\n",
      "Iteration 3 \n",
      "Time for Explore Rate 0.5\n",
      "\n",
      "\n",
      "Iteration 4 \n",
      "Time for Explore Rate 0.5\n",
      "\n",
      "\n",
      "Iteration 5 \n",
      "Time for Explore Rate 0.5\n",
      "\n",
      "\n",
      "Iteration 6 \n",
      "Time for Explore Rate 0.5\n",
      "\n",
      "\n",
      "Iteration 7 \n",
      "Time for Explore Rate 0.5\n",
      "\n",
      "\n",
      "Iteration 8 \n",
      "Time for Explore Rate 0.5\n",
      "\n",
      "\n",
      "Iteration 9 \n",
      "Time for Explore Rate 0.5\n",
      "\n",
      "\n",
      "\n",
      "Times test for all original parameters - 10 runs [6.070273100000122, 4.3449267999994845, 5.236018100000365, 4.210486599999967, 6.200941000000057, 4.853818499999761, 3.3899697999995624, 5.88106610000068, 4.953987900000357, 4.016424299999926]\n",
      "\n",
      "Best Cost 0.06847638560643593 Best Chromosome [ 3.2069152   3.21926693 -1.26891329 -1.21659282  3.2647649 ]\n"
     ]
    },
    {
     "data": {
      "image/png": "[encoded data removed]",
      "text/plain": [
       "<Figure size 432x288 with 1 Axes>"
      ]
     },
     "metadata": {
      "needs_background": "light"
     },
     "output_type": "display_data"
    }
   ],
   "source": [
    "test_explore()"
   ]
  },
  {
   "cell_type": "markdown",
   "metadata": {},
   "source": [
    "<h2>------------------------------------------------------------------------------------------<h2>"
   ]
  },
  {
   "cell_type": "markdown",
   "metadata": {},
   "source": [
    "<h1>Testing out mutation range below multiple times with 0.2 value combined with explore rate of 0.5 from earlier on.<h1>"
   ]
  },
  {
   "cell_type": "code",
   "execution_count": 46,
   "metadata": {},
   "outputs": [],
   "source": [
    "pars.mutation_range = 0.2"
   ]
  },
  {
   "cell_type": "code",
   "execution_count": 47,
   "metadata": {},
   "outputs": [
    {
     "data": {
      "text/plain": [
       "'Iterations/Generations 100 Population 50 Children No 50 Child Rate 1 Explore Rate 0.5 Mutation Rate 0.2 Mutation Range 0.2'"
      ]
     },
     "execution_count": 47,
     "metadata": {},
     "output_type": "execute_result"
    }
   ],
   "source": [
    "pars.to_string()"
   ]
  },
  {
   "cell_type": "code",
   "execution_count": 48,
   "metadata": {},
   "outputs": [
    {
     "data": {
      "text/plain": [
       "36.35986170000001"
      ]
     },
     "execution_count": 48,
     "metadata": {},
     "output_type": "execute_result"
    }
   ],
   "source": [
    "test_genetic(100,prob,pars,0.0001)"
   ]
  },
  {
   "cell_type": "markdown",
   "metadata": {},
   "source": [
    "<h3>The test for the number of runs is set at 100 where the mutation range is set at 0.2 rather than 0.1. The greater mutation range would allow for determining the amount that the individual gene would change by which in this case would increase the chance of an individual gene changing based on the gene array which contains 5 floating point numbers. The time it takes for the genetic algorithm to last 100 runs here is unsurprisingly higher when the higher mutation range is present as well as the updated explore rate of 0.5.<h3>"
   ]
  },
  {
   "cell_type": "code",
   "execution_count": 49,
   "metadata": {},
   "outputs": [
    {
     "data": {
      "text/plain": [
       "3.6448491000001013"
      ]
     },
     "execution_count": 49,
     "metadata": {},
     "output_type": "execute_result"
    }
   ],
   "source": [
    "test_genetic(10,prob,pars,0.0001)"
   ]
  },
  {
   "cell_type": "markdown",
   "metadata": {},
   "source": [
    "<h3>The time taken for the algortihm to finish is longer than all the tests up to here which involves 10 as the number of runs as the mutation range is 0.1 higher than the initial value when the mutation range was set at 0.1. In this case, the mutation range is set at 0.2 in addition to the updated parameter of the explore rate at 0.5 as mentioned earlier on. This higher exploration and mutation range could bring us further away from the optimal solution during multiple runs of the algorithm when the explore rate is quick at the beginning but it slows down eventually during the later iterations due to the higher best solution costs. However, the time taken with these updated parameters can change depending on the best solution cost reached at the end of every test.<h3>"
   ]
  },
  {
   "cell_type": "code",
   "execution_count": 50,
   "metadata": {},
   "outputs": [],
   "source": [
    "def test_mutation_range():\n",
    "    times_for_mutation_range = []\n",
    "    for i in range(10):\n",
    "        #pars.explore_rate = float(i) / 5.0\n",
    "        times_for_mutation_range.append(test_genetic(10,prob,pars,0.1)) \n",
    "        print(\"Iteration {} \\nMutation Range {}\".format(i,pars.mutation_range))\n",
    "        print()\n",
    "    plt.xlabel(\"Iterations\")\n",
    "    plt.ylabel(\"Times for Mutation Range\")\n",
    "    plt.title(\"Genetic Algorithm\")\n",
    "    plt.plot(times_for_mutation_range)\n",
    "    print(\"\\nTimes test with updated mutation range and explore rate{}\".format(times_for_mutation_range))\n",
    "    print(\"\\nBest Cost {} Best Chromosome {}\".format(best_solution.cost,best_solution.chromosome))"
   ]
  },
  {
   "cell_type": "code",
   "execution_count": 51,
   "metadata": {},
   "outputs": [
    {
     "data": {
      "text/plain": [
       "'Iterations/Generations 100 Population 50 Children No 50 Child Rate 1 Explore Rate 0.5 Mutation Rate 0.2 Mutation Range 0.2'"
      ]
     },
     "execution_count": 51,
     "metadata": {},
     "output_type": "execute_result"
    }
   ],
   "source": [
    "pars.to_string()"
   ]
  },
  {
   "cell_type": "code",
   "execution_count": 52,
   "metadata": {},
   "outputs": [
    {
     "name": "stdout",
     "output_type": "stream",
     "text": [
      "Iteration 0 \n",
      "Mutation Range 0.2\n",
      "\n",
      "Iteration 1 \n",
      "Mutation Range 0.2\n",
      "\n",
      "Iteration 2 \n",
      "Mutation Range 0.2\n",
      "\n",
      "Iteration 3 \n",
      "Mutation Range 0.2\n",
      "\n",
      "Iteration 4 \n",
      "Mutation Range 0.2\n",
      "\n",
      "Iteration 5 \n",
      "Mutation Range 0.2\n",
      "\n",
      "Iteration 6 \n",
      "Mutation Range 0.2\n",
      "\n",
      "Iteration 7 \n",
      "Mutation Range 0.2\n",
      "\n",
      "Iteration 8 \n",
      "Mutation Range 0.2\n",
      "\n",
      "Iteration 9 \n",
      "Mutation Range 0.2\n",
      "\n",
      "\n",
      "Times test with updated mutation range and explore rate[1.7056382000000667, 1.8853979999998955, 1.4212930999997297, 1.33307190000005, 1.6598134999999274, 1.341881899999862, 1.438720000000103, 2.136763200000132, 2.0439940999999635, 1.993189799999982]\n",
      "\n",
      "Best Cost 0.06847638560643593 Best Chromosome [ 3.2069152   3.21926693 -1.26891329 -1.21659282  3.2647649 ]\n"
     ]
    },
    {
     "data": {
      "image/png": "[encoded data removed]",
      "text/plain": [
       "<Figure size 432x288 with 1 Axes>"
      ]
     },
     "metadata": {
      "needs_background": "light"
     },
     "output_type": "display_data"
    }
   ],
   "source": [
    "test_mutation_range()"
   ]
  },
  {
   "cell_type": "markdown",
   "metadata": {},
   "source": [
    "<h3>When the mutation range is changed to 0.2 compared to the original value of 0.1, the graph shows that the time to complete the algorithm for each iteration decreases once the generations of the algorithm begins and the final score in the last iteration turns out to be higher than the starting time at the first iteration. Overall, the average time to complete this test is shorter than testing for the explore rate when the original value of 0.1 was placed in the parameters class. The score peaks later on according to the graph where the range of mutation to determine the amount that an individual gene will change by is higher as the best solution cost is reached in a slow enough amount of time due to the edited parameters of the explore rate and the mutation range. This would result in higher costs for the algorithm in general as the higher the fitness cost, the better the problem will be when attempting to reach the optimal solution. Once the peak occurs at the shortest time to reach the best solution cost or to get close to it, the graph varies from a gradual increase to a gradual decrease and so on occurs as the genes do not exactly vary afterwards where the graph seems to rise in different iterations that represents the mutation range. It basically fluctuates as the offspring is created and emerges from the parents after crossover and mutation are applied. If more iterations were put in, the results could be expanded upon to form the optimal solution when modifying the parameters in the first part. This mutation range value is now edited alongside the explore rate.<h3>"
   ]
  },
  {
   "cell_type": "code",
   "execution_count": 53,
   "metadata": {},
   "outputs": [],
   "source": [
    "def test_mutation_range_alt():\n",
    "    times_for_mutation_range = []\n",
    "    for i in range(100):\n",
    "        #pars.mutation_range = float(i) / 5.0\n",
    "        times_for_mutation_range.append(test_genetic(10,prob,pars,0.1))\n",
    "        print(\"Iteration {} \\nMutation Range {}\".format(i,pars.mutation_range))\n",
    "        print()\n",
    "    plt.xlabel(\"Iterations\")\n",
    "    plt.ylabel(\"Times for Mutation Range\")\n",
    "    plt.title(\"Genetic Algorithm\")\n",
    "    plt.plot(times_for_mutation_range)\n",
    "    print(\"\\nTimes test with updated mutation range {}\".format(times_for_mutation_range))\n",
    "    print(\"\\nBest Cost {} Best Chromosome {}\".format(best_solution.cost,best_solution.chromosome))"
   ]
  },
  {
   "cell_type": "code",
   "execution_count": 54,
   "metadata": {},
   "outputs": [
    {
     "name": "stdout",
     "output_type": "stream",
     "text": [
      "Iteration 0 \n",
      "Mutation Range 0.2\n",
      "\n",
      "Iteration 1 \n",
      "Mutation Range 0.2\n",
      "\n",
      "Iteration 2 \n",
      "Mutation Range 0.2\n",
      "\n",
      "Iteration 3 \n",
      "Mutation Range 0.2\n",
      "\n",
      "Iteration 4 \n",
      "Mutation Range 0.2\n",
      "\n",
      "Iteration 5 \n",
      "Mutation Range 0.2\n",
      "\n",
      "Iteration 6 \n",
      "Mutation Range 0.2\n",
      "\n",
      "Iteration 7 \n",
      "Mutation Range 0.2\n",
      "\n",
      "Iteration 8 \n",
      "Mutation Range 0.2\n",
      "\n",
      "Iteration 9 \n",
      "Mutation Range 0.2\n",
      "\n",
      "Iteration 10 \n",
      "Mutation Range 0.2\n",
      "\n",
      "Iteration 11 \n",
      "Mutation Range 0.2\n",
      "\n",
      "Iteration 12 \n",
      "Mutation Range 0.2\n",
      "\n",
      "Iteration 13 \n",
      "Mutation Range 0.2\n",
      "\n",
      "Iteration 14 \n",
      "Mutation Range 0.2\n",
      "\n",
      "Iteration 15 \n",
      "Mutation Range 0.2\n",
      "\n",
      "Iteration 16 \n",
      "Mutation Range 0.2\n",
      "\n",
      "Iteration 17 \n",
      "Mutation Range 0.2\n",
      "\n",
      "Iteration 18 \n",
      "Mutation Range 0.2\n",
      "\n",
      "Iteration 19 \n",
      "Mutation Range 0.2\n",
      "\n",
      "Iteration 20 \n",
      "Mutation Range 0.2\n",
      "\n",
      "Iteration 21 \n",
      "Mutation Range 0.2\n",
      "\n",
      "Iteration 22 \n",
      "Mutation Range 0.2\n",
      "\n",
      "Iteration 23 \n",
      "Mutation Range 0.2\n",
      "\n",
      "Iteration 24 \n",
      "Mutation Range 0.2\n",
      "\n",
      "Iteration 25 \n",
      "Mutation Range 0.2\n",
      "\n",
      "Iteration 26 \n",
      "Mutation Range 0.2\n",
      "\n",
      "Iteration 27 \n",
      "Mutation Range 0.2\n",
      "\n",
      "Iteration 28 \n",
      "Mutation Range 0.2\n",
      "\n",
      "Iteration 29 \n",
      "Mutation Range 0.2\n",
      "\n",
      "Iteration 30 \n",
      "Mutation Range 0.2\n",
      "\n",
      "Iteration 31 \n",
      "Mutation Range 0.2\n",
      "\n",
      "Iteration 32 \n",
      "Mutation Range 0.2\n",
      "\n",
      "Iteration 33 \n",
      "Mutation Range 0.2\n",
      "\n",
      "Iteration 34 \n",
      "Mutation Range 0.2\n",
      "\n",
      "Iteration 35 \n",
      "Mutation Range 0.2\n",
      "\n",
      "Iteration 36 \n",
      "Mutation Range 0.2\n",
      "\n",
      "Iteration 37 \n",
      "Mutation Range 0.2\n",
      "\n",
      "Iteration 38 \n",
      "Mutation Range 0.2\n",
      "\n",
      "Iteration 39 \n",
      "Mutation Range 0.2\n",
      "\n",
      "Iteration 40 \n",
      "Mutation Range 0.2\n",
      "\n",
      "Iteration 41 \n",
      "Mutation Range 0.2\n",
      "\n",
      "Iteration 42 \n",
      "Mutation Range 0.2\n",
      "\n",
      "Iteration 43 \n",
      "Mutation Range 0.2\n",
      "\n",
      "Iteration 44 \n",
      "Mutation Range 0.2\n",
      "\n",
      "Iteration 45 \n",
      "Mutation Range 0.2\n",
      "\n",
      "Iteration 46 \n",
      "Mutation Range 0.2\n",
      "\n",
      "Iteration 47 \n",
      "Mutation Range 0.2\n",
      "\n",
      "Iteration 48 \n",
      "Mutation Range 0.2\n",
      "\n",
      "Iteration 49 \n",
      "Mutation Range 0.2\n",
      "\n",
      "Iteration 50 \n",
      "Mutation Range 0.2\n",
      "\n",
      "Iteration 51 \n",
      "Mutation Range 0.2\n",
      "\n",
      "Iteration 52 \n",
      "Mutation Range 0.2\n",
      "\n",
      "Iteration 53 \n",
      "Mutation Range 0.2\n",
      "\n",
      "Iteration 54 \n",
      "Mutation Range 0.2\n",
      "\n",
      "Iteration 55 \n",
      "Mutation Range 0.2\n",
      "\n",
      "Iteration 56 \n",
      "Mutation Range 0.2\n",
      "\n",
      "Iteration 57 \n",
      "Mutation Range 0.2\n",
      "\n",
      "Iteration 58 \n",
      "Mutation Range 0.2\n",
      "\n",
      "Iteration 59 \n",
      "Mutation Range 0.2\n",
      "\n",
      "Iteration 60 \n",
      "Mutation Range 0.2\n",
      "\n",
      "Iteration 61 \n",
      "Mutation Range 0.2\n",
      "\n",
      "Iteration 62 \n",
      "Mutation Range 0.2\n",
      "\n",
      "Iteration 63 \n",
      "Mutation Range 0.2\n",
      "\n",
      "Iteration 64 \n",
      "Mutation Range 0.2\n",
      "\n",
      "Iteration 65 \n",
      "Mutation Range 0.2\n",
      "\n",
      "Iteration 66 \n",
      "Mutation Range 0.2\n",
      "\n",
      "Iteration 67 \n",
      "Mutation Range 0.2\n",
      "\n",
      "Iteration 68 \n",
      "Mutation Range 0.2\n",
      "\n",
      "Iteration 69 \n",
      "Mutation Range 0.2\n",
      "\n",
      "Iteration 70 \n",
      "Mutation Range 0.2\n",
      "\n",
      "Iteration 71 \n",
      "Mutation Range 0.2\n",
      "\n",
      "Iteration 72 \n",
      "Mutation Range 0.2\n",
      "\n",
      "Iteration 73 \n",
      "Mutation Range 0.2\n",
      "\n",
      "Iteration 74 \n",
      "Mutation Range 0.2\n",
      "\n",
      "Iteration 75 \n",
      "Mutation Range 0.2\n",
      "\n",
      "Iteration 76 \n",
      "Mutation Range 0.2\n",
      "\n",
      "Iteration 77 \n",
      "Mutation Range 0.2\n",
      "\n",
      "Iteration 78 \n",
      "Mutation Range 0.2\n",
      "\n",
      "Iteration 79 \n",
      "Mutation Range 0.2\n",
      "\n",
      "Iteration 80 \n",
      "Mutation Range 0.2\n",
      "\n",
      "Iteration 81 \n",
      "Mutation Range 0.2\n",
      "\n",
      "Iteration 82 \n",
      "Mutation Range 0.2\n",
      "\n",
      "Iteration 83 \n",
      "Mutation Range 0.2\n",
      "\n",
      "Iteration 84 \n",
      "Mutation Range 0.2\n",
      "\n",
      "Iteration 85 \n",
      "Mutation Range 0.2\n",
      "\n",
      "Iteration 86 \n",
      "Mutation Range 0.2\n",
      "\n",
      "Iteration 87 \n",
      "Mutation Range 0.2\n",
      "\n",
      "Iteration 88 \n",
      "Mutation Range 0.2\n",
      "\n",
      "Iteration 89 \n",
      "Mutation Range 0.2\n",
      "\n",
      "Iteration 90 \n",
      "Mutation Range 0.2\n",
      "\n",
      "Iteration 91 \n",
      "Mutation Range 0.2\n",
      "\n",
      "Iteration 92 \n",
      "Mutation Range 0.2\n",
      "\n",
      "Iteration 93 \n",
      "Mutation Range 0.2\n",
      "\n",
      "Iteration 94 \n",
      "Mutation Range 0.2\n",
      "\n",
      "Iteration 95 \n",
      "Mutation Range 0.2\n",
      "\n",
      "Iteration 96 \n",
      "Mutation Range 0.2\n",
      "\n",
      "Iteration 97 \n",
      "Mutation Range 0.2\n",
      "\n",
      "Iteration 98 \n",
      "Mutation Range 0.2\n",
      "\n",
      "Iteration 99 \n",
      "Mutation Range 0.2\n",
      "\n",
      "\n",
      "Times test with updated mutation range [1.552537200000188, 1.9442725999997492, 1.8183321000001342, 1.4224252999997589, 1.5782932000001892, 1.6061619999995855, 1.7755360999999539, 1.55055399999992, 1.447877999999946, 1.3858995000000505, 1.9117040999999517, 3.02097219999996, 2.2008907999997973, 2.0601737000001776, 1.4676001000002543, 1.683682299999873, 1.4506734000001416, 1.4677486999999019, 1.34988629999998, 1.3626138000004175, 1.743430100000296, 1.6340590999998312, 2.4185216000000764, 2.067629200000283, 1.9891308999999637, 1.7021680000002561, 1.3514466999999968, 1.6043159999999261, 1.741445499999827, 1.6879391000002215, 1.424159800000325, 1.3561064000000442, 1.518628499999977, 1.3141476999999213, 1.4914005000000543, 1.379717399999663, 1.5626561999997648, 1.5022852999995848, 1.659166599999935, 2.7757096000000274, 2.368054900000061, 2.0022729999996045, 1.4383504000002176, 1.3715280000001258, 1.3304081999999653, 1.2650621000002502, 2.3650648000002548, 2.2469206000000668, 2.6788308000000143, 2.062858100000085, 1.823459400000047, 1.45265019999988, 1.5015699999999015, 1.7700165000001107, 2.3920154000002185, 2.126493600000231, 2.6989622000000963, 1.3117879999999786, 1.2478930000002038, 1.5164052000000083, 2.3766813000002003, 2.6175069000000803, 1.8153913000001012, 2.2213166999999885, 1.7372209000000112, 1.776164400000198, 2.1263561999999183, 1.6607996000002458, 1.6111856000002263, 1.3992066999999224, 1.488986599999862, 1.6568736999997782, 2.50690910000003, 2.5894251999998232, 1.9850600999998278, 1.409262299999682, 1.427753400000256, 1.60123109999995, 1.1964671000000635, 1.3302248999998483, 1.6424514000000272, 1.4169443000000683, 1.9628630000001976, 1.8176625999999487, 1.6604981000000407, 1.4603191000001061, 1.4181030999998256, 1.4588351000002149, 1.5999410999997963, 1.4963058999996974, 1.6286801999999625, 1.579733000000033, 2.1881938999999875, 2.6045728999997664, 2.2626515000001746, 1.7382652000001144, 1.4000698999998349, 1.2895774000003257, 1.1806953999998768, 1.5935426999999436]\n",
      "\n",
      "Best Cost 0.06847638560643593 Best Chromosome [ 3.2069152   3.21926693 -1.26891329 -1.21659282  3.2647649 ]\n"
     ]
    },
    {
     "data": {
      "image/png": "[encoded data removed]",
      "text/plain": [
       "<Figure size 432x288 with 1 Axes>"
      ]
     },
     "metadata": {
      "needs_background": "light"
     },
     "output_type": "display_data"
    }
   ],
   "source": [
    "test_mutation_range_alt()"
   ]
  },
  {
   "cell_type": "markdown",
   "metadata": {},
   "source": [
    "<h3>The cost could be reached when the number of runs are tested out whether it is 10 (Main number of runs to be tested out on all various tests here) or 100 in the test above because the mutation range is set up at 0.2 compared to 0.1 which has a bigger chance of determining the amount that the individual gene would change by. The time it takes the mutation range to play a role in the genetic algorithm is significant where the graph fluctuates between high and low during the 100 times that the genetic algorithm is ran. The higher mutation range along with the edited explore rate and the unchanged parameters at the start of the notebook in the parameters class for this test causes the graph values to get much higher than the time taken to end the algorithm in the first test involving 10 runs as seen in the first graph for trying out the updated mutation range in 10 runs. This was explained earlier where the algorithm takes longer in a majority of the runs of the algorithm here to reach the best optimal solution that is defined when the target best solution and chromosome is revealed. Although the graph does not reach the solution quickly in more iterations than the first mutation rate test when the algorithm is ran 10 times, the cost is only reached in a short time period in less iterations of the algorithm in the test above compared to the test that is ran 10 times where the best solution was closely reached in a short time period twice in the test of 10 iterations of the time taken to complete the algorithm based on the updated parameters so far. The times taken for the algorithm to complete in a short time period are not as quick as the test involving the number of runs at 10 prior to this test. It is ran here 100 times where the graph seems to show a normal fluctuating graph with regards to the time depending on the changes made to the parameters where the cost has a good enough chance of being reached when there is a higher mutation range. The general time to complete a run of the algorithm is longer for the most part than the previous tests before this one.<h3>"
   ]
  },
  {
   "cell_type": "markdown",
   "metadata": {},
   "source": [
    "<h2>------------------------------------------------------------------------------------------<h2>"
   ]
  },
  {
   "cell_type": "markdown",
   "metadata": {},
   "source": [
    "<h1>Testing out mutation rate below multiple times with 0.3 value combined with explore rate of 0.5 and mutation range of 0.2 from earlier on as well as the remaining original parameter values.<h1>"
   ]
  },
  {
   "cell_type": "code",
   "execution_count": 55,
   "metadata": {},
   "outputs": [],
   "source": [
    "pars.mutation_rate = 0.3"
   ]
  },
  {
   "cell_type": "code",
   "execution_count": 56,
   "metadata": {},
   "outputs": [
    {
     "data": {
      "text/plain": [
       "21.264390599999842"
      ]
     },
     "execution_count": 56,
     "metadata": {},
     "output_type": "execute_result"
    }
   ],
   "source": [
    "test_genetic(100,prob,pars,0.1)"
   ]
  },
  {
   "cell_type": "markdown",
   "metadata": {},
   "source": [
    "<h3>The mutation rate has changed to 0.3 in this test as it is clear that the test for the genetic algorithm which runs 10 times combined with the changed explore rate and mutation range from earlier allows for the ime to take longer to complete the algorithm. The higher the mutation rate, the better chance there is of reaching the perfect solution when the chances of mutation within an individual gene are higher.<h3>"
   ]
  },
  {
   "cell_type": "code",
   "execution_count": 57,
   "metadata": {},
   "outputs": [
    {
     "data": {
      "text/plain": [
       "2.8465456999997514"
      ]
     },
     "execution_count": 57,
     "metadata": {},
     "output_type": "execute_result"
    }
   ],
   "source": [
    "test_genetic(10,prob,pars,0.1)"
   ]
  },
  {
   "cell_type": "markdown",
   "metadata": {},
   "source": [
    "<h3>The time for the number of runs taken when the genetic algorithm occurs is shorteer than the previous tests as the mutation rate is bigger than the original mutation rate value of 0.1. This is because the mutation rate here in this test has a higher probability that the individual gene will be mutated. This enables the test to be completed in a shorter time period.<h3>"
   ]
  },
  {
   "cell_type": "code",
   "execution_count": 58,
   "metadata": {},
   "outputs": [],
   "source": [
    "def test_mutation_rate():\n",
    "    times_for_mutation_rate = []\n",
    "    for i in range(10):\n",
    "        #pars.mutation_rate = float(i) / 5.0\n",
    "        times_for_mutation_rate.append(test_genetic(10,prob,pars,0.1)) \n",
    "        print(\"Iteration {} \\nMutation Rate {}\".format(i,pars.mutation_rate))\n",
    "        print()\n",
    "    plt.xlabel(\"Iterations\")\n",
    "    plt.ylabel(\"Times for Mutation Rate\")\n",
    "    plt.title(\"Genetic Algorithm\")\n",
    "    plt.plot(times_for_mutation_rate)\n",
    "    print(\"\\nTimes test with updated mutation rate, mutation range and explore rate {}\".format(times_for_mutation_rate))\n",
    "    print(\"\\nBest Cost {} Best Chromosome {}\".format(best_solution.cost,best_solution.chromosome))"
   ]
  },
  {
   "cell_type": "code",
   "execution_count": 59,
   "metadata": {},
   "outputs": [
    {
     "data": {
      "text/plain": [
       "'Iterations/Generations 100 Population 50 Children No 50 Child Rate 1 Explore Rate 0.5 Mutation Rate 0.3 Mutation Range 0.2'"
      ]
     },
     "execution_count": 59,
     "metadata": {},
     "output_type": "execute_result"
    }
   ],
   "source": [
    "pars.to_string()"
   ]
  },
  {
   "cell_type": "code",
   "execution_count": 60,
   "metadata": {},
   "outputs": [
    {
     "name": "stdout",
     "output_type": "stream",
     "text": [
      "Iteration 0 \n",
      "Mutation Rate 0.3\n",
      "\n",
      "Iteration 1 \n",
      "Mutation Rate 0.3\n",
      "\n",
      "Iteration 2 \n",
      "Mutation Rate 0.3\n",
      "\n",
      "Iteration 3 \n",
      "Mutation Rate 0.3\n",
      "\n",
      "Iteration 4 \n",
      "Mutation Rate 0.3\n",
      "\n",
      "Iteration 5 \n",
      "Mutation Rate 0.3\n",
      "\n",
      "Iteration 6 \n",
      "Mutation Rate 0.3\n",
      "\n",
      "Iteration 7 \n",
      "Mutation Rate 0.3\n",
      "\n",
      "Iteration 8 \n",
      "Mutation Rate 0.3\n",
      "\n",
      "Iteration 9 \n",
      "Mutation Rate 0.3\n",
      "\n",
      "\n",
      "Times test with updated mutation rate, mutation range and explore rate [1.4205664999999499, 1.9981843999999, 2.2975415000000794, 2.2762479000002713, 1.8269427000000178, 1.2421168999999281, 1.9567910000000666, 2.462920099999792, 2.5346534999998767, 2.0705471999999645]\n",
      "\n",
      "Best Cost 0.06847638560643593 Best Chromosome [ 3.2069152   3.21926693 -1.26891329 -1.21659282  3.2647649 ]\n"
     ]
    },
    {
     "data": {
      "image/png": "[encoded data removed]",
      "text/plain": [
       "<Figure size 432x288 with 1 Axes>"
      ]
     },
     "metadata": {
      "needs_background": "light"
     },
     "output_type": "display_data"
    }
   ],
   "source": [
    "test_mutation_rate()"
   ]
  },
  {
   "cell_type": "markdown",
   "metadata": {},
   "source": [
    "<h3>The graph begins with a stagnant movement where the same time is reached for the best solution cost to be reached which increases and decreases naturally where the best time to reach the cost occurs just after the halfway mark of testing out the algorithm 10 times involving the updated mutation rate set at 0.3 alongside the updated explore rate and mutation range values. The graph seems to get close to forming a normal distribution where a naturally flowing line is formed to reach the shortest time for the testcwhere the graph decreases quickly ath the halfway mark of the test before the time rises again with another free-flowing graph which gets close as well to a mean distribution. It shows that when a higher mutation rate is put in for testing out the genetic algorithm, this boosts the chance of more mutation occurring which would enable the exploration of other sections of the solution space. However, this can also cause the algorithm to not converge as suitable solutions would simply be lost where a higher diverse range of genetic variety is recommended to reach the best possible solution.<h3>"
   ]
  },
  {
   "cell_type": "code",
   "execution_count": 61,
   "metadata": {},
   "outputs": [],
   "source": [
    "def test_mutation_rate_alt():\n",
    "    times_for_mutation_rate = []\n",
    "    for i in range(100):\n",
    "        #pars.mutation_rate = float(i) / 5.0\n",
    "        times_for_mutation_rate.append(test_genetic(10,prob,pars,0.1))  \n",
    "        print(\"Iteration {} \\nMutation Rate {}\".format(i,pars.mutation_rate))\n",
    "        print()\n",
    "    plt.xlabel(\"Iterations\")\n",
    "    plt.ylabel(\"Times for Mutation Rate\")\n",
    "    plt.title(\"Genetic Algorithm\")\n",
    "    plt.plot(times_for_mutation_rate)\n",
    "    print(\"Times test with updated mutation rate, mutation range and explore rate {}\".format(times_for_mutation_rate))\n",
    "    print(\"Best Cost {} Best Chromosome {}\".format(best_solution.cost,best_solution.chromosome))"
   ]
  },
  {
   "cell_type": "code",
   "execution_count": 62,
   "metadata": {},
   "outputs": [
    {
     "name": "stdout",
     "output_type": "stream",
     "text": [
      "Iteration 0 \n",
      "Mutation Rate 0.3\n",
      "\n",
      "Iteration 1 \n",
      "Mutation Rate 0.3\n",
      "\n",
      "Iteration 2 \n",
      "Mutation Rate 0.3\n",
      "\n",
      "Iteration 3 \n",
      "Mutation Rate 0.3\n",
      "\n",
      "Iteration 4 \n",
      "Mutation Rate 0.3\n",
      "\n",
      "Iteration 5 \n",
      "Mutation Rate 0.3\n",
      "\n",
      "Iteration 6 \n",
      "Mutation Rate 0.3\n",
      "\n",
      "Iteration 7 \n",
      "Mutation Rate 0.3\n",
      "\n",
      "Iteration 8 \n",
      "Mutation Rate 0.3\n",
      "\n",
      "Iteration 9 \n",
      "Mutation Rate 0.3\n",
      "\n",
      "Iteration 10 \n",
      "Mutation Rate 0.3\n",
      "\n",
      "Iteration 11 \n",
      "Mutation Rate 0.3\n",
      "\n",
      "Iteration 12 \n",
      "Mutation Rate 0.3\n",
      "\n",
      "Iteration 13 \n",
      "Mutation Rate 0.3\n",
      "\n",
      "Iteration 14 \n",
      "Mutation Rate 0.3\n",
      "\n",
      "Iteration 15 \n",
      "Mutation Rate 0.3\n",
      "\n",
      "Iteration 16 \n",
      "Mutation Rate 0.3\n",
      "\n",
      "Iteration 17 \n",
      "Mutation Rate 0.3\n",
      "\n",
      "Iteration 18 \n",
      "Mutation Rate 0.3\n",
      "\n",
      "Iteration 19 \n",
      "Mutation Rate 0.3\n",
      "\n",
      "Iteration 20 \n",
      "Mutation Rate 0.3\n",
      "\n",
      "Iteration 21 \n",
      "Mutation Rate 0.3\n",
      "\n",
      "Iteration 22 \n",
      "Mutation Rate 0.3\n",
      "\n",
      "Iteration 23 \n",
      "Mutation Rate 0.3\n",
      "\n",
      "Iteration 24 \n",
      "Mutation Rate 0.3\n",
      "\n",
      "Iteration 25 \n",
      "Mutation Rate 0.3\n",
      "\n",
      "Iteration 26 \n",
      "Mutation Rate 0.3\n",
      "\n",
      "Iteration 27 \n",
      "Mutation Rate 0.3\n",
      "\n",
      "Iteration 28 \n",
      "Mutation Rate 0.3\n",
      "\n",
      "Iteration 29 \n",
      "Mutation Rate 0.3\n",
      "\n",
      "Iteration 30 \n",
      "Mutation Rate 0.3\n",
      "\n",
      "Iteration 31 \n",
      "Mutation Rate 0.3\n",
      "\n",
      "Iteration 32 \n",
      "Mutation Rate 0.3\n",
      "\n",
      "Iteration 33 \n",
      "Mutation Rate 0.3\n",
      "\n",
      "Iteration 34 \n",
      "Mutation Rate 0.3\n",
      "\n",
      "Iteration 35 \n",
      "Mutation Rate 0.3\n",
      "\n",
      "Iteration 36 \n",
      "Mutation Rate 0.3\n",
      "\n",
      "Iteration 37 \n",
      "Mutation Rate 0.3\n",
      "\n",
      "Iteration 38 \n",
      "Mutation Rate 0.3\n",
      "\n",
      "Iteration 39 \n",
      "Mutation Rate 0.3\n",
      "\n",
      "Iteration 40 \n",
      "Mutation Rate 0.3\n",
      "\n",
      "Iteration 41 \n",
      "Mutation Rate 0.3\n",
      "\n",
      "Iteration 42 \n",
      "Mutation Rate 0.3\n",
      "\n",
      "Iteration 43 \n",
      "Mutation Rate 0.3\n",
      "\n",
      "Iteration 44 \n",
      "Mutation Rate 0.3\n",
      "\n",
      "Iteration 45 \n",
      "Mutation Rate 0.3\n",
      "\n",
      "Iteration 46 \n",
      "Mutation Rate 0.3\n",
      "\n",
      "Iteration 47 \n",
      "Mutation Rate 0.3\n",
      "\n",
      "Iteration 48 \n",
      "Mutation Rate 0.3\n",
      "\n",
      "Iteration 49 \n",
      "Mutation Rate 0.3\n",
      "\n",
      "Iteration 50 \n",
      "Mutation Rate 0.3\n",
      "\n",
      "Iteration 51 \n",
      "Mutation Rate 0.3\n",
      "\n",
      "Iteration 52 \n",
      "Mutation Rate 0.3\n",
      "\n",
      "Iteration 53 \n",
      "Mutation Rate 0.3\n",
      "\n",
      "Iteration 54 \n",
      "Mutation Rate 0.3\n",
      "\n",
      "Iteration 55 \n",
      "Mutation Rate 0.3\n",
      "\n",
      "Iteration 56 \n",
      "Mutation Rate 0.3\n",
      "\n",
      "Iteration 57 \n",
      "Mutation Rate 0.3\n",
      "\n",
      "Iteration 58 \n",
      "Mutation Rate 0.3\n",
      "\n",
      "Iteration 59 \n",
      "Mutation Rate 0.3\n",
      "\n",
      "Iteration 60 \n",
      "Mutation Rate 0.3\n",
      "\n",
      "Iteration 61 \n",
      "Mutation Rate 0.3\n",
      "\n",
      "Iteration 62 \n",
      "Mutation Rate 0.3\n",
      "\n",
      "Iteration 63 \n",
      "Mutation Rate 0.3\n",
      "\n",
      "Iteration 64 \n",
      "Mutation Rate 0.3\n",
      "\n",
      "Iteration 65 \n",
      "Mutation Rate 0.3\n",
      "\n",
      "Iteration 66 \n",
      "Mutation Rate 0.3\n",
      "\n",
      "Iteration 67 \n",
      "Mutation Rate 0.3\n",
      "\n",
      "Iteration 68 \n",
      "Mutation Rate 0.3\n",
      "\n",
      "Iteration 69 \n",
      "Mutation Rate 0.3\n",
      "\n",
      "Iteration 70 \n",
      "Mutation Rate 0.3\n",
      "\n",
      "Iteration 71 \n",
      "Mutation Rate 0.3\n",
      "\n",
      "Iteration 72 \n",
      "Mutation Rate 0.3\n",
      "\n",
      "Iteration 73 \n",
      "Mutation Rate 0.3\n",
      "\n",
      "Iteration 74 \n",
      "Mutation Rate 0.3\n",
      "\n",
      "Iteration 75 \n",
      "Mutation Rate 0.3\n",
      "\n",
      "Iteration 76 \n",
      "Mutation Rate 0.3\n",
      "\n",
      "Iteration 77 \n",
      "Mutation Rate 0.3\n",
      "\n",
      "Iteration 78 \n",
      "Mutation Rate 0.3\n",
      "\n",
      "Iteration 79 \n",
      "Mutation Rate 0.3\n",
      "\n",
      "Iteration 80 \n",
      "Mutation Rate 0.3\n",
      "\n",
      "Iteration 81 \n",
      "Mutation Rate 0.3\n",
      "\n",
      "Iteration 82 \n",
      "Mutation Rate 0.3\n",
      "\n",
      "Iteration 83 \n",
      "Mutation Rate 0.3\n",
      "\n",
      "Iteration 84 \n",
      "Mutation Rate 0.3\n",
      "\n",
      "Iteration 85 \n",
      "Mutation Rate 0.3\n",
      "\n",
      "Iteration 86 \n",
      "Mutation Rate 0.3\n",
      "\n",
      "Iteration 87 \n",
      "Mutation Rate 0.3\n",
      "\n",
      "Iteration 88 \n",
      "Mutation Rate 0.3\n",
      "\n",
      "Iteration 89 \n",
      "Mutation Rate 0.3\n",
      "\n",
      "Iteration 90 \n",
      "Mutation Rate 0.3\n",
      "\n",
      "Iteration 91 \n",
      "Mutation Rate 0.3\n",
      "\n",
      "Iteration 92 \n",
      "Mutation Rate 0.3\n",
      "\n",
      "Iteration 93 \n",
      "Mutation Rate 0.3\n",
      "\n",
      "Iteration 94 \n",
      "Mutation Rate 0.3\n",
      "\n",
      "Iteration 95 \n",
      "Mutation Rate 0.3\n",
      "\n",
      "Iteration 96 \n",
      "Mutation Rate 0.3\n",
      "\n",
      "Iteration 97 \n",
      "Mutation Rate 0.3\n",
      "\n",
      "Iteration 98 \n",
      "Mutation Rate 0.3\n",
      "\n",
      "Iteration 99 \n",
      "Mutation Rate 0.3\n",
      "\n",
      "Times test with updated mutation rate, mutation range and explore rate [1.624913799999831, 1.9225203000000874, 1.4692077999998219, 1.6753860999997414, 1.5440278000000944, 1.3745206999997208, 1.1422272999998313, 1.3462503999999171, 1.9929064000002654, 2.1666826999999103, 2.2597356999999647, 2.177543599999808, 2.184257399999751, 1.511905299999853, 1.5407304999998814, 1.5267159999998512, 1.1503615000001446, 1.3148222999998325, 1.9992480999999316, 1.9589222999998128, 2.395063499999651, 2.3979804999999033, 1.662343200000123, 1.247848299999987, 1.8626838000000134, 2.0260792999997648, 2.194430300000022, 2.04860970000027, 2.129870100000062, 1.7372685999998794, 1.7715203999996447, 1.6138034000000516, 1.5468879000000015, 1.3185097000000496, 1.9130675000001247, 1.9366868000001887, 2.133879900000011, 1.7289717000003293, 1.260164799999984, 1.5140535999998974, 1.9591905000002043, 1.3792985000000044, 1.3614234000001488, 1.5984845000002679, 1.3696881999999277, 1.3384558999996443, 1.2497606000001724, 1.6085284000000684, 2.338361000000077, 3.048170900000059, 2.0123490999999376, 1.287891700000273, 1.304788400000234, 1.427556900000127, 1.5350007000001824, 1.560805000000073, 1.2101603000000978, 1.3315620999997009, 1.2927549999999428, 1.707973299999594, 2.2462390000000596, 2.687698299999738, 2.118366199999855, 2.0254227999998875, 1.3298660000000382, 1.1760921000000053, 1.5706656000002113, 2.372656200000165, 2.499040900000182, 1.9968855000001895, 1.933884499999749, 1.4519980000000032, 1.4213227999998708, 1.938626099999965, 2.007611099999849, 2.1053070000002663, 2.3064919999997073, 2.4779242999998132, 1.1662319000001844, 1.1860466000002816, 2.152180600000065, 2.2306695000002037, 2.2759298000000854, 1.9681768999998894, 1.8552033999999367, 1.503082799999902, 1.411118300000453, 1.8808889000001727, 2.3242545000002792, 2.3110372000001007, 2.1846968999998353, 1.766562900000281, 1.3781565999997838, 1.9856401999995796, 1.3354079000000638, 1.3613200999998298, 1.7892478000003393, 2.0867009000003236, 2.649804800000311, 1.803154899999754]\n",
      "Best Cost 0.06847638560643593 Best Chromosome [ 3.2069152   3.21926693 -1.26891329 -1.21659282  3.2647649 ]\n"
     ]
    },
    {
     "data": {
      "image/png": "[encoded data removed]",
      "text/plain": [
       "<Figure size 432x288 with 1 Axes>"
      ]
     },
     "metadata": {
      "needs_background": "light"
     },
     "output_type": "display_data"
    }
   ],
   "source": [
    "test_mutation_rate_alt()"
   ]
  },
  {
   "cell_type": "markdown",
   "metadata": {},
   "source": [
    "<h3>With the number of runs set at 100 for the graph above which would mainly focus on the mutation rate with the other updated values,the shortest time taken for the algorithm occurs at numerous iterations where the mutation rate determines if more mutation would occur invloving a singular individual. The average time here is as short as the previous test involving the original mutation rate of 0.1. This mutation process frequently increases the times taken to complete an iteration of the genetic algorithm as it tries to reach more search spaces to get to the optimal cost. If the rate of mutation is massive, more areas would be searched in the search space whereas a very low mutation rate would lead to better results as seen earlier in the test of the original parameters where the mutation rate is set at 0.1.<h3>"
   ]
  },
  {
   "cell_type": "markdown",
   "metadata": {},
   "source": [
    "<h2>------------------------------------------------------------------------------------------<h2>"
   ]
  },
  {
   "cell_type": "markdown",
   "metadata": {},
   "source": [
    "<h1>Testing out child rate, number of children and population below multiple times with value of 5 and 250 respectively before population changes combined with majority of updated parameters from earlier on where the number of iterations is not updated here.(The second last test).<h1>"
   ]
  },
  {
   "cell_type": "code",
   "execution_count": 63,
   "metadata": {},
   "outputs": [],
   "source": [
    "pars.child_rate = 2"
   ]
  },
  {
   "cell_type": "code",
   "execution_count": 64,
   "metadata": {},
   "outputs": [],
   "source": [
    "pars.number_in_population = 100"
   ]
  },
  {
   "cell_type": "code",
   "execution_count": 65,
   "metadata": {},
   "outputs": [],
   "source": [
    "pars.number_of_children = pars.number_in_population * pars.child_rate"
   ]
  },
  {
   "cell_type": "code",
   "execution_count": 66,
   "metadata": {},
   "outputs": [
    {
     "data": {
      "text/plain": [
       "200"
      ]
     },
     "execution_count": 66,
     "metadata": {},
     "output_type": "execute_result"
    }
   ],
   "source": [
    "pars.number_of_children"
   ]
  },
  {
   "cell_type": "code",
   "execution_count": 67,
   "metadata": {},
   "outputs": [
    {
     "data": {
      "text/plain": [
       "'Iterations/Generations 100 Population 100 Children No 200 Child Rate 2 Explore Rate 0.5 Mutation Rate 0.3 Mutation Range 0.2'"
      ]
     },
     "execution_count": 67,
     "metadata": {},
     "output_type": "execute_result"
    }
   ],
   "source": [
    "pars.to_string()"
   ]
  },
  {
   "cell_type": "code",
   "execution_count": 68,
   "metadata": {},
   "outputs": [
    {
     "data": {
      "text/plain": [
       "42.51205909999953"
      ]
     },
     "execution_count": 68,
     "metadata": {},
     "output_type": "execute_result"
    }
   ],
   "source": [
    "test_genetic(100,prob,pars,0.1)"
   ]
  },
  {
   "cell_type": "markdown",
   "metadata": {},
   "source": [
    "<h3>The child rate is set to 3 as well as the number in population which is set at 100 and the updated number of children is revealed here too to test out the algorithm here. All the parameters are updated at this point The time it takes to run the genetic algorithm here is slower than all of the previous tests. This is where the number of runs was 100 because all of the changed parameters as tested out here for the first CA have a major impact on the cost of the algorithm where the higher the fitness cost, the closer we hopefully get to the optimal solution. But, it seems the lower the solution, the better the fitness cost will be.<h3>"
   ]
  },
  {
   "cell_type": "code",
   "execution_count": 69,
   "metadata": {},
   "outputs": [
    {
     "data": {
      "text/plain": [
       "4.077427100000023"
      ]
     },
     "execution_count": 69,
     "metadata": {},
     "output_type": "execute_result"
    }
   ],
   "source": [
    "test_genetic(10,prob,pars,0.1)"
   ]
  },
  {
   "cell_type": "markdown",
   "metadata": {},
   "source": [
    "<h3>Meanwhile, the test by using the number of runs for the test of the genetic algorithm is unsurprisingly slower when the rest of the parameters including a higher child rate are placed in these two test_genetic() tests than the tests when the values of the mutation rate and range were performed and implemented earlier on. This is because the child rate and all the other updated parameters except for the number of iterations including the population of 100 is much higher than all the other parameters in the parameters class This allows for much more children to be born in every iteration when combined with the edited mutation rate and range and the other paramaters as there is a greater possibility that the optimal solution would be reached when multiple iterations of the algorithm are carried out. This would hopefully allow plenty of the iterations to last a shorter amount of time than some of the previous tests carried out when the scientific methodology is put into perspective here.<h3>"
   ]
  },
  {
   "cell_type": "code",
   "execution_count": 71,
   "metadata": {},
   "outputs": [],
   "source": [
    "def test_algorithm():\n",
    "    times_for_algorithm = []\n",
    "    for i in range(20):\n",
    "        #pars.child_rate = float(i) / 5.0\n",
    "        times_for_algorithm.append(test_genetic(10,prob,pars,0.1))\n",
    "        print(\"Iteration {}\".format(i))\n",
    "        print()\n",
    "    plt.xlabel(\"Iterations\")\n",
    "    plt.ylabel(\"Times for updated parameters excluding iterations number\")\n",
    "    plt.title(\"Genetic Algorithm\")\n",
    "    plt.plot(times_for_algorithm)\n",
    "    print(\"\\nTimes for test with all updated parameters except for iterations {}\".format(times_for_algorithm))\n",
    "    print(\"\\nCost {} Best Solution Chromosome {}\".format(best_solution.cost,best_solution.chromosome))"
   ]
  },
  {
   "cell_type": "code",
   "execution_count": 72,
   "metadata": {},
   "outputs": [
    {
     "name": "stdout",
     "output_type": "stream",
     "text": [
      "Iteration 0\n",
      "\n",
      "Iteration 1\n",
      "\n",
      "Iteration 2\n",
      "\n",
      "Iteration 3\n",
      "\n",
      "Iteration 4\n",
      "\n",
      "Iteration 5\n",
      "\n",
      "Iteration 6\n",
      "\n",
      "Iteration 7\n",
      "\n",
      "Iteration 8\n",
      "\n",
      "Iteration 9\n",
      "\n",
      "Iteration 10\n",
      "\n",
      "Iteration 11\n",
      "\n",
      "Iteration 12\n",
      "\n",
      "Iteration 13\n",
      "\n",
      "Iteration 14\n",
      "\n",
      "Iteration 15\n",
      "\n",
      "Iteration 16\n",
      "\n",
      "Iteration 17\n",
      "\n",
      "Iteration 18\n",
      "\n",
      "Iteration 19\n",
      "\n",
      "\n",
      "Times for test with all updated parameters except for iterations [4.051545899999837, 3.602126799999496, 6.185269100000369, 4.554265100000521, 3.2793492000000697, 5.564010999999482, 5.399324400000296, 3.342693099999451, 3.9773925999998028, 3.361055100000158, 6.361502300000211, 4.766731799999434, 3.531270699999368, 6.299846500000058, 5.040445399999953, 4.565407399999458, 5.916307000000415, 3.3893929999994725, 3.5344826000000467, 4.8611824999998134]\n",
      "\n",
      "Cost 0.06847638560643593 Best Solution Chromosome [ 3.2069152   3.21926693 -1.26891329 -1.21659282  3.2647649 ]\n"
     ]
    },
    {
     "data": {
      "image/png": "[encoded data removed]",
      "text/plain": [
       "<Figure size 432x288 with 1 Axes>"
      ]
     },
     "metadata": {
      "needs_background": "light"
     },
     "output_type": "display_data"
    }
   ],
   "source": [
    "test_algorithm()"
   ]
  },
  {
   "cell_type": "markdown",
   "metadata": {},
   "source": [
    "<h3>With the child rate set at 5 as well as all of the other parameters except for the number of iterations, there is a chance that graph flow would fluctuate from high to low with regards to the time as the rate of children is higher when the population remains at 50 in this case.The time taken to finish the algorithm suddenly takes longer than usual when ran 100 times because the child rate here determines the number of new children per iteration which would slow down the algorithm and lead to the fluctuating results. The graph starts with a little increase of time which then decreases gradually and so on. After this, it switches between a higher time period and a lower time period where the average time is surprisingly the same as the child rate test when ran 10 times as the high child rate has a major impact on the algorithm where it seems the tests would veer between short implementations of the algortihm and longer times for implementing the method. This shows that when the parameters are updated to a bigger value, it will increase the time taken to complete the algorithm which may search through more search spaces to find the optimal solution and use previous experiences of the test as knowledge to see which values are best to be closest to the best solution cost and best chromosome.<h3>"
   ]
  },
  {
   "cell_type": "markdown",
   "metadata": {},
   "source": [
    "<h3>With regards to the ideal population when it is set higher, it may be ideal but it is not as efficient as the earlier examples involving the preset parameters because with the emergence of multiple costs and chromosomes to see which ones are closest to the best solution, there's a better chance when there is a lower population where the best solution may be more likely to be reached as the best solution cost is reached when it goes below the error rate.<h3>"
   ]
  },
  {
   "cell_type": "code",
   "execution_count": 74,
   "metadata": {},
   "outputs": [],
   "source": [
    "def test_algorithm_alt():\n",
    "    times_for_algorithm = []\n",
    "    for i in range(10):\n",
    "        #pars.child_rate = float(i) / 5.0\n",
    "        times_for_algorithm.append(test_genetic(10,prob,pars,0.1))\n",
    "        print(\"Iteration {}\".format(i))\n",
    "        print()\n",
    "    plt.xlabel(\"Iterations\")\n",
    "    plt.ylabel(\"Times for Child Rate\")\n",
    "    plt.title(\"Genetic Algorithm\")\n",
    "    plt.plot(times_for_algorithm)\n",
    "    print(\"\\nTimes for test with all updated parameters except for iterations {}\".format(times_for_algorithm))\n",
    "    print(\"\\nCost {} Chromosome {}\".format(best_solution.cost,best_solution.chromosome))"
   ]
  },
  {
   "cell_type": "code",
   "execution_count": 75,
   "metadata": {},
   "outputs": [
    {
     "data": {
      "text/plain": [
       "'Iterations/Generations 100 Population 100 Children No 200 Child Rate 2 Explore Rate 0.5 Mutation Rate 0.3 Mutation Range 0.2'"
      ]
     },
     "execution_count": 75,
     "metadata": {},
     "output_type": "execute_result"
    }
   ],
   "source": [
    "pars.to_string()"
   ]
  },
  {
   "cell_type": "code",
   "execution_count": 76,
   "metadata": {},
   "outputs": [
    {
     "name": "stdout",
     "output_type": "stream",
     "text": [
      "Iteration 0\n",
      "\n",
      "Iteration 1\n",
      "\n",
      "Iteration 2\n",
      "\n",
      "Iteration 3\n",
      "\n",
      "Iteration 4\n",
      "\n",
      "Iteration 5\n",
      "\n",
      "Iteration 6\n",
      "\n",
      "Iteration 7\n",
      "\n",
      "Iteration 8\n",
      "\n",
      "Iteration 9\n",
      "\n",
      "\n",
      "Times for test with all updated parameters except for iterations [3.8689783999998326, 4.386894299999767, 3.3751240000001417, 3.206225599999925, 3.725476100000378, 3.735480800000005, 3.7897981999994954, 3.5693672999996124, 5.691605600000003, 5.03238280000005]\n",
      "\n",
      "Cost 0.06847638560643593 Chromosome [ 3.2069152   3.21926693 -1.26891329 -1.21659282  3.2647649 ]\n"
     ]
    },
    {
     "data": {
      "image/png": "[encoded data removed]",
      "text/plain": [
       "<Figure size 432x288 with 1 Axes>"
      ]
     },
     "metadata": {
      "needs_background": "light"
     },
     "output_type": "display_data"
    }
   ],
   "source": [
    "test_algorithm_alt()"
   ]
  },
  {
   "cell_type": "markdown",
   "metadata": {},
   "source": [
    "<h3>This algorithm does not look close to the optimal solution where a mean distribution would occur if the perfect solution is reached. A mean distribution is expected in a test to ensure that the path to the optimal solution is improved on when searching the values to determine which value is closest to the solution you are looking for when the solution target is calculated. The child rate is updated along with every other updated parameter other than the number of iterations parameter. This would account for the time taken to reveal all of the fitness costs and reveal the best solution costs for each iteration of the algorithm. The graph naturally increases and decreases after the halfway mark of the testing of the algorithm. For the majority of the test, the time taken to complete the algorithm decreases in most iterations due to the presence of the child rate. It may fluctuate at the beginning of the test with the graph figures as the test is appended to try and accommodate for the best score so far in the algorithm. More tweaking of the parameters would probably lead to a much improved solution which can be fixed when the algortihm is changed and edited soon. When it peaks at the longest time, it is certain that this would happen as the parameter values are higher than previous parameter values. That shows the impact that a high child rate would have on different tests of the algorithm using the multiple parameters. The average time taken here for the testing of the child rate is unsurprisingly longer than other tests which ran 10 times as the amount of new children per iteration is much higher which would go well above the total population unless the population is much higher than the children when the number of children is calculated by multiplying the child rate by the number in the population. <h3>"
   ]
  },
  {
   "cell_type": "markdown",
   "metadata": {},
   "source": [
    "<h2>------------------------------------------------------------------------------------------<h2>"
   ]
  },
  {
   "cell_type": "code",
   "execution_count": null,
   "metadata": {},
   "outputs": [],
   "source": [
    "final_pop[0].chromosome"
   ]
  },
  {
   "cell_type": "code",
   "execution_count": null,
   "metadata": {},
   "outputs": [],
   "source": [
    "q = parameters()"
   ]
  },
  {
   "cell_type": "code",
   "execution_count": null,
   "metadata": {},
   "outputs": [],
   "source": [
    "pop = run_genetic(p1, q, 0.0001)"
   ]
  },
  {
   "cell_type": "code",
   "execution_count": null,
   "metadata": {},
   "outputs": [],
   "source": [
    "pop, best_soln = run_genetic(p1,q,0.0001)"
   ]
  },
  {
   "cell_type": "code",
   "execution_count": null,
   "metadata": {},
   "outputs": [],
   "source": [
    "pop[5].chromosome"
   ]
  },
  {
   "cell_type": "code",
   "execution_count": null,
   "metadata": {},
   "outputs": [],
   "source": [
    "best_soln.chromosome"
   ]
  },
  {
   "cell_type": "code",
   "execution_count": null,
   "metadata": {},
   "outputs": [],
   "source": [
    "plt.plot(best_solution.chromosome)"
   ]
  },
  {
   "cell_type": "code",
   "execution_count": null,
   "metadata": {},
   "outputs": [],
   "source": []
  },
  {
   "cell_type": "markdown",
   "metadata": {},
   "source": [
    "<h1>Alternative version of the genetic algorithm with a couple of tweaks to the algorithm for final tests<h1>"
   ]
  },
  {
   "cell_type": "code",
   "execution_count": 170,
   "metadata": {},
   "outputs": [],
   "source": [
    "def parent_tour_selection(pop):\n",
    "    parents = np.random.choice(pop, p=5)\n",
    "    parents = sorted(parents, key=lambda agent: agent.cost, reverse=True)\n",
    "    return parents[0], parents[1]"
   ]
  },
  {
   "cell_type": "markdown",
   "metadata": {},
   "source": [
    "<h3>Method above did not work based on selecting parents in a tournament style. This was because the integer object had no attibute of len. Attempt of code can be seen below in run_genetic_alt algorithm where the selection of two parents occur.<h3>"
   ]
  },
  {
   "cell_type": "code",
   "execution_count": 139,
   "metadata": {},
   "outputs": [],
   "source": [
    "def choose_parent_roulette(self, pop):\n",
    "        parent_pop = deepcopy(pop)\n",
    "        offspring_pop = []\n",
    "        for p in range(len(pop)):\n",
    "            parents = []\n",
    "            for it in range(2):\n",
    "                temp_pop = []\n",
    "                for j in range(pop):\n",
    "                    temp_pop.append(r.choice(parent_pop))\n",
    "                #sort solutions by fitness\n",
    "                temp_pop.sort(key=lambda x: x.cost, reverse=False)\n",
    "                parents.append(temp_pop[0].ind.copy())"
   ]
  },
  {
   "cell_type": "markdown",
   "metadata": {},
   "source": [
    "<h3>Another alternative attempt a to choose a parent using a roulette wheel in the method above which failed due to a requirement to have a positional argument.<h3>"
   ]
  },
  {
   "cell_type": "markdown",
   "metadata": {},
   "source": [
    "<h3>In a roulette wheel solution if the alternative method below was used, there would be a greater risk of less diversity in the genes of the children in the population who are born from the parents when the selection, crossover and mutation phases take place. If a wide variety of individuals in a population were used where some of them would have a strong fitness cost or best solution cost which is low in this algorithm in general as explained throughout the notebook and others were not as fit, the high fitness individuals would dominate the population in its entirity which would stop the population from exploring significantly better individuals. This would cause a reduction of diversity of the genes that would not work as well in the method below compared to the run_genetic algorithm executed earlier on.<h3>"
   ]
  },
  {
   "cell_type": "code",
   "execution_count": 163,
   "metadata": {},
   "outputs": [],
   "source": [
    "def prob_list(population):\n",
    "    cost = population.values()\n",
    "    total_cost = sum(cost)\n",
    "    rel_fitness = [f/total_cost for c in cost]\n",
    "    cum_probs = [sum(rel_fitness[:i+1]) for i in range(len(rel_fitness))]\n",
    "    return cum_probs\n",
    "\n",
    "def cost_choice(population, cum_probs, no):\n",
    "    return np.random.choice(population, weights_cum = cum_probs, k = no)"
   ]
  },
  {
   "cell_type": "markdown",
   "metadata": {},
   "source": [
    "<h3>Another approach to using a roulette wheel selection process to get cost values of the population in no particular order along with the choice of costs to make in the attempted methods shown above. It seemed that there was a problem with the weights_cum value in the np.random.choice() method for both the methods shown above. The first method above this amrkdown would have displayed the probaility list of the different costs and related fitness costs which would return the answer of the cumulated probabilities.<h3>"
   ]
  },
  {
   "cell_type": "markdown",
   "metadata": {},
   "source": [
    "<h3>The cost_choices method would have displayed a random choice from a member of the population including the children and their parents where the cumulative probabilities of the individuals having a high fitness cost to get close to the optimal solution would have been seen as well as those with a low chance of a high optimal / best solution. With a high fitness cost, the individual would have a bigger chance of being chosen. With the travelling salesman solution, the fitness cost should be kept low.<h3>"
   ]
  },
  {
   "cell_type": "code",
   "execution_count": 171,
   "metadata": {},
   "outputs": [],
   "source": [
    "def run_genetic_alt(problem, parameters, max_error):\n",
    "    \n",
    "    #read problem\n",
    "    #Fitness Function\n",
    "    cost_function = problem.cost_function\n",
    "    \n",
    "    #read parameters\n",
    "    number_in_population = parameters.number_in_population\n",
    "    number_of_iterations = parameters.number_of_iterations\n",
    "    number_of_children = parameters.number_of_children\n",
    "    explore_rate = parameters.explore_rate\n",
    "    mutation_rate = parameters.mutation_rate\n",
    "    mutation_range = parameters.mutation_range\n",
    "    \n",
    "    #placeholder for best solution\n",
    "    best_solution = deepcopy(individual())\n",
    "    best_solution.cost = np.infty\n",
    "    \n",
    "    # Placeholder for best cost at each iteration\n",
    "    best_costs = []\n",
    "    \n",
    "    population = []\n",
    "    \n",
    "    #initialize population for the above problem. i.e. generate random individuals\n",
    "    for i in range(number_in_population):\n",
    "        new_individual = individual(problem)\n",
    "        population.append(new_individual)\n",
    "        if new_individual.cost < best_solution.cost:#Cost = Fitness\n",
    "            best_solution = deepcopy(new_individual)\n",
    "            \n",
    "    for iteration in range(number_of_iterations):      \n",
    "        # generate a new population of children\n",
    "        children = []\n",
    "        \n",
    "        # How Many Children\n",
    "        while len(children) < number_of_children:\n",
    "            \n",
    "        # Select 2 Parents\n",
    "            #parent1_index, parent2_index = choose_distinct_pair_from(number_in_population)\n",
    "            parent1_index, parent2_index = parent_tour_selection(number_in_population)\n",
    "            #parent1_index, parent2_index = choose_parent_roulette(number_in_population)\n",
    "            parent_1 = population[parent1_index]\n",
    "            parent_2 = population[parent2_index]\n",
    "            \n",
    "        # Use crossover to produce 2 children\n",
    "            child_1,child_2 = parent_1.crossover(parent_2, explore_rate)\n",
    "            \n",
    "        # Mutate these children\n",
    "            child_1.mutate(mutation_rate, mutation_range)\n",
    "            child_2.mutate(mutation_rate, mutation_range)\n",
    "            \n",
    "        # calculate costs (Fitness) for these children\n",
    "            child_1.cost = cost_function(child_1.chromosome)\n",
    "            child_2.cost = cost_function(child_2.chromosome)\n",
    "                \n",
    "        # add to the children population\n",
    "            children.append(child_1)\n",
    "            children.append(child_2)\n",
    "               \n",
    "        #merge parent and child populations    \n",
    "        population += children\n",
    "        \n",
    "        #Sort into ascending order of cost\n",
    "        population = sorted(population, key = lambda x: x.cost)\n",
    "        \n",
    "        #Select population next iteration\n",
    "        population = population[0:number_in_population]\n",
    "        \n",
    "        #update best solution - Fitness\n",
    "        if population[0].cost < best_solution.cost:\n",
    "            best_solution = deepcopy(population[0])\n",
    "            \n",
    "        cost_choice(population,best_solution.cost,max_error)\n",
    "        prob_list(population)\n",
    "            \n",
    "        #print iteration results\n",
    "        print(\"Iteration/Generation {} Cost/Fitness {}\".format(iteration, best_solution.cost))\n",
    "        #best_costs.append(best_solution.cost)\n",
    "        #output results ?? class/struct/ best solution/ population?\n",
    "        if best_solution.cost < max_error:\n",
    "            #print(\"Stopped at {} Iterations\".format(iteration))\n",
    "            break\n",
    "            \n",
    "    #plt.semilogy(best_costs)\n",
    "    #plt.xlabel(\"Iterations\")\n",
    "    #plt.ylabel(\"Best Cost\")\n",
    "    #plt.title(\"Genetic Algorithm \\n\" + parameters.to_string())\n",
    "    return population, best_solution      "
   ]
  },
  {
   "cell_type": "code",
   "execution_count": 110,
   "metadata": {},
   "outputs": [
    {
     "data": {
      "text/plain": [
       "0.06847638560643593"
      ]
     },
     "execution_count": 110,
     "metadata": {},
     "output_type": "execute_result"
    }
   ],
   "source": [
    "final_pop[0].cost"
   ]
  },
  {
   "cell_type": "code",
   "execution_count": 101,
   "metadata": {},
   "outputs": [],
   "source": [
    "prob_alt = problem()"
   ]
  },
  {
   "cell_type": "code",
   "execution_count": 102,
   "metadata": {},
   "outputs": [],
   "source": [
    "para = parameters()"
   ]
  },
  {
   "cell_type": "markdown",
   "metadata": {},
   "source": [
    "<h3>Original parameters shown below for testing out algorithm<h3>"
   ]
  },
  {
   "cell_type": "code",
   "execution_count": 131,
   "metadata": {},
   "outputs": [],
   "source": [
    "para.number_of_iterations = 100\n",
    "para.number_in_population = 50\n",
    "para.child_rate = 1   \n",
    "para.number_of_children = para.number_in_population * para.child_rate \n",
    "para.explore_rate = 0.1\n",
    "para.mutation_rate = 0.2 #Mutation Probability\n",
    "para.mutation_range = 0.1"
   ]
  },
  {
   "cell_type": "code",
   "execution_count": 172,
   "metadata": {},
   "outputs": [
    {
     "ename": "TypeError",
     "evalue": "object of type 'int' has no len()",
     "output_type": "error",
     "traceback": [
      "\u001b[1;31m---------------------------------------------------------------------------\u001b[0m",
      "\u001b[1;31mTypeError\u001b[0m                                 Traceback (most recent call last)",
      "\u001b[1;32m<ipython-input-172-ac9202f56dce>\u001b[0m in \u001b[0;36m<module>\u001b[1;34m\u001b[0m\n\u001b[1;32m----> 1\u001b[1;33m \u001b[0mpopula\u001b[0m\u001b[1;33m,\u001b[0m \u001b[0mbest_solut\u001b[0m \u001b[1;33m=\u001b[0m \u001b[0mrun_genetic_alt\u001b[0m\u001b[1;33m(\u001b[0m\u001b[0mprob_alt\u001b[0m\u001b[1;33m,\u001b[0m\u001b[0mpara\u001b[0m\u001b[1;33m,\u001b[0m\u001b[1;36m0.0001\u001b[0m\u001b[1;33m)\u001b[0m\u001b[1;33m\u001b[0m\u001b[1;33m\u001b[0m\u001b[0m\n\u001b[0m",
      "\u001b[1;32m<ipython-input-171-d98da05da201>\u001b[0m in \u001b[0;36mrun_genetic_alt\u001b[1;34m(problem, parameters, max_error)\u001b[0m\n\u001b[0;32m     38\u001b[0m         \u001b[1;31m# Select 2 Parents\u001b[0m\u001b[1;33m\u001b[0m\u001b[1;33m\u001b[0m\u001b[1;33m\u001b[0m\u001b[0m\n\u001b[0;32m     39\u001b[0m             \u001b[1;31m#parent1_index, parent2_index = choose_distinct_pair_from(number_in_population)\u001b[0m\u001b[1;33m\u001b[0m\u001b[1;33m\u001b[0m\u001b[1;33m\u001b[0m\u001b[0m\n\u001b[1;32m---> 40\u001b[1;33m             \u001b[0mparent1_index\u001b[0m\u001b[1;33m,\u001b[0m \u001b[0mparent2_index\u001b[0m \u001b[1;33m=\u001b[0m \u001b[0mparent_tour_selection\u001b[0m\u001b[1;33m(\u001b[0m\u001b[0mnumber_in_population\u001b[0m\u001b[1;33m)\u001b[0m\u001b[1;33m\u001b[0m\u001b[1;33m\u001b[0m\u001b[0m\n\u001b[0m\u001b[0;32m     41\u001b[0m             \u001b[1;31m#parent1_index, parent2_index = choose_parent_roulette(number_in_population)\u001b[0m\u001b[1;33m\u001b[0m\u001b[1;33m\u001b[0m\u001b[1;33m\u001b[0m\u001b[0m\n\u001b[0;32m     42\u001b[0m             \u001b[0mparent_1\u001b[0m \u001b[1;33m=\u001b[0m \u001b[0mpopulation\u001b[0m\u001b[1;33m[\u001b[0m\u001b[0mparent1_index\u001b[0m\u001b[1;33m]\u001b[0m\u001b[1;33m\u001b[0m\u001b[1;33m\u001b[0m\u001b[0m\n",
      "\u001b[1;32m<ipython-input-170-f3d3e89d882a>\u001b[0m in \u001b[0;36mparent_tour_selection\u001b[1;34m(pop)\u001b[0m\n\u001b[0;32m      1\u001b[0m \u001b[1;32mdef\u001b[0m \u001b[0mparent_tour_selection\u001b[0m\u001b[1;33m(\u001b[0m\u001b[0mpop\u001b[0m\u001b[1;33m)\u001b[0m\u001b[1;33m:\u001b[0m\u001b[1;33m\u001b[0m\u001b[1;33m\u001b[0m\u001b[0m\n\u001b[1;32m----> 2\u001b[1;33m     \u001b[0mparents\u001b[0m \u001b[1;33m=\u001b[0m \u001b[0mnp\u001b[0m\u001b[1;33m.\u001b[0m\u001b[0mrandom\u001b[0m\u001b[1;33m.\u001b[0m\u001b[0mchoice\u001b[0m\u001b[1;33m(\u001b[0m\u001b[0mlen\u001b[0m\u001b[1;33m(\u001b[0m\u001b[0mpop\u001b[0m\u001b[1;33m)\u001b[0m\u001b[1;33m,\u001b[0m \u001b[0mp\u001b[0m\u001b[1;33m=\u001b[0m\u001b[1;36m5\u001b[0m\u001b[1;33m)\u001b[0m\u001b[1;33m\u001b[0m\u001b[1;33m\u001b[0m\u001b[0m\n\u001b[0m\u001b[0;32m      3\u001b[0m     \u001b[0mparents\u001b[0m \u001b[1;33m=\u001b[0m \u001b[0msorted\u001b[0m\u001b[1;33m(\u001b[0m\u001b[0mparents\u001b[0m\u001b[1;33m,\u001b[0m \u001b[0mkey\u001b[0m\u001b[1;33m=\u001b[0m\u001b[1;32mlambda\u001b[0m \u001b[0magent\u001b[0m\u001b[1;33m:\u001b[0m \u001b[0magent\u001b[0m\u001b[1;33m.\u001b[0m\u001b[0mcost\u001b[0m\u001b[1;33m,\u001b[0m \u001b[0mreverse\u001b[0m\u001b[1;33m=\u001b[0m\u001b[1;32mTrue\u001b[0m\u001b[1;33m)\u001b[0m\u001b[1;33m\u001b[0m\u001b[1;33m\u001b[0m\u001b[0m\n\u001b[0;32m      4\u001b[0m     \u001b[1;32mreturn\u001b[0m \u001b[0mparents\u001b[0m\u001b[1;33m[\u001b[0m\u001b[1;36m0\u001b[0m\u001b[1;33m]\u001b[0m\u001b[1;33m,\u001b[0m \u001b[0mparents\u001b[0m\u001b[1;33m[\u001b[0m\u001b[1;36m1\u001b[0m\u001b[1;33m]\u001b[0m\u001b[1;33m\u001b[0m\u001b[1;33m\u001b[0m\u001b[0m\n",
      "\u001b[1;31mTypeError\u001b[0m: object of type 'int' has no len()"
     ]
    }
   ],
   "source": [
    "popula, best_solut = run_genetic_alt(prob_alt,para,0.0001)"
   ]
  },
  {
   "cell_type": "code",
   "execution_count": 173,
   "metadata": {},
   "outputs": [
    {
     "ename": "NameError",
     "evalue": "name 'best_solut' is not defined",
     "output_type": "error",
     "traceback": [
      "\u001b[1;31m---------------------------------------------------------------------------\u001b[0m",
      "\u001b[1;31mNameError\u001b[0m                                 Traceback (most recent call last)",
      "\u001b[1;32m<ipython-input-173-90288311a714>\u001b[0m in \u001b[0;36m<module>\u001b[1;34m\u001b[0m\n\u001b[1;32m----> 1\u001b[1;33m \u001b[0mbest_solut\u001b[0m\u001b[1;33m.\u001b[0m\u001b[0mchromosome\u001b[0m\u001b[1;33m\u001b[0m\u001b[1;33m\u001b[0m\u001b[0m\n\u001b[0m",
      "\u001b[1;31mNameError\u001b[0m: name 'best_solut' is not defined"
     ]
    }
   ],
   "source": [
    "best_solut.chromosome"
   ]
  },
  {
   "cell_type": "code",
   "execution_count": 174,
   "metadata": {},
   "outputs": [
    {
     "ename": "NameError",
     "evalue": "name 'best_solut' is not defined",
     "output_type": "error",
     "traceback": [
      "\u001b[1;31m---------------------------------------------------------------------------\u001b[0m",
      "\u001b[1;31mNameError\u001b[0m                                 Traceback (most recent call last)",
      "\u001b[1;32m<ipython-input-174-5c8d56e65cf2>\u001b[0m in \u001b[0;36m<module>\u001b[1;34m\u001b[0m\n\u001b[1;32m----> 1\u001b[1;33m \u001b[0mbest_solut\u001b[0m\u001b[1;33m.\u001b[0m\u001b[0mcost\u001b[0m\u001b[1;33m\u001b[0m\u001b[1;33m\u001b[0m\u001b[0m\n\u001b[0m",
      "\u001b[1;31mNameError\u001b[0m: name 'best_solut' is not defined"
     ]
    }
   ],
   "source": [
    "best_solut.cost"
   ]
  },
  {
   "cell_type": "code",
   "execution_count": 177,
   "metadata": {},
   "outputs": [],
   "source": [
    "def test_genetic_alt(number_of_runs,problem,parameters,max_error):\n",
    "    start_time = time.perf_counter()\n",
    "    for i in range(number_of_runs):\n",
    "        run_genetic_alt(problem,parameters,max_error)\n",
    "    return time.perf_counter() - start_time"
   ]
  },
  {
   "cell_type": "code",
   "execution_count": 179,
   "metadata": {},
   "outputs": [
    {
     "ename": "TypeError",
     "evalue": "object of type 'int' has no len()",
     "output_type": "error",
     "traceback": [
      "\u001b[1;31m---------------------------------------------------------------------------\u001b[0m",
      "\u001b[1;31mTypeError\u001b[0m                                 Traceback (most recent call last)",
      "\u001b[1;32m<ipython-input-179-3fdd6f601cdd>\u001b[0m in \u001b[0;36m<module>\u001b[1;34m\u001b[0m\n\u001b[1;32m----> 1\u001b[1;33m \u001b[0mtest_genetic_alt\u001b[0m\u001b[1;33m(\u001b[0m\u001b[1;36m100\u001b[0m\u001b[1;33m,\u001b[0m\u001b[0mprob_alt\u001b[0m\u001b[1;33m,\u001b[0m\u001b[0mpara\u001b[0m\u001b[1;33m,\u001b[0m\u001b[1;36m0.0001\u001b[0m\u001b[1;33m)\u001b[0m\u001b[1;33m\u001b[0m\u001b[1;33m\u001b[0m\u001b[0m\n\u001b[0m",
      "\u001b[1;32m<ipython-input-177-f1f70c25999f>\u001b[0m in \u001b[0;36mtest_genetic_alt\u001b[1;34m(number_of_runs, problem, parameters, max_error)\u001b[0m\n\u001b[0;32m      2\u001b[0m     \u001b[0mstart_time\u001b[0m \u001b[1;33m=\u001b[0m \u001b[0mtime\u001b[0m\u001b[1;33m.\u001b[0m\u001b[0mperf_counter\u001b[0m\u001b[1;33m(\u001b[0m\u001b[1;33m)\u001b[0m\u001b[1;33m\u001b[0m\u001b[1;33m\u001b[0m\u001b[0m\n\u001b[0;32m      3\u001b[0m     \u001b[1;32mfor\u001b[0m \u001b[0mi\u001b[0m \u001b[1;32min\u001b[0m \u001b[0mrange\u001b[0m\u001b[1;33m(\u001b[0m\u001b[0mnumber_of_runs\u001b[0m\u001b[1;33m)\u001b[0m\u001b[1;33m:\u001b[0m\u001b[1;33m\u001b[0m\u001b[1;33m\u001b[0m\u001b[0m\n\u001b[1;32m----> 4\u001b[1;33m         \u001b[0mrun_genetic_alt\u001b[0m\u001b[1;33m(\u001b[0m\u001b[0mproblem\u001b[0m\u001b[1;33m,\u001b[0m\u001b[0mparameters\u001b[0m\u001b[1;33m,\u001b[0m\u001b[0mmax_error\u001b[0m\u001b[1;33m)\u001b[0m\u001b[1;33m\u001b[0m\u001b[1;33m\u001b[0m\u001b[0m\n\u001b[0m\u001b[0;32m      5\u001b[0m     \u001b[1;32mreturn\u001b[0m \u001b[0mtime\u001b[0m\u001b[1;33m.\u001b[0m\u001b[0mperf_counter\u001b[0m\u001b[1;33m(\u001b[0m\u001b[1;33m)\u001b[0m \u001b[1;33m-\u001b[0m \u001b[0mstart_time\u001b[0m\u001b[1;33m\u001b[0m\u001b[1;33m\u001b[0m\u001b[0m\n",
      "\u001b[1;32m<ipython-input-171-d98da05da201>\u001b[0m in \u001b[0;36mrun_genetic_alt\u001b[1;34m(problem, parameters, max_error)\u001b[0m\n\u001b[0;32m     38\u001b[0m         \u001b[1;31m# Select 2 Parents\u001b[0m\u001b[1;33m\u001b[0m\u001b[1;33m\u001b[0m\u001b[1;33m\u001b[0m\u001b[0m\n\u001b[0;32m     39\u001b[0m             \u001b[1;31m#parent1_index, parent2_index = choose_distinct_pair_from(number_in_population)\u001b[0m\u001b[1;33m\u001b[0m\u001b[1;33m\u001b[0m\u001b[1;33m\u001b[0m\u001b[0m\n\u001b[1;32m---> 40\u001b[1;33m             \u001b[0mparent1_index\u001b[0m\u001b[1;33m,\u001b[0m \u001b[0mparent2_index\u001b[0m \u001b[1;33m=\u001b[0m \u001b[0mparent_tour_selection\u001b[0m\u001b[1;33m(\u001b[0m\u001b[0mnumber_in_population\u001b[0m\u001b[1;33m)\u001b[0m\u001b[1;33m\u001b[0m\u001b[1;33m\u001b[0m\u001b[0m\n\u001b[0m\u001b[0;32m     41\u001b[0m             \u001b[1;31m#parent1_index, parent2_index = choose_parent_roulette(number_in_population)\u001b[0m\u001b[1;33m\u001b[0m\u001b[1;33m\u001b[0m\u001b[1;33m\u001b[0m\u001b[0m\n\u001b[0;32m     42\u001b[0m             \u001b[0mparent_1\u001b[0m \u001b[1;33m=\u001b[0m \u001b[0mpopulation\u001b[0m\u001b[1;33m[\u001b[0m\u001b[0mparent1_index\u001b[0m\u001b[1;33m]\u001b[0m\u001b[1;33m\u001b[0m\u001b[1;33m\u001b[0m\u001b[0m\n",
      "\u001b[1;32m<ipython-input-170-f3d3e89d882a>\u001b[0m in \u001b[0;36mparent_tour_selection\u001b[1;34m(pop)\u001b[0m\n\u001b[0;32m      1\u001b[0m \u001b[1;32mdef\u001b[0m \u001b[0mparent_tour_selection\u001b[0m\u001b[1;33m(\u001b[0m\u001b[0mpop\u001b[0m\u001b[1;33m)\u001b[0m\u001b[1;33m:\u001b[0m\u001b[1;33m\u001b[0m\u001b[1;33m\u001b[0m\u001b[0m\n\u001b[1;32m----> 2\u001b[1;33m     \u001b[0mparents\u001b[0m \u001b[1;33m=\u001b[0m \u001b[0mnp\u001b[0m\u001b[1;33m.\u001b[0m\u001b[0mrandom\u001b[0m\u001b[1;33m.\u001b[0m\u001b[0mchoice\u001b[0m\u001b[1;33m(\u001b[0m\u001b[0mlen\u001b[0m\u001b[1;33m(\u001b[0m\u001b[0mpop\u001b[0m\u001b[1;33m)\u001b[0m\u001b[1;33m,\u001b[0m \u001b[0mp\u001b[0m\u001b[1;33m=\u001b[0m\u001b[1;36m5\u001b[0m\u001b[1;33m)\u001b[0m\u001b[1;33m\u001b[0m\u001b[1;33m\u001b[0m\u001b[0m\n\u001b[0m\u001b[0;32m      3\u001b[0m     \u001b[0mparents\u001b[0m \u001b[1;33m=\u001b[0m \u001b[0msorted\u001b[0m\u001b[1;33m(\u001b[0m\u001b[0mparents\u001b[0m\u001b[1;33m,\u001b[0m \u001b[0mkey\u001b[0m\u001b[1;33m=\u001b[0m\u001b[1;32mlambda\u001b[0m \u001b[0magent\u001b[0m\u001b[1;33m:\u001b[0m \u001b[0magent\u001b[0m\u001b[1;33m.\u001b[0m\u001b[0mcost\u001b[0m\u001b[1;33m,\u001b[0m \u001b[0mreverse\u001b[0m\u001b[1;33m=\u001b[0m\u001b[1;32mTrue\u001b[0m\u001b[1;33m)\u001b[0m\u001b[1;33m\u001b[0m\u001b[1;33m\u001b[0m\u001b[0m\n\u001b[0;32m      4\u001b[0m     \u001b[1;32mreturn\u001b[0m \u001b[0mparents\u001b[0m\u001b[1;33m[\u001b[0m\u001b[1;36m0\u001b[0m\u001b[1;33m]\u001b[0m\u001b[1;33m,\u001b[0m \u001b[0mparents\u001b[0m\u001b[1;33m[\u001b[0m\u001b[1;36m1\u001b[0m\u001b[1;33m]\u001b[0m\u001b[1;33m\u001b[0m\u001b[1;33m\u001b[0m\u001b[0m\n",
      "\u001b[1;31mTypeError\u001b[0m: object of type 'int' has no len()"
     ]
    }
   ],
   "source": [
    "test_genetic_alt(100,prob_alt,para,0.0001)"
   ]
  },
  {
   "cell_type": "code",
   "execution_count": null,
   "metadata": {},
   "outputs": [],
   "source": []
  }
 ],
 "metadata": {
  "kernelspec": {
   "display_name": "Python 3",
   "language": "python",
   "name": "python3"
  },
  "language_info": {
   "codemirror_mode": {
    "name": "ipython",
    "version": 3
   },
   "file_extension": ".py",
   "mimetype": "text/x-python",
   "name": "python",
   "nbconvert_exporter": "python",
   "pygments_lexer": "ipython3",
   "version": "3.7.4"
  }
 },
 "nbformat": 4,
 "nbformat_minor": 2
}
