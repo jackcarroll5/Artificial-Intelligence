{
 "cells": [
  {
   "cell_type": "code",
   "execution_count": 1,
   "metadata": {},
   "outputs": [],
   "source": [
    "#imports here\n",
    "import numpy as np\n",
    "import matplotlib.pyplot as plt\n",
    "from copy import deepcopy\n",
    "import time"
   ]
  },
  {
   "cell_type": "code",
   "execution_count": 2,
   "metadata": {},
   "outputs": [],
   "source": [
    "x = np.array([0.03, 9.34, 0.12])"
   ]
  },
  {
   "cell_type": "code",
   "execution_count": 3,
   "metadata": {},
   "outputs": [],
   "source": [
    "#Test Function\n",
    "def sphere_function(x):\n",
    "    return sum((x**2 - 2*x - 4)**2)"
   ]
  },
  {
   "cell_type": "code",
   "execution_count": 4,
   "metadata": {},
   "outputs": [
    {
     "data": {
      "text/plain": [
       "4201.75747953"
      ]
     },
     "execution_count": 4,
     "metadata": {},
     "output_type": "execute_result"
    }
   ],
   "source": [
    "sphere_function(x)"
   ]
  },
  {
   "cell_type": "code",
   "execution_count": 5,
   "metadata": {},
   "outputs": [],
   "source": [
    "# Problem to be defined here as a class (or struct) struct = Structure\n",
    "class problem:\n",
    "        \n",
    "        def __init__(self):\n",
    "\n",
    "        # Cost Function\n",
    "          self.cost_function = sphere_function\n",
    "\n",
    "        # Number of genes (Variables in individual)\n",
    "          self.number_of_genes = 5\n",
    "\n",
    "        # Max Gene Value\n",
    "          self.maximum_value = 10\n",
    "\n",
    "        # Min Gene Value\n",
    "          self.minimum_value = -10"
   ]
  },
  {
   "cell_type": "code",
   "execution_count": 6,
   "metadata": {},
   "outputs": [],
   "source": [
    "p1 = problem()"
   ]
  },
  {
   "cell_type": "code",
   "execution_count": 7,
   "metadata": {},
   "outputs": [
    {
     "data": {
      "text/plain": [
       "-10"
      ]
     },
     "execution_count": 7,
     "metadata": {},
     "output_type": "execute_result"
    }
   ],
   "source": [
    "p1.minimum_value"
   ]
  },
  {
   "cell_type": "code",
   "execution_count": 8,
   "metadata": {},
   "outputs": [
    {
     "data": {
      "text/plain": [
       "10"
      ]
     },
     "execution_count": 8,
     "metadata": {},
     "output_type": "execute_result"
    }
   ],
   "source": [
    "p1.maximum_value"
   ]
  },
  {
   "cell_type": "code",
   "execution_count": 9,
   "metadata": {},
   "outputs": [
    {
     "data": {
      "text/plain": [
       "5"
      ]
     },
     "execution_count": 9,
     "metadata": {},
     "output_type": "execute_result"
    }
   ],
   "source": [
    "p1.number_of_genes"
   ]
  },
  {
   "cell_type": "code",
   "execution_count": 10,
   "metadata": {},
   "outputs": [],
   "source": [
    "#Genetic Algorithm parameters here as class or struct\n",
    "class parameters():\n",
    "    def __init__(self):\n",
    "               \n",
    "        # Number of iterations of genetic algorithm\n",
    "            self.number_of_iterations = 100\n",
    "        \n",
    "        # Number of individuals in population\n",
    "            self.number_in_population = 50\n",
    "          \n",
    "        # Rate of new children per iteration\n",
    "            self.child_rate = 1\n",
    "            \n",
    "        # Number of children    \n",
    "            self.number_of_children = self.number_in_population * self.child_rate\n",
    "            \n",
    "         # Exploration rate (Gamma)   \n",
    "            self.explore_rate = 0.1\n",
    "          \n",
    "         # Mutation rate - Probability that individual gene will be mutated\n",
    "            self.mutation_rate = 0.2\n",
    "        \n",
    "        # Mutation Range - Determines the amount an individual gene will change\n",
    "            self.mutation_range = 0.1\n",
    "            \n",
    "    def to_string(self):\n",
    "        return \"Iterations/Generations {} Population {} Children No {} Child Rate {} Explore Rate {} Mutation Rate {} Mutation Range {}\".format(self.number_of_iterations,self.number_in_population,self.number_of_children,self.child_rate,self.explore_rate,self.mutation_rate,self.mutation_range)"
   ]
  },
  {
   "cell_type": "code",
   "execution_count": 11,
   "metadata": {},
   "outputs": [],
   "source": [
    "# Structure for individual of population as class or struct\n",
    "class individual:\n",
    "    \n",
    "    # Genotype or Chromosome\n",
    "        chromosome = None\n",
    "        \n",
    "    # Cost for individual\n",
    "        cost = 0\n",
    "        \n",
    "    # Constructor(s)     \n",
    "        # if problem is passed as parameter to constructor, a random individual is generated\n",
    "    #   https://docs.python.org/3/glossary.html#term-argument\n",
    "        def __init__(self,problem = None):\n",
    "               \n",
    "            if problem is not None:\n",
    "                self.chromosome = np.random.uniform(problem.minimum_value,problem.maximum_value,problem.number_of_genes)\n",
    "                self.cost = problem.cost_function(self.chromosome)#Fitness\n",
    "    \n",
    "    # Crossover with another indivdual method\n",
    "        def crossover(self,other_individual,explore_rate):\n",
    "            child1 = deepcopy(self)\n",
    "            child2 = deepcopy(other_individual)\n",
    "            \n",
    "            # Individual alpha for each child\n",
    "            # Shape of chromosome (returns 5)\n",
    "            alpha = np.random.uniform(-explore_rate, 1 + explore_rate, child1.chromosome.shape)\n",
    "            child1.chromosome = alpha * self.chromosome + (1 - alpha) * other_individual.chromosome\n",
    "            child2.chromosome = alpha * other_individual.chromosome + (1 - alpha) * self.chromosome\n",
    "            return child1,child2\n",
    "        \n",
    "    # Mutate method\n",
    "        def mutate(self,rate,range_of_change):\n",
    "            for i in range(len(self.chromosome)):\n",
    "                if np.random.rand() < rate:\n",
    "                    # Normal Distribution\n",
    "                    self.chromosome[i] += np.random.randn() * range_of_change\n"
   ]
  },
  {
   "cell_type": "code",
   "execution_count": 12,
   "metadata": {},
   "outputs": [],
   "source": [
    "i = individual(p1)"
   ]
  },
  {
   "cell_type": "code",
   "execution_count": 13,
   "metadata": {},
   "outputs": [],
   "source": [
    "j = individual(p1)"
   ]
  },
  {
   "cell_type": "code",
   "execution_count": 14,
   "metadata": {},
   "outputs": [],
   "source": [
    "c1,c2 = i.crossover(j,0.1)"
   ]
  },
  {
   "cell_type": "code",
   "execution_count": 15,
   "metadata": {},
   "outputs": [
    {
     "data": {
      "text/plain": [
       "(2237.786581263953, 3086.3279294040594)"
      ]
     },
     "execution_count": 15,
     "metadata": {},
     "output_type": "execute_result"
    }
   ],
   "source": [
    "c1.cost,c2.cost"
   ]
  },
  {
   "cell_type": "code",
   "execution_count": 16,
   "metadata": {},
   "outputs": [
    {
     "data": {
      "text/plain": [
       "array([ 3.88110894,  2.86811021, -4.59658861, -5.62031823,  1.29930634])"
      ]
     },
     "execution_count": 16,
     "metadata": {},
     "output_type": "execute_result"
    }
   ],
   "source": [
    "i.chromosome"
   ]
  },
  {
   "cell_type": "code",
   "execution_count": 17,
   "metadata": {},
   "outputs": [
    {
     "data": {
      "text/plain": [
       "array([ 2.3844538 , -2.68582947, -0.65110408, -6.72987865,  3.11710694])"
      ]
     },
     "execution_count": 17,
     "metadata": {},
     "output_type": "execute_result"
    }
   ],
   "source": [
    "j.chromosome"
   ]
  },
  {
   "cell_type": "code",
   "execution_count": 18,
   "metadata": {},
   "outputs": [
    {
     "data": {
      "text/plain": [
       "5"
      ]
     },
     "execution_count": 18,
     "metadata": {},
     "output_type": "execute_result"
    }
   ],
   "source": [
    "len(c1.chromosome)"
   ]
  },
  {
   "cell_type": "code",
   "execution_count": 19,
   "metadata": {},
   "outputs": [],
   "source": [
    "def choose_distinct_pair_from(population_size):\n",
    "    index1 = np.random.randint(population_size)\n",
    "    index2 = np.random.randint(population_size)\n",
    "    \n",
    "    if index1 == index2:\n",
    "        return choose_distinct_pair_from(population_size)\n",
    "    else:\n",
    "        return index1,index2"
   ]
  },
  {
   "cell_type": "code",
   "execution_count": null,
   "metadata": {},
   "outputs": [],
   "source": [
    "t = \"R \"\n",
    "q = \"w\""
   ]
  },
  {
   "cell_type": "code",
   "execution_count": null,
   "metadata": {},
   "outputs": [],
   "source": [
    "if \"Rob Sheehy\" < \"rob sheehy\":\n",
    "    print(\"hello\")"
   ]
  },
  {
   "cell_type": "code",
   "execution_count": 20,
   "metadata": {},
   "outputs": [
    {
     "data": {
      "text/plain": [
       "(0, 1)"
      ]
     },
     "execution_count": 20,
     "metadata": {},
     "output_type": "execute_result"
    }
   ],
   "source": [
    "choose_distinct_pair_from(3)"
   ]
  },
  {
   "cell_type": "code",
   "execution_count": 21,
   "metadata": {},
   "outputs": [
    {
     "data": {
      "text/plain": [
       "2237.786581263953"
      ]
     },
     "execution_count": 21,
     "metadata": {},
     "output_type": "execute_result"
    }
   ],
   "source": [
    "i.cost"
   ]
  },
  {
   "cell_type": "code",
   "execution_count": 22,
   "metadata": {},
   "outputs": [
    {
     "data": {
      "text/plain": [
       "3086.3279294040594"
      ]
     },
     "execution_count": 22,
     "metadata": {},
     "output_type": "execute_result"
    }
   ],
   "source": [
    "j.cost"
   ]
  },
  {
   "cell_type": "code",
   "execution_count": 23,
   "metadata": {},
   "outputs": [
    {
     "data": {
      "text/plain": [
       "array([ 0.13209917, -0.83659245, -0.15982055, -1.48743347, -0.51298489])"
      ]
     },
     "execution_count": 23,
     "metadata": {},
     "output_type": "execute_result"
    }
   ],
   "source": [
    "np.random.uniform(-2,2,5)"
   ]
  },
  {
   "cell_type": "code",
   "execution_count": 24,
   "metadata": {},
   "outputs": [
    {
     "data": {
      "text/plain": [
       "range(0, 9)"
      ]
     },
     "execution_count": 24,
     "metadata": {},
     "output_type": "execute_result"
    }
   ],
   "source": [
    "range(0,9)"
   ]
  },
  {
   "cell_type": "code",
   "execution_count": 25,
   "metadata": {},
   "outputs": [],
   "source": [
    "def run_genetic(problem, parameters, max_error):\n",
    "    \n",
    "    #read problem\n",
    "    #Fitness Function\n",
    "    cost_function = problem.cost_function\n",
    "    \n",
    "    #read parameters\n",
    "    number_in_population = parameters.number_in_population\n",
    "    number_of_iterations = parameters.number_of_iterations\n",
    "    number_of_children = parameters.number_of_children\n",
    "    explore_rate = parameters.explore_rate\n",
    "    mutation_rate = parameters.mutation_rate\n",
    "    mutation_range = parameters.mutation_range\n",
    "    \n",
    "    #placeholder for best solution\n",
    "    best_solution = deepcopy(individual())\n",
    "    best_solution.cost = np.infty\n",
    "    \n",
    "    # Placeholder for best cost at each iteration\n",
    "    #best_costs = []\n",
    "    \n",
    "    population = []\n",
    "    \n",
    "    #initialize population for the above problem. i.e. generate random individuals\n",
    "    for i in range(number_in_population):\n",
    "        new_individual = individual(problem)\n",
    "        population.append(new_individual)\n",
    "        if new_individual.cost < best_solution.cost:#Cost = Fitness\n",
    "            best_solution = deepcopy(new_individual)\n",
    "            \n",
    "    for iteration in range(number_of_iterations):      \n",
    "        # generate a new population of children\n",
    "        children = []\n",
    "        \n",
    "        # How Many Children\n",
    "        while len(children) < number_of_children:\n",
    "            \n",
    "        # Select 2 Parents\n",
    "            parent1_index, parent2_index = choose_distinct_pair_from(number_in_population)\n",
    "            parent_1 = population[parent1_index]\n",
    "            parent_2 = population[parent2_index]\n",
    "            #print(\"Parent 1 {} Parent 2 {}\".format(parent_1,parent_2))\n",
    "            \n",
    "        # Use crossover to produce 2 children\n",
    "            child_1,child_2 = parent_1.crossover(parent_2, explore_rate)\n",
    "            \n",
    "        # Mutate these children\n",
    "            child_1.mutate(mutation_rate, mutation_range)\n",
    "            child_2.mutate(mutation_rate, mutation_range)\n",
    "            \n",
    "        # calculate costs (Fitness) for these children\n",
    "            child_1.cost = cost_function(child_1.chromosome)\n",
    "            child_2.cost = cost_function(child_2.chromosome)\n",
    "            #print(\"Child 1 Cost {} Child 2 Cost {}\".format(child_1.cost,child_2.cost))\n",
    "                \n",
    "        # add to the children population\n",
    "            children.append(child_1)\n",
    "            children.append(child_2)\n",
    "            \n",
    "        #merge parent and child populations    \n",
    "        population += children\n",
    "        \n",
    "        #Sort into ascending order of cost\n",
    "        population = sorted(population,key = lambda x: x.cost)#List of individuals\n",
    "        \n",
    "        #Select population next iteration\n",
    "        population = population[0:number_in_population]\n",
    "        \n",
    "        #update best solution - Fitness\n",
    "        if population[0].cost < best_solution.cost:\n",
    "            best_solution = deepcopy(population[0])\n",
    "            \n",
    "        #print iteration results\n",
    "        #print(\"Iteration/Generation {} \\nBest Cost/Fitness {} \\nBest Cost Chromosome {} \\n\".format(iteration,best_solution.cost,best_solution.chromosome))\n",
    "        #best_costs.append(best_solution.cost)\n",
    "        #output results ?? class/struct/ best solution/ population?\n",
    "        if best_solution.cost < max_error:\n",
    "            #print(\"Stopped at {} Iterations\".format(iteration))\n",
    "            break\n",
    "            \n",
    "    #plt.semilogy(best_costs)\n",
    "    #plt.xlabel(\"Iterations\")\n",
    "    #plt.ylabel(\"Best Cost\")\n",
    "    #plt.title(\"Genetic Algorithm \\n\" + parameters.to_string())\n",
    "    #print(\"Solution Score {}\".format(best_solution.chromosome))\n",
    "    return population, best_solution      "
   ]
  },
  {
   "cell_type": "code",
   "execution_count": 26,
   "metadata": {},
   "outputs": [],
   "source": [
    "prob = problem()"
   ]
  },
  {
   "cell_type": "code",
   "execution_count": 27,
   "metadata": {},
   "outputs": [],
   "source": [
    "pars = parameters()"
   ]
  },
  {
   "cell_type": "code",
   "execution_count": 28,
   "metadata": {},
   "outputs": [
    {
     "data": {
      "text/plain": [
       "'Iterations/Generations 100 Population 50 Children No 50 Child Rate 1 Explore Rate 0.1 Mutation Rate 0.2 Mutation Range 0.1'"
      ]
     },
     "execution_count": 28,
     "metadata": {},
     "output_type": "execute_result"
    }
   ],
   "source": [
    "pars.to_string()"
   ]
  },
  {
   "cell_type": "code",
   "execution_count": 29,
   "metadata": {},
   "outputs": [],
   "source": [
    "final_pop, best_solution = run_genetic(prob,pars,0.1)"
   ]
  },
  {
   "cell_type": "code",
   "execution_count": 30,
   "metadata": {},
   "outputs": [
    {
     "data": {
      "text/plain": [
       "array([ 3.21242305, -1.22652961, -1.21780655, -1.2509717 , -1.18831926])"
      ]
     },
     "execution_count": 30,
     "metadata": {},
     "output_type": "execute_result"
    }
   ],
   "source": [
    "best_solution.chromosome"
   ]
  },
  {
   "cell_type": "code",
   "execution_count": 31,
   "metadata": {},
   "outputs": [
    {
     "data": {
      "text/plain": [
       "0.06859317404386542"
      ]
     },
     "execution_count": 31,
     "metadata": {},
     "output_type": "execute_result"
    }
   ],
   "source": [
    "best_solution.cost"
   ]
  },
  {
   "cell_type": "code",
   "execution_count": 32,
   "metadata": {},
   "outputs": [],
   "source": [
    "def test_genetic(number_of_runs,problem,parameters,max_error):\n",
    "    start_time = time.perf_counter()\n",
    "    for i in range(number_of_runs):\n",
    "        run_genetic(problem,parameters,max_error)\n",
    "    return time.perf_counter() - start_time"
   ]
  },
  {
   "cell_type": "code",
   "execution_count": 33,
   "metadata": {},
   "outputs": [
    {
     "data": {
      "text/plain": [
       "31.134366599999964"
      ]
     },
     "execution_count": 33,
     "metadata": {},
     "output_type": "execute_result"
    }
   ],
   "source": [
    "test_genetic(100,prob,pars,0.0001)"
   ]
  },
  {
   "cell_type": "markdown",
   "metadata": {},
   "source": [
    "<h3>The code above shows the time taken for the algorithm to complete when the number of runs is 100 which uses the original parameters at the start of the notebook in the parameters class. The time takes longer when the number of runs is higher as it goes through the algorithm 100 times to show the best solution for the algortihm. That can be tweaked to search for the perfect optimal solution. The error rate here is 0.0001 which shows that the risk of an error is quite low for forming an optimal solution. Once a best solution cost goes below the error rate, the algorithm finishes if it is just one run of the algorithm or 50. The number of iterations in the parameters class is set at 100 anyway where the entire population is basically children.<h3>"
   ]
  },
  {
   "cell_type": "code",
   "execution_count": 34,
   "metadata": {},
   "outputs": [
    {
     "data": {
      "text/plain": [
       "3.2822366999999986"
      ]
     },
     "execution_count": 34,
     "metadata": {},
     "output_type": "execute_result"
    }
   ],
   "source": [
    "test_genetic(10,prob,pars,0.0001)"
   ]
  },
  {
   "cell_type": "markdown",
   "metadata": {},
   "source": [
    "<h3>The code above shows the time taken for the algorithm to complete when the number of runs is 10 that uses the original parameters at the start of the notebook in the parameters class. The time taken to complete this test is shorter as the number of runs is less than the first test where the genetic algortihm is carried out 100 times. With the number of children set at 50 which is half of the population where the population number is set at 100, this allows the genetic algorithm to run quite quickly.<h3>"
   ]
  },
  {
   "cell_type": "code",
   "execution_count": 35,
   "metadata": {},
   "outputs": [],
   "source": [
    "def test_explore():\n",
    "    times_for_explore_rate = []\n",
    "    for i in range(10):\n",
    "        pars.explore_rate = float(i) / 5.0\n",
    "        times_for_explore_rate.append(test_genetic(10,prob,pars,0.1))\n",
    "        print(\"Explore Rate {} \\nTime for Explore Rate {}\\n\".format(pars.explore_rate,times_for_explore_rate))\n",
    "    plt.xlabel(\"Iterations\")\n",
    "    plt.ylabel(\"Best Score - Times for Explore Rate\")\n",
    "    plt.title(\"Genetic Algorithm\")\n",
    "    plt.plot(times_for_explore_rate)\n",
    "    print(\"Cost {} Chromosome {}\".format(best_solution.cost,best_solution.chromosome))"
   ]
  },
  {
   "cell_type": "code",
   "execution_count": 36,
   "metadata": {},
   "outputs": [
    {
     "name": "stdout",
     "output_type": "stream",
     "text": [
      "Explore Rate 0.0 \n",
      "Time for Explore Rate [2.497994799999958]\n",
      "\n",
      "Explore Rate 0.2 \n",
      "Time for Explore Rate [2.497994799999958, 1.6379714000000263]\n",
      "\n",
      "Explore Rate 0.4 \n",
      "Time for Explore Rate [2.497994799999958, 1.6379714000000263, 1.3892634000000044]\n",
      "\n",
      "Explore Rate 0.6 \n",
      "Time for Explore Rate [2.497994799999958, 1.6379714000000263, 1.3892634000000044, 1.8165311000000202]\n",
      "\n",
      "Explore Rate 0.8 \n",
      "Time for Explore Rate [2.497994799999958, 1.6379714000000263, 1.3892634000000044, 1.8165311000000202, 2.4821999999999775]\n",
      "\n",
      "Explore Rate 1.0 \n",
      "Time for Explore Rate [2.497994799999958, 1.6379714000000263, 1.3892634000000044, 1.8165311000000202, 2.4821999999999775, 2.653408500000012]\n",
      "\n",
      "Explore Rate 1.2 \n",
      "Time for Explore Rate [2.497994799999958, 1.6379714000000263, 1.3892634000000044, 1.8165311000000202, 2.4821999999999775, 2.653408500000012, 4.852819399999987]\n",
      "\n",
      "Explore Rate 1.4 \n",
      "Time for Explore Rate [2.497994799999958, 1.6379714000000263, 1.3892634000000044, 1.8165311000000202, 2.4821999999999775, 2.653408500000012, 4.852819399999987, 8.910655199999951]\n",
      "\n",
      "Explore Rate 1.6 \n",
      "Time for Explore Rate [2.497994799999958, 1.6379714000000263, 1.3892634000000044, 1.8165311000000202, 2.4821999999999775, 2.653408500000012, 4.852819399999987, 8.910655199999951, 8.12733780000002]\n",
      "\n",
      "Explore Rate 1.8 \n",
      "Time for Explore Rate [2.497994799999958, 1.6379714000000263, 1.3892634000000044, 1.8165311000000202, 2.4821999999999775, 2.653408500000012, 4.852819399999987, 8.910655199999951, 8.12733780000002, 6.504187800000011]\n",
      "\n",
      "Cost 0.06859317404386542 Chromosome [ 3.21242305 -1.22652961 -1.21780655 -1.2509717  -1.18831926]\n"
     ]
    },
    {
     "data": {
      "image/png": "[encoded data removed]",
      "text/plain": [
       "<Figure size 432x288 with 1 Axes>"
      ]
     },
     "metadata": {
      "needs_background": "light"
     },
     "output_type": "display_data"
    }
   ],
   "source": [
    "test_explore()"
   ]
  },
  {
   "cell_type": "markdown",
   "metadata": {},
   "source": [
    "<h3>With this graph, the population size of 50 is used here where an explore rate of 0.1 is utilized that runs across 10 iterations. The mutation rate is 0.2 and the mutation range is 0.1. The number of iterations used for the algorithm is 10 in this test. The best solution score of the algorithm in this case is actually reached during the second iteration where the graph starts decreasing during the first iteration but rises after reaching the quickest time to perform the algortihm as the iterations progress due to the number of children in the population being 50 which peaks here at the end as the mutation range and rate are low in this first test. The number of children turns out to be 50 here too due to the child rate being 1 in the parameters class where the explore rate time to reach the best solution cost just below the error rate is quick at the start of the algorithm. However, the explore rate seems to have an impact on the efficiency of the algorithm as time progresses as the iteration is repeated multiple times where a higher best solution cost seems to be reached as the test progresses which veers further away from the actual best solution cost which would be lower.<h3>"
   ]
  },
  {
   "cell_type": "code",
   "execution_count": 46,
   "metadata": {},
   "outputs": [],
   "source": [
    "def test_explore_alt():\n",
    "    times_for_explore_rate = []\n",
    "    for i in range(20):\n",
    "        pars.explore_rate = float(i) / 5.0\n",
    "        times_for_explore_rate.append(test_genetic(10,prob,pars,0.1))\n",
    "    plt.xlabel(\"Iterations\")\n",
    "    plt.ylabel(\"Best Score - Times for Explore Rate\")\n",
    "    plt.title(\"Genetic Algorithm\")\n",
    "    plt.plot(times_for_explore_rate)\n",
    "    print(\"Cost {} Chromosome {}\".format(best_solution.cost,best_solution.chromosome))"
   ]
  },
  {
   "cell_type": "code",
   "execution_count": 47,
   "metadata": {},
   "outputs": [
    {
     "name": "stdout",
     "output_type": "stream",
     "text": [
      "Cost 0.06859317404386542 Chromosome [ 3.21242305 -1.22652961 -1.21780655 -1.2509717  -1.18831926]\n"
     ]
    },
    {
     "data": {
      "image/png": "[encoded data removed]",
      "text/plain": [
       "<Figure size 432x288 with 1 Axes>"
      ]
     },
     "metadata": {
      "needs_background": "light"
     },
     "output_type": "display_data"
    }
   ],
   "source": [
    "test_explore_alt()"
   ]
  },
  {
   "cell_type": "markdown",
   "metadata": {},
   "source": [
    "<h3>This time, when the algorithm is ran 20 times, the best solution cost is reached quite quickly in a shorter amount of time than the previous explore rate test as the quest towards the optimal solution begins with the switching of the parameters where the first two tests here are based on the original parameters at the beginning of the notebook. The graph increases and decreases as the 20 runs of the algorithm progresses where the algorithm takes longer towards the end of the test than the beginning of the test. As the number of iterations progresses, the time it takes for the best solution cost to be reached or for the best solution cost of each iteration to reach or get close to the optimal solution is much longer than the beginning of the test as the explore rate is low at the beginning of the testing phase.<h3>"
   ]
  },
  {
   "cell_type": "code",
   "execution_count": 39,
   "metadata": {},
   "outputs": [
    {
     "data": {
      "text/plain": [
       "0.06859317404386542"
      ]
     },
     "execution_count": 39,
     "metadata": {},
     "output_type": "execute_result"
    }
   ],
   "source": [
    "best_solution.cost"
   ]
  },
  {
   "cell_type": "code",
   "execution_count": 40,
   "metadata": {},
   "outputs": [],
   "source": [
    "pars.explore_rate = 0.5"
   ]
  },
  {
   "cell_type": "code",
   "execution_count": 41,
   "metadata": {},
   "outputs": [
    {
     "data": {
      "text/plain": [
       "42.88330169999995"
      ]
     },
     "execution_count": 41,
     "metadata": {},
     "output_type": "execute_result"
    }
   ],
   "source": [
    "test_genetic(100,prob,pars,0.0001)"
   ]
  },
  {
   "cell_type": "markdown",
   "metadata": {},
   "source": [
    "<h3>With the explore rate set at 0.5, the time it takes for 100 runs of the genetic algortihm is longer than when the explore rate is inputted as 0.1. This shows that a higher explore rate searches the search space as much as possible which would allow for an efficient way to serach for the perfect answer quickly. The exploration is done at the start of the algorithm. This makes it more harder to find the defining solution despite a chance that an answer can be found more quickly. This test leads to a lower chance of solving the algorithm quickly in multiple iterations to reach the optimal solution in a short time period.<h3>"
   ]
  },
  {
   "cell_type": "code",
   "execution_count": 42,
   "metadata": {},
   "outputs": [
    {
     "data": {
      "text/plain": [
       "4.634009699999979"
      ]
     },
     "execution_count": 42,
     "metadata": {},
     "output_type": "execute_result"
    }
   ],
   "source": [
    "test_genetic(10,prob,pars,0.0001)"
   ]
  },
  {
   "cell_type": "markdown",
   "metadata": {},
   "source": [
    "<h3>Unsurprisingly, the time to compute the genetic algorithm across ten runs shown above occurs slower than when the explore rate is set at 0.1 compared to 0.5. The value may be lower than 1 for example for the explore rate but it looks like the target could be reached within the optimal solution answer where the cost would be reached once a best cost solution goes less than the error rate. A higher exploration rate results in a slightly longer time period to reach the optimal cost or to get as close to the best solution as possible than when the explore rate was set up at 0.1.<h3>"
   ]
  },
  {
   "cell_type": "code",
   "execution_count": 43,
   "metadata": {},
   "outputs": [
    {
     "name": "stdout",
     "output_type": "stream",
     "text": [
      "Explore Rate 0.0 \n",
      "Time for Explore Rate [1.5130728999993153]\n",
      "\n",
      "Explore Rate 0.2 \n",
      "Time for Explore Rate [1.5130728999993153, 0.9786156999998639]\n",
      "\n",
      "Explore Rate 0.4 \n",
      "Time for Explore Rate [1.5130728999993153, 0.9786156999998639, 1.4766483000003063]\n",
      "\n",
      "Explore Rate 0.6 \n",
      "Time for Explore Rate [1.5130728999993153, 0.9786156999998639, 1.4766483000003063, 1.6413695000001098]\n",
      "\n",
      "Explore Rate 0.8 \n",
      "Time for Explore Rate [1.5130728999993153, 0.9786156999998639, 1.4766483000003063, 1.6413695000001098, 1.6665161999999327]\n",
      "\n",
      "Explore Rate 1.0 \n",
      "Time for Explore Rate [1.5130728999993153, 0.9786156999998639, 1.4766483000003063, 1.6413695000001098, 1.6665161999999327, 2.0693645000001197]\n",
      "\n",
      "Explore Rate 1.2 \n",
      "Time for Explore Rate [1.5130728999993153, 0.9786156999998639, 1.4766483000003063, 1.6413695000001098, 1.6665161999999327, 2.0693645000001197, 3.0025206000000253]\n",
      "\n",
      "Explore Rate 1.4 \n",
      "Time for Explore Rate [1.5130728999993153, 0.9786156999998639, 1.4766483000003063, 1.6413695000001098, 1.6665161999999327, 2.0693645000001197, 3.0025206000000253, 2.8921855999997206]\n",
      "\n",
      "Explore Rate 1.6 \n",
      "Time for Explore Rate [1.5130728999993153, 0.9786156999998639, 1.4766483000003063, 1.6413695000001098, 1.6665161999999327, 2.0693645000001197, 3.0025206000000253, 2.8921855999997206, 3.731254799999988]\n",
      "\n",
      "Explore Rate 1.8 \n",
      "Time for Explore Rate [1.5130728999993153, 0.9786156999998639, 1.4766483000003063, 1.6413695000001098, 1.6665161999999327, 2.0693645000001197, 3.0025206000000253, 2.8921855999997206, 3.731254799999988, 4.4183696000000054]\n",
      "\n",
      "Cost 0.06859317404386542 Chromosome [ 3.21242305 -1.22652961 -1.21780655 -1.2509717  -1.18831926]\n"
     ]
    },
    {
     "data": {
      "image/png": "[encoded data removed]",
      "text/plain": [
       "<Figure size 432x288 with 1 Axes>"
      ]
     },
     "metadata": {
      "needs_background": "light"
     },
     "output_type": "display_data"
    }
   ],
   "source": [
    "test_explore()"
   ]
  },
  {
   "cell_type": "markdown",
   "metadata": {},
   "source": [
    "<h3>This time in the graph above, the population size of 50 is still used here where a different explore rate of 0.5 is utilized that runs across 10 iterations. The mutation rate is also 0.2 and the mutation range is 0.1. The number of iterations used for the algorithm is 20 in this test. The best solution score of the algorithm in this case is reached at an earlier point as the previously set example of 0.1 for the explore rate. The graph starts decreasing to reach its optimal solution before it rises again and slides downwards briefly before it rises again. The last time at the end is slower at completing the algorithm than the first explore rate test as it proves that a lower explore rate has a better chance of reaching the optimal solution depending on the test that is carried out. The maximum number of generations has been reached here where it goes as far as 10 rather than 200. This shows that a lower explore rate can ensure a better best fitness cost to acquire the optimal solution when the explore rate is lowered quicker at 0.1 which was tested earlier on 10 and 20 runs.<h3>"
   ]
  },
  {
   "cell_type": "code",
   "execution_count": 48,
   "metadata": {},
   "outputs": [
    {
     "name": "stdout",
     "output_type": "stream",
     "text": [
      "Cost 0.06859317404386542 Chromosome [ 3.21242305 -1.22652961 -1.21780655 -1.2509717  -1.18831926]\n"
     ]
    },
    {
     "data": {
      "image/png": "[encoded data removed]",
      "text/plain": [
       "<Figure size 432x288 with 1 Axes>"
      ]
     },
     "metadata": {
      "needs_background": "light"
     },
     "output_type": "display_data"
    }
   ],
   "source": [
    "test_explore_alt()"
   ]
  },
  {
   "cell_type": "markdown",
   "metadata": {},
   "source": [
    "<h3>The time taken to accomplish the genetic algorithm when running the algorithm 20 times is shorter than previous tests at the beginning as the solution heads under the error rate when it runs multiple times. It takes one less iteration at the beginning to get the best solution cost under the error rate to reach the optimal solution as best as possible. When the solution runs 20 times, the best cost is reached in less iterations than other tests when the test is performed 20 times compared to 10 times. It shows how the Gamma value determines when the exploitation comes into effect where the exploration is carried out at the start and not the end when exploitation is performed to search for a preferable path that offers rewards immediately when exploiting the opportunistic paths when performing exploration. With exploration here, the entire search space is searched over to find other beneficial solutions to problems that must be edited which is known as a golbal search.<h3>"
   ]
  },
  {
   "cell_type": "code",
   "execution_count": 72,
   "metadata": {},
   "outputs": [],
   "source": [
    "pars.number_of_iterations = 200"
   ]
  },
  {
   "cell_type": "code",
   "execution_count": 73,
   "metadata": {},
   "outputs": [
    {
     "data": {
      "text/plain": [
       "10.537396599998829"
      ]
     },
     "execution_count": 73,
     "metadata": {},
     "output_type": "execute_result"
    }
   ],
   "source": [
    "test_genetic(10,prob,pars,0.0001)"
   ]
  },
  {
   "cell_type": "markdown",
   "metadata": {},
   "source": [
    "<h3>With a higher number of iterations that is set at 200 when the iteration parameter is changed, it is clear that the time it takes for the genetic algorithm to be completed is much longer than the time it takes when 100 iterations are used. The time would be shorter if less iterations were used for the algorithm when the number of runs is put at 10 during the testing of the genetic algorithm. A graph for 200 iterations would take too long to form considering the iterations would be bigger and it would take a longer while to carry out the genetic algorithm than when the iterations is set at 100. An error rate of 0.0001 is used where the running of the algorithm finishes after an iteration of the algorithm finishes with the best solution of that run in an iteration going under the error rate.<h3>"
   ]
  },
  {
   "cell_type": "code",
   "execution_count": null,
   "metadata": {},
   "outputs": [],
   "source": [
    "test_explore()"
   ]
  },
  {
   "cell_type": "code",
   "execution_count": null,
   "metadata": {},
   "outputs": [],
   "source": [
    "test_explore_alt()"
   ]
  },
  {
   "cell_type": "markdown",
   "metadata": {},
   "source": [
    "<h1>Testing out mutation range below multiple times with 0.2 value combined with explore rate of 0.5 from earlier on.<h1>"
   ]
  },
  {
   "cell_type": "code",
   "execution_count": 49,
   "metadata": {},
   "outputs": [],
   "source": [
    "pars.mutation_range = 0.2"
   ]
  },
  {
   "cell_type": "code",
   "execution_count": 50,
   "metadata": {},
   "outputs": [
    {
     "data": {
      "text/plain": [
       "38.77741969999988"
      ]
     },
     "execution_count": 50,
     "metadata": {},
     "output_type": "execute_result"
    }
   ],
   "source": [
    "test_genetic(100,prob,pars,0.0001)"
   ]
  },
  {
   "cell_type": "markdown",
   "metadata": {},
   "source": [
    "<h3>The test for the number of runs is set at 100 where the mutation range is set at 0.2 rather than 0.1. The greater mutation range would allow for determining the amount that the individual gene would change by which in this case would increase the chance of an individual gene changing based on the gene array which contains 5 floating point numbers. The time it takes for the genetic algorithm to last 100 runs here is unexpectedly lower when the higher mutation range is present as well as the updated explore rate of 0.5.<h3>"
   ]
  },
  {
   "cell_type": "code",
   "execution_count": 51,
   "metadata": {},
   "outputs": [
    {
     "data": {
      "text/plain": [
       "3.8453119000005245"
      ]
     },
     "execution_count": 51,
     "metadata": {},
     "output_type": "execute_result"
    }
   ],
   "source": [
    "test_genetic(10,prob,pars,0.0001)"
   ]
  },
  {
   "cell_type": "markdown",
   "metadata": {},
   "source": [
    "<h3>The time taken for the algortihm to finish is longer than both of the explore rate tests which involves 10 as the number of runs as the mutation range is 0.1 higher than the initial value when the mutation range was set at 0.1. In this case, the mutation range is set at 0.2 in addition to the updated parameters of the explore rate as mentioned earlier on. This higher exploration and mutation range could bring us further away from the optimal solution during multiple runs of the algorithm when the explore rate is quick at the beginning but it slows down eventually during the later iterations due to the higher best solution costs.<h3>"
   ]
  },
  {
   "cell_type": "code",
   "execution_count": 52,
   "metadata": {},
   "outputs": [],
   "source": [
    "def test_mutation_range():\n",
    "    times_for_mutation_range = []\n",
    "    for i in range(10):\n",
    "        pars.mutation_range = float(i) / 5.0\n",
    "        times_for_mutation_range.append(test_genetic(10,prob,pars,0.1))   \n",
    "    plt.xlabel(\"Iterations\")\n",
    "    plt.ylabel(\"Best Score - Times for Mutation Range\")\n",
    "    plt.title(\"Genetic Algorithm\")\n",
    "    plt.plot(times_for_mutation_range)\n",
    "    print(\"Cost {} Chromosome {}\".format(best_solution.cost,best_solution.chromosome))"
   ]
  },
  {
   "cell_type": "code",
   "execution_count": 53,
   "metadata": {},
   "outputs": [
    {
     "name": "stdout",
     "output_type": "stream",
     "text": [
      "Cost 0.06859317404386542 Chromosome [ 3.21242305 -1.22652961 -1.21780655 -1.2509717  -1.18831926]\n"
     ]
    },
    {
     "data": {
      "image/png": "[encoded data removed]",
      "text/plain": [
       "<Figure size 432x288 with 1 Axes>"
      ]
     },
     "metadata": {
      "needs_background": "light"
     },
     "output_type": "display_data"
    }
   ],
   "source": [
    "test_mutation_range()"
   ]
  },
  {
   "cell_type": "markdown",
   "metadata": {},
   "source": [
    "<h3>When the mutation range is changed to 0.2 compared to the original value of 0.1, the graph shows that the starting score increases once the generations of the algorithm begins and the final score in the last iteration turns out to be higher than the starting score at the first iteration. The score peaks at iteration 2 where the range of mutation to determine the amount that an individual gene will change by is higher as the best solution cost is reached in a quicker amount of time due to the edited parameters of the explore rate, the mutation rate and the mutation range. This would result in higher costs for the algorithm in general as the higher the fitness cost, the better the problem will be when attempting to reach the optimal solution. Once the peak occurs at the shortest time to reach the best solution cost or to get close to it, the graph varies from a gradual increase to a gradual decrease and so on occurs as the genes do not exactly vary afterwards where the graph seems to rise in every second iteration that represents the mutation range. It basically fluctuates as the offspring is created and emerges from the parents after crossover and mutation are applied. If more iterations were put in, the results could be expanded upon to form the optimal solution when modifying the parameters in the first part. This mutation range value is now edited alongside the explore rate.<h3>"
   ]
  },
  {
   "cell_type": "code",
   "execution_count": 54,
   "metadata": {},
   "outputs": [],
   "source": [
    "def test_mutation_range_alt():\n",
    "    times_for_mutation_range = []\n",
    "    for i in range(15):\n",
    "        pars.mutation_range = float(i) / 5.0\n",
    "        times_for_mutation_range.append(test_genetic(10,prob,pars,0.1))   \n",
    "    plt.xlabel(\"Iterations\")\n",
    "    plt.ylabel(\"Best Score - Times for Mutation Range\")\n",
    "    plt.title(\"Genetic Algorithm\")\n",
    "    plt.plot(times_for_mutation_range)\n",
    "    print(\"Cost {} Chromosome {}\".format(best_solution.cost,best_solution.chromosome))"
   ]
  },
  {
   "cell_type": "code",
   "execution_count": 55,
   "metadata": {},
   "outputs": [
    {
     "name": "stdout",
     "output_type": "stream",
     "text": [
      "Cost 0.06859317404386542 Chromosome [ 3.21242305 -1.22652961 -1.21780655 -1.2509717  -1.18831926]\n"
     ]
    },
    {
     "data": {
      "image/png": "[encoded data removed]",
      "text/plain": [
       "<Figure size 432x288 with 1 Axes>"
      ]
     },
     "metadata": {
      "needs_background": "light"
     },
     "output_type": "display_data"
    }
   ],
   "source": [
    "test_mutation_range_alt()"
   ]
  },
  {
   "cell_type": "markdown",
   "metadata": {},
   "source": [
    "<h3>The cost cannot be reached when the number of runs are tested out on whether it is 10 (Main number of runs to be tested out on all various tests here) or 15 because the mutation range is set up at 0.2 compared to 0.1 which has a bigger chance of determining the amount that the individual gene would change by. The time it takes the mutation range to play a role in the genetic algorithm is significant where the graph fluctuates between high and low during the 15 times that the genetic algorithm is ran. The higher mutation range along with the edited explore rate and the unchanged parameters at the start of the notebook in the parameters class causes the graph values to get much higher than 1 itself as seen in the first graph which was explained earlier where the algorithm takes longer in a majority of the runs of the algorithm to reach the best optimal solution that is defined when the target best solution and chromosome is revealed. Although the graph does not reach the solution quickly in more iterations than the first mutation rate test when the algorithm is ran 10 times where the cost is only reached in a short time period just once in the test above compared to the test that is ran 10 times where the best solution was closely reached in a shirt time period twice. It is ran here 15 times where the graph seems to show a normal fluctuating graph with regards to the time depending on the changes made to the parameters where the cost has a good enough chance of being reached when there is a higher mutation range.<h3>"
   ]
  },
  {
   "cell_type": "code",
   "execution_count": 56,
   "metadata": {},
   "outputs": [],
   "source": [
    "pars.mutation_rate = 0.3"
   ]
  },
  {
   "cell_type": "code",
   "execution_count": 57,
   "metadata": {},
   "outputs": [
    {
     "data": {
      "text/plain": [
       "41.3258722999999"
      ]
     },
     "execution_count": 57,
     "metadata": {},
     "output_type": "execute_result"
    }
   ],
   "source": [
    "test_genetic(100,prob,pars,0.1)"
   ]
  },
  {
   "cell_type": "markdown",
   "metadata": {},
   "source": [
    "<h3>The mutation rate has changed to 0.3 in this test as it is clear that the test for the genetic algorithm which runs 10 times combined with the changed explore rate and mutation range from earlier allows for the ime to take longer to complete the algorithm. The higher the mutation rate, the better chance there is of reaching the perfect solution when the chances of mutation within an individual gene are higher.<h3>"
   ]
  },
  {
   "cell_type": "code",
   "execution_count": 58,
   "metadata": {},
   "outputs": [
    {
     "data": {
      "text/plain": [
       "4.395379900000989"
      ]
     },
     "execution_count": 58,
     "metadata": {},
     "output_type": "execute_result"
    }
   ],
   "source": [
    "test_genetic(10,prob,pars,0.1)"
   ]
  },
  {
   "cell_type": "markdown",
   "metadata": {},
   "source": [
    "<h3>The time for the number of runs taken when the genetic algorithm occurs is longer than the previous tests as the mutation rate is bigger than the original mutation rate value of 0.1. This is because the mutation rate here in this test has a higher probability that the individual gene will be mutated. This enables the test to be completed in a longer time period.<h3>"
   ]
  },
  {
   "cell_type": "code",
   "execution_count": 59,
   "metadata": {},
   "outputs": [],
   "source": [
    "def test_mutation_rate():\n",
    "    times_for_mutation_rate = []\n",
    "    for i in range(10):\n",
    "        pars.mutation_rate = float(i) / 5.0\n",
    "        times_for_mutation_rate.append(test_genetic(10,prob,pars,0.1))   \n",
    "    plt.xlabel(\"Iterations\")\n",
    "    plt.ylabel(\"Best Score - Times for Mutation Rate\")\n",
    "    plt.title(\"Genetic Algorithm\")\n",
    "    plt.plot(times_for_mutation_rate)\n",
    "    print(\"Cost {} Chromosome {}\".format(best_solution.cost,best_solution.chromosome))"
   ]
  },
  {
   "cell_type": "code",
   "execution_count": 60,
   "metadata": {},
   "outputs": [
    {
     "name": "stdout",
     "output_type": "stream",
     "text": [
      "Cost 0.06859317404386542 Chromosome [ 3.21242305 -1.22652961 -1.21780655 -1.2509717  -1.18831926]\n"
     ]
    },
    {
     "data": {
      "image/png": "[encoded data removed]",
      "text/plain": [
       "<Figure size 432x288 with 1 Axes>"
      ]
     },
     "metadata": {
      "needs_background": "light"
     },
     "output_type": "display_data"
    }
   ],
   "source": [
    "test_mutation_rate()"
   ]
  },
  {
   "cell_type": "markdown",
   "metadata": {},
   "source": [
    "The graph begins with a stagnant movement where the same time is reached for the best solution cost to be reached which increases and decreases naturally where the best time to reach the cost occurs just after the halfway mark of testing out the algorithm 10 times involving the updated mutation rate set at 0.3 alongside the updated explore rate and mutation range values. It shows that when a higher mutation rate is put in for testing out the genetic algorithm, this boosts the chance of more mutation occurring which would enable the exploration of other sections of the solution space."
   ]
  },
  {
   "cell_type": "code",
   "execution_count": 61,
   "metadata": {},
   "outputs": [],
   "source": [
    "def test_mutation_rate_alt():\n",
    "    times_for_mutation_rate = []\n",
    "    for i in range(20):\n",
    "        pars.mutation_rate = float(i) / 5.0\n",
    "        times_for_mutation_rate.append(test_genetic(10,prob,pars,0.1))   \n",
    "    plt.xlabel(\"Iterations\")\n",
    "    plt.ylabel(\"Best Score - Times for Mutation Rate\")\n",
    "    plt.title(\"Genetic Algorithm\")\n",
    "    plt.plot(times_for_mutation_rate)\n",
    "    print(\"Cost {} Chromosome {}\".format(best_solution.cost,best_solution.chromosome))"
   ]
  },
  {
   "cell_type": "code",
   "execution_count": 62,
   "metadata": {},
   "outputs": [
    {
     "name": "stdout",
     "output_type": "stream",
     "text": [
      "Cost 0.06859317404386542 Chromosome [ 3.21242305 -1.22652961 -1.21780655 -1.2509717  -1.18831926]\n"
     ]
    },
    {
     "data": {
      "image/png": "[encoded data removed]",
      "text/plain": [
       "<Figure size 432x288 with 1 Axes>"
      ]
     },
     "metadata": {
      "needs_background": "light"
     },
     "output_type": "display_data"
    }
   ],
   "source": [
    "test_mutation_rate_alt()"
   ]
  },
  {
   "cell_type": "markdown",
   "metadata": {},
   "source": [
    "<h3>With the number of runs set at 20 for the graph above which would mainly focus on the mutation rate with the other updated values,the shortest time taken for the algorithm occurs towards the end of the iteration where the mutation rate determines if more mutation would occur invloving a singular individual. This mutation process frequently increases the times taken to complete an iteration of the genetic algorithm as it tries to reach more search spaces to get to the optimal cost<h3>"
   ]
  },
  {
   "cell_type": "code",
   "execution_count": 63,
   "metadata": {},
   "outputs": [],
   "source": [
    "pars.child_rate = 5"
   ]
  },
  {
   "cell_type": "code",
   "execution_count": 64,
   "metadata": {},
   "outputs": [
    {
     "data": {
      "text/plain": [
       "44.77497949999997"
      ]
     },
     "execution_count": 64,
     "metadata": {},
     "output_type": "execute_result"
    }
   ],
   "source": [
    "test_genetic(100,prob,pars,0.1)"
   ]
  },
  {
   "cell_type": "markdown",
   "metadata": {},
   "source": [
    "<h3>The child rate is set to 5 here where the time it takes to run the genetic algorithm here is slower than all of the previous tests where the number of runs was 100 because all of the changed parameters as tested out here for the first CA have a major impact on the cost of the algorithm where the higher the fitness cost, the closer we hopefully get to the optimal solution.<h3>"
   ]
  },
  {
   "cell_type": "code",
   "execution_count": 65,
   "metadata": {},
   "outputs": [
    {
     "data": {
      "text/plain": [
       "5.050193999999465"
      ]
     },
     "execution_count": 65,
     "metadata": {},
     "output_type": "execute_result"
    }
   ],
   "source": [
    "test_genetic(10,prob,pars,0.1)"
   ]
  },
  {
   "cell_type": "markdown",
   "metadata": {},
   "source": [
    "<h3>Meanwhile, the test by using the number of runs for the test of the genetic algorithm is surprisingly slower than the tests when the values of the mutation rate and range were performed and implemented. This is because the child rate is much higher than the child rate of 1. This allows for much more children to be born in every iteration when combined with the edited mutation rate and range as there is a greater possibility that the optimal solution would be reached when multiple iterations of the algorithm are carried out. This would hopefully allow plenty of the iterations to last a shorter amount of time than some of the previous tests carried out when the scientific methodology is put into perspective here<h3>"
   ]
  },
  {
   "cell_type": "code",
   "execution_count": 68,
   "metadata": {},
   "outputs": [],
   "source": [
    "def test_child_rate():\n",
    "    times_for_child_rate = []\n",
    "    for i in range(20):\n",
    "        pars.child_rate = float(i) / 5.0\n",
    "        times_for_child_rate.append(test_genetic(10,prob,pars,0.1))   \n",
    "    plt.xlabel(\"Iterations\")\n",
    "    plt.ylabel(\"Best Score - Times for Child Rate\")\n",
    "    plt.title(\"Genetic Algorithm\")\n",
    "    plt.plot(times_for_child_rate)\n",
    "    print(\"Cost {} Best Solution Chromosome {}\".format(best_solution.cost,best_solution.chromosome))"
   ]
  },
  {
   "cell_type": "code",
   "execution_count": 69,
   "metadata": {},
   "outputs": [
    {
     "name": "stdout",
     "output_type": "stream",
     "text": [
      "Cost 0.06859317404386542 Best Solution Chromosome [ 3.21242305 -1.22652961 -1.21780655 -1.2509717  -1.18831926]\n"
     ]
    },
    {
     "data": {
      "image/png": "[encoded data removed]",
      "text/plain": [
       "<Figure size 432x288 with 1 Axes>"
      ]
     },
     "metadata": {
      "needs_background": "light"
     },
     "output_type": "display_data"
    }
   ],
   "source": [
    "test_child_rate()"
   ]
  },
  {
   "cell_type": "markdown",
   "metadata": {},
   "source": [
    "<h3>With the child rate set at 5, there is a chance that graph flow would fluctuate from high to low with regards to the time as the rate of children is higher when the population reamins at 100 in this case. The best solution where the best fitness cost is found once the cost is lower than the error rate occurs later than usual in tht iterations when ran 20 times because the child rate here determines the number of new children per iteration which would slow down the algorithm and lead to the fluctuating results. The graph starts with a little increase which then decreases gradually. After this, it switches between a higher time period and a lower time period as the high child rate has a major impact on the algorithm where it seems the tests would veer between short implementations of the algortihm and longer times for implementing the method.<h3>"
   ]
  },
  {
   "cell_type": "code",
   "execution_count": 70,
   "metadata": {},
   "outputs": [],
   "source": [
    "def test_child_rate_alt():\n",
    "    times_for_child_rate = []\n",
    "    for i in range(10):\n",
    "        pars.child_rate = float(i) / 5.0\n",
    "        times_for_child_rate.append(test_genetic(10,prob,pars,0.1))   \n",
    "    plt.xlabel(\"Iterations\")\n",
    "    plt.ylabel(\"Best Score - Times for Child Rate\")\n",
    "    plt.title(\"Genetic Algorithm\")\n",
    "    plt.plot(times_for_child_rate)\n",
    "    print(\"Cost {} Chromosome {}\".format(best_solution.cost,best_solution.chromosome))"
   ]
  },
  {
   "cell_type": "code",
   "execution_count": 71,
   "metadata": {},
   "outputs": [
    {
     "name": "stdout",
     "output_type": "stream",
     "text": [
      "Cost 0.06859317404386542 Chromosome [ 3.21242305 -1.22652961 -1.21780655 -1.2509717  -1.18831926]\n"
     ]
    },
    {
     "data": {
      "image/png": "[encoded data removed]",
      "text/plain": [
       "<Figure size 432x288 with 1 Axes>"
      ]
     },
     "metadata": {
      "needs_background": "light"
     },
     "output_type": "display_data"
    }
   ],
   "source": [
    "test_child_rate_alt()"
   ]
  },
  {
   "cell_type": "markdown",
   "metadata": {},
   "source": [
    "<h3>This algorithm does not look close to the optimal solution where a mean distribution would occur if the perfect solution is reached. The child rate is updated along with every other updated parameter other than the number of iterations parameter. This would account for the time taken to reveal all of the fitness costs and reveal the best solution costs for each iteration of the algorithm. The graph naturally increases and decreases after the halfway mark of the testing of the algorithm. It may fluctuate at the beginning of the test with the graph figures as the test is appended to try and accommodate for the best score so far in the algorithm. More tweaking of the parameters would probably lead to a much improved solution which can be fixed when the algortihm is changed and edited soon. Towards the end of the iterations here where the genetic algorithm is ran 10 times, the test takes a longer amount of time than the other iterations compared to the early iterations of the algorithm where the quickest time to the best solution cost is reached that shows the impact that a high child rate would have on different tests of the algorithm using the multiple parameters.<h3>"
   ]
  },
  {
   "cell_type": "code",
   "execution_count": null,
   "metadata": {},
   "outputs": [],
   "source": [
    "final_pop[0].chromosome"
   ]
  },
  {
   "cell_type": "code",
   "execution_count": null,
   "metadata": {},
   "outputs": [],
   "source": [
    "q = parameters()"
   ]
  },
  {
   "cell_type": "code",
   "execution_count": null,
   "metadata": {},
   "outputs": [],
   "source": [
    "pop = run_genetic(p1, q, 0.0001)"
   ]
  },
  {
   "cell_type": "code",
   "execution_count": null,
   "metadata": {},
   "outputs": [],
   "source": [
    "pop, best_soln = run_genetic(p1,q,0.0001)"
   ]
  },
  {
   "cell_type": "code",
   "execution_count": null,
   "metadata": {},
   "outputs": [],
   "source": [
    "pop[5].chromosome"
   ]
  },
  {
   "cell_type": "code",
   "execution_count": null,
   "metadata": {},
   "outputs": [],
   "source": [
    "best_soln.chromosome"
   ]
  },
  {
   "cell_type": "code",
   "execution_count": null,
   "metadata": {},
   "outputs": [],
   "source": [
    "plt.plot(best_solution.chromosome)"
   ]
  },
  {
   "cell_type": "code",
   "execution_count": null,
   "metadata": {},
   "outputs": [],
   "source": []
  },
  {
   "cell_type": "code",
   "execution_count": null,
   "metadata": {},
   "outputs": [],
   "source": []
  },
  {
   "cell_type": "code",
   "execution_count": null,
   "metadata": {},
   "outputs": [],
   "source": [
    "def run_genetic_alt(problem, parameters, max_error):\n",
    "    \n",
    "    #read problem\n",
    "    #Fitness Function\n",
    "    cost_function = problem.cost_function\n",
    "    \n",
    "    #read parameters\n",
    "    number_in_population = parameters.number_in_population\n",
    "    number_of_iterations = parameters.number_of_iterations\n",
    "    number_of_children = parameters.number_of_children\n",
    "    explore_rate = parameters.explore_rate\n",
    "    mutation_rate = parameters.mutation_rate\n",
    "    mutation_range = parameters.mutation_range\n",
    "    \n",
    "    #placeholder for best solution\n",
    "    best_solution = deepcopy(individual())\n",
    "    best_solution.cost = np.infty\n",
    "    \n",
    "    # Placeholder for best cost at each iteration\n",
    "    best_costs = []\n",
    "    \n",
    "    population = []\n",
    "    \n",
    "    #initialize population for the above problem. i.e. generate random individuals\n",
    "    for i in range(number_in_population):\n",
    "        new_individual = individual(problem)\n",
    "        population.append(new_individual)\n",
    "        if new_individual.cost < best_solution.cost:#Cost = Fitness\n",
    "            best_solution = deepcopy(new_individual)\n",
    "            \n",
    "    for iteration in range(number_of_iterations):      \n",
    "        # generate a new population of children\n",
    "        children = []\n",
    "        \n",
    "        # How Many Children\n",
    "        while len(children) < number_of_children:\n",
    "            \n",
    "        # Select 2 Parents\n",
    "            parent1_index, parent2_index = choose_distinct_pair_from(number_in_population)\n",
    "            parent_1 = population[parent1_index]\n",
    "            parent_2 = population[parent2_index]\n",
    "            \n",
    "        # Use crossover to produce 2 children\n",
    "            child_1,child_2 = parent_1.crossover(parent_2, explore_rate)\n",
    "            \n",
    "        # Mutate these children\n",
    "            child_1.mutate(mutation_rate, mutation_range)\n",
    "            child_2.mutate(mutation_rate, mutation_range)\n",
    "            \n",
    "        # calculate costs (Fitness) for these children\n",
    "            child_1.cost = cost_function(child_1.chromosome)\n",
    "            child_2.cost = cost_function(child_2.chromosome)\n",
    "                \n",
    "        # add to the children population\n",
    "            children.append(child_1)\n",
    "            children.append(child_2)\n",
    "            \n",
    "        #merge parent and child populations    \n",
    "        population += children\n",
    "        \n",
    "        #Sort into ascending order of cost\n",
    "        population = sorted(population, key = lambda x: x.cost)\n",
    "        \n",
    "        #Select population next iteration\n",
    "        population = population[0:number_in_population]\n",
    "        \n",
    "        #update best solution - Fitness\n",
    "        if population[0].cost < best_solution.cost:\n",
    "            best_solution = deepcopy(population[0])\n",
    "            \n",
    "        #print iteration results\n",
    "        #print(\"Iteration/Generation {} Cost/Fitness {}\".format(iteration, best_solution.cost))\n",
    "        #best_costs.append(best_solution.cost)\n",
    "        #output results ?? class/struct/ best solution/ population?\n",
    "        if best_solution.cost < max_error:\n",
    "            #print(\"Stopped at {} Iterations\".format(iteration))\n",
    "            break\n",
    "            \n",
    "    #plt.semilogy(best_costs)\n",
    "    #plt.xlabel(\"Iterations\")\n",
    "    #plt.ylabel(\"Best Cost\")\n",
    "    #plt.title(\"Genetic Algorithm \\n\" + parameters.to_string())\n",
    "    #print(\"Solution Score {}\".format(best_solution.chromosome))\n",
    "    return population, best_solution      "
   ]
  },
  {
   "cell_type": "code",
   "execution_count": null,
   "metadata": {},
   "outputs": [],
   "source": []
  },
  {
   "cell_type": "code",
   "execution_count": null,
   "metadata": {},
   "outputs": [],
   "source": []
  },
  {
   "cell_type": "code",
   "execution_count": null,
   "metadata": {},
   "outputs": [],
   "source": []
  },
  {
   "cell_type": "code",
   "execution_count": null,
   "metadata": {},
   "outputs": [],
   "source": []
  },
  {
   "cell_type": "code",
   "execution_count": null,
   "metadata": {},
   "outputs": [],
   "source": []
  }
 ],
 "metadata": {
  "kernelspec": {
   "display_name": "Python 3",
   "language": "python",
   "name": "python3"
  },
  "language_info": {
   "codemirror_mode": {
    "name": "ipython",
    "version": 3
   },
   "file_extension": ".py",
   "mimetype": "text/x-python",
   "name": "python",
   "nbconvert_exporter": "python",
   "pygments_lexer": "ipython3",
   "version": "3.7.4"
  }
 },
 "nbformat": 4,
 "nbformat_minor": 2
}
