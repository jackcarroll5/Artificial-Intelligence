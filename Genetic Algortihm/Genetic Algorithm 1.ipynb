{
 "cells": [
  {
   "cell_type": "code",
   "execution_count": 1,
   "metadata": {},
   "outputs": [],
   "source": [
    "#imports here\n",
    "import numpy as np\n",
    "import matplotlib.pyplot as plt\n",
    "from copy import deepcopy\n",
    "import time"
   ]
  },
  {
   "cell_type": "code",
   "execution_count": 2,
   "metadata": {},
   "outputs": [],
   "source": [
    "x = np.array([0.03, 9.34, 0.12])"
   ]
  },
  {
   "cell_type": "code",
   "execution_count": 3,
   "metadata": {},
   "outputs": [],
   "source": [
    "#Test Function\n",
    "def sphere_function(x):\n",
    "    return sum((x**2 - 2*x - 4)**2)"
   ]
  },
  {
   "cell_type": "code",
   "execution_count": 4,
   "metadata": {},
   "outputs": [
    {
     "data": {
      "text/plain": [
       "4201.75747953"
      ]
     },
     "execution_count": 4,
     "metadata": {},
     "output_type": "execute_result"
    }
   ],
   "source": [
    "sphere_function(x)"
   ]
  },
  {
   "cell_type": "code",
   "execution_count": 5,
   "metadata": {},
   "outputs": [],
   "source": [
    "# Problem to be defined here as a class (or struct) struct = Structure\n",
    "class problem:\n",
    "        \n",
    "        def __init__(self):\n",
    "\n",
    "        # Cost Function\n",
    "          self.cost_function = sphere_function\n",
    "\n",
    "        # Number of genes (Variables in individual)\n",
    "          self.number_of_genes = 5\n",
    "\n",
    "        # Max Gene Value\n",
    "          self.maximum_value = 10\n",
    "\n",
    "        # Min Gene Value\n",
    "          self.minimum_value = -10"
   ]
  },
  {
   "cell_type": "code",
   "execution_count": 6,
   "metadata": {},
   "outputs": [],
   "source": [
    "p1 = problem()"
   ]
  },
  {
   "cell_type": "code",
   "execution_count": 7,
   "metadata": {},
   "outputs": [
    {
     "data": {
      "text/plain": [
       "-10"
      ]
     },
     "execution_count": 7,
     "metadata": {},
     "output_type": "execute_result"
    }
   ],
   "source": [
    "p1.minimum_value"
   ]
  },
  {
   "cell_type": "code",
   "execution_count": 8,
   "metadata": {},
   "outputs": [
    {
     "data": {
      "text/plain": [
       "10"
      ]
     },
     "execution_count": 8,
     "metadata": {},
     "output_type": "execute_result"
    }
   ],
   "source": [
    "p1.maximum_value"
   ]
  },
  {
   "cell_type": "code",
   "execution_count": 9,
   "metadata": {},
   "outputs": [
    {
     "data": {
      "text/plain": [
       "5"
      ]
     },
     "execution_count": 9,
     "metadata": {},
     "output_type": "execute_result"
    }
   ],
   "source": [
    "p1.number_of_genes"
   ]
  },
  {
   "cell_type": "code",
   "execution_count": 10,
   "metadata": {},
   "outputs": [],
   "source": [
    "#Genetic Algorithm parameters here as class or struct\n",
    "class parameters():\n",
    "    def __init__(self):\n",
    "               \n",
    "        # Number of iterations of genetic algorithm\n",
    "            self.number_of_iterations = 100\n",
    "        \n",
    "        # Number of individuals in population\n",
    "            self.number_in_population = 50\n",
    "          \n",
    "        # Rate of new children per iteration\n",
    "            self.child_rate = 1\n",
    "            \n",
    "        # Number of children    \n",
    "            self.number_of_children = self.number_in_population * self.child_rate\n",
    "            \n",
    "         # Exploration rate (Gamma)   \n",
    "            self.explore_rate = 0.1\n",
    "          \n",
    "         # Mutation rate - Probability that individual gene will be mutated\n",
    "            self.mutation_rate = 0.2\n",
    "        \n",
    "        # Mutation Range - Determines the amount an individual gene will change\n",
    "            self.mutation_range = 0.1\n",
    "            \n",
    "    def to_string(self):\n",
    "        return \"Iterations/Generations {} Population {} Children No {} Child Rate {} Explore Rate {} Mutation Rate {} Mutation Range {}\".format(self.number_of_iterations,self.number_in_population,self.number_of_children,self.child_rate,self.explore_rate,self.mutation_rate,self.mutation_range)"
   ]
  },
  {
   "cell_type": "code",
   "execution_count": 11,
   "metadata": {},
   "outputs": [],
   "source": [
    "# Structure for individual of population as class or struct\n",
    "class individual:\n",
    "    \n",
    "    # Genotype or Chromosome\n",
    "        chromosome = None\n",
    "        \n",
    "    # Cost for individual\n",
    "        cost = 0\n",
    "        \n",
    "    # Constructor(s)     \n",
    "        # if problem is passed as parameter to constructor, a random individual is generated\n",
    "    #   https://docs.python.org/3/glossary.html#term-argument\n",
    "        def __init__(self,problem = None):\n",
    "               \n",
    "            if problem is not None:\n",
    "                self.chromosome = np.random.uniform(problem.minimum_value,problem.maximum_value,problem.number_of_genes)\n",
    "                self.cost = problem.cost_function(self.chromosome)#Fitness\n",
    "    \n",
    "    # Crossover with another indivdual method\n",
    "        def crossover(self,other_individual,explore_rate):\n",
    "            child1 = deepcopy(self)\n",
    "            child2 = deepcopy(other_individual)\n",
    "            \n",
    "            # Individual alpha for each child\n",
    "            # Shape of chromosome (returns 5)\n",
    "            alpha = np.random.uniform(-explore_rate, 1 + explore_rate, child1.chromosome.shape)\n",
    "            child1.chromosome = alpha * self.chromosome + (1 - alpha) * other_individual.chromosome\n",
    "            child2.chromosome = alpha * other_individual.chromosome + (1 - alpha) * self.chromosome\n",
    "            return child1,child2\n",
    "        \n",
    "    # Mutate method\n",
    "        def mutate(self,rate,range_of_change):\n",
    "            for i in range(len(self.chromosome)):\n",
    "                if np.random.rand() < rate:\n",
    "                    # Normal Distribution\n",
    "                    self.chromosome[i] += np.random.randn() * range_of_change\n"
   ]
  },
  {
   "cell_type": "code",
   "execution_count": 12,
   "metadata": {},
   "outputs": [],
   "source": [
    "i = individual(p1)"
   ]
  },
  {
   "cell_type": "code",
   "execution_count": 13,
   "metadata": {},
   "outputs": [],
   "source": [
    "j = individual(p1)"
   ]
  },
  {
   "cell_type": "code",
   "execution_count": 14,
   "metadata": {},
   "outputs": [],
   "source": [
    "c1,c2 = i.crossover(j,0.1)"
   ]
  },
  {
   "cell_type": "code",
   "execution_count": 15,
   "metadata": {},
   "outputs": [
    {
     "data": {
      "text/plain": [
       "(4450.086456544357, 14387.35732883584)"
      ]
     },
     "execution_count": 15,
     "metadata": {},
     "output_type": "execute_result"
    }
   ],
   "source": [
    "c1.cost,c2.cost"
   ]
  },
  {
   "cell_type": "code",
   "execution_count": 16,
   "metadata": {},
   "outputs": [
    {
     "data": {
      "text/plain": [
       "array([-0.27918913, -5.01856602,  8.74962986, -4.06400221, -1.74624636])"
      ]
     },
     "execution_count": 16,
     "metadata": {},
     "output_type": "execute_result"
    }
   ],
   "source": [
    "i.chromosome"
   ]
  },
  {
   "cell_type": "code",
   "execution_count": 17,
   "metadata": {},
   "outputs": [
    {
     "data": {
      "text/plain": [
       "array([-9.58887731,  0.49025479,  6.02630021, -6.39910644,  2.73866524])"
      ]
     },
     "execution_count": 17,
     "metadata": {},
     "output_type": "execute_result"
    }
   ],
   "source": [
    "j.chromosome"
   ]
  },
  {
   "cell_type": "code",
   "execution_count": 18,
   "metadata": {},
   "outputs": [
    {
     "data": {
      "text/plain": [
       "5"
      ]
     },
     "execution_count": 18,
     "metadata": {},
     "output_type": "execute_result"
    }
   ],
   "source": [
    "len(c1.chromosome)"
   ]
  },
  {
   "cell_type": "code",
   "execution_count": 19,
   "metadata": {},
   "outputs": [],
   "source": [
    "def choose_distinct_pair_from(population_size):\n",
    "    index1 = np.random.randint(population_size)\n",
    "    index2 = np.random.randint(population_size)\n",
    "    \n",
    "    if index1 == index2:\n",
    "        return choose_distinct_pair_from(population_size)\n",
    "    else:\n",
    "        return index1,index2"
   ]
  },
  {
   "cell_type": "code",
   "execution_count": null,
   "metadata": {},
   "outputs": [],
   "source": [
    "t = \"R \"\n",
    "q = \"w\""
   ]
  },
  {
   "cell_type": "code",
   "execution_count": null,
   "metadata": {},
   "outputs": [],
   "source": [
    "if \"Rob Sheehy\" < \"rob sheehy\":\n",
    "    print(\"hello\")"
   ]
  },
  {
   "cell_type": "code",
   "execution_count": 20,
   "metadata": {},
   "outputs": [
    {
     "data": {
      "text/plain": [
       "(0, 1)"
      ]
     },
     "execution_count": 20,
     "metadata": {},
     "output_type": "execute_result"
    }
   ],
   "source": [
    "choose_distinct_pair_from(3)"
   ]
  },
  {
   "cell_type": "code",
   "execution_count": 21,
   "metadata": {},
   "outputs": [
    {
     "data": {
      "text/plain": [
       "4450.086456544357"
      ]
     },
     "execution_count": 21,
     "metadata": {},
     "output_type": "execute_result"
    }
   ],
   "source": [
    "i.cost"
   ]
  },
  {
   "cell_type": "code",
   "execution_count": 22,
   "metadata": {},
   "outputs": [
    {
     "data": {
      "text/plain": [
       "14387.35732883584"
      ]
     },
     "execution_count": 22,
     "metadata": {},
     "output_type": "execute_result"
    }
   ],
   "source": [
    "j.cost"
   ]
  },
  {
   "cell_type": "code",
   "execution_count": 23,
   "metadata": {},
   "outputs": [
    {
     "data": {
      "text/plain": [
       "array([ 0.99661133,  1.38502799, -1.1605371 , -1.3690901 ,  1.08050032])"
      ]
     },
     "execution_count": 23,
     "metadata": {},
     "output_type": "execute_result"
    }
   ],
   "source": [
    "np.random.uniform(-2,2,5)"
   ]
  },
  {
   "cell_type": "code",
   "execution_count": 24,
   "metadata": {},
   "outputs": [
    {
     "data": {
      "text/plain": [
       "range(0, 9)"
      ]
     },
     "execution_count": 24,
     "metadata": {},
     "output_type": "execute_result"
    }
   ],
   "source": [
    "range(0,9)"
   ]
  },
  {
   "cell_type": "code",
   "execution_count": 25,
   "metadata": {},
   "outputs": [],
   "source": [
    "def run_genetic(problem, parameters, max_error):\n",
    "    \n",
    "    #read problem\n",
    "    #Fitness Function\n",
    "    cost_function = problem.cost_function\n",
    "    \n",
    "    #read parameters\n",
    "    number_in_population = parameters.number_in_population\n",
    "    number_of_iterations = parameters.number_of_iterations\n",
    "    number_of_children = parameters.number_of_children\n",
    "    explore_rate = parameters.explore_rate\n",
    "    mutation_rate = parameters.mutation_rate\n",
    "    mutation_range = parameters.mutation_range\n",
    "    \n",
    "    #placeholder for best solution\n",
    "    best_solution = deepcopy(individual())\n",
    "    best_solution.cost = np.infty\n",
    "    \n",
    "    # Placeholder for best cost at each iteration\n",
    "    #best_costs = []\n",
    "    \n",
    "    population = []\n",
    "    \n",
    "    #initialize population for the above problem. i.e. generate random individuals\n",
    "    for i in range(number_in_population):\n",
    "        new_individual = individual(problem)\n",
    "        population.append(new_individual)\n",
    "        if new_individual.cost < best_solution.cost:#Cost = Fitness\n",
    "            best_solution = deepcopy(new_individual)\n",
    "            \n",
    "    for iteration in range(number_of_iterations):      \n",
    "        # generate a new population of children\n",
    "        children = []\n",
    "        \n",
    "        # How Many Children\n",
    "        while len(children) < number_of_children:\n",
    "            \n",
    "        # Select 2 Parents\n",
    "            parent1_index, parent2_index = choose_distinct_pair_from(number_in_population)\n",
    "            parent_1 = population[parent1_index]\n",
    "            parent_2 = population[parent2_index]\n",
    "            #print(\"Parent 1 {} Parent 2 {}\".format(parent_1,parent_2))\n",
    "            \n",
    "        # Use crossover to produce 2 children\n",
    "            child_1,child_2 = parent_1.crossover(parent_2, explore_rate)\n",
    "            \n",
    "        # Mutate these children\n",
    "            child_1.mutate(mutation_rate, mutation_range)\n",
    "            child_2.mutate(mutation_rate, mutation_range)\n",
    "            \n",
    "        # calculate costs (Fitness) for these children\n",
    "            child_1.cost = cost_function(child_1.chromosome)\n",
    "            child_2.cost = cost_function(child_2.chromosome)\n",
    "            #print(\"Child 1 Cost {} Child 2 Cost {}\".format(child_1.cost,child_2.cost))\n",
    "                \n",
    "        # add to the children population\n",
    "            children.append(child_1)\n",
    "            children.append(child_2)\n",
    "            \n",
    "        #merge parent and child populations    \n",
    "        population += children\n",
    "        \n",
    "        #Sort into ascending order of cost\n",
    "        population = sorted(population,key = lambda x: x.cost)#List of individuals\n",
    "        \n",
    "        #Select population next iteration\n",
    "        population = population[0:number_in_population]\n",
    "        \n",
    "        #update best solution - Fitness\n",
    "        if population[0].cost < best_solution.cost:\n",
    "            best_solution = deepcopy(population[0])\n",
    "            \n",
    "        #print iteration results\n",
    "        #print(\"Iteration/Generation {} \\nBest Cost/Fitness {} \\nBest Cost Chromosome {} \\n\".format(iteration,best_solution.cost,best_solution.chromosome))\n",
    "        #best_costs.append(best_solution.cost)\n",
    "        #output results ?? class/struct/ best solution/ population?\n",
    "        if best_solution.cost < max_error:\n",
    "            #print(\"\\nStopped at {} Iterations\".format(iteration))\n",
    "            break\n",
    "            \n",
    "    #plt.semilogy(best_costs)\n",
    "    #plt.xlabel(\"Iterations\")\n",
    "    #plt.ylabel(\"Best Cost\")\n",
    "    #plt.title(\"Genetic Algorithm \\n\" + parameters.to_string())\n",
    "    #print(\"Solution Score {}\".format(best_solution.chromosome))\n",
    "    return population, best_solution      "
   ]
  },
  {
   "cell_type": "code",
   "execution_count": 26,
   "metadata": {},
   "outputs": [],
   "source": [
    "prob = problem()"
   ]
  },
  {
   "cell_type": "code",
   "execution_count": 27,
   "metadata": {},
   "outputs": [],
   "source": [
    "pars = parameters()"
   ]
  },
  {
   "cell_type": "code",
   "execution_count": 28,
   "metadata": {},
   "outputs": [
    {
     "data": {
      "text/plain": [
       "'Iterations/Generations 100 Population 50 Children No 50 Child Rate 1 Explore Rate 0.1 Mutation Rate 0.2 Mutation Range 0.1'"
      ]
     },
     "execution_count": 28,
     "metadata": {},
     "output_type": "execute_result"
    }
   ],
   "source": [
    "pars.to_string()"
   ]
  },
  {
   "cell_type": "code",
   "execution_count": 29,
   "metadata": {},
   "outputs": [],
   "source": [
    "final_pop, best_solution = run_genetic(prob,pars,0.1)"
   ]
  },
  {
   "cell_type": "code",
   "execution_count": 30,
   "metadata": {},
   "outputs": [
    {
     "data": {
      "text/plain": [
       "array([ 3.21440584, -1.21066442, -1.19868717, -1.27090737,  3.23075885])"
      ]
     },
     "execution_count": 30,
     "metadata": {},
     "output_type": "execute_result"
    }
   ],
   "source": [
    "best_solution.chromosome"
   ]
  },
  {
   "cell_type": "code",
   "execution_count": 31,
   "metadata": {},
   "outputs": [
    {
     "data": {
      "text/plain": [
       "0.07475388465193315"
      ]
     },
     "execution_count": 31,
     "metadata": {},
     "output_type": "execute_result"
    }
   ],
   "source": [
    "best_solution.cost"
   ]
  },
  {
   "cell_type": "code",
   "execution_count": 32,
   "metadata": {},
   "outputs": [],
   "source": [
    "def test_genetic(number_of_runs,problem,parameters,max_error):\n",
    "    start_time = time.perf_counter()\n",
    "    for i in range(number_of_runs):\n",
    "        run_genetic(problem,parameters,max_error)\n",
    "    return time.perf_counter() - start_time"
   ]
  },
  {
   "cell_type": "code",
   "execution_count": 33,
   "metadata": {},
   "outputs": [
    {
     "data": {
      "text/plain": [
       "29.068633900000002"
      ]
     },
     "execution_count": 33,
     "metadata": {},
     "output_type": "execute_result"
    }
   ],
   "source": [
    "test_genetic(100,prob,pars,0.0001)"
   ]
  },
  {
   "cell_type": "markdown",
   "metadata": {},
   "source": [
    "<h3>The code above shows the time taken for the algorithm to complete when the number of runs is 100 which uses the original parameters at the start of the notebook in the parameters class. The time takes longer when the number of runs is higher as it goes through the algorithm 100 times to show the best solution for the algortihm. That can be tweaked to search for the perfect optimal solution. The error rate here is 0.0001 which shows that the risk of an error is quite low for forming an optimal solution. Once a best solution cost goes below the error rate, the algorithm finishes if it is just one run of the algorithm or 50. The number of iterations in the parameters class is set at 100 anyway where the half of the entire population is basically children.<h3>"
   ]
  },
  {
   "cell_type": "code",
   "execution_count": 34,
   "metadata": {},
   "outputs": [
    {
     "data": {
      "text/plain": [
       "3.0962159999999983"
      ]
     },
     "execution_count": 34,
     "metadata": {},
     "output_type": "execute_result"
    }
   ],
   "source": [
    "test_genetic(10,prob,pars,0.0001)"
   ]
  },
  {
   "cell_type": "markdown",
   "metadata": {},
   "source": [
    "<h3>The code above shows the time taken for the algorithm to complete when the number of runs is 10 that uses the original parameters at the start of the notebook in the parameters class. The time taken to complete this test is shorter as the number of runs is less than the first test where the genetic algortihm is carried out 100 times. With the number of children set at 50 which is half of the population where the population number is set at 100, this allows the genetic algorithm to run quite quickly. The low mutation rate which would be changed to a higher rate quickly directly impacts the time of the test shown above where the tests for both mutation rate iterations of 10 and 100 are quicker than the two tests for the orignal parameters shown above as a low mutation rate reduces the variety of the genes for the algorithm where the process actually occurs quicker when the average time of the algorithm for 100 iterations is put into play in the test for timing the runs of the algorithm using the updated mutation rate of 0.3 later on in the tests.<h3>"
   ]
  },
  {
   "cell_type": "markdown",
   "metadata": {},
   "source": [
    "<h2>------------------------------------------------------------------------------------------<h2>"
   ]
  },
  {
   "cell_type": "markdown",
   "metadata": {},
   "source": [
    "<h1>Testing out explore rate for the first time with a value of 0.1 along with the default parameters shown at the start of the notebook in the parameters class.<h1>"
   ]
  },
  {
   "cell_type": "code",
   "execution_count": 35,
   "metadata": {},
   "outputs": [],
   "source": [
    "def test_explore():\n",
    "    times_for_explore_rate = []\n",
    "    for i in range(10):\n",
    "        #pars.explore_rate = float(i) / 5.0\n",
    "        times_for_explore_rate.append(test_genetic(10,prob,pars,0.1))\n",
    "        print(\"Iteration {} \\nTime for Explore Rate {}\\n\".format(i,pars.explore_rate,times_for_explore_rate))\n",
    "        print()\n",
    "    plt.xlabel(\"Iterations\")\n",
    "    plt.ylabel(\"Times for Explore Rate\")\n",
    "    plt.title(\"Genetic Algorithm\")\n",
    "    plt.plot(times_for_explore_rate)\n",
    "    print(\"Cost {} Chromosome {}\".format(best_solution.cost,best_solution.chromosome))"
   ]
  },
  {
   "cell_type": "code",
   "execution_count": 36,
   "metadata": {
    "scrolled": false
   },
   "outputs": [
    {
     "name": "stdout",
     "output_type": "stream",
     "text": [
      "Iteration 0 \n",
      "Time for Explore Rate [1.0398476999999957]\n",
      "\n",
      "\n",
      "Iteration 1 \n",
      "Time for Explore Rate [1.0398476999999957, 1.0646830000000023]\n",
      "\n",
      "\n",
      "Iteration 2 \n",
      "Time for Explore Rate [1.0398476999999957, 1.0646830000000023, 1.0599032999999878]\n",
      "\n",
      "\n",
      "Iteration 3 \n",
      "Time for Explore Rate [1.0398476999999957, 1.0646830000000023, 1.0599032999999878, 1.0175497999999976]\n",
      "\n",
      "\n",
      "Iteration 4 \n",
      "Time for Explore Rate [1.0398476999999957, 1.0646830000000023, 1.0599032999999878, 1.0175497999999976, 1.1752050999999994]\n",
      "\n",
      "\n",
      "Iteration 5 \n",
      "Time for Explore Rate [1.0398476999999957, 1.0646830000000023, 1.0599032999999878, 1.0175497999999976, 1.1752050999999994, 1.2300137999999947]\n",
      "\n",
      "\n",
      "Iteration 6 \n",
      "Time for Explore Rate [1.0398476999999957, 1.0646830000000023, 1.0599032999999878, 1.0175497999999976, 1.1752050999999994, 1.2300137999999947, 1.3495254000000045]\n",
      "\n",
      "\n",
      "Iteration 7 \n",
      "Time for Explore Rate [1.0398476999999957, 1.0646830000000023, 1.0599032999999878, 1.0175497999999976, 1.1752050999999994, 1.2300137999999947, 1.3495254000000045, 1.1901398999999913]\n",
      "\n",
      "\n",
      "Iteration 8 \n",
      "Time for Explore Rate [1.0398476999999957, 1.0646830000000023, 1.0599032999999878, 1.0175497999999976, 1.1752050999999994, 1.2300137999999947, 1.3495254000000045, 1.1901398999999913, 1.3010501000000119]\n",
      "\n",
      "\n",
      "Iteration 9 \n",
      "Time for Explore Rate [1.0398476999999957, 1.0646830000000023, 1.0599032999999878, 1.0175497999999976, 1.1752050999999994, 1.2300137999999947, 1.3495254000000045, 1.1901398999999913, 1.3010501000000119, 1.2671131999999972]\n",
      "\n",
      "\n",
      "Cost 0.07475388465193315 Chromosome [ 3.21440584 -1.21066442 -1.19868717 -1.27090737  3.23075885]\n"
     ]
    },
    {
     "data": {
      "image/png": "[encoded data removed]",
      "text/plain": [
       "<Figure size 432x288 with 1 Axes>"
      ]
     },
     "metadata": {
      "needs_background": "light"
     },
     "output_type": "display_data"
    }
   ],
   "source": [
    "test_explore()"
   ]
  },
  {
   "cell_type": "markdown",
   "metadata": {},
   "source": [
    "<h3>With this graph, the population size of 50 is used here where an explore rate of 0.1 is utilized that runs across 10 iterations. The mutation rate is 0.2 and the mutation range is 0.1. The explore rate variable where the iteration range is divided by 5 to increase the rate to 1.8 as the iterations progress is left out here as we are seeing how the different times have an impact on the algorithm that is triggered by the parameters to see if the best solution cost can be reached. The number of iterations used for the algorithm is 10 in this test. The best solution score of the algorithm in this case is actually reached early on in the iteration where the graph starts decreasing but rises after reaching the quickest time to perform the algortihm as the iterations progress due to the number of children in the population being 50 which peaks here at the end as the mutation range and rate are low in this first test. The times start to veer up and down later in this test as most of the parameters are quite low for now The number of children turns out to be 50 here too due to the child rate being 1 in the parameters class where the explore rate time to reach the best solution cost just below the error rate is quick at the start of the algorithm. However, the explore rate seems to have an impact on the efficiency of the algorithm as time progresses as the iteration is repeated multiple times where a higher best solution cost seems to be reached as the test progresses which veers further away from the actual best solution cost which would be lower. In these tests, the best solution cost will be shown with the best solution chromosome to compare the graph results with the expected fitness value to try and reach this optimal fitness value and the best chromosome.<h3>"
   ]
  },
  {
   "cell_type": "markdown",
   "metadata": {},
   "source": [
    "<h3>The error rate for the graph tests is set at 0.1 for all of the tests where 0.0001 is used for the test_genetic algorithm with regards to the time taken to finish an iteration of the algorithm after the best solution cost goes below the error rate or when the number of iterations has reached its limit of 10 or 100 for example.<h3>"
   ]
  },
  {
   "cell_type": "code",
   "execution_count": 38,
   "metadata": {},
   "outputs": [],
   "source": [
    "def test_explore_alt():\n",
    "    times_for_explore_rate = []\n",
    "    for i in range(100):\n",
    "        #pars.explore_rate = float(i) / 5.0\n",
    "        times_for_explore_rate.append(test_genetic(10,prob,pars,0.1))\n",
    "        print(\"Iteration {} \\nExplore Rate {} \\nTime for Explore Rate {}\\n\".format(i,pars.explore_rate,times_for_explore_rate))\n",
    "        print()\n",
    "    plt.xlabel(\"Iterations\")\n",
    "    plt.ylabel(\"Times for Explore Rate\")\n",
    "    plt.title(\"Genetic Algorithm\")\n",
    "    plt.plot(times_for_explore_rate)\n",
    "    print(\"Cost {} Chromosome {}\".format(best_solution.cost,best_solution.chromosome))"
   ]
  },
  {
   "cell_type": "code",
   "execution_count": 39,
   "metadata": {},
   "outputs": [
    {
     "name": "stdout",
     "output_type": "stream",
     "text": [
      "Iteration 0 \n",
      "Explore Rate 0.1 \n",
      "Time for Explore Rate [1.3734790999999973]\n",
      "\n",
      "\n",
      "Iteration 1 \n",
      "Explore Rate 0.1 \n",
      "Time for Explore Rate [1.3734790999999973, 1.3928841000000034]\n",
      "\n",
      "\n",
      "Iteration 2 \n",
      "Explore Rate 0.1 \n",
      "Time for Explore Rate [1.3734790999999973, 1.3928841000000034, 1.2206818999999882]\n",
      "\n",
      "\n",
      "Iteration 3 \n",
      "Explore Rate 0.1 \n",
      "Time for Explore Rate [1.3734790999999973, 1.3928841000000034, 1.2206818999999882, 1.118387800000022]\n",
      "\n",
      "\n",
      "Iteration 4 \n",
      "Explore Rate 0.1 \n",
      "Time for Explore Rate [1.3734790999999973, 1.3928841000000034, 1.2206818999999882, 1.118387800000022, 1.131689399999999]\n",
      "\n",
      "\n",
      "Iteration 5 \n",
      "Explore Rate 0.1 \n",
      "Time for Explore Rate [1.3734790999999973, 1.3928841000000034, 1.2206818999999882, 1.118387800000022, 1.131689399999999, 1.055370499999981]\n",
      "\n",
      "\n",
      "Iteration 6 \n",
      "Explore Rate 0.1 \n",
      "Time for Explore Rate [1.3734790999999973, 1.3928841000000034, 1.2206818999999882, 1.118387800000022, 1.131689399999999, 1.055370499999981, 1.1943157999999983]\n",
      "\n",
      "\n",
      "Iteration 7 \n",
      "Explore Rate 0.1 \n",
      "Time for Explore Rate [1.3734790999999973, 1.3928841000000034, 1.2206818999999882, 1.118387800000022, 1.131689399999999, 1.055370499999981, 1.1943157999999983, 1.2179744999999969]\n",
      "\n",
      "\n",
      "Iteration 8 \n",
      "Explore Rate 0.1 \n",
      "Time for Explore Rate [1.3734790999999973, 1.3928841000000034, 1.2206818999999882, 1.118387800000022, 1.131689399999999, 1.055370499999981, 1.1943157999999983, 1.2179744999999969, 1.4991355999999882]\n",
      "\n",
      "\n",
      "Iteration 9 \n",
      "Explore Rate 0.1 \n",
      "Time for Explore Rate [1.3734790999999973, 1.3928841000000034, 1.2206818999999882, 1.118387800000022, 1.131689399999999, 1.055370499999981, 1.1943157999999983, 1.2179744999999969, 1.4991355999999882, 1.4094373000000076]\n",
      "\n",
      "\n",
      "Iteration 10 \n",
      "Explore Rate 0.1 \n",
      "Time for Explore Rate [1.3734790999999973, 1.3928841000000034, 1.2206818999999882, 1.118387800000022, 1.131689399999999, 1.055370499999981, 1.1943157999999983, 1.2179744999999969, 1.4991355999999882, 1.4094373000000076, 1.183458399999978]\n",
      "\n",
      "\n",
      "Iteration 11 \n",
      "Explore Rate 0.1 \n",
      "Time for Explore Rate [1.3734790999999973, 1.3928841000000034, 1.2206818999999882, 1.118387800000022, 1.131689399999999, 1.055370499999981, 1.1943157999999983, 1.2179744999999969, 1.4991355999999882, 1.4094373000000076, 1.183458399999978, 0.9494959000000165]\n",
      "\n",
      "\n",
      "Iteration 12 \n",
      "Explore Rate 0.1 \n",
      "Time for Explore Rate [1.3734790999999973, 1.3928841000000034, 1.2206818999999882, 1.118387800000022, 1.131689399999999, 1.055370499999981, 1.1943157999999983, 1.2179744999999969, 1.4991355999999882, 1.4094373000000076, 1.183458399999978, 0.9494959000000165, 1.219477100000006]\n",
      "\n",
      "\n",
      "Iteration 13 \n",
      "Explore Rate 0.1 \n",
      "Time for Explore Rate [1.3734790999999973, 1.3928841000000034, 1.2206818999999882, 1.118387800000022, 1.131689399999999, 1.055370499999981, 1.1943157999999983, 1.2179744999999969, 1.4991355999999882, 1.4094373000000076, 1.183458399999978, 0.9494959000000165, 1.219477100000006, 0.9837320000000034]\n",
      "\n",
      "\n",
      "Iteration 14 \n",
      "Explore Rate 0.1 \n",
      "Time for Explore Rate [1.3734790999999973, 1.3928841000000034, 1.2206818999999882, 1.118387800000022, 1.131689399999999, 1.055370499999981, 1.1943157999999983, 1.2179744999999969, 1.4991355999999882, 1.4094373000000076, 1.183458399999978, 0.9494959000000165, 1.219477100000006, 0.9837320000000034, 1.140904699999993]\n",
      "\n",
      "\n",
      "Iteration 15 \n",
      "Explore Rate 0.1 \n",
      "Time for Explore Rate [1.3734790999999973, 1.3928841000000034, 1.2206818999999882, 1.118387800000022, 1.131689399999999, 1.055370499999981, 1.1943157999999983, 1.2179744999999969, 1.4991355999999882, 1.4094373000000076, 1.183458399999978, 0.9494959000000165, 1.219477100000006, 0.9837320000000034, 1.140904699999993, 1.1567988000000184]\n",
      "\n",
      "\n",
      "Iteration 16 \n",
      "Explore Rate 0.1 \n",
      "Time for Explore Rate [1.3734790999999973, 1.3928841000000034, 1.2206818999999882, 1.118387800000022, 1.131689399999999, 1.055370499999981, 1.1943157999999983, 1.2179744999999969, 1.4991355999999882, 1.4094373000000076, 1.183458399999978, 0.9494959000000165, 1.219477100000006, 0.9837320000000034, 1.140904699999993, 1.1567988000000184, 1.2261251000000186]\n",
      "\n",
      "\n",
      "Iteration 17 \n",
      "Explore Rate 0.1 \n",
      "Time for Explore Rate [1.3734790999999973, 1.3928841000000034, 1.2206818999999882, 1.118387800000022, 1.131689399999999, 1.055370499999981, 1.1943157999999983, 1.2179744999999969, 1.4991355999999882, 1.4094373000000076, 1.183458399999978, 0.9494959000000165, 1.219477100000006, 0.9837320000000034, 1.140904699999993, 1.1567988000000184, 1.2261251000000186, 1.835768800000011]\n",
      "\n",
      "\n",
      "Iteration 18 \n",
      "Explore Rate 0.1 \n",
      "Time for Explore Rate [1.3734790999999973, 1.3928841000000034, 1.2206818999999882, 1.118387800000022, 1.131689399999999, 1.055370499999981, 1.1943157999999983, 1.2179744999999969, 1.4991355999999882, 1.4094373000000076, 1.183458399999978, 0.9494959000000165, 1.219477100000006, 0.9837320000000034, 1.140904699999993, 1.1567988000000184, 1.2261251000000186, 1.835768800000011, 1.1849635000000092]\n",
      "\n",
      "\n",
      "Iteration 19 \n",
      "Explore Rate 0.1 \n",
      "Time for Explore Rate [1.3734790999999973, 1.3928841000000034, 1.2206818999999882, 1.118387800000022, 1.131689399999999, 1.055370499999981, 1.1943157999999983, 1.2179744999999969, 1.4991355999999882, 1.4094373000000076, 1.183458399999978, 0.9494959000000165, 1.219477100000006, 0.9837320000000034, 1.140904699999993, 1.1567988000000184, 1.2261251000000186, 1.835768800000011, 1.1849635000000092, 1.1485214999999869]\n",
      "\n",
      "\n",
      "Iteration 20 \n",
      "Explore Rate 0.1 \n",
      "Time for Explore Rate [1.3734790999999973, 1.3928841000000034, 1.2206818999999882, 1.118387800000022, 1.131689399999999, 1.055370499999981, 1.1943157999999983, 1.2179744999999969, 1.4991355999999882, 1.4094373000000076, 1.183458399999978, 0.9494959000000165, 1.219477100000006, 0.9837320000000034, 1.140904699999993, 1.1567988000000184, 1.2261251000000186, 1.835768800000011, 1.1849635000000092, 1.1485214999999869, 1.4634993999999892]\n",
      "\n",
      "\n",
      "Iteration 21 \n",
      "Explore Rate 0.1 \n",
      "Time for Explore Rate [1.3734790999999973, 1.3928841000000034, 1.2206818999999882, 1.118387800000022, 1.131689399999999, 1.055370499999981, 1.1943157999999983, 1.2179744999999969, 1.4991355999999882, 1.4094373000000076, 1.183458399999978, 0.9494959000000165, 1.219477100000006, 0.9837320000000034, 1.140904699999993, 1.1567988000000184, 1.2261251000000186, 1.835768800000011, 1.1849635000000092, 1.1485214999999869, 1.4634993999999892, 1.274583299999989]\n",
      "\n",
      "\n",
      "Iteration 22 \n",
      "Explore Rate 0.1 \n",
      "Time for Explore Rate [1.3734790999999973, 1.3928841000000034, 1.2206818999999882, 1.118387800000022, 1.131689399999999, 1.055370499999981, 1.1943157999999983, 1.2179744999999969, 1.4991355999999882, 1.4094373000000076, 1.183458399999978, 0.9494959000000165, 1.219477100000006, 0.9837320000000034, 1.140904699999993, 1.1567988000000184, 1.2261251000000186, 1.835768800000011, 1.1849635000000092, 1.1485214999999869, 1.4634993999999892, 1.274583299999989, 1.1942057999999918]\n",
      "\n",
      "\n",
      "Iteration 23 \n",
      "Explore Rate 0.1 \n",
      "Time for Explore Rate [1.3734790999999973, 1.3928841000000034, 1.2206818999999882, 1.118387800000022, 1.131689399999999, 1.055370499999981, 1.1943157999999983, 1.2179744999999969, 1.4991355999999882, 1.4094373000000076, 1.183458399999978, 0.9494959000000165, 1.219477100000006, 0.9837320000000034, 1.140904699999993, 1.1567988000000184, 1.2261251000000186, 1.835768800000011, 1.1849635000000092, 1.1485214999999869, 1.4634993999999892, 1.274583299999989, 1.1942057999999918, 1.1679900999999973]\n",
      "\n",
      "\n",
      "Iteration 24 \n",
      "Explore Rate 0.1 \n",
      "Time for Explore Rate [1.3734790999999973, 1.3928841000000034, 1.2206818999999882, 1.118387800000022, 1.131689399999999, 1.055370499999981, 1.1943157999999983, 1.2179744999999969, 1.4991355999999882, 1.4094373000000076, 1.183458399999978, 0.9494959000000165, 1.219477100000006, 0.9837320000000034, 1.140904699999993, 1.1567988000000184, 1.2261251000000186, 1.835768800000011, 1.1849635000000092, 1.1485214999999869, 1.4634993999999892, 1.274583299999989, 1.1942057999999918, 1.1679900999999973, 1.2736763999999994]\n",
      "\n",
      "\n",
      "Iteration 25 \n",
      "Explore Rate 0.1 \n",
      "Time for Explore Rate [1.3734790999999973, 1.3928841000000034, 1.2206818999999882, 1.118387800000022, 1.131689399999999, 1.055370499999981, 1.1943157999999983, 1.2179744999999969, 1.4991355999999882, 1.4094373000000076, 1.183458399999978, 0.9494959000000165, 1.219477100000006, 0.9837320000000034, 1.140904699999993, 1.1567988000000184, 1.2261251000000186, 1.835768800000011, 1.1849635000000092, 1.1485214999999869, 1.4634993999999892, 1.274583299999989, 1.1942057999999918, 1.1679900999999973, 1.2736763999999994, 1.4027301999999793]\n",
      "\n",
      "\n"
     ]
    },
    {
     "name": "stdout",
     "output_type": "stream",
     "text": [
      "Iteration 26 \n",
      "Explore Rate 0.1 \n",
      "Time for Explore Rate [1.3734790999999973, 1.3928841000000034, 1.2206818999999882, 1.118387800000022, 1.131689399999999, 1.055370499999981, 1.1943157999999983, 1.2179744999999969, 1.4991355999999882, 1.4094373000000076, 1.183458399999978, 0.9494959000000165, 1.219477100000006, 0.9837320000000034, 1.140904699999993, 1.1567988000000184, 1.2261251000000186, 1.835768800000011, 1.1849635000000092, 1.1485214999999869, 1.4634993999999892, 1.274583299999989, 1.1942057999999918, 1.1679900999999973, 1.2736763999999994, 1.4027301999999793, 1.0861399000000063]\n",
      "\n",
      "\n",
      "Iteration 27 \n",
      "Explore Rate 0.1 \n",
      "Time for Explore Rate [1.3734790999999973, 1.3928841000000034, 1.2206818999999882, 1.118387800000022, 1.131689399999999, 1.055370499999981, 1.1943157999999983, 1.2179744999999969, 1.4991355999999882, 1.4094373000000076, 1.183458399999978, 0.9494959000000165, 1.219477100000006, 0.9837320000000034, 1.140904699999993, 1.1567988000000184, 1.2261251000000186, 1.835768800000011, 1.1849635000000092, 1.1485214999999869, 1.4634993999999892, 1.274583299999989, 1.1942057999999918, 1.1679900999999973, 1.2736763999999994, 1.4027301999999793, 1.0861399000000063, 1.2890767000000096]\n",
      "\n",
      "\n",
      "Iteration 28 \n",
      "Explore Rate 0.1 \n",
      "Time for Explore Rate [1.3734790999999973, 1.3928841000000034, 1.2206818999999882, 1.118387800000022, 1.131689399999999, 1.055370499999981, 1.1943157999999983, 1.2179744999999969, 1.4991355999999882, 1.4094373000000076, 1.183458399999978, 0.9494959000000165, 1.219477100000006, 0.9837320000000034, 1.140904699999993, 1.1567988000000184, 1.2261251000000186, 1.835768800000011, 1.1849635000000092, 1.1485214999999869, 1.4634993999999892, 1.274583299999989, 1.1942057999999918, 1.1679900999999973, 1.2736763999999994, 1.4027301999999793, 1.0861399000000063, 1.2890767000000096, 1.1214885999999922]\n",
      "\n",
      "\n",
      "Iteration 29 \n",
      "Explore Rate 0.1 \n",
      "Time for Explore Rate [1.3734790999999973, 1.3928841000000034, 1.2206818999999882, 1.118387800000022, 1.131689399999999, 1.055370499999981, 1.1943157999999983, 1.2179744999999969, 1.4991355999999882, 1.4094373000000076, 1.183458399999978, 0.9494959000000165, 1.219477100000006, 0.9837320000000034, 1.140904699999993, 1.1567988000000184, 1.2261251000000186, 1.835768800000011, 1.1849635000000092, 1.1485214999999869, 1.4634993999999892, 1.274583299999989, 1.1942057999999918, 1.1679900999999973, 1.2736763999999994, 1.4027301999999793, 1.0861399000000063, 1.2890767000000096, 1.1214885999999922, 1.3977247999999918]\n",
      "\n",
      "\n",
      "Iteration 30 \n",
      "Explore Rate 0.1 \n",
      "Time for Explore Rate [1.3734790999999973, 1.3928841000000034, 1.2206818999999882, 1.118387800000022, 1.131689399999999, 1.055370499999981, 1.1943157999999983, 1.2179744999999969, 1.4991355999999882, 1.4094373000000076, 1.183458399999978, 0.9494959000000165, 1.219477100000006, 0.9837320000000034, 1.140904699999993, 1.1567988000000184, 1.2261251000000186, 1.835768800000011, 1.1849635000000092, 1.1485214999999869, 1.4634993999999892, 1.274583299999989, 1.1942057999999918, 1.1679900999999973, 1.2736763999999994, 1.4027301999999793, 1.0861399000000063, 1.2890767000000096, 1.1214885999999922, 1.3977247999999918, 1.2306556999999998]\n",
      "\n",
      "\n",
      "Iteration 31 \n",
      "Explore Rate 0.1 \n",
      "Time for Explore Rate [1.3734790999999973, 1.3928841000000034, 1.2206818999999882, 1.118387800000022, 1.131689399999999, 1.055370499999981, 1.1943157999999983, 1.2179744999999969, 1.4991355999999882, 1.4094373000000076, 1.183458399999978, 0.9494959000000165, 1.219477100000006, 0.9837320000000034, 1.140904699999993, 1.1567988000000184, 1.2261251000000186, 1.835768800000011, 1.1849635000000092, 1.1485214999999869, 1.4634993999999892, 1.274583299999989, 1.1942057999999918, 1.1679900999999973, 1.2736763999999994, 1.4027301999999793, 1.0861399000000063, 1.2890767000000096, 1.1214885999999922, 1.3977247999999918, 1.2306556999999998, 1.3105798999999934]\n",
      "\n",
      "\n",
      "Iteration 32 \n",
      "Explore Rate 0.1 \n",
      "Time for Explore Rate [1.3734790999999973, 1.3928841000000034, 1.2206818999999882, 1.118387800000022, 1.131689399999999, 1.055370499999981, 1.1943157999999983, 1.2179744999999969, 1.4991355999999882, 1.4094373000000076, 1.183458399999978, 0.9494959000000165, 1.219477100000006, 0.9837320000000034, 1.140904699999993, 1.1567988000000184, 1.2261251000000186, 1.835768800000011, 1.1849635000000092, 1.1485214999999869, 1.4634993999999892, 1.274583299999989, 1.1942057999999918, 1.1679900999999973, 1.2736763999999994, 1.4027301999999793, 1.0861399000000063, 1.2890767000000096, 1.1214885999999922, 1.3977247999999918, 1.2306556999999998, 1.3105798999999934, 1.0882125999999914]\n",
      "\n",
      "\n",
      "Iteration 33 \n",
      "Explore Rate 0.1 \n",
      "Time for Explore Rate [1.3734790999999973, 1.3928841000000034, 1.2206818999999882, 1.118387800000022, 1.131689399999999, 1.055370499999981, 1.1943157999999983, 1.2179744999999969, 1.4991355999999882, 1.4094373000000076, 1.183458399999978, 0.9494959000000165, 1.219477100000006, 0.9837320000000034, 1.140904699999993, 1.1567988000000184, 1.2261251000000186, 1.835768800000011, 1.1849635000000092, 1.1485214999999869, 1.4634993999999892, 1.274583299999989, 1.1942057999999918, 1.1679900999999973, 1.2736763999999994, 1.4027301999999793, 1.0861399000000063, 1.2890767000000096, 1.1214885999999922, 1.3977247999999918, 1.2306556999999998, 1.3105798999999934, 1.0882125999999914, 1.5196246000000144]\n",
      "\n",
      "\n",
      "Iteration 34 \n",
      "Explore Rate 0.1 \n",
      "Time for Explore Rate [1.3734790999999973, 1.3928841000000034, 1.2206818999999882, 1.118387800000022, 1.131689399999999, 1.055370499999981, 1.1943157999999983, 1.2179744999999969, 1.4991355999999882, 1.4094373000000076, 1.183458399999978, 0.9494959000000165, 1.219477100000006, 0.9837320000000034, 1.140904699999993, 1.1567988000000184, 1.2261251000000186, 1.835768800000011, 1.1849635000000092, 1.1485214999999869, 1.4634993999999892, 1.274583299999989, 1.1942057999999918, 1.1679900999999973, 1.2736763999999994, 1.4027301999999793, 1.0861399000000063, 1.2890767000000096, 1.1214885999999922, 1.3977247999999918, 1.2306556999999998, 1.3105798999999934, 1.0882125999999914, 1.5196246000000144, 1.379776899999996]\n",
      "\n",
      "\n",
      "Iteration 35 \n",
      "Explore Rate 0.1 \n",
      "Time for Explore Rate [1.3734790999999973, 1.3928841000000034, 1.2206818999999882, 1.118387800000022, 1.131689399999999, 1.055370499999981, 1.1943157999999983, 1.2179744999999969, 1.4991355999999882, 1.4094373000000076, 1.183458399999978, 0.9494959000000165, 1.219477100000006, 0.9837320000000034, 1.140904699999993, 1.1567988000000184, 1.2261251000000186, 1.835768800000011, 1.1849635000000092, 1.1485214999999869, 1.4634993999999892, 1.274583299999989, 1.1942057999999918, 1.1679900999999973, 1.2736763999999994, 1.4027301999999793, 1.0861399000000063, 1.2890767000000096, 1.1214885999999922, 1.3977247999999918, 1.2306556999999998, 1.3105798999999934, 1.0882125999999914, 1.5196246000000144, 1.379776899999996, 1.235028700000015]\n",
      "\n",
      "\n",
      "Iteration 36 \n",
      "Explore Rate 0.1 \n",
      "Time for Explore Rate [1.3734790999999973, 1.3928841000000034, 1.2206818999999882, 1.118387800000022, 1.131689399999999, 1.055370499999981, 1.1943157999999983, 1.2179744999999969, 1.4991355999999882, 1.4094373000000076, 1.183458399999978, 0.9494959000000165, 1.219477100000006, 0.9837320000000034, 1.140904699999993, 1.1567988000000184, 1.2261251000000186, 1.835768800000011, 1.1849635000000092, 1.1485214999999869, 1.4634993999999892, 1.274583299999989, 1.1942057999999918, 1.1679900999999973, 1.2736763999999994, 1.4027301999999793, 1.0861399000000063, 1.2890767000000096, 1.1214885999999922, 1.3977247999999918, 1.2306556999999998, 1.3105798999999934, 1.0882125999999914, 1.5196246000000144, 1.379776899999996, 1.235028700000015, 1.2304598999999996]\n",
      "\n",
      "\n",
      "Iteration 37 \n",
      "Explore Rate 0.1 \n",
      "Time for Explore Rate [1.3734790999999973, 1.3928841000000034, 1.2206818999999882, 1.118387800000022, 1.131689399999999, 1.055370499999981, 1.1943157999999983, 1.2179744999999969, 1.4991355999999882, 1.4094373000000076, 1.183458399999978, 0.9494959000000165, 1.219477100000006, 0.9837320000000034, 1.140904699999993, 1.1567988000000184, 1.2261251000000186, 1.835768800000011, 1.1849635000000092, 1.1485214999999869, 1.4634993999999892, 1.274583299999989, 1.1942057999999918, 1.1679900999999973, 1.2736763999999994, 1.4027301999999793, 1.0861399000000063, 1.2890767000000096, 1.1214885999999922, 1.3977247999999918, 1.2306556999999998, 1.3105798999999934, 1.0882125999999914, 1.5196246000000144, 1.379776899999996, 1.235028700000015, 1.2304598999999996, 1.074028400000003]\n",
      "\n",
      "\n"
     ]
    },
    {
     "name": "stdout",
     "output_type": "stream",
     "text": [
      "Iteration 38 \n",
      "Explore Rate 0.1 \n",
      "Time for Explore Rate [1.3734790999999973, 1.3928841000000034, 1.2206818999999882, 1.118387800000022, 1.131689399999999, 1.055370499999981, 1.1943157999999983, 1.2179744999999969, 1.4991355999999882, 1.4094373000000076, 1.183458399999978, 0.9494959000000165, 1.219477100000006, 0.9837320000000034, 1.140904699999993, 1.1567988000000184, 1.2261251000000186, 1.835768800000011, 1.1849635000000092, 1.1485214999999869, 1.4634993999999892, 1.274583299999989, 1.1942057999999918, 1.1679900999999973, 1.2736763999999994, 1.4027301999999793, 1.0861399000000063, 1.2890767000000096, 1.1214885999999922, 1.3977247999999918, 1.2306556999999998, 1.3105798999999934, 1.0882125999999914, 1.5196246000000144, 1.379776899999996, 1.235028700000015, 1.2304598999999996, 1.074028400000003, 1.0699395000000038]\n",
      "\n",
      "\n",
      "Iteration 39 \n",
      "Explore Rate 0.1 \n",
      "Time for Explore Rate [1.3734790999999973, 1.3928841000000034, 1.2206818999999882, 1.118387800000022, 1.131689399999999, 1.055370499999981, 1.1943157999999983, 1.2179744999999969, 1.4991355999999882, 1.4094373000000076, 1.183458399999978, 0.9494959000000165, 1.219477100000006, 0.9837320000000034, 1.140904699999993, 1.1567988000000184, 1.2261251000000186, 1.835768800000011, 1.1849635000000092, 1.1485214999999869, 1.4634993999999892, 1.274583299999989, 1.1942057999999918, 1.1679900999999973, 1.2736763999999994, 1.4027301999999793, 1.0861399000000063, 1.2890767000000096, 1.1214885999999922, 1.3977247999999918, 1.2306556999999998, 1.3105798999999934, 1.0882125999999914, 1.5196246000000144, 1.379776899999996, 1.235028700000015, 1.2304598999999996, 1.074028400000003, 1.0699395000000038, 1.0504866999999933]\n",
      "\n",
      "\n",
      "Iteration 40 \n",
      "Explore Rate 0.1 \n",
      "Time for Explore Rate [1.3734790999999973, 1.3928841000000034, 1.2206818999999882, 1.118387800000022, 1.131689399999999, 1.055370499999981, 1.1943157999999983, 1.2179744999999969, 1.4991355999999882, 1.4094373000000076, 1.183458399999978, 0.9494959000000165, 1.219477100000006, 0.9837320000000034, 1.140904699999993, 1.1567988000000184, 1.2261251000000186, 1.835768800000011, 1.1849635000000092, 1.1485214999999869, 1.4634993999999892, 1.274583299999989, 1.1942057999999918, 1.1679900999999973, 1.2736763999999994, 1.4027301999999793, 1.0861399000000063, 1.2890767000000096, 1.1214885999999922, 1.3977247999999918, 1.2306556999999998, 1.3105798999999934, 1.0882125999999914, 1.5196246000000144, 1.379776899999996, 1.235028700000015, 1.2304598999999996, 1.074028400000003, 1.0699395000000038, 1.0504866999999933, 0.9095173999999986]\n",
      "\n",
      "\n",
      "Iteration 41 \n",
      "Explore Rate 0.1 \n",
      "Time for Explore Rate [1.3734790999999973, 1.3928841000000034, 1.2206818999999882, 1.118387800000022, 1.131689399999999, 1.055370499999981, 1.1943157999999983, 1.2179744999999969, 1.4991355999999882, 1.4094373000000076, 1.183458399999978, 0.9494959000000165, 1.219477100000006, 0.9837320000000034, 1.140904699999993, 1.1567988000000184, 1.2261251000000186, 1.835768800000011, 1.1849635000000092, 1.1485214999999869, 1.4634993999999892, 1.274583299999989, 1.1942057999999918, 1.1679900999999973, 1.2736763999999994, 1.4027301999999793, 1.0861399000000063, 1.2890767000000096, 1.1214885999999922, 1.3977247999999918, 1.2306556999999998, 1.3105798999999934, 1.0882125999999914, 1.5196246000000144, 1.379776899999996, 1.235028700000015, 1.2304598999999996, 1.074028400000003, 1.0699395000000038, 1.0504866999999933, 0.9095173999999986, 1.1688539000000162]\n",
      "\n",
      "\n",
      "Iteration 42 \n",
      "Explore Rate 0.1 \n",
      "Time for Explore Rate [1.3734790999999973, 1.3928841000000034, 1.2206818999999882, 1.118387800000022, 1.131689399999999, 1.055370499999981, 1.1943157999999983, 1.2179744999999969, 1.4991355999999882, 1.4094373000000076, 1.183458399999978, 0.9494959000000165, 1.219477100000006, 0.9837320000000034, 1.140904699999993, 1.1567988000000184, 1.2261251000000186, 1.835768800000011, 1.1849635000000092, 1.1485214999999869, 1.4634993999999892, 1.274583299999989, 1.1942057999999918, 1.1679900999999973, 1.2736763999999994, 1.4027301999999793, 1.0861399000000063, 1.2890767000000096, 1.1214885999999922, 1.3977247999999918, 1.2306556999999998, 1.3105798999999934, 1.0882125999999914, 1.5196246000000144, 1.379776899999996, 1.235028700000015, 1.2304598999999996, 1.074028400000003, 1.0699395000000038, 1.0504866999999933, 0.9095173999999986, 1.1688539000000162, 1.2406305000000089]\n",
      "\n",
      "\n",
      "Iteration 43 \n",
      "Explore Rate 0.1 \n",
      "Time for Explore Rate [1.3734790999999973, 1.3928841000000034, 1.2206818999999882, 1.118387800000022, 1.131689399999999, 1.055370499999981, 1.1943157999999983, 1.2179744999999969, 1.4991355999999882, 1.4094373000000076, 1.183458399999978, 0.9494959000000165, 1.219477100000006, 0.9837320000000034, 1.140904699999993, 1.1567988000000184, 1.2261251000000186, 1.835768800000011, 1.1849635000000092, 1.1485214999999869, 1.4634993999999892, 1.274583299999989, 1.1942057999999918, 1.1679900999999973, 1.2736763999999994, 1.4027301999999793, 1.0861399000000063, 1.2890767000000096, 1.1214885999999922, 1.3977247999999918, 1.2306556999999998, 1.3105798999999934, 1.0882125999999914, 1.5196246000000144, 1.379776899999996, 1.235028700000015, 1.2304598999999996, 1.074028400000003, 1.0699395000000038, 1.0504866999999933, 0.9095173999999986, 1.1688539000000162, 1.2406305000000089, 1.3700525999999797]\n",
      "\n",
      "\n",
      "Iteration 44 \n",
      "Explore Rate 0.1 \n",
      "Time for Explore Rate [1.3734790999999973, 1.3928841000000034, 1.2206818999999882, 1.118387800000022, 1.131689399999999, 1.055370499999981, 1.1943157999999983, 1.2179744999999969, 1.4991355999999882, 1.4094373000000076, 1.183458399999978, 0.9494959000000165, 1.219477100000006, 0.9837320000000034, 1.140904699999993, 1.1567988000000184, 1.2261251000000186, 1.835768800000011, 1.1849635000000092, 1.1485214999999869, 1.4634993999999892, 1.274583299999989, 1.1942057999999918, 1.1679900999999973, 1.2736763999999994, 1.4027301999999793, 1.0861399000000063, 1.2890767000000096, 1.1214885999999922, 1.3977247999999918, 1.2306556999999998, 1.3105798999999934, 1.0882125999999914, 1.5196246000000144, 1.379776899999996, 1.235028700000015, 1.2304598999999996, 1.074028400000003, 1.0699395000000038, 1.0504866999999933, 0.9095173999999986, 1.1688539000000162, 1.2406305000000089, 1.3700525999999797, 1.244488700000005]\n",
      "\n",
      "\n",
      "Iteration 45 \n",
      "Explore Rate 0.1 \n",
      "Time for Explore Rate [1.3734790999999973, 1.3928841000000034, 1.2206818999999882, 1.118387800000022, 1.131689399999999, 1.055370499999981, 1.1943157999999983, 1.2179744999999969, 1.4991355999999882, 1.4094373000000076, 1.183458399999978, 0.9494959000000165, 1.219477100000006, 0.9837320000000034, 1.140904699999993, 1.1567988000000184, 1.2261251000000186, 1.835768800000011, 1.1849635000000092, 1.1485214999999869, 1.4634993999999892, 1.274583299999989, 1.1942057999999918, 1.1679900999999973, 1.2736763999999994, 1.4027301999999793, 1.0861399000000063, 1.2890767000000096, 1.1214885999999922, 1.3977247999999918, 1.2306556999999998, 1.3105798999999934, 1.0882125999999914, 1.5196246000000144, 1.379776899999996, 1.235028700000015, 1.2304598999999996, 1.074028400000003, 1.0699395000000038, 1.0504866999999933, 0.9095173999999986, 1.1688539000000162, 1.2406305000000089, 1.3700525999999797, 1.244488700000005, 1.3375628000000006]\n",
      "\n",
      "\n",
      "Iteration 46 \n",
      "Explore Rate 0.1 \n",
      "Time for Explore Rate [1.3734790999999973, 1.3928841000000034, 1.2206818999999882, 1.118387800000022, 1.131689399999999, 1.055370499999981, 1.1943157999999983, 1.2179744999999969, 1.4991355999999882, 1.4094373000000076, 1.183458399999978, 0.9494959000000165, 1.219477100000006, 0.9837320000000034, 1.140904699999993, 1.1567988000000184, 1.2261251000000186, 1.835768800000011, 1.1849635000000092, 1.1485214999999869, 1.4634993999999892, 1.274583299999989, 1.1942057999999918, 1.1679900999999973, 1.2736763999999994, 1.4027301999999793, 1.0861399000000063, 1.2890767000000096, 1.1214885999999922, 1.3977247999999918, 1.2306556999999998, 1.3105798999999934, 1.0882125999999914, 1.5196246000000144, 1.379776899999996, 1.235028700000015, 1.2304598999999996, 1.074028400000003, 1.0699395000000038, 1.0504866999999933, 0.9095173999999986, 1.1688539000000162, 1.2406305000000089, 1.3700525999999797, 1.244488700000005, 1.3375628000000006, 1.2455850000000055]\n",
      "\n",
      "\n",
      "Iteration 47 \n",
      "Explore Rate 0.1 \n",
      "Time for Explore Rate [1.3734790999999973, 1.3928841000000034, 1.2206818999999882, 1.118387800000022, 1.131689399999999, 1.055370499999981, 1.1943157999999983, 1.2179744999999969, 1.4991355999999882, 1.4094373000000076, 1.183458399999978, 0.9494959000000165, 1.219477100000006, 0.9837320000000034, 1.140904699999993, 1.1567988000000184, 1.2261251000000186, 1.835768800000011, 1.1849635000000092, 1.1485214999999869, 1.4634993999999892, 1.274583299999989, 1.1942057999999918, 1.1679900999999973, 1.2736763999999994, 1.4027301999999793, 1.0861399000000063, 1.2890767000000096, 1.1214885999999922, 1.3977247999999918, 1.2306556999999998, 1.3105798999999934, 1.0882125999999914, 1.5196246000000144, 1.379776899999996, 1.235028700000015, 1.2304598999999996, 1.074028400000003, 1.0699395000000038, 1.0504866999999933, 0.9095173999999986, 1.1688539000000162, 1.2406305000000089, 1.3700525999999797, 1.244488700000005, 1.3375628000000006, 1.2455850000000055, 1.3416268000000002]\n",
      "\n",
      "\n"
     ]
    },
    {
     "name": "stdout",
     "output_type": "stream",
     "text": [
      "Iteration 48 \n",
      "Explore Rate 0.1 \n",
      "Time for Explore Rate [1.3734790999999973, 1.3928841000000034, 1.2206818999999882, 1.118387800000022, 1.131689399999999, 1.055370499999981, 1.1943157999999983, 1.2179744999999969, 1.4991355999999882, 1.4094373000000076, 1.183458399999978, 0.9494959000000165, 1.219477100000006, 0.9837320000000034, 1.140904699999993, 1.1567988000000184, 1.2261251000000186, 1.835768800000011, 1.1849635000000092, 1.1485214999999869, 1.4634993999999892, 1.274583299999989, 1.1942057999999918, 1.1679900999999973, 1.2736763999999994, 1.4027301999999793, 1.0861399000000063, 1.2890767000000096, 1.1214885999999922, 1.3977247999999918, 1.2306556999999998, 1.3105798999999934, 1.0882125999999914, 1.5196246000000144, 1.379776899999996, 1.235028700000015, 1.2304598999999996, 1.074028400000003, 1.0699395000000038, 1.0504866999999933, 0.9095173999999986, 1.1688539000000162, 1.2406305000000089, 1.3700525999999797, 1.244488700000005, 1.3375628000000006, 1.2455850000000055, 1.3416268000000002, 1.2547722000000192]\n",
      "\n",
      "\n",
      "Iteration 49 \n",
      "Explore Rate 0.1 \n",
      "Time for Explore Rate [1.3734790999999973, 1.3928841000000034, 1.2206818999999882, 1.118387800000022, 1.131689399999999, 1.055370499999981, 1.1943157999999983, 1.2179744999999969, 1.4991355999999882, 1.4094373000000076, 1.183458399999978, 0.9494959000000165, 1.219477100000006, 0.9837320000000034, 1.140904699999993, 1.1567988000000184, 1.2261251000000186, 1.835768800000011, 1.1849635000000092, 1.1485214999999869, 1.4634993999999892, 1.274583299999989, 1.1942057999999918, 1.1679900999999973, 1.2736763999999994, 1.4027301999999793, 1.0861399000000063, 1.2890767000000096, 1.1214885999999922, 1.3977247999999918, 1.2306556999999998, 1.3105798999999934, 1.0882125999999914, 1.5196246000000144, 1.379776899999996, 1.235028700000015, 1.2304598999999996, 1.074028400000003, 1.0699395000000038, 1.0504866999999933, 0.9095173999999986, 1.1688539000000162, 1.2406305000000089, 1.3700525999999797, 1.244488700000005, 1.3375628000000006, 1.2455850000000055, 1.3416268000000002, 1.2547722000000192, 1.2738990000000001]\n",
      "\n",
      "\n",
      "Iteration 50 \n",
      "Explore Rate 0.1 \n",
      "Time for Explore Rate [1.3734790999999973, 1.3928841000000034, 1.2206818999999882, 1.118387800000022, 1.131689399999999, 1.055370499999981, 1.1943157999999983, 1.2179744999999969, 1.4991355999999882, 1.4094373000000076, 1.183458399999978, 0.9494959000000165, 1.219477100000006, 0.9837320000000034, 1.140904699999993, 1.1567988000000184, 1.2261251000000186, 1.835768800000011, 1.1849635000000092, 1.1485214999999869, 1.4634993999999892, 1.274583299999989, 1.1942057999999918, 1.1679900999999973, 1.2736763999999994, 1.4027301999999793, 1.0861399000000063, 1.2890767000000096, 1.1214885999999922, 1.3977247999999918, 1.2306556999999998, 1.3105798999999934, 1.0882125999999914, 1.5196246000000144, 1.379776899999996, 1.235028700000015, 1.2304598999999996, 1.074028400000003, 1.0699395000000038, 1.0504866999999933, 0.9095173999999986, 1.1688539000000162, 1.2406305000000089, 1.3700525999999797, 1.244488700000005, 1.3375628000000006, 1.2455850000000055, 1.3416268000000002, 1.2547722000000192, 1.2738990000000001, 1.090795700000001]\n",
      "\n",
      "\n",
      "Iteration 51 \n",
      "Explore Rate 0.1 \n",
      "Time for Explore Rate [1.3734790999999973, 1.3928841000000034, 1.2206818999999882, 1.118387800000022, 1.131689399999999, 1.055370499999981, 1.1943157999999983, 1.2179744999999969, 1.4991355999999882, 1.4094373000000076, 1.183458399999978, 0.9494959000000165, 1.219477100000006, 0.9837320000000034, 1.140904699999993, 1.1567988000000184, 1.2261251000000186, 1.835768800000011, 1.1849635000000092, 1.1485214999999869, 1.4634993999999892, 1.274583299999989, 1.1942057999999918, 1.1679900999999973, 1.2736763999999994, 1.4027301999999793, 1.0861399000000063, 1.2890767000000096, 1.1214885999999922, 1.3977247999999918, 1.2306556999999998, 1.3105798999999934, 1.0882125999999914, 1.5196246000000144, 1.379776899999996, 1.235028700000015, 1.2304598999999996, 1.074028400000003, 1.0699395000000038, 1.0504866999999933, 0.9095173999999986, 1.1688539000000162, 1.2406305000000089, 1.3700525999999797, 1.244488700000005, 1.3375628000000006, 1.2455850000000055, 1.3416268000000002, 1.2547722000000192, 1.2738990000000001, 1.090795700000001, 1.0584273000000053]\n",
      "\n",
      "\n",
      "Iteration 52 \n",
      "Explore Rate 0.1 \n",
      "Time for Explore Rate [1.3734790999999973, 1.3928841000000034, 1.2206818999999882, 1.118387800000022, 1.131689399999999, 1.055370499999981, 1.1943157999999983, 1.2179744999999969, 1.4991355999999882, 1.4094373000000076, 1.183458399999978, 0.9494959000000165, 1.219477100000006, 0.9837320000000034, 1.140904699999993, 1.1567988000000184, 1.2261251000000186, 1.835768800000011, 1.1849635000000092, 1.1485214999999869, 1.4634993999999892, 1.274583299999989, 1.1942057999999918, 1.1679900999999973, 1.2736763999999994, 1.4027301999999793, 1.0861399000000063, 1.2890767000000096, 1.1214885999999922, 1.3977247999999918, 1.2306556999999998, 1.3105798999999934, 1.0882125999999914, 1.5196246000000144, 1.379776899999996, 1.235028700000015, 1.2304598999999996, 1.074028400000003, 1.0699395000000038, 1.0504866999999933, 0.9095173999999986, 1.1688539000000162, 1.2406305000000089, 1.3700525999999797, 1.244488700000005, 1.3375628000000006, 1.2455850000000055, 1.3416268000000002, 1.2547722000000192, 1.2738990000000001, 1.090795700000001, 1.0584273000000053, 1.0206210999999996]\n",
      "\n",
      "\n",
      "Iteration 53 \n",
      "Explore Rate 0.1 \n",
      "Time for Explore Rate [1.3734790999999973, 1.3928841000000034, 1.2206818999999882, 1.118387800000022, 1.131689399999999, 1.055370499999981, 1.1943157999999983, 1.2179744999999969, 1.4991355999999882, 1.4094373000000076, 1.183458399999978, 0.9494959000000165, 1.219477100000006, 0.9837320000000034, 1.140904699999993, 1.1567988000000184, 1.2261251000000186, 1.835768800000011, 1.1849635000000092, 1.1485214999999869, 1.4634993999999892, 1.274583299999989, 1.1942057999999918, 1.1679900999999973, 1.2736763999999994, 1.4027301999999793, 1.0861399000000063, 1.2890767000000096, 1.1214885999999922, 1.3977247999999918, 1.2306556999999998, 1.3105798999999934, 1.0882125999999914, 1.5196246000000144, 1.379776899999996, 1.235028700000015, 1.2304598999999996, 1.074028400000003, 1.0699395000000038, 1.0504866999999933, 0.9095173999999986, 1.1688539000000162, 1.2406305000000089, 1.3700525999999797, 1.244488700000005, 1.3375628000000006, 1.2455850000000055, 1.3416268000000002, 1.2547722000000192, 1.2738990000000001, 1.090795700000001, 1.0584273000000053, 1.0206210999999996, 1.151070599999997]\n",
      "\n",
      "\n",
      "Iteration 54 \n",
      "Explore Rate 0.1 \n",
      "Time for Explore Rate [1.3734790999999973, 1.3928841000000034, 1.2206818999999882, 1.118387800000022, 1.131689399999999, 1.055370499999981, 1.1943157999999983, 1.2179744999999969, 1.4991355999999882, 1.4094373000000076, 1.183458399999978, 0.9494959000000165, 1.219477100000006, 0.9837320000000034, 1.140904699999993, 1.1567988000000184, 1.2261251000000186, 1.835768800000011, 1.1849635000000092, 1.1485214999999869, 1.4634993999999892, 1.274583299999989, 1.1942057999999918, 1.1679900999999973, 1.2736763999999994, 1.4027301999999793, 1.0861399000000063, 1.2890767000000096, 1.1214885999999922, 1.3977247999999918, 1.2306556999999998, 1.3105798999999934, 1.0882125999999914, 1.5196246000000144, 1.379776899999996, 1.235028700000015, 1.2304598999999996, 1.074028400000003, 1.0699395000000038, 1.0504866999999933, 0.9095173999999986, 1.1688539000000162, 1.2406305000000089, 1.3700525999999797, 1.244488700000005, 1.3375628000000006, 1.2455850000000055, 1.3416268000000002, 1.2547722000000192, 1.2738990000000001, 1.090795700000001, 1.0584273000000053, 1.0206210999999996, 1.151070599999997, 1.0690328000000022]\n",
      "\n",
      "\n",
      "Iteration 55 \n",
      "Explore Rate 0.1 \n",
      "Time for Explore Rate [1.3734790999999973, 1.3928841000000034, 1.2206818999999882, 1.118387800000022, 1.131689399999999, 1.055370499999981, 1.1943157999999983, 1.2179744999999969, 1.4991355999999882, 1.4094373000000076, 1.183458399999978, 0.9494959000000165, 1.219477100000006, 0.9837320000000034, 1.140904699999993, 1.1567988000000184, 1.2261251000000186, 1.835768800000011, 1.1849635000000092, 1.1485214999999869, 1.4634993999999892, 1.274583299999989, 1.1942057999999918, 1.1679900999999973, 1.2736763999999994, 1.4027301999999793, 1.0861399000000063, 1.2890767000000096, 1.1214885999999922, 1.3977247999999918, 1.2306556999999998, 1.3105798999999934, 1.0882125999999914, 1.5196246000000144, 1.379776899999996, 1.235028700000015, 1.2304598999999996, 1.074028400000003, 1.0699395000000038, 1.0504866999999933, 0.9095173999999986, 1.1688539000000162, 1.2406305000000089, 1.3700525999999797, 1.244488700000005, 1.3375628000000006, 1.2455850000000055, 1.3416268000000002, 1.2547722000000192, 1.2738990000000001, 1.090795700000001, 1.0584273000000053, 1.0206210999999996, 1.151070599999997, 1.0690328000000022, 1.1084029000000157]\n",
      "\n",
      "\n"
     ]
    },
    {
     "name": "stdout",
     "output_type": "stream",
     "text": [
      "Iteration 56 \n",
      "Explore Rate 0.1 \n",
      "Time for Explore Rate [1.3734790999999973, 1.3928841000000034, 1.2206818999999882, 1.118387800000022, 1.131689399999999, 1.055370499999981, 1.1943157999999983, 1.2179744999999969, 1.4991355999999882, 1.4094373000000076, 1.183458399999978, 0.9494959000000165, 1.219477100000006, 0.9837320000000034, 1.140904699999993, 1.1567988000000184, 1.2261251000000186, 1.835768800000011, 1.1849635000000092, 1.1485214999999869, 1.4634993999999892, 1.274583299999989, 1.1942057999999918, 1.1679900999999973, 1.2736763999999994, 1.4027301999999793, 1.0861399000000063, 1.2890767000000096, 1.1214885999999922, 1.3977247999999918, 1.2306556999999998, 1.3105798999999934, 1.0882125999999914, 1.5196246000000144, 1.379776899999996, 1.235028700000015, 1.2304598999999996, 1.074028400000003, 1.0699395000000038, 1.0504866999999933, 0.9095173999999986, 1.1688539000000162, 1.2406305000000089, 1.3700525999999797, 1.244488700000005, 1.3375628000000006, 1.2455850000000055, 1.3416268000000002, 1.2547722000000192, 1.2738990000000001, 1.090795700000001, 1.0584273000000053, 1.0206210999999996, 1.151070599999997, 1.0690328000000022, 1.1084029000000157, 1.062417499999981]\n",
      "\n",
      "\n",
      "Iteration 57 \n",
      "Explore Rate 0.1 \n",
      "Time for Explore Rate [1.3734790999999973, 1.3928841000000034, 1.2206818999999882, 1.118387800000022, 1.131689399999999, 1.055370499999981, 1.1943157999999983, 1.2179744999999969, 1.4991355999999882, 1.4094373000000076, 1.183458399999978, 0.9494959000000165, 1.219477100000006, 0.9837320000000034, 1.140904699999993, 1.1567988000000184, 1.2261251000000186, 1.835768800000011, 1.1849635000000092, 1.1485214999999869, 1.4634993999999892, 1.274583299999989, 1.1942057999999918, 1.1679900999999973, 1.2736763999999994, 1.4027301999999793, 1.0861399000000063, 1.2890767000000096, 1.1214885999999922, 1.3977247999999918, 1.2306556999999998, 1.3105798999999934, 1.0882125999999914, 1.5196246000000144, 1.379776899999996, 1.235028700000015, 1.2304598999999996, 1.074028400000003, 1.0699395000000038, 1.0504866999999933, 0.9095173999999986, 1.1688539000000162, 1.2406305000000089, 1.3700525999999797, 1.244488700000005, 1.3375628000000006, 1.2455850000000055, 1.3416268000000002, 1.2547722000000192, 1.2738990000000001, 1.090795700000001, 1.0584273000000053, 1.0206210999999996, 1.151070599999997, 1.0690328000000022, 1.1084029000000157, 1.062417499999981, 1.126940200000007]\n",
      "\n",
      "\n",
      "Iteration 58 \n",
      "Explore Rate 0.1 \n",
      "Time for Explore Rate [1.3734790999999973, 1.3928841000000034, 1.2206818999999882, 1.118387800000022, 1.131689399999999, 1.055370499999981, 1.1943157999999983, 1.2179744999999969, 1.4991355999999882, 1.4094373000000076, 1.183458399999978, 0.9494959000000165, 1.219477100000006, 0.9837320000000034, 1.140904699999993, 1.1567988000000184, 1.2261251000000186, 1.835768800000011, 1.1849635000000092, 1.1485214999999869, 1.4634993999999892, 1.274583299999989, 1.1942057999999918, 1.1679900999999973, 1.2736763999999994, 1.4027301999999793, 1.0861399000000063, 1.2890767000000096, 1.1214885999999922, 1.3977247999999918, 1.2306556999999998, 1.3105798999999934, 1.0882125999999914, 1.5196246000000144, 1.379776899999996, 1.235028700000015, 1.2304598999999996, 1.074028400000003, 1.0699395000000038, 1.0504866999999933, 0.9095173999999986, 1.1688539000000162, 1.2406305000000089, 1.3700525999999797, 1.244488700000005, 1.3375628000000006, 1.2455850000000055, 1.3416268000000002, 1.2547722000000192, 1.2738990000000001, 1.090795700000001, 1.0584273000000053, 1.0206210999999996, 1.151070599999997, 1.0690328000000022, 1.1084029000000157, 1.062417499999981, 1.126940200000007, 1.093467199999992]\n",
      "\n",
      "\n",
      "Iteration 59 \n",
      "Explore Rate 0.1 \n",
      "Time for Explore Rate [1.3734790999999973, 1.3928841000000034, 1.2206818999999882, 1.118387800000022, 1.131689399999999, 1.055370499999981, 1.1943157999999983, 1.2179744999999969, 1.4991355999999882, 1.4094373000000076, 1.183458399999978, 0.9494959000000165, 1.219477100000006, 0.9837320000000034, 1.140904699999993, 1.1567988000000184, 1.2261251000000186, 1.835768800000011, 1.1849635000000092, 1.1485214999999869, 1.4634993999999892, 1.274583299999989, 1.1942057999999918, 1.1679900999999973, 1.2736763999999994, 1.4027301999999793, 1.0861399000000063, 1.2890767000000096, 1.1214885999999922, 1.3977247999999918, 1.2306556999999998, 1.3105798999999934, 1.0882125999999914, 1.5196246000000144, 1.379776899999996, 1.235028700000015, 1.2304598999999996, 1.074028400000003, 1.0699395000000038, 1.0504866999999933, 0.9095173999999986, 1.1688539000000162, 1.2406305000000089, 1.3700525999999797, 1.244488700000005, 1.3375628000000006, 1.2455850000000055, 1.3416268000000002, 1.2547722000000192, 1.2738990000000001, 1.090795700000001, 1.0584273000000053, 1.0206210999999996, 1.151070599999997, 1.0690328000000022, 1.1084029000000157, 1.062417499999981, 1.126940200000007, 1.093467199999992, 1.1253717000000165]\n",
      "\n",
      "\n",
      "Iteration 60 \n",
      "Explore Rate 0.1 \n",
      "Time for Explore Rate [1.3734790999999973, 1.3928841000000034, 1.2206818999999882, 1.118387800000022, 1.131689399999999, 1.055370499999981, 1.1943157999999983, 1.2179744999999969, 1.4991355999999882, 1.4094373000000076, 1.183458399999978, 0.9494959000000165, 1.219477100000006, 0.9837320000000034, 1.140904699999993, 1.1567988000000184, 1.2261251000000186, 1.835768800000011, 1.1849635000000092, 1.1485214999999869, 1.4634993999999892, 1.274583299999989, 1.1942057999999918, 1.1679900999999973, 1.2736763999999994, 1.4027301999999793, 1.0861399000000063, 1.2890767000000096, 1.1214885999999922, 1.3977247999999918, 1.2306556999999998, 1.3105798999999934, 1.0882125999999914, 1.5196246000000144, 1.379776899999996, 1.235028700000015, 1.2304598999999996, 1.074028400000003, 1.0699395000000038, 1.0504866999999933, 0.9095173999999986, 1.1688539000000162, 1.2406305000000089, 1.3700525999999797, 1.244488700000005, 1.3375628000000006, 1.2455850000000055, 1.3416268000000002, 1.2547722000000192, 1.2738990000000001, 1.090795700000001, 1.0584273000000053, 1.0206210999999996, 1.151070599999997, 1.0690328000000022, 1.1084029000000157, 1.062417499999981, 1.126940200000007, 1.093467199999992, 1.1253717000000165, 1.2126775000000123]\n",
      "\n",
      "\n",
      "Iteration 61 \n",
      "Explore Rate 0.1 \n",
      "Time for Explore Rate [1.3734790999999973, 1.3928841000000034, 1.2206818999999882, 1.118387800000022, 1.131689399999999, 1.055370499999981, 1.1943157999999983, 1.2179744999999969, 1.4991355999999882, 1.4094373000000076, 1.183458399999978, 0.9494959000000165, 1.219477100000006, 0.9837320000000034, 1.140904699999993, 1.1567988000000184, 1.2261251000000186, 1.835768800000011, 1.1849635000000092, 1.1485214999999869, 1.4634993999999892, 1.274583299999989, 1.1942057999999918, 1.1679900999999973, 1.2736763999999994, 1.4027301999999793, 1.0861399000000063, 1.2890767000000096, 1.1214885999999922, 1.3977247999999918, 1.2306556999999998, 1.3105798999999934, 1.0882125999999914, 1.5196246000000144, 1.379776899999996, 1.235028700000015, 1.2304598999999996, 1.074028400000003, 1.0699395000000038, 1.0504866999999933, 0.9095173999999986, 1.1688539000000162, 1.2406305000000089, 1.3700525999999797, 1.244488700000005, 1.3375628000000006, 1.2455850000000055, 1.3416268000000002, 1.2547722000000192, 1.2738990000000001, 1.090795700000001, 1.0584273000000053, 1.0206210999999996, 1.151070599999997, 1.0690328000000022, 1.1084029000000157, 1.062417499999981, 1.126940200000007, 1.093467199999992, 1.1253717000000165, 1.2126775000000123, 1.3182230000000175]\n",
      "\n",
      "\n",
      "Iteration 62 \n",
      "Explore Rate 0.1 \n",
      "Time for Explore Rate [1.3734790999999973, 1.3928841000000034, 1.2206818999999882, 1.118387800000022, 1.131689399999999, 1.055370499999981, 1.1943157999999983, 1.2179744999999969, 1.4991355999999882, 1.4094373000000076, 1.183458399999978, 0.9494959000000165, 1.219477100000006, 0.9837320000000034, 1.140904699999993, 1.1567988000000184, 1.2261251000000186, 1.835768800000011, 1.1849635000000092, 1.1485214999999869, 1.4634993999999892, 1.274583299999989, 1.1942057999999918, 1.1679900999999973, 1.2736763999999994, 1.4027301999999793, 1.0861399000000063, 1.2890767000000096, 1.1214885999999922, 1.3977247999999918, 1.2306556999999998, 1.3105798999999934, 1.0882125999999914, 1.5196246000000144, 1.379776899999996, 1.235028700000015, 1.2304598999999996, 1.074028400000003, 1.0699395000000038, 1.0504866999999933, 0.9095173999999986, 1.1688539000000162, 1.2406305000000089, 1.3700525999999797, 1.244488700000005, 1.3375628000000006, 1.2455850000000055, 1.3416268000000002, 1.2547722000000192, 1.2738990000000001, 1.090795700000001, 1.0584273000000053, 1.0206210999999996, 1.151070599999997, 1.0690328000000022, 1.1084029000000157, 1.062417499999981, 1.126940200000007, 1.093467199999992, 1.1253717000000165, 1.2126775000000123, 1.3182230000000175, 1.0593037000000152]\n",
      "\n",
      "\n"
     ]
    },
    {
     "name": "stdout",
     "output_type": "stream",
     "text": [
      "Iteration 63 \n",
      "Explore Rate 0.1 \n",
      "Time for Explore Rate [1.3734790999999973, 1.3928841000000034, 1.2206818999999882, 1.118387800000022, 1.131689399999999, 1.055370499999981, 1.1943157999999983, 1.2179744999999969, 1.4991355999999882, 1.4094373000000076, 1.183458399999978, 0.9494959000000165, 1.219477100000006, 0.9837320000000034, 1.140904699999993, 1.1567988000000184, 1.2261251000000186, 1.835768800000011, 1.1849635000000092, 1.1485214999999869, 1.4634993999999892, 1.274583299999989, 1.1942057999999918, 1.1679900999999973, 1.2736763999999994, 1.4027301999999793, 1.0861399000000063, 1.2890767000000096, 1.1214885999999922, 1.3977247999999918, 1.2306556999999998, 1.3105798999999934, 1.0882125999999914, 1.5196246000000144, 1.379776899999996, 1.235028700000015, 1.2304598999999996, 1.074028400000003, 1.0699395000000038, 1.0504866999999933, 0.9095173999999986, 1.1688539000000162, 1.2406305000000089, 1.3700525999999797, 1.244488700000005, 1.3375628000000006, 1.2455850000000055, 1.3416268000000002, 1.2547722000000192, 1.2738990000000001, 1.090795700000001, 1.0584273000000053, 1.0206210999999996, 1.151070599999997, 1.0690328000000022, 1.1084029000000157, 1.062417499999981, 1.126940200000007, 1.093467199999992, 1.1253717000000165, 1.2126775000000123, 1.3182230000000175, 1.0593037000000152, 1.0882407]\n",
      "\n",
      "\n",
      "Iteration 64 \n",
      "Explore Rate 0.1 \n",
      "Time for Explore Rate [1.3734790999999973, 1.3928841000000034, 1.2206818999999882, 1.118387800000022, 1.131689399999999, 1.055370499999981, 1.1943157999999983, 1.2179744999999969, 1.4991355999999882, 1.4094373000000076, 1.183458399999978, 0.9494959000000165, 1.219477100000006, 0.9837320000000034, 1.140904699999993, 1.1567988000000184, 1.2261251000000186, 1.835768800000011, 1.1849635000000092, 1.1485214999999869, 1.4634993999999892, 1.274583299999989, 1.1942057999999918, 1.1679900999999973, 1.2736763999999994, 1.4027301999999793, 1.0861399000000063, 1.2890767000000096, 1.1214885999999922, 1.3977247999999918, 1.2306556999999998, 1.3105798999999934, 1.0882125999999914, 1.5196246000000144, 1.379776899999996, 1.235028700000015, 1.2304598999999996, 1.074028400000003, 1.0699395000000038, 1.0504866999999933, 0.9095173999999986, 1.1688539000000162, 1.2406305000000089, 1.3700525999999797, 1.244488700000005, 1.3375628000000006, 1.2455850000000055, 1.3416268000000002, 1.2547722000000192, 1.2738990000000001, 1.090795700000001, 1.0584273000000053, 1.0206210999999996, 1.151070599999997, 1.0690328000000022, 1.1084029000000157, 1.062417499999981, 1.126940200000007, 1.093467199999992, 1.1253717000000165, 1.2126775000000123, 1.3182230000000175, 1.0593037000000152, 1.0882407, 1.1743567999999982]\n",
      "\n",
      "\n",
      "Iteration 65 \n",
      "Explore Rate 0.1 \n",
      "Time for Explore Rate [1.3734790999999973, 1.3928841000000034, 1.2206818999999882, 1.118387800000022, 1.131689399999999, 1.055370499999981, 1.1943157999999983, 1.2179744999999969, 1.4991355999999882, 1.4094373000000076, 1.183458399999978, 0.9494959000000165, 1.219477100000006, 0.9837320000000034, 1.140904699999993, 1.1567988000000184, 1.2261251000000186, 1.835768800000011, 1.1849635000000092, 1.1485214999999869, 1.4634993999999892, 1.274583299999989, 1.1942057999999918, 1.1679900999999973, 1.2736763999999994, 1.4027301999999793, 1.0861399000000063, 1.2890767000000096, 1.1214885999999922, 1.3977247999999918, 1.2306556999999998, 1.3105798999999934, 1.0882125999999914, 1.5196246000000144, 1.379776899999996, 1.235028700000015, 1.2304598999999996, 1.074028400000003, 1.0699395000000038, 1.0504866999999933, 0.9095173999999986, 1.1688539000000162, 1.2406305000000089, 1.3700525999999797, 1.244488700000005, 1.3375628000000006, 1.2455850000000055, 1.3416268000000002, 1.2547722000000192, 1.2738990000000001, 1.090795700000001, 1.0584273000000053, 1.0206210999999996, 1.151070599999997, 1.0690328000000022, 1.1084029000000157, 1.062417499999981, 1.126940200000007, 1.093467199999992, 1.1253717000000165, 1.2126775000000123, 1.3182230000000175, 1.0593037000000152, 1.0882407, 1.1743567999999982, 1.1449998999999877]\n",
      "\n",
      "\n",
      "Iteration 66 \n",
      "Explore Rate 0.1 \n",
      "Time for Explore Rate [1.3734790999999973, 1.3928841000000034, 1.2206818999999882, 1.118387800000022, 1.131689399999999, 1.055370499999981, 1.1943157999999983, 1.2179744999999969, 1.4991355999999882, 1.4094373000000076, 1.183458399999978, 0.9494959000000165, 1.219477100000006, 0.9837320000000034, 1.140904699999993, 1.1567988000000184, 1.2261251000000186, 1.835768800000011, 1.1849635000000092, 1.1485214999999869, 1.4634993999999892, 1.274583299999989, 1.1942057999999918, 1.1679900999999973, 1.2736763999999994, 1.4027301999999793, 1.0861399000000063, 1.2890767000000096, 1.1214885999999922, 1.3977247999999918, 1.2306556999999998, 1.3105798999999934, 1.0882125999999914, 1.5196246000000144, 1.379776899999996, 1.235028700000015, 1.2304598999999996, 1.074028400000003, 1.0699395000000038, 1.0504866999999933, 0.9095173999999986, 1.1688539000000162, 1.2406305000000089, 1.3700525999999797, 1.244488700000005, 1.3375628000000006, 1.2455850000000055, 1.3416268000000002, 1.2547722000000192, 1.2738990000000001, 1.090795700000001, 1.0584273000000053, 1.0206210999999996, 1.151070599999997, 1.0690328000000022, 1.1084029000000157, 1.062417499999981, 1.126940200000007, 1.093467199999992, 1.1253717000000165, 1.2126775000000123, 1.3182230000000175, 1.0593037000000152, 1.0882407, 1.1743567999999982, 1.1449998999999877, 1.0326968999999906]\n",
      "\n",
      "\n",
      "Iteration 67 \n",
      "Explore Rate 0.1 \n",
      "Time for Explore Rate [1.3734790999999973, 1.3928841000000034, 1.2206818999999882, 1.118387800000022, 1.131689399999999, 1.055370499999981, 1.1943157999999983, 1.2179744999999969, 1.4991355999999882, 1.4094373000000076, 1.183458399999978, 0.9494959000000165, 1.219477100000006, 0.9837320000000034, 1.140904699999993, 1.1567988000000184, 1.2261251000000186, 1.835768800000011, 1.1849635000000092, 1.1485214999999869, 1.4634993999999892, 1.274583299999989, 1.1942057999999918, 1.1679900999999973, 1.2736763999999994, 1.4027301999999793, 1.0861399000000063, 1.2890767000000096, 1.1214885999999922, 1.3977247999999918, 1.2306556999999998, 1.3105798999999934, 1.0882125999999914, 1.5196246000000144, 1.379776899999996, 1.235028700000015, 1.2304598999999996, 1.074028400000003, 1.0699395000000038, 1.0504866999999933, 0.9095173999999986, 1.1688539000000162, 1.2406305000000089, 1.3700525999999797, 1.244488700000005, 1.3375628000000006, 1.2455850000000055, 1.3416268000000002, 1.2547722000000192, 1.2738990000000001, 1.090795700000001, 1.0584273000000053, 1.0206210999999996, 1.151070599999997, 1.0690328000000022, 1.1084029000000157, 1.062417499999981, 1.126940200000007, 1.093467199999992, 1.1253717000000165, 1.2126775000000123, 1.3182230000000175, 1.0593037000000152, 1.0882407, 1.1743567999999982, 1.1449998999999877, 1.0326968999999906, 1.374916600000006]\n",
      "\n",
      "\n",
      "Iteration 68 \n",
      "Explore Rate 0.1 \n",
      "Time for Explore Rate [1.3734790999999973, 1.3928841000000034, 1.2206818999999882, 1.118387800000022, 1.131689399999999, 1.055370499999981, 1.1943157999999983, 1.2179744999999969, 1.4991355999999882, 1.4094373000000076, 1.183458399999978, 0.9494959000000165, 1.219477100000006, 0.9837320000000034, 1.140904699999993, 1.1567988000000184, 1.2261251000000186, 1.835768800000011, 1.1849635000000092, 1.1485214999999869, 1.4634993999999892, 1.274583299999989, 1.1942057999999918, 1.1679900999999973, 1.2736763999999994, 1.4027301999999793, 1.0861399000000063, 1.2890767000000096, 1.1214885999999922, 1.3977247999999918, 1.2306556999999998, 1.3105798999999934, 1.0882125999999914, 1.5196246000000144, 1.379776899999996, 1.235028700000015, 1.2304598999999996, 1.074028400000003, 1.0699395000000038, 1.0504866999999933, 0.9095173999999986, 1.1688539000000162, 1.2406305000000089, 1.3700525999999797, 1.244488700000005, 1.3375628000000006, 1.2455850000000055, 1.3416268000000002, 1.2547722000000192, 1.2738990000000001, 1.090795700000001, 1.0584273000000053, 1.0206210999999996, 1.151070599999997, 1.0690328000000022, 1.1084029000000157, 1.062417499999981, 1.126940200000007, 1.093467199999992, 1.1253717000000165, 1.2126775000000123, 1.3182230000000175, 1.0593037000000152, 1.0882407, 1.1743567999999982, 1.1449998999999877, 1.0326968999999906, 1.374916600000006, 1.0791150999999957]\n",
      "\n",
      "\n",
      "Iteration 69 \n",
      "Explore Rate 0.1 \n",
      "Time for Explore Rate [1.3734790999999973, 1.3928841000000034, 1.2206818999999882, 1.118387800000022, 1.131689399999999, 1.055370499999981, 1.1943157999999983, 1.2179744999999969, 1.4991355999999882, 1.4094373000000076, 1.183458399999978, 0.9494959000000165, 1.219477100000006, 0.9837320000000034, 1.140904699999993, 1.1567988000000184, 1.2261251000000186, 1.835768800000011, 1.1849635000000092, 1.1485214999999869, 1.4634993999999892, 1.274583299999989, 1.1942057999999918, 1.1679900999999973, 1.2736763999999994, 1.4027301999999793, 1.0861399000000063, 1.2890767000000096, 1.1214885999999922, 1.3977247999999918, 1.2306556999999998, 1.3105798999999934, 1.0882125999999914, 1.5196246000000144, 1.379776899999996, 1.235028700000015, 1.2304598999999996, 1.074028400000003, 1.0699395000000038, 1.0504866999999933, 0.9095173999999986, 1.1688539000000162, 1.2406305000000089, 1.3700525999999797, 1.244488700000005, 1.3375628000000006, 1.2455850000000055, 1.3416268000000002, 1.2547722000000192, 1.2738990000000001, 1.090795700000001, 1.0584273000000053, 1.0206210999999996, 1.151070599999997, 1.0690328000000022, 1.1084029000000157, 1.062417499999981, 1.126940200000007, 1.093467199999992, 1.1253717000000165, 1.2126775000000123, 1.3182230000000175, 1.0593037000000152, 1.0882407, 1.1743567999999982, 1.1449998999999877, 1.0326968999999906, 1.374916600000006, 1.0791150999999957, 1.079255900000021]\n",
      "\n",
      "\n"
     ]
    },
    {
     "name": "stdout",
     "output_type": "stream",
     "text": [
      "Iteration 70 \n",
      "Explore Rate 0.1 \n",
      "Time for Explore Rate [1.3734790999999973, 1.3928841000000034, 1.2206818999999882, 1.118387800000022, 1.131689399999999, 1.055370499999981, 1.1943157999999983, 1.2179744999999969, 1.4991355999999882, 1.4094373000000076, 1.183458399999978, 0.9494959000000165, 1.219477100000006, 0.9837320000000034, 1.140904699999993, 1.1567988000000184, 1.2261251000000186, 1.835768800000011, 1.1849635000000092, 1.1485214999999869, 1.4634993999999892, 1.274583299999989, 1.1942057999999918, 1.1679900999999973, 1.2736763999999994, 1.4027301999999793, 1.0861399000000063, 1.2890767000000096, 1.1214885999999922, 1.3977247999999918, 1.2306556999999998, 1.3105798999999934, 1.0882125999999914, 1.5196246000000144, 1.379776899999996, 1.235028700000015, 1.2304598999999996, 1.074028400000003, 1.0699395000000038, 1.0504866999999933, 0.9095173999999986, 1.1688539000000162, 1.2406305000000089, 1.3700525999999797, 1.244488700000005, 1.3375628000000006, 1.2455850000000055, 1.3416268000000002, 1.2547722000000192, 1.2738990000000001, 1.090795700000001, 1.0584273000000053, 1.0206210999999996, 1.151070599999997, 1.0690328000000022, 1.1084029000000157, 1.062417499999981, 1.126940200000007, 1.093467199999992, 1.1253717000000165, 1.2126775000000123, 1.3182230000000175, 1.0593037000000152, 1.0882407, 1.1743567999999982, 1.1449998999999877, 1.0326968999999906, 1.374916600000006, 1.0791150999999957, 1.079255900000021, 1.061035099999998]\n",
      "\n",
      "\n",
      "Iteration 71 \n",
      "Explore Rate 0.1 \n",
      "Time for Explore Rate [1.3734790999999973, 1.3928841000000034, 1.2206818999999882, 1.118387800000022, 1.131689399999999, 1.055370499999981, 1.1943157999999983, 1.2179744999999969, 1.4991355999999882, 1.4094373000000076, 1.183458399999978, 0.9494959000000165, 1.219477100000006, 0.9837320000000034, 1.140904699999993, 1.1567988000000184, 1.2261251000000186, 1.835768800000011, 1.1849635000000092, 1.1485214999999869, 1.4634993999999892, 1.274583299999989, 1.1942057999999918, 1.1679900999999973, 1.2736763999999994, 1.4027301999999793, 1.0861399000000063, 1.2890767000000096, 1.1214885999999922, 1.3977247999999918, 1.2306556999999998, 1.3105798999999934, 1.0882125999999914, 1.5196246000000144, 1.379776899999996, 1.235028700000015, 1.2304598999999996, 1.074028400000003, 1.0699395000000038, 1.0504866999999933, 0.9095173999999986, 1.1688539000000162, 1.2406305000000089, 1.3700525999999797, 1.244488700000005, 1.3375628000000006, 1.2455850000000055, 1.3416268000000002, 1.2547722000000192, 1.2738990000000001, 1.090795700000001, 1.0584273000000053, 1.0206210999999996, 1.151070599999997, 1.0690328000000022, 1.1084029000000157, 1.062417499999981, 1.126940200000007, 1.093467199999992, 1.1253717000000165, 1.2126775000000123, 1.3182230000000175, 1.0593037000000152, 1.0882407, 1.1743567999999982, 1.1449998999999877, 1.0326968999999906, 1.374916600000006, 1.0791150999999957, 1.079255900000021, 1.061035099999998, 1.0229514999999765]\n",
      "\n",
      "\n",
      "Iteration 72 \n",
      "Explore Rate 0.1 \n",
      "Time for Explore Rate [1.3734790999999973, 1.3928841000000034, 1.2206818999999882, 1.118387800000022, 1.131689399999999, 1.055370499999981, 1.1943157999999983, 1.2179744999999969, 1.4991355999999882, 1.4094373000000076, 1.183458399999978, 0.9494959000000165, 1.219477100000006, 0.9837320000000034, 1.140904699999993, 1.1567988000000184, 1.2261251000000186, 1.835768800000011, 1.1849635000000092, 1.1485214999999869, 1.4634993999999892, 1.274583299999989, 1.1942057999999918, 1.1679900999999973, 1.2736763999999994, 1.4027301999999793, 1.0861399000000063, 1.2890767000000096, 1.1214885999999922, 1.3977247999999918, 1.2306556999999998, 1.3105798999999934, 1.0882125999999914, 1.5196246000000144, 1.379776899999996, 1.235028700000015, 1.2304598999999996, 1.074028400000003, 1.0699395000000038, 1.0504866999999933, 0.9095173999999986, 1.1688539000000162, 1.2406305000000089, 1.3700525999999797, 1.244488700000005, 1.3375628000000006, 1.2455850000000055, 1.3416268000000002, 1.2547722000000192, 1.2738990000000001, 1.090795700000001, 1.0584273000000053, 1.0206210999999996, 1.151070599999997, 1.0690328000000022, 1.1084029000000157, 1.062417499999981, 1.126940200000007, 1.093467199999992, 1.1253717000000165, 1.2126775000000123, 1.3182230000000175, 1.0593037000000152, 1.0882407, 1.1743567999999982, 1.1449998999999877, 1.0326968999999906, 1.374916600000006, 1.0791150999999957, 1.079255900000021, 1.061035099999998, 1.0229514999999765, 1.0190121999999917]\n",
      "\n",
      "\n",
      "Iteration 73 \n",
      "Explore Rate 0.1 \n",
      "Time for Explore Rate [1.3734790999999973, 1.3928841000000034, 1.2206818999999882, 1.118387800000022, 1.131689399999999, 1.055370499999981, 1.1943157999999983, 1.2179744999999969, 1.4991355999999882, 1.4094373000000076, 1.183458399999978, 0.9494959000000165, 1.219477100000006, 0.9837320000000034, 1.140904699999993, 1.1567988000000184, 1.2261251000000186, 1.835768800000011, 1.1849635000000092, 1.1485214999999869, 1.4634993999999892, 1.274583299999989, 1.1942057999999918, 1.1679900999999973, 1.2736763999999994, 1.4027301999999793, 1.0861399000000063, 1.2890767000000096, 1.1214885999999922, 1.3977247999999918, 1.2306556999999998, 1.3105798999999934, 1.0882125999999914, 1.5196246000000144, 1.379776899999996, 1.235028700000015, 1.2304598999999996, 1.074028400000003, 1.0699395000000038, 1.0504866999999933, 0.9095173999999986, 1.1688539000000162, 1.2406305000000089, 1.3700525999999797, 1.244488700000005, 1.3375628000000006, 1.2455850000000055, 1.3416268000000002, 1.2547722000000192, 1.2738990000000001, 1.090795700000001, 1.0584273000000053, 1.0206210999999996, 1.151070599999997, 1.0690328000000022, 1.1084029000000157, 1.062417499999981, 1.126940200000007, 1.093467199999992, 1.1253717000000165, 1.2126775000000123, 1.3182230000000175, 1.0593037000000152, 1.0882407, 1.1743567999999982, 1.1449998999999877, 1.0326968999999906, 1.374916600000006, 1.0791150999999957, 1.079255900000021, 1.061035099999998, 1.0229514999999765, 1.0190121999999917, 1.0811549999999954]\n",
      "\n",
      "\n",
      "Iteration 74 \n",
      "Explore Rate 0.1 \n",
      "Time for Explore Rate [1.3734790999999973, 1.3928841000000034, 1.2206818999999882, 1.118387800000022, 1.131689399999999, 1.055370499999981, 1.1943157999999983, 1.2179744999999969, 1.4991355999999882, 1.4094373000000076, 1.183458399999978, 0.9494959000000165, 1.219477100000006, 0.9837320000000034, 1.140904699999993, 1.1567988000000184, 1.2261251000000186, 1.835768800000011, 1.1849635000000092, 1.1485214999999869, 1.4634993999999892, 1.274583299999989, 1.1942057999999918, 1.1679900999999973, 1.2736763999999994, 1.4027301999999793, 1.0861399000000063, 1.2890767000000096, 1.1214885999999922, 1.3977247999999918, 1.2306556999999998, 1.3105798999999934, 1.0882125999999914, 1.5196246000000144, 1.379776899999996, 1.235028700000015, 1.2304598999999996, 1.074028400000003, 1.0699395000000038, 1.0504866999999933, 0.9095173999999986, 1.1688539000000162, 1.2406305000000089, 1.3700525999999797, 1.244488700000005, 1.3375628000000006, 1.2455850000000055, 1.3416268000000002, 1.2547722000000192, 1.2738990000000001, 1.090795700000001, 1.0584273000000053, 1.0206210999999996, 1.151070599999997, 1.0690328000000022, 1.1084029000000157, 1.062417499999981, 1.126940200000007, 1.093467199999992, 1.1253717000000165, 1.2126775000000123, 1.3182230000000175, 1.0593037000000152, 1.0882407, 1.1743567999999982, 1.1449998999999877, 1.0326968999999906, 1.374916600000006, 1.0791150999999957, 1.079255900000021, 1.061035099999998, 1.0229514999999765, 1.0190121999999917, 1.0811549999999954, 1.7093484000000103]\n",
      "\n",
      "\n",
      "Iteration 75 \n",
      "Explore Rate 0.1 \n",
      "Time for Explore Rate [1.3734790999999973, 1.3928841000000034, 1.2206818999999882, 1.118387800000022, 1.131689399999999, 1.055370499999981, 1.1943157999999983, 1.2179744999999969, 1.4991355999999882, 1.4094373000000076, 1.183458399999978, 0.9494959000000165, 1.219477100000006, 0.9837320000000034, 1.140904699999993, 1.1567988000000184, 1.2261251000000186, 1.835768800000011, 1.1849635000000092, 1.1485214999999869, 1.4634993999999892, 1.274583299999989, 1.1942057999999918, 1.1679900999999973, 1.2736763999999994, 1.4027301999999793, 1.0861399000000063, 1.2890767000000096, 1.1214885999999922, 1.3977247999999918, 1.2306556999999998, 1.3105798999999934, 1.0882125999999914, 1.5196246000000144, 1.379776899999996, 1.235028700000015, 1.2304598999999996, 1.074028400000003, 1.0699395000000038, 1.0504866999999933, 0.9095173999999986, 1.1688539000000162, 1.2406305000000089, 1.3700525999999797, 1.244488700000005, 1.3375628000000006, 1.2455850000000055, 1.3416268000000002, 1.2547722000000192, 1.2738990000000001, 1.090795700000001, 1.0584273000000053, 1.0206210999999996, 1.151070599999997, 1.0690328000000022, 1.1084029000000157, 1.062417499999981, 1.126940200000007, 1.093467199999992, 1.1253717000000165, 1.2126775000000123, 1.3182230000000175, 1.0593037000000152, 1.0882407, 1.1743567999999982, 1.1449998999999877, 1.0326968999999906, 1.374916600000006, 1.0791150999999957, 1.079255900000021, 1.061035099999998, 1.0229514999999765, 1.0190121999999917, 1.0811549999999954, 1.7093484000000103, 2.5997620999999924]\n",
      "\n",
      "\n"
     ]
    },
    {
     "name": "stdout",
     "output_type": "stream",
     "text": [
      "Iteration 76 \n",
      "Explore Rate 0.1 \n",
      "Time for Explore Rate [1.3734790999999973, 1.3928841000000034, 1.2206818999999882, 1.118387800000022, 1.131689399999999, 1.055370499999981, 1.1943157999999983, 1.2179744999999969, 1.4991355999999882, 1.4094373000000076, 1.183458399999978, 0.9494959000000165, 1.219477100000006, 0.9837320000000034, 1.140904699999993, 1.1567988000000184, 1.2261251000000186, 1.835768800000011, 1.1849635000000092, 1.1485214999999869, 1.4634993999999892, 1.274583299999989, 1.1942057999999918, 1.1679900999999973, 1.2736763999999994, 1.4027301999999793, 1.0861399000000063, 1.2890767000000096, 1.1214885999999922, 1.3977247999999918, 1.2306556999999998, 1.3105798999999934, 1.0882125999999914, 1.5196246000000144, 1.379776899999996, 1.235028700000015, 1.2304598999999996, 1.074028400000003, 1.0699395000000038, 1.0504866999999933, 0.9095173999999986, 1.1688539000000162, 1.2406305000000089, 1.3700525999999797, 1.244488700000005, 1.3375628000000006, 1.2455850000000055, 1.3416268000000002, 1.2547722000000192, 1.2738990000000001, 1.090795700000001, 1.0584273000000053, 1.0206210999999996, 1.151070599999997, 1.0690328000000022, 1.1084029000000157, 1.062417499999981, 1.126940200000007, 1.093467199999992, 1.1253717000000165, 1.2126775000000123, 1.3182230000000175, 1.0593037000000152, 1.0882407, 1.1743567999999982, 1.1449998999999877, 1.0326968999999906, 1.374916600000006, 1.0791150999999957, 1.079255900000021, 1.061035099999998, 1.0229514999999765, 1.0190121999999917, 1.0811549999999954, 1.7093484000000103, 2.5997620999999924, 1.638111699999996]\n",
      "\n",
      "\n",
      "Iteration 77 \n",
      "Explore Rate 0.1 \n",
      "Time for Explore Rate [1.3734790999999973, 1.3928841000000034, 1.2206818999999882, 1.118387800000022, 1.131689399999999, 1.055370499999981, 1.1943157999999983, 1.2179744999999969, 1.4991355999999882, 1.4094373000000076, 1.183458399999978, 0.9494959000000165, 1.219477100000006, 0.9837320000000034, 1.140904699999993, 1.1567988000000184, 1.2261251000000186, 1.835768800000011, 1.1849635000000092, 1.1485214999999869, 1.4634993999999892, 1.274583299999989, 1.1942057999999918, 1.1679900999999973, 1.2736763999999994, 1.4027301999999793, 1.0861399000000063, 1.2890767000000096, 1.1214885999999922, 1.3977247999999918, 1.2306556999999998, 1.3105798999999934, 1.0882125999999914, 1.5196246000000144, 1.379776899999996, 1.235028700000015, 1.2304598999999996, 1.074028400000003, 1.0699395000000038, 1.0504866999999933, 0.9095173999999986, 1.1688539000000162, 1.2406305000000089, 1.3700525999999797, 1.244488700000005, 1.3375628000000006, 1.2455850000000055, 1.3416268000000002, 1.2547722000000192, 1.2738990000000001, 1.090795700000001, 1.0584273000000053, 1.0206210999999996, 1.151070599999997, 1.0690328000000022, 1.1084029000000157, 1.062417499999981, 1.126940200000007, 1.093467199999992, 1.1253717000000165, 1.2126775000000123, 1.3182230000000175, 1.0593037000000152, 1.0882407, 1.1743567999999982, 1.1449998999999877, 1.0326968999999906, 1.374916600000006, 1.0791150999999957, 1.079255900000021, 1.061035099999998, 1.0229514999999765, 1.0190121999999917, 1.0811549999999954, 1.7093484000000103, 2.5997620999999924, 1.638111699999996, 1.5618842000000086]\n",
      "\n",
      "\n",
      "Iteration 78 \n",
      "Explore Rate 0.1 \n",
      "Time for Explore Rate [1.3734790999999973, 1.3928841000000034, 1.2206818999999882, 1.118387800000022, 1.131689399999999, 1.055370499999981, 1.1943157999999983, 1.2179744999999969, 1.4991355999999882, 1.4094373000000076, 1.183458399999978, 0.9494959000000165, 1.219477100000006, 0.9837320000000034, 1.140904699999993, 1.1567988000000184, 1.2261251000000186, 1.835768800000011, 1.1849635000000092, 1.1485214999999869, 1.4634993999999892, 1.274583299999989, 1.1942057999999918, 1.1679900999999973, 1.2736763999999994, 1.4027301999999793, 1.0861399000000063, 1.2890767000000096, 1.1214885999999922, 1.3977247999999918, 1.2306556999999998, 1.3105798999999934, 1.0882125999999914, 1.5196246000000144, 1.379776899999996, 1.235028700000015, 1.2304598999999996, 1.074028400000003, 1.0699395000000038, 1.0504866999999933, 0.9095173999999986, 1.1688539000000162, 1.2406305000000089, 1.3700525999999797, 1.244488700000005, 1.3375628000000006, 1.2455850000000055, 1.3416268000000002, 1.2547722000000192, 1.2738990000000001, 1.090795700000001, 1.0584273000000053, 1.0206210999999996, 1.151070599999997, 1.0690328000000022, 1.1084029000000157, 1.062417499999981, 1.126940200000007, 1.093467199999992, 1.1253717000000165, 1.2126775000000123, 1.3182230000000175, 1.0593037000000152, 1.0882407, 1.1743567999999982, 1.1449998999999877, 1.0326968999999906, 1.374916600000006, 1.0791150999999957, 1.079255900000021, 1.061035099999998, 1.0229514999999765, 1.0190121999999917, 1.0811549999999954, 1.7093484000000103, 2.5997620999999924, 1.638111699999996, 1.5618842000000086, 1.2559729999999831]\n",
      "\n",
      "\n",
      "Iteration 79 \n",
      "Explore Rate 0.1 \n",
      "Time for Explore Rate [1.3734790999999973, 1.3928841000000034, 1.2206818999999882, 1.118387800000022, 1.131689399999999, 1.055370499999981, 1.1943157999999983, 1.2179744999999969, 1.4991355999999882, 1.4094373000000076, 1.183458399999978, 0.9494959000000165, 1.219477100000006, 0.9837320000000034, 1.140904699999993, 1.1567988000000184, 1.2261251000000186, 1.835768800000011, 1.1849635000000092, 1.1485214999999869, 1.4634993999999892, 1.274583299999989, 1.1942057999999918, 1.1679900999999973, 1.2736763999999994, 1.4027301999999793, 1.0861399000000063, 1.2890767000000096, 1.1214885999999922, 1.3977247999999918, 1.2306556999999998, 1.3105798999999934, 1.0882125999999914, 1.5196246000000144, 1.379776899999996, 1.235028700000015, 1.2304598999999996, 1.074028400000003, 1.0699395000000038, 1.0504866999999933, 0.9095173999999986, 1.1688539000000162, 1.2406305000000089, 1.3700525999999797, 1.244488700000005, 1.3375628000000006, 1.2455850000000055, 1.3416268000000002, 1.2547722000000192, 1.2738990000000001, 1.090795700000001, 1.0584273000000053, 1.0206210999999996, 1.151070599999997, 1.0690328000000022, 1.1084029000000157, 1.062417499999981, 1.126940200000007, 1.093467199999992, 1.1253717000000165, 1.2126775000000123, 1.3182230000000175, 1.0593037000000152, 1.0882407, 1.1743567999999982, 1.1449998999999877, 1.0326968999999906, 1.374916600000006, 1.0791150999999957, 1.079255900000021, 1.061035099999998, 1.0229514999999765, 1.0190121999999917, 1.0811549999999954, 1.7093484000000103, 2.5997620999999924, 1.638111699999996, 1.5618842000000086, 1.2559729999999831, 1.2851186999999982]\n",
      "\n",
      "\n",
      "Iteration 80 \n",
      "Explore Rate 0.1 \n",
      "Time for Explore Rate [1.3734790999999973, 1.3928841000000034, 1.2206818999999882, 1.118387800000022, 1.131689399999999, 1.055370499999981, 1.1943157999999983, 1.2179744999999969, 1.4991355999999882, 1.4094373000000076, 1.183458399999978, 0.9494959000000165, 1.219477100000006, 0.9837320000000034, 1.140904699999993, 1.1567988000000184, 1.2261251000000186, 1.835768800000011, 1.1849635000000092, 1.1485214999999869, 1.4634993999999892, 1.274583299999989, 1.1942057999999918, 1.1679900999999973, 1.2736763999999994, 1.4027301999999793, 1.0861399000000063, 1.2890767000000096, 1.1214885999999922, 1.3977247999999918, 1.2306556999999998, 1.3105798999999934, 1.0882125999999914, 1.5196246000000144, 1.379776899999996, 1.235028700000015, 1.2304598999999996, 1.074028400000003, 1.0699395000000038, 1.0504866999999933, 0.9095173999999986, 1.1688539000000162, 1.2406305000000089, 1.3700525999999797, 1.244488700000005, 1.3375628000000006, 1.2455850000000055, 1.3416268000000002, 1.2547722000000192, 1.2738990000000001, 1.090795700000001, 1.0584273000000053, 1.0206210999999996, 1.151070599999997, 1.0690328000000022, 1.1084029000000157, 1.062417499999981, 1.126940200000007, 1.093467199999992, 1.1253717000000165, 1.2126775000000123, 1.3182230000000175, 1.0593037000000152, 1.0882407, 1.1743567999999982, 1.1449998999999877, 1.0326968999999906, 1.374916600000006, 1.0791150999999957, 1.079255900000021, 1.061035099999998, 1.0229514999999765, 1.0190121999999917, 1.0811549999999954, 1.7093484000000103, 2.5997620999999924, 1.638111699999996, 1.5618842000000086, 1.2559729999999831, 1.2851186999999982, 1.1892121999999858]\n",
      "\n",
      "\n",
      "Iteration 81 \n",
      "Explore Rate 0.1 \n",
      "Time for Explore Rate [1.3734790999999973, 1.3928841000000034, 1.2206818999999882, 1.118387800000022, 1.131689399999999, 1.055370499999981, 1.1943157999999983, 1.2179744999999969, 1.4991355999999882, 1.4094373000000076, 1.183458399999978, 0.9494959000000165, 1.219477100000006, 0.9837320000000034, 1.140904699999993, 1.1567988000000184, 1.2261251000000186, 1.835768800000011, 1.1849635000000092, 1.1485214999999869, 1.4634993999999892, 1.274583299999989, 1.1942057999999918, 1.1679900999999973, 1.2736763999999994, 1.4027301999999793, 1.0861399000000063, 1.2890767000000096, 1.1214885999999922, 1.3977247999999918, 1.2306556999999998, 1.3105798999999934, 1.0882125999999914, 1.5196246000000144, 1.379776899999996, 1.235028700000015, 1.2304598999999996, 1.074028400000003, 1.0699395000000038, 1.0504866999999933, 0.9095173999999986, 1.1688539000000162, 1.2406305000000089, 1.3700525999999797, 1.244488700000005, 1.3375628000000006, 1.2455850000000055, 1.3416268000000002, 1.2547722000000192, 1.2738990000000001, 1.090795700000001, 1.0584273000000053, 1.0206210999999996, 1.151070599999997, 1.0690328000000022, 1.1084029000000157, 1.062417499999981, 1.126940200000007, 1.093467199999992, 1.1253717000000165, 1.2126775000000123, 1.3182230000000175, 1.0593037000000152, 1.0882407, 1.1743567999999982, 1.1449998999999877, 1.0326968999999906, 1.374916600000006, 1.0791150999999957, 1.079255900000021, 1.061035099999998, 1.0229514999999765, 1.0190121999999917, 1.0811549999999954, 1.7093484000000103, 2.5997620999999924, 1.638111699999996, 1.5618842000000086, 1.2559729999999831, 1.2851186999999982, 1.1892121999999858, 1.1713217000000213]\n",
      "\n",
      "\n"
     ]
    },
    {
     "name": "stdout",
     "output_type": "stream",
     "text": [
      "Iteration 82 \n",
      "Explore Rate 0.1 \n",
      "Time for Explore Rate [1.3734790999999973, 1.3928841000000034, 1.2206818999999882, 1.118387800000022, 1.131689399999999, 1.055370499999981, 1.1943157999999983, 1.2179744999999969, 1.4991355999999882, 1.4094373000000076, 1.183458399999978, 0.9494959000000165, 1.219477100000006, 0.9837320000000034, 1.140904699999993, 1.1567988000000184, 1.2261251000000186, 1.835768800000011, 1.1849635000000092, 1.1485214999999869, 1.4634993999999892, 1.274583299999989, 1.1942057999999918, 1.1679900999999973, 1.2736763999999994, 1.4027301999999793, 1.0861399000000063, 1.2890767000000096, 1.1214885999999922, 1.3977247999999918, 1.2306556999999998, 1.3105798999999934, 1.0882125999999914, 1.5196246000000144, 1.379776899999996, 1.235028700000015, 1.2304598999999996, 1.074028400000003, 1.0699395000000038, 1.0504866999999933, 0.9095173999999986, 1.1688539000000162, 1.2406305000000089, 1.3700525999999797, 1.244488700000005, 1.3375628000000006, 1.2455850000000055, 1.3416268000000002, 1.2547722000000192, 1.2738990000000001, 1.090795700000001, 1.0584273000000053, 1.0206210999999996, 1.151070599999997, 1.0690328000000022, 1.1084029000000157, 1.062417499999981, 1.126940200000007, 1.093467199999992, 1.1253717000000165, 1.2126775000000123, 1.3182230000000175, 1.0593037000000152, 1.0882407, 1.1743567999999982, 1.1449998999999877, 1.0326968999999906, 1.374916600000006, 1.0791150999999957, 1.079255900000021, 1.061035099999998, 1.0229514999999765, 1.0190121999999917, 1.0811549999999954, 1.7093484000000103, 2.5997620999999924, 1.638111699999996, 1.5618842000000086, 1.2559729999999831, 1.2851186999999982, 1.1892121999999858, 1.1713217000000213, 1.4315256000000147]\n",
      "\n",
      "\n",
      "Iteration 83 \n",
      "Explore Rate 0.1 \n",
      "Time for Explore Rate [1.3734790999999973, 1.3928841000000034, 1.2206818999999882, 1.118387800000022, 1.131689399999999, 1.055370499999981, 1.1943157999999983, 1.2179744999999969, 1.4991355999999882, 1.4094373000000076, 1.183458399999978, 0.9494959000000165, 1.219477100000006, 0.9837320000000034, 1.140904699999993, 1.1567988000000184, 1.2261251000000186, 1.835768800000011, 1.1849635000000092, 1.1485214999999869, 1.4634993999999892, 1.274583299999989, 1.1942057999999918, 1.1679900999999973, 1.2736763999999994, 1.4027301999999793, 1.0861399000000063, 1.2890767000000096, 1.1214885999999922, 1.3977247999999918, 1.2306556999999998, 1.3105798999999934, 1.0882125999999914, 1.5196246000000144, 1.379776899999996, 1.235028700000015, 1.2304598999999996, 1.074028400000003, 1.0699395000000038, 1.0504866999999933, 0.9095173999999986, 1.1688539000000162, 1.2406305000000089, 1.3700525999999797, 1.244488700000005, 1.3375628000000006, 1.2455850000000055, 1.3416268000000002, 1.2547722000000192, 1.2738990000000001, 1.090795700000001, 1.0584273000000053, 1.0206210999999996, 1.151070599999997, 1.0690328000000022, 1.1084029000000157, 1.062417499999981, 1.126940200000007, 1.093467199999992, 1.1253717000000165, 1.2126775000000123, 1.3182230000000175, 1.0593037000000152, 1.0882407, 1.1743567999999982, 1.1449998999999877, 1.0326968999999906, 1.374916600000006, 1.0791150999999957, 1.079255900000021, 1.061035099999998, 1.0229514999999765, 1.0190121999999917, 1.0811549999999954, 1.7093484000000103, 2.5997620999999924, 1.638111699999996, 1.5618842000000086, 1.2559729999999831, 1.2851186999999982, 1.1892121999999858, 1.1713217000000213, 1.4315256000000147, 1.4032851999999991]\n",
      "\n",
      "\n",
      "Iteration 84 \n",
      "Explore Rate 0.1 \n",
      "Time for Explore Rate [1.3734790999999973, 1.3928841000000034, 1.2206818999999882, 1.118387800000022, 1.131689399999999, 1.055370499999981, 1.1943157999999983, 1.2179744999999969, 1.4991355999999882, 1.4094373000000076, 1.183458399999978, 0.9494959000000165, 1.219477100000006, 0.9837320000000034, 1.140904699999993, 1.1567988000000184, 1.2261251000000186, 1.835768800000011, 1.1849635000000092, 1.1485214999999869, 1.4634993999999892, 1.274583299999989, 1.1942057999999918, 1.1679900999999973, 1.2736763999999994, 1.4027301999999793, 1.0861399000000063, 1.2890767000000096, 1.1214885999999922, 1.3977247999999918, 1.2306556999999998, 1.3105798999999934, 1.0882125999999914, 1.5196246000000144, 1.379776899999996, 1.235028700000015, 1.2304598999999996, 1.074028400000003, 1.0699395000000038, 1.0504866999999933, 0.9095173999999986, 1.1688539000000162, 1.2406305000000089, 1.3700525999999797, 1.244488700000005, 1.3375628000000006, 1.2455850000000055, 1.3416268000000002, 1.2547722000000192, 1.2738990000000001, 1.090795700000001, 1.0584273000000053, 1.0206210999999996, 1.151070599999997, 1.0690328000000022, 1.1084029000000157, 1.062417499999981, 1.126940200000007, 1.093467199999992, 1.1253717000000165, 1.2126775000000123, 1.3182230000000175, 1.0593037000000152, 1.0882407, 1.1743567999999982, 1.1449998999999877, 1.0326968999999906, 1.374916600000006, 1.0791150999999957, 1.079255900000021, 1.061035099999998, 1.0229514999999765, 1.0190121999999917, 1.0811549999999954, 1.7093484000000103, 2.5997620999999924, 1.638111699999996, 1.5618842000000086, 1.2559729999999831, 1.2851186999999982, 1.1892121999999858, 1.1713217000000213, 1.4315256000000147, 1.4032851999999991, 1.3049847999999997]\n",
      "\n",
      "\n",
      "Iteration 85 \n",
      "Explore Rate 0.1 \n",
      "Time for Explore Rate [1.3734790999999973, 1.3928841000000034, 1.2206818999999882, 1.118387800000022, 1.131689399999999, 1.055370499999981, 1.1943157999999983, 1.2179744999999969, 1.4991355999999882, 1.4094373000000076, 1.183458399999978, 0.9494959000000165, 1.219477100000006, 0.9837320000000034, 1.140904699999993, 1.1567988000000184, 1.2261251000000186, 1.835768800000011, 1.1849635000000092, 1.1485214999999869, 1.4634993999999892, 1.274583299999989, 1.1942057999999918, 1.1679900999999973, 1.2736763999999994, 1.4027301999999793, 1.0861399000000063, 1.2890767000000096, 1.1214885999999922, 1.3977247999999918, 1.2306556999999998, 1.3105798999999934, 1.0882125999999914, 1.5196246000000144, 1.379776899999996, 1.235028700000015, 1.2304598999999996, 1.074028400000003, 1.0699395000000038, 1.0504866999999933, 0.9095173999999986, 1.1688539000000162, 1.2406305000000089, 1.3700525999999797, 1.244488700000005, 1.3375628000000006, 1.2455850000000055, 1.3416268000000002, 1.2547722000000192, 1.2738990000000001, 1.090795700000001, 1.0584273000000053, 1.0206210999999996, 1.151070599999997, 1.0690328000000022, 1.1084029000000157, 1.062417499999981, 1.126940200000007, 1.093467199999992, 1.1253717000000165, 1.2126775000000123, 1.3182230000000175, 1.0593037000000152, 1.0882407, 1.1743567999999982, 1.1449998999999877, 1.0326968999999906, 1.374916600000006, 1.0791150999999957, 1.079255900000021, 1.061035099999998, 1.0229514999999765, 1.0190121999999917, 1.0811549999999954, 1.7093484000000103, 2.5997620999999924, 1.638111699999996, 1.5618842000000086, 1.2559729999999831, 1.2851186999999982, 1.1892121999999858, 1.1713217000000213, 1.4315256000000147, 1.4032851999999991, 1.3049847999999997, 1.321132800000015]\n",
      "\n",
      "\n",
      "Iteration 86 \n",
      "Explore Rate 0.1 \n",
      "Time for Explore Rate [1.3734790999999973, 1.3928841000000034, 1.2206818999999882, 1.118387800000022, 1.131689399999999, 1.055370499999981, 1.1943157999999983, 1.2179744999999969, 1.4991355999999882, 1.4094373000000076, 1.183458399999978, 0.9494959000000165, 1.219477100000006, 0.9837320000000034, 1.140904699999993, 1.1567988000000184, 1.2261251000000186, 1.835768800000011, 1.1849635000000092, 1.1485214999999869, 1.4634993999999892, 1.274583299999989, 1.1942057999999918, 1.1679900999999973, 1.2736763999999994, 1.4027301999999793, 1.0861399000000063, 1.2890767000000096, 1.1214885999999922, 1.3977247999999918, 1.2306556999999998, 1.3105798999999934, 1.0882125999999914, 1.5196246000000144, 1.379776899999996, 1.235028700000015, 1.2304598999999996, 1.074028400000003, 1.0699395000000038, 1.0504866999999933, 0.9095173999999986, 1.1688539000000162, 1.2406305000000089, 1.3700525999999797, 1.244488700000005, 1.3375628000000006, 1.2455850000000055, 1.3416268000000002, 1.2547722000000192, 1.2738990000000001, 1.090795700000001, 1.0584273000000053, 1.0206210999999996, 1.151070599999997, 1.0690328000000022, 1.1084029000000157, 1.062417499999981, 1.126940200000007, 1.093467199999992, 1.1253717000000165, 1.2126775000000123, 1.3182230000000175, 1.0593037000000152, 1.0882407, 1.1743567999999982, 1.1449998999999877, 1.0326968999999906, 1.374916600000006, 1.0791150999999957, 1.079255900000021, 1.061035099999998, 1.0229514999999765, 1.0190121999999917, 1.0811549999999954, 1.7093484000000103, 2.5997620999999924, 1.638111699999996, 1.5618842000000086, 1.2559729999999831, 1.2851186999999982, 1.1892121999999858, 1.1713217000000213, 1.4315256000000147, 1.4032851999999991, 1.3049847999999997, 1.321132800000015, 1.375452600000017]\n",
      "\n",
      "\n"
     ]
    },
    {
     "name": "stdout",
     "output_type": "stream",
     "text": [
      "Iteration 87 \n",
      "Explore Rate 0.1 \n",
      "Time for Explore Rate [1.3734790999999973, 1.3928841000000034, 1.2206818999999882, 1.118387800000022, 1.131689399999999, 1.055370499999981, 1.1943157999999983, 1.2179744999999969, 1.4991355999999882, 1.4094373000000076, 1.183458399999978, 0.9494959000000165, 1.219477100000006, 0.9837320000000034, 1.140904699999993, 1.1567988000000184, 1.2261251000000186, 1.835768800000011, 1.1849635000000092, 1.1485214999999869, 1.4634993999999892, 1.274583299999989, 1.1942057999999918, 1.1679900999999973, 1.2736763999999994, 1.4027301999999793, 1.0861399000000063, 1.2890767000000096, 1.1214885999999922, 1.3977247999999918, 1.2306556999999998, 1.3105798999999934, 1.0882125999999914, 1.5196246000000144, 1.379776899999996, 1.235028700000015, 1.2304598999999996, 1.074028400000003, 1.0699395000000038, 1.0504866999999933, 0.9095173999999986, 1.1688539000000162, 1.2406305000000089, 1.3700525999999797, 1.244488700000005, 1.3375628000000006, 1.2455850000000055, 1.3416268000000002, 1.2547722000000192, 1.2738990000000001, 1.090795700000001, 1.0584273000000053, 1.0206210999999996, 1.151070599999997, 1.0690328000000022, 1.1084029000000157, 1.062417499999981, 1.126940200000007, 1.093467199999992, 1.1253717000000165, 1.2126775000000123, 1.3182230000000175, 1.0593037000000152, 1.0882407, 1.1743567999999982, 1.1449998999999877, 1.0326968999999906, 1.374916600000006, 1.0791150999999957, 1.079255900000021, 1.061035099999998, 1.0229514999999765, 1.0190121999999917, 1.0811549999999954, 1.7093484000000103, 2.5997620999999924, 1.638111699999996, 1.5618842000000086, 1.2559729999999831, 1.2851186999999982, 1.1892121999999858, 1.1713217000000213, 1.4315256000000147, 1.4032851999999991, 1.3049847999999997, 1.321132800000015, 1.375452600000017, 1.2961130999999853]\n",
      "\n",
      "\n",
      "Iteration 88 \n",
      "Explore Rate 0.1 \n",
      "Time for Explore Rate [1.3734790999999973, 1.3928841000000034, 1.2206818999999882, 1.118387800000022, 1.131689399999999, 1.055370499999981, 1.1943157999999983, 1.2179744999999969, 1.4991355999999882, 1.4094373000000076, 1.183458399999978, 0.9494959000000165, 1.219477100000006, 0.9837320000000034, 1.140904699999993, 1.1567988000000184, 1.2261251000000186, 1.835768800000011, 1.1849635000000092, 1.1485214999999869, 1.4634993999999892, 1.274583299999989, 1.1942057999999918, 1.1679900999999973, 1.2736763999999994, 1.4027301999999793, 1.0861399000000063, 1.2890767000000096, 1.1214885999999922, 1.3977247999999918, 1.2306556999999998, 1.3105798999999934, 1.0882125999999914, 1.5196246000000144, 1.379776899999996, 1.235028700000015, 1.2304598999999996, 1.074028400000003, 1.0699395000000038, 1.0504866999999933, 0.9095173999999986, 1.1688539000000162, 1.2406305000000089, 1.3700525999999797, 1.244488700000005, 1.3375628000000006, 1.2455850000000055, 1.3416268000000002, 1.2547722000000192, 1.2738990000000001, 1.090795700000001, 1.0584273000000053, 1.0206210999999996, 1.151070599999997, 1.0690328000000022, 1.1084029000000157, 1.062417499999981, 1.126940200000007, 1.093467199999992, 1.1253717000000165, 1.2126775000000123, 1.3182230000000175, 1.0593037000000152, 1.0882407, 1.1743567999999982, 1.1449998999999877, 1.0326968999999906, 1.374916600000006, 1.0791150999999957, 1.079255900000021, 1.061035099999998, 1.0229514999999765, 1.0190121999999917, 1.0811549999999954, 1.7093484000000103, 2.5997620999999924, 1.638111699999996, 1.5618842000000086, 1.2559729999999831, 1.2851186999999982, 1.1892121999999858, 1.1713217000000213, 1.4315256000000147, 1.4032851999999991, 1.3049847999999997, 1.321132800000015, 1.375452600000017, 1.2961130999999853, 1.2841257000000041]\n",
      "\n",
      "\n",
      "Iteration 89 \n",
      "Explore Rate 0.1 \n",
      "Time for Explore Rate [1.3734790999999973, 1.3928841000000034, 1.2206818999999882, 1.118387800000022, 1.131689399999999, 1.055370499999981, 1.1943157999999983, 1.2179744999999969, 1.4991355999999882, 1.4094373000000076, 1.183458399999978, 0.9494959000000165, 1.219477100000006, 0.9837320000000034, 1.140904699999993, 1.1567988000000184, 1.2261251000000186, 1.835768800000011, 1.1849635000000092, 1.1485214999999869, 1.4634993999999892, 1.274583299999989, 1.1942057999999918, 1.1679900999999973, 1.2736763999999994, 1.4027301999999793, 1.0861399000000063, 1.2890767000000096, 1.1214885999999922, 1.3977247999999918, 1.2306556999999998, 1.3105798999999934, 1.0882125999999914, 1.5196246000000144, 1.379776899999996, 1.235028700000015, 1.2304598999999996, 1.074028400000003, 1.0699395000000038, 1.0504866999999933, 0.9095173999999986, 1.1688539000000162, 1.2406305000000089, 1.3700525999999797, 1.244488700000005, 1.3375628000000006, 1.2455850000000055, 1.3416268000000002, 1.2547722000000192, 1.2738990000000001, 1.090795700000001, 1.0584273000000053, 1.0206210999999996, 1.151070599999997, 1.0690328000000022, 1.1084029000000157, 1.062417499999981, 1.126940200000007, 1.093467199999992, 1.1253717000000165, 1.2126775000000123, 1.3182230000000175, 1.0593037000000152, 1.0882407, 1.1743567999999982, 1.1449998999999877, 1.0326968999999906, 1.374916600000006, 1.0791150999999957, 1.079255900000021, 1.061035099999998, 1.0229514999999765, 1.0190121999999917, 1.0811549999999954, 1.7093484000000103, 2.5997620999999924, 1.638111699999996, 1.5618842000000086, 1.2559729999999831, 1.2851186999999982, 1.1892121999999858, 1.1713217000000213, 1.4315256000000147, 1.4032851999999991, 1.3049847999999997, 1.321132800000015, 1.375452600000017, 1.2961130999999853, 1.2841257000000041, 1.137522200000035]\n",
      "\n",
      "\n",
      "Iteration 90 \n",
      "Explore Rate 0.1 \n",
      "Time for Explore Rate [1.3734790999999973, 1.3928841000000034, 1.2206818999999882, 1.118387800000022, 1.131689399999999, 1.055370499999981, 1.1943157999999983, 1.2179744999999969, 1.4991355999999882, 1.4094373000000076, 1.183458399999978, 0.9494959000000165, 1.219477100000006, 0.9837320000000034, 1.140904699999993, 1.1567988000000184, 1.2261251000000186, 1.835768800000011, 1.1849635000000092, 1.1485214999999869, 1.4634993999999892, 1.274583299999989, 1.1942057999999918, 1.1679900999999973, 1.2736763999999994, 1.4027301999999793, 1.0861399000000063, 1.2890767000000096, 1.1214885999999922, 1.3977247999999918, 1.2306556999999998, 1.3105798999999934, 1.0882125999999914, 1.5196246000000144, 1.379776899999996, 1.235028700000015, 1.2304598999999996, 1.074028400000003, 1.0699395000000038, 1.0504866999999933, 0.9095173999999986, 1.1688539000000162, 1.2406305000000089, 1.3700525999999797, 1.244488700000005, 1.3375628000000006, 1.2455850000000055, 1.3416268000000002, 1.2547722000000192, 1.2738990000000001, 1.090795700000001, 1.0584273000000053, 1.0206210999999996, 1.151070599999997, 1.0690328000000022, 1.1084029000000157, 1.062417499999981, 1.126940200000007, 1.093467199999992, 1.1253717000000165, 1.2126775000000123, 1.3182230000000175, 1.0593037000000152, 1.0882407, 1.1743567999999982, 1.1449998999999877, 1.0326968999999906, 1.374916600000006, 1.0791150999999957, 1.079255900000021, 1.061035099999998, 1.0229514999999765, 1.0190121999999917, 1.0811549999999954, 1.7093484000000103, 2.5997620999999924, 1.638111699999996, 1.5618842000000086, 1.2559729999999831, 1.2851186999999982, 1.1892121999999858, 1.1713217000000213, 1.4315256000000147, 1.4032851999999991, 1.3049847999999997, 1.321132800000015, 1.375452600000017, 1.2961130999999853, 1.2841257000000041, 1.137522200000035, 1.1431382000000099]\n",
      "\n",
      "\n",
      "Iteration 91 \n",
      "Explore Rate 0.1 \n",
      "Time for Explore Rate [1.3734790999999973, 1.3928841000000034, 1.2206818999999882, 1.118387800000022, 1.131689399999999, 1.055370499999981, 1.1943157999999983, 1.2179744999999969, 1.4991355999999882, 1.4094373000000076, 1.183458399999978, 0.9494959000000165, 1.219477100000006, 0.9837320000000034, 1.140904699999993, 1.1567988000000184, 1.2261251000000186, 1.835768800000011, 1.1849635000000092, 1.1485214999999869, 1.4634993999999892, 1.274583299999989, 1.1942057999999918, 1.1679900999999973, 1.2736763999999994, 1.4027301999999793, 1.0861399000000063, 1.2890767000000096, 1.1214885999999922, 1.3977247999999918, 1.2306556999999998, 1.3105798999999934, 1.0882125999999914, 1.5196246000000144, 1.379776899999996, 1.235028700000015, 1.2304598999999996, 1.074028400000003, 1.0699395000000038, 1.0504866999999933, 0.9095173999999986, 1.1688539000000162, 1.2406305000000089, 1.3700525999999797, 1.244488700000005, 1.3375628000000006, 1.2455850000000055, 1.3416268000000002, 1.2547722000000192, 1.2738990000000001, 1.090795700000001, 1.0584273000000053, 1.0206210999999996, 1.151070599999997, 1.0690328000000022, 1.1084029000000157, 1.062417499999981, 1.126940200000007, 1.093467199999992, 1.1253717000000165, 1.2126775000000123, 1.3182230000000175, 1.0593037000000152, 1.0882407, 1.1743567999999982, 1.1449998999999877, 1.0326968999999906, 1.374916600000006, 1.0791150999999957, 1.079255900000021, 1.061035099999998, 1.0229514999999765, 1.0190121999999917, 1.0811549999999954, 1.7093484000000103, 2.5997620999999924, 1.638111699999996, 1.5618842000000086, 1.2559729999999831, 1.2851186999999982, 1.1892121999999858, 1.1713217000000213, 1.4315256000000147, 1.4032851999999991, 1.3049847999999997, 1.321132800000015, 1.375452600000017, 1.2961130999999853, 1.2841257000000041, 1.137522200000035, 1.1431382000000099, 1.1118341999999757]\n",
      "\n",
      "\n"
     ]
    },
    {
     "name": "stdout",
     "output_type": "stream",
     "text": [
      "Iteration 92 \n",
      "Explore Rate 0.1 \n",
      "Time for Explore Rate [1.3734790999999973, 1.3928841000000034, 1.2206818999999882, 1.118387800000022, 1.131689399999999, 1.055370499999981, 1.1943157999999983, 1.2179744999999969, 1.4991355999999882, 1.4094373000000076, 1.183458399999978, 0.9494959000000165, 1.219477100000006, 0.9837320000000034, 1.140904699999993, 1.1567988000000184, 1.2261251000000186, 1.835768800000011, 1.1849635000000092, 1.1485214999999869, 1.4634993999999892, 1.274583299999989, 1.1942057999999918, 1.1679900999999973, 1.2736763999999994, 1.4027301999999793, 1.0861399000000063, 1.2890767000000096, 1.1214885999999922, 1.3977247999999918, 1.2306556999999998, 1.3105798999999934, 1.0882125999999914, 1.5196246000000144, 1.379776899999996, 1.235028700000015, 1.2304598999999996, 1.074028400000003, 1.0699395000000038, 1.0504866999999933, 0.9095173999999986, 1.1688539000000162, 1.2406305000000089, 1.3700525999999797, 1.244488700000005, 1.3375628000000006, 1.2455850000000055, 1.3416268000000002, 1.2547722000000192, 1.2738990000000001, 1.090795700000001, 1.0584273000000053, 1.0206210999999996, 1.151070599999997, 1.0690328000000022, 1.1084029000000157, 1.062417499999981, 1.126940200000007, 1.093467199999992, 1.1253717000000165, 1.2126775000000123, 1.3182230000000175, 1.0593037000000152, 1.0882407, 1.1743567999999982, 1.1449998999999877, 1.0326968999999906, 1.374916600000006, 1.0791150999999957, 1.079255900000021, 1.061035099999998, 1.0229514999999765, 1.0190121999999917, 1.0811549999999954, 1.7093484000000103, 2.5997620999999924, 1.638111699999996, 1.5618842000000086, 1.2559729999999831, 1.2851186999999982, 1.1892121999999858, 1.1713217000000213, 1.4315256000000147, 1.4032851999999991, 1.3049847999999997, 1.321132800000015, 1.375452600000017, 1.2961130999999853, 1.2841257000000041, 1.137522200000035, 1.1431382000000099, 1.1118341999999757, 1.1203165000000013]\n",
      "\n",
      "\n",
      "Iteration 93 \n",
      "Explore Rate 0.1 \n",
      "Time for Explore Rate [1.3734790999999973, 1.3928841000000034, 1.2206818999999882, 1.118387800000022, 1.131689399999999, 1.055370499999981, 1.1943157999999983, 1.2179744999999969, 1.4991355999999882, 1.4094373000000076, 1.183458399999978, 0.9494959000000165, 1.219477100000006, 0.9837320000000034, 1.140904699999993, 1.1567988000000184, 1.2261251000000186, 1.835768800000011, 1.1849635000000092, 1.1485214999999869, 1.4634993999999892, 1.274583299999989, 1.1942057999999918, 1.1679900999999973, 1.2736763999999994, 1.4027301999999793, 1.0861399000000063, 1.2890767000000096, 1.1214885999999922, 1.3977247999999918, 1.2306556999999998, 1.3105798999999934, 1.0882125999999914, 1.5196246000000144, 1.379776899999996, 1.235028700000015, 1.2304598999999996, 1.074028400000003, 1.0699395000000038, 1.0504866999999933, 0.9095173999999986, 1.1688539000000162, 1.2406305000000089, 1.3700525999999797, 1.244488700000005, 1.3375628000000006, 1.2455850000000055, 1.3416268000000002, 1.2547722000000192, 1.2738990000000001, 1.090795700000001, 1.0584273000000053, 1.0206210999999996, 1.151070599999997, 1.0690328000000022, 1.1084029000000157, 1.062417499999981, 1.126940200000007, 1.093467199999992, 1.1253717000000165, 1.2126775000000123, 1.3182230000000175, 1.0593037000000152, 1.0882407, 1.1743567999999982, 1.1449998999999877, 1.0326968999999906, 1.374916600000006, 1.0791150999999957, 1.079255900000021, 1.061035099999998, 1.0229514999999765, 1.0190121999999917, 1.0811549999999954, 1.7093484000000103, 2.5997620999999924, 1.638111699999996, 1.5618842000000086, 1.2559729999999831, 1.2851186999999982, 1.1892121999999858, 1.1713217000000213, 1.4315256000000147, 1.4032851999999991, 1.3049847999999997, 1.321132800000015, 1.375452600000017, 1.2961130999999853, 1.2841257000000041, 1.137522200000035, 1.1431382000000099, 1.1118341999999757, 1.1203165000000013, 1.0231895999999665]\n",
      "\n",
      "\n",
      "Iteration 94 \n",
      "Explore Rate 0.1 \n",
      "Time for Explore Rate [1.3734790999999973, 1.3928841000000034, 1.2206818999999882, 1.118387800000022, 1.131689399999999, 1.055370499999981, 1.1943157999999983, 1.2179744999999969, 1.4991355999999882, 1.4094373000000076, 1.183458399999978, 0.9494959000000165, 1.219477100000006, 0.9837320000000034, 1.140904699999993, 1.1567988000000184, 1.2261251000000186, 1.835768800000011, 1.1849635000000092, 1.1485214999999869, 1.4634993999999892, 1.274583299999989, 1.1942057999999918, 1.1679900999999973, 1.2736763999999994, 1.4027301999999793, 1.0861399000000063, 1.2890767000000096, 1.1214885999999922, 1.3977247999999918, 1.2306556999999998, 1.3105798999999934, 1.0882125999999914, 1.5196246000000144, 1.379776899999996, 1.235028700000015, 1.2304598999999996, 1.074028400000003, 1.0699395000000038, 1.0504866999999933, 0.9095173999999986, 1.1688539000000162, 1.2406305000000089, 1.3700525999999797, 1.244488700000005, 1.3375628000000006, 1.2455850000000055, 1.3416268000000002, 1.2547722000000192, 1.2738990000000001, 1.090795700000001, 1.0584273000000053, 1.0206210999999996, 1.151070599999997, 1.0690328000000022, 1.1084029000000157, 1.062417499999981, 1.126940200000007, 1.093467199999992, 1.1253717000000165, 1.2126775000000123, 1.3182230000000175, 1.0593037000000152, 1.0882407, 1.1743567999999982, 1.1449998999999877, 1.0326968999999906, 1.374916600000006, 1.0791150999999957, 1.079255900000021, 1.061035099999998, 1.0229514999999765, 1.0190121999999917, 1.0811549999999954, 1.7093484000000103, 2.5997620999999924, 1.638111699999996, 1.5618842000000086, 1.2559729999999831, 1.2851186999999982, 1.1892121999999858, 1.1713217000000213, 1.4315256000000147, 1.4032851999999991, 1.3049847999999997, 1.321132800000015, 1.375452600000017, 1.2961130999999853, 1.2841257000000041, 1.137522200000035, 1.1431382000000099, 1.1118341999999757, 1.1203165000000013, 1.0231895999999665, 1.0034186000000318]\n",
      "\n",
      "\n",
      "Iteration 95 \n",
      "Explore Rate 0.1 \n",
      "Time for Explore Rate [1.3734790999999973, 1.3928841000000034, 1.2206818999999882, 1.118387800000022, 1.131689399999999, 1.055370499999981, 1.1943157999999983, 1.2179744999999969, 1.4991355999999882, 1.4094373000000076, 1.183458399999978, 0.9494959000000165, 1.219477100000006, 0.9837320000000034, 1.140904699999993, 1.1567988000000184, 1.2261251000000186, 1.835768800000011, 1.1849635000000092, 1.1485214999999869, 1.4634993999999892, 1.274583299999989, 1.1942057999999918, 1.1679900999999973, 1.2736763999999994, 1.4027301999999793, 1.0861399000000063, 1.2890767000000096, 1.1214885999999922, 1.3977247999999918, 1.2306556999999998, 1.3105798999999934, 1.0882125999999914, 1.5196246000000144, 1.379776899999996, 1.235028700000015, 1.2304598999999996, 1.074028400000003, 1.0699395000000038, 1.0504866999999933, 0.9095173999999986, 1.1688539000000162, 1.2406305000000089, 1.3700525999999797, 1.244488700000005, 1.3375628000000006, 1.2455850000000055, 1.3416268000000002, 1.2547722000000192, 1.2738990000000001, 1.090795700000001, 1.0584273000000053, 1.0206210999999996, 1.151070599999997, 1.0690328000000022, 1.1084029000000157, 1.062417499999981, 1.126940200000007, 1.093467199999992, 1.1253717000000165, 1.2126775000000123, 1.3182230000000175, 1.0593037000000152, 1.0882407, 1.1743567999999982, 1.1449998999999877, 1.0326968999999906, 1.374916600000006, 1.0791150999999957, 1.079255900000021, 1.061035099999998, 1.0229514999999765, 1.0190121999999917, 1.0811549999999954, 1.7093484000000103, 2.5997620999999924, 1.638111699999996, 1.5618842000000086, 1.2559729999999831, 1.2851186999999982, 1.1892121999999858, 1.1713217000000213, 1.4315256000000147, 1.4032851999999991, 1.3049847999999997, 1.321132800000015, 1.375452600000017, 1.2961130999999853, 1.2841257000000041, 1.137522200000035, 1.1431382000000099, 1.1118341999999757, 1.1203165000000013, 1.0231895999999665, 1.0034186000000318, 1.0772594000000026]\n",
      "\n",
      "\n",
      "Iteration 96 \n",
      "Explore Rate 0.1 \n",
      "Time for Explore Rate [1.3734790999999973, 1.3928841000000034, 1.2206818999999882, 1.118387800000022, 1.131689399999999, 1.055370499999981, 1.1943157999999983, 1.2179744999999969, 1.4991355999999882, 1.4094373000000076, 1.183458399999978, 0.9494959000000165, 1.219477100000006, 0.9837320000000034, 1.140904699999993, 1.1567988000000184, 1.2261251000000186, 1.835768800000011, 1.1849635000000092, 1.1485214999999869, 1.4634993999999892, 1.274583299999989, 1.1942057999999918, 1.1679900999999973, 1.2736763999999994, 1.4027301999999793, 1.0861399000000063, 1.2890767000000096, 1.1214885999999922, 1.3977247999999918, 1.2306556999999998, 1.3105798999999934, 1.0882125999999914, 1.5196246000000144, 1.379776899999996, 1.235028700000015, 1.2304598999999996, 1.074028400000003, 1.0699395000000038, 1.0504866999999933, 0.9095173999999986, 1.1688539000000162, 1.2406305000000089, 1.3700525999999797, 1.244488700000005, 1.3375628000000006, 1.2455850000000055, 1.3416268000000002, 1.2547722000000192, 1.2738990000000001, 1.090795700000001, 1.0584273000000053, 1.0206210999999996, 1.151070599999997, 1.0690328000000022, 1.1084029000000157, 1.062417499999981, 1.126940200000007, 1.093467199999992, 1.1253717000000165, 1.2126775000000123, 1.3182230000000175, 1.0593037000000152, 1.0882407, 1.1743567999999982, 1.1449998999999877, 1.0326968999999906, 1.374916600000006, 1.0791150999999957, 1.079255900000021, 1.061035099999998, 1.0229514999999765, 1.0190121999999917, 1.0811549999999954, 1.7093484000000103, 2.5997620999999924, 1.638111699999996, 1.5618842000000086, 1.2559729999999831, 1.2851186999999982, 1.1892121999999858, 1.1713217000000213, 1.4315256000000147, 1.4032851999999991, 1.3049847999999997, 1.321132800000015, 1.375452600000017, 1.2961130999999853, 1.2841257000000041, 1.137522200000035, 1.1431382000000099, 1.1118341999999757, 1.1203165000000013, 1.0231895999999665, 1.0034186000000318, 1.0772594000000026, 1.024947099999963]\n",
      "\n",
      "\n"
     ]
    },
    {
     "name": "stdout",
     "output_type": "stream",
     "text": [
      "Iteration 97 \n",
      "Explore Rate 0.1 \n",
      "Time for Explore Rate [1.3734790999999973, 1.3928841000000034, 1.2206818999999882, 1.118387800000022, 1.131689399999999, 1.055370499999981, 1.1943157999999983, 1.2179744999999969, 1.4991355999999882, 1.4094373000000076, 1.183458399999978, 0.9494959000000165, 1.219477100000006, 0.9837320000000034, 1.140904699999993, 1.1567988000000184, 1.2261251000000186, 1.835768800000011, 1.1849635000000092, 1.1485214999999869, 1.4634993999999892, 1.274583299999989, 1.1942057999999918, 1.1679900999999973, 1.2736763999999994, 1.4027301999999793, 1.0861399000000063, 1.2890767000000096, 1.1214885999999922, 1.3977247999999918, 1.2306556999999998, 1.3105798999999934, 1.0882125999999914, 1.5196246000000144, 1.379776899999996, 1.235028700000015, 1.2304598999999996, 1.074028400000003, 1.0699395000000038, 1.0504866999999933, 0.9095173999999986, 1.1688539000000162, 1.2406305000000089, 1.3700525999999797, 1.244488700000005, 1.3375628000000006, 1.2455850000000055, 1.3416268000000002, 1.2547722000000192, 1.2738990000000001, 1.090795700000001, 1.0584273000000053, 1.0206210999999996, 1.151070599999997, 1.0690328000000022, 1.1084029000000157, 1.062417499999981, 1.126940200000007, 1.093467199999992, 1.1253717000000165, 1.2126775000000123, 1.3182230000000175, 1.0593037000000152, 1.0882407, 1.1743567999999982, 1.1449998999999877, 1.0326968999999906, 1.374916600000006, 1.0791150999999957, 1.079255900000021, 1.061035099999998, 1.0229514999999765, 1.0190121999999917, 1.0811549999999954, 1.7093484000000103, 2.5997620999999924, 1.638111699999996, 1.5618842000000086, 1.2559729999999831, 1.2851186999999982, 1.1892121999999858, 1.1713217000000213, 1.4315256000000147, 1.4032851999999991, 1.3049847999999997, 1.321132800000015, 1.375452600000017, 1.2961130999999853, 1.2841257000000041, 1.137522200000035, 1.1431382000000099, 1.1118341999999757, 1.1203165000000013, 1.0231895999999665, 1.0034186000000318, 1.0772594000000026, 1.024947099999963, 1.093629299999975]\n",
      "\n",
      "\n",
      "Iteration 98 \n",
      "Explore Rate 0.1 \n",
      "Time for Explore Rate [1.3734790999999973, 1.3928841000000034, 1.2206818999999882, 1.118387800000022, 1.131689399999999, 1.055370499999981, 1.1943157999999983, 1.2179744999999969, 1.4991355999999882, 1.4094373000000076, 1.183458399999978, 0.9494959000000165, 1.219477100000006, 0.9837320000000034, 1.140904699999993, 1.1567988000000184, 1.2261251000000186, 1.835768800000011, 1.1849635000000092, 1.1485214999999869, 1.4634993999999892, 1.274583299999989, 1.1942057999999918, 1.1679900999999973, 1.2736763999999994, 1.4027301999999793, 1.0861399000000063, 1.2890767000000096, 1.1214885999999922, 1.3977247999999918, 1.2306556999999998, 1.3105798999999934, 1.0882125999999914, 1.5196246000000144, 1.379776899999996, 1.235028700000015, 1.2304598999999996, 1.074028400000003, 1.0699395000000038, 1.0504866999999933, 0.9095173999999986, 1.1688539000000162, 1.2406305000000089, 1.3700525999999797, 1.244488700000005, 1.3375628000000006, 1.2455850000000055, 1.3416268000000002, 1.2547722000000192, 1.2738990000000001, 1.090795700000001, 1.0584273000000053, 1.0206210999999996, 1.151070599999997, 1.0690328000000022, 1.1084029000000157, 1.062417499999981, 1.126940200000007, 1.093467199999992, 1.1253717000000165, 1.2126775000000123, 1.3182230000000175, 1.0593037000000152, 1.0882407, 1.1743567999999982, 1.1449998999999877, 1.0326968999999906, 1.374916600000006, 1.0791150999999957, 1.079255900000021, 1.061035099999998, 1.0229514999999765, 1.0190121999999917, 1.0811549999999954, 1.7093484000000103, 2.5997620999999924, 1.638111699999996, 1.5618842000000086, 1.2559729999999831, 1.2851186999999982, 1.1892121999999858, 1.1713217000000213, 1.4315256000000147, 1.4032851999999991, 1.3049847999999997, 1.321132800000015, 1.375452600000017, 1.2961130999999853, 1.2841257000000041, 1.137522200000035, 1.1431382000000099, 1.1118341999999757, 1.1203165000000013, 1.0231895999999665, 1.0034186000000318, 1.0772594000000026, 1.024947099999963, 1.093629299999975, 1.0458186000000183]\n",
      "\n",
      "\n",
      "Iteration 99 \n",
      "Explore Rate 0.1 \n",
      "Time for Explore Rate [1.3734790999999973, 1.3928841000000034, 1.2206818999999882, 1.118387800000022, 1.131689399999999, 1.055370499999981, 1.1943157999999983, 1.2179744999999969, 1.4991355999999882, 1.4094373000000076, 1.183458399999978, 0.9494959000000165, 1.219477100000006, 0.9837320000000034, 1.140904699999993, 1.1567988000000184, 1.2261251000000186, 1.835768800000011, 1.1849635000000092, 1.1485214999999869, 1.4634993999999892, 1.274583299999989, 1.1942057999999918, 1.1679900999999973, 1.2736763999999994, 1.4027301999999793, 1.0861399000000063, 1.2890767000000096, 1.1214885999999922, 1.3977247999999918, 1.2306556999999998, 1.3105798999999934, 1.0882125999999914, 1.5196246000000144, 1.379776899999996, 1.235028700000015, 1.2304598999999996, 1.074028400000003, 1.0699395000000038, 1.0504866999999933, 0.9095173999999986, 1.1688539000000162, 1.2406305000000089, 1.3700525999999797, 1.244488700000005, 1.3375628000000006, 1.2455850000000055, 1.3416268000000002, 1.2547722000000192, 1.2738990000000001, 1.090795700000001, 1.0584273000000053, 1.0206210999999996, 1.151070599999997, 1.0690328000000022, 1.1084029000000157, 1.062417499999981, 1.126940200000007, 1.093467199999992, 1.1253717000000165, 1.2126775000000123, 1.3182230000000175, 1.0593037000000152, 1.0882407, 1.1743567999999982, 1.1449998999999877, 1.0326968999999906, 1.374916600000006, 1.0791150999999957, 1.079255900000021, 1.061035099999998, 1.0229514999999765, 1.0190121999999917, 1.0811549999999954, 1.7093484000000103, 2.5997620999999924, 1.638111699999996, 1.5618842000000086, 1.2559729999999831, 1.2851186999999982, 1.1892121999999858, 1.1713217000000213, 1.4315256000000147, 1.4032851999999991, 1.3049847999999997, 1.321132800000015, 1.375452600000017, 1.2961130999999853, 1.2841257000000041, 1.137522200000035, 1.1431382000000099, 1.1118341999999757, 1.1203165000000013, 1.0231895999999665, 1.0034186000000318, 1.0772594000000026, 1.024947099999963, 1.093629299999975, 1.0458186000000183, 1.5506110000000035]\n",
      "\n",
      "\n",
      "Cost 0.07475388465193315 Chromosome [ 3.21440584 -1.21066442 -1.19868717 -1.27090737  3.23075885]\n"
     ]
    },
    {
     "data": {
      "image/png": "[encoded data removed]",
      "text/plain": [
       "<Figure size 432x288 with 1 Axes>"
      ]
     },
     "metadata": {
      "needs_background": "light"
     },
     "output_type": "display_data"
    }
   ],
   "source": [
    "test_explore_alt()"
   ]
  },
  {
   "cell_type": "markdown",
   "metadata": {},
   "source": [
    "<h3>This time, when the algorithm is ran 100 times, the best solution cost is reached quite quickly more frequently than the previous explore rate test as the quest towards the optimal solution begins with the switching of the parameters where the first two tests here are based on the original parameters at the beginning of the notebook. The graph increases and decreases as the 100 runs of the algorithm progresses where the algorithm takes longer towards the 3 quarters into the test than the beginning of the test. The times for the completion of each run of the algorithm get higher as the complicated process of mutation, crossover and selection in no particular order occurs. As the number of iterations progresses, the time it takes for the best solution cost to be reached or for the best solution cost of each iteration to reach or get close to the optimal solution is much longer at times than the beginning of the test as the explore rate is low at the beginning of the testing phase and the exploration phase starts to find search spaces for reaching the optimal solution. The best cost solution can be seen in the best_solution.cost line as seen earlier in this notebook as well as the best solution chromosome represented by best_solution.chromosome line that is seen early on in this notebook.<h3>"
   ]
  },
  {
   "cell_type": "code",
   "execution_count": 61,
   "metadata": {},
   "outputs": [
    {
     "data": {
      "text/plain": [
       "0.07475388465193315"
      ]
     },
     "execution_count": 61,
     "metadata": {},
     "output_type": "execute_result"
    }
   ],
   "source": [
    "best_solution.cost"
   ]
  },
  {
   "cell_type": "markdown",
   "metadata": {},
   "source": [
    "<h2>------------------------------------------------------------------------------------------<h2>"
   ]
  },
  {
   "cell_type": "markdown",
   "metadata": {},
   "source": [
    "<h1>Testing out explore rate below multiple times this time with 0.5 instead of 0.1<h1>"
   ]
  },
  {
   "cell_type": "code",
   "execution_count": 40,
   "metadata": {},
   "outputs": [],
   "source": [
    "pars.explore_rate = 0.5"
   ]
  },
  {
   "cell_type": "code",
   "execution_count": 41,
   "metadata": {},
   "outputs": [
    {
     "data": {
      "text/plain": [
       "25.50013950000016"
      ]
     },
     "execution_count": 41,
     "metadata": {},
     "output_type": "execute_result"
    }
   ],
   "source": [
    "test_genetic(100,prob,pars,0.0001)"
   ]
  },
  {
   "cell_type": "markdown",
   "metadata": {},
   "source": [
    "<h3>With the explore rate set at 0.5, the time it takes for 100 runs of the genetic algortihm is slightly quicker than when the explore rate is inputted as 0.1. This shows that a higher explore rate searches the search space as much as possible which would allow for an efficient way to serach for the perfect answer quickly. The exploration is done at the start of the algorithm. This makes it a little easier to find the defining solution despite a chance that an answer can be found more quickly. This test leads to a higher chance of solving the algorithm quickly in multiple iterations to reach the optimal solution in a short time period especially at the start of the testing of the algorithm. Exploration does not work as well in the end where the Gamma rate would reduce the overtime as exploration is meant to build a better estimate to get new knowledge and try the values out. The exploitation would see which value is good locally and uses all prior experience as knowledge.<h3>"
   ]
  },
  {
   "cell_type": "code",
   "execution_count": 42,
   "metadata": {},
   "outputs": [
    {
     "data": {
      "text/plain": [
       "2.781054900000072"
      ]
     },
     "execution_count": 42,
     "metadata": {},
     "output_type": "execute_result"
    }
   ],
   "source": [
    "test_genetic(10,prob,pars,0.0001)"
   ]
  },
  {
   "cell_type": "markdown",
   "metadata": {},
   "source": [
    "<h3>Surprisingly, the time to compute the genetic algorithm across ten runs shown above occurs quicker than when the explore rate is set at 0.1 compared to 0.5. The value may be lower than 1 for example for the explore rate but it looks like the target could be reached within the optimal solution answer where the cost would be reached once a best cost solution goes less than the error rate. A higher exploration rate results in a slightly shorter time period to reach the optimal cost or to get as close to the best solution as possible than when the explore rate was set up at 0.1.<h3>"
   ]
  },
  {
   "cell_type": "code",
   "execution_count": 43,
   "metadata": {},
   "outputs": [
    {
     "name": "stdout",
     "output_type": "stream",
     "text": [
      "Iteration 0 \n",
      "Time for Explore Rate [1.342952299999979]\n",
      "\n",
      "\n",
      "Iteration 1 \n",
      "Time for Explore Rate [1.342952299999979, 1.318701300000157]\n",
      "\n",
      "\n",
      "Iteration 2 \n",
      "Time for Explore Rate [1.342952299999979, 1.318701300000157, 1.7532721000000038]\n",
      "\n",
      "\n",
      "Iteration 3 \n",
      "Time for Explore Rate [1.342952299999979, 1.318701300000157, 1.7532721000000038, 1.6382501000000502]\n",
      "\n",
      "\n",
      "Iteration 4 \n",
      "Time for Explore Rate [1.342952299999979, 1.318701300000157, 1.7532721000000038, 1.6382501000000502, 1.4001276000001326]\n",
      "\n",
      "\n",
      "Iteration 5 \n",
      "Time for Explore Rate [1.342952299999979, 1.318701300000157, 1.7532721000000038, 1.6382501000000502, 1.4001276000001326, 1.2987324000000626]\n",
      "\n",
      "\n",
      "Iteration 6 \n",
      "Time for Explore Rate [1.342952299999979, 1.318701300000157, 1.7532721000000038, 1.6382501000000502, 1.4001276000001326, 1.2987324000000626, 1.2273007999999663]\n",
      "\n",
      "\n",
      "Iteration 7 \n",
      "Time for Explore Rate [1.342952299999979, 1.318701300000157, 1.7532721000000038, 1.6382501000000502, 1.4001276000001326, 1.2987324000000626, 1.2273007999999663, 1.230781400000069]\n",
      "\n",
      "\n",
      "Iteration 8 \n",
      "Time for Explore Rate [1.342952299999979, 1.318701300000157, 1.7532721000000038, 1.6382501000000502, 1.4001276000001326, 1.2987324000000626, 1.2273007999999663, 1.230781400000069, 1.2463752999999542]\n",
      "\n",
      "\n",
      "Iteration 9 \n",
      "Time for Explore Rate [1.342952299999979, 1.318701300000157, 1.7532721000000038, 1.6382501000000502, 1.4001276000001326, 1.2987324000000626, 1.2273007999999663, 1.230781400000069, 1.2463752999999542, 1.3026245999999446]\n",
      "\n",
      "\n",
      "Cost 0.07475388465193315 Chromosome [ 3.21440584 -1.21066442 -1.19868717 -1.27090737  3.23075885]\n"
     ]
    },
    {
     "data": {
      "image/png": "[encoded data removed]",
      "text/plain": [
       "<Figure size 432x288 with 1 Axes>"
      ]
     },
     "metadata": {
      "needs_background": "light"
     },
     "output_type": "display_data"
    }
   ],
   "source": [
    "test_explore()"
   ]
  },
  {
   "cell_type": "markdown",
   "metadata": {},
   "source": [
    "<h3>This time in the graph above, the population size of 50 is still used here where a different explore rate of 0.5 is utilized that runs across 10 iterations. The mutation rate is also 0.2 and the mutation range is 0.1. The number of iterations used for the algorithm is 20 in this test. The best solution score of the algorithm in this case is reached at an earlier point as the previously set example of 0.1 for the explore rate. The graph starts decreasing to reach its optimal solution before it rises again and slides downwards briefly before it rises again. The last time at the end is slower at completing the algorithm than the first explore rate test as it proves that a lower explore rate has a better chance of reaching the optimal solution depending on the test that is carried out. The maximum number of generations has been reached here where it goes as far as 10 rather than 200. This shows that a lower explore rate can ensure a better best fitness cost to acquire the optimal solution when the explore rate is lowered quicker at 0.1 which was tested earlier on 10 and 20 runs.<h3>"
   ]
  },
  {
   "cell_type": "markdown",
   "metadata": {},
   "source": [
    "<h3>It seems that when the explore rate is set at 0.5, the graph above for testing out the algorithm 10 times is closest to the mean / normal distribution which would clearly form the optimal solution if this was the case as at the start, a gradual increase occurs and then it peaks almost halfway throgh the test and then it decreases gradually before rising again at the end of the test. This may be the graph with the best parameters where the updated explore rate is set at 0.5 and the other parameters are unchanged.<h3>"
   ]
  },
  {
   "cell_type": "code",
   "execution_count": 44,
   "metadata": {},
   "outputs": [
    {
     "name": "stdout",
     "output_type": "stream",
     "text": [
      "Iteration 0 \n",
      "Explore Rate 0.5 \n",
      "Time for Explore Rate [1.4322650000001431]\n",
      "\n",
      "\n",
      "Iteration 1 \n",
      "Explore Rate 0.5 \n",
      "Time for Explore Rate [1.4322650000001431, 1.7031425000000127]\n",
      "\n",
      "\n",
      "Iteration 2 \n",
      "Explore Rate 0.5 \n",
      "Time for Explore Rate [1.4322650000001431, 1.7031425000000127, 1.2830266999999367]\n",
      "\n",
      "\n",
      "Iteration 3 \n",
      "Explore Rate 0.5 \n",
      "Time for Explore Rate [1.4322650000001431, 1.7031425000000127, 1.2830266999999367, 1.475841199999877]\n",
      "\n",
      "\n",
      "Iteration 4 \n",
      "Explore Rate 0.5 \n",
      "Time for Explore Rate [1.4322650000001431, 1.7031425000000127, 1.2830266999999367, 1.475841199999877, 1.2860881999999947]\n",
      "\n",
      "\n",
      "Iteration 5 \n",
      "Explore Rate 0.5 \n",
      "Time for Explore Rate [1.4322650000001431, 1.7031425000000127, 1.2830266999999367, 1.475841199999877, 1.2860881999999947, 1.2231071000001066]\n",
      "\n",
      "\n",
      "Iteration 6 \n",
      "Explore Rate 0.5 \n",
      "Time for Explore Rate [1.4322650000001431, 1.7031425000000127, 1.2830266999999367, 1.475841199999877, 1.2860881999999947, 1.2231071000001066, 1.1308498000000782]\n",
      "\n",
      "\n",
      "Iteration 7 \n",
      "Explore Rate 0.5 \n",
      "Time for Explore Rate [1.4322650000001431, 1.7031425000000127, 1.2830266999999367, 1.475841199999877, 1.2860881999999947, 1.2231071000001066, 1.1308498000000782, 1.8195515999998406]\n",
      "\n",
      "\n",
      "Iteration 8 \n",
      "Explore Rate 0.5 \n",
      "Time for Explore Rate [1.4322650000001431, 1.7031425000000127, 1.2830266999999367, 1.475841199999877, 1.2860881999999947, 1.2231071000001066, 1.1308498000000782, 1.8195515999998406, 1.8954352000000654]\n",
      "\n",
      "\n",
      "Iteration 9 \n",
      "Explore Rate 0.5 \n",
      "Time for Explore Rate [1.4322650000001431, 1.7031425000000127, 1.2830266999999367, 1.475841199999877, 1.2860881999999947, 1.2231071000001066, 1.1308498000000782, 1.8195515999998406, 1.8954352000000654, 1.9007328000000143]\n",
      "\n",
      "\n",
      "Iteration 10 \n",
      "Explore Rate 0.5 \n",
      "Time for Explore Rate [1.4322650000001431, 1.7031425000000127, 1.2830266999999367, 1.475841199999877, 1.2860881999999947, 1.2231071000001066, 1.1308498000000782, 1.8195515999998406, 1.8954352000000654, 1.9007328000000143, 1.9608909999999469]\n",
      "\n",
      "\n",
      "Iteration 11 \n",
      "Explore Rate 0.5 \n",
      "Time for Explore Rate [1.4322650000001431, 1.7031425000000127, 1.2830266999999367, 1.475841199999877, 1.2860881999999947, 1.2231071000001066, 1.1308498000000782, 1.8195515999998406, 1.8954352000000654, 1.9007328000000143, 1.9608909999999469, 1.7002813999999944]\n",
      "\n",
      "\n",
      "Iteration 12 \n",
      "Explore Rate 0.5 \n",
      "Time for Explore Rate [1.4322650000001431, 1.7031425000000127, 1.2830266999999367, 1.475841199999877, 1.2860881999999947, 1.2231071000001066, 1.1308498000000782, 1.8195515999998406, 1.8954352000000654, 1.9007328000000143, 1.9608909999999469, 1.7002813999999944, 1.3415706000000682]\n",
      "\n",
      "\n",
      "Iteration 13 \n",
      "Explore Rate 0.5 \n",
      "Time for Explore Rate [1.4322650000001431, 1.7031425000000127, 1.2830266999999367, 1.475841199999877, 1.2860881999999947, 1.2231071000001066, 1.1308498000000782, 1.8195515999998406, 1.8954352000000654, 1.9007328000000143, 1.9608909999999469, 1.7002813999999944, 1.3415706000000682, 1.4680716999998822]\n",
      "\n",
      "\n",
      "Iteration 14 \n",
      "Explore Rate 0.5 \n",
      "Time for Explore Rate [1.4322650000001431, 1.7031425000000127, 1.2830266999999367, 1.475841199999877, 1.2860881999999947, 1.2231071000001066, 1.1308498000000782, 1.8195515999998406, 1.8954352000000654, 1.9007328000000143, 1.9608909999999469, 1.7002813999999944, 1.3415706000000682, 1.4680716999998822, 1.302954699999873]\n",
      "\n",
      "\n",
      "Iteration 15 \n",
      "Explore Rate 0.5 \n",
      "Time for Explore Rate [1.4322650000001431, 1.7031425000000127, 1.2830266999999367, 1.475841199999877, 1.2860881999999947, 1.2231071000001066, 1.1308498000000782, 1.8195515999998406, 1.8954352000000654, 1.9007328000000143, 1.9608909999999469, 1.7002813999999944, 1.3415706000000682, 1.4680716999998822, 1.302954699999873, 1.1507424999999785]\n",
      "\n",
      "\n",
      "Iteration 16 \n",
      "Explore Rate 0.5 \n",
      "Time for Explore Rate [1.4322650000001431, 1.7031425000000127, 1.2830266999999367, 1.475841199999877, 1.2860881999999947, 1.2231071000001066, 1.1308498000000782, 1.8195515999998406, 1.8954352000000654, 1.9007328000000143, 1.9608909999999469, 1.7002813999999944, 1.3415706000000682, 1.4680716999998822, 1.302954699999873, 1.1507424999999785, 1.177947500000073]\n",
      "\n",
      "\n",
      "Iteration 17 \n",
      "Explore Rate 0.5 \n",
      "Time for Explore Rate [1.4322650000001431, 1.7031425000000127, 1.2830266999999367, 1.475841199999877, 1.2860881999999947, 1.2231071000001066, 1.1308498000000782, 1.8195515999998406, 1.8954352000000654, 1.9007328000000143, 1.9608909999999469, 1.7002813999999944, 1.3415706000000682, 1.4680716999998822, 1.302954699999873, 1.1507424999999785, 1.177947500000073, 1.7939268000000084]\n",
      "\n",
      "\n",
      "Iteration 18 \n",
      "Explore Rate 0.5 \n",
      "Time for Explore Rate [1.4322650000001431, 1.7031425000000127, 1.2830266999999367, 1.475841199999877, 1.2860881999999947, 1.2231071000001066, 1.1308498000000782, 1.8195515999998406, 1.8954352000000654, 1.9007328000000143, 1.9608909999999469, 1.7002813999999944, 1.3415706000000682, 1.4680716999998822, 1.302954699999873, 1.1507424999999785, 1.177947500000073, 1.7939268000000084, 1.796566700000085]\n",
      "\n",
      "\n",
      "Iteration 19 \n",
      "Explore Rate 0.5 \n",
      "Time for Explore Rate [1.4322650000001431, 1.7031425000000127, 1.2830266999999367, 1.475841199999877, 1.2860881999999947, 1.2231071000001066, 1.1308498000000782, 1.8195515999998406, 1.8954352000000654, 1.9007328000000143, 1.9608909999999469, 1.7002813999999944, 1.3415706000000682, 1.4680716999998822, 1.302954699999873, 1.1507424999999785, 1.177947500000073, 1.7939268000000084, 1.796566700000085, 1.931787199999917]\n",
      "\n",
      "\n",
      "Iteration 20 \n",
      "Explore Rate 0.5 \n",
      "Time for Explore Rate [1.4322650000001431, 1.7031425000000127, 1.2830266999999367, 1.475841199999877, 1.2860881999999947, 1.2231071000001066, 1.1308498000000782, 1.8195515999998406, 1.8954352000000654, 1.9007328000000143, 1.9608909999999469, 1.7002813999999944, 1.3415706000000682, 1.4680716999998822, 1.302954699999873, 1.1507424999999785, 1.177947500000073, 1.7939268000000084, 1.796566700000085, 1.931787199999917, 1.8072855999998865]\n",
      "\n",
      "\n",
      "Iteration 21 \n",
      "Explore Rate 0.5 \n",
      "Time for Explore Rate [1.4322650000001431, 1.7031425000000127, 1.2830266999999367, 1.475841199999877, 1.2860881999999947, 1.2231071000001066, 1.1308498000000782, 1.8195515999998406, 1.8954352000000654, 1.9007328000000143, 1.9608909999999469, 1.7002813999999944, 1.3415706000000682, 1.4680716999998822, 1.302954699999873, 1.1507424999999785, 1.177947500000073, 1.7939268000000084, 1.796566700000085, 1.931787199999917, 1.8072855999998865, 1.1974199999999655]\n",
      "\n",
      "\n",
      "Iteration 22 \n",
      "Explore Rate 0.5 \n",
      "Time for Explore Rate [1.4322650000001431, 1.7031425000000127, 1.2830266999999367, 1.475841199999877, 1.2860881999999947, 1.2231071000001066, 1.1308498000000782, 1.8195515999998406, 1.8954352000000654, 1.9007328000000143, 1.9608909999999469, 1.7002813999999944, 1.3415706000000682, 1.4680716999998822, 1.302954699999873, 1.1507424999999785, 1.177947500000073, 1.7939268000000084, 1.796566700000085, 1.931787199999917, 1.8072855999998865, 1.1974199999999655, 1.0673214000000826]\n",
      "\n",
      "\n",
      "Iteration 23 \n",
      "Explore Rate 0.5 \n",
      "Time for Explore Rate [1.4322650000001431, 1.7031425000000127, 1.2830266999999367, 1.475841199999877, 1.2860881999999947, 1.2231071000001066, 1.1308498000000782, 1.8195515999998406, 1.8954352000000654, 1.9007328000000143, 1.9608909999999469, 1.7002813999999944, 1.3415706000000682, 1.4680716999998822, 1.302954699999873, 1.1507424999999785, 1.177947500000073, 1.7939268000000084, 1.796566700000085, 1.931787199999917, 1.8072855999998865, 1.1974199999999655, 1.0673214000000826, 1.3642555999999786]\n",
      "\n",
      "\n",
      "Iteration 24 \n",
      "Explore Rate 0.5 \n",
      "Time for Explore Rate [1.4322650000001431, 1.7031425000000127, 1.2830266999999367, 1.475841199999877, 1.2860881999999947, 1.2231071000001066, 1.1308498000000782, 1.8195515999998406, 1.8954352000000654, 1.9007328000000143, 1.9608909999999469, 1.7002813999999944, 1.3415706000000682, 1.4680716999998822, 1.302954699999873, 1.1507424999999785, 1.177947500000073, 1.7939268000000084, 1.796566700000085, 1.931787199999917, 1.8072855999998865, 1.1974199999999655, 1.0673214000000826, 1.3642555999999786, 1.395275300000094]\n",
      "\n",
      "\n",
      "Iteration 25 \n",
      "Explore Rate 0.5 \n",
      "Time for Explore Rate [1.4322650000001431, 1.7031425000000127, 1.2830266999999367, 1.475841199999877, 1.2860881999999947, 1.2231071000001066, 1.1308498000000782, 1.8195515999998406, 1.8954352000000654, 1.9007328000000143, 1.9608909999999469, 1.7002813999999944, 1.3415706000000682, 1.4680716999998822, 1.302954699999873, 1.1507424999999785, 1.177947500000073, 1.7939268000000084, 1.796566700000085, 1.931787199999917, 1.8072855999998865, 1.1974199999999655, 1.0673214000000826, 1.3642555999999786, 1.395275300000094, 1.2238090999999258]\n",
      "\n",
      "\n"
     ]
    },
    {
     "name": "stdout",
     "output_type": "stream",
     "text": [
      "Iteration 26 \n",
      "Explore Rate 0.5 \n",
      "Time for Explore Rate [1.4322650000001431, 1.7031425000000127, 1.2830266999999367, 1.475841199999877, 1.2860881999999947, 1.2231071000001066, 1.1308498000000782, 1.8195515999998406, 1.8954352000000654, 1.9007328000000143, 1.9608909999999469, 1.7002813999999944, 1.3415706000000682, 1.4680716999998822, 1.302954699999873, 1.1507424999999785, 1.177947500000073, 1.7939268000000084, 1.796566700000085, 1.931787199999917, 1.8072855999998865, 1.1974199999999655, 1.0673214000000826, 1.3642555999999786, 1.395275300000094, 1.2238090999999258, 1.1493882999998277]\n",
      "\n",
      "\n",
      "Iteration 27 \n",
      "Explore Rate 0.5 \n",
      "Time for Explore Rate [1.4322650000001431, 1.7031425000000127, 1.2830266999999367, 1.475841199999877, 1.2860881999999947, 1.2231071000001066, 1.1308498000000782, 1.8195515999998406, 1.8954352000000654, 1.9007328000000143, 1.9608909999999469, 1.7002813999999944, 1.3415706000000682, 1.4680716999998822, 1.302954699999873, 1.1507424999999785, 1.177947500000073, 1.7939268000000084, 1.796566700000085, 1.931787199999917, 1.8072855999998865, 1.1974199999999655, 1.0673214000000826, 1.3642555999999786, 1.395275300000094, 1.2238090999999258, 1.1493882999998277, 1.8210476999997809]\n",
      "\n",
      "\n",
      "Iteration 28 \n",
      "Explore Rate 0.5 \n",
      "Time for Explore Rate [1.4322650000001431, 1.7031425000000127, 1.2830266999999367, 1.475841199999877, 1.2860881999999947, 1.2231071000001066, 1.1308498000000782, 1.8195515999998406, 1.8954352000000654, 1.9007328000000143, 1.9608909999999469, 1.7002813999999944, 1.3415706000000682, 1.4680716999998822, 1.302954699999873, 1.1507424999999785, 1.177947500000073, 1.7939268000000084, 1.796566700000085, 1.931787199999917, 1.8072855999998865, 1.1974199999999655, 1.0673214000000826, 1.3642555999999786, 1.395275300000094, 1.2238090999999258, 1.1493882999998277, 1.8210476999997809, 1.9130186999998386]\n",
      "\n",
      "\n",
      "Iteration 29 \n",
      "Explore Rate 0.5 \n",
      "Time for Explore Rate [1.4322650000001431, 1.7031425000000127, 1.2830266999999367, 1.475841199999877, 1.2860881999999947, 1.2231071000001066, 1.1308498000000782, 1.8195515999998406, 1.8954352000000654, 1.9007328000000143, 1.9608909999999469, 1.7002813999999944, 1.3415706000000682, 1.4680716999998822, 1.302954699999873, 1.1507424999999785, 1.177947500000073, 1.7939268000000084, 1.796566700000085, 1.931787199999917, 1.8072855999998865, 1.1974199999999655, 1.0673214000000826, 1.3642555999999786, 1.395275300000094, 1.2238090999999258, 1.1493882999998277, 1.8210476999997809, 1.9130186999998386, 1.8204854999999043]\n",
      "\n",
      "\n",
      "Iteration 30 \n",
      "Explore Rate 0.5 \n",
      "Time for Explore Rate [1.4322650000001431, 1.7031425000000127, 1.2830266999999367, 1.475841199999877, 1.2860881999999947, 1.2231071000001066, 1.1308498000000782, 1.8195515999998406, 1.8954352000000654, 1.9007328000000143, 1.9608909999999469, 1.7002813999999944, 1.3415706000000682, 1.4680716999998822, 1.302954699999873, 1.1507424999999785, 1.177947500000073, 1.7939268000000084, 1.796566700000085, 1.931787199999917, 1.8072855999998865, 1.1974199999999655, 1.0673214000000826, 1.3642555999999786, 1.395275300000094, 1.2238090999999258, 1.1493882999998277, 1.8210476999997809, 1.9130186999998386, 1.8204854999999043, 1.6221797999999126]\n",
      "\n",
      "\n",
      "Iteration 31 \n",
      "Explore Rate 0.5 \n",
      "Time for Explore Rate [1.4322650000001431, 1.7031425000000127, 1.2830266999999367, 1.475841199999877, 1.2860881999999947, 1.2231071000001066, 1.1308498000000782, 1.8195515999998406, 1.8954352000000654, 1.9007328000000143, 1.9608909999999469, 1.7002813999999944, 1.3415706000000682, 1.4680716999998822, 1.302954699999873, 1.1507424999999785, 1.177947500000073, 1.7939268000000084, 1.796566700000085, 1.931787199999917, 1.8072855999998865, 1.1974199999999655, 1.0673214000000826, 1.3642555999999786, 1.395275300000094, 1.2238090999999258, 1.1493882999998277, 1.8210476999997809, 1.9130186999998386, 1.8204854999999043, 1.6221797999999126, 1.3492310999999972]\n",
      "\n",
      "\n",
      "Iteration 32 \n",
      "Explore Rate 0.5 \n",
      "Time for Explore Rate [1.4322650000001431, 1.7031425000000127, 1.2830266999999367, 1.475841199999877, 1.2860881999999947, 1.2231071000001066, 1.1308498000000782, 1.8195515999998406, 1.8954352000000654, 1.9007328000000143, 1.9608909999999469, 1.7002813999999944, 1.3415706000000682, 1.4680716999998822, 1.302954699999873, 1.1507424999999785, 1.177947500000073, 1.7939268000000084, 1.796566700000085, 1.931787199999917, 1.8072855999998865, 1.1974199999999655, 1.0673214000000826, 1.3642555999999786, 1.395275300000094, 1.2238090999999258, 1.1493882999998277, 1.8210476999997809, 1.9130186999998386, 1.8204854999999043, 1.6221797999999126, 1.3492310999999972, 1.1117538999999397]\n",
      "\n",
      "\n",
      "Iteration 33 \n",
      "Explore Rate 0.5 \n",
      "Time for Explore Rate [1.4322650000001431, 1.7031425000000127, 1.2830266999999367, 1.475841199999877, 1.2860881999999947, 1.2231071000001066, 1.1308498000000782, 1.8195515999998406, 1.8954352000000654, 1.9007328000000143, 1.9608909999999469, 1.7002813999999944, 1.3415706000000682, 1.4680716999998822, 1.302954699999873, 1.1507424999999785, 1.177947500000073, 1.7939268000000084, 1.796566700000085, 1.931787199999917, 1.8072855999998865, 1.1974199999999655, 1.0673214000000826, 1.3642555999999786, 1.395275300000094, 1.2238090999999258, 1.1493882999998277, 1.8210476999997809, 1.9130186999998386, 1.8204854999999043, 1.6221797999999126, 1.3492310999999972, 1.1117538999999397, 1.1775755999999546]\n",
      "\n",
      "\n",
      "Iteration 34 \n",
      "Explore Rate 0.5 \n",
      "Time for Explore Rate [1.4322650000001431, 1.7031425000000127, 1.2830266999999367, 1.475841199999877, 1.2860881999999947, 1.2231071000001066, 1.1308498000000782, 1.8195515999998406, 1.8954352000000654, 1.9007328000000143, 1.9608909999999469, 1.7002813999999944, 1.3415706000000682, 1.4680716999998822, 1.302954699999873, 1.1507424999999785, 1.177947500000073, 1.7939268000000084, 1.796566700000085, 1.931787199999917, 1.8072855999998865, 1.1974199999999655, 1.0673214000000826, 1.3642555999999786, 1.395275300000094, 1.2238090999999258, 1.1493882999998277, 1.8210476999997809, 1.9130186999998386, 1.8204854999999043, 1.6221797999999126, 1.3492310999999972, 1.1117538999999397, 1.1775755999999546, 1.5050633999999263]\n",
      "\n",
      "\n",
      "Iteration 35 \n",
      "Explore Rate 0.5 \n",
      "Time for Explore Rate [1.4322650000001431, 1.7031425000000127, 1.2830266999999367, 1.475841199999877, 1.2860881999999947, 1.2231071000001066, 1.1308498000000782, 1.8195515999998406, 1.8954352000000654, 1.9007328000000143, 1.9608909999999469, 1.7002813999999944, 1.3415706000000682, 1.4680716999998822, 1.302954699999873, 1.1507424999999785, 1.177947500000073, 1.7939268000000084, 1.796566700000085, 1.931787199999917, 1.8072855999998865, 1.1974199999999655, 1.0673214000000826, 1.3642555999999786, 1.395275300000094, 1.2238090999999258, 1.1493882999998277, 1.8210476999997809, 1.9130186999998386, 1.8204854999999043, 1.6221797999999126, 1.3492310999999972, 1.1117538999999397, 1.1775755999999546, 1.5050633999999263, 1.5716687999999976]\n",
      "\n",
      "\n",
      "Iteration 36 \n",
      "Explore Rate 0.5 \n",
      "Time for Explore Rate [1.4322650000001431, 1.7031425000000127, 1.2830266999999367, 1.475841199999877, 1.2860881999999947, 1.2231071000001066, 1.1308498000000782, 1.8195515999998406, 1.8954352000000654, 1.9007328000000143, 1.9608909999999469, 1.7002813999999944, 1.3415706000000682, 1.4680716999998822, 1.302954699999873, 1.1507424999999785, 1.177947500000073, 1.7939268000000084, 1.796566700000085, 1.931787199999917, 1.8072855999998865, 1.1974199999999655, 1.0673214000000826, 1.3642555999999786, 1.395275300000094, 1.2238090999999258, 1.1493882999998277, 1.8210476999997809, 1.9130186999998386, 1.8204854999999043, 1.6221797999999126, 1.3492310999999972, 1.1117538999999397, 1.1775755999999546, 1.5050633999999263, 1.5716687999999976, 1.2176255000001674]\n",
      "\n",
      "\n",
      "Iteration 37 \n",
      "Explore Rate 0.5 \n",
      "Time for Explore Rate [1.4322650000001431, 1.7031425000000127, 1.2830266999999367, 1.475841199999877, 1.2860881999999947, 1.2231071000001066, 1.1308498000000782, 1.8195515999998406, 1.8954352000000654, 1.9007328000000143, 1.9608909999999469, 1.7002813999999944, 1.3415706000000682, 1.4680716999998822, 1.302954699999873, 1.1507424999999785, 1.177947500000073, 1.7939268000000084, 1.796566700000085, 1.931787199999917, 1.8072855999998865, 1.1974199999999655, 1.0673214000000826, 1.3642555999999786, 1.395275300000094, 1.2238090999999258, 1.1493882999998277, 1.8210476999997809, 1.9130186999998386, 1.8204854999999043, 1.6221797999999126, 1.3492310999999972, 1.1117538999999397, 1.1775755999999546, 1.5050633999999263, 1.5716687999999976, 1.2176255000001674, 1.3007764999999836]\n",
      "\n",
      "\n"
     ]
    },
    {
     "name": "stdout",
     "output_type": "stream",
     "text": [
      "Iteration 38 \n",
      "Explore Rate 0.5 \n",
      "Time for Explore Rate [1.4322650000001431, 1.7031425000000127, 1.2830266999999367, 1.475841199999877, 1.2860881999999947, 1.2231071000001066, 1.1308498000000782, 1.8195515999998406, 1.8954352000000654, 1.9007328000000143, 1.9608909999999469, 1.7002813999999944, 1.3415706000000682, 1.4680716999998822, 1.302954699999873, 1.1507424999999785, 1.177947500000073, 1.7939268000000084, 1.796566700000085, 1.931787199999917, 1.8072855999998865, 1.1974199999999655, 1.0673214000000826, 1.3642555999999786, 1.395275300000094, 1.2238090999999258, 1.1493882999998277, 1.8210476999997809, 1.9130186999998386, 1.8204854999999043, 1.6221797999999126, 1.3492310999999972, 1.1117538999999397, 1.1775755999999546, 1.5050633999999263, 1.5716687999999976, 1.2176255000001674, 1.3007764999999836, 1.2311878000000434]\n",
      "\n",
      "\n",
      "Iteration 39 \n",
      "Explore Rate 0.5 \n",
      "Time for Explore Rate [1.4322650000001431, 1.7031425000000127, 1.2830266999999367, 1.475841199999877, 1.2860881999999947, 1.2231071000001066, 1.1308498000000782, 1.8195515999998406, 1.8954352000000654, 1.9007328000000143, 1.9608909999999469, 1.7002813999999944, 1.3415706000000682, 1.4680716999998822, 1.302954699999873, 1.1507424999999785, 1.177947500000073, 1.7939268000000084, 1.796566700000085, 1.931787199999917, 1.8072855999998865, 1.1974199999999655, 1.0673214000000826, 1.3642555999999786, 1.395275300000094, 1.2238090999999258, 1.1493882999998277, 1.8210476999997809, 1.9130186999998386, 1.8204854999999043, 1.6221797999999126, 1.3492310999999972, 1.1117538999999397, 1.1775755999999546, 1.5050633999999263, 1.5716687999999976, 1.2176255000001674, 1.3007764999999836, 1.2311878000000434, 1.0881537000000208]\n",
      "\n",
      "\n",
      "Iteration 40 \n",
      "Explore Rate 0.5 \n",
      "Time for Explore Rate [1.4322650000001431, 1.7031425000000127, 1.2830266999999367, 1.475841199999877, 1.2860881999999947, 1.2231071000001066, 1.1308498000000782, 1.8195515999998406, 1.8954352000000654, 1.9007328000000143, 1.9608909999999469, 1.7002813999999944, 1.3415706000000682, 1.4680716999998822, 1.302954699999873, 1.1507424999999785, 1.177947500000073, 1.7939268000000084, 1.796566700000085, 1.931787199999917, 1.8072855999998865, 1.1974199999999655, 1.0673214000000826, 1.3642555999999786, 1.395275300000094, 1.2238090999999258, 1.1493882999998277, 1.8210476999997809, 1.9130186999998386, 1.8204854999999043, 1.6221797999999126, 1.3492310999999972, 1.1117538999999397, 1.1775755999999546, 1.5050633999999263, 1.5716687999999976, 1.2176255000001674, 1.3007764999999836, 1.2311878000000434, 1.0881537000000208, 1.5200784000001022]\n",
      "\n",
      "\n",
      "Iteration 41 \n",
      "Explore Rate 0.5 \n",
      "Time for Explore Rate [1.4322650000001431, 1.7031425000000127, 1.2830266999999367, 1.475841199999877, 1.2860881999999947, 1.2231071000001066, 1.1308498000000782, 1.8195515999998406, 1.8954352000000654, 1.9007328000000143, 1.9608909999999469, 1.7002813999999944, 1.3415706000000682, 1.4680716999998822, 1.302954699999873, 1.1507424999999785, 1.177947500000073, 1.7939268000000084, 1.796566700000085, 1.931787199999917, 1.8072855999998865, 1.1974199999999655, 1.0673214000000826, 1.3642555999999786, 1.395275300000094, 1.2238090999999258, 1.1493882999998277, 1.8210476999997809, 1.9130186999998386, 1.8204854999999043, 1.6221797999999126, 1.3492310999999972, 1.1117538999999397, 1.1775755999999546, 1.5050633999999263, 1.5716687999999976, 1.2176255000001674, 1.3007764999999836, 1.2311878000000434, 1.0881537000000208, 1.5200784000001022, 1.8118952999998328]\n",
      "\n",
      "\n",
      "Iteration 42 \n",
      "Explore Rate 0.5 \n",
      "Time for Explore Rate [1.4322650000001431, 1.7031425000000127, 1.2830266999999367, 1.475841199999877, 1.2860881999999947, 1.2231071000001066, 1.1308498000000782, 1.8195515999998406, 1.8954352000000654, 1.9007328000000143, 1.9608909999999469, 1.7002813999999944, 1.3415706000000682, 1.4680716999998822, 1.302954699999873, 1.1507424999999785, 1.177947500000073, 1.7939268000000084, 1.796566700000085, 1.931787199999917, 1.8072855999998865, 1.1974199999999655, 1.0673214000000826, 1.3642555999999786, 1.395275300000094, 1.2238090999999258, 1.1493882999998277, 1.8210476999997809, 1.9130186999998386, 1.8204854999999043, 1.6221797999999126, 1.3492310999999972, 1.1117538999999397, 1.1775755999999546, 1.5050633999999263, 1.5716687999999976, 1.2176255000001674, 1.3007764999999836, 1.2311878000000434, 1.0881537000000208, 1.5200784000001022, 1.8118952999998328, 1.686236000000008]\n",
      "\n",
      "\n",
      "Iteration 43 \n",
      "Explore Rate 0.5 \n",
      "Time for Explore Rate [1.4322650000001431, 1.7031425000000127, 1.2830266999999367, 1.475841199999877, 1.2860881999999947, 1.2231071000001066, 1.1308498000000782, 1.8195515999998406, 1.8954352000000654, 1.9007328000000143, 1.9608909999999469, 1.7002813999999944, 1.3415706000000682, 1.4680716999998822, 1.302954699999873, 1.1507424999999785, 1.177947500000073, 1.7939268000000084, 1.796566700000085, 1.931787199999917, 1.8072855999998865, 1.1974199999999655, 1.0673214000000826, 1.3642555999999786, 1.395275300000094, 1.2238090999999258, 1.1493882999998277, 1.8210476999997809, 1.9130186999998386, 1.8204854999999043, 1.6221797999999126, 1.3492310999999972, 1.1117538999999397, 1.1775755999999546, 1.5050633999999263, 1.5716687999999976, 1.2176255000001674, 1.3007764999999836, 1.2311878000000434, 1.0881537000000208, 1.5200784000001022, 1.8118952999998328, 1.686236000000008, 1.94693970000003]\n",
      "\n",
      "\n",
      "Iteration 44 \n",
      "Explore Rate 0.5 \n",
      "Time for Explore Rate [1.4322650000001431, 1.7031425000000127, 1.2830266999999367, 1.475841199999877, 1.2860881999999947, 1.2231071000001066, 1.1308498000000782, 1.8195515999998406, 1.8954352000000654, 1.9007328000000143, 1.9608909999999469, 1.7002813999999944, 1.3415706000000682, 1.4680716999998822, 1.302954699999873, 1.1507424999999785, 1.177947500000073, 1.7939268000000084, 1.796566700000085, 1.931787199999917, 1.8072855999998865, 1.1974199999999655, 1.0673214000000826, 1.3642555999999786, 1.395275300000094, 1.2238090999999258, 1.1493882999998277, 1.8210476999997809, 1.9130186999998386, 1.8204854999999043, 1.6221797999999126, 1.3492310999999972, 1.1117538999999397, 1.1775755999999546, 1.5050633999999263, 1.5716687999999976, 1.2176255000001674, 1.3007764999999836, 1.2311878000000434, 1.0881537000000208, 1.5200784000001022, 1.8118952999998328, 1.686236000000008, 1.94693970000003, 1.8569461999998111]\n",
      "\n",
      "\n",
      "Iteration 45 \n",
      "Explore Rate 0.5 \n",
      "Time for Explore Rate [1.4322650000001431, 1.7031425000000127, 1.2830266999999367, 1.475841199999877, 1.2860881999999947, 1.2231071000001066, 1.1308498000000782, 1.8195515999998406, 1.8954352000000654, 1.9007328000000143, 1.9608909999999469, 1.7002813999999944, 1.3415706000000682, 1.4680716999998822, 1.302954699999873, 1.1507424999999785, 1.177947500000073, 1.7939268000000084, 1.796566700000085, 1.931787199999917, 1.8072855999998865, 1.1974199999999655, 1.0673214000000826, 1.3642555999999786, 1.395275300000094, 1.2238090999999258, 1.1493882999998277, 1.8210476999997809, 1.9130186999998386, 1.8204854999999043, 1.6221797999999126, 1.3492310999999972, 1.1117538999999397, 1.1775755999999546, 1.5050633999999263, 1.5716687999999976, 1.2176255000001674, 1.3007764999999836, 1.2311878000000434, 1.0881537000000208, 1.5200784000001022, 1.8118952999998328, 1.686236000000008, 1.94693970000003, 1.8569461999998111, 2.129688899999792]\n",
      "\n",
      "\n",
      "Iteration 46 \n",
      "Explore Rate 0.5 \n",
      "Time for Explore Rate [1.4322650000001431, 1.7031425000000127, 1.2830266999999367, 1.475841199999877, 1.2860881999999947, 1.2231071000001066, 1.1308498000000782, 1.8195515999998406, 1.8954352000000654, 1.9007328000000143, 1.9608909999999469, 1.7002813999999944, 1.3415706000000682, 1.4680716999998822, 1.302954699999873, 1.1507424999999785, 1.177947500000073, 1.7939268000000084, 1.796566700000085, 1.931787199999917, 1.8072855999998865, 1.1974199999999655, 1.0673214000000826, 1.3642555999999786, 1.395275300000094, 1.2238090999999258, 1.1493882999998277, 1.8210476999997809, 1.9130186999998386, 1.8204854999999043, 1.6221797999999126, 1.3492310999999972, 1.1117538999999397, 1.1775755999999546, 1.5050633999999263, 1.5716687999999976, 1.2176255000001674, 1.3007764999999836, 1.2311878000000434, 1.0881537000000208, 1.5200784000001022, 1.8118952999998328, 1.686236000000008, 1.94693970000003, 1.8569461999998111, 2.129688899999792, 1.223319100000026]\n",
      "\n",
      "\n",
      "Iteration 47 \n",
      "Explore Rate 0.5 \n",
      "Time for Explore Rate [1.4322650000001431, 1.7031425000000127, 1.2830266999999367, 1.475841199999877, 1.2860881999999947, 1.2231071000001066, 1.1308498000000782, 1.8195515999998406, 1.8954352000000654, 1.9007328000000143, 1.9608909999999469, 1.7002813999999944, 1.3415706000000682, 1.4680716999998822, 1.302954699999873, 1.1507424999999785, 1.177947500000073, 1.7939268000000084, 1.796566700000085, 1.931787199999917, 1.8072855999998865, 1.1974199999999655, 1.0673214000000826, 1.3642555999999786, 1.395275300000094, 1.2238090999999258, 1.1493882999998277, 1.8210476999997809, 1.9130186999998386, 1.8204854999999043, 1.6221797999999126, 1.3492310999999972, 1.1117538999999397, 1.1775755999999546, 1.5050633999999263, 1.5716687999999976, 1.2176255000001674, 1.3007764999999836, 1.2311878000000434, 1.0881537000000208, 1.5200784000001022, 1.8118952999998328, 1.686236000000008, 1.94693970000003, 1.8569461999998111, 2.129688899999792, 1.223319100000026, 1.2080493000000843]\n",
      "\n",
      "\n"
     ]
    },
    {
     "name": "stdout",
     "output_type": "stream",
     "text": [
      "Iteration 48 \n",
      "Explore Rate 0.5 \n",
      "Time for Explore Rate [1.4322650000001431, 1.7031425000000127, 1.2830266999999367, 1.475841199999877, 1.2860881999999947, 1.2231071000001066, 1.1308498000000782, 1.8195515999998406, 1.8954352000000654, 1.9007328000000143, 1.9608909999999469, 1.7002813999999944, 1.3415706000000682, 1.4680716999998822, 1.302954699999873, 1.1507424999999785, 1.177947500000073, 1.7939268000000084, 1.796566700000085, 1.931787199999917, 1.8072855999998865, 1.1974199999999655, 1.0673214000000826, 1.3642555999999786, 1.395275300000094, 1.2238090999999258, 1.1493882999998277, 1.8210476999997809, 1.9130186999998386, 1.8204854999999043, 1.6221797999999126, 1.3492310999999972, 1.1117538999999397, 1.1775755999999546, 1.5050633999999263, 1.5716687999999976, 1.2176255000001674, 1.3007764999999836, 1.2311878000000434, 1.0881537000000208, 1.5200784000001022, 1.8118952999998328, 1.686236000000008, 1.94693970000003, 1.8569461999998111, 2.129688899999792, 1.223319100000026, 1.2080493000000843, 1.1005256999999347]\n",
      "\n",
      "\n",
      "Iteration 49 \n",
      "Explore Rate 0.5 \n",
      "Time for Explore Rate [1.4322650000001431, 1.7031425000000127, 1.2830266999999367, 1.475841199999877, 1.2860881999999947, 1.2231071000001066, 1.1308498000000782, 1.8195515999998406, 1.8954352000000654, 1.9007328000000143, 1.9608909999999469, 1.7002813999999944, 1.3415706000000682, 1.4680716999998822, 1.302954699999873, 1.1507424999999785, 1.177947500000073, 1.7939268000000084, 1.796566700000085, 1.931787199999917, 1.8072855999998865, 1.1974199999999655, 1.0673214000000826, 1.3642555999999786, 1.395275300000094, 1.2238090999999258, 1.1493882999998277, 1.8210476999997809, 1.9130186999998386, 1.8204854999999043, 1.6221797999999126, 1.3492310999999972, 1.1117538999999397, 1.1775755999999546, 1.5050633999999263, 1.5716687999999976, 1.2176255000001674, 1.3007764999999836, 1.2311878000000434, 1.0881537000000208, 1.5200784000001022, 1.8118952999998328, 1.686236000000008, 1.94693970000003, 1.8569461999998111, 2.129688899999792, 1.223319100000026, 1.2080493000000843, 1.1005256999999347, 1.0783950999998524]\n",
      "\n",
      "\n",
      "Iteration 50 \n",
      "Explore Rate 0.5 \n",
      "Time for Explore Rate [1.4322650000001431, 1.7031425000000127, 1.2830266999999367, 1.475841199999877, 1.2860881999999947, 1.2231071000001066, 1.1308498000000782, 1.8195515999998406, 1.8954352000000654, 1.9007328000000143, 1.9608909999999469, 1.7002813999999944, 1.3415706000000682, 1.4680716999998822, 1.302954699999873, 1.1507424999999785, 1.177947500000073, 1.7939268000000084, 1.796566700000085, 1.931787199999917, 1.8072855999998865, 1.1974199999999655, 1.0673214000000826, 1.3642555999999786, 1.395275300000094, 1.2238090999999258, 1.1493882999998277, 1.8210476999997809, 1.9130186999998386, 1.8204854999999043, 1.6221797999999126, 1.3492310999999972, 1.1117538999999397, 1.1775755999999546, 1.5050633999999263, 1.5716687999999976, 1.2176255000001674, 1.3007764999999836, 1.2311878000000434, 1.0881537000000208, 1.5200784000001022, 1.8118952999998328, 1.686236000000008, 1.94693970000003, 1.8569461999998111, 2.129688899999792, 1.223319100000026, 1.2080493000000843, 1.1005256999999347, 1.0783950999998524, 1.5255415999999968]\n",
      "\n",
      "\n",
      "Iteration 51 \n",
      "Explore Rate 0.5 \n",
      "Time for Explore Rate [1.4322650000001431, 1.7031425000000127, 1.2830266999999367, 1.475841199999877, 1.2860881999999947, 1.2231071000001066, 1.1308498000000782, 1.8195515999998406, 1.8954352000000654, 1.9007328000000143, 1.9608909999999469, 1.7002813999999944, 1.3415706000000682, 1.4680716999998822, 1.302954699999873, 1.1507424999999785, 1.177947500000073, 1.7939268000000084, 1.796566700000085, 1.931787199999917, 1.8072855999998865, 1.1974199999999655, 1.0673214000000826, 1.3642555999999786, 1.395275300000094, 1.2238090999999258, 1.1493882999998277, 1.8210476999997809, 1.9130186999998386, 1.8204854999999043, 1.6221797999999126, 1.3492310999999972, 1.1117538999999397, 1.1775755999999546, 1.5050633999999263, 1.5716687999999976, 1.2176255000001674, 1.3007764999999836, 1.2311878000000434, 1.0881537000000208, 1.5200784000001022, 1.8118952999998328, 1.686236000000008, 1.94693970000003, 1.8569461999998111, 2.129688899999792, 1.223319100000026, 1.2080493000000843, 1.1005256999999347, 1.0783950999998524, 1.5255415999999968, 1.843106399999897]\n",
      "\n",
      "\n",
      "Iteration 52 \n",
      "Explore Rate 0.5 \n",
      "Time for Explore Rate [1.4322650000001431, 1.7031425000000127, 1.2830266999999367, 1.475841199999877, 1.2860881999999947, 1.2231071000001066, 1.1308498000000782, 1.8195515999998406, 1.8954352000000654, 1.9007328000000143, 1.9608909999999469, 1.7002813999999944, 1.3415706000000682, 1.4680716999998822, 1.302954699999873, 1.1507424999999785, 1.177947500000073, 1.7939268000000084, 1.796566700000085, 1.931787199999917, 1.8072855999998865, 1.1974199999999655, 1.0673214000000826, 1.3642555999999786, 1.395275300000094, 1.2238090999999258, 1.1493882999998277, 1.8210476999997809, 1.9130186999998386, 1.8204854999999043, 1.6221797999999126, 1.3492310999999972, 1.1117538999999397, 1.1775755999999546, 1.5050633999999263, 1.5716687999999976, 1.2176255000001674, 1.3007764999999836, 1.2311878000000434, 1.0881537000000208, 1.5200784000001022, 1.8118952999998328, 1.686236000000008, 1.94693970000003, 1.8569461999998111, 2.129688899999792, 1.223319100000026, 1.2080493000000843, 1.1005256999999347, 1.0783950999998524, 1.5255415999999968, 1.843106399999897, 1.7864458999999897]\n",
      "\n",
      "\n",
      "Iteration 53 \n",
      "Explore Rate 0.5 \n",
      "Time for Explore Rate [1.4322650000001431, 1.7031425000000127, 1.2830266999999367, 1.475841199999877, 1.2860881999999947, 1.2231071000001066, 1.1308498000000782, 1.8195515999998406, 1.8954352000000654, 1.9007328000000143, 1.9608909999999469, 1.7002813999999944, 1.3415706000000682, 1.4680716999998822, 1.302954699999873, 1.1507424999999785, 1.177947500000073, 1.7939268000000084, 1.796566700000085, 1.931787199999917, 1.8072855999998865, 1.1974199999999655, 1.0673214000000826, 1.3642555999999786, 1.395275300000094, 1.2238090999999258, 1.1493882999998277, 1.8210476999997809, 1.9130186999998386, 1.8204854999999043, 1.6221797999999126, 1.3492310999999972, 1.1117538999999397, 1.1775755999999546, 1.5050633999999263, 1.5716687999999976, 1.2176255000001674, 1.3007764999999836, 1.2311878000000434, 1.0881537000000208, 1.5200784000001022, 1.8118952999998328, 1.686236000000008, 1.94693970000003, 1.8569461999998111, 2.129688899999792, 1.223319100000026, 1.2080493000000843, 1.1005256999999347, 1.0783950999998524, 1.5255415999999968, 1.843106399999897, 1.7864458999999897, 1.7792993999998998]\n",
      "\n",
      "\n",
      "Iteration 54 \n",
      "Explore Rate 0.5 \n",
      "Time for Explore Rate [1.4322650000001431, 1.7031425000000127, 1.2830266999999367, 1.475841199999877, 1.2860881999999947, 1.2231071000001066, 1.1308498000000782, 1.8195515999998406, 1.8954352000000654, 1.9007328000000143, 1.9608909999999469, 1.7002813999999944, 1.3415706000000682, 1.4680716999998822, 1.302954699999873, 1.1507424999999785, 1.177947500000073, 1.7939268000000084, 1.796566700000085, 1.931787199999917, 1.8072855999998865, 1.1974199999999655, 1.0673214000000826, 1.3642555999999786, 1.395275300000094, 1.2238090999999258, 1.1493882999998277, 1.8210476999997809, 1.9130186999998386, 1.8204854999999043, 1.6221797999999126, 1.3492310999999972, 1.1117538999999397, 1.1775755999999546, 1.5050633999999263, 1.5716687999999976, 1.2176255000001674, 1.3007764999999836, 1.2311878000000434, 1.0881537000000208, 1.5200784000001022, 1.8118952999998328, 1.686236000000008, 1.94693970000003, 1.8569461999998111, 2.129688899999792, 1.223319100000026, 1.2080493000000843, 1.1005256999999347, 1.0783950999998524, 1.5255415999999968, 1.843106399999897, 1.7864458999999897, 1.7792993999998998, 2.036510700000008]\n",
      "\n",
      "\n",
      "Iteration 55 \n",
      "Explore Rate 0.5 \n",
      "Time for Explore Rate [1.4322650000001431, 1.7031425000000127, 1.2830266999999367, 1.475841199999877, 1.2860881999999947, 1.2231071000001066, 1.1308498000000782, 1.8195515999998406, 1.8954352000000654, 1.9007328000000143, 1.9608909999999469, 1.7002813999999944, 1.3415706000000682, 1.4680716999998822, 1.302954699999873, 1.1507424999999785, 1.177947500000073, 1.7939268000000084, 1.796566700000085, 1.931787199999917, 1.8072855999998865, 1.1974199999999655, 1.0673214000000826, 1.3642555999999786, 1.395275300000094, 1.2238090999999258, 1.1493882999998277, 1.8210476999997809, 1.9130186999998386, 1.8204854999999043, 1.6221797999999126, 1.3492310999999972, 1.1117538999999397, 1.1775755999999546, 1.5050633999999263, 1.5716687999999976, 1.2176255000001674, 1.3007764999999836, 1.2311878000000434, 1.0881537000000208, 1.5200784000001022, 1.8118952999998328, 1.686236000000008, 1.94693970000003, 1.8569461999998111, 2.129688899999792, 1.223319100000026, 1.2080493000000843, 1.1005256999999347, 1.0783950999998524, 1.5255415999999968, 1.843106399999897, 1.7864458999999897, 1.7792993999998998, 2.036510700000008, 1.3141114999998535]\n",
      "\n",
      "\n"
     ]
    },
    {
     "name": "stdout",
     "output_type": "stream",
     "text": [
      "Iteration 56 \n",
      "Explore Rate 0.5 \n",
      "Time for Explore Rate [1.4322650000001431, 1.7031425000000127, 1.2830266999999367, 1.475841199999877, 1.2860881999999947, 1.2231071000001066, 1.1308498000000782, 1.8195515999998406, 1.8954352000000654, 1.9007328000000143, 1.9608909999999469, 1.7002813999999944, 1.3415706000000682, 1.4680716999998822, 1.302954699999873, 1.1507424999999785, 1.177947500000073, 1.7939268000000084, 1.796566700000085, 1.931787199999917, 1.8072855999998865, 1.1974199999999655, 1.0673214000000826, 1.3642555999999786, 1.395275300000094, 1.2238090999999258, 1.1493882999998277, 1.8210476999997809, 1.9130186999998386, 1.8204854999999043, 1.6221797999999126, 1.3492310999999972, 1.1117538999999397, 1.1775755999999546, 1.5050633999999263, 1.5716687999999976, 1.2176255000001674, 1.3007764999999836, 1.2311878000000434, 1.0881537000000208, 1.5200784000001022, 1.8118952999998328, 1.686236000000008, 1.94693970000003, 1.8569461999998111, 2.129688899999792, 1.223319100000026, 1.2080493000000843, 1.1005256999999347, 1.0783950999998524, 1.5255415999999968, 1.843106399999897, 1.7864458999999897, 1.7792993999998998, 2.036510700000008, 1.3141114999998535, 1.381196399999908]\n",
      "\n",
      "\n",
      "Iteration 57 \n",
      "Explore Rate 0.5 \n",
      "Time for Explore Rate [1.4322650000001431, 1.7031425000000127, 1.2830266999999367, 1.475841199999877, 1.2860881999999947, 1.2231071000001066, 1.1308498000000782, 1.8195515999998406, 1.8954352000000654, 1.9007328000000143, 1.9608909999999469, 1.7002813999999944, 1.3415706000000682, 1.4680716999998822, 1.302954699999873, 1.1507424999999785, 1.177947500000073, 1.7939268000000084, 1.796566700000085, 1.931787199999917, 1.8072855999998865, 1.1974199999999655, 1.0673214000000826, 1.3642555999999786, 1.395275300000094, 1.2238090999999258, 1.1493882999998277, 1.8210476999997809, 1.9130186999998386, 1.8204854999999043, 1.6221797999999126, 1.3492310999999972, 1.1117538999999397, 1.1775755999999546, 1.5050633999999263, 1.5716687999999976, 1.2176255000001674, 1.3007764999999836, 1.2311878000000434, 1.0881537000000208, 1.5200784000001022, 1.8118952999998328, 1.686236000000008, 1.94693970000003, 1.8569461999998111, 2.129688899999792, 1.223319100000026, 1.2080493000000843, 1.1005256999999347, 1.0783950999998524, 1.5255415999999968, 1.843106399999897, 1.7864458999999897, 1.7792993999998998, 2.036510700000008, 1.3141114999998535, 1.381196399999908, 1.2392222000000856]\n",
      "\n",
      "\n",
      "Iteration 58 \n",
      "Explore Rate 0.5 \n",
      "Time for Explore Rate [1.4322650000001431, 1.7031425000000127, 1.2830266999999367, 1.475841199999877, 1.2860881999999947, 1.2231071000001066, 1.1308498000000782, 1.8195515999998406, 1.8954352000000654, 1.9007328000000143, 1.9608909999999469, 1.7002813999999944, 1.3415706000000682, 1.4680716999998822, 1.302954699999873, 1.1507424999999785, 1.177947500000073, 1.7939268000000084, 1.796566700000085, 1.931787199999917, 1.8072855999998865, 1.1974199999999655, 1.0673214000000826, 1.3642555999999786, 1.395275300000094, 1.2238090999999258, 1.1493882999998277, 1.8210476999997809, 1.9130186999998386, 1.8204854999999043, 1.6221797999999126, 1.3492310999999972, 1.1117538999999397, 1.1775755999999546, 1.5050633999999263, 1.5716687999999976, 1.2176255000001674, 1.3007764999999836, 1.2311878000000434, 1.0881537000000208, 1.5200784000001022, 1.8118952999998328, 1.686236000000008, 1.94693970000003, 1.8569461999998111, 2.129688899999792, 1.223319100000026, 1.2080493000000843, 1.1005256999999347, 1.0783950999998524, 1.5255415999999968, 1.843106399999897, 1.7864458999999897, 1.7792993999998998, 2.036510700000008, 1.3141114999998535, 1.381196399999908, 1.2392222000000856, 1.2216885000000275]\n",
      "\n",
      "\n",
      "Iteration 59 \n",
      "Explore Rate 0.5 \n",
      "Time for Explore Rate [1.4322650000001431, 1.7031425000000127, 1.2830266999999367, 1.475841199999877, 1.2860881999999947, 1.2231071000001066, 1.1308498000000782, 1.8195515999998406, 1.8954352000000654, 1.9007328000000143, 1.9608909999999469, 1.7002813999999944, 1.3415706000000682, 1.4680716999998822, 1.302954699999873, 1.1507424999999785, 1.177947500000073, 1.7939268000000084, 1.796566700000085, 1.931787199999917, 1.8072855999998865, 1.1974199999999655, 1.0673214000000826, 1.3642555999999786, 1.395275300000094, 1.2238090999999258, 1.1493882999998277, 1.8210476999997809, 1.9130186999998386, 1.8204854999999043, 1.6221797999999126, 1.3492310999999972, 1.1117538999999397, 1.1775755999999546, 1.5050633999999263, 1.5716687999999976, 1.2176255000001674, 1.3007764999999836, 1.2311878000000434, 1.0881537000000208, 1.5200784000001022, 1.8118952999998328, 1.686236000000008, 1.94693970000003, 1.8569461999998111, 2.129688899999792, 1.223319100000026, 1.2080493000000843, 1.1005256999999347, 1.0783950999998524, 1.5255415999999968, 1.843106399999897, 1.7864458999999897, 1.7792993999998998, 2.036510700000008, 1.3141114999998535, 1.381196399999908, 1.2392222000000856, 1.2216885000000275, 1.0974099000000024]\n",
      "\n",
      "\n",
      "Iteration 60 \n",
      "Explore Rate 0.5 \n",
      "Time for Explore Rate [1.4322650000001431, 1.7031425000000127, 1.2830266999999367, 1.475841199999877, 1.2860881999999947, 1.2231071000001066, 1.1308498000000782, 1.8195515999998406, 1.8954352000000654, 1.9007328000000143, 1.9608909999999469, 1.7002813999999944, 1.3415706000000682, 1.4680716999998822, 1.302954699999873, 1.1507424999999785, 1.177947500000073, 1.7939268000000084, 1.796566700000085, 1.931787199999917, 1.8072855999998865, 1.1974199999999655, 1.0673214000000826, 1.3642555999999786, 1.395275300000094, 1.2238090999999258, 1.1493882999998277, 1.8210476999997809, 1.9130186999998386, 1.8204854999999043, 1.6221797999999126, 1.3492310999999972, 1.1117538999999397, 1.1775755999999546, 1.5050633999999263, 1.5716687999999976, 1.2176255000001674, 1.3007764999999836, 1.2311878000000434, 1.0881537000000208, 1.5200784000001022, 1.8118952999998328, 1.686236000000008, 1.94693970000003, 1.8569461999998111, 2.129688899999792, 1.223319100000026, 1.2080493000000843, 1.1005256999999347, 1.0783950999998524, 1.5255415999999968, 1.843106399999897, 1.7864458999999897, 1.7792993999998998, 2.036510700000008, 1.3141114999998535, 1.381196399999908, 1.2392222000000856, 1.2216885000000275, 1.0974099000000024, 1.1161294999999427]\n",
      "\n",
      "\n",
      "Iteration 61 \n",
      "Explore Rate 0.5 \n",
      "Time for Explore Rate [1.4322650000001431, 1.7031425000000127, 1.2830266999999367, 1.475841199999877, 1.2860881999999947, 1.2231071000001066, 1.1308498000000782, 1.8195515999998406, 1.8954352000000654, 1.9007328000000143, 1.9608909999999469, 1.7002813999999944, 1.3415706000000682, 1.4680716999998822, 1.302954699999873, 1.1507424999999785, 1.177947500000073, 1.7939268000000084, 1.796566700000085, 1.931787199999917, 1.8072855999998865, 1.1974199999999655, 1.0673214000000826, 1.3642555999999786, 1.395275300000094, 1.2238090999999258, 1.1493882999998277, 1.8210476999997809, 1.9130186999998386, 1.8204854999999043, 1.6221797999999126, 1.3492310999999972, 1.1117538999999397, 1.1775755999999546, 1.5050633999999263, 1.5716687999999976, 1.2176255000001674, 1.3007764999999836, 1.2311878000000434, 1.0881537000000208, 1.5200784000001022, 1.8118952999998328, 1.686236000000008, 1.94693970000003, 1.8569461999998111, 2.129688899999792, 1.223319100000026, 1.2080493000000843, 1.1005256999999347, 1.0783950999998524, 1.5255415999999968, 1.843106399999897, 1.7864458999999897, 1.7792993999998998, 2.036510700000008, 1.3141114999998535, 1.381196399999908, 1.2392222000000856, 1.2216885000000275, 1.0974099000000024, 1.1161294999999427, 1.2883860999997978]\n",
      "\n",
      "\n",
      "Iteration 62 \n",
      "Explore Rate 0.5 \n",
      "Time for Explore Rate [1.4322650000001431, 1.7031425000000127, 1.2830266999999367, 1.475841199999877, 1.2860881999999947, 1.2231071000001066, 1.1308498000000782, 1.8195515999998406, 1.8954352000000654, 1.9007328000000143, 1.9608909999999469, 1.7002813999999944, 1.3415706000000682, 1.4680716999998822, 1.302954699999873, 1.1507424999999785, 1.177947500000073, 1.7939268000000084, 1.796566700000085, 1.931787199999917, 1.8072855999998865, 1.1974199999999655, 1.0673214000000826, 1.3642555999999786, 1.395275300000094, 1.2238090999999258, 1.1493882999998277, 1.8210476999997809, 1.9130186999998386, 1.8204854999999043, 1.6221797999999126, 1.3492310999999972, 1.1117538999999397, 1.1775755999999546, 1.5050633999999263, 1.5716687999999976, 1.2176255000001674, 1.3007764999999836, 1.2311878000000434, 1.0881537000000208, 1.5200784000001022, 1.8118952999998328, 1.686236000000008, 1.94693970000003, 1.8569461999998111, 2.129688899999792, 1.223319100000026, 1.2080493000000843, 1.1005256999999347, 1.0783950999998524, 1.5255415999999968, 1.843106399999897, 1.7864458999999897, 1.7792993999998998, 2.036510700000008, 1.3141114999998535, 1.381196399999908, 1.2392222000000856, 1.2216885000000275, 1.0974099000000024, 1.1161294999999427, 1.2883860999997978, 1.7542350999999599]\n",
      "\n",
      "\n"
     ]
    },
    {
     "name": "stdout",
     "output_type": "stream",
     "text": [
      "Iteration 63 \n",
      "Explore Rate 0.5 \n",
      "Time for Explore Rate [1.4322650000001431, 1.7031425000000127, 1.2830266999999367, 1.475841199999877, 1.2860881999999947, 1.2231071000001066, 1.1308498000000782, 1.8195515999998406, 1.8954352000000654, 1.9007328000000143, 1.9608909999999469, 1.7002813999999944, 1.3415706000000682, 1.4680716999998822, 1.302954699999873, 1.1507424999999785, 1.177947500000073, 1.7939268000000084, 1.796566700000085, 1.931787199999917, 1.8072855999998865, 1.1974199999999655, 1.0673214000000826, 1.3642555999999786, 1.395275300000094, 1.2238090999999258, 1.1493882999998277, 1.8210476999997809, 1.9130186999998386, 1.8204854999999043, 1.6221797999999126, 1.3492310999999972, 1.1117538999999397, 1.1775755999999546, 1.5050633999999263, 1.5716687999999976, 1.2176255000001674, 1.3007764999999836, 1.2311878000000434, 1.0881537000000208, 1.5200784000001022, 1.8118952999998328, 1.686236000000008, 1.94693970000003, 1.8569461999998111, 2.129688899999792, 1.223319100000026, 1.2080493000000843, 1.1005256999999347, 1.0783950999998524, 1.5255415999999968, 1.843106399999897, 1.7864458999999897, 1.7792993999998998, 2.036510700000008, 1.3141114999998535, 1.381196399999908, 1.2392222000000856, 1.2216885000000275, 1.0974099000000024, 1.1161294999999427, 1.2883860999997978, 1.7542350999999599, 1.8548325000001569]\n",
      "\n",
      "\n",
      "Iteration 64 \n",
      "Explore Rate 0.5 \n",
      "Time for Explore Rate [1.4322650000001431, 1.7031425000000127, 1.2830266999999367, 1.475841199999877, 1.2860881999999947, 1.2231071000001066, 1.1308498000000782, 1.8195515999998406, 1.8954352000000654, 1.9007328000000143, 1.9608909999999469, 1.7002813999999944, 1.3415706000000682, 1.4680716999998822, 1.302954699999873, 1.1507424999999785, 1.177947500000073, 1.7939268000000084, 1.796566700000085, 1.931787199999917, 1.8072855999998865, 1.1974199999999655, 1.0673214000000826, 1.3642555999999786, 1.395275300000094, 1.2238090999999258, 1.1493882999998277, 1.8210476999997809, 1.9130186999998386, 1.8204854999999043, 1.6221797999999126, 1.3492310999999972, 1.1117538999999397, 1.1775755999999546, 1.5050633999999263, 1.5716687999999976, 1.2176255000001674, 1.3007764999999836, 1.2311878000000434, 1.0881537000000208, 1.5200784000001022, 1.8118952999998328, 1.686236000000008, 1.94693970000003, 1.8569461999998111, 2.129688899999792, 1.223319100000026, 1.2080493000000843, 1.1005256999999347, 1.0783950999998524, 1.5255415999999968, 1.843106399999897, 1.7864458999999897, 1.7792993999998998, 2.036510700000008, 1.3141114999998535, 1.381196399999908, 1.2392222000000856, 1.2216885000000275, 1.0974099000000024, 1.1161294999999427, 1.2883860999997978, 1.7542350999999599, 1.8548325000001569, 1.7526378000000022]\n",
      "\n",
      "\n",
      "Iteration 65 \n",
      "Explore Rate 0.5 \n",
      "Time for Explore Rate [1.4322650000001431, 1.7031425000000127, 1.2830266999999367, 1.475841199999877, 1.2860881999999947, 1.2231071000001066, 1.1308498000000782, 1.8195515999998406, 1.8954352000000654, 1.9007328000000143, 1.9608909999999469, 1.7002813999999944, 1.3415706000000682, 1.4680716999998822, 1.302954699999873, 1.1507424999999785, 1.177947500000073, 1.7939268000000084, 1.796566700000085, 1.931787199999917, 1.8072855999998865, 1.1974199999999655, 1.0673214000000826, 1.3642555999999786, 1.395275300000094, 1.2238090999999258, 1.1493882999998277, 1.8210476999997809, 1.9130186999998386, 1.8204854999999043, 1.6221797999999126, 1.3492310999999972, 1.1117538999999397, 1.1775755999999546, 1.5050633999999263, 1.5716687999999976, 1.2176255000001674, 1.3007764999999836, 1.2311878000000434, 1.0881537000000208, 1.5200784000001022, 1.8118952999998328, 1.686236000000008, 1.94693970000003, 1.8569461999998111, 2.129688899999792, 1.223319100000026, 1.2080493000000843, 1.1005256999999347, 1.0783950999998524, 1.5255415999999968, 1.843106399999897, 1.7864458999999897, 1.7792993999998998, 2.036510700000008, 1.3141114999998535, 1.381196399999908, 1.2392222000000856, 1.2216885000000275, 1.0974099000000024, 1.1161294999999427, 1.2883860999997978, 1.7542350999999599, 1.8548325000001569, 1.7526378000000022, 1.7547781999999188]\n",
      "\n",
      "\n",
      "Iteration 66 \n",
      "Explore Rate 0.5 \n",
      "Time for Explore Rate [1.4322650000001431, 1.7031425000000127, 1.2830266999999367, 1.475841199999877, 1.2860881999999947, 1.2231071000001066, 1.1308498000000782, 1.8195515999998406, 1.8954352000000654, 1.9007328000000143, 1.9608909999999469, 1.7002813999999944, 1.3415706000000682, 1.4680716999998822, 1.302954699999873, 1.1507424999999785, 1.177947500000073, 1.7939268000000084, 1.796566700000085, 1.931787199999917, 1.8072855999998865, 1.1974199999999655, 1.0673214000000826, 1.3642555999999786, 1.395275300000094, 1.2238090999999258, 1.1493882999998277, 1.8210476999997809, 1.9130186999998386, 1.8204854999999043, 1.6221797999999126, 1.3492310999999972, 1.1117538999999397, 1.1775755999999546, 1.5050633999999263, 1.5716687999999976, 1.2176255000001674, 1.3007764999999836, 1.2311878000000434, 1.0881537000000208, 1.5200784000001022, 1.8118952999998328, 1.686236000000008, 1.94693970000003, 1.8569461999998111, 2.129688899999792, 1.223319100000026, 1.2080493000000843, 1.1005256999999347, 1.0783950999998524, 1.5255415999999968, 1.843106399999897, 1.7864458999999897, 1.7792993999998998, 2.036510700000008, 1.3141114999998535, 1.381196399999908, 1.2392222000000856, 1.2216885000000275, 1.0974099000000024, 1.1161294999999427, 1.2883860999997978, 1.7542350999999599, 1.8548325000001569, 1.7526378000000022, 1.7547781999999188, 1.4038896000001841]\n",
      "\n",
      "\n",
      "Iteration 67 \n",
      "Explore Rate 0.5 \n",
      "Time for Explore Rate [1.4322650000001431, 1.7031425000000127, 1.2830266999999367, 1.475841199999877, 1.2860881999999947, 1.2231071000001066, 1.1308498000000782, 1.8195515999998406, 1.8954352000000654, 1.9007328000000143, 1.9608909999999469, 1.7002813999999944, 1.3415706000000682, 1.4680716999998822, 1.302954699999873, 1.1507424999999785, 1.177947500000073, 1.7939268000000084, 1.796566700000085, 1.931787199999917, 1.8072855999998865, 1.1974199999999655, 1.0673214000000826, 1.3642555999999786, 1.395275300000094, 1.2238090999999258, 1.1493882999998277, 1.8210476999997809, 1.9130186999998386, 1.8204854999999043, 1.6221797999999126, 1.3492310999999972, 1.1117538999999397, 1.1775755999999546, 1.5050633999999263, 1.5716687999999976, 1.2176255000001674, 1.3007764999999836, 1.2311878000000434, 1.0881537000000208, 1.5200784000001022, 1.8118952999998328, 1.686236000000008, 1.94693970000003, 1.8569461999998111, 2.129688899999792, 1.223319100000026, 1.2080493000000843, 1.1005256999999347, 1.0783950999998524, 1.5255415999999968, 1.843106399999897, 1.7864458999999897, 1.7792993999998998, 2.036510700000008, 1.3141114999998535, 1.381196399999908, 1.2392222000000856, 1.2216885000000275, 1.0974099000000024, 1.1161294999999427, 1.2883860999997978, 1.7542350999999599, 1.8548325000001569, 1.7526378000000022, 1.7547781999999188, 1.4038896000001841, 1.518183800000088]\n",
      "\n",
      "\n",
      "Iteration 68 \n",
      "Explore Rate 0.5 \n",
      "Time for Explore Rate [1.4322650000001431, 1.7031425000000127, 1.2830266999999367, 1.475841199999877, 1.2860881999999947, 1.2231071000001066, 1.1308498000000782, 1.8195515999998406, 1.8954352000000654, 1.9007328000000143, 1.9608909999999469, 1.7002813999999944, 1.3415706000000682, 1.4680716999998822, 1.302954699999873, 1.1507424999999785, 1.177947500000073, 1.7939268000000084, 1.796566700000085, 1.931787199999917, 1.8072855999998865, 1.1974199999999655, 1.0673214000000826, 1.3642555999999786, 1.395275300000094, 1.2238090999999258, 1.1493882999998277, 1.8210476999997809, 1.9130186999998386, 1.8204854999999043, 1.6221797999999126, 1.3492310999999972, 1.1117538999999397, 1.1775755999999546, 1.5050633999999263, 1.5716687999999976, 1.2176255000001674, 1.3007764999999836, 1.2311878000000434, 1.0881537000000208, 1.5200784000001022, 1.8118952999998328, 1.686236000000008, 1.94693970000003, 1.8569461999998111, 2.129688899999792, 1.223319100000026, 1.2080493000000843, 1.1005256999999347, 1.0783950999998524, 1.5255415999999968, 1.843106399999897, 1.7864458999999897, 1.7792993999998998, 2.036510700000008, 1.3141114999998535, 1.381196399999908, 1.2392222000000856, 1.2216885000000275, 1.0974099000000024, 1.1161294999999427, 1.2883860999997978, 1.7542350999999599, 1.8548325000001569, 1.7526378000000022, 1.7547781999999188, 1.4038896000001841, 1.518183800000088, 1.196704200000113]\n",
      "\n",
      "\n"
     ]
    },
    {
     "name": "stdout",
     "output_type": "stream",
     "text": [
      "Iteration 69 \n",
      "Explore Rate 0.5 \n",
      "Time for Explore Rate [1.4322650000001431, 1.7031425000000127, 1.2830266999999367, 1.475841199999877, 1.2860881999999947, 1.2231071000001066, 1.1308498000000782, 1.8195515999998406, 1.8954352000000654, 1.9007328000000143, 1.9608909999999469, 1.7002813999999944, 1.3415706000000682, 1.4680716999998822, 1.302954699999873, 1.1507424999999785, 1.177947500000073, 1.7939268000000084, 1.796566700000085, 1.931787199999917, 1.8072855999998865, 1.1974199999999655, 1.0673214000000826, 1.3642555999999786, 1.395275300000094, 1.2238090999999258, 1.1493882999998277, 1.8210476999997809, 1.9130186999998386, 1.8204854999999043, 1.6221797999999126, 1.3492310999999972, 1.1117538999999397, 1.1775755999999546, 1.5050633999999263, 1.5716687999999976, 1.2176255000001674, 1.3007764999999836, 1.2311878000000434, 1.0881537000000208, 1.5200784000001022, 1.8118952999998328, 1.686236000000008, 1.94693970000003, 1.8569461999998111, 2.129688899999792, 1.223319100000026, 1.2080493000000843, 1.1005256999999347, 1.0783950999998524, 1.5255415999999968, 1.843106399999897, 1.7864458999999897, 1.7792993999998998, 2.036510700000008, 1.3141114999998535, 1.381196399999908, 1.2392222000000856, 1.2216885000000275, 1.0974099000000024, 1.1161294999999427, 1.2883860999997978, 1.7542350999999599, 1.8548325000001569, 1.7526378000000022, 1.7547781999999188, 1.4038896000001841, 1.518183800000088, 1.196704200000113, 1.3069295000000238]\n",
      "\n",
      "\n",
      "Iteration 70 \n",
      "Explore Rate 0.5 \n",
      "Time for Explore Rate [1.4322650000001431, 1.7031425000000127, 1.2830266999999367, 1.475841199999877, 1.2860881999999947, 1.2231071000001066, 1.1308498000000782, 1.8195515999998406, 1.8954352000000654, 1.9007328000000143, 1.9608909999999469, 1.7002813999999944, 1.3415706000000682, 1.4680716999998822, 1.302954699999873, 1.1507424999999785, 1.177947500000073, 1.7939268000000084, 1.796566700000085, 1.931787199999917, 1.8072855999998865, 1.1974199999999655, 1.0673214000000826, 1.3642555999999786, 1.395275300000094, 1.2238090999999258, 1.1493882999998277, 1.8210476999997809, 1.9130186999998386, 1.8204854999999043, 1.6221797999999126, 1.3492310999999972, 1.1117538999999397, 1.1775755999999546, 1.5050633999999263, 1.5716687999999976, 1.2176255000001674, 1.3007764999999836, 1.2311878000000434, 1.0881537000000208, 1.5200784000001022, 1.8118952999998328, 1.686236000000008, 1.94693970000003, 1.8569461999998111, 2.129688899999792, 1.223319100000026, 1.2080493000000843, 1.1005256999999347, 1.0783950999998524, 1.5255415999999968, 1.843106399999897, 1.7864458999999897, 1.7792993999998998, 2.036510700000008, 1.3141114999998535, 1.381196399999908, 1.2392222000000856, 1.2216885000000275, 1.0974099000000024, 1.1161294999999427, 1.2883860999997978, 1.7542350999999599, 1.8548325000001569, 1.7526378000000022, 1.7547781999999188, 1.4038896000001841, 1.518183800000088, 1.196704200000113, 1.3069295000000238, 1.8395775000001322]\n",
      "\n",
      "\n",
      "Iteration 71 \n",
      "Explore Rate 0.5 \n",
      "Time for Explore Rate [1.4322650000001431, 1.7031425000000127, 1.2830266999999367, 1.475841199999877, 1.2860881999999947, 1.2231071000001066, 1.1308498000000782, 1.8195515999998406, 1.8954352000000654, 1.9007328000000143, 1.9608909999999469, 1.7002813999999944, 1.3415706000000682, 1.4680716999998822, 1.302954699999873, 1.1507424999999785, 1.177947500000073, 1.7939268000000084, 1.796566700000085, 1.931787199999917, 1.8072855999998865, 1.1974199999999655, 1.0673214000000826, 1.3642555999999786, 1.395275300000094, 1.2238090999999258, 1.1493882999998277, 1.8210476999997809, 1.9130186999998386, 1.8204854999999043, 1.6221797999999126, 1.3492310999999972, 1.1117538999999397, 1.1775755999999546, 1.5050633999999263, 1.5716687999999976, 1.2176255000001674, 1.3007764999999836, 1.2311878000000434, 1.0881537000000208, 1.5200784000001022, 1.8118952999998328, 1.686236000000008, 1.94693970000003, 1.8569461999998111, 2.129688899999792, 1.223319100000026, 1.2080493000000843, 1.1005256999999347, 1.0783950999998524, 1.5255415999999968, 1.843106399999897, 1.7864458999999897, 1.7792993999998998, 2.036510700000008, 1.3141114999998535, 1.381196399999908, 1.2392222000000856, 1.2216885000000275, 1.0974099000000024, 1.1161294999999427, 1.2883860999997978, 1.7542350999999599, 1.8548325000001569, 1.7526378000000022, 1.7547781999999188, 1.4038896000001841, 1.518183800000088, 1.196704200000113, 1.3069295000000238, 1.8395775000001322, 1.882637700000032]\n",
      "\n",
      "\n",
      "Iteration 72 \n",
      "Explore Rate 0.5 \n",
      "Time for Explore Rate [1.4322650000001431, 1.7031425000000127, 1.2830266999999367, 1.475841199999877, 1.2860881999999947, 1.2231071000001066, 1.1308498000000782, 1.8195515999998406, 1.8954352000000654, 1.9007328000000143, 1.9608909999999469, 1.7002813999999944, 1.3415706000000682, 1.4680716999998822, 1.302954699999873, 1.1507424999999785, 1.177947500000073, 1.7939268000000084, 1.796566700000085, 1.931787199999917, 1.8072855999998865, 1.1974199999999655, 1.0673214000000826, 1.3642555999999786, 1.395275300000094, 1.2238090999999258, 1.1493882999998277, 1.8210476999997809, 1.9130186999998386, 1.8204854999999043, 1.6221797999999126, 1.3492310999999972, 1.1117538999999397, 1.1775755999999546, 1.5050633999999263, 1.5716687999999976, 1.2176255000001674, 1.3007764999999836, 1.2311878000000434, 1.0881537000000208, 1.5200784000001022, 1.8118952999998328, 1.686236000000008, 1.94693970000003, 1.8569461999998111, 2.129688899999792, 1.223319100000026, 1.2080493000000843, 1.1005256999999347, 1.0783950999998524, 1.5255415999999968, 1.843106399999897, 1.7864458999999897, 1.7792993999998998, 2.036510700000008, 1.3141114999998535, 1.381196399999908, 1.2392222000000856, 1.2216885000000275, 1.0974099000000024, 1.1161294999999427, 1.2883860999997978, 1.7542350999999599, 1.8548325000001569, 1.7526378000000022, 1.7547781999999188, 1.4038896000001841, 1.518183800000088, 1.196704200000113, 1.3069295000000238, 1.8395775000001322, 1.882637700000032, 1.820394399999941]\n",
      "\n",
      "\n",
      "Iteration 73 \n",
      "Explore Rate 0.5 \n",
      "Time for Explore Rate [1.4322650000001431, 1.7031425000000127, 1.2830266999999367, 1.475841199999877, 1.2860881999999947, 1.2231071000001066, 1.1308498000000782, 1.8195515999998406, 1.8954352000000654, 1.9007328000000143, 1.9608909999999469, 1.7002813999999944, 1.3415706000000682, 1.4680716999998822, 1.302954699999873, 1.1507424999999785, 1.177947500000073, 1.7939268000000084, 1.796566700000085, 1.931787199999917, 1.8072855999998865, 1.1974199999999655, 1.0673214000000826, 1.3642555999999786, 1.395275300000094, 1.2238090999999258, 1.1493882999998277, 1.8210476999997809, 1.9130186999998386, 1.8204854999999043, 1.6221797999999126, 1.3492310999999972, 1.1117538999999397, 1.1775755999999546, 1.5050633999999263, 1.5716687999999976, 1.2176255000001674, 1.3007764999999836, 1.2311878000000434, 1.0881537000000208, 1.5200784000001022, 1.8118952999998328, 1.686236000000008, 1.94693970000003, 1.8569461999998111, 2.129688899999792, 1.223319100000026, 1.2080493000000843, 1.1005256999999347, 1.0783950999998524, 1.5255415999999968, 1.843106399999897, 1.7864458999999897, 1.7792993999998998, 2.036510700000008, 1.3141114999998535, 1.381196399999908, 1.2392222000000856, 1.2216885000000275, 1.0974099000000024, 1.1161294999999427, 1.2883860999997978, 1.7542350999999599, 1.8548325000001569, 1.7526378000000022, 1.7547781999999188, 1.4038896000001841, 1.518183800000088, 1.196704200000113, 1.3069295000000238, 1.8395775000001322, 1.882637700000032, 1.820394399999941, 1.8500621000000592]\n",
      "\n",
      "\n",
      "Iteration 74 \n",
      "Explore Rate 0.5 \n",
      "Time for Explore Rate [1.4322650000001431, 1.7031425000000127, 1.2830266999999367, 1.475841199999877, 1.2860881999999947, 1.2231071000001066, 1.1308498000000782, 1.8195515999998406, 1.8954352000000654, 1.9007328000000143, 1.9608909999999469, 1.7002813999999944, 1.3415706000000682, 1.4680716999998822, 1.302954699999873, 1.1507424999999785, 1.177947500000073, 1.7939268000000084, 1.796566700000085, 1.931787199999917, 1.8072855999998865, 1.1974199999999655, 1.0673214000000826, 1.3642555999999786, 1.395275300000094, 1.2238090999999258, 1.1493882999998277, 1.8210476999997809, 1.9130186999998386, 1.8204854999999043, 1.6221797999999126, 1.3492310999999972, 1.1117538999999397, 1.1775755999999546, 1.5050633999999263, 1.5716687999999976, 1.2176255000001674, 1.3007764999999836, 1.2311878000000434, 1.0881537000000208, 1.5200784000001022, 1.8118952999998328, 1.686236000000008, 1.94693970000003, 1.8569461999998111, 2.129688899999792, 1.223319100000026, 1.2080493000000843, 1.1005256999999347, 1.0783950999998524, 1.5255415999999968, 1.843106399999897, 1.7864458999999897, 1.7792993999998998, 2.036510700000008, 1.3141114999998535, 1.381196399999908, 1.2392222000000856, 1.2216885000000275, 1.0974099000000024, 1.1161294999999427, 1.2883860999997978, 1.7542350999999599, 1.8548325000001569, 1.7526378000000022, 1.7547781999999188, 1.4038896000001841, 1.518183800000088, 1.196704200000113, 1.3069295000000238, 1.8395775000001322, 1.882637700000032, 1.820394399999941, 1.8500621000000592, 1.448633799999925]\n",
      "\n",
      "\n"
     ]
    },
    {
     "name": "stdout",
     "output_type": "stream",
     "text": [
      "Iteration 75 \n",
      "Explore Rate 0.5 \n",
      "Time for Explore Rate [1.4322650000001431, 1.7031425000000127, 1.2830266999999367, 1.475841199999877, 1.2860881999999947, 1.2231071000001066, 1.1308498000000782, 1.8195515999998406, 1.8954352000000654, 1.9007328000000143, 1.9608909999999469, 1.7002813999999944, 1.3415706000000682, 1.4680716999998822, 1.302954699999873, 1.1507424999999785, 1.177947500000073, 1.7939268000000084, 1.796566700000085, 1.931787199999917, 1.8072855999998865, 1.1974199999999655, 1.0673214000000826, 1.3642555999999786, 1.395275300000094, 1.2238090999999258, 1.1493882999998277, 1.8210476999997809, 1.9130186999998386, 1.8204854999999043, 1.6221797999999126, 1.3492310999999972, 1.1117538999999397, 1.1775755999999546, 1.5050633999999263, 1.5716687999999976, 1.2176255000001674, 1.3007764999999836, 1.2311878000000434, 1.0881537000000208, 1.5200784000001022, 1.8118952999998328, 1.686236000000008, 1.94693970000003, 1.8569461999998111, 2.129688899999792, 1.223319100000026, 1.2080493000000843, 1.1005256999999347, 1.0783950999998524, 1.5255415999999968, 1.843106399999897, 1.7864458999999897, 1.7792993999998998, 2.036510700000008, 1.3141114999998535, 1.381196399999908, 1.2392222000000856, 1.2216885000000275, 1.0974099000000024, 1.1161294999999427, 1.2883860999997978, 1.7542350999999599, 1.8548325000001569, 1.7526378000000022, 1.7547781999999188, 1.4038896000001841, 1.518183800000088, 1.196704200000113, 1.3069295000000238, 1.8395775000001322, 1.882637700000032, 1.820394399999941, 1.8500621000000592, 1.448633799999925, 1.1532709999999042]\n",
      "\n",
      "\n",
      "Iteration 76 \n",
      "Explore Rate 0.5 \n",
      "Time for Explore Rate [1.4322650000001431, 1.7031425000000127, 1.2830266999999367, 1.475841199999877, 1.2860881999999947, 1.2231071000001066, 1.1308498000000782, 1.8195515999998406, 1.8954352000000654, 1.9007328000000143, 1.9608909999999469, 1.7002813999999944, 1.3415706000000682, 1.4680716999998822, 1.302954699999873, 1.1507424999999785, 1.177947500000073, 1.7939268000000084, 1.796566700000085, 1.931787199999917, 1.8072855999998865, 1.1974199999999655, 1.0673214000000826, 1.3642555999999786, 1.395275300000094, 1.2238090999999258, 1.1493882999998277, 1.8210476999997809, 1.9130186999998386, 1.8204854999999043, 1.6221797999999126, 1.3492310999999972, 1.1117538999999397, 1.1775755999999546, 1.5050633999999263, 1.5716687999999976, 1.2176255000001674, 1.3007764999999836, 1.2311878000000434, 1.0881537000000208, 1.5200784000001022, 1.8118952999998328, 1.686236000000008, 1.94693970000003, 1.8569461999998111, 2.129688899999792, 1.223319100000026, 1.2080493000000843, 1.1005256999999347, 1.0783950999998524, 1.5255415999999968, 1.843106399999897, 1.7864458999999897, 1.7792993999998998, 2.036510700000008, 1.3141114999998535, 1.381196399999908, 1.2392222000000856, 1.2216885000000275, 1.0974099000000024, 1.1161294999999427, 1.2883860999997978, 1.7542350999999599, 1.8548325000001569, 1.7526378000000022, 1.7547781999999188, 1.4038896000001841, 1.518183800000088, 1.196704200000113, 1.3069295000000238, 1.8395775000001322, 1.882637700000032, 1.820394399999941, 1.8500621000000592, 1.448633799999925, 1.1532709999999042, 1.1450694000000112]\n",
      "\n",
      "\n",
      "Iteration 77 \n",
      "Explore Rate 0.5 \n",
      "Time for Explore Rate [1.4322650000001431, 1.7031425000000127, 1.2830266999999367, 1.475841199999877, 1.2860881999999947, 1.2231071000001066, 1.1308498000000782, 1.8195515999998406, 1.8954352000000654, 1.9007328000000143, 1.9608909999999469, 1.7002813999999944, 1.3415706000000682, 1.4680716999998822, 1.302954699999873, 1.1507424999999785, 1.177947500000073, 1.7939268000000084, 1.796566700000085, 1.931787199999917, 1.8072855999998865, 1.1974199999999655, 1.0673214000000826, 1.3642555999999786, 1.395275300000094, 1.2238090999999258, 1.1493882999998277, 1.8210476999997809, 1.9130186999998386, 1.8204854999999043, 1.6221797999999126, 1.3492310999999972, 1.1117538999999397, 1.1775755999999546, 1.5050633999999263, 1.5716687999999976, 1.2176255000001674, 1.3007764999999836, 1.2311878000000434, 1.0881537000000208, 1.5200784000001022, 1.8118952999998328, 1.686236000000008, 1.94693970000003, 1.8569461999998111, 2.129688899999792, 1.223319100000026, 1.2080493000000843, 1.1005256999999347, 1.0783950999998524, 1.5255415999999968, 1.843106399999897, 1.7864458999999897, 1.7792993999998998, 2.036510700000008, 1.3141114999998535, 1.381196399999908, 1.2392222000000856, 1.2216885000000275, 1.0974099000000024, 1.1161294999999427, 1.2883860999997978, 1.7542350999999599, 1.8548325000001569, 1.7526378000000022, 1.7547781999999188, 1.4038896000001841, 1.518183800000088, 1.196704200000113, 1.3069295000000238, 1.8395775000001322, 1.882637700000032, 1.820394399999941, 1.8500621000000592, 1.448633799999925, 1.1532709999999042, 1.1450694000000112, 1.3199680000000171]\n",
      "\n",
      "\n",
      "Iteration 78 \n",
      "Explore Rate 0.5 \n",
      "Time for Explore Rate [1.4322650000001431, 1.7031425000000127, 1.2830266999999367, 1.475841199999877, 1.2860881999999947, 1.2231071000001066, 1.1308498000000782, 1.8195515999998406, 1.8954352000000654, 1.9007328000000143, 1.9608909999999469, 1.7002813999999944, 1.3415706000000682, 1.4680716999998822, 1.302954699999873, 1.1507424999999785, 1.177947500000073, 1.7939268000000084, 1.796566700000085, 1.931787199999917, 1.8072855999998865, 1.1974199999999655, 1.0673214000000826, 1.3642555999999786, 1.395275300000094, 1.2238090999999258, 1.1493882999998277, 1.8210476999997809, 1.9130186999998386, 1.8204854999999043, 1.6221797999999126, 1.3492310999999972, 1.1117538999999397, 1.1775755999999546, 1.5050633999999263, 1.5716687999999976, 1.2176255000001674, 1.3007764999999836, 1.2311878000000434, 1.0881537000000208, 1.5200784000001022, 1.8118952999998328, 1.686236000000008, 1.94693970000003, 1.8569461999998111, 2.129688899999792, 1.223319100000026, 1.2080493000000843, 1.1005256999999347, 1.0783950999998524, 1.5255415999999968, 1.843106399999897, 1.7864458999999897, 1.7792993999998998, 2.036510700000008, 1.3141114999998535, 1.381196399999908, 1.2392222000000856, 1.2216885000000275, 1.0974099000000024, 1.1161294999999427, 1.2883860999997978, 1.7542350999999599, 1.8548325000001569, 1.7526378000000022, 1.7547781999999188, 1.4038896000001841, 1.518183800000088, 1.196704200000113, 1.3069295000000238, 1.8395775000001322, 1.882637700000032, 1.820394399999941, 1.8500621000000592, 1.448633799999925, 1.1532709999999042, 1.1450694000000112, 1.3199680000000171, 1.428999900000008]\n",
      "\n",
      "\n",
      "Iteration 79 \n",
      "Explore Rate 0.5 \n",
      "Time for Explore Rate [1.4322650000001431, 1.7031425000000127, 1.2830266999999367, 1.475841199999877, 1.2860881999999947, 1.2231071000001066, 1.1308498000000782, 1.8195515999998406, 1.8954352000000654, 1.9007328000000143, 1.9608909999999469, 1.7002813999999944, 1.3415706000000682, 1.4680716999998822, 1.302954699999873, 1.1507424999999785, 1.177947500000073, 1.7939268000000084, 1.796566700000085, 1.931787199999917, 1.8072855999998865, 1.1974199999999655, 1.0673214000000826, 1.3642555999999786, 1.395275300000094, 1.2238090999999258, 1.1493882999998277, 1.8210476999997809, 1.9130186999998386, 1.8204854999999043, 1.6221797999999126, 1.3492310999999972, 1.1117538999999397, 1.1775755999999546, 1.5050633999999263, 1.5716687999999976, 1.2176255000001674, 1.3007764999999836, 1.2311878000000434, 1.0881537000000208, 1.5200784000001022, 1.8118952999998328, 1.686236000000008, 1.94693970000003, 1.8569461999998111, 2.129688899999792, 1.223319100000026, 1.2080493000000843, 1.1005256999999347, 1.0783950999998524, 1.5255415999999968, 1.843106399999897, 1.7864458999999897, 1.7792993999998998, 2.036510700000008, 1.3141114999998535, 1.381196399999908, 1.2392222000000856, 1.2216885000000275, 1.0974099000000024, 1.1161294999999427, 1.2883860999997978, 1.7542350999999599, 1.8548325000001569, 1.7526378000000022, 1.7547781999999188, 1.4038896000001841, 1.518183800000088, 1.196704200000113, 1.3069295000000238, 1.8395775000001322, 1.882637700000032, 1.820394399999941, 1.8500621000000592, 1.448633799999925, 1.1532709999999042, 1.1450694000000112, 1.3199680000000171, 1.428999900000008, 1.305755099999942]\n",
      "\n",
      "\n",
      "Iteration 80 \n",
      "Explore Rate 0.5 \n",
      "Time for Explore Rate [1.4322650000001431, 1.7031425000000127, 1.2830266999999367, 1.475841199999877, 1.2860881999999947, 1.2231071000001066, 1.1308498000000782, 1.8195515999998406, 1.8954352000000654, 1.9007328000000143, 1.9608909999999469, 1.7002813999999944, 1.3415706000000682, 1.4680716999998822, 1.302954699999873, 1.1507424999999785, 1.177947500000073, 1.7939268000000084, 1.796566700000085, 1.931787199999917, 1.8072855999998865, 1.1974199999999655, 1.0673214000000826, 1.3642555999999786, 1.395275300000094, 1.2238090999999258, 1.1493882999998277, 1.8210476999997809, 1.9130186999998386, 1.8204854999999043, 1.6221797999999126, 1.3492310999999972, 1.1117538999999397, 1.1775755999999546, 1.5050633999999263, 1.5716687999999976, 1.2176255000001674, 1.3007764999999836, 1.2311878000000434, 1.0881537000000208, 1.5200784000001022, 1.8118952999998328, 1.686236000000008, 1.94693970000003, 1.8569461999998111, 2.129688899999792, 1.223319100000026, 1.2080493000000843, 1.1005256999999347, 1.0783950999998524, 1.5255415999999968, 1.843106399999897, 1.7864458999999897, 1.7792993999998998, 2.036510700000008, 1.3141114999998535, 1.381196399999908, 1.2392222000000856, 1.2216885000000275, 1.0974099000000024, 1.1161294999999427, 1.2883860999997978, 1.7542350999999599, 1.8548325000001569, 1.7526378000000022, 1.7547781999999188, 1.4038896000001841, 1.518183800000088, 1.196704200000113, 1.3069295000000238, 1.8395775000001322, 1.882637700000032, 1.820394399999941, 1.8500621000000592, 1.448633799999925, 1.1532709999999042, 1.1450694000000112, 1.3199680000000171, 1.428999900000008, 1.305755099999942, 1.1816661000000295]\n",
      "\n",
      "\n"
     ]
    },
    {
     "name": "stdout",
     "output_type": "stream",
     "text": [
      "Iteration 81 \n",
      "Explore Rate 0.5 \n",
      "Time for Explore Rate [1.4322650000001431, 1.7031425000000127, 1.2830266999999367, 1.475841199999877, 1.2860881999999947, 1.2231071000001066, 1.1308498000000782, 1.8195515999998406, 1.8954352000000654, 1.9007328000000143, 1.9608909999999469, 1.7002813999999944, 1.3415706000000682, 1.4680716999998822, 1.302954699999873, 1.1507424999999785, 1.177947500000073, 1.7939268000000084, 1.796566700000085, 1.931787199999917, 1.8072855999998865, 1.1974199999999655, 1.0673214000000826, 1.3642555999999786, 1.395275300000094, 1.2238090999999258, 1.1493882999998277, 1.8210476999997809, 1.9130186999998386, 1.8204854999999043, 1.6221797999999126, 1.3492310999999972, 1.1117538999999397, 1.1775755999999546, 1.5050633999999263, 1.5716687999999976, 1.2176255000001674, 1.3007764999999836, 1.2311878000000434, 1.0881537000000208, 1.5200784000001022, 1.8118952999998328, 1.686236000000008, 1.94693970000003, 1.8569461999998111, 2.129688899999792, 1.223319100000026, 1.2080493000000843, 1.1005256999999347, 1.0783950999998524, 1.5255415999999968, 1.843106399999897, 1.7864458999999897, 1.7792993999998998, 2.036510700000008, 1.3141114999998535, 1.381196399999908, 1.2392222000000856, 1.2216885000000275, 1.0974099000000024, 1.1161294999999427, 1.2883860999997978, 1.7542350999999599, 1.8548325000001569, 1.7526378000000022, 1.7547781999999188, 1.4038896000001841, 1.518183800000088, 1.196704200000113, 1.3069295000000238, 1.8395775000001322, 1.882637700000032, 1.820394399999941, 1.8500621000000592, 1.448633799999925, 1.1532709999999042, 1.1450694000000112, 1.3199680000000171, 1.428999900000008, 1.305755099999942, 1.1816661000000295, 1.287144699999999]\n",
      "\n",
      "\n",
      "Iteration 82 \n",
      "Explore Rate 0.5 \n",
      "Time for Explore Rate [1.4322650000001431, 1.7031425000000127, 1.2830266999999367, 1.475841199999877, 1.2860881999999947, 1.2231071000001066, 1.1308498000000782, 1.8195515999998406, 1.8954352000000654, 1.9007328000000143, 1.9608909999999469, 1.7002813999999944, 1.3415706000000682, 1.4680716999998822, 1.302954699999873, 1.1507424999999785, 1.177947500000073, 1.7939268000000084, 1.796566700000085, 1.931787199999917, 1.8072855999998865, 1.1974199999999655, 1.0673214000000826, 1.3642555999999786, 1.395275300000094, 1.2238090999999258, 1.1493882999998277, 1.8210476999997809, 1.9130186999998386, 1.8204854999999043, 1.6221797999999126, 1.3492310999999972, 1.1117538999999397, 1.1775755999999546, 1.5050633999999263, 1.5716687999999976, 1.2176255000001674, 1.3007764999999836, 1.2311878000000434, 1.0881537000000208, 1.5200784000001022, 1.8118952999998328, 1.686236000000008, 1.94693970000003, 1.8569461999998111, 2.129688899999792, 1.223319100000026, 1.2080493000000843, 1.1005256999999347, 1.0783950999998524, 1.5255415999999968, 1.843106399999897, 1.7864458999999897, 1.7792993999998998, 2.036510700000008, 1.3141114999998535, 1.381196399999908, 1.2392222000000856, 1.2216885000000275, 1.0974099000000024, 1.1161294999999427, 1.2883860999997978, 1.7542350999999599, 1.8548325000001569, 1.7526378000000022, 1.7547781999999188, 1.4038896000001841, 1.518183800000088, 1.196704200000113, 1.3069295000000238, 1.8395775000001322, 1.882637700000032, 1.820394399999941, 1.8500621000000592, 1.448633799999925, 1.1532709999999042, 1.1450694000000112, 1.3199680000000171, 1.428999900000008, 1.305755099999942, 1.1816661000000295, 1.287144699999999, 1.160618900000145]\n",
      "\n",
      "\n",
      "Iteration 83 \n",
      "Explore Rate 0.5 \n",
      "Time for Explore Rate [1.4322650000001431, 1.7031425000000127, 1.2830266999999367, 1.475841199999877, 1.2860881999999947, 1.2231071000001066, 1.1308498000000782, 1.8195515999998406, 1.8954352000000654, 1.9007328000000143, 1.9608909999999469, 1.7002813999999944, 1.3415706000000682, 1.4680716999998822, 1.302954699999873, 1.1507424999999785, 1.177947500000073, 1.7939268000000084, 1.796566700000085, 1.931787199999917, 1.8072855999998865, 1.1974199999999655, 1.0673214000000826, 1.3642555999999786, 1.395275300000094, 1.2238090999999258, 1.1493882999998277, 1.8210476999997809, 1.9130186999998386, 1.8204854999999043, 1.6221797999999126, 1.3492310999999972, 1.1117538999999397, 1.1775755999999546, 1.5050633999999263, 1.5716687999999976, 1.2176255000001674, 1.3007764999999836, 1.2311878000000434, 1.0881537000000208, 1.5200784000001022, 1.8118952999998328, 1.686236000000008, 1.94693970000003, 1.8569461999998111, 2.129688899999792, 1.223319100000026, 1.2080493000000843, 1.1005256999999347, 1.0783950999998524, 1.5255415999999968, 1.843106399999897, 1.7864458999999897, 1.7792993999998998, 2.036510700000008, 1.3141114999998535, 1.381196399999908, 1.2392222000000856, 1.2216885000000275, 1.0974099000000024, 1.1161294999999427, 1.2883860999997978, 1.7542350999999599, 1.8548325000001569, 1.7526378000000022, 1.7547781999999188, 1.4038896000001841, 1.518183800000088, 1.196704200000113, 1.3069295000000238, 1.8395775000001322, 1.882637700000032, 1.820394399999941, 1.8500621000000592, 1.448633799999925, 1.1532709999999042, 1.1450694000000112, 1.3199680000000171, 1.428999900000008, 1.305755099999942, 1.1816661000000295, 1.287144699999999, 1.160618900000145, 1.2034358999999313]\n",
      "\n",
      "\n",
      "Iteration 84 \n",
      "Explore Rate 0.5 \n",
      "Time for Explore Rate [1.4322650000001431, 1.7031425000000127, 1.2830266999999367, 1.475841199999877, 1.2860881999999947, 1.2231071000001066, 1.1308498000000782, 1.8195515999998406, 1.8954352000000654, 1.9007328000000143, 1.9608909999999469, 1.7002813999999944, 1.3415706000000682, 1.4680716999998822, 1.302954699999873, 1.1507424999999785, 1.177947500000073, 1.7939268000000084, 1.796566700000085, 1.931787199999917, 1.8072855999998865, 1.1974199999999655, 1.0673214000000826, 1.3642555999999786, 1.395275300000094, 1.2238090999999258, 1.1493882999998277, 1.8210476999997809, 1.9130186999998386, 1.8204854999999043, 1.6221797999999126, 1.3492310999999972, 1.1117538999999397, 1.1775755999999546, 1.5050633999999263, 1.5716687999999976, 1.2176255000001674, 1.3007764999999836, 1.2311878000000434, 1.0881537000000208, 1.5200784000001022, 1.8118952999998328, 1.686236000000008, 1.94693970000003, 1.8569461999998111, 2.129688899999792, 1.223319100000026, 1.2080493000000843, 1.1005256999999347, 1.0783950999998524, 1.5255415999999968, 1.843106399999897, 1.7864458999999897, 1.7792993999998998, 2.036510700000008, 1.3141114999998535, 1.381196399999908, 1.2392222000000856, 1.2216885000000275, 1.0974099000000024, 1.1161294999999427, 1.2883860999997978, 1.7542350999999599, 1.8548325000001569, 1.7526378000000022, 1.7547781999999188, 1.4038896000001841, 1.518183800000088, 1.196704200000113, 1.3069295000000238, 1.8395775000001322, 1.882637700000032, 1.820394399999941, 1.8500621000000592, 1.448633799999925, 1.1532709999999042, 1.1450694000000112, 1.3199680000000171, 1.428999900000008, 1.305755099999942, 1.1816661000000295, 1.287144699999999, 1.160618900000145, 1.2034358999999313, 1.584403199999997]\n",
      "\n",
      "\n",
      "Iteration 85 \n",
      "Explore Rate 0.5 \n",
      "Time for Explore Rate [1.4322650000001431, 1.7031425000000127, 1.2830266999999367, 1.475841199999877, 1.2860881999999947, 1.2231071000001066, 1.1308498000000782, 1.8195515999998406, 1.8954352000000654, 1.9007328000000143, 1.9608909999999469, 1.7002813999999944, 1.3415706000000682, 1.4680716999998822, 1.302954699999873, 1.1507424999999785, 1.177947500000073, 1.7939268000000084, 1.796566700000085, 1.931787199999917, 1.8072855999998865, 1.1974199999999655, 1.0673214000000826, 1.3642555999999786, 1.395275300000094, 1.2238090999999258, 1.1493882999998277, 1.8210476999997809, 1.9130186999998386, 1.8204854999999043, 1.6221797999999126, 1.3492310999999972, 1.1117538999999397, 1.1775755999999546, 1.5050633999999263, 1.5716687999999976, 1.2176255000001674, 1.3007764999999836, 1.2311878000000434, 1.0881537000000208, 1.5200784000001022, 1.8118952999998328, 1.686236000000008, 1.94693970000003, 1.8569461999998111, 2.129688899999792, 1.223319100000026, 1.2080493000000843, 1.1005256999999347, 1.0783950999998524, 1.5255415999999968, 1.843106399999897, 1.7864458999999897, 1.7792993999998998, 2.036510700000008, 1.3141114999998535, 1.381196399999908, 1.2392222000000856, 1.2216885000000275, 1.0974099000000024, 1.1161294999999427, 1.2883860999997978, 1.7542350999999599, 1.8548325000001569, 1.7526378000000022, 1.7547781999999188, 1.4038896000001841, 1.518183800000088, 1.196704200000113, 1.3069295000000238, 1.8395775000001322, 1.882637700000032, 1.820394399999941, 1.8500621000000592, 1.448633799999925, 1.1532709999999042, 1.1450694000000112, 1.3199680000000171, 1.428999900000008, 1.305755099999942, 1.1816661000000295, 1.287144699999999, 1.160618900000145, 1.2034358999999313, 1.584403199999997, 1.8180882000001475]\n",
      "\n",
      "\n"
     ]
    },
    {
     "name": "stdout",
     "output_type": "stream",
     "text": [
      "Iteration 86 \n",
      "Explore Rate 0.5 \n",
      "Time for Explore Rate [1.4322650000001431, 1.7031425000000127, 1.2830266999999367, 1.475841199999877, 1.2860881999999947, 1.2231071000001066, 1.1308498000000782, 1.8195515999998406, 1.8954352000000654, 1.9007328000000143, 1.9608909999999469, 1.7002813999999944, 1.3415706000000682, 1.4680716999998822, 1.302954699999873, 1.1507424999999785, 1.177947500000073, 1.7939268000000084, 1.796566700000085, 1.931787199999917, 1.8072855999998865, 1.1974199999999655, 1.0673214000000826, 1.3642555999999786, 1.395275300000094, 1.2238090999999258, 1.1493882999998277, 1.8210476999997809, 1.9130186999998386, 1.8204854999999043, 1.6221797999999126, 1.3492310999999972, 1.1117538999999397, 1.1775755999999546, 1.5050633999999263, 1.5716687999999976, 1.2176255000001674, 1.3007764999999836, 1.2311878000000434, 1.0881537000000208, 1.5200784000001022, 1.8118952999998328, 1.686236000000008, 1.94693970000003, 1.8569461999998111, 2.129688899999792, 1.223319100000026, 1.2080493000000843, 1.1005256999999347, 1.0783950999998524, 1.5255415999999968, 1.843106399999897, 1.7864458999999897, 1.7792993999998998, 2.036510700000008, 1.3141114999998535, 1.381196399999908, 1.2392222000000856, 1.2216885000000275, 1.0974099000000024, 1.1161294999999427, 1.2883860999997978, 1.7542350999999599, 1.8548325000001569, 1.7526378000000022, 1.7547781999999188, 1.4038896000001841, 1.518183800000088, 1.196704200000113, 1.3069295000000238, 1.8395775000001322, 1.882637700000032, 1.820394399999941, 1.8500621000000592, 1.448633799999925, 1.1532709999999042, 1.1450694000000112, 1.3199680000000171, 1.428999900000008, 1.305755099999942, 1.1816661000000295, 1.287144699999999, 1.160618900000145, 1.2034358999999313, 1.584403199999997, 1.8180882000001475, 1.6906821000000036]\n",
      "\n",
      "\n",
      "Iteration 87 \n",
      "Explore Rate 0.5 \n",
      "Time for Explore Rate [1.4322650000001431, 1.7031425000000127, 1.2830266999999367, 1.475841199999877, 1.2860881999999947, 1.2231071000001066, 1.1308498000000782, 1.8195515999998406, 1.8954352000000654, 1.9007328000000143, 1.9608909999999469, 1.7002813999999944, 1.3415706000000682, 1.4680716999998822, 1.302954699999873, 1.1507424999999785, 1.177947500000073, 1.7939268000000084, 1.796566700000085, 1.931787199999917, 1.8072855999998865, 1.1974199999999655, 1.0673214000000826, 1.3642555999999786, 1.395275300000094, 1.2238090999999258, 1.1493882999998277, 1.8210476999997809, 1.9130186999998386, 1.8204854999999043, 1.6221797999999126, 1.3492310999999972, 1.1117538999999397, 1.1775755999999546, 1.5050633999999263, 1.5716687999999976, 1.2176255000001674, 1.3007764999999836, 1.2311878000000434, 1.0881537000000208, 1.5200784000001022, 1.8118952999998328, 1.686236000000008, 1.94693970000003, 1.8569461999998111, 2.129688899999792, 1.223319100000026, 1.2080493000000843, 1.1005256999999347, 1.0783950999998524, 1.5255415999999968, 1.843106399999897, 1.7864458999999897, 1.7792993999998998, 2.036510700000008, 1.3141114999998535, 1.381196399999908, 1.2392222000000856, 1.2216885000000275, 1.0974099000000024, 1.1161294999999427, 1.2883860999997978, 1.7542350999999599, 1.8548325000001569, 1.7526378000000022, 1.7547781999999188, 1.4038896000001841, 1.518183800000088, 1.196704200000113, 1.3069295000000238, 1.8395775000001322, 1.882637700000032, 1.820394399999941, 1.8500621000000592, 1.448633799999925, 1.1532709999999042, 1.1450694000000112, 1.3199680000000171, 1.428999900000008, 1.305755099999942, 1.1816661000000295, 1.287144699999999, 1.160618900000145, 1.2034358999999313, 1.584403199999997, 1.8180882000001475, 1.6906821000000036, 1.7098196000001735]\n",
      "\n",
      "\n",
      "Iteration 88 \n",
      "Explore Rate 0.5 \n",
      "Time for Explore Rate [1.4322650000001431, 1.7031425000000127, 1.2830266999999367, 1.475841199999877, 1.2860881999999947, 1.2231071000001066, 1.1308498000000782, 1.8195515999998406, 1.8954352000000654, 1.9007328000000143, 1.9608909999999469, 1.7002813999999944, 1.3415706000000682, 1.4680716999998822, 1.302954699999873, 1.1507424999999785, 1.177947500000073, 1.7939268000000084, 1.796566700000085, 1.931787199999917, 1.8072855999998865, 1.1974199999999655, 1.0673214000000826, 1.3642555999999786, 1.395275300000094, 1.2238090999999258, 1.1493882999998277, 1.8210476999997809, 1.9130186999998386, 1.8204854999999043, 1.6221797999999126, 1.3492310999999972, 1.1117538999999397, 1.1775755999999546, 1.5050633999999263, 1.5716687999999976, 1.2176255000001674, 1.3007764999999836, 1.2311878000000434, 1.0881537000000208, 1.5200784000001022, 1.8118952999998328, 1.686236000000008, 1.94693970000003, 1.8569461999998111, 2.129688899999792, 1.223319100000026, 1.2080493000000843, 1.1005256999999347, 1.0783950999998524, 1.5255415999999968, 1.843106399999897, 1.7864458999999897, 1.7792993999998998, 2.036510700000008, 1.3141114999998535, 1.381196399999908, 1.2392222000000856, 1.2216885000000275, 1.0974099000000024, 1.1161294999999427, 1.2883860999997978, 1.7542350999999599, 1.8548325000001569, 1.7526378000000022, 1.7547781999999188, 1.4038896000001841, 1.518183800000088, 1.196704200000113, 1.3069295000000238, 1.8395775000001322, 1.882637700000032, 1.820394399999941, 1.8500621000000592, 1.448633799999925, 1.1532709999999042, 1.1450694000000112, 1.3199680000000171, 1.428999900000008, 1.305755099999942, 1.1816661000000295, 1.287144699999999, 1.160618900000145, 1.2034358999999313, 1.584403199999997, 1.8180882000001475, 1.6906821000000036, 1.7098196000001735, 1.9812408000000232]\n",
      "\n",
      "\n",
      "Iteration 89 \n",
      "Explore Rate 0.5 \n",
      "Time for Explore Rate [1.4322650000001431, 1.7031425000000127, 1.2830266999999367, 1.475841199999877, 1.2860881999999947, 1.2231071000001066, 1.1308498000000782, 1.8195515999998406, 1.8954352000000654, 1.9007328000000143, 1.9608909999999469, 1.7002813999999944, 1.3415706000000682, 1.4680716999998822, 1.302954699999873, 1.1507424999999785, 1.177947500000073, 1.7939268000000084, 1.796566700000085, 1.931787199999917, 1.8072855999998865, 1.1974199999999655, 1.0673214000000826, 1.3642555999999786, 1.395275300000094, 1.2238090999999258, 1.1493882999998277, 1.8210476999997809, 1.9130186999998386, 1.8204854999999043, 1.6221797999999126, 1.3492310999999972, 1.1117538999999397, 1.1775755999999546, 1.5050633999999263, 1.5716687999999976, 1.2176255000001674, 1.3007764999999836, 1.2311878000000434, 1.0881537000000208, 1.5200784000001022, 1.8118952999998328, 1.686236000000008, 1.94693970000003, 1.8569461999998111, 2.129688899999792, 1.223319100000026, 1.2080493000000843, 1.1005256999999347, 1.0783950999998524, 1.5255415999999968, 1.843106399999897, 1.7864458999999897, 1.7792993999998998, 2.036510700000008, 1.3141114999998535, 1.381196399999908, 1.2392222000000856, 1.2216885000000275, 1.0974099000000024, 1.1161294999999427, 1.2883860999997978, 1.7542350999999599, 1.8548325000001569, 1.7526378000000022, 1.7547781999999188, 1.4038896000001841, 1.518183800000088, 1.196704200000113, 1.3069295000000238, 1.8395775000001322, 1.882637700000032, 1.820394399999941, 1.8500621000000592, 1.448633799999925, 1.1532709999999042, 1.1450694000000112, 1.3199680000000171, 1.428999900000008, 1.305755099999942, 1.1816661000000295, 1.287144699999999, 1.160618900000145, 1.2034358999999313, 1.584403199999997, 1.8180882000001475, 1.6906821000000036, 1.7098196000001735, 1.9812408000000232, 1.2209058000000823]\n",
      "\n",
      "\n",
      "Iteration 90 \n",
      "Explore Rate 0.5 \n",
      "Time for Explore Rate [1.4322650000001431, 1.7031425000000127, 1.2830266999999367, 1.475841199999877, 1.2860881999999947, 1.2231071000001066, 1.1308498000000782, 1.8195515999998406, 1.8954352000000654, 1.9007328000000143, 1.9608909999999469, 1.7002813999999944, 1.3415706000000682, 1.4680716999998822, 1.302954699999873, 1.1507424999999785, 1.177947500000073, 1.7939268000000084, 1.796566700000085, 1.931787199999917, 1.8072855999998865, 1.1974199999999655, 1.0673214000000826, 1.3642555999999786, 1.395275300000094, 1.2238090999999258, 1.1493882999998277, 1.8210476999997809, 1.9130186999998386, 1.8204854999999043, 1.6221797999999126, 1.3492310999999972, 1.1117538999999397, 1.1775755999999546, 1.5050633999999263, 1.5716687999999976, 1.2176255000001674, 1.3007764999999836, 1.2311878000000434, 1.0881537000000208, 1.5200784000001022, 1.8118952999998328, 1.686236000000008, 1.94693970000003, 1.8569461999998111, 2.129688899999792, 1.223319100000026, 1.2080493000000843, 1.1005256999999347, 1.0783950999998524, 1.5255415999999968, 1.843106399999897, 1.7864458999999897, 1.7792993999998998, 2.036510700000008, 1.3141114999998535, 1.381196399999908, 1.2392222000000856, 1.2216885000000275, 1.0974099000000024, 1.1161294999999427, 1.2883860999997978, 1.7542350999999599, 1.8548325000001569, 1.7526378000000022, 1.7547781999999188, 1.4038896000001841, 1.518183800000088, 1.196704200000113, 1.3069295000000238, 1.8395775000001322, 1.882637700000032, 1.820394399999941, 1.8500621000000592, 1.448633799999925, 1.1532709999999042, 1.1450694000000112, 1.3199680000000171, 1.428999900000008, 1.305755099999942, 1.1816661000000295, 1.287144699999999, 1.160618900000145, 1.2034358999999313, 1.584403199999997, 1.8180882000001475, 1.6906821000000036, 1.7098196000001735, 1.9812408000000232, 1.2209058000000823, 1.1536283000000367]\n",
      "\n",
      "\n"
     ]
    },
    {
     "name": "stdout",
     "output_type": "stream",
     "text": [
      "Iteration 91 \n",
      "Explore Rate 0.5 \n",
      "Time for Explore Rate [1.4322650000001431, 1.7031425000000127, 1.2830266999999367, 1.475841199999877, 1.2860881999999947, 1.2231071000001066, 1.1308498000000782, 1.8195515999998406, 1.8954352000000654, 1.9007328000000143, 1.9608909999999469, 1.7002813999999944, 1.3415706000000682, 1.4680716999998822, 1.302954699999873, 1.1507424999999785, 1.177947500000073, 1.7939268000000084, 1.796566700000085, 1.931787199999917, 1.8072855999998865, 1.1974199999999655, 1.0673214000000826, 1.3642555999999786, 1.395275300000094, 1.2238090999999258, 1.1493882999998277, 1.8210476999997809, 1.9130186999998386, 1.8204854999999043, 1.6221797999999126, 1.3492310999999972, 1.1117538999999397, 1.1775755999999546, 1.5050633999999263, 1.5716687999999976, 1.2176255000001674, 1.3007764999999836, 1.2311878000000434, 1.0881537000000208, 1.5200784000001022, 1.8118952999998328, 1.686236000000008, 1.94693970000003, 1.8569461999998111, 2.129688899999792, 1.223319100000026, 1.2080493000000843, 1.1005256999999347, 1.0783950999998524, 1.5255415999999968, 1.843106399999897, 1.7864458999999897, 1.7792993999998998, 2.036510700000008, 1.3141114999998535, 1.381196399999908, 1.2392222000000856, 1.2216885000000275, 1.0974099000000024, 1.1161294999999427, 1.2883860999997978, 1.7542350999999599, 1.8548325000001569, 1.7526378000000022, 1.7547781999999188, 1.4038896000001841, 1.518183800000088, 1.196704200000113, 1.3069295000000238, 1.8395775000001322, 1.882637700000032, 1.820394399999941, 1.8500621000000592, 1.448633799999925, 1.1532709999999042, 1.1450694000000112, 1.3199680000000171, 1.428999900000008, 1.305755099999942, 1.1816661000000295, 1.287144699999999, 1.160618900000145, 1.2034358999999313, 1.584403199999997, 1.8180882000001475, 1.6906821000000036, 1.7098196000001735, 1.9812408000000232, 1.2209058000000823, 1.1536283000000367, 1.149812699999984]\n",
      "\n",
      "\n",
      "Iteration 92 \n",
      "Explore Rate 0.5 \n",
      "Time for Explore Rate [1.4322650000001431, 1.7031425000000127, 1.2830266999999367, 1.475841199999877, 1.2860881999999947, 1.2231071000001066, 1.1308498000000782, 1.8195515999998406, 1.8954352000000654, 1.9007328000000143, 1.9608909999999469, 1.7002813999999944, 1.3415706000000682, 1.4680716999998822, 1.302954699999873, 1.1507424999999785, 1.177947500000073, 1.7939268000000084, 1.796566700000085, 1.931787199999917, 1.8072855999998865, 1.1974199999999655, 1.0673214000000826, 1.3642555999999786, 1.395275300000094, 1.2238090999999258, 1.1493882999998277, 1.8210476999997809, 1.9130186999998386, 1.8204854999999043, 1.6221797999999126, 1.3492310999999972, 1.1117538999999397, 1.1775755999999546, 1.5050633999999263, 1.5716687999999976, 1.2176255000001674, 1.3007764999999836, 1.2311878000000434, 1.0881537000000208, 1.5200784000001022, 1.8118952999998328, 1.686236000000008, 1.94693970000003, 1.8569461999998111, 2.129688899999792, 1.223319100000026, 1.2080493000000843, 1.1005256999999347, 1.0783950999998524, 1.5255415999999968, 1.843106399999897, 1.7864458999999897, 1.7792993999998998, 2.036510700000008, 1.3141114999998535, 1.381196399999908, 1.2392222000000856, 1.2216885000000275, 1.0974099000000024, 1.1161294999999427, 1.2883860999997978, 1.7542350999999599, 1.8548325000001569, 1.7526378000000022, 1.7547781999999188, 1.4038896000001841, 1.518183800000088, 1.196704200000113, 1.3069295000000238, 1.8395775000001322, 1.882637700000032, 1.820394399999941, 1.8500621000000592, 1.448633799999925, 1.1532709999999042, 1.1450694000000112, 1.3199680000000171, 1.428999900000008, 1.305755099999942, 1.1816661000000295, 1.287144699999999, 1.160618900000145, 1.2034358999999313, 1.584403199999997, 1.8180882000001475, 1.6906821000000036, 1.7098196000001735, 1.9812408000000232, 1.2209058000000823, 1.1536283000000367, 1.149812699999984, 1.1314484000001812]\n",
      "\n",
      "\n",
      "Iteration 93 \n",
      "Explore Rate 0.5 \n",
      "Time for Explore Rate [1.4322650000001431, 1.7031425000000127, 1.2830266999999367, 1.475841199999877, 1.2860881999999947, 1.2231071000001066, 1.1308498000000782, 1.8195515999998406, 1.8954352000000654, 1.9007328000000143, 1.9608909999999469, 1.7002813999999944, 1.3415706000000682, 1.4680716999998822, 1.302954699999873, 1.1507424999999785, 1.177947500000073, 1.7939268000000084, 1.796566700000085, 1.931787199999917, 1.8072855999998865, 1.1974199999999655, 1.0673214000000826, 1.3642555999999786, 1.395275300000094, 1.2238090999999258, 1.1493882999998277, 1.8210476999997809, 1.9130186999998386, 1.8204854999999043, 1.6221797999999126, 1.3492310999999972, 1.1117538999999397, 1.1775755999999546, 1.5050633999999263, 1.5716687999999976, 1.2176255000001674, 1.3007764999999836, 1.2311878000000434, 1.0881537000000208, 1.5200784000001022, 1.8118952999998328, 1.686236000000008, 1.94693970000003, 1.8569461999998111, 2.129688899999792, 1.223319100000026, 1.2080493000000843, 1.1005256999999347, 1.0783950999998524, 1.5255415999999968, 1.843106399999897, 1.7864458999999897, 1.7792993999998998, 2.036510700000008, 1.3141114999998535, 1.381196399999908, 1.2392222000000856, 1.2216885000000275, 1.0974099000000024, 1.1161294999999427, 1.2883860999997978, 1.7542350999999599, 1.8548325000001569, 1.7526378000000022, 1.7547781999999188, 1.4038896000001841, 1.518183800000088, 1.196704200000113, 1.3069295000000238, 1.8395775000001322, 1.882637700000032, 1.820394399999941, 1.8500621000000592, 1.448633799999925, 1.1532709999999042, 1.1450694000000112, 1.3199680000000171, 1.428999900000008, 1.305755099999942, 1.1816661000000295, 1.287144699999999, 1.160618900000145, 1.2034358999999313, 1.584403199999997, 1.8180882000001475, 1.6906821000000036, 1.7098196000001735, 1.9812408000000232, 1.2209058000000823, 1.1536283000000367, 1.149812699999984, 1.1314484000001812, 1.7896118000001024]\n",
      "\n",
      "\n",
      "Iteration 94 \n",
      "Explore Rate 0.5 \n",
      "Time for Explore Rate [1.4322650000001431, 1.7031425000000127, 1.2830266999999367, 1.475841199999877, 1.2860881999999947, 1.2231071000001066, 1.1308498000000782, 1.8195515999998406, 1.8954352000000654, 1.9007328000000143, 1.9608909999999469, 1.7002813999999944, 1.3415706000000682, 1.4680716999998822, 1.302954699999873, 1.1507424999999785, 1.177947500000073, 1.7939268000000084, 1.796566700000085, 1.931787199999917, 1.8072855999998865, 1.1974199999999655, 1.0673214000000826, 1.3642555999999786, 1.395275300000094, 1.2238090999999258, 1.1493882999998277, 1.8210476999997809, 1.9130186999998386, 1.8204854999999043, 1.6221797999999126, 1.3492310999999972, 1.1117538999999397, 1.1775755999999546, 1.5050633999999263, 1.5716687999999976, 1.2176255000001674, 1.3007764999999836, 1.2311878000000434, 1.0881537000000208, 1.5200784000001022, 1.8118952999998328, 1.686236000000008, 1.94693970000003, 1.8569461999998111, 2.129688899999792, 1.223319100000026, 1.2080493000000843, 1.1005256999999347, 1.0783950999998524, 1.5255415999999968, 1.843106399999897, 1.7864458999999897, 1.7792993999998998, 2.036510700000008, 1.3141114999998535, 1.381196399999908, 1.2392222000000856, 1.2216885000000275, 1.0974099000000024, 1.1161294999999427, 1.2883860999997978, 1.7542350999999599, 1.8548325000001569, 1.7526378000000022, 1.7547781999999188, 1.4038896000001841, 1.518183800000088, 1.196704200000113, 1.3069295000000238, 1.8395775000001322, 1.882637700000032, 1.820394399999941, 1.8500621000000592, 1.448633799999925, 1.1532709999999042, 1.1450694000000112, 1.3199680000000171, 1.428999900000008, 1.305755099999942, 1.1816661000000295, 1.287144699999999, 1.160618900000145, 1.2034358999999313, 1.584403199999997, 1.8180882000001475, 1.6906821000000036, 1.7098196000001735, 1.9812408000000232, 1.2209058000000823, 1.1536283000000367, 1.149812699999984, 1.1314484000001812, 1.7896118000001024, 1.910065300000042]\n",
      "\n",
      "\n",
      "Iteration 95 \n",
      "Explore Rate 0.5 \n",
      "Time for Explore Rate [1.4322650000001431, 1.7031425000000127, 1.2830266999999367, 1.475841199999877, 1.2860881999999947, 1.2231071000001066, 1.1308498000000782, 1.8195515999998406, 1.8954352000000654, 1.9007328000000143, 1.9608909999999469, 1.7002813999999944, 1.3415706000000682, 1.4680716999998822, 1.302954699999873, 1.1507424999999785, 1.177947500000073, 1.7939268000000084, 1.796566700000085, 1.931787199999917, 1.8072855999998865, 1.1974199999999655, 1.0673214000000826, 1.3642555999999786, 1.395275300000094, 1.2238090999999258, 1.1493882999998277, 1.8210476999997809, 1.9130186999998386, 1.8204854999999043, 1.6221797999999126, 1.3492310999999972, 1.1117538999999397, 1.1775755999999546, 1.5050633999999263, 1.5716687999999976, 1.2176255000001674, 1.3007764999999836, 1.2311878000000434, 1.0881537000000208, 1.5200784000001022, 1.8118952999998328, 1.686236000000008, 1.94693970000003, 1.8569461999998111, 2.129688899999792, 1.223319100000026, 1.2080493000000843, 1.1005256999999347, 1.0783950999998524, 1.5255415999999968, 1.843106399999897, 1.7864458999999897, 1.7792993999998998, 2.036510700000008, 1.3141114999998535, 1.381196399999908, 1.2392222000000856, 1.2216885000000275, 1.0974099000000024, 1.1161294999999427, 1.2883860999997978, 1.7542350999999599, 1.8548325000001569, 1.7526378000000022, 1.7547781999999188, 1.4038896000001841, 1.518183800000088, 1.196704200000113, 1.3069295000000238, 1.8395775000001322, 1.882637700000032, 1.820394399999941, 1.8500621000000592, 1.448633799999925, 1.1532709999999042, 1.1450694000000112, 1.3199680000000171, 1.428999900000008, 1.305755099999942, 1.1816661000000295, 1.287144699999999, 1.160618900000145, 1.2034358999999313, 1.584403199999997, 1.8180882000001475, 1.6906821000000036, 1.7098196000001735, 1.9812408000000232, 1.2209058000000823, 1.1536283000000367, 1.149812699999984, 1.1314484000001812, 1.7896118000001024, 1.910065300000042, 1.8671139000000494]\n",
      "\n",
      "\n"
     ]
    },
    {
     "name": "stdout",
     "output_type": "stream",
     "text": [
      "Iteration 96 \n",
      "Explore Rate 0.5 \n",
      "Time for Explore Rate [1.4322650000001431, 1.7031425000000127, 1.2830266999999367, 1.475841199999877, 1.2860881999999947, 1.2231071000001066, 1.1308498000000782, 1.8195515999998406, 1.8954352000000654, 1.9007328000000143, 1.9608909999999469, 1.7002813999999944, 1.3415706000000682, 1.4680716999998822, 1.302954699999873, 1.1507424999999785, 1.177947500000073, 1.7939268000000084, 1.796566700000085, 1.931787199999917, 1.8072855999998865, 1.1974199999999655, 1.0673214000000826, 1.3642555999999786, 1.395275300000094, 1.2238090999999258, 1.1493882999998277, 1.8210476999997809, 1.9130186999998386, 1.8204854999999043, 1.6221797999999126, 1.3492310999999972, 1.1117538999999397, 1.1775755999999546, 1.5050633999999263, 1.5716687999999976, 1.2176255000001674, 1.3007764999999836, 1.2311878000000434, 1.0881537000000208, 1.5200784000001022, 1.8118952999998328, 1.686236000000008, 1.94693970000003, 1.8569461999998111, 2.129688899999792, 1.223319100000026, 1.2080493000000843, 1.1005256999999347, 1.0783950999998524, 1.5255415999999968, 1.843106399999897, 1.7864458999999897, 1.7792993999998998, 2.036510700000008, 1.3141114999998535, 1.381196399999908, 1.2392222000000856, 1.2216885000000275, 1.0974099000000024, 1.1161294999999427, 1.2883860999997978, 1.7542350999999599, 1.8548325000001569, 1.7526378000000022, 1.7547781999999188, 1.4038896000001841, 1.518183800000088, 1.196704200000113, 1.3069295000000238, 1.8395775000001322, 1.882637700000032, 1.820394399999941, 1.8500621000000592, 1.448633799999925, 1.1532709999999042, 1.1450694000000112, 1.3199680000000171, 1.428999900000008, 1.305755099999942, 1.1816661000000295, 1.287144699999999, 1.160618900000145, 1.2034358999999313, 1.584403199999997, 1.8180882000001475, 1.6906821000000036, 1.7098196000001735, 1.9812408000000232, 1.2209058000000823, 1.1536283000000367, 1.149812699999984, 1.1314484000001812, 1.7896118000001024, 1.910065300000042, 1.8671139000000494, 1.8624271999999564]\n",
      "\n",
      "\n",
      "Iteration 97 \n",
      "Explore Rate 0.5 \n",
      "Time for Explore Rate [1.4322650000001431, 1.7031425000000127, 1.2830266999999367, 1.475841199999877, 1.2860881999999947, 1.2231071000001066, 1.1308498000000782, 1.8195515999998406, 1.8954352000000654, 1.9007328000000143, 1.9608909999999469, 1.7002813999999944, 1.3415706000000682, 1.4680716999998822, 1.302954699999873, 1.1507424999999785, 1.177947500000073, 1.7939268000000084, 1.796566700000085, 1.931787199999917, 1.8072855999998865, 1.1974199999999655, 1.0673214000000826, 1.3642555999999786, 1.395275300000094, 1.2238090999999258, 1.1493882999998277, 1.8210476999997809, 1.9130186999998386, 1.8204854999999043, 1.6221797999999126, 1.3492310999999972, 1.1117538999999397, 1.1775755999999546, 1.5050633999999263, 1.5716687999999976, 1.2176255000001674, 1.3007764999999836, 1.2311878000000434, 1.0881537000000208, 1.5200784000001022, 1.8118952999998328, 1.686236000000008, 1.94693970000003, 1.8569461999998111, 2.129688899999792, 1.223319100000026, 1.2080493000000843, 1.1005256999999347, 1.0783950999998524, 1.5255415999999968, 1.843106399999897, 1.7864458999999897, 1.7792993999998998, 2.036510700000008, 1.3141114999998535, 1.381196399999908, 1.2392222000000856, 1.2216885000000275, 1.0974099000000024, 1.1161294999999427, 1.2883860999997978, 1.7542350999999599, 1.8548325000001569, 1.7526378000000022, 1.7547781999999188, 1.4038896000001841, 1.518183800000088, 1.196704200000113, 1.3069295000000238, 1.8395775000001322, 1.882637700000032, 1.820394399999941, 1.8500621000000592, 1.448633799999925, 1.1532709999999042, 1.1450694000000112, 1.3199680000000171, 1.428999900000008, 1.305755099999942, 1.1816661000000295, 1.287144699999999, 1.160618900000145, 1.2034358999999313, 1.584403199999997, 1.8180882000001475, 1.6906821000000036, 1.7098196000001735, 1.9812408000000232, 1.2209058000000823, 1.1536283000000367, 1.149812699999984, 1.1314484000001812, 1.7896118000001024, 1.910065300000042, 1.8671139000000494, 1.8624271999999564, 1.797550499999943]\n",
      "\n",
      "\n",
      "Iteration 98 \n",
      "Explore Rate 0.5 \n",
      "Time for Explore Rate [1.4322650000001431, 1.7031425000000127, 1.2830266999999367, 1.475841199999877, 1.2860881999999947, 1.2231071000001066, 1.1308498000000782, 1.8195515999998406, 1.8954352000000654, 1.9007328000000143, 1.9608909999999469, 1.7002813999999944, 1.3415706000000682, 1.4680716999998822, 1.302954699999873, 1.1507424999999785, 1.177947500000073, 1.7939268000000084, 1.796566700000085, 1.931787199999917, 1.8072855999998865, 1.1974199999999655, 1.0673214000000826, 1.3642555999999786, 1.395275300000094, 1.2238090999999258, 1.1493882999998277, 1.8210476999997809, 1.9130186999998386, 1.8204854999999043, 1.6221797999999126, 1.3492310999999972, 1.1117538999999397, 1.1775755999999546, 1.5050633999999263, 1.5716687999999976, 1.2176255000001674, 1.3007764999999836, 1.2311878000000434, 1.0881537000000208, 1.5200784000001022, 1.8118952999998328, 1.686236000000008, 1.94693970000003, 1.8569461999998111, 2.129688899999792, 1.223319100000026, 1.2080493000000843, 1.1005256999999347, 1.0783950999998524, 1.5255415999999968, 1.843106399999897, 1.7864458999999897, 1.7792993999998998, 2.036510700000008, 1.3141114999998535, 1.381196399999908, 1.2392222000000856, 1.2216885000000275, 1.0974099000000024, 1.1161294999999427, 1.2883860999997978, 1.7542350999999599, 1.8548325000001569, 1.7526378000000022, 1.7547781999999188, 1.4038896000001841, 1.518183800000088, 1.196704200000113, 1.3069295000000238, 1.8395775000001322, 1.882637700000032, 1.820394399999941, 1.8500621000000592, 1.448633799999925, 1.1532709999999042, 1.1450694000000112, 1.3199680000000171, 1.428999900000008, 1.305755099999942, 1.1816661000000295, 1.287144699999999, 1.160618900000145, 1.2034358999999313, 1.584403199999997, 1.8180882000001475, 1.6906821000000036, 1.7098196000001735, 1.9812408000000232, 1.2209058000000823, 1.1536283000000367, 1.149812699999984, 1.1314484000001812, 1.7896118000001024, 1.910065300000042, 1.8671139000000494, 1.8624271999999564, 1.797550499999943, 1.4878299999998035]\n",
      "\n",
      "\n",
      "Iteration 99 \n",
      "Explore Rate 0.5 \n",
      "Time for Explore Rate [1.4322650000001431, 1.7031425000000127, 1.2830266999999367, 1.475841199999877, 1.2860881999999947, 1.2231071000001066, 1.1308498000000782, 1.8195515999998406, 1.8954352000000654, 1.9007328000000143, 1.9608909999999469, 1.7002813999999944, 1.3415706000000682, 1.4680716999998822, 1.302954699999873, 1.1507424999999785, 1.177947500000073, 1.7939268000000084, 1.796566700000085, 1.931787199999917, 1.8072855999998865, 1.1974199999999655, 1.0673214000000826, 1.3642555999999786, 1.395275300000094, 1.2238090999999258, 1.1493882999998277, 1.8210476999997809, 1.9130186999998386, 1.8204854999999043, 1.6221797999999126, 1.3492310999999972, 1.1117538999999397, 1.1775755999999546, 1.5050633999999263, 1.5716687999999976, 1.2176255000001674, 1.3007764999999836, 1.2311878000000434, 1.0881537000000208, 1.5200784000001022, 1.8118952999998328, 1.686236000000008, 1.94693970000003, 1.8569461999998111, 2.129688899999792, 1.223319100000026, 1.2080493000000843, 1.1005256999999347, 1.0783950999998524, 1.5255415999999968, 1.843106399999897, 1.7864458999999897, 1.7792993999998998, 2.036510700000008, 1.3141114999998535, 1.381196399999908, 1.2392222000000856, 1.2216885000000275, 1.0974099000000024, 1.1161294999999427, 1.2883860999997978, 1.7542350999999599, 1.8548325000001569, 1.7526378000000022, 1.7547781999999188, 1.4038896000001841, 1.518183800000088, 1.196704200000113, 1.3069295000000238, 1.8395775000001322, 1.882637700000032, 1.820394399999941, 1.8500621000000592, 1.448633799999925, 1.1532709999999042, 1.1450694000000112, 1.3199680000000171, 1.428999900000008, 1.305755099999942, 1.1816661000000295, 1.287144699999999, 1.160618900000145, 1.2034358999999313, 1.584403199999997, 1.8180882000001475, 1.6906821000000036, 1.7098196000001735, 1.9812408000000232, 1.2209058000000823, 1.1536283000000367, 1.149812699999984, 1.1314484000001812, 1.7896118000001024, 1.910065300000042, 1.8671139000000494, 1.8624271999999564, 1.797550499999943, 1.4878299999998035, 1.2408854000000247]\n",
      "\n",
      "\n",
      "Cost 0.07475388465193315 Chromosome [ 3.21440584 -1.21066442 -1.19868717 -1.27090737  3.23075885]\n"
     ]
    },
    {
     "data": {
      "image/png": "[encoded data removed]",
      "text/plain": [
       "<Figure size 432x288 with 1 Axes>"
      ]
     },
     "metadata": {
      "needs_background": "light"
     },
     "output_type": "display_data"
    }
   ],
   "source": [
    "test_explore_alt()"
   ]
  },
  {
   "cell_type": "markdown",
   "metadata": {},
   "source": [
    "<h3>The time taken to accomplish the genetic algorithm when running the algorithm 100 times is longer in general than previous tests acccording to this graph but it occurs less times as the solution heads under the error rate in short amounts of time thoughout the test when it runs multiple times. At one point, When the solution runs 100 times, the best cost is reached in short time periods in more iterations than other tests when the test is performed 100 times compared to 10 times. It shows how the Gamma value determines when the exploitation comes into effect where the exploration is carried out at the start and not the end when exploitation is performed to search for a preferable path that offers rewards immediately when exploiting the opportunistic paths when performing exploration. With exploration here, the entire search space is searched over to find other beneficial solutions to problems that must be edited which is known as a global search.<h3>"
   ]
  },
  {
   "cell_type": "markdown",
   "metadata": {},
   "source": [
    "<h2>------------------------------------------------------------------------------------------<h2>"
   ]
  },
  {
   "cell_type": "markdown",
   "metadata": {},
   "source": [
    "<h1>Testing out number of iterations set at 200 to see what would happen with all of the existing parameters whether original at the start or the values updated later on. (Save this one for last before looking at second part of CA)<h1>"
   ]
  },
  {
   "cell_type": "code",
   "execution_count": 94,
   "metadata": {},
   "outputs": [],
   "source": [
    "pars.number_of_iterations = 200"
   ]
  },
  {
   "cell_type": "code",
   "execution_count": 146,
   "metadata": {},
   "outputs": [
    {
     "data": {
      "text/plain": [
       "'Iterations/Generations 200 Population 150 Children No 300 Child Rate 2 Explore Rate 0.5 Mutation Rate 0.3 Mutation Range 0.2'"
      ]
     },
     "execution_count": 146,
     "metadata": {},
     "output_type": "execute_result"
    }
   ],
   "source": [
    "pars.to_string()"
   ]
  },
  {
   "cell_type": "code",
   "execution_count": 148,
   "metadata": {},
   "outputs": [
    {
     "data": {
      "text/plain": [
       "16.948973800001113"
      ]
     },
     "execution_count": 148,
     "metadata": {},
     "output_type": "execute_result"
    }
   ],
   "source": [
    "test_genetic(10,prob,pars,0.0001)"
   ]
  },
  {
   "cell_type": "markdown",
   "metadata": {},
   "source": [
    "<h3>With a higher number of iterations that is set at 200 when the iteration parameter is changed, it is clear that the time it takes for the genetic algorithm to be completed when both the number of runs are set at 10 and 100 is much longer than the time it takes when 100 iterations are used. The time would be shorter if less iterations were used for the algorithm when the number of runs is put at 10 during the testing of the genetic algorithm. A graph for 200 iterations would take too long to form considering the iterations would be bigger and it would take a longer while to carry out the genetic algorithm than when the iterations is set at 100. An error rate of 0.0001 is used where the running of the algorithm finishes after an iteration of the algorithm finishes with the best solution of that run in an iteration going under the error rate. The graphs would likely display that the average time to complete the iteration when the number of iterations is set at 200 would be fluctuating a lot of the time and it would tak the longest time out of the tests unless the population number was set at a high value like 250 from the original value of 100. The graph for the 10 runs looks almost like a natural distribution when working out how the times have an impact on which parameters work best to get close to the optimal solution as best as possible. When the cost function is low, the fitness will be high which would confirm the best possible solution.<h3>"
   ]
  },
  {
   "cell_type": "code",
   "execution_count": 149,
   "metadata": {},
   "outputs": [
    {
     "name": "stdout",
     "output_type": "stream",
     "text": [
      "Iteration 0 \n",
      "Time for Explore Rate [5.207398899998225]\n",
      "\n",
      "\n",
      "Iteration 1 \n",
      "Time for Explore Rate [5.207398899998225, 5.5476168999994115]\n",
      "\n",
      "\n",
      "Iteration 2 \n",
      "Time for Explore Rate [5.207398899998225, 5.5476168999994115, 8.70239009999932]\n",
      "\n",
      "\n",
      "Iteration 3 \n",
      "Time for Explore Rate [5.207398899998225, 5.5476168999994115, 8.70239009999932, 5.676510999997845]\n",
      "\n",
      "\n",
      "Iteration 4 \n",
      "Time for Explore Rate [5.207398899998225, 5.5476168999994115, 8.70239009999932, 5.676510999997845, 5.018583699998999]\n",
      "\n",
      "\n",
      "Iteration 5 \n",
      "Time for Explore Rate [5.207398899998225, 5.5476168999994115, 8.70239009999932, 5.676510999997845, 5.018583699998999, 5.51458249999996]\n",
      "\n",
      "\n",
      "Iteration 6 \n",
      "Time for Explore Rate [5.207398899998225, 5.5476168999994115, 8.70239009999932, 5.676510999997845, 5.018583699998999, 5.51458249999996, 5.574269400000048]\n",
      "\n",
      "\n",
      "Iteration 7 \n",
      "Time for Explore Rate [5.207398899998225, 5.5476168999994115, 8.70239009999932, 5.676510999997845, 5.018583699998999, 5.51458249999996, 5.574269400000048, 4.905664399997477]\n",
      "\n",
      "\n",
      "Iteration 8 \n",
      "Time for Explore Rate [5.207398899998225, 5.5476168999994115, 8.70239009999932, 5.676510999997845, 5.018583699998999, 5.51458249999996, 5.574269400000048, 4.905664399997477, 5.17602899999838]\n",
      "\n",
      "\n",
      "Iteration 9 \n",
      "Time for Explore Rate [5.207398899998225, 5.5476168999994115, 8.70239009999932, 5.676510999997845, 5.018583699998999, 5.51458249999996, 5.574269400000048, 4.905664399997477, 5.17602899999838, 5.879426100000273]\n",
      "\n",
      "\n",
      "Cost 0.07475388465193315 Chromosome [ 3.21440584 -1.21066442 -1.19868717 -1.27090737  3.23075885]\n"
     ]
    },
    {
     "data": {
      "image/png": "[encoded data removed]",
      "text/plain": [
       "<Figure size 432x288 with 1 Axes>"
      ]
     },
     "metadata": {
      "needs_background": "light"
     },
     "output_type": "display_data"
    }
   ],
   "source": [
    "test_explore()"
   ]
  },
  {
   "cell_type": "markdown",
   "metadata": {},
   "source": [
    "<h2>------------------------------------------------------------------------------------------<h2>"
   ]
  },
  {
   "cell_type": "markdown",
   "metadata": {},
   "source": [
    "<h1>Testing out mutation range below multiple times with 0.2 value combined with explore rate of 0.5 from earlier on.<h1>"
   ]
  },
  {
   "cell_type": "code",
   "execution_count": 56,
   "metadata": {},
   "outputs": [],
   "source": [
    "pars.mutation_range = 0.2"
   ]
  },
  {
   "cell_type": "code",
   "execution_count": 47,
   "metadata": {},
   "outputs": [
    {
     "data": {
      "text/plain": [
       "'Iterations/Generations 100 Population 50 Children No 50 Child Rate 1 Explore Rate 0.5 Mutation Rate 0.2 Mutation Range 0.2'"
      ]
     },
     "execution_count": 47,
     "metadata": {},
     "output_type": "execute_result"
    }
   ],
   "source": [
    "pars.to_string()"
   ]
  },
  {
   "cell_type": "code",
   "execution_count": 48,
   "metadata": {},
   "outputs": [
    {
     "data": {
      "text/plain": [
       "32.45899910000003"
      ]
     },
     "execution_count": 48,
     "metadata": {},
     "output_type": "execute_result"
    }
   ],
   "source": [
    "test_genetic(100,prob,pars,0.0001)"
   ]
  },
  {
   "cell_type": "markdown",
   "metadata": {},
   "source": [
    "<h3>The test for the number of runs is set at 100 where the mutation range is set at 0.2 rather than 0.1. The greater mutation range would allow for determining the amount that the individual gene would change by which in this case would increase the chance of an individual gene changing based on the gene array which contains 5 floating point numbers. The time it takes for the genetic algorithm to last 100 runs here is unsurprisingly higher when the higher mutation range is present as well as the updated explore rate of 0.5.<h3>"
   ]
  },
  {
   "cell_type": "code",
   "execution_count": 49,
   "metadata": {},
   "outputs": [
    {
     "data": {
      "text/plain": [
       "2.982093800000257"
      ]
     },
     "execution_count": 49,
     "metadata": {},
     "output_type": "execute_result"
    }
   ],
   "source": [
    "test_genetic(10,prob,pars,0.0001)"
   ]
  },
  {
   "cell_type": "markdown",
   "metadata": {},
   "source": [
    "<h3>The time taken for the algortihm to finish is longer than an explore rate test with 0.1 which involves 10 as the number of runs as the mutation range is 0.1 higher than the initial value when the mutation range was set at 0.1. In this case, the mutation range is set at 0.2 in addition to the updated parameter of the explore rate at 0.5 as mentioned earlier on. This higher exploration and mutation range could bring us further away from the optimal solution during multiple runs of the algorithm when the explore rate is quick at the beginning but it slows down eventually during the later iterations due to the higher best solution costs.<h3>"
   ]
  },
  {
   "cell_type": "code",
   "execution_count": 57,
   "metadata": {},
   "outputs": [],
   "source": [
    "def test_mutation_range():\n",
    "    times_for_mutation_range = []\n",
    "    for i in range(10):\n",
    "        #pars.explore_rate = float(i) / 5.0\n",
    "        times_for_mutation_range.append(test_genetic(10,prob,pars,0.1)) \n",
    "        print(\"Iteration {} \\nMutation Range {} \\nTime for Mutation Range {}\".format(i,pars.mutation_range,times_for_mutation_range))\n",
    "        print()\n",
    "    plt.xlabel(\"Iterations\")\n",
    "    plt.ylabel(\"Times for Mutation Range\")\n",
    "    plt.title(\"Genetic Algorithm\")\n",
    "    plt.plot(times_for_mutation_range)\n",
    "    print(\"Cost {} Chromosome {}\".format(best_solution.cost,best_solution.chromosome))"
   ]
  },
  {
   "cell_type": "code",
   "execution_count": 58,
   "metadata": {},
   "outputs": [
    {
     "name": "stdout",
     "output_type": "stream",
     "text": [
      "Iteration 0 \n",
      "Mutation Range 0.2 \n",
      "Time for Mutation Range [1.35517499999969]\n",
      "\n",
      "Iteration 1 \n",
      "Mutation Range 0.2 \n",
      "Time for Mutation Range [1.35517499999969, 1.2199217999996108]\n",
      "\n",
      "Iteration 2 \n",
      "Mutation Range 0.2 \n",
      "Time for Mutation Range [1.35517499999969, 1.2199217999996108, 1.5633287000000564]\n",
      "\n",
      "Iteration 3 \n",
      "Mutation Range 0.2 \n",
      "Time for Mutation Range [1.35517499999969, 1.2199217999996108, 1.5633287000000564, 1.579713200000242]\n",
      "\n",
      "Iteration 4 \n",
      "Mutation Range 0.2 \n",
      "Time for Mutation Range [1.35517499999969, 1.2199217999996108, 1.5633287000000564, 1.579713200000242, 1.2514878000001772]\n",
      "\n",
      "Iteration 5 \n",
      "Mutation Range 0.2 \n",
      "Time for Mutation Range [1.35517499999969, 1.2199217999996108, 1.5633287000000564, 1.579713200000242, 1.2514878000001772, 1.944190200000321]\n",
      "\n",
      "Iteration 6 \n",
      "Mutation Range 0.2 \n",
      "Time for Mutation Range [1.35517499999969, 1.2199217999996108, 1.5633287000000564, 1.579713200000242, 1.2514878000001772, 1.944190200000321, 2.0106352000002516]\n",
      "\n",
      "Iteration 7 \n",
      "Mutation Range 0.2 \n",
      "Time for Mutation Range [1.35517499999969, 1.2199217999996108, 1.5633287000000564, 1.579713200000242, 1.2514878000001772, 1.944190200000321, 2.0106352000002516, 2.080167099999926]\n",
      "\n",
      "Iteration 8 \n",
      "Mutation Range 0.2 \n",
      "Time for Mutation Range [1.35517499999969, 1.2199217999996108, 1.5633287000000564, 1.579713200000242, 1.2514878000001772, 1.944190200000321, 2.0106352000002516, 2.080167099999926, 2.0799645000001874]\n",
      "\n",
      "Iteration 9 \n",
      "Mutation Range 0.2 \n",
      "Time for Mutation Range [1.35517499999969, 1.2199217999996108, 1.5633287000000564, 1.579713200000242, 1.2514878000001772, 1.944190200000321, 2.0106352000002516, 2.080167099999926, 2.0799645000001874, 1.4935797000002822]\n",
      "\n",
      "Cost 0.07475388465193315 Chromosome [ 3.21440584 -1.21066442 -1.19868717 -1.27090737  3.23075885]\n"
     ]
    },
    {
     "data": {
      "image/png": "[encoded data removed]",
      "text/plain": [
       "<Figure size 432x288 with 1 Axes>"
      ]
     },
     "metadata": {
      "needs_background": "light"
     },
     "output_type": "display_data"
    }
   ],
   "source": [
    "test_mutation_range()"
   ]
  },
  {
   "cell_type": "markdown",
   "metadata": {},
   "source": [
    "<h3>When the mutation range is changed to 0.2 compared to the original value of 0.1, the graph shows that the time to complete the algorithm for each iteration increases once the generations of the algorithm begins and the final score in the last iteration turns out to be lower than the starting time at the first iteration. The score peaks early on according to the graph where the range of mutation to determine the amount that an individual gene will change by is higher as the best solution cost is reached in a slower amount of time due to the edited parameters of the explore rate and the mutation range. This would result in higher costs for the algorithm in general as the higher the fitness cost, the better the problem will be when attempting to reach the optimal solution. Once the peak occurs at the shortest time to reach the best solution cost or to get close to it, the graph varies from a gradual increase to a gradual decrease and so on occurs as the genes do not exactly vary afterwards where the graph seems to rise in different iterations that represents the mutation range. It basically fluctuates as the offspring is created and emerges from the parents after crossover and mutation are applied. If more iterations were put in, the results could be expanded upon to form the optimal solution when modifying the parameters in the first part. This mutation range value is now edited alongside the explore rate.<h3>"
   ]
  },
  {
   "cell_type": "code",
   "execution_count": 59,
   "metadata": {},
   "outputs": [],
   "source": [
    "def test_mutation_range_alt():\n",
    "    times_for_mutation_range = []\n",
    "    for i in range(100):\n",
    "        #pars.mutation_range = float(i) / 5.0\n",
    "        times_for_mutation_range.append(test_genetic(10,prob,pars,0.1))\n",
    "        print(\"Iteration {} \\nMutation Range {} \\nTime for Mutation Range {}\\n\".format(i,pars.mutation_range,times_for_mutation_range))\n",
    "        print()\n",
    "    plt.xlabel(\"Iterations\")\n",
    "    plt.ylabel(\"Times for Mutation Range\")\n",
    "    plt.title(\"Genetic Algorithm\")\n",
    "    plt.plot(times_for_mutation_range)\n",
    "    print(\"Cost {} Chromosome {}\".format(best_solution.cost,best_solution.chromosome))"
   ]
  },
  {
   "cell_type": "code",
   "execution_count": 60,
   "metadata": {},
   "outputs": [
    {
     "name": "stdout",
     "output_type": "stream",
     "text": [
      "Iteration 0 \n",
      "Mutation Range 0.2 \n",
      "Time for Mutation Range [1.6673362000001362]\n",
      "\n",
      "\n",
      "Iteration 1 \n",
      "Mutation Range 0.2 \n",
      "Time for Mutation Range [1.6673362000001362, 1.4751042000002599]\n",
      "\n",
      "\n",
      "Iteration 2 \n",
      "Mutation Range 0.2 \n",
      "Time for Mutation Range [1.6673362000001362, 1.4751042000002599, 1.1972365000001446]\n",
      "\n",
      "\n",
      "Iteration 3 \n",
      "Mutation Range 0.2 \n",
      "Time for Mutation Range [1.6673362000001362, 1.4751042000002599, 1.1972365000001446, 1.541595800000323]\n",
      "\n",
      "\n",
      "Iteration 4 \n",
      "Mutation Range 0.2 \n",
      "Time for Mutation Range [1.6673362000001362, 1.4751042000002599, 1.1972365000001446, 1.541595800000323, 2.1984158000000207]\n",
      "\n",
      "\n",
      "Iteration 5 \n",
      "Mutation Range 0.2 \n",
      "Time for Mutation Range [1.6673362000001362, 1.4751042000002599, 1.1972365000001446, 1.541595800000323, 2.1984158000000207, 2.0755991999999424]\n",
      "\n",
      "\n",
      "Iteration 6 \n",
      "Mutation Range 0.2 \n",
      "Time for Mutation Range [1.6673362000001362, 1.4751042000002599, 1.1972365000001446, 1.541595800000323, 2.1984158000000207, 2.0755991999999424, 2.2150556000001416]\n",
      "\n",
      "\n",
      "Iteration 7 \n",
      "Mutation Range 0.2 \n",
      "Time for Mutation Range [1.6673362000001362, 1.4751042000002599, 1.1972365000001446, 1.541595800000323, 2.1984158000000207, 2.0755991999999424, 2.2150556000001416, 1.8879456999998183]\n",
      "\n",
      "\n",
      "Iteration 8 \n",
      "Mutation Range 0.2 \n",
      "Time for Mutation Range [1.6673362000001362, 1.4751042000002599, 1.1972365000001446, 1.541595800000323, 2.1984158000000207, 2.0755991999999424, 2.2150556000001416, 1.8879456999998183, 1.4102065000001858]\n",
      "\n",
      "\n",
      "Iteration 9 \n",
      "Mutation Range 0.2 \n",
      "Time for Mutation Range [1.6673362000001362, 1.4751042000002599, 1.1972365000001446, 1.541595800000323, 2.1984158000000207, 2.0755991999999424, 2.2150556000001416, 1.8879456999998183, 1.4102065000001858, 2.226209899999958]\n",
      "\n",
      "\n",
      "Iteration 10 \n",
      "Mutation Range 0.2 \n",
      "Time for Mutation Range [1.6673362000001362, 1.4751042000002599, 1.1972365000001446, 1.541595800000323, 2.1984158000000207, 2.0755991999999424, 2.2150556000001416, 1.8879456999998183, 1.4102065000001858, 2.226209899999958, 2.264797499999986]\n",
      "\n",
      "\n",
      "Iteration 11 \n",
      "Mutation Range 0.2 \n",
      "Time for Mutation Range [1.6673362000001362, 1.4751042000002599, 1.1972365000001446, 1.541595800000323, 2.1984158000000207, 2.0755991999999424, 2.2150556000001416, 1.8879456999998183, 1.4102065000001858, 2.226209899999958, 2.264797499999986, 2.0223426999996263]\n",
      "\n",
      "\n",
      "Iteration 12 \n",
      "Mutation Range 0.2 \n",
      "Time for Mutation Range [1.6673362000001362, 1.4751042000002599, 1.1972365000001446, 1.541595800000323, 2.1984158000000207, 2.0755991999999424, 2.2150556000001416, 1.8879456999998183, 1.4102065000001858, 2.226209899999958, 2.264797499999986, 2.0223426999996263, 1.861537600000247]\n",
      "\n",
      "\n",
      "Iteration 13 \n",
      "Mutation Range 0.2 \n",
      "Time for Mutation Range [1.6673362000001362, 1.4751042000002599, 1.1972365000001446, 1.541595800000323, 2.1984158000000207, 2.0755991999999424, 2.2150556000001416, 1.8879456999998183, 1.4102065000001858, 2.226209899999958, 2.264797499999986, 2.0223426999996263, 1.861537600000247, 2.088495399999829]\n",
      "\n",
      "\n",
      "Iteration 14 \n",
      "Mutation Range 0.2 \n",
      "Time for Mutation Range [1.6673362000001362, 1.4751042000002599, 1.1972365000001446, 1.541595800000323, 2.1984158000000207, 2.0755991999999424, 2.2150556000001416, 1.8879456999998183, 1.4102065000001858, 2.226209899999958, 2.264797499999986, 2.0223426999996263, 1.861537600000247, 2.088495399999829, 1.3225022999999965]\n",
      "\n",
      "\n",
      "Iteration 15 \n",
      "Mutation Range 0.2 \n",
      "Time for Mutation Range [1.6673362000001362, 1.4751042000002599, 1.1972365000001446, 1.541595800000323, 2.1984158000000207, 2.0755991999999424, 2.2150556000001416, 1.8879456999998183, 1.4102065000001858, 2.226209899999958, 2.264797499999986, 2.0223426999996263, 1.861537600000247, 2.088495399999829, 1.3225022999999965, 1.4672256999997444]\n",
      "\n",
      "\n",
      "Iteration 16 \n",
      "Mutation Range 0.2 \n",
      "Time for Mutation Range [1.6673362000001362, 1.4751042000002599, 1.1972365000001446, 1.541595800000323, 2.1984158000000207, 2.0755991999999424, 2.2150556000001416, 1.8879456999998183, 1.4102065000001858, 2.226209899999958, 2.264797499999986, 2.0223426999996263, 1.861537600000247, 2.088495399999829, 1.3225022999999965, 1.4672256999997444, 1.5028708999998344]\n",
      "\n",
      "\n",
      "Iteration 17 \n",
      "Mutation Range 0.2 \n",
      "Time for Mutation Range [1.6673362000001362, 1.4751042000002599, 1.1972365000001446, 1.541595800000323, 2.1984158000000207, 2.0755991999999424, 2.2150556000001416, 1.8879456999998183, 1.4102065000001858, 2.226209899999958, 2.264797499999986, 2.0223426999996263, 1.861537600000247, 2.088495399999829, 1.3225022999999965, 1.4672256999997444, 1.5028708999998344, 1.5155789000000368]\n",
      "\n",
      "\n",
      "Iteration 18 \n",
      "Mutation Range 0.2 \n",
      "Time for Mutation Range [1.6673362000001362, 1.4751042000002599, 1.1972365000001446, 1.541595800000323, 2.1984158000000207, 2.0755991999999424, 2.2150556000001416, 1.8879456999998183, 1.4102065000001858, 2.226209899999958, 2.264797499999986, 2.0223426999996263, 1.861537600000247, 2.088495399999829, 1.3225022999999965, 1.4672256999997444, 1.5028708999998344, 1.5155789000000368, 1.6120621999998548]\n",
      "\n",
      "\n",
      "Iteration 19 \n",
      "Mutation Range 0.2 \n",
      "Time for Mutation Range [1.6673362000001362, 1.4751042000002599, 1.1972365000001446, 1.541595800000323, 2.1984158000000207, 2.0755991999999424, 2.2150556000001416, 1.8879456999998183, 1.4102065000001858, 2.226209899999958, 2.264797499999986, 2.0223426999996263, 1.861537600000247, 2.088495399999829, 1.3225022999999965, 1.4672256999997444, 1.5028708999998344, 1.5155789000000368, 1.6120621999998548, 1.457917599999746]\n",
      "\n",
      "\n",
      "Iteration 20 \n",
      "Mutation Range 0.2 \n",
      "Time for Mutation Range [1.6673362000001362, 1.4751042000002599, 1.1972365000001446, 1.541595800000323, 2.1984158000000207, 2.0755991999999424, 2.2150556000001416, 1.8879456999998183, 1.4102065000001858, 2.226209899999958, 2.264797499999986, 2.0223426999996263, 1.861537600000247, 2.088495399999829, 1.3225022999999965, 1.4672256999997444, 1.5028708999998344, 1.5155789000000368, 1.6120621999998548, 1.457917599999746, 1.187955200000033]\n",
      "\n",
      "\n",
      "Iteration 21 \n",
      "Mutation Range 0.2 \n",
      "Time for Mutation Range [1.6673362000001362, 1.4751042000002599, 1.1972365000001446, 1.541595800000323, 2.1984158000000207, 2.0755991999999424, 2.2150556000001416, 1.8879456999998183, 1.4102065000001858, 2.226209899999958, 2.264797499999986, 2.0223426999996263, 1.861537600000247, 2.088495399999829, 1.3225022999999965, 1.4672256999997444, 1.5028708999998344, 1.5155789000000368, 1.6120621999998548, 1.457917599999746, 1.187955200000033, 1.5603328000001966]\n",
      "\n",
      "\n",
      "Iteration 22 \n",
      "Mutation Range 0.2 \n",
      "Time for Mutation Range [1.6673362000001362, 1.4751042000002599, 1.1972365000001446, 1.541595800000323, 2.1984158000000207, 2.0755991999999424, 2.2150556000001416, 1.8879456999998183, 1.4102065000001858, 2.226209899999958, 2.264797499999986, 2.0223426999996263, 1.861537600000247, 2.088495399999829, 1.3225022999999965, 1.4672256999997444, 1.5028708999998344, 1.5155789000000368, 1.6120621999998548, 1.457917599999746, 1.187955200000033, 1.5603328000001966, 1.9988941000001432]\n",
      "\n",
      "\n",
      "Iteration 23 \n",
      "Mutation Range 0.2 \n",
      "Time for Mutation Range [1.6673362000001362, 1.4751042000002599, 1.1972365000001446, 1.541595800000323, 2.1984158000000207, 2.0755991999999424, 2.2150556000001416, 1.8879456999998183, 1.4102065000001858, 2.226209899999958, 2.264797499999986, 2.0223426999996263, 1.861537600000247, 2.088495399999829, 1.3225022999999965, 1.4672256999997444, 1.5028708999998344, 1.5155789000000368, 1.6120621999998548, 1.457917599999746, 1.187955200000033, 1.5603328000001966, 1.9988941000001432, 2.2196530000001076]\n",
      "\n",
      "\n",
      "Iteration 24 \n",
      "Mutation Range 0.2 \n",
      "Time for Mutation Range [1.6673362000001362, 1.4751042000002599, 1.1972365000001446, 1.541595800000323, 2.1984158000000207, 2.0755991999999424, 2.2150556000001416, 1.8879456999998183, 1.4102065000001858, 2.226209899999958, 2.264797499999986, 2.0223426999996263, 1.861537600000247, 2.088495399999829, 1.3225022999999965, 1.4672256999997444, 1.5028708999998344, 1.5155789000000368, 1.6120621999998548, 1.457917599999746, 1.187955200000033, 1.5603328000001966, 1.9988941000001432, 2.2196530000001076, 1.8877972999998747]\n",
      "\n",
      "\n",
      "Iteration 25 \n",
      "Mutation Range 0.2 \n",
      "Time for Mutation Range [1.6673362000001362, 1.4751042000002599, 1.1972365000001446, 1.541595800000323, 2.1984158000000207, 2.0755991999999424, 2.2150556000001416, 1.8879456999998183, 1.4102065000001858, 2.226209899999958, 2.264797499999986, 2.0223426999996263, 1.861537600000247, 2.088495399999829, 1.3225022999999965, 1.4672256999997444, 1.5028708999998344, 1.5155789000000368, 1.6120621999998548, 1.457917599999746, 1.187955200000033, 1.5603328000001966, 1.9988941000001432, 2.2196530000001076, 1.8877972999998747, 1.9847974000003887]\n",
      "\n",
      "\n"
     ]
    },
    {
     "name": "stdout",
     "output_type": "stream",
     "text": [
      "Iteration 26 \n",
      "Mutation Range 0.2 \n",
      "Time for Mutation Range [1.6673362000001362, 1.4751042000002599, 1.1972365000001446, 1.541595800000323, 2.1984158000000207, 2.0755991999999424, 2.2150556000001416, 1.8879456999998183, 1.4102065000001858, 2.226209899999958, 2.264797499999986, 2.0223426999996263, 1.861537600000247, 2.088495399999829, 1.3225022999999965, 1.4672256999997444, 1.5028708999998344, 1.5155789000000368, 1.6120621999998548, 1.457917599999746, 1.187955200000033, 1.5603328000001966, 1.9988941000001432, 2.2196530000001076, 1.8877972999998747, 1.9847974000003887, 1.5840123000002677]\n",
      "\n",
      "\n",
      "Iteration 27 \n",
      "Mutation Range 0.2 \n",
      "Time for Mutation Range [1.6673362000001362, 1.4751042000002599, 1.1972365000001446, 1.541595800000323, 2.1984158000000207, 2.0755991999999424, 2.2150556000001416, 1.8879456999998183, 1.4102065000001858, 2.226209899999958, 2.264797499999986, 2.0223426999996263, 1.861537600000247, 2.088495399999829, 1.3225022999999965, 1.4672256999997444, 1.5028708999998344, 1.5155789000000368, 1.6120621999998548, 1.457917599999746, 1.187955200000033, 1.5603328000001966, 1.9988941000001432, 2.2196530000001076, 1.8877972999998747, 1.9847974000003887, 1.5840123000002677, 1.8271061000000373]\n",
      "\n",
      "\n",
      "Iteration 28 \n",
      "Mutation Range 0.2 \n",
      "Time for Mutation Range [1.6673362000001362, 1.4751042000002599, 1.1972365000001446, 1.541595800000323, 2.1984158000000207, 2.0755991999999424, 2.2150556000001416, 1.8879456999998183, 1.4102065000001858, 2.226209899999958, 2.264797499999986, 2.0223426999996263, 1.861537600000247, 2.088495399999829, 1.3225022999999965, 1.4672256999997444, 1.5028708999998344, 1.5155789000000368, 1.6120621999998548, 1.457917599999746, 1.187955200000033, 1.5603328000001966, 1.9988941000001432, 2.2196530000001076, 1.8877972999998747, 1.9847974000003887, 1.5840123000002677, 1.8271061000000373, 1.4642668999999842]\n",
      "\n",
      "\n",
      "Iteration 29 \n",
      "Mutation Range 0.2 \n",
      "Time for Mutation Range [1.6673362000001362, 1.4751042000002599, 1.1972365000001446, 1.541595800000323, 2.1984158000000207, 2.0755991999999424, 2.2150556000001416, 1.8879456999998183, 1.4102065000001858, 2.226209899999958, 2.264797499999986, 2.0223426999996263, 1.861537600000247, 2.088495399999829, 1.3225022999999965, 1.4672256999997444, 1.5028708999998344, 1.5155789000000368, 1.6120621999998548, 1.457917599999746, 1.187955200000033, 1.5603328000001966, 1.9988941000001432, 2.2196530000001076, 1.8877972999998747, 1.9847974000003887, 1.5840123000002677, 1.8271061000000373, 1.4642668999999842, 1.556627699999808]\n",
      "\n",
      "\n",
      "Iteration 30 \n",
      "Mutation Range 0.2 \n",
      "Time for Mutation Range [1.6673362000001362, 1.4751042000002599, 1.1972365000001446, 1.541595800000323, 2.1984158000000207, 2.0755991999999424, 2.2150556000001416, 1.8879456999998183, 1.4102065000001858, 2.226209899999958, 2.264797499999986, 2.0223426999996263, 1.861537600000247, 2.088495399999829, 1.3225022999999965, 1.4672256999997444, 1.5028708999998344, 1.5155789000000368, 1.6120621999998548, 1.457917599999746, 1.187955200000033, 1.5603328000001966, 1.9988941000001432, 2.2196530000001076, 1.8877972999998747, 1.9847974000003887, 1.5840123000002677, 1.8271061000000373, 1.4642668999999842, 1.556627699999808, 1.4708200000000033]\n",
      "\n",
      "\n",
      "Iteration 31 \n",
      "Mutation Range 0.2 \n",
      "Time for Mutation Range [1.6673362000001362, 1.4751042000002599, 1.1972365000001446, 1.541595800000323, 2.1984158000000207, 2.0755991999999424, 2.2150556000001416, 1.8879456999998183, 1.4102065000001858, 2.226209899999958, 2.264797499999986, 2.0223426999996263, 1.861537600000247, 2.088495399999829, 1.3225022999999965, 1.4672256999997444, 1.5028708999998344, 1.5155789000000368, 1.6120621999998548, 1.457917599999746, 1.187955200000033, 1.5603328000001966, 1.9988941000001432, 2.2196530000001076, 1.8877972999998747, 1.9847974000003887, 1.5840123000002677, 1.8271061000000373, 1.4642668999999842, 1.556627699999808, 1.4708200000000033, 1.3690013999998882]\n",
      "\n",
      "\n",
      "Iteration 32 \n",
      "Mutation Range 0.2 \n",
      "Time for Mutation Range [1.6673362000001362, 1.4751042000002599, 1.1972365000001446, 1.541595800000323, 2.1984158000000207, 2.0755991999999424, 2.2150556000001416, 1.8879456999998183, 1.4102065000001858, 2.226209899999958, 2.264797499999986, 2.0223426999996263, 1.861537600000247, 2.088495399999829, 1.3225022999999965, 1.4672256999997444, 1.5028708999998344, 1.5155789000000368, 1.6120621999998548, 1.457917599999746, 1.187955200000033, 1.5603328000001966, 1.9988941000001432, 2.2196530000001076, 1.8877972999998747, 1.9847974000003887, 1.5840123000002677, 1.8271061000000373, 1.4642668999999842, 1.556627699999808, 1.4708200000000033, 1.3690013999998882, 1.3725769999996373]\n",
      "\n",
      "\n",
      "Iteration 33 \n",
      "Mutation Range 0.2 \n",
      "Time for Mutation Range [1.6673362000001362, 1.4751042000002599, 1.1972365000001446, 1.541595800000323, 2.1984158000000207, 2.0755991999999424, 2.2150556000001416, 1.8879456999998183, 1.4102065000001858, 2.226209899999958, 2.264797499999986, 2.0223426999996263, 1.861537600000247, 2.088495399999829, 1.3225022999999965, 1.4672256999997444, 1.5028708999998344, 1.5155789000000368, 1.6120621999998548, 1.457917599999746, 1.187955200000033, 1.5603328000001966, 1.9988941000001432, 2.2196530000001076, 1.8877972999998747, 1.9847974000003887, 1.5840123000002677, 1.8271061000000373, 1.4642668999999842, 1.556627699999808, 1.4708200000000033, 1.3690013999998882, 1.3725769999996373, 1.4897216999997909]\n",
      "\n",
      "\n",
      "Iteration 34 \n",
      "Mutation Range 0.2 \n",
      "Time for Mutation Range [1.6673362000001362, 1.4751042000002599, 1.1972365000001446, 1.541595800000323, 2.1984158000000207, 2.0755991999999424, 2.2150556000001416, 1.8879456999998183, 1.4102065000001858, 2.226209899999958, 2.264797499999986, 2.0223426999996263, 1.861537600000247, 2.088495399999829, 1.3225022999999965, 1.4672256999997444, 1.5028708999998344, 1.5155789000000368, 1.6120621999998548, 1.457917599999746, 1.187955200000033, 1.5603328000001966, 1.9988941000001432, 2.2196530000001076, 1.8877972999998747, 1.9847974000003887, 1.5840123000002677, 1.8271061000000373, 1.4642668999999842, 1.556627699999808, 1.4708200000000033, 1.3690013999998882, 1.3725769999996373, 1.4897216999997909, 1.3134887999999592]\n",
      "\n",
      "\n",
      "Iteration 35 \n",
      "Mutation Range 0.2 \n",
      "Time for Mutation Range [1.6673362000001362, 1.4751042000002599, 1.1972365000001446, 1.541595800000323, 2.1984158000000207, 2.0755991999999424, 2.2150556000001416, 1.8879456999998183, 1.4102065000001858, 2.226209899999958, 2.264797499999986, 2.0223426999996263, 1.861537600000247, 2.088495399999829, 1.3225022999999965, 1.4672256999997444, 1.5028708999998344, 1.5155789000000368, 1.6120621999998548, 1.457917599999746, 1.187955200000033, 1.5603328000001966, 1.9988941000001432, 2.2196530000001076, 1.8877972999998747, 1.9847974000003887, 1.5840123000002677, 1.8271061000000373, 1.4642668999999842, 1.556627699999808, 1.4708200000000033, 1.3690013999998882, 1.3725769999996373, 1.4897216999997909, 1.3134887999999592, 1.3425818999999137]\n",
      "\n",
      "\n",
      "Iteration 36 \n",
      "Mutation Range 0.2 \n",
      "Time for Mutation Range [1.6673362000001362, 1.4751042000002599, 1.1972365000001446, 1.541595800000323, 2.1984158000000207, 2.0755991999999424, 2.2150556000001416, 1.8879456999998183, 1.4102065000001858, 2.226209899999958, 2.264797499999986, 2.0223426999996263, 1.861537600000247, 2.088495399999829, 1.3225022999999965, 1.4672256999997444, 1.5028708999998344, 1.5155789000000368, 1.6120621999998548, 1.457917599999746, 1.187955200000033, 1.5603328000001966, 1.9988941000001432, 2.2196530000001076, 1.8877972999998747, 1.9847974000003887, 1.5840123000002677, 1.8271061000000373, 1.4642668999999842, 1.556627699999808, 1.4708200000000033, 1.3690013999998882, 1.3725769999996373, 1.4897216999997909, 1.3134887999999592, 1.3425818999999137, 2.0111573000003773]\n",
      "\n",
      "\n",
      "Iteration 37 \n",
      "Mutation Range 0.2 \n",
      "Time for Mutation Range [1.6673362000001362, 1.4751042000002599, 1.1972365000001446, 1.541595800000323, 2.1984158000000207, 2.0755991999999424, 2.2150556000001416, 1.8879456999998183, 1.4102065000001858, 2.226209899999958, 2.264797499999986, 2.0223426999996263, 1.861537600000247, 2.088495399999829, 1.3225022999999965, 1.4672256999997444, 1.5028708999998344, 1.5155789000000368, 1.6120621999998548, 1.457917599999746, 1.187955200000033, 1.5603328000001966, 1.9988941000001432, 2.2196530000001076, 1.8877972999998747, 1.9847974000003887, 1.5840123000002677, 1.8271061000000373, 1.4642668999999842, 1.556627699999808, 1.4708200000000033, 1.3690013999998882, 1.3725769999996373, 1.4897216999997909, 1.3134887999999592, 1.3425818999999137, 2.0111573000003773, 2.490104500000143]\n",
      "\n",
      "\n"
     ]
    },
    {
     "name": "stdout",
     "output_type": "stream",
     "text": [
      "Iteration 38 \n",
      "Mutation Range 0.2 \n",
      "Time for Mutation Range [1.6673362000001362, 1.4751042000002599, 1.1972365000001446, 1.541595800000323, 2.1984158000000207, 2.0755991999999424, 2.2150556000001416, 1.8879456999998183, 1.4102065000001858, 2.226209899999958, 2.264797499999986, 2.0223426999996263, 1.861537600000247, 2.088495399999829, 1.3225022999999965, 1.4672256999997444, 1.5028708999998344, 1.5155789000000368, 1.6120621999998548, 1.457917599999746, 1.187955200000033, 1.5603328000001966, 1.9988941000001432, 2.2196530000001076, 1.8877972999998747, 1.9847974000003887, 1.5840123000002677, 1.8271061000000373, 1.4642668999999842, 1.556627699999808, 1.4708200000000033, 1.3690013999998882, 1.3725769999996373, 1.4897216999997909, 1.3134887999999592, 1.3425818999999137, 2.0111573000003773, 2.490104500000143, 1.828659400000106]\n",
      "\n",
      "\n",
      "Iteration 39 \n",
      "Mutation Range 0.2 \n",
      "Time for Mutation Range [1.6673362000001362, 1.4751042000002599, 1.1972365000001446, 1.541595800000323, 2.1984158000000207, 2.0755991999999424, 2.2150556000001416, 1.8879456999998183, 1.4102065000001858, 2.226209899999958, 2.264797499999986, 2.0223426999996263, 1.861537600000247, 2.088495399999829, 1.3225022999999965, 1.4672256999997444, 1.5028708999998344, 1.5155789000000368, 1.6120621999998548, 1.457917599999746, 1.187955200000033, 1.5603328000001966, 1.9988941000001432, 2.2196530000001076, 1.8877972999998747, 1.9847974000003887, 1.5840123000002677, 1.8271061000000373, 1.4642668999999842, 1.556627699999808, 1.4708200000000033, 1.3690013999998882, 1.3725769999996373, 1.4897216999997909, 1.3134887999999592, 1.3425818999999137, 2.0111573000003773, 2.490104500000143, 1.828659400000106, 1.4223799999999756]\n",
      "\n",
      "\n",
      "Iteration 40 \n",
      "Mutation Range 0.2 \n",
      "Time for Mutation Range [1.6673362000001362, 1.4751042000002599, 1.1972365000001446, 1.541595800000323, 2.1984158000000207, 2.0755991999999424, 2.2150556000001416, 1.8879456999998183, 1.4102065000001858, 2.226209899999958, 2.264797499999986, 2.0223426999996263, 1.861537600000247, 2.088495399999829, 1.3225022999999965, 1.4672256999997444, 1.5028708999998344, 1.5155789000000368, 1.6120621999998548, 1.457917599999746, 1.187955200000033, 1.5603328000001966, 1.9988941000001432, 2.2196530000001076, 1.8877972999998747, 1.9847974000003887, 1.5840123000002677, 1.8271061000000373, 1.4642668999999842, 1.556627699999808, 1.4708200000000033, 1.3690013999998882, 1.3725769999996373, 1.4897216999997909, 1.3134887999999592, 1.3425818999999137, 2.0111573000003773, 2.490104500000143, 1.828659400000106, 1.4223799999999756, 1.3154874000001655]\n",
      "\n",
      "\n",
      "Iteration 41 \n",
      "Mutation Range 0.2 \n",
      "Time for Mutation Range [1.6673362000001362, 1.4751042000002599, 1.1972365000001446, 1.541595800000323, 2.1984158000000207, 2.0755991999999424, 2.2150556000001416, 1.8879456999998183, 1.4102065000001858, 2.226209899999958, 2.264797499999986, 2.0223426999996263, 1.861537600000247, 2.088495399999829, 1.3225022999999965, 1.4672256999997444, 1.5028708999998344, 1.5155789000000368, 1.6120621999998548, 1.457917599999746, 1.187955200000033, 1.5603328000001966, 1.9988941000001432, 2.2196530000001076, 1.8877972999998747, 1.9847974000003887, 1.5840123000002677, 1.8271061000000373, 1.4642668999999842, 1.556627699999808, 1.4708200000000033, 1.3690013999998882, 1.3725769999996373, 1.4897216999997909, 1.3134887999999592, 1.3425818999999137, 2.0111573000003773, 2.490104500000143, 1.828659400000106, 1.4223799999999756, 1.3154874000001655, 1.345135499999742]\n",
      "\n",
      "\n",
      "Iteration 42 \n",
      "Mutation Range 0.2 \n",
      "Time for Mutation Range [1.6673362000001362, 1.4751042000002599, 1.1972365000001446, 1.541595800000323, 2.1984158000000207, 2.0755991999999424, 2.2150556000001416, 1.8879456999998183, 1.4102065000001858, 2.226209899999958, 2.264797499999986, 2.0223426999996263, 1.861537600000247, 2.088495399999829, 1.3225022999999965, 1.4672256999997444, 1.5028708999998344, 1.5155789000000368, 1.6120621999998548, 1.457917599999746, 1.187955200000033, 1.5603328000001966, 1.9988941000001432, 2.2196530000001076, 1.8877972999998747, 1.9847974000003887, 1.5840123000002677, 1.8271061000000373, 1.4642668999999842, 1.556627699999808, 1.4708200000000033, 1.3690013999998882, 1.3725769999996373, 1.4897216999997909, 1.3134887999999592, 1.3425818999999137, 2.0111573000003773, 2.490104500000143, 1.828659400000106, 1.4223799999999756, 1.3154874000001655, 1.345135499999742, 1.3370739000001777]\n",
      "\n",
      "\n",
      "Iteration 43 \n",
      "Mutation Range 0.2 \n",
      "Time for Mutation Range [1.6673362000001362, 1.4751042000002599, 1.1972365000001446, 1.541595800000323, 2.1984158000000207, 2.0755991999999424, 2.2150556000001416, 1.8879456999998183, 1.4102065000001858, 2.226209899999958, 2.264797499999986, 2.0223426999996263, 1.861537600000247, 2.088495399999829, 1.3225022999999965, 1.4672256999997444, 1.5028708999998344, 1.5155789000000368, 1.6120621999998548, 1.457917599999746, 1.187955200000033, 1.5603328000001966, 1.9988941000001432, 2.2196530000001076, 1.8877972999998747, 1.9847974000003887, 1.5840123000002677, 1.8271061000000373, 1.4642668999999842, 1.556627699999808, 1.4708200000000033, 1.3690013999998882, 1.3725769999996373, 1.4897216999997909, 1.3134887999999592, 1.3425818999999137, 2.0111573000003773, 2.490104500000143, 1.828659400000106, 1.4223799999999756, 1.3154874000001655, 1.345135499999742, 1.3370739000001777, 1.2319946999996318]\n",
      "\n",
      "\n",
      "Iteration 44 \n",
      "Mutation Range 0.2 \n",
      "Time for Mutation Range [1.6673362000001362, 1.4751042000002599, 1.1972365000001446, 1.541595800000323, 2.1984158000000207, 2.0755991999999424, 2.2150556000001416, 1.8879456999998183, 1.4102065000001858, 2.226209899999958, 2.264797499999986, 2.0223426999996263, 1.861537600000247, 2.088495399999829, 1.3225022999999965, 1.4672256999997444, 1.5028708999998344, 1.5155789000000368, 1.6120621999998548, 1.457917599999746, 1.187955200000033, 1.5603328000001966, 1.9988941000001432, 2.2196530000001076, 1.8877972999998747, 1.9847974000003887, 1.5840123000002677, 1.8271061000000373, 1.4642668999999842, 1.556627699999808, 1.4708200000000033, 1.3690013999998882, 1.3725769999996373, 1.4897216999997909, 1.3134887999999592, 1.3425818999999137, 2.0111573000003773, 2.490104500000143, 1.828659400000106, 1.4223799999999756, 1.3154874000001655, 1.345135499999742, 1.3370739000001777, 1.2319946999996318, 1.8936712999998235]\n",
      "\n",
      "\n",
      "Iteration 45 \n",
      "Mutation Range 0.2 \n",
      "Time for Mutation Range [1.6673362000001362, 1.4751042000002599, 1.1972365000001446, 1.541595800000323, 2.1984158000000207, 2.0755991999999424, 2.2150556000001416, 1.8879456999998183, 1.4102065000001858, 2.226209899999958, 2.264797499999986, 2.0223426999996263, 1.861537600000247, 2.088495399999829, 1.3225022999999965, 1.4672256999997444, 1.5028708999998344, 1.5155789000000368, 1.6120621999998548, 1.457917599999746, 1.187955200000033, 1.5603328000001966, 1.9988941000001432, 2.2196530000001076, 1.8877972999998747, 1.9847974000003887, 1.5840123000002677, 1.8271061000000373, 1.4642668999999842, 1.556627699999808, 1.4708200000000033, 1.3690013999998882, 1.3725769999996373, 1.4897216999997909, 1.3134887999999592, 1.3425818999999137, 2.0111573000003773, 2.490104500000143, 1.828659400000106, 1.4223799999999756, 1.3154874000001655, 1.345135499999742, 1.3370739000001777, 1.2319946999996318, 1.8936712999998235, 2.1643677999995816]\n",
      "\n",
      "\n",
      "Iteration 46 \n",
      "Mutation Range 0.2 \n",
      "Time for Mutation Range [1.6673362000001362, 1.4751042000002599, 1.1972365000001446, 1.541595800000323, 2.1984158000000207, 2.0755991999999424, 2.2150556000001416, 1.8879456999998183, 1.4102065000001858, 2.226209899999958, 2.264797499999986, 2.0223426999996263, 1.861537600000247, 2.088495399999829, 1.3225022999999965, 1.4672256999997444, 1.5028708999998344, 1.5155789000000368, 1.6120621999998548, 1.457917599999746, 1.187955200000033, 1.5603328000001966, 1.9988941000001432, 2.2196530000001076, 1.8877972999998747, 1.9847974000003887, 1.5840123000002677, 1.8271061000000373, 1.4642668999999842, 1.556627699999808, 1.4708200000000033, 1.3690013999998882, 1.3725769999996373, 1.4897216999997909, 1.3134887999999592, 1.3425818999999137, 2.0111573000003773, 2.490104500000143, 1.828659400000106, 1.4223799999999756, 1.3154874000001655, 1.345135499999742, 1.3370739000001777, 1.2319946999996318, 1.8936712999998235, 2.1643677999995816, 2.2425029999999424]\n",
      "\n",
      "\n"
     ]
    },
    {
     "name": "stdout",
     "output_type": "stream",
     "text": [
      "Iteration 47 \n",
      "Mutation Range 0.2 \n",
      "Time for Mutation Range [1.6673362000001362, 1.4751042000002599, 1.1972365000001446, 1.541595800000323, 2.1984158000000207, 2.0755991999999424, 2.2150556000001416, 1.8879456999998183, 1.4102065000001858, 2.226209899999958, 2.264797499999986, 2.0223426999996263, 1.861537600000247, 2.088495399999829, 1.3225022999999965, 1.4672256999997444, 1.5028708999998344, 1.5155789000000368, 1.6120621999998548, 1.457917599999746, 1.187955200000033, 1.5603328000001966, 1.9988941000001432, 2.2196530000001076, 1.8877972999998747, 1.9847974000003887, 1.5840123000002677, 1.8271061000000373, 1.4642668999999842, 1.556627699999808, 1.4708200000000033, 1.3690013999998882, 1.3725769999996373, 1.4897216999997909, 1.3134887999999592, 1.3425818999999137, 2.0111573000003773, 2.490104500000143, 1.828659400000106, 1.4223799999999756, 1.3154874000001655, 1.345135499999742, 1.3370739000001777, 1.2319946999996318, 1.8936712999998235, 2.1643677999995816, 2.2425029999999424, 2.042303699999593]\n",
      "\n",
      "\n",
      "Iteration 48 \n",
      "Mutation Range 0.2 \n",
      "Time for Mutation Range [1.6673362000001362, 1.4751042000002599, 1.1972365000001446, 1.541595800000323, 2.1984158000000207, 2.0755991999999424, 2.2150556000001416, 1.8879456999998183, 1.4102065000001858, 2.226209899999958, 2.264797499999986, 2.0223426999996263, 1.861537600000247, 2.088495399999829, 1.3225022999999965, 1.4672256999997444, 1.5028708999998344, 1.5155789000000368, 1.6120621999998548, 1.457917599999746, 1.187955200000033, 1.5603328000001966, 1.9988941000001432, 2.2196530000001076, 1.8877972999998747, 1.9847974000003887, 1.5840123000002677, 1.8271061000000373, 1.4642668999999842, 1.556627699999808, 1.4708200000000033, 1.3690013999998882, 1.3725769999996373, 1.4897216999997909, 1.3134887999999592, 1.3425818999999137, 2.0111573000003773, 2.490104500000143, 1.828659400000106, 1.4223799999999756, 1.3154874000001655, 1.345135499999742, 1.3370739000001777, 1.2319946999996318, 1.8936712999998235, 2.1643677999995816, 2.2425029999999424, 2.042303699999593, 1.388651000000209]\n",
      "\n",
      "\n",
      "Iteration 49 \n",
      "Mutation Range 0.2 \n",
      "Time for Mutation Range [1.6673362000001362, 1.4751042000002599, 1.1972365000001446, 1.541595800000323, 2.1984158000000207, 2.0755991999999424, 2.2150556000001416, 1.8879456999998183, 1.4102065000001858, 2.226209899999958, 2.264797499999986, 2.0223426999996263, 1.861537600000247, 2.088495399999829, 1.3225022999999965, 1.4672256999997444, 1.5028708999998344, 1.5155789000000368, 1.6120621999998548, 1.457917599999746, 1.187955200000033, 1.5603328000001966, 1.9988941000001432, 2.2196530000001076, 1.8877972999998747, 1.9847974000003887, 1.5840123000002677, 1.8271061000000373, 1.4642668999999842, 1.556627699999808, 1.4708200000000033, 1.3690013999998882, 1.3725769999996373, 1.4897216999997909, 1.3134887999999592, 1.3425818999999137, 2.0111573000003773, 2.490104500000143, 1.828659400000106, 1.4223799999999756, 1.3154874000001655, 1.345135499999742, 1.3370739000001777, 1.2319946999996318, 1.8936712999998235, 2.1643677999995816, 2.2425029999999424, 2.042303699999593, 1.388651000000209, 1.4362639000000854]\n",
      "\n",
      "\n",
      "Iteration 50 \n",
      "Mutation Range 0.2 \n",
      "Time for Mutation Range [1.6673362000001362, 1.4751042000002599, 1.1972365000001446, 1.541595800000323, 2.1984158000000207, 2.0755991999999424, 2.2150556000001416, 1.8879456999998183, 1.4102065000001858, 2.226209899999958, 2.264797499999986, 2.0223426999996263, 1.861537600000247, 2.088495399999829, 1.3225022999999965, 1.4672256999997444, 1.5028708999998344, 1.5155789000000368, 1.6120621999998548, 1.457917599999746, 1.187955200000033, 1.5603328000001966, 1.9988941000001432, 2.2196530000001076, 1.8877972999998747, 1.9847974000003887, 1.5840123000002677, 1.8271061000000373, 1.4642668999999842, 1.556627699999808, 1.4708200000000033, 1.3690013999998882, 1.3725769999996373, 1.4897216999997909, 1.3134887999999592, 1.3425818999999137, 2.0111573000003773, 2.490104500000143, 1.828659400000106, 1.4223799999999756, 1.3154874000001655, 1.345135499999742, 1.3370739000001777, 1.2319946999996318, 1.8936712999998235, 2.1643677999995816, 2.2425029999999424, 2.042303699999593, 1.388651000000209, 1.4362639000000854, 1.2217682000000423]\n",
      "\n",
      "\n",
      "Iteration 51 \n",
      "Mutation Range 0.2 \n",
      "Time for Mutation Range [1.6673362000001362, 1.4751042000002599, 1.1972365000001446, 1.541595800000323, 2.1984158000000207, 2.0755991999999424, 2.2150556000001416, 1.8879456999998183, 1.4102065000001858, 2.226209899999958, 2.264797499999986, 2.0223426999996263, 1.861537600000247, 2.088495399999829, 1.3225022999999965, 1.4672256999997444, 1.5028708999998344, 1.5155789000000368, 1.6120621999998548, 1.457917599999746, 1.187955200000033, 1.5603328000001966, 1.9988941000001432, 2.2196530000001076, 1.8877972999998747, 1.9847974000003887, 1.5840123000002677, 1.8271061000000373, 1.4642668999999842, 1.556627699999808, 1.4708200000000033, 1.3690013999998882, 1.3725769999996373, 1.4897216999997909, 1.3134887999999592, 1.3425818999999137, 2.0111573000003773, 2.490104500000143, 1.828659400000106, 1.4223799999999756, 1.3154874000001655, 1.345135499999742, 1.3370739000001777, 1.2319946999996318, 1.8936712999998235, 2.1643677999995816, 2.2425029999999424, 2.042303699999593, 1.388651000000209, 1.4362639000000854, 1.2217682000000423, 2.005797299999813]\n",
      "\n",
      "\n",
      "Iteration 52 \n",
      "Mutation Range 0.2 \n",
      "Time for Mutation Range [1.6673362000001362, 1.4751042000002599, 1.1972365000001446, 1.541595800000323, 2.1984158000000207, 2.0755991999999424, 2.2150556000001416, 1.8879456999998183, 1.4102065000001858, 2.226209899999958, 2.264797499999986, 2.0223426999996263, 1.861537600000247, 2.088495399999829, 1.3225022999999965, 1.4672256999997444, 1.5028708999998344, 1.5155789000000368, 1.6120621999998548, 1.457917599999746, 1.187955200000033, 1.5603328000001966, 1.9988941000001432, 2.2196530000001076, 1.8877972999998747, 1.9847974000003887, 1.5840123000002677, 1.8271061000000373, 1.4642668999999842, 1.556627699999808, 1.4708200000000033, 1.3690013999998882, 1.3725769999996373, 1.4897216999997909, 1.3134887999999592, 1.3425818999999137, 2.0111573000003773, 2.490104500000143, 1.828659400000106, 1.4223799999999756, 1.3154874000001655, 1.345135499999742, 1.3370739000001777, 1.2319946999996318, 1.8936712999998235, 2.1643677999995816, 2.2425029999999424, 2.042303699999593, 1.388651000000209, 1.4362639000000854, 1.2217682000000423, 2.005797299999813, 1.9782278999996379]\n",
      "\n",
      "\n",
      "Iteration 53 \n",
      "Mutation Range 0.2 \n",
      "Time for Mutation Range [1.6673362000001362, 1.4751042000002599, 1.1972365000001446, 1.541595800000323, 2.1984158000000207, 2.0755991999999424, 2.2150556000001416, 1.8879456999998183, 1.4102065000001858, 2.226209899999958, 2.264797499999986, 2.0223426999996263, 1.861537600000247, 2.088495399999829, 1.3225022999999965, 1.4672256999997444, 1.5028708999998344, 1.5155789000000368, 1.6120621999998548, 1.457917599999746, 1.187955200000033, 1.5603328000001966, 1.9988941000001432, 2.2196530000001076, 1.8877972999998747, 1.9847974000003887, 1.5840123000002677, 1.8271061000000373, 1.4642668999999842, 1.556627699999808, 1.4708200000000033, 1.3690013999998882, 1.3725769999996373, 1.4897216999997909, 1.3134887999999592, 1.3425818999999137, 2.0111573000003773, 2.490104500000143, 1.828659400000106, 1.4223799999999756, 1.3154874000001655, 1.345135499999742, 1.3370739000001777, 1.2319946999996318, 1.8936712999998235, 2.1643677999995816, 2.2425029999999424, 2.042303699999593, 1.388651000000209, 1.4362639000000854, 1.2217682000000423, 2.005797299999813, 1.9782278999996379, 1.8972678000000087]\n",
      "\n",
      "\n",
      "Iteration 54 \n",
      "Mutation Range 0.2 \n",
      "Time for Mutation Range [1.6673362000001362, 1.4751042000002599, 1.1972365000001446, 1.541595800000323, 2.1984158000000207, 2.0755991999999424, 2.2150556000001416, 1.8879456999998183, 1.4102065000001858, 2.226209899999958, 2.264797499999986, 2.0223426999996263, 1.861537600000247, 2.088495399999829, 1.3225022999999965, 1.4672256999997444, 1.5028708999998344, 1.5155789000000368, 1.6120621999998548, 1.457917599999746, 1.187955200000033, 1.5603328000001966, 1.9988941000001432, 2.2196530000001076, 1.8877972999998747, 1.9847974000003887, 1.5840123000002677, 1.8271061000000373, 1.4642668999999842, 1.556627699999808, 1.4708200000000033, 1.3690013999998882, 1.3725769999996373, 1.4897216999997909, 1.3134887999999592, 1.3425818999999137, 2.0111573000003773, 2.490104500000143, 1.828659400000106, 1.4223799999999756, 1.3154874000001655, 1.345135499999742, 1.3370739000001777, 1.2319946999996318, 1.8936712999998235, 2.1643677999995816, 2.2425029999999424, 2.042303699999593, 1.388651000000209, 1.4362639000000854, 1.2217682000000423, 2.005797299999813, 1.9782278999996379, 1.8972678000000087, 1.9842830000002323]\n",
      "\n",
      "\n"
     ]
    },
    {
     "name": "stdout",
     "output_type": "stream",
     "text": [
      "Iteration 55 \n",
      "Mutation Range 0.2 \n",
      "Time for Mutation Range [1.6673362000001362, 1.4751042000002599, 1.1972365000001446, 1.541595800000323, 2.1984158000000207, 2.0755991999999424, 2.2150556000001416, 1.8879456999998183, 1.4102065000001858, 2.226209899999958, 2.264797499999986, 2.0223426999996263, 1.861537600000247, 2.088495399999829, 1.3225022999999965, 1.4672256999997444, 1.5028708999998344, 1.5155789000000368, 1.6120621999998548, 1.457917599999746, 1.187955200000033, 1.5603328000001966, 1.9988941000001432, 2.2196530000001076, 1.8877972999998747, 1.9847974000003887, 1.5840123000002677, 1.8271061000000373, 1.4642668999999842, 1.556627699999808, 1.4708200000000033, 1.3690013999998882, 1.3725769999996373, 1.4897216999997909, 1.3134887999999592, 1.3425818999999137, 2.0111573000003773, 2.490104500000143, 1.828659400000106, 1.4223799999999756, 1.3154874000001655, 1.345135499999742, 1.3370739000001777, 1.2319946999996318, 1.8936712999998235, 2.1643677999995816, 2.2425029999999424, 2.042303699999593, 1.388651000000209, 1.4362639000000854, 1.2217682000000423, 2.005797299999813, 1.9782278999996379, 1.8972678000000087, 1.9842830000002323, 1.9305766000002222]\n",
      "\n",
      "\n",
      "Iteration 56 \n",
      "Mutation Range 0.2 \n",
      "Time for Mutation Range [1.6673362000001362, 1.4751042000002599, 1.1972365000001446, 1.541595800000323, 2.1984158000000207, 2.0755991999999424, 2.2150556000001416, 1.8879456999998183, 1.4102065000001858, 2.226209899999958, 2.264797499999986, 2.0223426999996263, 1.861537600000247, 2.088495399999829, 1.3225022999999965, 1.4672256999997444, 1.5028708999998344, 1.5155789000000368, 1.6120621999998548, 1.457917599999746, 1.187955200000033, 1.5603328000001966, 1.9988941000001432, 2.2196530000001076, 1.8877972999998747, 1.9847974000003887, 1.5840123000002677, 1.8271061000000373, 1.4642668999999842, 1.556627699999808, 1.4708200000000033, 1.3690013999998882, 1.3725769999996373, 1.4897216999997909, 1.3134887999999592, 1.3425818999999137, 2.0111573000003773, 2.490104500000143, 1.828659400000106, 1.4223799999999756, 1.3154874000001655, 1.345135499999742, 1.3370739000001777, 1.2319946999996318, 1.8936712999998235, 2.1643677999995816, 2.2425029999999424, 2.042303699999593, 1.388651000000209, 1.4362639000000854, 1.2217682000000423, 2.005797299999813, 1.9782278999996379, 1.8972678000000087, 1.9842830000002323, 1.9305766000002222, 1.5767108000000007]\n",
      "\n",
      "\n",
      "Iteration 57 \n",
      "Mutation Range 0.2 \n",
      "Time for Mutation Range [1.6673362000001362, 1.4751042000002599, 1.1972365000001446, 1.541595800000323, 2.1984158000000207, 2.0755991999999424, 2.2150556000001416, 1.8879456999998183, 1.4102065000001858, 2.226209899999958, 2.264797499999986, 2.0223426999996263, 1.861537600000247, 2.088495399999829, 1.3225022999999965, 1.4672256999997444, 1.5028708999998344, 1.5155789000000368, 1.6120621999998548, 1.457917599999746, 1.187955200000033, 1.5603328000001966, 1.9988941000001432, 2.2196530000001076, 1.8877972999998747, 1.9847974000003887, 1.5840123000002677, 1.8271061000000373, 1.4642668999999842, 1.556627699999808, 1.4708200000000033, 1.3690013999998882, 1.3725769999996373, 1.4897216999997909, 1.3134887999999592, 1.3425818999999137, 2.0111573000003773, 2.490104500000143, 1.828659400000106, 1.4223799999999756, 1.3154874000001655, 1.345135499999742, 1.3370739000001777, 1.2319946999996318, 1.8936712999998235, 2.1643677999995816, 2.2425029999999424, 2.042303699999593, 1.388651000000209, 1.4362639000000854, 1.2217682000000423, 2.005797299999813, 1.9782278999996379, 1.8972678000000087, 1.9842830000002323, 1.9305766000002222, 1.5767108000000007, 1.5382656000001589]\n",
      "\n",
      "\n",
      "Iteration 58 \n",
      "Mutation Range 0.2 \n",
      "Time for Mutation Range [1.6673362000001362, 1.4751042000002599, 1.1972365000001446, 1.541595800000323, 2.1984158000000207, 2.0755991999999424, 2.2150556000001416, 1.8879456999998183, 1.4102065000001858, 2.226209899999958, 2.264797499999986, 2.0223426999996263, 1.861537600000247, 2.088495399999829, 1.3225022999999965, 1.4672256999997444, 1.5028708999998344, 1.5155789000000368, 1.6120621999998548, 1.457917599999746, 1.187955200000033, 1.5603328000001966, 1.9988941000001432, 2.2196530000001076, 1.8877972999998747, 1.9847974000003887, 1.5840123000002677, 1.8271061000000373, 1.4642668999999842, 1.556627699999808, 1.4708200000000033, 1.3690013999998882, 1.3725769999996373, 1.4897216999997909, 1.3134887999999592, 1.3425818999999137, 2.0111573000003773, 2.490104500000143, 1.828659400000106, 1.4223799999999756, 1.3154874000001655, 1.345135499999742, 1.3370739000001777, 1.2319946999996318, 1.8936712999998235, 2.1643677999995816, 2.2425029999999424, 2.042303699999593, 1.388651000000209, 1.4362639000000854, 1.2217682000000423, 2.005797299999813, 1.9782278999996379, 1.8972678000000087, 1.9842830000002323, 1.9305766000002222, 1.5767108000000007, 1.5382656000001589, 1.43563979999999]\n",
      "\n",
      "\n",
      "Iteration 59 \n",
      "Mutation Range 0.2 \n",
      "Time for Mutation Range [1.6673362000001362, 1.4751042000002599, 1.1972365000001446, 1.541595800000323, 2.1984158000000207, 2.0755991999999424, 2.2150556000001416, 1.8879456999998183, 1.4102065000001858, 2.226209899999958, 2.264797499999986, 2.0223426999996263, 1.861537600000247, 2.088495399999829, 1.3225022999999965, 1.4672256999997444, 1.5028708999998344, 1.5155789000000368, 1.6120621999998548, 1.457917599999746, 1.187955200000033, 1.5603328000001966, 1.9988941000001432, 2.2196530000001076, 1.8877972999998747, 1.9847974000003887, 1.5840123000002677, 1.8271061000000373, 1.4642668999999842, 1.556627699999808, 1.4708200000000033, 1.3690013999998882, 1.3725769999996373, 1.4897216999997909, 1.3134887999999592, 1.3425818999999137, 2.0111573000003773, 2.490104500000143, 1.828659400000106, 1.4223799999999756, 1.3154874000001655, 1.345135499999742, 1.3370739000001777, 1.2319946999996318, 1.8936712999998235, 2.1643677999995816, 2.2425029999999424, 2.042303699999593, 1.388651000000209, 1.4362639000000854, 1.2217682000000423, 2.005797299999813, 1.9782278999996379, 1.8972678000000087, 1.9842830000002323, 1.9305766000002222, 1.5767108000000007, 1.5382656000001589, 1.43563979999999, 1.3288527999998223]\n",
      "\n",
      "\n",
      "Iteration 60 \n",
      "Mutation Range 0.2 \n",
      "Time for Mutation Range [1.6673362000001362, 1.4751042000002599, 1.1972365000001446, 1.541595800000323, 2.1984158000000207, 2.0755991999999424, 2.2150556000001416, 1.8879456999998183, 1.4102065000001858, 2.226209899999958, 2.264797499999986, 2.0223426999996263, 1.861537600000247, 2.088495399999829, 1.3225022999999965, 1.4672256999997444, 1.5028708999998344, 1.5155789000000368, 1.6120621999998548, 1.457917599999746, 1.187955200000033, 1.5603328000001966, 1.9988941000001432, 2.2196530000001076, 1.8877972999998747, 1.9847974000003887, 1.5840123000002677, 1.8271061000000373, 1.4642668999999842, 1.556627699999808, 1.4708200000000033, 1.3690013999998882, 1.3725769999996373, 1.4897216999997909, 1.3134887999999592, 1.3425818999999137, 2.0111573000003773, 2.490104500000143, 1.828659400000106, 1.4223799999999756, 1.3154874000001655, 1.345135499999742, 1.3370739000001777, 1.2319946999996318, 1.8936712999998235, 2.1643677999995816, 2.2425029999999424, 2.042303699999593, 1.388651000000209, 1.4362639000000854, 1.2217682000000423, 2.005797299999813, 1.9782278999996379, 1.8972678000000087, 1.9842830000002323, 1.9305766000002222, 1.5767108000000007, 1.5382656000001589, 1.43563979999999, 1.3288527999998223, 1.3616781999999148]\n",
      "\n",
      "\n",
      "Iteration 61 \n",
      "Mutation Range 0.2 \n",
      "Time for Mutation Range [1.6673362000001362, 1.4751042000002599, 1.1972365000001446, 1.541595800000323, 2.1984158000000207, 2.0755991999999424, 2.2150556000001416, 1.8879456999998183, 1.4102065000001858, 2.226209899999958, 2.264797499999986, 2.0223426999996263, 1.861537600000247, 2.088495399999829, 1.3225022999999965, 1.4672256999997444, 1.5028708999998344, 1.5155789000000368, 1.6120621999998548, 1.457917599999746, 1.187955200000033, 1.5603328000001966, 1.9988941000001432, 2.2196530000001076, 1.8877972999998747, 1.9847974000003887, 1.5840123000002677, 1.8271061000000373, 1.4642668999999842, 1.556627699999808, 1.4708200000000033, 1.3690013999998882, 1.3725769999996373, 1.4897216999997909, 1.3134887999999592, 1.3425818999999137, 2.0111573000003773, 2.490104500000143, 1.828659400000106, 1.4223799999999756, 1.3154874000001655, 1.345135499999742, 1.3370739000001777, 1.2319946999996318, 1.8936712999998235, 2.1643677999995816, 2.2425029999999424, 2.042303699999593, 1.388651000000209, 1.4362639000000854, 1.2217682000000423, 2.005797299999813, 1.9782278999996379, 1.8972678000000087, 1.9842830000002323, 1.9305766000002222, 1.5767108000000007, 1.5382656000001589, 1.43563979999999, 1.3288527999998223, 1.3616781999999148, 1.3701217999996516]\n",
      "\n",
      "\n"
     ]
    },
    {
     "name": "stdout",
     "output_type": "stream",
     "text": [
      "Iteration 62 \n",
      "Mutation Range 0.2 \n",
      "Time for Mutation Range [1.6673362000001362, 1.4751042000002599, 1.1972365000001446, 1.541595800000323, 2.1984158000000207, 2.0755991999999424, 2.2150556000001416, 1.8879456999998183, 1.4102065000001858, 2.226209899999958, 2.264797499999986, 2.0223426999996263, 1.861537600000247, 2.088495399999829, 1.3225022999999965, 1.4672256999997444, 1.5028708999998344, 1.5155789000000368, 1.6120621999998548, 1.457917599999746, 1.187955200000033, 1.5603328000001966, 1.9988941000001432, 2.2196530000001076, 1.8877972999998747, 1.9847974000003887, 1.5840123000002677, 1.8271061000000373, 1.4642668999999842, 1.556627699999808, 1.4708200000000033, 1.3690013999998882, 1.3725769999996373, 1.4897216999997909, 1.3134887999999592, 1.3425818999999137, 2.0111573000003773, 2.490104500000143, 1.828659400000106, 1.4223799999999756, 1.3154874000001655, 1.345135499999742, 1.3370739000001777, 1.2319946999996318, 1.8936712999998235, 2.1643677999995816, 2.2425029999999424, 2.042303699999593, 1.388651000000209, 1.4362639000000854, 1.2217682000000423, 2.005797299999813, 1.9782278999996379, 1.8972678000000087, 1.9842830000002323, 1.9305766000002222, 1.5767108000000007, 1.5382656000001589, 1.43563979999999, 1.3288527999998223, 1.3616781999999148, 1.3701217999996516, 1.4079403999999158]\n",
      "\n",
      "\n",
      "Iteration 63 \n",
      "Mutation Range 0.2 \n",
      "Time for Mutation Range [1.6673362000001362, 1.4751042000002599, 1.1972365000001446, 1.541595800000323, 2.1984158000000207, 2.0755991999999424, 2.2150556000001416, 1.8879456999998183, 1.4102065000001858, 2.226209899999958, 2.264797499999986, 2.0223426999996263, 1.861537600000247, 2.088495399999829, 1.3225022999999965, 1.4672256999997444, 1.5028708999998344, 1.5155789000000368, 1.6120621999998548, 1.457917599999746, 1.187955200000033, 1.5603328000001966, 1.9988941000001432, 2.2196530000001076, 1.8877972999998747, 1.9847974000003887, 1.5840123000002677, 1.8271061000000373, 1.4642668999999842, 1.556627699999808, 1.4708200000000033, 1.3690013999998882, 1.3725769999996373, 1.4897216999997909, 1.3134887999999592, 1.3425818999999137, 2.0111573000003773, 2.490104500000143, 1.828659400000106, 1.4223799999999756, 1.3154874000001655, 1.345135499999742, 1.3370739000001777, 1.2319946999996318, 1.8936712999998235, 2.1643677999995816, 2.2425029999999424, 2.042303699999593, 1.388651000000209, 1.4362639000000854, 1.2217682000000423, 2.005797299999813, 1.9782278999996379, 1.8972678000000087, 1.9842830000002323, 1.9305766000002222, 1.5767108000000007, 1.5382656000001589, 1.43563979999999, 1.3288527999998223, 1.3616781999999148, 1.3701217999996516, 1.4079403999999158, 1.196054699999877]\n",
      "\n",
      "\n",
      "Iteration 64 \n",
      "Mutation Range 0.2 \n",
      "Time for Mutation Range [1.6673362000001362, 1.4751042000002599, 1.1972365000001446, 1.541595800000323, 2.1984158000000207, 2.0755991999999424, 2.2150556000001416, 1.8879456999998183, 1.4102065000001858, 2.226209899999958, 2.264797499999986, 2.0223426999996263, 1.861537600000247, 2.088495399999829, 1.3225022999999965, 1.4672256999997444, 1.5028708999998344, 1.5155789000000368, 1.6120621999998548, 1.457917599999746, 1.187955200000033, 1.5603328000001966, 1.9988941000001432, 2.2196530000001076, 1.8877972999998747, 1.9847974000003887, 1.5840123000002677, 1.8271061000000373, 1.4642668999999842, 1.556627699999808, 1.4708200000000033, 1.3690013999998882, 1.3725769999996373, 1.4897216999997909, 1.3134887999999592, 1.3425818999999137, 2.0111573000003773, 2.490104500000143, 1.828659400000106, 1.4223799999999756, 1.3154874000001655, 1.345135499999742, 1.3370739000001777, 1.2319946999996318, 1.8936712999998235, 2.1643677999995816, 2.2425029999999424, 2.042303699999593, 1.388651000000209, 1.4362639000000854, 1.2217682000000423, 2.005797299999813, 1.9782278999996379, 1.8972678000000087, 1.9842830000002323, 1.9305766000002222, 1.5767108000000007, 1.5382656000001589, 1.43563979999999, 1.3288527999998223, 1.3616781999999148, 1.3701217999996516, 1.4079403999999158, 1.196054699999877, 2.112058600000182]\n",
      "\n",
      "\n",
      "Iteration 65 \n",
      "Mutation Range 0.2 \n",
      "Time for Mutation Range [1.6673362000001362, 1.4751042000002599, 1.1972365000001446, 1.541595800000323, 2.1984158000000207, 2.0755991999999424, 2.2150556000001416, 1.8879456999998183, 1.4102065000001858, 2.226209899999958, 2.264797499999986, 2.0223426999996263, 1.861537600000247, 2.088495399999829, 1.3225022999999965, 1.4672256999997444, 1.5028708999998344, 1.5155789000000368, 1.6120621999998548, 1.457917599999746, 1.187955200000033, 1.5603328000001966, 1.9988941000001432, 2.2196530000001076, 1.8877972999998747, 1.9847974000003887, 1.5840123000002677, 1.8271061000000373, 1.4642668999999842, 1.556627699999808, 1.4708200000000033, 1.3690013999998882, 1.3725769999996373, 1.4897216999997909, 1.3134887999999592, 1.3425818999999137, 2.0111573000003773, 2.490104500000143, 1.828659400000106, 1.4223799999999756, 1.3154874000001655, 1.345135499999742, 1.3370739000001777, 1.2319946999996318, 1.8936712999998235, 2.1643677999995816, 2.2425029999999424, 2.042303699999593, 1.388651000000209, 1.4362639000000854, 1.2217682000000423, 2.005797299999813, 1.9782278999996379, 1.8972678000000087, 1.9842830000002323, 1.9305766000002222, 1.5767108000000007, 1.5382656000001589, 1.43563979999999, 1.3288527999998223, 1.3616781999999148, 1.3701217999996516, 1.4079403999999158, 1.196054699999877, 2.112058600000182, 2.032719399999678]\n",
      "\n",
      "\n",
      "Iteration 66 \n",
      "Mutation Range 0.2 \n",
      "Time for Mutation Range [1.6673362000001362, 1.4751042000002599, 1.1972365000001446, 1.541595800000323, 2.1984158000000207, 2.0755991999999424, 2.2150556000001416, 1.8879456999998183, 1.4102065000001858, 2.226209899999958, 2.264797499999986, 2.0223426999996263, 1.861537600000247, 2.088495399999829, 1.3225022999999965, 1.4672256999997444, 1.5028708999998344, 1.5155789000000368, 1.6120621999998548, 1.457917599999746, 1.187955200000033, 1.5603328000001966, 1.9988941000001432, 2.2196530000001076, 1.8877972999998747, 1.9847974000003887, 1.5840123000002677, 1.8271061000000373, 1.4642668999999842, 1.556627699999808, 1.4708200000000033, 1.3690013999998882, 1.3725769999996373, 1.4897216999997909, 1.3134887999999592, 1.3425818999999137, 2.0111573000003773, 2.490104500000143, 1.828659400000106, 1.4223799999999756, 1.3154874000001655, 1.345135499999742, 1.3370739000001777, 1.2319946999996318, 1.8936712999998235, 2.1643677999995816, 2.2425029999999424, 2.042303699999593, 1.388651000000209, 1.4362639000000854, 1.2217682000000423, 2.005797299999813, 1.9782278999996379, 1.8972678000000087, 1.9842830000002323, 1.9305766000002222, 1.5767108000000007, 1.5382656000001589, 1.43563979999999, 1.3288527999998223, 1.3616781999999148, 1.3701217999996516, 1.4079403999999158, 1.196054699999877, 2.112058600000182, 2.032719399999678, 2.313851800000066]\n",
      "\n",
      "\n",
      "Iteration 67 \n",
      "Mutation Range 0.2 \n",
      "Time for Mutation Range [1.6673362000001362, 1.4751042000002599, 1.1972365000001446, 1.541595800000323, 2.1984158000000207, 2.0755991999999424, 2.2150556000001416, 1.8879456999998183, 1.4102065000001858, 2.226209899999958, 2.264797499999986, 2.0223426999996263, 1.861537600000247, 2.088495399999829, 1.3225022999999965, 1.4672256999997444, 1.5028708999998344, 1.5155789000000368, 1.6120621999998548, 1.457917599999746, 1.187955200000033, 1.5603328000001966, 1.9988941000001432, 2.2196530000001076, 1.8877972999998747, 1.9847974000003887, 1.5840123000002677, 1.8271061000000373, 1.4642668999999842, 1.556627699999808, 1.4708200000000033, 1.3690013999998882, 1.3725769999996373, 1.4897216999997909, 1.3134887999999592, 1.3425818999999137, 2.0111573000003773, 2.490104500000143, 1.828659400000106, 1.4223799999999756, 1.3154874000001655, 1.345135499999742, 1.3370739000001777, 1.2319946999996318, 1.8936712999998235, 2.1643677999995816, 2.2425029999999424, 2.042303699999593, 1.388651000000209, 1.4362639000000854, 1.2217682000000423, 2.005797299999813, 1.9782278999996379, 1.8972678000000087, 1.9842830000002323, 1.9305766000002222, 1.5767108000000007, 1.5382656000001589, 1.43563979999999, 1.3288527999998223, 1.3616781999999148, 1.3701217999996516, 1.4079403999999158, 1.196054699999877, 2.112058600000182, 2.032719399999678, 2.313851800000066, 2.1553869999997914]\n",
      "\n",
      "\n",
      "Iteration 68 \n",
      "Mutation Range 0.2 \n",
      "Time for Mutation Range [1.6673362000001362, 1.4751042000002599, 1.1972365000001446, 1.541595800000323, 2.1984158000000207, 2.0755991999999424, 2.2150556000001416, 1.8879456999998183, 1.4102065000001858, 2.226209899999958, 2.264797499999986, 2.0223426999996263, 1.861537600000247, 2.088495399999829, 1.3225022999999965, 1.4672256999997444, 1.5028708999998344, 1.5155789000000368, 1.6120621999998548, 1.457917599999746, 1.187955200000033, 1.5603328000001966, 1.9988941000001432, 2.2196530000001076, 1.8877972999998747, 1.9847974000003887, 1.5840123000002677, 1.8271061000000373, 1.4642668999999842, 1.556627699999808, 1.4708200000000033, 1.3690013999998882, 1.3725769999996373, 1.4897216999997909, 1.3134887999999592, 1.3425818999999137, 2.0111573000003773, 2.490104500000143, 1.828659400000106, 1.4223799999999756, 1.3154874000001655, 1.345135499999742, 1.3370739000001777, 1.2319946999996318, 1.8936712999998235, 2.1643677999995816, 2.2425029999999424, 2.042303699999593, 1.388651000000209, 1.4362639000000854, 1.2217682000000423, 2.005797299999813, 1.9782278999996379, 1.8972678000000087, 1.9842830000002323, 1.9305766000002222, 1.5767108000000007, 1.5382656000001589, 1.43563979999999, 1.3288527999998223, 1.3616781999999148, 1.3701217999996516, 1.4079403999999158, 1.196054699999877, 2.112058600000182, 2.032719399999678, 2.313851800000066, 2.1553869999997914, 1.5304706000001715]\n",
      "\n",
      "\n"
     ]
    },
    {
     "name": "stdout",
     "output_type": "stream",
     "text": [
      "Iteration 69 \n",
      "Mutation Range 0.2 \n",
      "Time for Mutation Range [1.6673362000001362, 1.4751042000002599, 1.1972365000001446, 1.541595800000323, 2.1984158000000207, 2.0755991999999424, 2.2150556000001416, 1.8879456999998183, 1.4102065000001858, 2.226209899999958, 2.264797499999986, 2.0223426999996263, 1.861537600000247, 2.088495399999829, 1.3225022999999965, 1.4672256999997444, 1.5028708999998344, 1.5155789000000368, 1.6120621999998548, 1.457917599999746, 1.187955200000033, 1.5603328000001966, 1.9988941000001432, 2.2196530000001076, 1.8877972999998747, 1.9847974000003887, 1.5840123000002677, 1.8271061000000373, 1.4642668999999842, 1.556627699999808, 1.4708200000000033, 1.3690013999998882, 1.3725769999996373, 1.4897216999997909, 1.3134887999999592, 1.3425818999999137, 2.0111573000003773, 2.490104500000143, 1.828659400000106, 1.4223799999999756, 1.3154874000001655, 1.345135499999742, 1.3370739000001777, 1.2319946999996318, 1.8936712999998235, 2.1643677999995816, 2.2425029999999424, 2.042303699999593, 1.388651000000209, 1.4362639000000854, 1.2217682000000423, 2.005797299999813, 1.9782278999996379, 1.8972678000000087, 1.9842830000002323, 1.9305766000002222, 1.5767108000000007, 1.5382656000001589, 1.43563979999999, 1.3288527999998223, 1.3616781999999148, 1.3701217999996516, 1.4079403999999158, 1.196054699999877, 2.112058600000182, 2.032719399999678, 2.313851800000066, 2.1553869999997914, 1.5304706000001715, 1.3298141000000214]\n",
      "\n",
      "\n",
      "Iteration 70 \n",
      "Mutation Range 0.2 \n",
      "Time for Mutation Range [1.6673362000001362, 1.4751042000002599, 1.1972365000001446, 1.541595800000323, 2.1984158000000207, 2.0755991999999424, 2.2150556000001416, 1.8879456999998183, 1.4102065000001858, 2.226209899999958, 2.264797499999986, 2.0223426999996263, 1.861537600000247, 2.088495399999829, 1.3225022999999965, 1.4672256999997444, 1.5028708999998344, 1.5155789000000368, 1.6120621999998548, 1.457917599999746, 1.187955200000033, 1.5603328000001966, 1.9988941000001432, 2.2196530000001076, 1.8877972999998747, 1.9847974000003887, 1.5840123000002677, 1.8271061000000373, 1.4642668999999842, 1.556627699999808, 1.4708200000000033, 1.3690013999998882, 1.3725769999996373, 1.4897216999997909, 1.3134887999999592, 1.3425818999999137, 2.0111573000003773, 2.490104500000143, 1.828659400000106, 1.4223799999999756, 1.3154874000001655, 1.345135499999742, 1.3370739000001777, 1.2319946999996318, 1.8936712999998235, 2.1643677999995816, 2.2425029999999424, 2.042303699999593, 1.388651000000209, 1.4362639000000854, 1.2217682000000423, 2.005797299999813, 1.9782278999996379, 1.8972678000000087, 1.9842830000002323, 1.9305766000002222, 1.5767108000000007, 1.5382656000001589, 1.43563979999999, 1.3288527999998223, 1.3616781999999148, 1.3701217999996516, 1.4079403999999158, 1.196054699999877, 2.112058600000182, 2.032719399999678, 2.313851800000066, 2.1553869999997914, 1.5304706000001715, 1.3298141000000214, 1.3968949999998586]\n",
      "\n",
      "\n",
      "Iteration 71 \n",
      "Mutation Range 0.2 \n",
      "Time for Mutation Range [1.6673362000001362, 1.4751042000002599, 1.1972365000001446, 1.541595800000323, 2.1984158000000207, 2.0755991999999424, 2.2150556000001416, 1.8879456999998183, 1.4102065000001858, 2.226209899999958, 2.264797499999986, 2.0223426999996263, 1.861537600000247, 2.088495399999829, 1.3225022999999965, 1.4672256999997444, 1.5028708999998344, 1.5155789000000368, 1.6120621999998548, 1.457917599999746, 1.187955200000033, 1.5603328000001966, 1.9988941000001432, 2.2196530000001076, 1.8877972999998747, 1.9847974000003887, 1.5840123000002677, 1.8271061000000373, 1.4642668999999842, 1.556627699999808, 1.4708200000000033, 1.3690013999998882, 1.3725769999996373, 1.4897216999997909, 1.3134887999999592, 1.3425818999999137, 2.0111573000003773, 2.490104500000143, 1.828659400000106, 1.4223799999999756, 1.3154874000001655, 1.345135499999742, 1.3370739000001777, 1.2319946999996318, 1.8936712999998235, 2.1643677999995816, 2.2425029999999424, 2.042303699999593, 1.388651000000209, 1.4362639000000854, 1.2217682000000423, 2.005797299999813, 1.9782278999996379, 1.8972678000000087, 1.9842830000002323, 1.9305766000002222, 1.5767108000000007, 1.5382656000001589, 1.43563979999999, 1.3288527999998223, 1.3616781999999148, 1.3701217999996516, 1.4079403999999158, 1.196054699999877, 2.112058600000182, 2.032719399999678, 2.313851800000066, 2.1553869999997914, 1.5304706000001715, 1.3298141000000214, 1.3968949999998586, 2.420839899999919]\n",
      "\n",
      "\n",
      "Iteration 72 \n",
      "Mutation Range 0.2 \n",
      "Time for Mutation Range [1.6673362000001362, 1.4751042000002599, 1.1972365000001446, 1.541595800000323, 2.1984158000000207, 2.0755991999999424, 2.2150556000001416, 1.8879456999998183, 1.4102065000001858, 2.226209899999958, 2.264797499999986, 2.0223426999996263, 1.861537600000247, 2.088495399999829, 1.3225022999999965, 1.4672256999997444, 1.5028708999998344, 1.5155789000000368, 1.6120621999998548, 1.457917599999746, 1.187955200000033, 1.5603328000001966, 1.9988941000001432, 2.2196530000001076, 1.8877972999998747, 1.9847974000003887, 1.5840123000002677, 1.8271061000000373, 1.4642668999999842, 1.556627699999808, 1.4708200000000033, 1.3690013999998882, 1.3725769999996373, 1.4897216999997909, 1.3134887999999592, 1.3425818999999137, 2.0111573000003773, 2.490104500000143, 1.828659400000106, 1.4223799999999756, 1.3154874000001655, 1.345135499999742, 1.3370739000001777, 1.2319946999996318, 1.8936712999998235, 2.1643677999995816, 2.2425029999999424, 2.042303699999593, 1.388651000000209, 1.4362639000000854, 1.2217682000000423, 2.005797299999813, 1.9782278999996379, 1.8972678000000087, 1.9842830000002323, 1.9305766000002222, 1.5767108000000007, 1.5382656000001589, 1.43563979999999, 1.3288527999998223, 1.3616781999999148, 1.3701217999996516, 1.4079403999999158, 1.196054699999877, 2.112058600000182, 2.032719399999678, 2.313851800000066, 2.1553869999997914, 1.5304706000001715, 1.3298141000000214, 1.3968949999998586, 2.420839899999919, 1.9295329999999922]\n",
      "\n",
      "\n",
      "Iteration 73 \n",
      "Mutation Range 0.2 \n",
      "Time for Mutation Range [1.6673362000001362, 1.4751042000002599, 1.1972365000001446, 1.541595800000323, 2.1984158000000207, 2.0755991999999424, 2.2150556000001416, 1.8879456999998183, 1.4102065000001858, 2.226209899999958, 2.264797499999986, 2.0223426999996263, 1.861537600000247, 2.088495399999829, 1.3225022999999965, 1.4672256999997444, 1.5028708999998344, 1.5155789000000368, 1.6120621999998548, 1.457917599999746, 1.187955200000033, 1.5603328000001966, 1.9988941000001432, 2.2196530000001076, 1.8877972999998747, 1.9847974000003887, 1.5840123000002677, 1.8271061000000373, 1.4642668999999842, 1.556627699999808, 1.4708200000000033, 1.3690013999998882, 1.3725769999996373, 1.4897216999997909, 1.3134887999999592, 1.3425818999999137, 2.0111573000003773, 2.490104500000143, 1.828659400000106, 1.4223799999999756, 1.3154874000001655, 1.345135499999742, 1.3370739000001777, 1.2319946999996318, 1.8936712999998235, 2.1643677999995816, 2.2425029999999424, 2.042303699999593, 1.388651000000209, 1.4362639000000854, 1.2217682000000423, 2.005797299999813, 1.9782278999996379, 1.8972678000000087, 1.9842830000002323, 1.9305766000002222, 1.5767108000000007, 1.5382656000001589, 1.43563979999999, 1.3288527999998223, 1.3616781999999148, 1.3701217999996516, 1.4079403999999158, 1.196054699999877, 2.112058600000182, 2.032719399999678, 2.313851800000066, 2.1553869999997914, 1.5304706000001715, 1.3298141000000214, 1.3968949999998586, 2.420839899999919, 1.9295329999999922, 2.14287000000013]\n",
      "\n",
      "\n",
      "Iteration 74 \n",
      "Mutation Range 0.2 \n",
      "Time for Mutation Range [1.6673362000001362, 1.4751042000002599, 1.1972365000001446, 1.541595800000323, 2.1984158000000207, 2.0755991999999424, 2.2150556000001416, 1.8879456999998183, 1.4102065000001858, 2.226209899999958, 2.264797499999986, 2.0223426999996263, 1.861537600000247, 2.088495399999829, 1.3225022999999965, 1.4672256999997444, 1.5028708999998344, 1.5155789000000368, 1.6120621999998548, 1.457917599999746, 1.187955200000033, 1.5603328000001966, 1.9988941000001432, 2.2196530000001076, 1.8877972999998747, 1.9847974000003887, 1.5840123000002677, 1.8271061000000373, 1.4642668999999842, 1.556627699999808, 1.4708200000000033, 1.3690013999998882, 1.3725769999996373, 1.4897216999997909, 1.3134887999999592, 1.3425818999999137, 2.0111573000003773, 2.490104500000143, 1.828659400000106, 1.4223799999999756, 1.3154874000001655, 1.345135499999742, 1.3370739000001777, 1.2319946999996318, 1.8936712999998235, 2.1643677999995816, 2.2425029999999424, 2.042303699999593, 1.388651000000209, 1.4362639000000854, 1.2217682000000423, 2.005797299999813, 1.9782278999996379, 1.8972678000000087, 1.9842830000002323, 1.9305766000002222, 1.5767108000000007, 1.5382656000001589, 1.43563979999999, 1.3288527999998223, 1.3616781999999148, 1.3701217999996516, 1.4079403999999158, 1.196054699999877, 2.112058600000182, 2.032719399999678, 2.313851800000066, 2.1553869999997914, 1.5304706000001715, 1.3298141000000214, 1.3968949999998586, 2.420839899999919, 1.9295329999999922, 2.14287000000013, 2.57171180000023]\n",
      "\n",
      "\n"
     ]
    },
    {
     "name": "stdout",
     "output_type": "stream",
     "text": [
      "Iteration 75 \n",
      "Mutation Range 0.2 \n",
      "Time for Mutation Range [1.6673362000001362, 1.4751042000002599, 1.1972365000001446, 1.541595800000323, 2.1984158000000207, 2.0755991999999424, 2.2150556000001416, 1.8879456999998183, 1.4102065000001858, 2.226209899999958, 2.264797499999986, 2.0223426999996263, 1.861537600000247, 2.088495399999829, 1.3225022999999965, 1.4672256999997444, 1.5028708999998344, 1.5155789000000368, 1.6120621999998548, 1.457917599999746, 1.187955200000033, 1.5603328000001966, 1.9988941000001432, 2.2196530000001076, 1.8877972999998747, 1.9847974000003887, 1.5840123000002677, 1.8271061000000373, 1.4642668999999842, 1.556627699999808, 1.4708200000000033, 1.3690013999998882, 1.3725769999996373, 1.4897216999997909, 1.3134887999999592, 1.3425818999999137, 2.0111573000003773, 2.490104500000143, 1.828659400000106, 1.4223799999999756, 1.3154874000001655, 1.345135499999742, 1.3370739000001777, 1.2319946999996318, 1.8936712999998235, 2.1643677999995816, 2.2425029999999424, 2.042303699999593, 1.388651000000209, 1.4362639000000854, 1.2217682000000423, 2.005797299999813, 1.9782278999996379, 1.8972678000000087, 1.9842830000002323, 1.9305766000002222, 1.5767108000000007, 1.5382656000001589, 1.43563979999999, 1.3288527999998223, 1.3616781999999148, 1.3701217999996516, 1.4079403999999158, 1.196054699999877, 2.112058600000182, 2.032719399999678, 2.313851800000066, 2.1553869999997914, 1.5304706000001715, 1.3298141000000214, 1.3968949999998586, 2.420839899999919, 1.9295329999999922, 2.14287000000013, 2.57171180000023, 1.415006899999753]\n",
      "\n",
      "\n",
      "Iteration 76 \n",
      "Mutation Range 0.2 \n",
      "Time for Mutation Range [1.6673362000001362, 1.4751042000002599, 1.1972365000001446, 1.541595800000323, 2.1984158000000207, 2.0755991999999424, 2.2150556000001416, 1.8879456999998183, 1.4102065000001858, 2.226209899999958, 2.264797499999986, 2.0223426999996263, 1.861537600000247, 2.088495399999829, 1.3225022999999965, 1.4672256999997444, 1.5028708999998344, 1.5155789000000368, 1.6120621999998548, 1.457917599999746, 1.187955200000033, 1.5603328000001966, 1.9988941000001432, 2.2196530000001076, 1.8877972999998747, 1.9847974000003887, 1.5840123000002677, 1.8271061000000373, 1.4642668999999842, 1.556627699999808, 1.4708200000000033, 1.3690013999998882, 1.3725769999996373, 1.4897216999997909, 1.3134887999999592, 1.3425818999999137, 2.0111573000003773, 2.490104500000143, 1.828659400000106, 1.4223799999999756, 1.3154874000001655, 1.345135499999742, 1.3370739000001777, 1.2319946999996318, 1.8936712999998235, 2.1643677999995816, 2.2425029999999424, 2.042303699999593, 1.388651000000209, 1.4362639000000854, 1.2217682000000423, 2.005797299999813, 1.9782278999996379, 1.8972678000000087, 1.9842830000002323, 1.9305766000002222, 1.5767108000000007, 1.5382656000001589, 1.43563979999999, 1.3288527999998223, 1.3616781999999148, 1.3701217999996516, 1.4079403999999158, 1.196054699999877, 2.112058600000182, 2.032719399999678, 2.313851800000066, 2.1553869999997914, 1.5304706000001715, 1.3298141000000214, 1.3968949999998586, 2.420839899999919, 1.9295329999999922, 2.14287000000013, 2.57171180000023, 1.415006899999753, 1.3699854000001324]\n",
      "\n",
      "\n",
      "Iteration 77 \n",
      "Mutation Range 0.2 \n",
      "Time for Mutation Range [1.6673362000001362, 1.4751042000002599, 1.1972365000001446, 1.541595800000323, 2.1984158000000207, 2.0755991999999424, 2.2150556000001416, 1.8879456999998183, 1.4102065000001858, 2.226209899999958, 2.264797499999986, 2.0223426999996263, 1.861537600000247, 2.088495399999829, 1.3225022999999965, 1.4672256999997444, 1.5028708999998344, 1.5155789000000368, 1.6120621999998548, 1.457917599999746, 1.187955200000033, 1.5603328000001966, 1.9988941000001432, 2.2196530000001076, 1.8877972999998747, 1.9847974000003887, 1.5840123000002677, 1.8271061000000373, 1.4642668999999842, 1.556627699999808, 1.4708200000000033, 1.3690013999998882, 1.3725769999996373, 1.4897216999997909, 1.3134887999999592, 1.3425818999999137, 2.0111573000003773, 2.490104500000143, 1.828659400000106, 1.4223799999999756, 1.3154874000001655, 1.345135499999742, 1.3370739000001777, 1.2319946999996318, 1.8936712999998235, 2.1643677999995816, 2.2425029999999424, 2.042303699999593, 1.388651000000209, 1.4362639000000854, 1.2217682000000423, 2.005797299999813, 1.9782278999996379, 1.8972678000000087, 1.9842830000002323, 1.9305766000002222, 1.5767108000000007, 1.5382656000001589, 1.43563979999999, 1.3288527999998223, 1.3616781999999148, 1.3701217999996516, 1.4079403999999158, 1.196054699999877, 2.112058600000182, 2.032719399999678, 2.313851800000066, 2.1553869999997914, 1.5304706000001715, 1.3298141000000214, 1.3968949999998586, 2.420839899999919, 1.9295329999999922, 2.14287000000013, 2.57171180000023, 1.415006899999753, 1.3699854000001324, 1.225390999999945]\n",
      "\n",
      "\n",
      "Iteration 78 \n",
      "Mutation Range 0.2 \n",
      "Time for Mutation Range [1.6673362000001362, 1.4751042000002599, 1.1972365000001446, 1.541595800000323, 2.1984158000000207, 2.0755991999999424, 2.2150556000001416, 1.8879456999998183, 1.4102065000001858, 2.226209899999958, 2.264797499999986, 2.0223426999996263, 1.861537600000247, 2.088495399999829, 1.3225022999999965, 1.4672256999997444, 1.5028708999998344, 1.5155789000000368, 1.6120621999998548, 1.457917599999746, 1.187955200000033, 1.5603328000001966, 1.9988941000001432, 2.2196530000001076, 1.8877972999998747, 1.9847974000003887, 1.5840123000002677, 1.8271061000000373, 1.4642668999999842, 1.556627699999808, 1.4708200000000033, 1.3690013999998882, 1.3725769999996373, 1.4897216999997909, 1.3134887999999592, 1.3425818999999137, 2.0111573000003773, 2.490104500000143, 1.828659400000106, 1.4223799999999756, 1.3154874000001655, 1.345135499999742, 1.3370739000001777, 1.2319946999996318, 1.8936712999998235, 2.1643677999995816, 2.2425029999999424, 2.042303699999593, 1.388651000000209, 1.4362639000000854, 1.2217682000000423, 2.005797299999813, 1.9782278999996379, 1.8972678000000087, 1.9842830000002323, 1.9305766000002222, 1.5767108000000007, 1.5382656000001589, 1.43563979999999, 1.3288527999998223, 1.3616781999999148, 1.3701217999996516, 1.4079403999999158, 1.196054699999877, 2.112058600000182, 2.032719399999678, 2.313851800000066, 2.1553869999997914, 1.5304706000001715, 1.3298141000000214, 1.3968949999998586, 2.420839899999919, 1.9295329999999922, 2.14287000000013, 2.57171180000023, 1.415006899999753, 1.3699854000001324, 1.225390999999945, 1.2386391999998523]\n",
      "\n",
      "\n",
      "Iteration 79 \n",
      "Mutation Range 0.2 \n",
      "Time for Mutation Range [1.6673362000001362, 1.4751042000002599, 1.1972365000001446, 1.541595800000323, 2.1984158000000207, 2.0755991999999424, 2.2150556000001416, 1.8879456999998183, 1.4102065000001858, 2.226209899999958, 2.264797499999986, 2.0223426999996263, 1.861537600000247, 2.088495399999829, 1.3225022999999965, 1.4672256999997444, 1.5028708999998344, 1.5155789000000368, 1.6120621999998548, 1.457917599999746, 1.187955200000033, 1.5603328000001966, 1.9988941000001432, 2.2196530000001076, 1.8877972999998747, 1.9847974000003887, 1.5840123000002677, 1.8271061000000373, 1.4642668999999842, 1.556627699999808, 1.4708200000000033, 1.3690013999998882, 1.3725769999996373, 1.4897216999997909, 1.3134887999999592, 1.3425818999999137, 2.0111573000003773, 2.490104500000143, 1.828659400000106, 1.4223799999999756, 1.3154874000001655, 1.345135499999742, 1.3370739000001777, 1.2319946999996318, 1.8936712999998235, 2.1643677999995816, 2.2425029999999424, 2.042303699999593, 1.388651000000209, 1.4362639000000854, 1.2217682000000423, 2.005797299999813, 1.9782278999996379, 1.8972678000000087, 1.9842830000002323, 1.9305766000002222, 1.5767108000000007, 1.5382656000001589, 1.43563979999999, 1.3288527999998223, 1.3616781999999148, 1.3701217999996516, 1.4079403999999158, 1.196054699999877, 2.112058600000182, 2.032719399999678, 2.313851800000066, 2.1553869999997914, 1.5304706000001715, 1.3298141000000214, 1.3968949999998586, 2.420839899999919, 1.9295329999999922, 2.14287000000013, 2.57171180000023, 1.415006899999753, 1.3699854000001324, 1.225390999999945, 1.2386391999998523, 1.3486775000001217]\n",
      "\n",
      "\n",
      "Iteration 80 \n",
      "Mutation Range 0.2 \n",
      "Time for Mutation Range [1.6673362000001362, 1.4751042000002599, 1.1972365000001446, 1.541595800000323, 2.1984158000000207, 2.0755991999999424, 2.2150556000001416, 1.8879456999998183, 1.4102065000001858, 2.226209899999958, 2.264797499999986, 2.0223426999996263, 1.861537600000247, 2.088495399999829, 1.3225022999999965, 1.4672256999997444, 1.5028708999998344, 1.5155789000000368, 1.6120621999998548, 1.457917599999746, 1.187955200000033, 1.5603328000001966, 1.9988941000001432, 2.2196530000001076, 1.8877972999998747, 1.9847974000003887, 1.5840123000002677, 1.8271061000000373, 1.4642668999999842, 1.556627699999808, 1.4708200000000033, 1.3690013999998882, 1.3725769999996373, 1.4897216999997909, 1.3134887999999592, 1.3425818999999137, 2.0111573000003773, 2.490104500000143, 1.828659400000106, 1.4223799999999756, 1.3154874000001655, 1.345135499999742, 1.3370739000001777, 1.2319946999996318, 1.8936712999998235, 2.1643677999995816, 2.2425029999999424, 2.042303699999593, 1.388651000000209, 1.4362639000000854, 1.2217682000000423, 2.005797299999813, 1.9782278999996379, 1.8972678000000087, 1.9842830000002323, 1.9305766000002222, 1.5767108000000007, 1.5382656000001589, 1.43563979999999, 1.3288527999998223, 1.3616781999999148, 1.3701217999996516, 1.4079403999999158, 1.196054699999877, 2.112058600000182, 2.032719399999678, 2.313851800000066, 2.1553869999997914, 1.5304706000001715, 1.3298141000000214, 1.3968949999998586, 2.420839899999919, 1.9295329999999922, 2.14287000000013, 2.57171180000023, 1.415006899999753, 1.3699854000001324, 1.225390999999945, 1.2386391999998523, 1.3486775000001217, 1.3100337999999283]\n",
      "\n",
      "\n"
     ]
    },
    {
     "name": "stdout",
     "output_type": "stream",
     "text": [
      "Iteration 81 \n",
      "Mutation Range 0.2 \n",
      "Time for Mutation Range [1.6673362000001362, 1.4751042000002599, 1.1972365000001446, 1.541595800000323, 2.1984158000000207, 2.0755991999999424, 2.2150556000001416, 1.8879456999998183, 1.4102065000001858, 2.226209899999958, 2.264797499999986, 2.0223426999996263, 1.861537600000247, 2.088495399999829, 1.3225022999999965, 1.4672256999997444, 1.5028708999998344, 1.5155789000000368, 1.6120621999998548, 1.457917599999746, 1.187955200000033, 1.5603328000001966, 1.9988941000001432, 2.2196530000001076, 1.8877972999998747, 1.9847974000003887, 1.5840123000002677, 1.8271061000000373, 1.4642668999999842, 1.556627699999808, 1.4708200000000033, 1.3690013999998882, 1.3725769999996373, 1.4897216999997909, 1.3134887999999592, 1.3425818999999137, 2.0111573000003773, 2.490104500000143, 1.828659400000106, 1.4223799999999756, 1.3154874000001655, 1.345135499999742, 1.3370739000001777, 1.2319946999996318, 1.8936712999998235, 2.1643677999995816, 2.2425029999999424, 2.042303699999593, 1.388651000000209, 1.4362639000000854, 1.2217682000000423, 2.005797299999813, 1.9782278999996379, 1.8972678000000087, 1.9842830000002323, 1.9305766000002222, 1.5767108000000007, 1.5382656000001589, 1.43563979999999, 1.3288527999998223, 1.3616781999999148, 1.3701217999996516, 1.4079403999999158, 1.196054699999877, 2.112058600000182, 2.032719399999678, 2.313851800000066, 2.1553869999997914, 1.5304706000001715, 1.3298141000000214, 1.3968949999998586, 2.420839899999919, 1.9295329999999922, 2.14287000000013, 2.57171180000023, 1.415006899999753, 1.3699854000001324, 1.225390999999945, 1.2386391999998523, 1.3486775000001217, 1.3100337999999283, 1.9888144000001375]\n",
      "\n",
      "\n",
      "Iteration 82 \n",
      "Mutation Range 0.2 \n",
      "Time for Mutation Range [1.6673362000001362, 1.4751042000002599, 1.1972365000001446, 1.541595800000323, 2.1984158000000207, 2.0755991999999424, 2.2150556000001416, 1.8879456999998183, 1.4102065000001858, 2.226209899999958, 2.264797499999986, 2.0223426999996263, 1.861537600000247, 2.088495399999829, 1.3225022999999965, 1.4672256999997444, 1.5028708999998344, 1.5155789000000368, 1.6120621999998548, 1.457917599999746, 1.187955200000033, 1.5603328000001966, 1.9988941000001432, 2.2196530000001076, 1.8877972999998747, 1.9847974000003887, 1.5840123000002677, 1.8271061000000373, 1.4642668999999842, 1.556627699999808, 1.4708200000000033, 1.3690013999998882, 1.3725769999996373, 1.4897216999997909, 1.3134887999999592, 1.3425818999999137, 2.0111573000003773, 2.490104500000143, 1.828659400000106, 1.4223799999999756, 1.3154874000001655, 1.345135499999742, 1.3370739000001777, 1.2319946999996318, 1.8936712999998235, 2.1643677999995816, 2.2425029999999424, 2.042303699999593, 1.388651000000209, 1.4362639000000854, 1.2217682000000423, 2.005797299999813, 1.9782278999996379, 1.8972678000000087, 1.9842830000002323, 1.9305766000002222, 1.5767108000000007, 1.5382656000001589, 1.43563979999999, 1.3288527999998223, 1.3616781999999148, 1.3701217999996516, 1.4079403999999158, 1.196054699999877, 2.112058600000182, 2.032719399999678, 2.313851800000066, 2.1553869999997914, 1.5304706000001715, 1.3298141000000214, 1.3968949999998586, 2.420839899999919, 1.9295329999999922, 2.14287000000013, 2.57171180000023, 1.415006899999753, 1.3699854000001324, 1.225390999999945, 1.2386391999998523, 1.3486775000001217, 1.3100337999999283, 1.9888144000001375, 1.799157599999944]\n",
      "\n",
      "\n",
      "Iteration 83 \n",
      "Mutation Range 0.2 \n",
      "Time for Mutation Range [1.6673362000001362, 1.4751042000002599, 1.1972365000001446, 1.541595800000323, 2.1984158000000207, 2.0755991999999424, 2.2150556000001416, 1.8879456999998183, 1.4102065000001858, 2.226209899999958, 2.264797499999986, 2.0223426999996263, 1.861537600000247, 2.088495399999829, 1.3225022999999965, 1.4672256999997444, 1.5028708999998344, 1.5155789000000368, 1.6120621999998548, 1.457917599999746, 1.187955200000033, 1.5603328000001966, 1.9988941000001432, 2.2196530000001076, 1.8877972999998747, 1.9847974000003887, 1.5840123000002677, 1.8271061000000373, 1.4642668999999842, 1.556627699999808, 1.4708200000000033, 1.3690013999998882, 1.3725769999996373, 1.4897216999997909, 1.3134887999999592, 1.3425818999999137, 2.0111573000003773, 2.490104500000143, 1.828659400000106, 1.4223799999999756, 1.3154874000001655, 1.345135499999742, 1.3370739000001777, 1.2319946999996318, 1.8936712999998235, 2.1643677999995816, 2.2425029999999424, 2.042303699999593, 1.388651000000209, 1.4362639000000854, 1.2217682000000423, 2.005797299999813, 1.9782278999996379, 1.8972678000000087, 1.9842830000002323, 1.9305766000002222, 1.5767108000000007, 1.5382656000001589, 1.43563979999999, 1.3288527999998223, 1.3616781999999148, 1.3701217999996516, 1.4079403999999158, 1.196054699999877, 2.112058600000182, 2.032719399999678, 2.313851800000066, 2.1553869999997914, 1.5304706000001715, 1.3298141000000214, 1.3968949999998586, 2.420839899999919, 1.9295329999999922, 2.14287000000013, 2.57171180000023, 1.415006899999753, 1.3699854000001324, 1.225390999999945, 1.2386391999998523, 1.3486775000001217, 1.3100337999999283, 1.9888144000001375, 1.799157599999944, 1.9121399000000565]\n",
      "\n",
      "\n",
      "Iteration 84 \n",
      "Mutation Range 0.2 \n",
      "Time for Mutation Range [1.6673362000001362, 1.4751042000002599, 1.1972365000001446, 1.541595800000323, 2.1984158000000207, 2.0755991999999424, 2.2150556000001416, 1.8879456999998183, 1.4102065000001858, 2.226209899999958, 2.264797499999986, 2.0223426999996263, 1.861537600000247, 2.088495399999829, 1.3225022999999965, 1.4672256999997444, 1.5028708999998344, 1.5155789000000368, 1.6120621999998548, 1.457917599999746, 1.187955200000033, 1.5603328000001966, 1.9988941000001432, 2.2196530000001076, 1.8877972999998747, 1.9847974000003887, 1.5840123000002677, 1.8271061000000373, 1.4642668999999842, 1.556627699999808, 1.4708200000000033, 1.3690013999998882, 1.3725769999996373, 1.4897216999997909, 1.3134887999999592, 1.3425818999999137, 2.0111573000003773, 2.490104500000143, 1.828659400000106, 1.4223799999999756, 1.3154874000001655, 1.345135499999742, 1.3370739000001777, 1.2319946999996318, 1.8936712999998235, 2.1643677999995816, 2.2425029999999424, 2.042303699999593, 1.388651000000209, 1.4362639000000854, 1.2217682000000423, 2.005797299999813, 1.9782278999996379, 1.8972678000000087, 1.9842830000002323, 1.9305766000002222, 1.5767108000000007, 1.5382656000001589, 1.43563979999999, 1.3288527999998223, 1.3616781999999148, 1.3701217999996516, 1.4079403999999158, 1.196054699999877, 2.112058600000182, 2.032719399999678, 2.313851800000066, 2.1553869999997914, 1.5304706000001715, 1.3298141000000214, 1.3968949999998586, 2.420839899999919, 1.9295329999999922, 2.14287000000013, 2.57171180000023, 1.415006899999753, 1.3699854000001324, 1.225390999999945, 1.2386391999998523, 1.3486775000001217, 1.3100337999999283, 1.9888144000001375, 1.799157599999944, 1.9121399000000565, 1.7003171000001203]\n",
      "\n",
      "\n",
      "Iteration 85 \n",
      "Mutation Range 0.2 \n",
      "Time for Mutation Range [1.6673362000001362, 1.4751042000002599, 1.1972365000001446, 1.541595800000323, 2.1984158000000207, 2.0755991999999424, 2.2150556000001416, 1.8879456999998183, 1.4102065000001858, 2.226209899999958, 2.264797499999986, 2.0223426999996263, 1.861537600000247, 2.088495399999829, 1.3225022999999965, 1.4672256999997444, 1.5028708999998344, 1.5155789000000368, 1.6120621999998548, 1.457917599999746, 1.187955200000033, 1.5603328000001966, 1.9988941000001432, 2.2196530000001076, 1.8877972999998747, 1.9847974000003887, 1.5840123000002677, 1.8271061000000373, 1.4642668999999842, 1.556627699999808, 1.4708200000000033, 1.3690013999998882, 1.3725769999996373, 1.4897216999997909, 1.3134887999999592, 1.3425818999999137, 2.0111573000003773, 2.490104500000143, 1.828659400000106, 1.4223799999999756, 1.3154874000001655, 1.345135499999742, 1.3370739000001777, 1.2319946999996318, 1.8936712999998235, 2.1643677999995816, 2.2425029999999424, 2.042303699999593, 1.388651000000209, 1.4362639000000854, 1.2217682000000423, 2.005797299999813, 1.9782278999996379, 1.8972678000000087, 1.9842830000002323, 1.9305766000002222, 1.5767108000000007, 1.5382656000001589, 1.43563979999999, 1.3288527999998223, 1.3616781999999148, 1.3701217999996516, 1.4079403999999158, 1.196054699999877, 2.112058600000182, 2.032719399999678, 2.313851800000066, 2.1553869999997914, 1.5304706000001715, 1.3298141000000214, 1.3968949999998586, 2.420839899999919, 1.9295329999999922, 2.14287000000013, 2.57171180000023, 1.415006899999753, 1.3699854000001324, 1.225390999999945, 1.2386391999998523, 1.3486775000001217, 1.3100337999999283, 1.9888144000001375, 1.799157599999944, 1.9121399000000565, 1.7003171000001203, 1.6302769000003536]\n",
      "\n",
      "\n"
     ]
    },
    {
     "name": "stdout",
     "output_type": "stream",
     "text": [
      "Iteration 86 \n",
      "Mutation Range 0.2 \n",
      "Time for Mutation Range [1.6673362000001362, 1.4751042000002599, 1.1972365000001446, 1.541595800000323, 2.1984158000000207, 2.0755991999999424, 2.2150556000001416, 1.8879456999998183, 1.4102065000001858, 2.226209899999958, 2.264797499999986, 2.0223426999996263, 1.861537600000247, 2.088495399999829, 1.3225022999999965, 1.4672256999997444, 1.5028708999998344, 1.5155789000000368, 1.6120621999998548, 1.457917599999746, 1.187955200000033, 1.5603328000001966, 1.9988941000001432, 2.2196530000001076, 1.8877972999998747, 1.9847974000003887, 1.5840123000002677, 1.8271061000000373, 1.4642668999999842, 1.556627699999808, 1.4708200000000033, 1.3690013999998882, 1.3725769999996373, 1.4897216999997909, 1.3134887999999592, 1.3425818999999137, 2.0111573000003773, 2.490104500000143, 1.828659400000106, 1.4223799999999756, 1.3154874000001655, 1.345135499999742, 1.3370739000001777, 1.2319946999996318, 1.8936712999998235, 2.1643677999995816, 2.2425029999999424, 2.042303699999593, 1.388651000000209, 1.4362639000000854, 1.2217682000000423, 2.005797299999813, 1.9782278999996379, 1.8972678000000087, 1.9842830000002323, 1.9305766000002222, 1.5767108000000007, 1.5382656000001589, 1.43563979999999, 1.3288527999998223, 1.3616781999999148, 1.3701217999996516, 1.4079403999999158, 1.196054699999877, 2.112058600000182, 2.032719399999678, 2.313851800000066, 2.1553869999997914, 1.5304706000001715, 1.3298141000000214, 1.3968949999998586, 2.420839899999919, 1.9295329999999922, 2.14287000000013, 2.57171180000023, 1.415006899999753, 1.3699854000001324, 1.225390999999945, 1.2386391999998523, 1.3486775000001217, 1.3100337999999283, 1.9888144000001375, 1.799157599999944, 1.9121399000000565, 1.7003171000001203, 1.6302769000003536, 1.4826273999997284]\n",
      "\n",
      "\n",
      "Iteration 87 \n",
      "Mutation Range 0.2 \n",
      "Time for Mutation Range [1.6673362000001362, 1.4751042000002599, 1.1972365000001446, 1.541595800000323, 2.1984158000000207, 2.0755991999999424, 2.2150556000001416, 1.8879456999998183, 1.4102065000001858, 2.226209899999958, 2.264797499999986, 2.0223426999996263, 1.861537600000247, 2.088495399999829, 1.3225022999999965, 1.4672256999997444, 1.5028708999998344, 1.5155789000000368, 1.6120621999998548, 1.457917599999746, 1.187955200000033, 1.5603328000001966, 1.9988941000001432, 2.2196530000001076, 1.8877972999998747, 1.9847974000003887, 1.5840123000002677, 1.8271061000000373, 1.4642668999999842, 1.556627699999808, 1.4708200000000033, 1.3690013999998882, 1.3725769999996373, 1.4897216999997909, 1.3134887999999592, 1.3425818999999137, 2.0111573000003773, 2.490104500000143, 1.828659400000106, 1.4223799999999756, 1.3154874000001655, 1.345135499999742, 1.3370739000001777, 1.2319946999996318, 1.8936712999998235, 2.1643677999995816, 2.2425029999999424, 2.042303699999593, 1.388651000000209, 1.4362639000000854, 1.2217682000000423, 2.005797299999813, 1.9782278999996379, 1.8972678000000087, 1.9842830000002323, 1.9305766000002222, 1.5767108000000007, 1.5382656000001589, 1.43563979999999, 1.3288527999998223, 1.3616781999999148, 1.3701217999996516, 1.4079403999999158, 1.196054699999877, 2.112058600000182, 2.032719399999678, 2.313851800000066, 2.1553869999997914, 1.5304706000001715, 1.3298141000000214, 1.3968949999998586, 2.420839899999919, 1.9295329999999922, 2.14287000000013, 2.57171180000023, 1.415006899999753, 1.3699854000001324, 1.225390999999945, 1.2386391999998523, 1.3486775000001217, 1.3100337999999283, 1.9888144000001375, 1.799157599999944, 1.9121399000000565, 1.7003171000001203, 1.6302769000003536, 1.4826273999997284, 1.4467967999999019]\n",
      "\n",
      "\n",
      "Iteration 88 \n",
      "Mutation Range 0.2 \n",
      "Time for Mutation Range [1.6673362000001362, 1.4751042000002599, 1.1972365000001446, 1.541595800000323, 2.1984158000000207, 2.0755991999999424, 2.2150556000001416, 1.8879456999998183, 1.4102065000001858, 2.226209899999958, 2.264797499999986, 2.0223426999996263, 1.861537600000247, 2.088495399999829, 1.3225022999999965, 1.4672256999997444, 1.5028708999998344, 1.5155789000000368, 1.6120621999998548, 1.457917599999746, 1.187955200000033, 1.5603328000001966, 1.9988941000001432, 2.2196530000001076, 1.8877972999998747, 1.9847974000003887, 1.5840123000002677, 1.8271061000000373, 1.4642668999999842, 1.556627699999808, 1.4708200000000033, 1.3690013999998882, 1.3725769999996373, 1.4897216999997909, 1.3134887999999592, 1.3425818999999137, 2.0111573000003773, 2.490104500000143, 1.828659400000106, 1.4223799999999756, 1.3154874000001655, 1.345135499999742, 1.3370739000001777, 1.2319946999996318, 1.8936712999998235, 2.1643677999995816, 2.2425029999999424, 2.042303699999593, 1.388651000000209, 1.4362639000000854, 1.2217682000000423, 2.005797299999813, 1.9782278999996379, 1.8972678000000087, 1.9842830000002323, 1.9305766000002222, 1.5767108000000007, 1.5382656000001589, 1.43563979999999, 1.3288527999998223, 1.3616781999999148, 1.3701217999996516, 1.4079403999999158, 1.196054699999877, 2.112058600000182, 2.032719399999678, 2.313851800000066, 2.1553869999997914, 1.5304706000001715, 1.3298141000000214, 1.3968949999998586, 2.420839899999919, 1.9295329999999922, 2.14287000000013, 2.57171180000023, 1.415006899999753, 1.3699854000001324, 1.225390999999945, 1.2386391999998523, 1.3486775000001217, 1.3100337999999283, 1.9888144000001375, 1.799157599999944, 1.9121399000000565, 1.7003171000001203, 1.6302769000003536, 1.4826273999997284, 1.4467967999999019, 1.534313000000111]\n",
      "\n",
      "\n",
      "Iteration 89 \n",
      "Mutation Range 0.2 \n",
      "Time for Mutation Range [1.6673362000001362, 1.4751042000002599, 1.1972365000001446, 1.541595800000323, 2.1984158000000207, 2.0755991999999424, 2.2150556000001416, 1.8879456999998183, 1.4102065000001858, 2.226209899999958, 2.264797499999986, 2.0223426999996263, 1.861537600000247, 2.088495399999829, 1.3225022999999965, 1.4672256999997444, 1.5028708999998344, 1.5155789000000368, 1.6120621999998548, 1.457917599999746, 1.187955200000033, 1.5603328000001966, 1.9988941000001432, 2.2196530000001076, 1.8877972999998747, 1.9847974000003887, 1.5840123000002677, 1.8271061000000373, 1.4642668999999842, 1.556627699999808, 1.4708200000000033, 1.3690013999998882, 1.3725769999996373, 1.4897216999997909, 1.3134887999999592, 1.3425818999999137, 2.0111573000003773, 2.490104500000143, 1.828659400000106, 1.4223799999999756, 1.3154874000001655, 1.345135499999742, 1.3370739000001777, 1.2319946999996318, 1.8936712999998235, 2.1643677999995816, 2.2425029999999424, 2.042303699999593, 1.388651000000209, 1.4362639000000854, 1.2217682000000423, 2.005797299999813, 1.9782278999996379, 1.8972678000000087, 1.9842830000002323, 1.9305766000002222, 1.5767108000000007, 1.5382656000001589, 1.43563979999999, 1.3288527999998223, 1.3616781999999148, 1.3701217999996516, 1.4079403999999158, 1.196054699999877, 2.112058600000182, 2.032719399999678, 2.313851800000066, 2.1553869999997914, 1.5304706000001715, 1.3298141000000214, 1.3968949999998586, 2.420839899999919, 1.9295329999999922, 2.14287000000013, 2.57171180000023, 1.415006899999753, 1.3699854000001324, 1.225390999999945, 1.2386391999998523, 1.3486775000001217, 1.3100337999999283, 1.9888144000001375, 1.799157599999944, 1.9121399000000565, 1.7003171000001203, 1.6302769000003536, 1.4826273999997284, 1.4467967999999019, 1.534313000000111, 1.4339783999998872]\n",
      "\n",
      "\n",
      "Iteration 90 \n",
      "Mutation Range 0.2 \n",
      "Time for Mutation Range [1.6673362000001362, 1.4751042000002599, 1.1972365000001446, 1.541595800000323, 2.1984158000000207, 2.0755991999999424, 2.2150556000001416, 1.8879456999998183, 1.4102065000001858, 2.226209899999958, 2.264797499999986, 2.0223426999996263, 1.861537600000247, 2.088495399999829, 1.3225022999999965, 1.4672256999997444, 1.5028708999998344, 1.5155789000000368, 1.6120621999998548, 1.457917599999746, 1.187955200000033, 1.5603328000001966, 1.9988941000001432, 2.2196530000001076, 1.8877972999998747, 1.9847974000003887, 1.5840123000002677, 1.8271061000000373, 1.4642668999999842, 1.556627699999808, 1.4708200000000033, 1.3690013999998882, 1.3725769999996373, 1.4897216999997909, 1.3134887999999592, 1.3425818999999137, 2.0111573000003773, 2.490104500000143, 1.828659400000106, 1.4223799999999756, 1.3154874000001655, 1.345135499999742, 1.3370739000001777, 1.2319946999996318, 1.8936712999998235, 2.1643677999995816, 2.2425029999999424, 2.042303699999593, 1.388651000000209, 1.4362639000000854, 1.2217682000000423, 2.005797299999813, 1.9782278999996379, 1.8972678000000087, 1.9842830000002323, 1.9305766000002222, 1.5767108000000007, 1.5382656000001589, 1.43563979999999, 1.3288527999998223, 1.3616781999999148, 1.3701217999996516, 1.4079403999999158, 1.196054699999877, 2.112058600000182, 2.032719399999678, 2.313851800000066, 2.1553869999997914, 1.5304706000001715, 1.3298141000000214, 1.3968949999998586, 2.420839899999919, 1.9295329999999922, 2.14287000000013, 2.57171180000023, 1.415006899999753, 1.3699854000001324, 1.225390999999945, 1.2386391999998523, 1.3486775000001217, 1.3100337999999283, 1.9888144000001375, 1.799157599999944, 1.9121399000000565, 1.7003171000001203, 1.6302769000003536, 1.4826273999997284, 1.4467967999999019, 1.534313000000111, 1.4339783999998872, 1.556125399999928]\n",
      "\n",
      "\n"
     ]
    },
    {
     "name": "stdout",
     "output_type": "stream",
     "text": [
      "Iteration 91 \n",
      "Mutation Range 0.2 \n",
      "Time for Mutation Range [1.6673362000001362, 1.4751042000002599, 1.1972365000001446, 1.541595800000323, 2.1984158000000207, 2.0755991999999424, 2.2150556000001416, 1.8879456999998183, 1.4102065000001858, 2.226209899999958, 2.264797499999986, 2.0223426999996263, 1.861537600000247, 2.088495399999829, 1.3225022999999965, 1.4672256999997444, 1.5028708999998344, 1.5155789000000368, 1.6120621999998548, 1.457917599999746, 1.187955200000033, 1.5603328000001966, 1.9988941000001432, 2.2196530000001076, 1.8877972999998747, 1.9847974000003887, 1.5840123000002677, 1.8271061000000373, 1.4642668999999842, 1.556627699999808, 1.4708200000000033, 1.3690013999998882, 1.3725769999996373, 1.4897216999997909, 1.3134887999999592, 1.3425818999999137, 2.0111573000003773, 2.490104500000143, 1.828659400000106, 1.4223799999999756, 1.3154874000001655, 1.345135499999742, 1.3370739000001777, 1.2319946999996318, 1.8936712999998235, 2.1643677999995816, 2.2425029999999424, 2.042303699999593, 1.388651000000209, 1.4362639000000854, 1.2217682000000423, 2.005797299999813, 1.9782278999996379, 1.8972678000000087, 1.9842830000002323, 1.9305766000002222, 1.5767108000000007, 1.5382656000001589, 1.43563979999999, 1.3288527999998223, 1.3616781999999148, 1.3701217999996516, 1.4079403999999158, 1.196054699999877, 2.112058600000182, 2.032719399999678, 2.313851800000066, 2.1553869999997914, 1.5304706000001715, 1.3298141000000214, 1.3968949999998586, 2.420839899999919, 1.9295329999999922, 2.14287000000013, 2.57171180000023, 1.415006899999753, 1.3699854000001324, 1.225390999999945, 1.2386391999998523, 1.3486775000001217, 1.3100337999999283, 1.9888144000001375, 1.799157599999944, 1.9121399000000565, 1.7003171000001203, 1.6302769000003536, 1.4826273999997284, 1.4467967999999019, 1.534313000000111, 1.4339783999998872, 1.556125399999928, 1.6159954999998263]\n",
      "\n",
      "\n",
      "Iteration 92 \n",
      "Mutation Range 0.2 \n",
      "Time for Mutation Range [1.6673362000001362, 1.4751042000002599, 1.1972365000001446, 1.541595800000323, 2.1984158000000207, 2.0755991999999424, 2.2150556000001416, 1.8879456999998183, 1.4102065000001858, 2.226209899999958, 2.264797499999986, 2.0223426999996263, 1.861537600000247, 2.088495399999829, 1.3225022999999965, 1.4672256999997444, 1.5028708999998344, 1.5155789000000368, 1.6120621999998548, 1.457917599999746, 1.187955200000033, 1.5603328000001966, 1.9988941000001432, 2.2196530000001076, 1.8877972999998747, 1.9847974000003887, 1.5840123000002677, 1.8271061000000373, 1.4642668999999842, 1.556627699999808, 1.4708200000000033, 1.3690013999998882, 1.3725769999996373, 1.4897216999997909, 1.3134887999999592, 1.3425818999999137, 2.0111573000003773, 2.490104500000143, 1.828659400000106, 1.4223799999999756, 1.3154874000001655, 1.345135499999742, 1.3370739000001777, 1.2319946999996318, 1.8936712999998235, 2.1643677999995816, 2.2425029999999424, 2.042303699999593, 1.388651000000209, 1.4362639000000854, 1.2217682000000423, 2.005797299999813, 1.9782278999996379, 1.8972678000000087, 1.9842830000002323, 1.9305766000002222, 1.5767108000000007, 1.5382656000001589, 1.43563979999999, 1.3288527999998223, 1.3616781999999148, 1.3701217999996516, 1.4079403999999158, 1.196054699999877, 2.112058600000182, 2.032719399999678, 2.313851800000066, 2.1553869999997914, 1.5304706000001715, 1.3298141000000214, 1.3968949999998586, 2.420839899999919, 1.9295329999999922, 2.14287000000013, 2.57171180000023, 1.415006899999753, 1.3699854000001324, 1.225390999999945, 1.2386391999998523, 1.3486775000001217, 1.3100337999999283, 1.9888144000001375, 1.799157599999944, 1.9121399000000565, 1.7003171000001203, 1.6302769000003536, 1.4826273999997284, 1.4467967999999019, 1.534313000000111, 1.4339783999998872, 1.556125399999928, 1.6159954999998263, 1.4731321999997817]\n",
      "\n",
      "\n",
      "Iteration 93 \n",
      "Mutation Range 0.2 \n",
      "Time for Mutation Range [1.6673362000001362, 1.4751042000002599, 1.1972365000001446, 1.541595800000323, 2.1984158000000207, 2.0755991999999424, 2.2150556000001416, 1.8879456999998183, 1.4102065000001858, 2.226209899999958, 2.264797499999986, 2.0223426999996263, 1.861537600000247, 2.088495399999829, 1.3225022999999965, 1.4672256999997444, 1.5028708999998344, 1.5155789000000368, 1.6120621999998548, 1.457917599999746, 1.187955200000033, 1.5603328000001966, 1.9988941000001432, 2.2196530000001076, 1.8877972999998747, 1.9847974000003887, 1.5840123000002677, 1.8271061000000373, 1.4642668999999842, 1.556627699999808, 1.4708200000000033, 1.3690013999998882, 1.3725769999996373, 1.4897216999997909, 1.3134887999999592, 1.3425818999999137, 2.0111573000003773, 2.490104500000143, 1.828659400000106, 1.4223799999999756, 1.3154874000001655, 1.345135499999742, 1.3370739000001777, 1.2319946999996318, 1.8936712999998235, 2.1643677999995816, 2.2425029999999424, 2.042303699999593, 1.388651000000209, 1.4362639000000854, 1.2217682000000423, 2.005797299999813, 1.9782278999996379, 1.8972678000000087, 1.9842830000002323, 1.9305766000002222, 1.5767108000000007, 1.5382656000001589, 1.43563979999999, 1.3288527999998223, 1.3616781999999148, 1.3701217999996516, 1.4079403999999158, 1.196054699999877, 2.112058600000182, 2.032719399999678, 2.313851800000066, 2.1553869999997914, 1.5304706000001715, 1.3298141000000214, 1.3968949999998586, 2.420839899999919, 1.9295329999999922, 2.14287000000013, 2.57171180000023, 1.415006899999753, 1.3699854000001324, 1.225390999999945, 1.2386391999998523, 1.3486775000001217, 1.3100337999999283, 1.9888144000001375, 1.799157599999944, 1.9121399000000565, 1.7003171000001203, 1.6302769000003536, 1.4826273999997284, 1.4467967999999019, 1.534313000000111, 1.4339783999998872, 1.556125399999928, 1.6159954999998263, 1.4731321999997817, 2.0048313000002054]\n",
      "\n",
      "\n",
      "Iteration 94 \n",
      "Mutation Range 0.2 \n",
      "Time for Mutation Range [1.6673362000001362, 1.4751042000002599, 1.1972365000001446, 1.541595800000323, 2.1984158000000207, 2.0755991999999424, 2.2150556000001416, 1.8879456999998183, 1.4102065000001858, 2.226209899999958, 2.264797499999986, 2.0223426999996263, 1.861537600000247, 2.088495399999829, 1.3225022999999965, 1.4672256999997444, 1.5028708999998344, 1.5155789000000368, 1.6120621999998548, 1.457917599999746, 1.187955200000033, 1.5603328000001966, 1.9988941000001432, 2.2196530000001076, 1.8877972999998747, 1.9847974000003887, 1.5840123000002677, 1.8271061000000373, 1.4642668999999842, 1.556627699999808, 1.4708200000000033, 1.3690013999998882, 1.3725769999996373, 1.4897216999997909, 1.3134887999999592, 1.3425818999999137, 2.0111573000003773, 2.490104500000143, 1.828659400000106, 1.4223799999999756, 1.3154874000001655, 1.345135499999742, 1.3370739000001777, 1.2319946999996318, 1.8936712999998235, 2.1643677999995816, 2.2425029999999424, 2.042303699999593, 1.388651000000209, 1.4362639000000854, 1.2217682000000423, 2.005797299999813, 1.9782278999996379, 1.8972678000000087, 1.9842830000002323, 1.9305766000002222, 1.5767108000000007, 1.5382656000001589, 1.43563979999999, 1.3288527999998223, 1.3616781999999148, 1.3701217999996516, 1.4079403999999158, 1.196054699999877, 2.112058600000182, 2.032719399999678, 2.313851800000066, 2.1553869999997914, 1.5304706000001715, 1.3298141000000214, 1.3968949999998586, 2.420839899999919, 1.9295329999999922, 2.14287000000013, 2.57171180000023, 1.415006899999753, 1.3699854000001324, 1.225390999999945, 1.2386391999998523, 1.3486775000001217, 1.3100337999999283, 1.9888144000001375, 1.799157599999944, 1.9121399000000565, 1.7003171000001203, 1.6302769000003536, 1.4826273999997284, 1.4467967999999019, 1.534313000000111, 1.4339783999998872, 1.556125399999928, 1.6159954999998263, 1.4731321999997817, 2.0048313000002054, 2.5797528000002785]\n",
      "\n",
      "\n",
      "Iteration 95 \n",
      "Mutation Range 0.2 \n",
      "Time for Mutation Range [1.6673362000001362, 1.4751042000002599, 1.1972365000001446, 1.541595800000323, 2.1984158000000207, 2.0755991999999424, 2.2150556000001416, 1.8879456999998183, 1.4102065000001858, 2.226209899999958, 2.264797499999986, 2.0223426999996263, 1.861537600000247, 2.088495399999829, 1.3225022999999965, 1.4672256999997444, 1.5028708999998344, 1.5155789000000368, 1.6120621999998548, 1.457917599999746, 1.187955200000033, 1.5603328000001966, 1.9988941000001432, 2.2196530000001076, 1.8877972999998747, 1.9847974000003887, 1.5840123000002677, 1.8271061000000373, 1.4642668999999842, 1.556627699999808, 1.4708200000000033, 1.3690013999998882, 1.3725769999996373, 1.4897216999997909, 1.3134887999999592, 1.3425818999999137, 2.0111573000003773, 2.490104500000143, 1.828659400000106, 1.4223799999999756, 1.3154874000001655, 1.345135499999742, 1.3370739000001777, 1.2319946999996318, 1.8936712999998235, 2.1643677999995816, 2.2425029999999424, 2.042303699999593, 1.388651000000209, 1.4362639000000854, 1.2217682000000423, 2.005797299999813, 1.9782278999996379, 1.8972678000000087, 1.9842830000002323, 1.9305766000002222, 1.5767108000000007, 1.5382656000001589, 1.43563979999999, 1.3288527999998223, 1.3616781999999148, 1.3701217999996516, 1.4079403999999158, 1.196054699999877, 2.112058600000182, 2.032719399999678, 2.313851800000066, 2.1553869999997914, 1.5304706000001715, 1.3298141000000214, 1.3968949999998586, 2.420839899999919, 1.9295329999999922, 2.14287000000013, 2.57171180000023, 1.415006899999753, 1.3699854000001324, 1.225390999999945, 1.2386391999998523, 1.3486775000001217, 1.3100337999999283, 1.9888144000001375, 1.799157599999944, 1.9121399000000565, 1.7003171000001203, 1.6302769000003536, 1.4826273999997284, 1.4467967999999019, 1.534313000000111, 1.4339783999998872, 1.556125399999928, 1.6159954999998263, 1.4731321999997817, 2.0048313000002054, 2.5797528000002785, 2.2781457000000955]\n",
      "\n",
      "\n"
     ]
    },
    {
     "name": "stdout",
     "output_type": "stream",
     "text": [
      "Iteration 96 \n",
      "Mutation Range 0.2 \n",
      "Time for Mutation Range [1.6673362000001362, 1.4751042000002599, 1.1972365000001446, 1.541595800000323, 2.1984158000000207, 2.0755991999999424, 2.2150556000001416, 1.8879456999998183, 1.4102065000001858, 2.226209899999958, 2.264797499999986, 2.0223426999996263, 1.861537600000247, 2.088495399999829, 1.3225022999999965, 1.4672256999997444, 1.5028708999998344, 1.5155789000000368, 1.6120621999998548, 1.457917599999746, 1.187955200000033, 1.5603328000001966, 1.9988941000001432, 2.2196530000001076, 1.8877972999998747, 1.9847974000003887, 1.5840123000002677, 1.8271061000000373, 1.4642668999999842, 1.556627699999808, 1.4708200000000033, 1.3690013999998882, 1.3725769999996373, 1.4897216999997909, 1.3134887999999592, 1.3425818999999137, 2.0111573000003773, 2.490104500000143, 1.828659400000106, 1.4223799999999756, 1.3154874000001655, 1.345135499999742, 1.3370739000001777, 1.2319946999996318, 1.8936712999998235, 2.1643677999995816, 2.2425029999999424, 2.042303699999593, 1.388651000000209, 1.4362639000000854, 1.2217682000000423, 2.005797299999813, 1.9782278999996379, 1.8972678000000087, 1.9842830000002323, 1.9305766000002222, 1.5767108000000007, 1.5382656000001589, 1.43563979999999, 1.3288527999998223, 1.3616781999999148, 1.3701217999996516, 1.4079403999999158, 1.196054699999877, 2.112058600000182, 2.032719399999678, 2.313851800000066, 2.1553869999997914, 1.5304706000001715, 1.3298141000000214, 1.3968949999998586, 2.420839899999919, 1.9295329999999922, 2.14287000000013, 2.57171180000023, 1.415006899999753, 1.3699854000001324, 1.225390999999945, 1.2386391999998523, 1.3486775000001217, 1.3100337999999283, 1.9888144000001375, 1.799157599999944, 1.9121399000000565, 1.7003171000001203, 1.6302769000003536, 1.4826273999997284, 1.4467967999999019, 1.534313000000111, 1.4339783999998872, 1.556125399999928, 1.6159954999998263, 1.4731321999997817, 2.0048313000002054, 2.5797528000002785, 2.2781457000000955, 2.110087999999905]\n",
      "\n",
      "\n",
      "Iteration 97 \n",
      "Mutation Range 0.2 \n",
      "Time for Mutation Range [1.6673362000001362, 1.4751042000002599, 1.1972365000001446, 1.541595800000323, 2.1984158000000207, 2.0755991999999424, 2.2150556000001416, 1.8879456999998183, 1.4102065000001858, 2.226209899999958, 2.264797499999986, 2.0223426999996263, 1.861537600000247, 2.088495399999829, 1.3225022999999965, 1.4672256999997444, 1.5028708999998344, 1.5155789000000368, 1.6120621999998548, 1.457917599999746, 1.187955200000033, 1.5603328000001966, 1.9988941000001432, 2.2196530000001076, 1.8877972999998747, 1.9847974000003887, 1.5840123000002677, 1.8271061000000373, 1.4642668999999842, 1.556627699999808, 1.4708200000000033, 1.3690013999998882, 1.3725769999996373, 1.4897216999997909, 1.3134887999999592, 1.3425818999999137, 2.0111573000003773, 2.490104500000143, 1.828659400000106, 1.4223799999999756, 1.3154874000001655, 1.345135499999742, 1.3370739000001777, 1.2319946999996318, 1.8936712999998235, 2.1643677999995816, 2.2425029999999424, 2.042303699999593, 1.388651000000209, 1.4362639000000854, 1.2217682000000423, 2.005797299999813, 1.9782278999996379, 1.8972678000000087, 1.9842830000002323, 1.9305766000002222, 1.5767108000000007, 1.5382656000001589, 1.43563979999999, 1.3288527999998223, 1.3616781999999148, 1.3701217999996516, 1.4079403999999158, 1.196054699999877, 2.112058600000182, 2.032719399999678, 2.313851800000066, 2.1553869999997914, 1.5304706000001715, 1.3298141000000214, 1.3968949999998586, 2.420839899999919, 1.9295329999999922, 2.14287000000013, 2.57171180000023, 1.415006899999753, 1.3699854000001324, 1.225390999999945, 1.2386391999998523, 1.3486775000001217, 1.3100337999999283, 1.9888144000001375, 1.799157599999944, 1.9121399000000565, 1.7003171000001203, 1.6302769000003536, 1.4826273999997284, 1.4467967999999019, 1.534313000000111, 1.4339783999998872, 1.556125399999928, 1.6159954999998263, 1.4731321999997817, 2.0048313000002054, 2.5797528000002785, 2.2781457000000955, 2.110087999999905, 1.7769588000001022]\n",
      "\n",
      "\n",
      "Iteration 98 \n",
      "Mutation Range 0.2 \n",
      "Time for Mutation Range [1.6673362000001362, 1.4751042000002599, 1.1972365000001446, 1.541595800000323, 2.1984158000000207, 2.0755991999999424, 2.2150556000001416, 1.8879456999998183, 1.4102065000001858, 2.226209899999958, 2.264797499999986, 2.0223426999996263, 1.861537600000247, 2.088495399999829, 1.3225022999999965, 1.4672256999997444, 1.5028708999998344, 1.5155789000000368, 1.6120621999998548, 1.457917599999746, 1.187955200000033, 1.5603328000001966, 1.9988941000001432, 2.2196530000001076, 1.8877972999998747, 1.9847974000003887, 1.5840123000002677, 1.8271061000000373, 1.4642668999999842, 1.556627699999808, 1.4708200000000033, 1.3690013999998882, 1.3725769999996373, 1.4897216999997909, 1.3134887999999592, 1.3425818999999137, 2.0111573000003773, 2.490104500000143, 1.828659400000106, 1.4223799999999756, 1.3154874000001655, 1.345135499999742, 1.3370739000001777, 1.2319946999996318, 1.8936712999998235, 2.1643677999995816, 2.2425029999999424, 2.042303699999593, 1.388651000000209, 1.4362639000000854, 1.2217682000000423, 2.005797299999813, 1.9782278999996379, 1.8972678000000087, 1.9842830000002323, 1.9305766000002222, 1.5767108000000007, 1.5382656000001589, 1.43563979999999, 1.3288527999998223, 1.3616781999999148, 1.3701217999996516, 1.4079403999999158, 1.196054699999877, 2.112058600000182, 2.032719399999678, 2.313851800000066, 2.1553869999997914, 1.5304706000001715, 1.3298141000000214, 1.3968949999998586, 2.420839899999919, 1.9295329999999922, 2.14287000000013, 2.57171180000023, 1.415006899999753, 1.3699854000001324, 1.225390999999945, 1.2386391999998523, 1.3486775000001217, 1.3100337999999283, 1.9888144000001375, 1.799157599999944, 1.9121399000000565, 1.7003171000001203, 1.6302769000003536, 1.4826273999997284, 1.4467967999999019, 1.534313000000111, 1.4339783999998872, 1.556125399999928, 1.6159954999998263, 1.4731321999997817, 2.0048313000002054, 2.5797528000002785, 2.2781457000000955, 2.110087999999905, 1.7769588000001022, 1.7055076000001463]\n",
      "\n",
      "\n",
      "Iteration 99 \n",
      "Mutation Range 0.2 \n",
      "Time for Mutation Range [1.6673362000001362, 1.4751042000002599, 1.1972365000001446, 1.541595800000323, 2.1984158000000207, 2.0755991999999424, 2.2150556000001416, 1.8879456999998183, 1.4102065000001858, 2.226209899999958, 2.264797499999986, 2.0223426999996263, 1.861537600000247, 2.088495399999829, 1.3225022999999965, 1.4672256999997444, 1.5028708999998344, 1.5155789000000368, 1.6120621999998548, 1.457917599999746, 1.187955200000033, 1.5603328000001966, 1.9988941000001432, 2.2196530000001076, 1.8877972999998747, 1.9847974000003887, 1.5840123000002677, 1.8271061000000373, 1.4642668999999842, 1.556627699999808, 1.4708200000000033, 1.3690013999998882, 1.3725769999996373, 1.4897216999997909, 1.3134887999999592, 1.3425818999999137, 2.0111573000003773, 2.490104500000143, 1.828659400000106, 1.4223799999999756, 1.3154874000001655, 1.345135499999742, 1.3370739000001777, 1.2319946999996318, 1.8936712999998235, 2.1643677999995816, 2.2425029999999424, 2.042303699999593, 1.388651000000209, 1.4362639000000854, 1.2217682000000423, 2.005797299999813, 1.9782278999996379, 1.8972678000000087, 1.9842830000002323, 1.9305766000002222, 1.5767108000000007, 1.5382656000001589, 1.43563979999999, 1.3288527999998223, 1.3616781999999148, 1.3701217999996516, 1.4079403999999158, 1.196054699999877, 2.112058600000182, 2.032719399999678, 2.313851800000066, 2.1553869999997914, 1.5304706000001715, 1.3298141000000214, 1.3968949999998586, 2.420839899999919, 1.9295329999999922, 2.14287000000013, 2.57171180000023, 1.415006899999753, 1.3699854000001324, 1.225390999999945, 1.2386391999998523, 1.3486775000001217, 1.3100337999999283, 1.9888144000001375, 1.799157599999944, 1.9121399000000565, 1.7003171000001203, 1.6302769000003536, 1.4826273999997284, 1.4467967999999019, 1.534313000000111, 1.4339783999998872, 1.556125399999928, 1.6159954999998263, 1.4731321999997817, 2.0048313000002054, 2.5797528000002785, 2.2781457000000955, 2.110087999999905, 1.7769588000001022, 1.7055076000001463, 1.3083754999997836]\n",
      "\n",
      "\n",
      "Cost 0.07475388465193315 Chromosome [ 3.21440584 -1.21066442 -1.19868717 -1.27090737  3.23075885]\n"
     ]
    },
    {
     "data": {
      "image/png": "[encoded data removed]",
      "text/plain": [
       "<Figure size 432x288 with 1 Axes>"
      ]
     },
     "metadata": {
      "needs_background": "light"
     },
     "output_type": "display_data"
    }
   ],
   "source": [
    "test_mutation_range_alt()"
   ]
  },
  {
   "cell_type": "markdown",
   "metadata": {},
   "source": [
    "<h3>The cost cannot be reached when the number of runs are tested out whether it is 10 (Main number of runs to be tested out on all various tests here) or 100 because the mutation range is set up at 0.2 compared to 0.1 which has a bigger chance of determining the amount that the individual gene would change by. The time it takes the mutation range to play a role in the genetic algorithm is significant where the graph fluctuates between high and low during the 100 times that the genetic algorithm is ran. The higher mutation range along with the edited explore rate and the unchanged parameters at the start of the notebook in the parameters class causes the graph values to get much higher than the time taken to end the algorithm in the first test involving 10 runs as seen in the first graph which was explained earlier where the algorithm takes longer in a majority of the runs of the algorithm here to reach the best optimal solution that is defined when the target best solution and chromosome is revealed. Although the graph does not reach the solution quickly in more iterations than the first mutation rate test when the algorithm is ran 10 times where the cost is only reached in a short time period during a couple of runs of the algorithm in the test above compared to the test that is ran 10 times where the best solution was closely reached in a short time period twice in the test of 10 iterations of the time taken to complete the algorithm based on the updated parameters so far. It is ran here 100 times where the graph seems to show a normal fluctuating graph with regards to the time depending on the changes made to the parameters where the cost has a good enough chance of being reached when there is a higher mutation range. The general time to complete a run of the algorithm is longer for the most part than the previous tests before this one<h3>"
   ]
  },
  {
   "cell_type": "markdown",
   "metadata": {},
   "source": [
    "<h2>------------------------------------------------------------------------------------------<h2>"
   ]
  },
  {
   "cell_type": "markdown",
   "metadata": {},
   "source": [
    "<h1>Testing out mutation rate below multiple times with 0.3 value combined with explore rate of 0.5 and mutation range of 0.2 from earlier on as well as the remaining original parameter values.<h1>"
   ]
  },
  {
   "cell_type": "code",
   "execution_count": 93,
   "metadata": {},
   "outputs": [],
   "source": [
    "pars.mutation_rate = 0.3"
   ]
  },
  {
   "cell_type": "code",
   "execution_count": 67,
   "metadata": {},
   "outputs": [
    {
     "data": {
      "text/plain": [
       "18.183755900000506"
      ]
     },
     "execution_count": 67,
     "metadata": {},
     "output_type": "execute_result"
    }
   ],
   "source": [
    "test_genetic(100,prob,pars,0.1)"
   ]
  },
  {
   "cell_type": "markdown",
   "metadata": {},
   "source": [
    "<h3>The mutation rate has changed to 0.3 in this test as it is clear that the test for the genetic algorithm which runs 10 times combined with the changed explore rate and mutation range from earlier allows for the ime to take longer to complete the algorithm. The higher the mutation rate, the better chance there is of reaching the perfect solution when the chances of mutation within an individual gene are higher.<h3>"
   ]
  },
  {
   "cell_type": "code",
   "execution_count": 68,
   "metadata": {},
   "outputs": [
    {
     "data": {
      "text/plain": [
       "1.6014893000001393"
      ]
     },
     "execution_count": 68,
     "metadata": {},
     "output_type": "execute_result"
    }
   ],
   "source": [
    "test_genetic(10,prob,pars,0.1)"
   ]
  },
  {
   "cell_type": "markdown",
   "metadata": {},
   "source": [
    "<h3>The time for the number of runs taken when the genetic algorithm occurs is shorteer than the previous tests as the mutation rate is bigger than the original mutation rate value of 0.1. This is because the mutation rate here in this test has a higher probability that the individual gene will be mutated. This enables the test to be completed in a shorter time period.<h3>"
   ]
  },
  {
   "cell_type": "code",
   "execution_count": 72,
   "metadata": {},
   "outputs": [],
   "source": [
    "def test_mutation_rate():\n",
    "    times_for_mutation_rate = []\n",
    "    for i in range(10):\n",
    "        #pars.mutation_rate = float(i) / 5.0\n",
    "        times_for_mutation_rate.append(test_genetic(10,prob,pars,0.1)) \n",
    "        print(\"Iteration {} \\nMutation Rate {} \\nTime for Mutation Rate {}\\n\".format(i,pars.mutation_rate,times_for_mutation_rate))\n",
    "        print()\n",
    "    plt.xlabel(\"Iterations\")\n",
    "    plt.ylabel(\"Times for Mutation Rate\")\n",
    "    plt.title(\"Genetic Algorithm\")\n",
    "    plt.plot(times_for_mutation_rate)\n",
    "    print(\"Cost {} Chromosome {}\".format(best_solution.cost,best_solution.chromosome))"
   ]
  },
  {
   "cell_type": "code",
   "execution_count": 76,
   "metadata": {},
   "outputs": [
    {
     "data": {
      "text/plain": [
       "'Iterations/Generations 100 Population 50 Children No 50 Child Rate 1 Explore Rate 0.5 Mutation Rate 0.3 Mutation Range 0.2'"
      ]
     },
     "execution_count": 76,
     "metadata": {},
     "output_type": "execute_result"
    }
   ],
   "source": [
    "pars.to_string()"
   ]
  },
  {
   "cell_type": "code",
   "execution_count": 77,
   "metadata": {},
   "outputs": [
    {
     "name": "stdout",
     "output_type": "stream",
     "text": [
      "Iteration 0 \n",
      "Mutation Rate 0.3 \n",
      "Time for Mutation Rate [2.0157930000004853]\n",
      "\n",
      "\n",
      "Iteration 1 \n",
      "Mutation Rate 0.3 \n",
      "Time for Mutation Rate [2.0157930000004853, 2.0044745000004696]\n",
      "\n",
      "\n",
      "Iteration 2 \n",
      "Mutation Rate 0.3 \n",
      "Time for Mutation Rate [2.0157930000004853, 2.0044745000004696, 1.8413860999999088]\n",
      "\n",
      "\n",
      "Iteration 3 \n",
      "Mutation Rate 0.3 \n",
      "Time for Mutation Rate [2.0157930000004853, 2.0044745000004696, 1.8413860999999088, 1.6800278000000617]\n",
      "\n",
      "\n",
      "Iteration 4 \n",
      "Mutation Rate 0.3 \n",
      "Time for Mutation Rate [2.0157930000004853, 2.0044745000004696, 1.8413860999999088, 1.6800278000000617, 1.5486252000000604]\n",
      "\n",
      "\n",
      "Iteration 5 \n",
      "Mutation Rate 0.3 \n",
      "Time for Mutation Rate [2.0157930000004853, 2.0044745000004696, 1.8413860999999088, 1.6800278000000617, 1.5486252000000604, 1.452170099999421]\n",
      "\n",
      "\n",
      "Iteration 6 \n",
      "Mutation Rate 0.3 \n",
      "Time for Mutation Rate [2.0157930000004853, 2.0044745000004696, 1.8413860999999088, 1.6800278000000617, 1.5486252000000604, 1.452170099999421, 1.7263191000001825]\n",
      "\n",
      "\n",
      "Iteration 7 \n",
      "Mutation Rate 0.3 \n",
      "Time for Mutation Rate [2.0157930000004853, 2.0044745000004696, 1.8413860999999088, 1.6800278000000617, 1.5486252000000604, 1.452170099999421, 1.7263191000001825, 2.132275399999344]\n",
      "\n",
      "\n",
      "Iteration 8 \n",
      "Mutation Rate 0.3 \n",
      "Time for Mutation Rate [2.0157930000004853, 2.0044745000004696, 1.8413860999999088, 1.6800278000000617, 1.5486252000000604, 1.452170099999421, 1.7263191000001825, 2.132275399999344, 2.2176822999999786]\n",
      "\n",
      "\n",
      "Iteration 9 \n",
      "Mutation Rate 0.3 \n",
      "Time for Mutation Rate [2.0157930000004853, 2.0044745000004696, 1.8413860999999088, 1.6800278000000617, 1.5486252000000604, 1.452170099999421, 1.7263191000001825, 2.132275399999344, 2.2176822999999786, 2.0944578999997248]\n",
      "\n",
      "\n",
      "Cost 0.07475388465193315 Chromosome [ 3.21440584 -1.21066442 -1.19868717 -1.27090737  3.23075885]\n"
     ]
    },
    {
     "data": {
      "image/png": "[encoded data removed]",
      "text/plain": [
       "<Figure size 432x288 with 1 Axes>"
      ]
     },
     "metadata": {
      "needs_background": "light"
     },
     "output_type": "display_data"
    }
   ],
   "source": [
    "test_mutation_rate()"
   ]
  },
  {
   "cell_type": "markdown",
   "metadata": {},
   "source": [
    "<h3>The graph begins with a stagnant movement where the same time is reached for the best solution cost to be reached which increases and decreases naturally where the best time to reach the cost occurs just after the halfway mark of testing out the algorithm 10 times involving the updated mutation rate set at 0.3 alongside the updated explore rate and mutation range values. It shows that when a higher mutation rate is put in for testing out the genetic algorithm, this boosts the chance of more mutation occurring which would enable the exploration of other sections of the solution space. However, this can also cause the algorithm to not converge as suitable solutions would simply be lost where a higher diverse range of genetic variety is recommended to reach the best possible solution.<h3>"
   ]
  },
  {
   "cell_type": "code",
   "execution_count": 81,
   "metadata": {},
   "outputs": [],
   "source": [
    "def test_mutation_rate_alt():\n",
    "    times_for_mutation_rate = []\n",
    "    for i in range(100):\n",
    "        #pars.mutation_rate = float(i) / 5.0\n",
    "        times_for_mutation_rate.append(test_genetic(10,prob,pars,0.1))  \n",
    "        print(\"Iteration {} \\nMutation Rate {} \\nTime for Mutation Rate {}\\n\".format(i,pars.mutation_rate,times_for_mutation_rate))\n",
    "        print()\n",
    "    plt.xlabel(\"Iterations\")\n",
    "    plt.ylabel(\"Times for Mutation Rate\")\n",
    "    plt.title(\"Genetic Algorithm\")\n",
    "    plt.plot(times_for_mutation_rate)\n",
    "    print(\"Cost {} Chromosome {}\".format(best_solution.cost,best_solution.chromosome))"
   ]
  },
  {
   "cell_type": "code",
   "execution_count": 82,
   "metadata": {},
   "outputs": [
    {
     "name": "stdout",
     "output_type": "stream",
     "text": [
      "Iteration 0 \n",
      "Mutation Rate 0.3 \n",
      "Time for Mutation Rate [1.7145282000001316]\n",
      "\n",
      "\n",
      "Iteration 1 \n",
      "Mutation Rate 0.3 \n",
      "Time for Mutation Rate [1.7145282000001316, 1.2791391999999178]\n",
      "\n",
      "\n",
      "Iteration 2 \n",
      "Mutation Rate 0.3 \n",
      "Time for Mutation Rate [1.7145282000001316, 1.2791391999999178, 1.8587009000002581]\n",
      "\n",
      "\n",
      "Iteration 3 \n",
      "Mutation Rate 0.3 \n",
      "Time for Mutation Rate [1.7145282000001316, 1.2791391999999178, 1.8587009000002581, 2.1779969999997775]\n",
      "\n",
      "\n",
      "Iteration 4 \n",
      "Mutation Rate 0.3 \n",
      "Time for Mutation Rate [1.7145282000001316, 1.2791391999999178, 1.8587009000002581, 2.1779969999997775, 2.561724299999696]\n",
      "\n",
      "\n",
      "Iteration 5 \n",
      "Mutation Rate 0.3 \n",
      "Time for Mutation Rate [1.7145282000001316, 1.2791391999999178, 1.8587009000002581, 2.1779969999997775, 2.561724299999696, 2.419383399999788]\n",
      "\n",
      "\n",
      "Iteration 6 \n",
      "Mutation Rate 0.3 \n",
      "Time for Mutation Rate [1.7145282000001316, 1.2791391999999178, 1.8587009000002581, 2.1779969999997775, 2.561724299999696, 2.419383399999788, 1.837584799999604]\n",
      "\n",
      "\n",
      "Iteration 7 \n",
      "Mutation Rate 0.3 \n",
      "Time for Mutation Rate [1.7145282000001316, 1.2791391999999178, 1.8587009000002581, 2.1779969999997775, 2.561724299999696, 2.419383399999788, 1.837584799999604, 1.5159450000001016]\n",
      "\n",
      "\n",
      "Iteration 8 \n",
      "Mutation Rate 0.3 \n",
      "Time for Mutation Rate [1.7145282000001316, 1.2791391999999178, 1.8587009000002581, 2.1779969999997775, 2.561724299999696, 2.419383399999788, 1.837584799999604, 1.5159450000001016, 2.128504499999508]\n",
      "\n",
      "\n",
      "Iteration 9 \n",
      "Mutation Rate 0.3 \n",
      "Time for Mutation Rate [1.7145282000001316, 1.2791391999999178, 1.8587009000002581, 2.1779969999997775, 2.561724299999696, 2.419383399999788, 1.837584799999604, 1.5159450000001016, 2.128504499999508, 1.8282649000002493]\n",
      "\n",
      "\n",
      "Iteration 10 \n",
      "Mutation Rate 0.3 \n",
      "Time for Mutation Rate [1.7145282000001316, 1.2791391999999178, 1.8587009000002581, 2.1779969999997775, 2.561724299999696, 2.419383399999788, 1.837584799999604, 1.5159450000001016, 2.128504499999508, 1.8282649000002493, 1.4731150999996316]\n",
      "\n",
      "\n",
      "Iteration 11 \n",
      "Mutation Rate 0.3 \n",
      "Time for Mutation Rate [1.7145282000001316, 1.2791391999999178, 1.8587009000002581, 2.1779969999997775, 2.561724299999696, 2.419383399999788, 1.837584799999604, 1.5159450000001016, 2.128504499999508, 1.8282649000002493, 1.4731150999996316, 1.2598238000000492]\n",
      "\n",
      "\n",
      "Iteration 12 \n",
      "Mutation Rate 0.3 \n",
      "Time for Mutation Rate [1.7145282000001316, 1.2791391999999178, 1.8587009000002581, 2.1779969999997775, 2.561724299999696, 2.419383399999788, 1.837584799999604, 1.5159450000001016, 2.128504499999508, 1.8282649000002493, 1.4731150999996316, 1.2598238000000492, 1.541152200000397]\n",
      "\n",
      "\n",
      "Iteration 13 \n",
      "Mutation Rate 0.3 \n",
      "Time for Mutation Rate [1.7145282000001316, 1.2791391999999178, 1.8587009000002581, 2.1779969999997775, 2.561724299999696, 2.419383399999788, 1.837584799999604, 1.5159450000001016, 2.128504499999508, 1.8282649000002493, 1.4731150999996316, 1.2598238000000492, 1.541152200000397, 1.296498700000484]\n",
      "\n",
      "\n",
      "Iteration 14 \n",
      "Mutation Rate 0.3 \n",
      "Time for Mutation Rate [1.7145282000001316, 1.2791391999999178, 1.8587009000002581, 2.1779969999997775, 2.561724299999696, 2.419383399999788, 1.837584799999604, 1.5159450000001016, 2.128504499999508, 1.8282649000002493, 1.4731150999996316, 1.2598238000000492, 1.541152200000397, 1.296498700000484, 2.1003067999999985]\n",
      "\n",
      "\n",
      "Iteration 15 \n",
      "Mutation Rate 0.3 \n",
      "Time for Mutation Rate [1.7145282000001316, 1.2791391999999178, 1.8587009000002581, 2.1779969999997775, 2.561724299999696, 2.419383399999788, 1.837584799999604, 1.5159450000001016, 2.128504499999508, 1.8282649000002493, 1.4731150999996316, 1.2598238000000492, 1.541152200000397, 1.296498700000484, 2.1003067999999985, 2.524274900000819]\n",
      "\n",
      "\n",
      "Iteration 16 \n",
      "Mutation Rate 0.3 \n",
      "Time for Mutation Rate [1.7145282000001316, 1.2791391999999178, 1.8587009000002581, 2.1779969999997775, 2.561724299999696, 2.419383399999788, 1.837584799999604, 1.5159450000001016, 2.128504499999508, 1.8282649000002493, 1.4731150999996316, 1.2598238000000492, 1.541152200000397, 1.296498700000484, 2.1003067999999985, 2.524274900000819, 2.353934300000219]\n",
      "\n",
      "\n",
      "Iteration 17 \n",
      "Mutation Rate 0.3 \n",
      "Time for Mutation Rate [1.7145282000001316, 1.2791391999999178, 1.8587009000002581, 2.1779969999997775, 2.561724299999696, 2.419383399999788, 1.837584799999604, 1.5159450000001016, 2.128504499999508, 1.8282649000002493, 1.4731150999996316, 1.2598238000000492, 1.541152200000397, 1.296498700000484, 2.1003067999999985, 2.524274900000819, 2.353934300000219, 2.4767289000001256]\n",
      "\n",
      "\n",
      "Iteration 18 \n",
      "Mutation Rate 0.3 \n",
      "Time for Mutation Rate [1.7145282000001316, 1.2791391999999178, 1.8587009000002581, 2.1779969999997775, 2.561724299999696, 2.419383399999788, 1.837584799999604, 1.5159450000001016, 2.128504499999508, 1.8282649000002493, 1.4731150999996316, 1.2598238000000492, 1.541152200000397, 1.296498700000484, 2.1003067999999985, 2.524274900000819, 2.353934300000219, 2.4767289000001256, 1.3769331000003149]\n",
      "\n",
      "\n",
      "Iteration 19 \n",
      "Mutation Rate 0.3 \n",
      "Time for Mutation Rate [1.7145282000001316, 1.2791391999999178, 1.8587009000002581, 2.1779969999997775, 2.561724299999696, 2.419383399999788, 1.837584799999604, 1.5159450000001016, 2.128504499999508, 1.8282649000002493, 1.4731150999996316, 1.2598238000000492, 1.541152200000397, 1.296498700000484, 2.1003067999999985, 2.524274900000819, 2.353934300000219, 2.4767289000001256, 1.3769331000003149, 1.3089595000001282]\n",
      "\n",
      "\n",
      "Iteration 20 \n",
      "Mutation Rate 0.3 \n",
      "Time for Mutation Rate [1.7145282000001316, 1.2791391999999178, 1.8587009000002581, 2.1779969999997775, 2.561724299999696, 2.419383399999788, 1.837584799999604, 1.5159450000001016, 2.128504499999508, 1.8282649000002493, 1.4731150999996316, 1.2598238000000492, 1.541152200000397, 1.296498700000484, 2.1003067999999985, 2.524274900000819, 2.353934300000219, 2.4767289000001256, 1.3769331000003149, 1.3089595000001282, 1.2522791999999754]\n",
      "\n",
      "\n",
      "Iteration 21 \n",
      "Mutation Rate 0.3 \n",
      "Time for Mutation Rate [1.7145282000001316, 1.2791391999999178, 1.8587009000002581, 2.1779969999997775, 2.561724299999696, 2.419383399999788, 1.837584799999604, 1.5159450000001016, 2.128504499999508, 1.8282649000002493, 1.4731150999996316, 1.2598238000000492, 1.541152200000397, 1.296498700000484, 2.1003067999999985, 2.524274900000819, 2.353934300000219, 2.4767289000001256, 1.3769331000003149, 1.3089595000001282, 1.2522791999999754, 1.9855285000003278]\n",
      "\n",
      "\n",
      "Iteration 22 \n",
      "Mutation Rate 0.3 \n",
      "Time for Mutation Rate [1.7145282000001316, 1.2791391999999178, 1.8587009000002581, 2.1779969999997775, 2.561724299999696, 2.419383399999788, 1.837584799999604, 1.5159450000001016, 2.128504499999508, 1.8282649000002493, 1.4731150999996316, 1.2598238000000492, 1.541152200000397, 1.296498700000484, 2.1003067999999985, 2.524274900000819, 2.353934300000219, 2.4767289000001256, 1.3769331000003149, 1.3089595000001282, 1.2522791999999754, 1.9855285000003278, 1.7475039000000834]\n",
      "\n",
      "\n",
      "Iteration 23 \n",
      "Mutation Rate 0.3 \n",
      "Time for Mutation Rate [1.7145282000001316, 1.2791391999999178, 1.8587009000002581, 2.1779969999997775, 2.561724299999696, 2.419383399999788, 1.837584799999604, 1.5159450000001016, 2.128504499999508, 1.8282649000002493, 1.4731150999996316, 1.2598238000000492, 1.541152200000397, 1.296498700000484, 2.1003067999999985, 2.524274900000819, 2.353934300000219, 2.4767289000001256, 1.3769331000003149, 1.3089595000001282, 1.2522791999999754, 1.9855285000003278, 1.7475039000000834, 1.378364899999724]\n",
      "\n",
      "\n",
      "Iteration 24 \n",
      "Mutation Rate 0.3 \n",
      "Time for Mutation Rate [1.7145282000001316, 1.2791391999999178, 1.8587009000002581, 2.1779969999997775, 2.561724299999696, 2.419383399999788, 1.837584799999604, 1.5159450000001016, 2.128504499999508, 1.8282649000002493, 1.4731150999996316, 1.2598238000000492, 1.541152200000397, 1.296498700000484, 2.1003067999999985, 2.524274900000819, 2.353934300000219, 2.4767289000001256, 1.3769331000003149, 1.3089595000001282, 1.2522791999999754, 1.9855285000003278, 1.7475039000000834, 1.378364899999724, 1.3950721000001067]\n",
      "\n",
      "\n",
      "Iteration 25 \n",
      "Mutation Rate 0.3 \n",
      "Time for Mutation Rate [1.7145282000001316, 1.2791391999999178, 1.8587009000002581, 2.1779969999997775, 2.561724299999696, 2.419383399999788, 1.837584799999604, 1.5159450000001016, 2.128504499999508, 1.8282649000002493, 1.4731150999996316, 1.2598238000000492, 1.541152200000397, 1.296498700000484, 2.1003067999999985, 2.524274900000819, 2.353934300000219, 2.4767289000001256, 1.3769331000003149, 1.3089595000001282, 1.2522791999999754, 1.9855285000003278, 1.7475039000000834, 1.378364899999724, 1.3950721000001067, 1.314481600000363]\n",
      "\n",
      "\n"
     ]
    },
    {
     "name": "stdout",
     "output_type": "stream",
     "text": [
      "Iteration 26 \n",
      "Mutation Rate 0.3 \n",
      "Time for Mutation Rate [1.7145282000001316, 1.2791391999999178, 1.8587009000002581, 2.1779969999997775, 2.561724299999696, 2.419383399999788, 1.837584799999604, 1.5159450000001016, 2.128504499999508, 1.8282649000002493, 1.4731150999996316, 1.2598238000000492, 1.541152200000397, 1.296498700000484, 2.1003067999999985, 2.524274900000819, 2.353934300000219, 2.4767289000001256, 1.3769331000003149, 1.3089595000001282, 1.2522791999999754, 1.9855285000003278, 1.7475039000000834, 1.378364899999724, 1.3950721000001067, 1.314481600000363, 1.6271650999997291]\n",
      "\n",
      "\n",
      "Iteration 27 \n",
      "Mutation Rate 0.3 \n",
      "Time for Mutation Rate [1.7145282000001316, 1.2791391999999178, 1.8587009000002581, 2.1779969999997775, 2.561724299999696, 2.419383399999788, 1.837584799999604, 1.5159450000001016, 2.128504499999508, 1.8282649000002493, 1.4731150999996316, 1.2598238000000492, 1.541152200000397, 1.296498700000484, 2.1003067999999985, 2.524274900000819, 2.353934300000219, 2.4767289000001256, 1.3769331000003149, 1.3089595000001282, 1.2522791999999754, 1.9855285000003278, 1.7475039000000834, 1.378364899999724, 1.3950721000001067, 1.314481600000363, 1.6271650999997291, 2.5025087999993048]\n",
      "\n",
      "\n",
      "Iteration 28 \n",
      "Mutation Rate 0.3 \n",
      "Time for Mutation Rate [1.7145282000001316, 1.2791391999999178, 1.8587009000002581, 2.1779969999997775, 2.561724299999696, 2.419383399999788, 1.837584799999604, 1.5159450000001016, 2.128504499999508, 1.8282649000002493, 1.4731150999996316, 1.2598238000000492, 1.541152200000397, 1.296498700000484, 2.1003067999999985, 2.524274900000819, 2.353934300000219, 2.4767289000001256, 1.3769331000003149, 1.3089595000001282, 1.2522791999999754, 1.9855285000003278, 1.7475039000000834, 1.378364899999724, 1.3950721000001067, 1.314481600000363, 1.6271650999997291, 2.5025087999993048, 1.440078600000561]\n",
      "\n",
      "\n",
      "Iteration 29 \n",
      "Mutation Rate 0.3 \n",
      "Time for Mutation Rate [1.7145282000001316, 1.2791391999999178, 1.8587009000002581, 2.1779969999997775, 2.561724299999696, 2.419383399999788, 1.837584799999604, 1.5159450000001016, 2.128504499999508, 1.8282649000002493, 1.4731150999996316, 1.2598238000000492, 1.541152200000397, 1.296498700000484, 2.1003067999999985, 2.524274900000819, 2.353934300000219, 2.4767289000001256, 1.3769331000003149, 1.3089595000001282, 1.2522791999999754, 1.9855285000003278, 1.7475039000000834, 1.378364899999724, 1.3950721000001067, 1.314481600000363, 1.6271650999997291, 2.5025087999993048, 1.440078600000561, 1.7659622000001036]\n",
      "\n",
      "\n",
      "Iteration 30 \n",
      "Mutation Rate 0.3 \n",
      "Time for Mutation Rate [1.7145282000001316, 1.2791391999999178, 1.8587009000002581, 2.1779969999997775, 2.561724299999696, 2.419383399999788, 1.837584799999604, 1.5159450000001016, 2.128504499999508, 1.8282649000002493, 1.4731150999996316, 1.2598238000000492, 1.541152200000397, 1.296498700000484, 2.1003067999999985, 2.524274900000819, 2.353934300000219, 2.4767289000001256, 1.3769331000003149, 1.3089595000001282, 1.2522791999999754, 1.9855285000003278, 1.7475039000000834, 1.378364899999724, 1.3950721000001067, 1.314481600000363, 1.6271650999997291, 2.5025087999993048, 1.440078600000561, 1.7659622000001036, 1.6928470000002562]\n",
      "\n",
      "\n",
      "Iteration 31 \n",
      "Mutation Rate 0.3 \n",
      "Time for Mutation Rate [1.7145282000001316, 1.2791391999999178, 1.8587009000002581, 2.1779969999997775, 2.561724299999696, 2.419383399999788, 1.837584799999604, 1.5159450000001016, 2.128504499999508, 1.8282649000002493, 1.4731150999996316, 1.2598238000000492, 1.541152200000397, 1.296498700000484, 2.1003067999999985, 2.524274900000819, 2.353934300000219, 2.4767289000001256, 1.3769331000003149, 1.3089595000001282, 1.2522791999999754, 1.9855285000003278, 1.7475039000000834, 1.378364899999724, 1.3950721000001067, 1.314481600000363, 1.6271650999997291, 2.5025087999993048, 1.440078600000561, 1.7659622000001036, 1.6928470000002562, 1.8526808000005985]\n",
      "\n",
      "\n",
      "Iteration 32 \n",
      "Mutation Rate 0.3 \n",
      "Time for Mutation Rate [1.7145282000001316, 1.2791391999999178, 1.8587009000002581, 2.1779969999997775, 2.561724299999696, 2.419383399999788, 1.837584799999604, 1.5159450000001016, 2.128504499999508, 1.8282649000002493, 1.4731150999996316, 1.2598238000000492, 1.541152200000397, 1.296498700000484, 2.1003067999999985, 2.524274900000819, 2.353934300000219, 2.4767289000001256, 1.3769331000003149, 1.3089595000001282, 1.2522791999999754, 1.9855285000003278, 1.7475039000000834, 1.378364899999724, 1.3950721000001067, 1.314481600000363, 1.6271650999997291, 2.5025087999993048, 1.440078600000561, 1.7659622000001036, 1.6928470000002562, 1.8526808000005985, 1.5403943999999683]\n",
      "\n",
      "\n",
      "Iteration 33 \n",
      "Mutation Rate 0.3 \n",
      "Time for Mutation Rate [1.7145282000001316, 1.2791391999999178, 1.8587009000002581, 2.1779969999997775, 2.561724299999696, 2.419383399999788, 1.837584799999604, 1.5159450000001016, 2.128504499999508, 1.8282649000002493, 1.4731150999996316, 1.2598238000000492, 1.541152200000397, 1.296498700000484, 2.1003067999999985, 2.524274900000819, 2.353934300000219, 2.4767289000001256, 1.3769331000003149, 1.3089595000001282, 1.2522791999999754, 1.9855285000003278, 1.7475039000000834, 1.378364899999724, 1.3950721000001067, 1.314481600000363, 1.6271650999997291, 2.5025087999993048, 1.440078600000561, 1.7659622000001036, 1.6928470000002562, 1.8526808000005985, 1.5403943999999683, 1.699134999999842]\n",
      "\n",
      "\n",
      "Iteration 34 \n",
      "Mutation Rate 0.3 \n",
      "Time for Mutation Rate [1.7145282000001316, 1.2791391999999178, 1.8587009000002581, 2.1779969999997775, 2.561724299999696, 2.419383399999788, 1.837584799999604, 1.5159450000001016, 2.128504499999508, 1.8282649000002493, 1.4731150999996316, 1.2598238000000492, 1.541152200000397, 1.296498700000484, 2.1003067999999985, 2.524274900000819, 2.353934300000219, 2.4767289000001256, 1.3769331000003149, 1.3089595000001282, 1.2522791999999754, 1.9855285000003278, 1.7475039000000834, 1.378364899999724, 1.3950721000001067, 1.314481600000363, 1.6271650999997291, 2.5025087999993048, 1.440078600000561, 1.7659622000001036, 1.6928470000002562, 1.8526808000005985, 1.5403943999999683, 1.699134999999842, 1.398573899999974]\n",
      "\n",
      "\n",
      "Iteration 35 \n",
      "Mutation Rate 0.3 \n",
      "Time for Mutation Rate [1.7145282000001316, 1.2791391999999178, 1.8587009000002581, 2.1779969999997775, 2.561724299999696, 2.419383399999788, 1.837584799999604, 1.5159450000001016, 2.128504499999508, 1.8282649000002493, 1.4731150999996316, 1.2598238000000492, 1.541152200000397, 1.296498700000484, 2.1003067999999985, 2.524274900000819, 2.353934300000219, 2.4767289000001256, 1.3769331000003149, 1.3089595000001282, 1.2522791999999754, 1.9855285000003278, 1.7475039000000834, 1.378364899999724, 1.3950721000001067, 1.314481600000363, 1.6271650999997291, 2.5025087999993048, 1.440078600000561, 1.7659622000001036, 1.6928470000002562, 1.8526808000005985, 1.5403943999999683, 1.699134999999842, 1.398573899999974, 1.9581946999996944]\n",
      "\n",
      "\n",
      "Iteration 36 \n",
      "Mutation Rate 0.3 \n",
      "Time for Mutation Rate [1.7145282000001316, 1.2791391999999178, 1.8587009000002581, 2.1779969999997775, 2.561724299999696, 2.419383399999788, 1.837584799999604, 1.5159450000001016, 2.128504499999508, 1.8282649000002493, 1.4731150999996316, 1.2598238000000492, 1.541152200000397, 1.296498700000484, 2.1003067999999985, 2.524274900000819, 2.353934300000219, 2.4767289000001256, 1.3769331000003149, 1.3089595000001282, 1.2522791999999754, 1.9855285000003278, 1.7475039000000834, 1.378364899999724, 1.3950721000001067, 1.314481600000363, 1.6271650999997291, 2.5025087999993048, 1.440078600000561, 1.7659622000001036, 1.6928470000002562, 1.8526808000005985, 1.5403943999999683, 1.699134999999842, 1.398573899999974, 1.9581946999996944, 2.9987836000000243]\n",
      "\n",
      "\n",
      "Iteration 37 \n",
      "Mutation Rate 0.3 \n",
      "Time for Mutation Rate [1.7145282000001316, 1.2791391999999178, 1.8587009000002581, 2.1779969999997775, 2.561724299999696, 2.419383399999788, 1.837584799999604, 1.5159450000001016, 2.128504499999508, 1.8282649000002493, 1.4731150999996316, 1.2598238000000492, 1.541152200000397, 1.296498700000484, 2.1003067999999985, 2.524274900000819, 2.353934300000219, 2.4767289000001256, 1.3769331000003149, 1.3089595000001282, 1.2522791999999754, 1.9855285000003278, 1.7475039000000834, 1.378364899999724, 1.3950721000001067, 1.314481600000363, 1.6271650999997291, 2.5025087999993048, 1.440078600000561, 1.7659622000001036, 1.6928470000002562, 1.8526808000005985, 1.5403943999999683, 1.699134999999842, 1.398573899999974, 1.9581946999996944, 2.9987836000000243, 2.1363227000001643]\n",
      "\n",
      "\n"
     ]
    },
    {
     "name": "stdout",
     "output_type": "stream",
     "text": [
      "Iteration 38 \n",
      "Mutation Rate 0.3 \n",
      "Time for Mutation Rate [1.7145282000001316, 1.2791391999999178, 1.8587009000002581, 2.1779969999997775, 2.561724299999696, 2.419383399999788, 1.837584799999604, 1.5159450000001016, 2.128504499999508, 1.8282649000002493, 1.4731150999996316, 1.2598238000000492, 1.541152200000397, 1.296498700000484, 2.1003067999999985, 2.524274900000819, 2.353934300000219, 2.4767289000001256, 1.3769331000003149, 1.3089595000001282, 1.2522791999999754, 1.9855285000003278, 1.7475039000000834, 1.378364899999724, 1.3950721000001067, 1.314481600000363, 1.6271650999997291, 2.5025087999993048, 1.440078600000561, 1.7659622000001036, 1.6928470000002562, 1.8526808000005985, 1.5403943999999683, 1.699134999999842, 1.398573899999974, 1.9581946999996944, 2.9987836000000243, 2.1363227000001643, 1.740108799999689]\n",
      "\n",
      "\n",
      "Iteration 39 \n",
      "Mutation Rate 0.3 \n",
      "Time for Mutation Rate [1.7145282000001316, 1.2791391999999178, 1.8587009000002581, 2.1779969999997775, 2.561724299999696, 2.419383399999788, 1.837584799999604, 1.5159450000001016, 2.128504499999508, 1.8282649000002493, 1.4731150999996316, 1.2598238000000492, 1.541152200000397, 1.296498700000484, 2.1003067999999985, 2.524274900000819, 2.353934300000219, 2.4767289000001256, 1.3769331000003149, 1.3089595000001282, 1.2522791999999754, 1.9855285000003278, 1.7475039000000834, 1.378364899999724, 1.3950721000001067, 1.314481600000363, 1.6271650999997291, 2.5025087999993048, 1.440078600000561, 1.7659622000001036, 1.6928470000002562, 1.8526808000005985, 1.5403943999999683, 1.699134999999842, 1.398573899999974, 1.9581946999996944, 2.9987836000000243, 2.1363227000001643, 1.740108799999689, 1.3842364000001908]\n",
      "\n",
      "\n",
      "Iteration 40 \n",
      "Mutation Rate 0.3 \n",
      "Time for Mutation Rate [1.7145282000001316, 1.2791391999999178, 1.8587009000002581, 2.1779969999997775, 2.561724299999696, 2.419383399999788, 1.837584799999604, 1.5159450000001016, 2.128504499999508, 1.8282649000002493, 1.4731150999996316, 1.2598238000000492, 1.541152200000397, 1.296498700000484, 2.1003067999999985, 2.524274900000819, 2.353934300000219, 2.4767289000001256, 1.3769331000003149, 1.3089595000001282, 1.2522791999999754, 1.9855285000003278, 1.7475039000000834, 1.378364899999724, 1.3950721000001067, 1.314481600000363, 1.6271650999997291, 2.5025087999993048, 1.440078600000561, 1.7659622000001036, 1.6928470000002562, 1.8526808000005985, 1.5403943999999683, 1.699134999999842, 1.398573899999974, 1.9581946999996944, 2.9987836000000243, 2.1363227000001643, 1.740108799999689, 1.3842364000001908, 1.3646749999998065]\n",
      "\n",
      "\n",
      "Iteration 41 \n",
      "Mutation Rate 0.3 \n",
      "Time for Mutation Rate [1.7145282000001316, 1.2791391999999178, 1.8587009000002581, 2.1779969999997775, 2.561724299999696, 2.419383399999788, 1.837584799999604, 1.5159450000001016, 2.128504499999508, 1.8282649000002493, 1.4731150999996316, 1.2598238000000492, 1.541152200000397, 1.296498700000484, 2.1003067999999985, 2.524274900000819, 2.353934300000219, 2.4767289000001256, 1.3769331000003149, 1.3089595000001282, 1.2522791999999754, 1.9855285000003278, 1.7475039000000834, 1.378364899999724, 1.3950721000001067, 1.314481600000363, 1.6271650999997291, 2.5025087999993048, 1.440078600000561, 1.7659622000001036, 1.6928470000002562, 1.8526808000005985, 1.5403943999999683, 1.699134999999842, 1.398573899999974, 1.9581946999996944, 2.9987836000000243, 2.1363227000001643, 1.740108799999689, 1.3842364000001908, 1.3646749999998065, 1.2934810999995534]\n",
      "\n",
      "\n",
      "Iteration 42 \n",
      "Mutation Rate 0.3 \n",
      "Time for Mutation Rate [1.7145282000001316, 1.2791391999999178, 1.8587009000002581, 2.1779969999997775, 2.561724299999696, 2.419383399999788, 1.837584799999604, 1.5159450000001016, 2.128504499999508, 1.8282649000002493, 1.4731150999996316, 1.2598238000000492, 1.541152200000397, 1.296498700000484, 2.1003067999999985, 2.524274900000819, 2.353934300000219, 2.4767289000001256, 1.3769331000003149, 1.3089595000001282, 1.2522791999999754, 1.9855285000003278, 1.7475039000000834, 1.378364899999724, 1.3950721000001067, 1.314481600000363, 1.6271650999997291, 2.5025087999993048, 1.440078600000561, 1.7659622000001036, 1.6928470000002562, 1.8526808000005985, 1.5403943999999683, 1.699134999999842, 1.398573899999974, 1.9581946999996944, 2.9987836000000243, 2.1363227000001643, 1.740108799999689, 1.3842364000001908, 1.3646749999998065, 1.2934810999995534, 1.3258705999996891]\n",
      "\n",
      "\n",
      "Iteration 43 \n",
      "Mutation Rate 0.3 \n",
      "Time for Mutation Rate [1.7145282000001316, 1.2791391999999178, 1.8587009000002581, 2.1779969999997775, 2.561724299999696, 2.419383399999788, 1.837584799999604, 1.5159450000001016, 2.128504499999508, 1.8282649000002493, 1.4731150999996316, 1.2598238000000492, 1.541152200000397, 1.296498700000484, 2.1003067999999985, 2.524274900000819, 2.353934300000219, 2.4767289000001256, 1.3769331000003149, 1.3089595000001282, 1.2522791999999754, 1.9855285000003278, 1.7475039000000834, 1.378364899999724, 1.3950721000001067, 1.314481600000363, 1.6271650999997291, 2.5025087999993048, 1.440078600000561, 1.7659622000001036, 1.6928470000002562, 1.8526808000005985, 1.5403943999999683, 1.699134999999842, 1.398573899999974, 1.9581946999996944, 2.9987836000000243, 2.1363227000001643, 1.740108799999689, 1.3842364000001908, 1.3646749999998065, 1.2934810999995534, 1.3258705999996891, 2.2023643000002266]\n",
      "\n",
      "\n",
      "Iteration 44 \n",
      "Mutation Rate 0.3 \n",
      "Time for Mutation Rate [1.7145282000001316, 1.2791391999999178, 1.8587009000002581, 2.1779969999997775, 2.561724299999696, 2.419383399999788, 1.837584799999604, 1.5159450000001016, 2.128504499999508, 1.8282649000002493, 1.4731150999996316, 1.2598238000000492, 1.541152200000397, 1.296498700000484, 2.1003067999999985, 2.524274900000819, 2.353934300000219, 2.4767289000001256, 1.3769331000003149, 1.3089595000001282, 1.2522791999999754, 1.9855285000003278, 1.7475039000000834, 1.378364899999724, 1.3950721000001067, 1.314481600000363, 1.6271650999997291, 2.5025087999993048, 1.440078600000561, 1.7659622000001036, 1.6928470000002562, 1.8526808000005985, 1.5403943999999683, 1.699134999999842, 1.398573899999974, 1.9581946999996944, 2.9987836000000243, 2.1363227000001643, 1.740108799999689, 1.3842364000001908, 1.3646749999998065, 1.2934810999995534, 1.3258705999996891, 2.2023643000002266, 2.8706215000001976]\n",
      "\n",
      "\n",
      "Iteration 45 \n",
      "Mutation Rate 0.3 \n",
      "Time for Mutation Rate [1.7145282000001316, 1.2791391999999178, 1.8587009000002581, 2.1779969999997775, 2.561724299999696, 2.419383399999788, 1.837584799999604, 1.5159450000001016, 2.128504499999508, 1.8282649000002493, 1.4731150999996316, 1.2598238000000492, 1.541152200000397, 1.296498700000484, 2.1003067999999985, 2.524274900000819, 2.353934300000219, 2.4767289000001256, 1.3769331000003149, 1.3089595000001282, 1.2522791999999754, 1.9855285000003278, 1.7475039000000834, 1.378364899999724, 1.3950721000001067, 1.314481600000363, 1.6271650999997291, 2.5025087999993048, 1.440078600000561, 1.7659622000001036, 1.6928470000002562, 1.8526808000005985, 1.5403943999999683, 1.699134999999842, 1.398573899999974, 1.9581946999996944, 2.9987836000000243, 2.1363227000001643, 1.740108799999689, 1.3842364000001908, 1.3646749999998065, 1.2934810999995534, 1.3258705999996891, 2.2023643000002266, 2.8706215000001976, 2.6163814000001366]\n",
      "\n",
      "\n",
      "Iteration 46 \n",
      "Mutation Rate 0.3 \n",
      "Time for Mutation Rate [1.7145282000001316, 1.2791391999999178, 1.8587009000002581, 2.1779969999997775, 2.561724299999696, 2.419383399999788, 1.837584799999604, 1.5159450000001016, 2.128504499999508, 1.8282649000002493, 1.4731150999996316, 1.2598238000000492, 1.541152200000397, 1.296498700000484, 2.1003067999999985, 2.524274900000819, 2.353934300000219, 2.4767289000001256, 1.3769331000003149, 1.3089595000001282, 1.2522791999999754, 1.9855285000003278, 1.7475039000000834, 1.378364899999724, 1.3950721000001067, 1.314481600000363, 1.6271650999997291, 2.5025087999993048, 1.440078600000561, 1.7659622000001036, 1.6928470000002562, 1.8526808000005985, 1.5403943999999683, 1.699134999999842, 1.398573899999974, 1.9581946999996944, 2.9987836000000243, 2.1363227000001643, 1.740108799999689, 1.3842364000001908, 1.3646749999998065, 1.2934810999995534, 1.3258705999996891, 2.2023643000002266, 2.8706215000001976, 2.6163814000001366, 2.230251199999657]\n",
      "\n",
      "\n",
      "Iteration 47 \n",
      "Mutation Rate 0.3 \n",
      "Time for Mutation Rate [1.7145282000001316, 1.2791391999999178, 1.8587009000002581, 2.1779969999997775, 2.561724299999696, 2.419383399999788, 1.837584799999604, 1.5159450000001016, 2.128504499999508, 1.8282649000002493, 1.4731150999996316, 1.2598238000000492, 1.541152200000397, 1.296498700000484, 2.1003067999999985, 2.524274900000819, 2.353934300000219, 2.4767289000001256, 1.3769331000003149, 1.3089595000001282, 1.2522791999999754, 1.9855285000003278, 1.7475039000000834, 1.378364899999724, 1.3950721000001067, 1.314481600000363, 1.6271650999997291, 2.5025087999993048, 1.440078600000561, 1.7659622000001036, 1.6928470000002562, 1.8526808000005985, 1.5403943999999683, 1.699134999999842, 1.398573899999974, 1.9581946999996944, 2.9987836000000243, 2.1363227000001643, 1.740108799999689, 1.3842364000001908, 1.3646749999998065, 1.2934810999995534, 1.3258705999996891, 2.2023643000002266, 2.8706215000001976, 2.6163814000001366, 2.230251199999657, 2.4658331999999064]\n",
      "\n",
      "\n"
     ]
    },
    {
     "name": "stdout",
     "output_type": "stream",
     "text": [
      "Iteration 48 \n",
      "Mutation Rate 0.3 \n",
      "Time for Mutation Rate [1.7145282000001316, 1.2791391999999178, 1.8587009000002581, 2.1779969999997775, 2.561724299999696, 2.419383399999788, 1.837584799999604, 1.5159450000001016, 2.128504499999508, 1.8282649000002493, 1.4731150999996316, 1.2598238000000492, 1.541152200000397, 1.296498700000484, 2.1003067999999985, 2.524274900000819, 2.353934300000219, 2.4767289000001256, 1.3769331000003149, 1.3089595000001282, 1.2522791999999754, 1.9855285000003278, 1.7475039000000834, 1.378364899999724, 1.3950721000001067, 1.314481600000363, 1.6271650999997291, 2.5025087999993048, 1.440078600000561, 1.7659622000001036, 1.6928470000002562, 1.8526808000005985, 1.5403943999999683, 1.699134999999842, 1.398573899999974, 1.9581946999996944, 2.9987836000000243, 2.1363227000001643, 1.740108799999689, 1.3842364000001908, 1.3646749999998065, 1.2934810999995534, 1.3258705999996891, 2.2023643000002266, 2.8706215000001976, 2.6163814000001366, 2.230251199999657, 2.4658331999999064, 1.79070640000009]\n",
      "\n",
      "\n",
      "Iteration 49 \n",
      "Mutation Rate 0.3 \n",
      "Time for Mutation Rate [1.7145282000001316, 1.2791391999999178, 1.8587009000002581, 2.1779969999997775, 2.561724299999696, 2.419383399999788, 1.837584799999604, 1.5159450000001016, 2.128504499999508, 1.8282649000002493, 1.4731150999996316, 1.2598238000000492, 1.541152200000397, 1.296498700000484, 2.1003067999999985, 2.524274900000819, 2.353934300000219, 2.4767289000001256, 1.3769331000003149, 1.3089595000001282, 1.2522791999999754, 1.9855285000003278, 1.7475039000000834, 1.378364899999724, 1.3950721000001067, 1.314481600000363, 1.6271650999997291, 2.5025087999993048, 1.440078600000561, 1.7659622000001036, 1.6928470000002562, 1.8526808000005985, 1.5403943999999683, 1.699134999999842, 1.398573899999974, 1.9581946999996944, 2.9987836000000243, 2.1363227000001643, 1.740108799999689, 1.3842364000001908, 1.3646749999998065, 1.2934810999995534, 1.3258705999996891, 2.2023643000002266, 2.8706215000001976, 2.6163814000001366, 2.230251199999657, 2.4658331999999064, 1.79070640000009, 1.218112999999903]\n",
      "\n",
      "\n",
      "Iteration 50 \n",
      "Mutation Rate 0.3 \n",
      "Time for Mutation Rate [1.7145282000001316, 1.2791391999999178, 1.8587009000002581, 2.1779969999997775, 2.561724299999696, 2.419383399999788, 1.837584799999604, 1.5159450000001016, 2.128504499999508, 1.8282649000002493, 1.4731150999996316, 1.2598238000000492, 1.541152200000397, 1.296498700000484, 2.1003067999999985, 2.524274900000819, 2.353934300000219, 2.4767289000001256, 1.3769331000003149, 1.3089595000001282, 1.2522791999999754, 1.9855285000003278, 1.7475039000000834, 1.378364899999724, 1.3950721000001067, 1.314481600000363, 1.6271650999997291, 2.5025087999993048, 1.440078600000561, 1.7659622000001036, 1.6928470000002562, 1.8526808000005985, 1.5403943999999683, 1.699134999999842, 1.398573899999974, 1.9581946999996944, 2.9987836000000243, 2.1363227000001643, 1.740108799999689, 1.3842364000001908, 1.3646749999998065, 1.2934810999995534, 1.3258705999996891, 2.2023643000002266, 2.8706215000001976, 2.6163814000001366, 2.230251199999657, 2.4658331999999064, 1.79070640000009, 1.218112999999903, 1.3343922000003658]\n",
      "\n",
      "\n",
      "Iteration 51 \n",
      "Mutation Rate 0.3 \n",
      "Time for Mutation Rate [1.7145282000001316, 1.2791391999999178, 1.8587009000002581, 2.1779969999997775, 2.561724299999696, 2.419383399999788, 1.837584799999604, 1.5159450000001016, 2.128504499999508, 1.8282649000002493, 1.4731150999996316, 1.2598238000000492, 1.541152200000397, 1.296498700000484, 2.1003067999999985, 2.524274900000819, 2.353934300000219, 2.4767289000001256, 1.3769331000003149, 1.3089595000001282, 1.2522791999999754, 1.9855285000003278, 1.7475039000000834, 1.378364899999724, 1.3950721000001067, 1.314481600000363, 1.6271650999997291, 2.5025087999993048, 1.440078600000561, 1.7659622000001036, 1.6928470000002562, 1.8526808000005985, 1.5403943999999683, 1.699134999999842, 1.398573899999974, 1.9581946999996944, 2.9987836000000243, 2.1363227000001643, 1.740108799999689, 1.3842364000001908, 1.3646749999998065, 1.2934810999995534, 1.3258705999996891, 2.2023643000002266, 2.8706215000001976, 2.6163814000001366, 2.230251199999657, 2.4658331999999064, 1.79070640000009, 1.218112999999903, 1.3343922000003658, 1.3615176000002975]\n",
      "\n",
      "\n",
      "Iteration 52 \n",
      "Mutation Rate 0.3 \n",
      "Time for Mutation Rate [1.7145282000001316, 1.2791391999999178, 1.8587009000002581, 2.1779969999997775, 2.561724299999696, 2.419383399999788, 1.837584799999604, 1.5159450000001016, 2.128504499999508, 1.8282649000002493, 1.4731150999996316, 1.2598238000000492, 1.541152200000397, 1.296498700000484, 2.1003067999999985, 2.524274900000819, 2.353934300000219, 2.4767289000001256, 1.3769331000003149, 1.3089595000001282, 1.2522791999999754, 1.9855285000003278, 1.7475039000000834, 1.378364899999724, 1.3950721000001067, 1.314481600000363, 1.6271650999997291, 2.5025087999993048, 1.440078600000561, 1.7659622000001036, 1.6928470000002562, 1.8526808000005985, 1.5403943999999683, 1.699134999999842, 1.398573899999974, 1.9581946999996944, 2.9987836000000243, 2.1363227000001643, 1.740108799999689, 1.3842364000001908, 1.3646749999998065, 1.2934810999995534, 1.3258705999996891, 2.2023643000002266, 2.8706215000001976, 2.6163814000001366, 2.230251199999657, 2.4658331999999064, 1.79070640000009, 1.218112999999903, 1.3343922000003658, 1.3615176000002975, 1.4381690000000162]\n",
      "\n",
      "\n",
      "Iteration 53 \n",
      "Mutation Rate 0.3 \n",
      "Time for Mutation Rate [1.7145282000001316, 1.2791391999999178, 1.8587009000002581, 2.1779969999997775, 2.561724299999696, 2.419383399999788, 1.837584799999604, 1.5159450000001016, 2.128504499999508, 1.8282649000002493, 1.4731150999996316, 1.2598238000000492, 1.541152200000397, 1.296498700000484, 2.1003067999999985, 2.524274900000819, 2.353934300000219, 2.4767289000001256, 1.3769331000003149, 1.3089595000001282, 1.2522791999999754, 1.9855285000003278, 1.7475039000000834, 1.378364899999724, 1.3950721000001067, 1.314481600000363, 1.6271650999997291, 2.5025087999993048, 1.440078600000561, 1.7659622000001036, 1.6928470000002562, 1.8526808000005985, 1.5403943999999683, 1.699134999999842, 1.398573899999974, 1.9581946999996944, 2.9987836000000243, 2.1363227000001643, 1.740108799999689, 1.3842364000001908, 1.3646749999998065, 1.2934810999995534, 1.3258705999996891, 2.2023643000002266, 2.8706215000001976, 2.6163814000001366, 2.230251199999657, 2.4658331999999064, 1.79070640000009, 1.218112999999903, 1.3343922000003658, 1.3615176000002975, 1.4381690000000162, 2.1633661000005304]\n",
      "\n",
      "\n",
      "Iteration 54 \n",
      "Mutation Rate 0.3 \n",
      "Time for Mutation Rate [1.7145282000001316, 1.2791391999999178, 1.8587009000002581, 2.1779969999997775, 2.561724299999696, 2.419383399999788, 1.837584799999604, 1.5159450000001016, 2.128504499999508, 1.8282649000002493, 1.4731150999996316, 1.2598238000000492, 1.541152200000397, 1.296498700000484, 2.1003067999999985, 2.524274900000819, 2.353934300000219, 2.4767289000001256, 1.3769331000003149, 1.3089595000001282, 1.2522791999999754, 1.9855285000003278, 1.7475039000000834, 1.378364899999724, 1.3950721000001067, 1.314481600000363, 1.6271650999997291, 2.5025087999993048, 1.440078600000561, 1.7659622000001036, 1.6928470000002562, 1.8526808000005985, 1.5403943999999683, 1.699134999999842, 1.398573899999974, 1.9581946999996944, 2.9987836000000243, 2.1363227000001643, 1.740108799999689, 1.3842364000001908, 1.3646749999998065, 1.2934810999995534, 1.3258705999996891, 2.2023643000002266, 2.8706215000001976, 2.6163814000001366, 2.230251199999657, 2.4658331999999064, 1.79070640000009, 1.218112999999903, 1.3343922000003658, 1.3615176000002975, 1.4381690000000162, 2.1633661000005304, 2.1570613000003505]\n",
      "\n",
      "\n",
      "Iteration 55 \n",
      "Mutation Rate 0.3 \n",
      "Time for Mutation Rate [1.7145282000001316, 1.2791391999999178, 1.8587009000002581, 2.1779969999997775, 2.561724299999696, 2.419383399999788, 1.837584799999604, 1.5159450000001016, 2.128504499999508, 1.8282649000002493, 1.4731150999996316, 1.2598238000000492, 1.541152200000397, 1.296498700000484, 2.1003067999999985, 2.524274900000819, 2.353934300000219, 2.4767289000001256, 1.3769331000003149, 1.3089595000001282, 1.2522791999999754, 1.9855285000003278, 1.7475039000000834, 1.378364899999724, 1.3950721000001067, 1.314481600000363, 1.6271650999997291, 2.5025087999993048, 1.440078600000561, 1.7659622000001036, 1.6928470000002562, 1.8526808000005985, 1.5403943999999683, 1.699134999999842, 1.398573899999974, 1.9581946999996944, 2.9987836000000243, 2.1363227000001643, 1.740108799999689, 1.3842364000001908, 1.3646749999998065, 1.2934810999995534, 1.3258705999996891, 2.2023643000002266, 2.8706215000001976, 2.6163814000001366, 2.230251199999657, 2.4658331999999064, 1.79070640000009, 1.218112999999903, 1.3343922000003658, 1.3615176000002975, 1.4381690000000162, 2.1633661000005304, 2.1570613000003505, 2.0541855999999825]\n",
      "\n",
      "\n"
     ]
    },
    {
     "name": "stdout",
     "output_type": "stream",
     "text": [
      "Iteration 56 \n",
      "Mutation Rate 0.3 \n",
      "Time for Mutation Rate [1.7145282000001316, 1.2791391999999178, 1.8587009000002581, 2.1779969999997775, 2.561724299999696, 2.419383399999788, 1.837584799999604, 1.5159450000001016, 2.128504499999508, 1.8282649000002493, 1.4731150999996316, 1.2598238000000492, 1.541152200000397, 1.296498700000484, 2.1003067999999985, 2.524274900000819, 2.353934300000219, 2.4767289000001256, 1.3769331000003149, 1.3089595000001282, 1.2522791999999754, 1.9855285000003278, 1.7475039000000834, 1.378364899999724, 1.3950721000001067, 1.314481600000363, 1.6271650999997291, 2.5025087999993048, 1.440078600000561, 1.7659622000001036, 1.6928470000002562, 1.8526808000005985, 1.5403943999999683, 1.699134999999842, 1.398573899999974, 1.9581946999996944, 2.9987836000000243, 2.1363227000001643, 1.740108799999689, 1.3842364000001908, 1.3646749999998065, 1.2934810999995534, 1.3258705999996891, 2.2023643000002266, 2.8706215000001976, 2.6163814000001366, 2.230251199999657, 2.4658331999999064, 1.79070640000009, 1.218112999999903, 1.3343922000003658, 1.3615176000002975, 1.4381690000000162, 2.1633661000005304, 2.1570613000003505, 2.0541855999999825, 1.8261126000006698]\n",
      "\n",
      "\n",
      "Iteration 57 \n",
      "Mutation Rate 0.3 \n",
      "Time for Mutation Rate [1.7145282000001316, 1.2791391999999178, 1.8587009000002581, 2.1779969999997775, 2.561724299999696, 2.419383399999788, 1.837584799999604, 1.5159450000001016, 2.128504499999508, 1.8282649000002493, 1.4731150999996316, 1.2598238000000492, 1.541152200000397, 1.296498700000484, 2.1003067999999985, 2.524274900000819, 2.353934300000219, 2.4767289000001256, 1.3769331000003149, 1.3089595000001282, 1.2522791999999754, 1.9855285000003278, 1.7475039000000834, 1.378364899999724, 1.3950721000001067, 1.314481600000363, 1.6271650999997291, 2.5025087999993048, 1.440078600000561, 1.7659622000001036, 1.6928470000002562, 1.8526808000005985, 1.5403943999999683, 1.699134999999842, 1.398573899999974, 1.9581946999996944, 2.9987836000000243, 2.1363227000001643, 1.740108799999689, 1.3842364000001908, 1.3646749999998065, 1.2934810999995534, 1.3258705999996891, 2.2023643000002266, 2.8706215000001976, 2.6163814000001366, 2.230251199999657, 2.4658331999999064, 1.79070640000009, 1.218112999999903, 1.3343922000003658, 1.3615176000002975, 1.4381690000000162, 2.1633661000005304, 2.1570613000003505, 2.0541855999999825, 1.8261126000006698, 1.5195871999994779]\n",
      "\n",
      "\n",
      "Iteration 58 \n",
      "Mutation Rate 0.3 \n",
      "Time for Mutation Rate [1.7145282000001316, 1.2791391999999178, 1.8587009000002581, 2.1779969999997775, 2.561724299999696, 2.419383399999788, 1.837584799999604, 1.5159450000001016, 2.128504499999508, 1.8282649000002493, 1.4731150999996316, 1.2598238000000492, 1.541152200000397, 1.296498700000484, 2.1003067999999985, 2.524274900000819, 2.353934300000219, 2.4767289000001256, 1.3769331000003149, 1.3089595000001282, 1.2522791999999754, 1.9855285000003278, 1.7475039000000834, 1.378364899999724, 1.3950721000001067, 1.314481600000363, 1.6271650999997291, 2.5025087999993048, 1.440078600000561, 1.7659622000001036, 1.6928470000002562, 1.8526808000005985, 1.5403943999999683, 1.699134999999842, 1.398573899999974, 1.9581946999996944, 2.9987836000000243, 2.1363227000001643, 1.740108799999689, 1.3842364000001908, 1.3646749999998065, 1.2934810999995534, 1.3258705999996891, 2.2023643000002266, 2.8706215000001976, 2.6163814000001366, 2.230251199999657, 2.4658331999999064, 1.79070640000009, 1.218112999999903, 1.3343922000003658, 1.3615176000002975, 1.4381690000000162, 2.1633661000005304, 2.1570613000003505, 2.0541855999999825, 1.8261126000006698, 1.5195871999994779, 1.2959522999999535]\n",
      "\n",
      "\n",
      "Iteration 59 \n",
      "Mutation Rate 0.3 \n",
      "Time for Mutation Rate [1.7145282000001316, 1.2791391999999178, 1.8587009000002581, 2.1779969999997775, 2.561724299999696, 2.419383399999788, 1.837584799999604, 1.5159450000001016, 2.128504499999508, 1.8282649000002493, 1.4731150999996316, 1.2598238000000492, 1.541152200000397, 1.296498700000484, 2.1003067999999985, 2.524274900000819, 2.353934300000219, 2.4767289000001256, 1.3769331000003149, 1.3089595000001282, 1.2522791999999754, 1.9855285000003278, 1.7475039000000834, 1.378364899999724, 1.3950721000001067, 1.314481600000363, 1.6271650999997291, 2.5025087999993048, 1.440078600000561, 1.7659622000001036, 1.6928470000002562, 1.8526808000005985, 1.5403943999999683, 1.699134999999842, 1.398573899999974, 1.9581946999996944, 2.9987836000000243, 2.1363227000001643, 1.740108799999689, 1.3842364000001908, 1.3646749999998065, 1.2934810999995534, 1.3258705999996891, 2.2023643000002266, 2.8706215000001976, 2.6163814000001366, 2.230251199999657, 2.4658331999999064, 1.79070640000009, 1.218112999999903, 1.3343922000003658, 1.3615176000002975, 1.4381690000000162, 2.1633661000005304, 2.1570613000003505, 2.0541855999999825, 1.8261126000006698, 1.5195871999994779, 1.2959522999999535, 1.5248005000003104]\n",
      "\n",
      "\n",
      "Iteration 60 \n",
      "Mutation Rate 0.3 \n",
      "Time for Mutation Rate [1.7145282000001316, 1.2791391999999178, 1.8587009000002581, 2.1779969999997775, 2.561724299999696, 2.419383399999788, 1.837584799999604, 1.5159450000001016, 2.128504499999508, 1.8282649000002493, 1.4731150999996316, 1.2598238000000492, 1.541152200000397, 1.296498700000484, 2.1003067999999985, 2.524274900000819, 2.353934300000219, 2.4767289000001256, 1.3769331000003149, 1.3089595000001282, 1.2522791999999754, 1.9855285000003278, 1.7475039000000834, 1.378364899999724, 1.3950721000001067, 1.314481600000363, 1.6271650999997291, 2.5025087999993048, 1.440078600000561, 1.7659622000001036, 1.6928470000002562, 1.8526808000005985, 1.5403943999999683, 1.699134999999842, 1.398573899999974, 1.9581946999996944, 2.9987836000000243, 2.1363227000001643, 1.740108799999689, 1.3842364000001908, 1.3646749999998065, 1.2934810999995534, 1.3258705999996891, 2.2023643000002266, 2.8706215000001976, 2.6163814000001366, 2.230251199999657, 2.4658331999999064, 1.79070640000009, 1.218112999999903, 1.3343922000003658, 1.3615176000002975, 1.4381690000000162, 2.1633661000005304, 2.1570613000003505, 2.0541855999999825, 1.8261126000006698, 1.5195871999994779, 1.2959522999999535, 1.5248005000003104, 2.1519421000002694]\n",
      "\n",
      "\n",
      "Iteration 61 \n",
      "Mutation Rate 0.3 \n",
      "Time for Mutation Rate [1.7145282000001316, 1.2791391999999178, 1.8587009000002581, 2.1779969999997775, 2.561724299999696, 2.419383399999788, 1.837584799999604, 1.5159450000001016, 2.128504499999508, 1.8282649000002493, 1.4731150999996316, 1.2598238000000492, 1.541152200000397, 1.296498700000484, 2.1003067999999985, 2.524274900000819, 2.353934300000219, 2.4767289000001256, 1.3769331000003149, 1.3089595000001282, 1.2522791999999754, 1.9855285000003278, 1.7475039000000834, 1.378364899999724, 1.3950721000001067, 1.314481600000363, 1.6271650999997291, 2.5025087999993048, 1.440078600000561, 1.7659622000001036, 1.6928470000002562, 1.8526808000005985, 1.5403943999999683, 1.699134999999842, 1.398573899999974, 1.9581946999996944, 2.9987836000000243, 2.1363227000001643, 1.740108799999689, 1.3842364000001908, 1.3646749999998065, 1.2934810999995534, 1.3258705999996891, 2.2023643000002266, 2.8706215000001976, 2.6163814000001366, 2.230251199999657, 2.4658331999999064, 1.79070640000009, 1.218112999999903, 1.3343922000003658, 1.3615176000002975, 1.4381690000000162, 2.1633661000005304, 2.1570613000003505, 2.0541855999999825, 1.8261126000006698, 1.5195871999994779, 1.2959522999999535, 1.5248005000003104, 2.1519421000002694, 2.303299799999877]\n",
      "\n",
      "\n",
      "Iteration 62 \n",
      "Mutation Rate 0.3 \n",
      "Time for Mutation Rate [1.7145282000001316, 1.2791391999999178, 1.8587009000002581, 2.1779969999997775, 2.561724299999696, 2.419383399999788, 1.837584799999604, 1.5159450000001016, 2.128504499999508, 1.8282649000002493, 1.4731150999996316, 1.2598238000000492, 1.541152200000397, 1.296498700000484, 2.1003067999999985, 2.524274900000819, 2.353934300000219, 2.4767289000001256, 1.3769331000003149, 1.3089595000001282, 1.2522791999999754, 1.9855285000003278, 1.7475039000000834, 1.378364899999724, 1.3950721000001067, 1.314481600000363, 1.6271650999997291, 2.5025087999993048, 1.440078600000561, 1.7659622000001036, 1.6928470000002562, 1.8526808000005985, 1.5403943999999683, 1.699134999999842, 1.398573899999974, 1.9581946999996944, 2.9987836000000243, 2.1363227000001643, 1.740108799999689, 1.3842364000001908, 1.3646749999998065, 1.2934810999995534, 1.3258705999996891, 2.2023643000002266, 2.8706215000001976, 2.6163814000001366, 2.230251199999657, 2.4658331999999064, 1.79070640000009, 1.218112999999903, 1.3343922000003658, 1.3615176000002975, 1.4381690000000162, 2.1633661000005304, 2.1570613000003505, 2.0541855999999825, 1.8261126000006698, 1.5195871999994779, 1.2959522999999535, 1.5248005000003104, 2.1519421000002694, 2.303299799999877, 2.0982869999998]\n",
      "\n",
      "\n"
     ]
    },
    {
     "name": "stdout",
     "output_type": "stream",
     "text": [
      "Iteration 63 \n",
      "Mutation Rate 0.3 \n",
      "Time for Mutation Rate [1.7145282000001316, 1.2791391999999178, 1.8587009000002581, 2.1779969999997775, 2.561724299999696, 2.419383399999788, 1.837584799999604, 1.5159450000001016, 2.128504499999508, 1.8282649000002493, 1.4731150999996316, 1.2598238000000492, 1.541152200000397, 1.296498700000484, 2.1003067999999985, 2.524274900000819, 2.353934300000219, 2.4767289000001256, 1.3769331000003149, 1.3089595000001282, 1.2522791999999754, 1.9855285000003278, 1.7475039000000834, 1.378364899999724, 1.3950721000001067, 1.314481600000363, 1.6271650999997291, 2.5025087999993048, 1.440078600000561, 1.7659622000001036, 1.6928470000002562, 1.8526808000005985, 1.5403943999999683, 1.699134999999842, 1.398573899999974, 1.9581946999996944, 2.9987836000000243, 2.1363227000001643, 1.740108799999689, 1.3842364000001908, 1.3646749999998065, 1.2934810999995534, 1.3258705999996891, 2.2023643000002266, 2.8706215000001976, 2.6163814000001366, 2.230251199999657, 2.4658331999999064, 1.79070640000009, 1.218112999999903, 1.3343922000003658, 1.3615176000002975, 1.4381690000000162, 2.1633661000005304, 2.1570613000003505, 2.0541855999999825, 1.8261126000006698, 1.5195871999994779, 1.2959522999999535, 1.5248005000003104, 2.1519421000002694, 2.303299799999877, 2.0982869999998, 1.9703865000001315]\n",
      "\n",
      "\n",
      "Iteration 64 \n",
      "Mutation Rate 0.3 \n",
      "Time for Mutation Rate [1.7145282000001316, 1.2791391999999178, 1.8587009000002581, 2.1779969999997775, 2.561724299999696, 2.419383399999788, 1.837584799999604, 1.5159450000001016, 2.128504499999508, 1.8282649000002493, 1.4731150999996316, 1.2598238000000492, 1.541152200000397, 1.296498700000484, 2.1003067999999985, 2.524274900000819, 2.353934300000219, 2.4767289000001256, 1.3769331000003149, 1.3089595000001282, 1.2522791999999754, 1.9855285000003278, 1.7475039000000834, 1.378364899999724, 1.3950721000001067, 1.314481600000363, 1.6271650999997291, 2.5025087999993048, 1.440078600000561, 1.7659622000001036, 1.6928470000002562, 1.8526808000005985, 1.5403943999999683, 1.699134999999842, 1.398573899999974, 1.9581946999996944, 2.9987836000000243, 2.1363227000001643, 1.740108799999689, 1.3842364000001908, 1.3646749999998065, 1.2934810999995534, 1.3258705999996891, 2.2023643000002266, 2.8706215000001976, 2.6163814000001366, 2.230251199999657, 2.4658331999999064, 1.79070640000009, 1.218112999999903, 1.3343922000003658, 1.3615176000002975, 1.4381690000000162, 2.1633661000005304, 2.1570613000003505, 2.0541855999999825, 1.8261126000006698, 1.5195871999994779, 1.2959522999999535, 1.5248005000003104, 2.1519421000002694, 2.303299799999877, 2.0982869999998, 1.9703865000001315, 1.3918055000003733]\n",
      "\n",
      "\n",
      "Iteration 65 \n",
      "Mutation Rate 0.3 \n",
      "Time for Mutation Rate [1.7145282000001316, 1.2791391999999178, 1.8587009000002581, 2.1779969999997775, 2.561724299999696, 2.419383399999788, 1.837584799999604, 1.5159450000001016, 2.128504499999508, 1.8282649000002493, 1.4731150999996316, 1.2598238000000492, 1.541152200000397, 1.296498700000484, 2.1003067999999985, 2.524274900000819, 2.353934300000219, 2.4767289000001256, 1.3769331000003149, 1.3089595000001282, 1.2522791999999754, 1.9855285000003278, 1.7475039000000834, 1.378364899999724, 1.3950721000001067, 1.314481600000363, 1.6271650999997291, 2.5025087999993048, 1.440078600000561, 1.7659622000001036, 1.6928470000002562, 1.8526808000005985, 1.5403943999999683, 1.699134999999842, 1.398573899999974, 1.9581946999996944, 2.9987836000000243, 2.1363227000001643, 1.740108799999689, 1.3842364000001908, 1.3646749999998065, 1.2934810999995534, 1.3258705999996891, 2.2023643000002266, 2.8706215000001976, 2.6163814000001366, 2.230251199999657, 2.4658331999999064, 1.79070640000009, 1.218112999999903, 1.3343922000003658, 1.3615176000002975, 1.4381690000000162, 2.1633661000005304, 2.1570613000003505, 2.0541855999999825, 1.8261126000006698, 1.5195871999994779, 1.2959522999999535, 1.5248005000003104, 2.1519421000002694, 2.303299799999877, 2.0982869999998, 1.9703865000001315, 1.3918055000003733, 1.3421221999997215]\n",
      "\n",
      "\n",
      "Iteration 66 \n",
      "Mutation Rate 0.3 \n",
      "Time for Mutation Rate [1.7145282000001316, 1.2791391999999178, 1.8587009000002581, 2.1779969999997775, 2.561724299999696, 2.419383399999788, 1.837584799999604, 1.5159450000001016, 2.128504499999508, 1.8282649000002493, 1.4731150999996316, 1.2598238000000492, 1.541152200000397, 1.296498700000484, 2.1003067999999985, 2.524274900000819, 2.353934300000219, 2.4767289000001256, 1.3769331000003149, 1.3089595000001282, 1.2522791999999754, 1.9855285000003278, 1.7475039000000834, 1.378364899999724, 1.3950721000001067, 1.314481600000363, 1.6271650999997291, 2.5025087999993048, 1.440078600000561, 1.7659622000001036, 1.6928470000002562, 1.8526808000005985, 1.5403943999999683, 1.699134999999842, 1.398573899999974, 1.9581946999996944, 2.9987836000000243, 2.1363227000001643, 1.740108799999689, 1.3842364000001908, 1.3646749999998065, 1.2934810999995534, 1.3258705999996891, 2.2023643000002266, 2.8706215000001976, 2.6163814000001366, 2.230251199999657, 2.4658331999999064, 1.79070640000009, 1.218112999999903, 1.3343922000003658, 1.3615176000002975, 1.4381690000000162, 2.1633661000005304, 2.1570613000003505, 2.0541855999999825, 1.8261126000006698, 1.5195871999994779, 1.2959522999999535, 1.5248005000003104, 2.1519421000002694, 2.303299799999877, 2.0982869999998, 1.9703865000001315, 1.3918055000003733, 1.3421221999997215, 1.2368511999993643]\n",
      "\n",
      "\n",
      "Iteration 67 \n",
      "Mutation Rate 0.3 \n",
      "Time for Mutation Rate [1.7145282000001316, 1.2791391999999178, 1.8587009000002581, 2.1779969999997775, 2.561724299999696, 2.419383399999788, 1.837584799999604, 1.5159450000001016, 2.128504499999508, 1.8282649000002493, 1.4731150999996316, 1.2598238000000492, 1.541152200000397, 1.296498700000484, 2.1003067999999985, 2.524274900000819, 2.353934300000219, 2.4767289000001256, 1.3769331000003149, 1.3089595000001282, 1.2522791999999754, 1.9855285000003278, 1.7475039000000834, 1.378364899999724, 1.3950721000001067, 1.314481600000363, 1.6271650999997291, 2.5025087999993048, 1.440078600000561, 1.7659622000001036, 1.6928470000002562, 1.8526808000005985, 1.5403943999999683, 1.699134999999842, 1.398573899999974, 1.9581946999996944, 2.9987836000000243, 2.1363227000001643, 1.740108799999689, 1.3842364000001908, 1.3646749999998065, 1.2934810999995534, 1.3258705999996891, 2.2023643000002266, 2.8706215000001976, 2.6163814000001366, 2.230251199999657, 2.4658331999999064, 1.79070640000009, 1.218112999999903, 1.3343922000003658, 1.3615176000002975, 1.4381690000000162, 2.1633661000005304, 2.1570613000003505, 2.0541855999999825, 1.8261126000006698, 1.5195871999994779, 1.2959522999999535, 1.5248005000003104, 2.1519421000002694, 2.303299799999877, 2.0982869999998, 1.9703865000001315, 1.3918055000003733, 1.3421221999997215, 1.2368511999993643, 1.2268475999999282]\n",
      "\n",
      "\n",
      "Iteration 68 \n",
      "Mutation Rate 0.3 \n",
      "Time for Mutation Rate [1.7145282000001316, 1.2791391999999178, 1.8587009000002581, 2.1779969999997775, 2.561724299999696, 2.419383399999788, 1.837584799999604, 1.5159450000001016, 2.128504499999508, 1.8282649000002493, 1.4731150999996316, 1.2598238000000492, 1.541152200000397, 1.296498700000484, 2.1003067999999985, 2.524274900000819, 2.353934300000219, 2.4767289000001256, 1.3769331000003149, 1.3089595000001282, 1.2522791999999754, 1.9855285000003278, 1.7475039000000834, 1.378364899999724, 1.3950721000001067, 1.314481600000363, 1.6271650999997291, 2.5025087999993048, 1.440078600000561, 1.7659622000001036, 1.6928470000002562, 1.8526808000005985, 1.5403943999999683, 1.699134999999842, 1.398573899999974, 1.9581946999996944, 2.9987836000000243, 2.1363227000001643, 1.740108799999689, 1.3842364000001908, 1.3646749999998065, 1.2934810999995534, 1.3258705999996891, 2.2023643000002266, 2.8706215000001976, 2.6163814000001366, 2.230251199999657, 2.4658331999999064, 1.79070640000009, 1.218112999999903, 1.3343922000003658, 1.3615176000002975, 1.4381690000000162, 2.1633661000005304, 2.1570613000003505, 2.0541855999999825, 1.8261126000006698, 1.5195871999994779, 1.2959522999999535, 1.5248005000003104, 2.1519421000002694, 2.303299799999877, 2.0982869999998, 1.9703865000001315, 1.3918055000003733, 1.3421221999997215, 1.2368511999993643, 1.2268475999999282, 1.8833730000005744]\n",
      "\n",
      "\n"
     ]
    },
    {
     "name": "stdout",
     "output_type": "stream",
     "text": [
      "Iteration 69 \n",
      "Mutation Rate 0.3 \n",
      "Time for Mutation Rate [1.7145282000001316, 1.2791391999999178, 1.8587009000002581, 2.1779969999997775, 2.561724299999696, 2.419383399999788, 1.837584799999604, 1.5159450000001016, 2.128504499999508, 1.8282649000002493, 1.4731150999996316, 1.2598238000000492, 1.541152200000397, 1.296498700000484, 2.1003067999999985, 2.524274900000819, 2.353934300000219, 2.4767289000001256, 1.3769331000003149, 1.3089595000001282, 1.2522791999999754, 1.9855285000003278, 1.7475039000000834, 1.378364899999724, 1.3950721000001067, 1.314481600000363, 1.6271650999997291, 2.5025087999993048, 1.440078600000561, 1.7659622000001036, 1.6928470000002562, 1.8526808000005985, 1.5403943999999683, 1.699134999999842, 1.398573899999974, 1.9581946999996944, 2.9987836000000243, 2.1363227000001643, 1.740108799999689, 1.3842364000001908, 1.3646749999998065, 1.2934810999995534, 1.3258705999996891, 2.2023643000002266, 2.8706215000001976, 2.6163814000001366, 2.230251199999657, 2.4658331999999064, 1.79070640000009, 1.218112999999903, 1.3343922000003658, 1.3615176000002975, 1.4381690000000162, 2.1633661000005304, 2.1570613000003505, 2.0541855999999825, 1.8261126000006698, 1.5195871999994779, 1.2959522999999535, 1.5248005000003104, 2.1519421000002694, 2.303299799999877, 2.0982869999998, 1.9703865000001315, 1.3918055000003733, 1.3421221999997215, 1.2368511999993643, 1.2268475999999282, 1.8833730000005744, 1.9607810999996218]\n",
      "\n",
      "\n",
      "Iteration 70 \n",
      "Mutation Rate 0.3 \n",
      "Time for Mutation Rate [1.7145282000001316, 1.2791391999999178, 1.8587009000002581, 2.1779969999997775, 2.561724299999696, 2.419383399999788, 1.837584799999604, 1.5159450000001016, 2.128504499999508, 1.8282649000002493, 1.4731150999996316, 1.2598238000000492, 1.541152200000397, 1.296498700000484, 2.1003067999999985, 2.524274900000819, 2.353934300000219, 2.4767289000001256, 1.3769331000003149, 1.3089595000001282, 1.2522791999999754, 1.9855285000003278, 1.7475039000000834, 1.378364899999724, 1.3950721000001067, 1.314481600000363, 1.6271650999997291, 2.5025087999993048, 1.440078600000561, 1.7659622000001036, 1.6928470000002562, 1.8526808000005985, 1.5403943999999683, 1.699134999999842, 1.398573899999974, 1.9581946999996944, 2.9987836000000243, 2.1363227000001643, 1.740108799999689, 1.3842364000001908, 1.3646749999998065, 1.2934810999995534, 1.3258705999996891, 2.2023643000002266, 2.8706215000001976, 2.6163814000001366, 2.230251199999657, 2.4658331999999064, 1.79070640000009, 1.218112999999903, 1.3343922000003658, 1.3615176000002975, 1.4381690000000162, 2.1633661000005304, 2.1570613000003505, 2.0541855999999825, 1.8261126000006698, 1.5195871999994779, 1.2959522999999535, 1.5248005000003104, 2.1519421000002694, 2.303299799999877, 2.0982869999998, 1.9703865000001315, 1.3918055000003733, 1.3421221999997215, 1.2368511999993643, 1.2268475999999282, 1.8833730000005744, 1.9607810999996218, 2.1288978000002317]\n",
      "\n",
      "\n",
      "Iteration 71 \n",
      "Mutation Rate 0.3 \n",
      "Time for Mutation Rate [1.7145282000001316, 1.2791391999999178, 1.8587009000002581, 2.1779969999997775, 2.561724299999696, 2.419383399999788, 1.837584799999604, 1.5159450000001016, 2.128504499999508, 1.8282649000002493, 1.4731150999996316, 1.2598238000000492, 1.541152200000397, 1.296498700000484, 2.1003067999999985, 2.524274900000819, 2.353934300000219, 2.4767289000001256, 1.3769331000003149, 1.3089595000001282, 1.2522791999999754, 1.9855285000003278, 1.7475039000000834, 1.378364899999724, 1.3950721000001067, 1.314481600000363, 1.6271650999997291, 2.5025087999993048, 1.440078600000561, 1.7659622000001036, 1.6928470000002562, 1.8526808000005985, 1.5403943999999683, 1.699134999999842, 1.398573899999974, 1.9581946999996944, 2.9987836000000243, 2.1363227000001643, 1.740108799999689, 1.3842364000001908, 1.3646749999998065, 1.2934810999995534, 1.3258705999996891, 2.2023643000002266, 2.8706215000001976, 2.6163814000001366, 2.230251199999657, 2.4658331999999064, 1.79070640000009, 1.218112999999903, 1.3343922000003658, 1.3615176000002975, 1.4381690000000162, 2.1633661000005304, 2.1570613000003505, 2.0541855999999825, 1.8261126000006698, 1.5195871999994779, 1.2959522999999535, 1.5248005000003104, 2.1519421000002694, 2.303299799999877, 2.0982869999998, 1.9703865000001315, 1.3918055000003733, 1.3421221999997215, 1.2368511999993643, 1.2268475999999282, 1.8833730000005744, 1.9607810999996218, 2.1288978000002317, 2.470551599999453]\n",
      "\n",
      "\n",
      "Iteration 72 \n",
      "Mutation Rate 0.3 \n",
      "Time for Mutation Rate [1.7145282000001316, 1.2791391999999178, 1.8587009000002581, 2.1779969999997775, 2.561724299999696, 2.419383399999788, 1.837584799999604, 1.5159450000001016, 2.128504499999508, 1.8282649000002493, 1.4731150999996316, 1.2598238000000492, 1.541152200000397, 1.296498700000484, 2.1003067999999985, 2.524274900000819, 2.353934300000219, 2.4767289000001256, 1.3769331000003149, 1.3089595000001282, 1.2522791999999754, 1.9855285000003278, 1.7475039000000834, 1.378364899999724, 1.3950721000001067, 1.314481600000363, 1.6271650999997291, 2.5025087999993048, 1.440078600000561, 1.7659622000001036, 1.6928470000002562, 1.8526808000005985, 1.5403943999999683, 1.699134999999842, 1.398573899999974, 1.9581946999996944, 2.9987836000000243, 2.1363227000001643, 1.740108799999689, 1.3842364000001908, 1.3646749999998065, 1.2934810999995534, 1.3258705999996891, 2.2023643000002266, 2.8706215000001976, 2.6163814000001366, 2.230251199999657, 2.4658331999999064, 1.79070640000009, 1.218112999999903, 1.3343922000003658, 1.3615176000002975, 1.4381690000000162, 2.1633661000005304, 2.1570613000003505, 2.0541855999999825, 1.8261126000006698, 1.5195871999994779, 1.2959522999999535, 1.5248005000003104, 2.1519421000002694, 2.303299799999877, 2.0982869999998, 1.9703865000001315, 1.3918055000003733, 1.3421221999997215, 1.2368511999993643, 1.2268475999999282, 1.8833730000005744, 1.9607810999996218, 2.1288978000002317, 2.470551599999453, 1.934661999999662]\n",
      "\n",
      "\n",
      "Iteration 73 \n",
      "Mutation Rate 0.3 \n",
      "Time for Mutation Rate [1.7145282000001316, 1.2791391999999178, 1.8587009000002581, 2.1779969999997775, 2.561724299999696, 2.419383399999788, 1.837584799999604, 1.5159450000001016, 2.128504499999508, 1.8282649000002493, 1.4731150999996316, 1.2598238000000492, 1.541152200000397, 1.296498700000484, 2.1003067999999985, 2.524274900000819, 2.353934300000219, 2.4767289000001256, 1.3769331000003149, 1.3089595000001282, 1.2522791999999754, 1.9855285000003278, 1.7475039000000834, 1.378364899999724, 1.3950721000001067, 1.314481600000363, 1.6271650999997291, 2.5025087999993048, 1.440078600000561, 1.7659622000001036, 1.6928470000002562, 1.8526808000005985, 1.5403943999999683, 1.699134999999842, 1.398573899999974, 1.9581946999996944, 2.9987836000000243, 2.1363227000001643, 1.740108799999689, 1.3842364000001908, 1.3646749999998065, 1.2934810999995534, 1.3258705999996891, 2.2023643000002266, 2.8706215000001976, 2.6163814000001366, 2.230251199999657, 2.4658331999999064, 1.79070640000009, 1.218112999999903, 1.3343922000003658, 1.3615176000002975, 1.4381690000000162, 2.1633661000005304, 2.1570613000003505, 2.0541855999999825, 1.8261126000006698, 1.5195871999994779, 1.2959522999999535, 1.5248005000003104, 2.1519421000002694, 2.303299799999877, 2.0982869999998, 1.9703865000001315, 1.3918055000003733, 1.3421221999997215, 1.2368511999993643, 1.2268475999999282, 1.8833730000005744, 1.9607810999996218, 2.1288978000002317, 2.470551599999453, 1.934661999999662, 1.3897862000003443]\n",
      "\n",
      "\n",
      "Iteration 74 \n",
      "Mutation Rate 0.3 \n",
      "Time for Mutation Rate [1.7145282000001316, 1.2791391999999178, 1.8587009000002581, 2.1779969999997775, 2.561724299999696, 2.419383399999788, 1.837584799999604, 1.5159450000001016, 2.128504499999508, 1.8282649000002493, 1.4731150999996316, 1.2598238000000492, 1.541152200000397, 1.296498700000484, 2.1003067999999985, 2.524274900000819, 2.353934300000219, 2.4767289000001256, 1.3769331000003149, 1.3089595000001282, 1.2522791999999754, 1.9855285000003278, 1.7475039000000834, 1.378364899999724, 1.3950721000001067, 1.314481600000363, 1.6271650999997291, 2.5025087999993048, 1.440078600000561, 1.7659622000001036, 1.6928470000002562, 1.8526808000005985, 1.5403943999999683, 1.699134999999842, 1.398573899999974, 1.9581946999996944, 2.9987836000000243, 2.1363227000001643, 1.740108799999689, 1.3842364000001908, 1.3646749999998065, 1.2934810999995534, 1.3258705999996891, 2.2023643000002266, 2.8706215000001976, 2.6163814000001366, 2.230251199999657, 2.4658331999999064, 1.79070640000009, 1.218112999999903, 1.3343922000003658, 1.3615176000002975, 1.4381690000000162, 2.1633661000005304, 2.1570613000003505, 2.0541855999999825, 1.8261126000006698, 1.5195871999994779, 1.2959522999999535, 1.5248005000003104, 2.1519421000002694, 2.303299799999877, 2.0982869999998, 1.9703865000001315, 1.3918055000003733, 1.3421221999997215, 1.2368511999993643, 1.2268475999999282, 1.8833730000005744, 1.9607810999996218, 2.1288978000002317, 2.470551599999453, 1.934661999999662, 1.3897862000003443, 1.3733930999997028]\n",
      "\n",
      "\n"
     ]
    },
    {
     "name": "stdout",
     "output_type": "stream",
     "text": [
      "Iteration 75 \n",
      "Mutation Rate 0.3 \n",
      "Time for Mutation Rate [1.7145282000001316, 1.2791391999999178, 1.8587009000002581, 2.1779969999997775, 2.561724299999696, 2.419383399999788, 1.837584799999604, 1.5159450000001016, 2.128504499999508, 1.8282649000002493, 1.4731150999996316, 1.2598238000000492, 1.541152200000397, 1.296498700000484, 2.1003067999999985, 2.524274900000819, 2.353934300000219, 2.4767289000001256, 1.3769331000003149, 1.3089595000001282, 1.2522791999999754, 1.9855285000003278, 1.7475039000000834, 1.378364899999724, 1.3950721000001067, 1.314481600000363, 1.6271650999997291, 2.5025087999993048, 1.440078600000561, 1.7659622000001036, 1.6928470000002562, 1.8526808000005985, 1.5403943999999683, 1.699134999999842, 1.398573899999974, 1.9581946999996944, 2.9987836000000243, 2.1363227000001643, 1.740108799999689, 1.3842364000001908, 1.3646749999998065, 1.2934810999995534, 1.3258705999996891, 2.2023643000002266, 2.8706215000001976, 2.6163814000001366, 2.230251199999657, 2.4658331999999064, 1.79070640000009, 1.218112999999903, 1.3343922000003658, 1.3615176000002975, 1.4381690000000162, 2.1633661000005304, 2.1570613000003505, 2.0541855999999825, 1.8261126000006698, 1.5195871999994779, 1.2959522999999535, 1.5248005000003104, 2.1519421000002694, 2.303299799999877, 2.0982869999998, 1.9703865000001315, 1.3918055000003733, 1.3421221999997215, 1.2368511999993643, 1.2268475999999282, 1.8833730000005744, 1.9607810999996218, 2.1288978000002317, 2.470551599999453, 1.934661999999662, 1.3897862000003443, 1.3733930999997028, 1.3002745000003415]\n",
      "\n",
      "\n",
      "Iteration 76 \n",
      "Mutation Rate 0.3 \n",
      "Time for Mutation Rate [1.7145282000001316, 1.2791391999999178, 1.8587009000002581, 2.1779969999997775, 2.561724299999696, 2.419383399999788, 1.837584799999604, 1.5159450000001016, 2.128504499999508, 1.8282649000002493, 1.4731150999996316, 1.2598238000000492, 1.541152200000397, 1.296498700000484, 2.1003067999999985, 2.524274900000819, 2.353934300000219, 2.4767289000001256, 1.3769331000003149, 1.3089595000001282, 1.2522791999999754, 1.9855285000003278, 1.7475039000000834, 1.378364899999724, 1.3950721000001067, 1.314481600000363, 1.6271650999997291, 2.5025087999993048, 1.440078600000561, 1.7659622000001036, 1.6928470000002562, 1.8526808000005985, 1.5403943999999683, 1.699134999999842, 1.398573899999974, 1.9581946999996944, 2.9987836000000243, 2.1363227000001643, 1.740108799999689, 1.3842364000001908, 1.3646749999998065, 1.2934810999995534, 1.3258705999996891, 2.2023643000002266, 2.8706215000001976, 2.6163814000001366, 2.230251199999657, 2.4658331999999064, 1.79070640000009, 1.218112999999903, 1.3343922000003658, 1.3615176000002975, 1.4381690000000162, 2.1633661000005304, 2.1570613000003505, 2.0541855999999825, 1.8261126000006698, 1.5195871999994779, 1.2959522999999535, 1.5248005000003104, 2.1519421000002694, 2.303299799999877, 2.0982869999998, 1.9703865000001315, 1.3918055000003733, 1.3421221999997215, 1.2368511999993643, 1.2268475999999282, 1.8833730000005744, 1.9607810999996218, 2.1288978000002317, 2.470551599999453, 1.934661999999662, 1.3897862000003443, 1.3733930999997028, 1.3002745000003415, 1.2524057999999059]\n",
      "\n",
      "\n",
      "Iteration 77 \n",
      "Mutation Rate 0.3 \n",
      "Time for Mutation Rate [1.7145282000001316, 1.2791391999999178, 1.8587009000002581, 2.1779969999997775, 2.561724299999696, 2.419383399999788, 1.837584799999604, 1.5159450000001016, 2.128504499999508, 1.8282649000002493, 1.4731150999996316, 1.2598238000000492, 1.541152200000397, 1.296498700000484, 2.1003067999999985, 2.524274900000819, 2.353934300000219, 2.4767289000001256, 1.3769331000003149, 1.3089595000001282, 1.2522791999999754, 1.9855285000003278, 1.7475039000000834, 1.378364899999724, 1.3950721000001067, 1.314481600000363, 1.6271650999997291, 2.5025087999993048, 1.440078600000561, 1.7659622000001036, 1.6928470000002562, 1.8526808000005985, 1.5403943999999683, 1.699134999999842, 1.398573899999974, 1.9581946999996944, 2.9987836000000243, 2.1363227000001643, 1.740108799999689, 1.3842364000001908, 1.3646749999998065, 1.2934810999995534, 1.3258705999996891, 2.2023643000002266, 2.8706215000001976, 2.6163814000001366, 2.230251199999657, 2.4658331999999064, 1.79070640000009, 1.218112999999903, 1.3343922000003658, 1.3615176000002975, 1.4381690000000162, 2.1633661000005304, 2.1570613000003505, 2.0541855999999825, 1.8261126000006698, 1.5195871999994779, 1.2959522999999535, 1.5248005000003104, 2.1519421000002694, 2.303299799999877, 2.0982869999998, 1.9703865000001315, 1.3918055000003733, 1.3421221999997215, 1.2368511999993643, 1.2268475999999282, 1.8833730000005744, 1.9607810999996218, 2.1288978000002317, 2.470551599999453, 1.934661999999662, 1.3897862000003443, 1.3733930999997028, 1.3002745000003415, 1.2524057999999059, 2.044659700000011]\n",
      "\n",
      "\n",
      "Iteration 78 \n",
      "Mutation Rate 0.3 \n",
      "Time for Mutation Rate [1.7145282000001316, 1.2791391999999178, 1.8587009000002581, 2.1779969999997775, 2.561724299999696, 2.419383399999788, 1.837584799999604, 1.5159450000001016, 2.128504499999508, 1.8282649000002493, 1.4731150999996316, 1.2598238000000492, 1.541152200000397, 1.296498700000484, 2.1003067999999985, 2.524274900000819, 2.353934300000219, 2.4767289000001256, 1.3769331000003149, 1.3089595000001282, 1.2522791999999754, 1.9855285000003278, 1.7475039000000834, 1.378364899999724, 1.3950721000001067, 1.314481600000363, 1.6271650999997291, 2.5025087999993048, 1.440078600000561, 1.7659622000001036, 1.6928470000002562, 1.8526808000005985, 1.5403943999999683, 1.699134999999842, 1.398573899999974, 1.9581946999996944, 2.9987836000000243, 2.1363227000001643, 1.740108799999689, 1.3842364000001908, 1.3646749999998065, 1.2934810999995534, 1.3258705999996891, 2.2023643000002266, 2.8706215000001976, 2.6163814000001366, 2.230251199999657, 2.4658331999999064, 1.79070640000009, 1.218112999999903, 1.3343922000003658, 1.3615176000002975, 1.4381690000000162, 2.1633661000005304, 2.1570613000003505, 2.0541855999999825, 1.8261126000006698, 1.5195871999994779, 1.2959522999999535, 1.5248005000003104, 2.1519421000002694, 2.303299799999877, 2.0982869999998, 1.9703865000001315, 1.3918055000003733, 1.3421221999997215, 1.2368511999993643, 1.2268475999999282, 1.8833730000005744, 1.9607810999996218, 2.1288978000002317, 2.470551599999453, 1.934661999999662, 1.3897862000003443, 1.3733930999997028, 1.3002745000003415, 1.2524057999999059, 2.044659700000011, 2.1790295999999216]\n",
      "\n",
      "\n",
      "Iteration 79 \n",
      "Mutation Rate 0.3 \n",
      "Time for Mutation Rate [1.7145282000001316, 1.2791391999999178, 1.8587009000002581, 2.1779969999997775, 2.561724299999696, 2.419383399999788, 1.837584799999604, 1.5159450000001016, 2.128504499999508, 1.8282649000002493, 1.4731150999996316, 1.2598238000000492, 1.541152200000397, 1.296498700000484, 2.1003067999999985, 2.524274900000819, 2.353934300000219, 2.4767289000001256, 1.3769331000003149, 1.3089595000001282, 1.2522791999999754, 1.9855285000003278, 1.7475039000000834, 1.378364899999724, 1.3950721000001067, 1.314481600000363, 1.6271650999997291, 2.5025087999993048, 1.440078600000561, 1.7659622000001036, 1.6928470000002562, 1.8526808000005985, 1.5403943999999683, 1.699134999999842, 1.398573899999974, 1.9581946999996944, 2.9987836000000243, 2.1363227000001643, 1.740108799999689, 1.3842364000001908, 1.3646749999998065, 1.2934810999995534, 1.3258705999996891, 2.2023643000002266, 2.8706215000001976, 2.6163814000001366, 2.230251199999657, 2.4658331999999064, 1.79070640000009, 1.218112999999903, 1.3343922000003658, 1.3615176000002975, 1.4381690000000162, 2.1633661000005304, 2.1570613000003505, 2.0541855999999825, 1.8261126000006698, 1.5195871999994779, 1.2959522999999535, 1.5248005000003104, 2.1519421000002694, 2.303299799999877, 2.0982869999998, 1.9703865000001315, 1.3918055000003733, 1.3421221999997215, 1.2368511999993643, 1.2268475999999282, 1.8833730000005744, 1.9607810999996218, 2.1288978000002317, 2.470551599999453, 1.934661999999662, 1.3897862000003443, 1.3733930999997028, 1.3002745000003415, 1.2524057999999059, 2.044659700000011, 2.1790295999999216, 2.08741689999988]\n",
      "\n",
      "\n",
      "Iteration 80 \n",
      "Mutation Rate 0.3 \n",
      "Time for Mutation Rate [1.7145282000001316, 1.2791391999999178, 1.8587009000002581, 2.1779969999997775, 2.561724299999696, 2.419383399999788, 1.837584799999604, 1.5159450000001016, 2.128504499999508, 1.8282649000002493, 1.4731150999996316, 1.2598238000000492, 1.541152200000397, 1.296498700000484, 2.1003067999999985, 2.524274900000819, 2.353934300000219, 2.4767289000001256, 1.3769331000003149, 1.3089595000001282, 1.2522791999999754, 1.9855285000003278, 1.7475039000000834, 1.378364899999724, 1.3950721000001067, 1.314481600000363, 1.6271650999997291, 2.5025087999993048, 1.440078600000561, 1.7659622000001036, 1.6928470000002562, 1.8526808000005985, 1.5403943999999683, 1.699134999999842, 1.398573899999974, 1.9581946999996944, 2.9987836000000243, 2.1363227000001643, 1.740108799999689, 1.3842364000001908, 1.3646749999998065, 1.2934810999995534, 1.3258705999996891, 2.2023643000002266, 2.8706215000001976, 2.6163814000001366, 2.230251199999657, 2.4658331999999064, 1.79070640000009, 1.218112999999903, 1.3343922000003658, 1.3615176000002975, 1.4381690000000162, 2.1633661000005304, 2.1570613000003505, 2.0541855999999825, 1.8261126000006698, 1.5195871999994779, 1.2959522999999535, 1.5248005000003104, 2.1519421000002694, 2.303299799999877, 2.0982869999998, 1.9703865000001315, 1.3918055000003733, 1.3421221999997215, 1.2368511999993643, 1.2268475999999282, 1.8833730000005744, 1.9607810999996218, 2.1288978000002317, 2.470551599999453, 1.934661999999662, 1.3897862000003443, 1.3733930999997028, 1.3002745000003415, 1.2524057999999059, 2.044659700000011, 2.1790295999999216, 2.08741689999988, 2.369110499999806]\n",
      "\n",
      "\n"
     ]
    },
    {
     "name": "stdout",
     "output_type": "stream",
     "text": [
      "Iteration 81 \n",
      "Mutation Rate 0.3 \n",
      "Time for Mutation Rate [1.7145282000001316, 1.2791391999999178, 1.8587009000002581, 2.1779969999997775, 2.561724299999696, 2.419383399999788, 1.837584799999604, 1.5159450000001016, 2.128504499999508, 1.8282649000002493, 1.4731150999996316, 1.2598238000000492, 1.541152200000397, 1.296498700000484, 2.1003067999999985, 2.524274900000819, 2.353934300000219, 2.4767289000001256, 1.3769331000003149, 1.3089595000001282, 1.2522791999999754, 1.9855285000003278, 1.7475039000000834, 1.378364899999724, 1.3950721000001067, 1.314481600000363, 1.6271650999997291, 2.5025087999993048, 1.440078600000561, 1.7659622000001036, 1.6928470000002562, 1.8526808000005985, 1.5403943999999683, 1.699134999999842, 1.398573899999974, 1.9581946999996944, 2.9987836000000243, 2.1363227000001643, 1.740108799999689, 1.3842364000001908, 1.3646749999998065, 1.2934810999995534, 1.3258705999996891, 2.2023643000002266, 2.8706215000001976, 2.6163814000001366, 2.230251199999657, 2.4658331999999064, 1.79070640000009, 1.218112999999903, 1.3343922000003658, 1.3615176000002975, 1.4381690000000162, 2.1633661000005304, 2.1570613000003505, 2.0541855999999825, 1.8261126000006698, 1.5195871999994779, 1.2959522999999535, 1.5248005000003104, 2.1519421000002694, 2.303299799999877, 2.0982869999998, 1.9703865000001315, 1.3918055000003733, 1.3421221999997215, 1.2368511999993643, 1.2268475999999282, 1.8833730000005744, 1.9607810999996218, 2.1288978000002317, 2.470551599999453, 1.934661999999662, 1.3897862000003443, 1.3733930999997028, 1.3002745000003415, 1.2524057999999059, 2.044659700000011, 2.1790295999999216, 2.08741689999988, 2.369110499999806, 1.3785869000003004]\n",
      "\n",
      "\n",
      "Iteration 82 \n",
      "Mutation Rate 0.3 \n",
      "Time for Mutation Rate [1.7145282000001316, 1.2791391999999178, 1.8587009000002581, 2.1779969999997775, 2.561724299999696, 2.419383399999788, 1.837584799999604, 1.5159450000001016, 2.128504499999508, 1.8282649000002493, 1.4731150999996316, 1.2598238000000492, 1.541152200000397, 1.296498700000484, 2.1003067999999985, 2.524274900000819, 2.353934300000219, 2.4767289000001256, 1.3769331000003149, 1.3089595000001282, 1.2522791999999754, 1.9855285000003278, 1.7475039000000834, 1.378364899999724, 1.3950721000001067, 1.314481600000363, 1.6271650999997291, 2.5025087999993048, 1.440078600000561, 1.7659622000001036, 1.6928470000002562, 1.8526808000005985, 1.5403943999999683, 1.699134999999842, 1.398573899999974, 1.9581946999996944, 2.9987836000000243, 2.1363227000001643, 1.740108799999689, 1.3842364000001908, 1.3646749999998065, 1.2934810999995534, 1.3258705999996891, 2.2023643000002266, 2.8706215000001976, 2.6163814000001366, 2.230251199999657, 2.4658331999999064, 1.79070640000009, 1.218112999999903, 1.3343922000003658, 1.3615176000002975, 1.4381690000000162, 2.1633661000005304, 2.1570613000003505, 2.0541855999999825, 1.8261126000006698, 1.5195871999994779, 1.2959522999999535, 1.5248005000003104, 2.1519421000002694, 2.303299799999877, 2.0982869999998, 1.9703865000001315, 1.3918055000003733, 1.3421221999997215, 1.2368511999993643, 1.2268475999999282, 1.8833730000005744, 1.9607810999996218, 2.1288978000002317, 2.470551599999453, 1.934661999999662, 1.3897862000003443, 1.3733930999997028, 1.3002745000003415, 1.2524057999999059, 2.044659700000011, 2.1790295999999216, 2.08741689999988, 2.369110499999806, 1.3785869000003004, 1.2708484000004319]\n",
      "\n",
      "\n",
      "Iteration 83 \n",
      "Mutation Rate 0.3 \n",
      "Time for Mutation Rate [1.7145282000001316, 1.2791391999999178, 1.8587009000002581, 2.1779969999997775, 2.561724299999696, 2.419383399999788, 1.837584799999604, 1.5159450000001016, 2.128504499999508, 1.8282649000002493, 1.4731150999996316, 1.2598238000000492, 1.541152200000397, 1.296498700000484, 2.1003067999999985, 2.524274900000819, 2.353934300000219, 2.4767289000001256, 1.3769331000003149, 1.3089595000001282, 1.2522791999999754, 1.9855285000003278, 1.7475039000000834, 1.378364899999724, 1.3950721000001067, 1.314481600000363, 1.6271650999997291, 2.5025087999993048, 1.440078600000561, 1.7659622000001036, 1.6928470000002562, 1.8526808000005985, 1.5403943999999683, 1.699134999999842, 1.398573899999974, 1.9581946999996944, 2.9987836000000243, 2.1363227000001643, 1.740108799999689, 1.3842364000001908, 1.3646749999998065, 1.2934810999995534, 1.3258705999996891, 2.2023643000002266, 2.8706215000001976, 2.6163814000001366, 2.230251199999657, 2.4658331999999064, 1.79070640000009, 1.218112999999903, 1.3343922000003658, 1.3615176000002975, 1.4381690000000162, 2.1633661000005304, 2.1570613000003505, 2.0541855999999825, 1.8261126000006698, 1.5195871999994779, 1.2959522999999535, 1.5248005000003104, 2.1519421000002694, 2.303299799999877, 2.0982869999998, 1.9703865000001315, 1.3918055000003733, 1.3421221999997215, 1.2368511999993643, 1.2268475999999282, 1.8833730000005744, 1.9607810999996218, 2.1288978000002317, 2.470551599999453, 1.934661999999662, 1.3897862000003443, 1.3733930999997028, 1.3002745000003415, 1.2524057999999059, 2.044659700000011, 2.1790295999999216, 2.08741689999988, 2.369110499999806, 1.3785869000003004, 1.2708484000004319, 1.452448000000004]\n",
      "\n",
      "\n",
      "Iteration 84 \n",
      "Mutation Rate 0.3 \n",
      "Time for Mutation Rate [1.7145282000001316, 1.2791391999999178, 1.8587009000002581, 2.1779969999997775, 2.561724299999696, 2.419383399999788, 1.837584799999604, 1.5159450000001016, 2.128504499999508, 1.8282649000002493, 1.4731150999996316, 1.2598238000000492, 1.541152200000397, 1.296498700000484, 2.1003067999999985, 2.524274900000819, 2.353934300000219, 2.4767289000001256, 1.3769331000003149, 1.3089595000001282, 1.2522791999999754, 1.9855285000003278, 1.7475039000000834, 1.378364899999724, 1.3950721000001067, 1.314481600000363, 1.6271650999997291, 2.5025087999993048, 1.440078600000561, 1.7659622000001036, 1.6928470000002562, 1.8526808000005985, 1.5403943999999683, 1.699134999999842, 1.398573899999974, 1.9581946999996944, 2.9987836000000243, 2.1363227000001643, 1.740108799999689, 1.3842364000001908, 1.3646749999998065, 1.2934810999995534, 1.3258705999996891, 2.2023643000002266, 2.8706215000001976, 2.6163814000001366, 2.230251199999657, 2.4658331999999064, 1.79070640000009, 1.218112999999903, 1.3343922000003658, 1.3615176000002975, 1.4381690000000162, 2.1633661000005304, 2.1570613000003505, 2.0541855999999825, 1.8261126000006698, 1.5195871999994779, 1.2959522999999535, 1.5248005000003104, 2.1519421000002694, 2.303299799999877, 2.0982869999998, 1.9703865000001315, 1.3918055000003733, 1.3421221999997215, 1.2368511999993643, 1.2268475999999282, 1.8833730000005744, 1.9607810999996218, 2.1288978000002317, 2.470551599999453, 1.934661999999662, 1.3897862000003443, 1.3733930999997028, 1.3002745000003415, 1.2524057999999059, 2.044659700000011, 2.1790295999999216, 2.08741689999988, 2.369110499999806, 1.3785869000003004, 1.2708484000004319, 1.452448000000004, 2.0971816999999646]\n",
      "\n",
      "\n",
      "Iteration 85 \n",
      "Mutation Rate 0.3 \n",
      "Time for Mutation Rate [1.7145282000001316, 1.2791391999999178, 1.8587009000002581, 2.1779969999997775, 2.561724299999696, 2.419383399999788, 1.837584799999604, 1.5159450000001016, 2.128504499999508, 1.8282649000002493, 1.4731150999996316, 1.2598238000000492, 1.541152200000397, 1.296498700000484, 2.1003067999999985, 2.524274900000819, 2.353934300000219, 2.4767289000001256, 1.3769331000003149, 1.3089595000001282, 1.2522791999999754, 1.9855285000003278, 1.7475039000000834, 1.378364899999724, 1.3950721000001067, 1.314481600000363, 1.6271650999997291, 2.5025087999993048, 1.440078600000561, 1.7659622000001036, 1.6928470000002562, 1.8526808000005985, 1.5403943999999683, 1.699134999999842, 1.398573899999974, 1.9581946999996944, 2.9987836000000243, 2.1363227000001643, 1.740108799999689, 1.3842364000001908, 1.3646749999998065, 1.2934810999995534, 1.3258705999996891, 2.2023643000002266, 2.8706215000001976, 2.6163814000001366, 2.230251199999657, 2.4658331999999064, 1.79070640000009, 1.218112999999903, 1.3343922000003658, 1.3615176000002975, 1.4381690000000162, 2.1633661000005304, 2.1570613000003505, 2.0541855999999825, 1.8261126000006698, 1.5195871999994779, 1.2959522999999535, 1.5248005000003104, 2.1519421000002694, 2.303299799999877, 2.0982869999998, 1.9703865000001315, 1.3918055000003733, 1.3421221999997215, 1.2368511999993643, 1.2268475999999282, 1.8833730000005744, 1.9607810999996218, 2.1288978000002317, 2.470551599999453, 1.934661999999662, 1.3897862000003443, 1.3733930999997028, 1.3002745000003415, 1.2524057999999059, 2.044659700000011, 2.1790295999999216, 2.08741689999988, 2.369110499999806, 1.3785869000003004, 1.2708484000004319, 1.452448000000004, 2.0971816999999646, 2.0577519999997094]\n",
      "\n",
      "\n"
     ]
    },
    {
     "name": "stdout",
     "output_type": "stream",
     "text": [
      "Iteration 86 \n",
      "Mutation Rate 0.3 \n",
      "Time for Mutation Rate [1.7145282000001316, 1.2791391999999178, 1.8587009000002581, 2.1779969999997775, 2.561724299999696, 2.419383399999788, 1.837584799999604, 1.5159450000001016, 2.128504499999508, 1.8282649000002493, 1.4731150999996316, 1.2598238000000492, 1.541152200000397, 1.296498700000484, 2.1003067999999985, 2.524274900000819, 2.353934300000219, 2.4767289000001256, 1.3769331000003149, 1.3089595000001282, 1.2522791999999754, 1.9855285000003278, 1.7475039000000834, 1.378364899999724, 1.3950721000001067, 1.314481600000363, 1.6271650999997291, 2.5025087999993048, 1.440078600000561, 1.7659622000001036, 1.6928470000002562, 1.8526808000005985, 1.5403943999999683, 1.699134999999842, 1.398573899999974, 1.9581946999996944, 2.9987836000000243, 2.1363227000001643, 1.740108799999689, 1.3842364000001908, 1.3646749999998065, 1.2934810999995534, 1.3258705999996891, 2.2023643000002266, 2.8706215000001976, 2.6163814000001366, 2.230251199999657, 2.4658331999999064, 1.79070640000009, 1.218112999999903, 1.3343922000003658, 1.3615176000002975, 1.4381690000000162, 2.1633661000005304, 2.1570613000003505, 2.0541855999999825, 1.8261126000006698, 1.5195871999994779, 1.2959522999999535, 1.5248005000003104, 2.1519421000002694, 2.303299799999877, 2.0982869999998, 1.9703865000001315, 1.3918055000003733, 1.3421221999997215, 1.2368511999993643, 1.2268475999999282, 1.8833730000005744, 1.9607810999996218, 2.1288978000002317, 2.470551599999453, 1.934661999999662, 1.3897862000003443, 1.3733930999997028, 1.3002745000003415, 1.2524057999999059, 2.044659700000011, 2.1790295999999216, 2.08741689999988, 2.369110499999806, 1.3785869000003004, 1.2708484000004319, 1.452448000000004, 2.0971816999999646, 2.0577519999997094, 2.1869154000005437]\n",
      "\n",
      "\n",
      "Iteration 87 \n",
      "Mutation Rate 0.3 \n",
      "Time for Mutation Rate [1.7145282000001316, 1.2791391999999178, 1.8587009000002581, 2.1779969999997775, 2.561724299999696, 2.419383399999788, 1.837584799999604, 1.5159450000001016, 2.128504499999508, 1.8282649000002493, 1.4731150999996316, 1.2598238000000492, 1.541152200000397, 1.296498700000484, 2.1003067999999985, 2.524274900000819, 2.353934300000219, 2.4767289000001256, 1.3769331000003149, 1.3089595000001282, 1.2522791999999754, 1.9855285000003278, 1.7475039000000834, 1.378364899999724, 1.3950721000001067, 1.314481600000363, 1.6271650999997291, 2.5025087999993048, 1.440078600000561, 1.7659622000001036, 1.6928470000002562, 1.8526808000005985, 1.5403943999999683, 1.699134999999842, 1.398573899999974, 1.9581946999996944, 2.9987836000000243, 2.1363227000001643, 1.740108799999689, 1.3842364000001908, 1.3646749999998065, 1.2934810999995534, 1.3258705999996891, 2.2023643000002266, 2.8706215000001976, 2.6163814000001366, 2.230251199999657, 2.4658331999999064, 1.79070640000009, 1.218112999999903, 1.3343922000003658, 1.3615176000002975, 1.4381690000000162, 2.1633661000005304, 2.1570613000003505, 2.0541855999999825, 1.8261126000006698, 1.5195871999994779, 1.2959522999999535, 1.5248005000003104, 2.1519421000002694, 2.303299799999877, 2.0982869999998, 1.9703865000001315, 1.3918055000003733, 1.3421221999997215, 1.2368511999993643, 1.2268475999999282, 1.8833730000005744, 1.9607810999996218, 2.1288978000002317, 2.470551599999453, 1.934661999999662, 1.3897862000003443, 1.3733930999997028, 1.3002745000003415, 1.2524057999999059, 2.044659700000011, 2.1790295999999216, 2.08741689999988, 2.369110499999806, 1.3785869000003004, 1.2708484000004319, 1.452448000000004, 2.0971816999999646, 2.0577519999997094, 2.1869154000005437, 1.926901099999668]\n",
      "\n",
      "\n",
      "Iteration 88 \n",
      "Mutation Rate 0.3 \n",
      "Time for Mutation Rate [1.7145282000001316, 1.2791391999999178, 1.8587009000002581, 2.1779969999997775, 2.561724299999696, 2.419383399999788, 1.837584799999604, 1.5159450000001016, 2.128504499999508, 1.8282649000002493, 1.4731150999996316, 1.2598238000000492, 1.541152200000397, 1.296498700000484, 2.1003067999999985, 2.524274900000819, 2.353934300000219, 2.4767289000001256, 1.3769331000003149, 1.3089595000001282, 1.2522791999999754, 1.9855285000003278, 1.7475039000000834, 1.378364899999724, 1.3950721000001067, 1.314481600000363, 1.6271650999997291, 2.5025087999993048, 1.440078600000561, 1.7659622000001036, 1.6928470000002562, 1.8526808000005985, 1.5403943999999683, 1.699134999999842, 1.398573899999974, 1.9581946999996944, 2.9987836000000243, 2.1363227000001643, 1.740108799999689, 1.3842364000001908, 1.3646749999998065, 1.2934810999995534, 1.3258705999996891, 2.2023643000002266, 2.8706215000001976, 2.6163814000001366, 2.230251199999657, 2.4658331999999064, 1.79070640000009, 1.218112999999903, 1.3343922000003658, 1.3615176000002975, 1.4381690000000162, 2.1633661000005304, 2.1570613000003505, 2.0541855999999825, 1.8261126000006698, 1.5195871999994779, 1.2959522999999535, 1.5248005000003104, 2.1519421000002694, 2.303299799999877, 2.0982869999998, 1.9703865000001315, 1.3918055000003733, 1.3421221999997215, 1.2368511999993643, 1.2268475999999282, 1.8833730000005744, 1.9607810999996218, 2.1288978000002317, 2.470551599999453, 1.934661999999662, 1.3897862000003443, 1.3733930999997028, 1.3002745000003415, 1.2524057999999059, 2.044659700000011, 2.1790295999999216, 2.08741689999988, 2.369110499999806, 1.3785869000003004, 1.2708484000004319, 1.452448000000004, 2.0971816999999646, 2.0577519999997094, 2.1869154000005437, 1.926901099999668, 1.7430135999993581]\n",
      "\n",
      "\n",
      "Iteration 89 \n",
      "Mutation Rate 0.3 \n",
      "Time for Mutation Rate [1.7145282000001316, 1.2791391999999178, 1.8587009000002581, 2.1779969999997775, 2.561724299999696, 2.419383399999788, 1.837584799999604, 1.5159450000001016, 2.128504499999508, 1.8282649000002493, 1.4731150999996316, 1.2598238000000492, 1.541152200000397, 1.296498700000484, 2.1003067999999985, 2.524274900000819, 2.353934300000219, 2.4767289000001256, 1.3769331000003149, 1.3089595000001282, 1.2522791999999754, 1.9855285000003278, 1.7475039000000834, 1.378364899999724, 1.3950721000001067, 1.314481600000363, 1.6271650999997291, 2.5025087999993048, 1.440078600000561, 1.7659622000001036, 1.6928470000002562, 1.8526808000005985, 1.5403943999999683, 1.699134999999842, 1.398573899999974, 1.9581946999996944, 2.9987836000000243, 2.1363227000001643, 1.740108799999689, 1.3842364000001908, 1.3646749999998065, 1.2934810999995534, 1.3258705999996891, 2.2023643000002266, 2.8706215000001976, 2.6163814000001366, 2.230251199999657, 2.4658331999999064, 1.79070640000009, 1.218112999999903, 1.3343922000003658, 1.3615176000002975, 1.4381690000000162, 2.1633661000005304, 2.1570613000003505, 2.0541855999999825, 1.8261126000006698, 1.5195871999994779, 1.2959522999999535, 1.5248005000003104, 2.1519421000002694, 2.303299799999877, 2.0982869999998, 1.9703865000001315, 1.3918055000003733, 1.3421221999997215, 1.2368511999993643, 1.2268475999999282, 1.8833730000005744, 1.9607810999996218, 2.1288978000002317, 2.470551599999453, 1.934661999999662, 1.3897862000003443, 1.3733930999997028, 1.3002745000003415, 1.2524057999999059, 2.044659700000011, 2.1790295999999216, 2.08741689999988, 2.369110499999806, 1.3785869000003004, 1.2708484000004319, 1.452448000000004, 2.0971816999999646, 2.0577519999997094, 2.1869154000005437, 1.926901099999668, 1.7430135999993581, 1.5367427999999563]\n",
      "\n",
      "\n",
      "Iteration 90 \n",
      "Mutation Rate 0.3 \n",
      "Time for Mutation Rate [1.7145282000001316, 1.2791391999999178, 1.8587009000002581, 2.1779969999997775, 2.561724299999696, 2.419383399999788, 1.837584799999604, 1.5159450000001016, 2.128504499999508, 1.8282649000002493, 1.4731150999996316, 1.2598238000000492, 1.541152200000397, 1.296498700000484, 2.1003067999999985, 2.524274900000819, 2.353934300000219, 2.4767289000001256, 1.3769331000003149, 1.3089595000001282, 1.2522791999999754, 1.9855285000003278, 1.7475039000000834, 1.378364899999724, 1.3950721000001067, 1.314481600000363, 1.6271650999997291, 2.5025087999993048, 1.440078600000561, 1.7659622000001036, 1.6928470000002562, 1.8526808000005985, 1.5403943999999683, 1.699134999999842, 1.398573899999974, 1.9581946999996944, 2.9987836000000243, 2.1363227000001643, 1.740108799999689, 1.3842364000001908, 1.3646749999998065, 1.2934810999995534, 1.3258705999996891, 2.2023643000002266, 2.8706215000001976, 2.6163814000001366, 2.230251199999657, 2.4658331999999064, 1.79070640000009, 1.218112999999903, 1.3343922000003658, 1.3615176000002975, 1.4381690000000162, 2.1633661000005304, 2.1570613000003505, 2.0541855999999825, 1.8261126000006698, 1.5195871999994779, 1.2959522999999535, 1.5248005000003104, 2.1519421000002694, 2.303299799999877, 2.0982869999998, 1.9703865000001315, 1.3918055000003733, 1.3421221999997215, 1.2368511999993643, 1.2268475999999282, 1.8833730000005744, 1.9607810999996218, 2.1288978000002317, 2.470551599999453, 1.934661999999662, 1.3897862000003443, 1.3733930999997028, 1.3002745000003415, 1.2524057999999059, 2.044659700000011, 2.1790295999999216, 2.08741689999988, 2.369110499999806, 1.3785869000003004, 1.2708484000004319, 1.452448000000004, 2.0971816999999646, 2.0577519999997094, 2.1869154000005437, 1.926901099999668, 1.7430135999993581, 1.5367427999999563, 1.2828778000002785]\n",
      "\n",
      "\n"
     ]
    },
    {
     "name": "stdout",
     "output_type": "stream",
     "text": [
      "Iteration 91 \n",
      "Mutation Rate 0.3 \n",
      "Time for Mutation Rate [1.7145282000001316, 1.2791391999999178, 1.8587009000002581, 2.1779969999997775, 2.561724299999696, 2.419383399999788, 1.837584799999604, 1.5159450000001016, 2.128504499999508, 1.8282649000002493, 1.4731150999996316, 1.2598238000000492, 1.541152200000397, 1.296498700000484, 2.1003067999999985, 2.524274900000819, 2.353934300000219, 2.4767289000001256, 1.3769331000003149, 1.3089595000001282, 1.2522791999999754, 1.9855285000003278, 1.7475039000000834, 1.378364899999724, 1.3950721000001067, 1.314481600000363, 1.6271650999997291, 2.5025087999993048, 1.440078600000561, 1.7659622000001036, 1.6928470000002562, 1.8526808000005985, 1.5403943999999683, 1.699134999999842, 1.398573899999974, 1.9581946999996944, 2.9987836000000243, 2.1363227000001643, 1.740108799999689, 1.3842364000001908, 1.3646749999998065, 1.2934810999995534, 1.3258705999996891, 2.2023643000002266, 2.8706215000001976, 2.6163814000001366, 2.230251199999657, 2.4658331999999064, 1.79070640000009, 1.218112999999903, 1.3343922000003658, 1.3615176000002975, 1.4381690000000162, 2.1633661000005304, 2.1570613000003505, 2.0541855999999825, 1.8261126000006698, 1.5195871999994779, 1.2959522999999535, 1.5248005000003104, 2.1519421000002694, 2.303299799999877, 2.0982869999998, 1.9703865000001315, 1.3918055000003733, 1.3421221999997215, 1.2368511999993643, 1.2268475999999282, 1.8833730000005744, 1.9607810999996218, 2.1288978000002317, 2.470551599999453, 1.934661999999662, 1.3897862000003443, 1.3733930999997028, 1.3002745000003415, 1.2524057999999059, 2.044659700000011, 2.1790295999999216, 2.08741689999988, 2.369110499999806, 1.3785869000003004, 1.2708484000004319, 1.452448000000004, 2.0971816999999646, 2.0577519999997094, 2.1869154000005437, 1.926901099999668, 1.7430135999993581, 1.5367427999999563, 1.2828778000002785, 1.2462531999999555]\n",
      "\n",
      "\n",
      "Iteration 92 \n",
      "Mutation Rate 0.3 \n",
      "Time for Mutation Rate [1.7145282000001316, 1.2791391999999178, 1.8587009000002581, 2.1779969999997775, 2.561724299999696, 2.419383399999788, 1.837584799999604, 1.5159450000001016, 2.128504499999508, 1.8282649000002493, 1.4731150999996316, 1.2598238000000492, 1.541152200000397, 1.296498700000484, 2.1003067999999985, 2.524274900000819, 2.353934300000219, 2.4767289000001256, 1.3769331000003149, 1.3089595000001282, 1.2522791999999754, 1.9855285000003278, 1.7475039000000834, 1.378364899999724, 1.3950721000001067, 1.314481600000363, 1.6271650999997291, 2.5025087999993048, 1.440078600000561, 1.7659622000001036, 1.6928470000002562, 1.8526808000005985, 1.5403943999999683, 1.699134999999842, 1.398573899999974, 1.9581946999996944, 2.9987836000000243, 2.1363227000001643, 1.740108799999689, 1.3842364000001908, 1.3646749999998065, 1.2934810999995534, 1.3258705999996891, 2.2023643000002266, 2.8706215000001976, 2.6163814000001366, 2.230251199999657, 2.4658331999999064, 1.79070640000009, 1.218112999999903, 1.3343922000003658, 1.3615176000002975, 1.4381690000000162, 2.1633661000005304, 2.1570613000003505, 2.0541855999999825, 1.8261126000006698, 1.5195871999994779, 1.2959522999999535, 1.5248005000003104, 2.1519421000002694, 2.303299799999877, 2.0982869999998, 1.9703865000001315, 1.3918055000003733, 1.3421221999997215, 1.2368511999993643, 1.2268475999999282, 1.8833730000005744, 1.9607810999996218, 2.1288978000002317, 2.470551599999453, 1.934661999999662, 1.3897862000003443, 1.3733930999997028, 1.3002745000003415, 1.2524057999999059, 2.044659700000011, 2.1790295999999216, 2.08741689999988, 2.369110499999806, 1.3785869000003004, 1.2708484000004319, 1.452448000000004, 2.0971816999999646, 2.0577519999997094, 2.1869154000005437, 1.926901099999668, 1.7430135999993581, 1.5367427999999563, 1.2828778000002785, 1.2462531999999555, 1.2086411999998745]\n",
      "\n",
      "\n",
      "Iteration 93 \n",
      "Mutation Rate 0.3 \n",
      "Time for Mutation Rate [1.7145282000001316, 1.2791391999999178, 1.8587009000002581, 2.1779969999997775, 2.561724299999696, 2.419383399999788, 1.837584799999604, 1.5159450000001016, 2.128504499999508, 1.8282649000002493, 1.4731150999996316, 1.2598238000000492, 1.541152200000397, 1.296498700000484, 2.1003067999999985, 2.524274900000819, 2.353934300000219, 2.4767289000001256, 1.3769331000003149, 1.3089595000001282, 1.2522791999999754, 1.9855285000003278, 1.7475039000000834, 1.378364899999724, 1.3950721000001067, 1.314481600000363, 1.6271650999997291, 2.5025087999993048, 1.440078600000561, 1.7659622000001036, 1.6928470000002562, 1.8526808000005985, 1.5403943999999683, 1.699134999999842, 1.398573899999974, 1.9581946999996944, 2.9987836000000243, 2.1363227000001643, 1.740108799999689, 1.3842364000001908, 1.3646749999998065, 1.2934810999995534, 1.3258705999996891, 2.2023643000002266, 2.8706215000001976, 2.6163814000001366, 2.230251199999657, 2.4658331999999064, 1.79070640000009, 1.218112999999903, 1.3343922000003658, 1.3615176000002975, 1.4381690000000162, 2.1633661000005304, 2.1570613000003505, 2.0541855999999825, 1.8261126000006698, 1.5195871999994779, 1.2959522999999535, 1.5248005000003104, 2.1519421000002694, 2.303299799999877, 2.0982869999998, 1.9703865000001315, 1.3918055000003733, 1.3421221999997215, 1.2368511999993643, 1.2268475999999282, 1.8833730000005744, 1.9607810999996218, 2.1288978000002317, 2.470551599999453, 1.934661999999662, 1.3897862000003443, 1.3733930999997028, 1.3002745000003415, 1.2524057999999059, 2.044659700000011, 2.1790295999999216, 2.08741689999988, 2.369110499999806, 1.3785869000003004, 1.2708484000004319, 1.452448000000004, 2.0971816999999646, 2.0577519999997094, 2.1869154000005437, 1.926901099999668, 1.7430135999993581, 1.5367427999999563, 1.2828778000002785, 1.2462531999999555, 1.2086411999998745, 1.2279020999994827]\n",
      "\n",
      "\n",
      "Iteration 94 \n",
      "Mutation Rate 0.3 \n",
      "Time for Mutation Rate [1.7145282000001316, 1.2791391999999178, 1.8587009000002581, 2.1779969999997775, 2.561724299999696, 2.419383399999788, 1.837584799999604, 1.5159450000001016, 2.128504499999508, 1.8282649000002493, 1.4731150999996316, 1.2598238000000492, 1.541152200000397, 1.296498700000484, 2.1003067999999985, 2.524274900000819, 2.353934300000219, 2.4767289000001256, 1.3769331000003149, 1.3089595000001282, 1.2522791999999754, 1.9855285000003278, 1.7475039000000834, 1.378364899999724, 1.3950721000001067, 1.314481600000363, 1.6271650999997291, 2.5025087999993048, 1.440078600000561, 1.7659622000001036, 1.6928470000002562, 1.8526808000005985, 1.5403943999999683, 1.699134999999842, 1.398573899999974, 1.9581946999996944, 2.9987836000000243, 2.1363227000001643, 1.740108799999689, 1.3842364000001908, 1.3646749999998065, 1.2934810999995534, 1.3258705999996891, 2.2023643000002266, 2.8706215000001976, 2.6163814000001366, 2.230251199999657, 2.4658331999999064, 1.79070640000009, 1.218112999999903, 1.3343922000003658, 1.3615176000002975, 1.4381690000000162, 2.1633661000005304, 2.1570613000003505, 2.0541855999999825, 1.8261126000006698, 1.5195871999994779, 1.2959522999999535, 1.5248005000003104, 2.1519421000002694, 2.303299799999877, 2.0982869999998, 1.9703865000001315, 1.3918055000003733, 1.3421221999997215, 1.2368511999993643, 1.2268475999999282, 1.8833730000005744, 1.9607810999996218, 2.1288978000002317, 2.470551599999453, 1.934661999999662, 1.3897862000003443, 1.3733930999997028, 1.3002745000003415, 1.2524057999999059, 2.044659700000011, 2.1790295999999216, 2.08741689999988, 2.369110499999806, 1.3785869000003004, 1.2708484000004319, 1.452448000000004, 2.0971816999999646, 2.0577519999997094, 2.1869154000005437, 1.926901099999668, 1.7430135999993581, 1.5367427999999563, 1.2828778000002785, 1.2462531999999555, 1.2086411999998745, 1.2279020999994827, 1.2582446000005802]\n",
      "\n",
      "\n",
      "Iteration 95 \n",
      "Mutation Rate 0.3 \n",
      "Time for Mutation Rate [1.7145282000001316, 1.2791391999999178, 1.8587009000002581, 2.1779969999997775, 2.561724299999696, 2.419383399999788, 1.837584799999604, 1.5159450000001016, 2.128504499999508, 1.8282649000002493, 1.4731150999996316, 1.2598238000000492, 1.541152200000397, 1.296498700000484, 2.1003067999999985, 2.524274900000819, 2.353934300000219, 2.4767289000001256, 1.3769331000003149, 1.3089595000001282, 1.2522791999999754, 1.9855285000003278, 1.7475039000000834, 1.378364899999724, 1.3950721000001067, 1.314481600000363, 1.6271650999997291, 2.5025087999993048, 1.440078600000561, 1.7659622000001036, 1.6928470000002562, 1.8526808000005985, 1.5403943999999683, 1.699134999999842, 1.398573899999974, 1.9581946999996944, 2.9987836000000243, 2.1363227000001643, 1.740108799999689, 1.3842364000001908, 1.3646749999998065, 1.2934810999995534, 1.3258705999996891, 2.2023643000002266, 2.8706215000001976, 2.6163814000001366, 2.230251199999657, 2.4658331999999064, 1.79070640000009, 1.218112999999903, 1.3343922000003658, 1.3615176000002975, 1.4381690000000162, 2.1633661000005304, 2.1570613000003505, 2.0541855999999825, 1.8261126000006698, 1.5195871999994779, 1.2959522999999535, 1.5248005000003104, 2.1519421000002694, 2.303299799999877, 2.0982869999998, 1.9703865000001315, 1.3918055000003733, 1.3421221999997215, 1.2368511999993643, 1.2268475999999282, 1.8833730000005744, 1.9607810999996218, 2.1288978000002317, 2.470551599999453, 1.934661999999662, 1.3897862000003443, 1.3733930999997028, 1.3002745000003415, 1.2524057999999059, 2.044659700000011, 2.1790295999999216, 2.08741689999988, 2.369110499999806, 1.3785869000003004, 1.2708484000004319, 1.452448000000004, 2.0971816999999646, 2.0577519999997094, 2.1869154000005437, 1.926901099999668, 1.7430135999993581, 1.5367427999999563, 1.2828778000002785, 1.2462531999999555, 1.2086411999998745, 1.2279020999994827, 1.2582446000005802, 2.059315599999536]\n",
      "\n",
      "\n"
     ]
    },
    {
     "name": "stdout",
     "output_type": "stream",
     "text": [
      "Iteration 96 \n",
      "Mutation Rate 0.3 \n",
      "Time for Mutation Rate [1.7145282000001316, 1.2791391999999178, 1.8587009000002581, 2.1779969999997775, 2.561724299999696, 2.419383399999788, 1.837584799999604, 1.5159450000001016, 2.128504499999508, 1.8282649000002493, 1.4731150999996316, 1.2598238000000492, 1.541152200000397, 1.296498700000484, 2.1003067999999985, 2.524274900000819, 2.353934300000219, 2.4767289000001256, 1.3769331000003149, 1.3089595000001282, 1.2522791999999754, 1.9855285000003278, 1.7475039000000834, 1.378364899999724, 1.3950721000001067, 1.314481600000363, 1.6271650999997291, 2.5025087999993048, 1.440078600000561, 1.7659622000001036, 1.6928470000002562, 1.8526808000005985, 1.5403943999999683, 1.699134999999842, 1.398573899999974, 1.9581946999996944, 2.9987836000000243, 2.1363227000001643, 1.740108799999689, 1.3842364000001908, 1.3646749999998065, 1.2934810999995534, 1.3258705999996891, 2.2023643000002266, 2.8706215000001976, 2.6163814000001366, 2.230251199999657, 2.4658331999999064, 1.79070640000009, 1.218112999999903, 1.3343922000003658, 1.3615176000002975, 1.4381690000000162, 2.1633661000005304, 2.1570613000003505, 2.0541855999999825, 1.8261126000006698, 1.5195871999994779, 1.2959522999999535, 1.5248005000003104, 2.1519421000002694, 2.303299799999877, 2.0982869999998, 1.9703865000001315, 1.3918055000003733, 1.3421221999997215, 1.2368511999993643, 1.2268475999999282, 1.8833730000005744, 1.9607810999996218, 2.1288978000002317, 2.470551599999453, 1.934661999999662, 1.3897862000003443, 1.3733930999997028, 1.3002745000003415, 1.2524057999999059, 2.044659700000011, 2.1790295999999216, 2.08741689999988, 2.369110499999806, 1.3785869000003004, 1.2708484000004319, 1.452448000000004, 2.0971816999999646, 2.0577519999997094, 2.1869154000005437, 1.926901099999668, 1.7430135999993581, 1.5367427999999563, 1.2828778000002785, 1.2462531999999555, 1.2086411999998745, 1.2279020999994827, 1.2582446000005802, 2.059315599999536, 2.1042661000001317]\n",
      "\n",
      "\n",
      "Iteration 97 \n",
      "Mutation Rate 0.3 \n",
      "Time for Mutation Rate [1.7145282000001316, 1.2791391999999178, 1.8587009000002581, 2.1779969999997775, 2.561724299999696, 2.419383399999788, 1.837584799999604, 1.5159450000001016, 2.128504499999508, 1.8282649000002493, 1.4731150999996316, 1.2598238000000492, 1.541152200000397, 1.296498700000484, 2.1003067999999985, 2.524274900000819, 2.353934300000219, 2.4767289000001256, 1.3769331000003149, 1.3089595000001282, 1.2522791999999754, 1.9855285000003278, 1.7475039000000834, 1.378364899999724, 1.3950721000001067, 1.314481600000363, 1.6271650999997291, 2.5025087999993048, 1.440078600000561, 1.7659622000001036, 1.6928470000002562, 1.8526808000005985, 1.5403943999999683, 1.699134999999842, 1.398573899999974, 1.9581946999996944, 2.9987836000000243, 2.1363227000001643, 1.740108799999689, 1.3842364000001908, 1.3646749999998065, 1.2934810999995534, 1.3258705999996891, 2.2023643000002266, 2.8706215000001976, 2.6163814000001366, 2.230251199999657, 2.4658331999999064, 1.79070640000009, 1.218112999999903, 1.3343922000003658, 1.3615176000002975, 1.4381690000000162, 2.1633661000005304, 2.1570613000003505, 2.0541855999999825, 1.8261126000006698, 1.5195871999994779, 1.2959522999999535, 1.5248005000003104, 2.1519421000002694, 2.303299799999877, 2.0982869999998, 1.9703865000001315, 1.3918055000003733, 1.3421221999997215, 1.2368511999993643, 1.2268475999999282, 1.8833730000005744, 1.9607810999996218, 2.1288978000002317, 2.470551599999453, 1.934661999999662, 1.3897862000003443, 1.3733930999997028, 1.3002745000003415, 1.2524057999999059, 2.044659700000011, 2.1790295999999216, 2.08741689999988, 2.369110499999806, 1.3785869000003004, 1.2708484000004319, 1.452448000000004, 2.0971816999999646, 2.0577519999997094, 2.1869154000005437, 1.926901099999668, 1.7430135999993581, 1.5367427999999563, 1.2828778000002785, 1.2462531999999555, 1.2086411999998745, 1.2279020999994827, 1.2582446000005802, 2.059315599999536, 2.1042661000001317, 1.9907125999998243]\n",
      "\n",
      "\n",
      "Iteration 98 \n",
      "Mutation Rate 0.3 \n",
      "Time for Mutation Rate [1.7145282000001316, 1.2791391999999178, 1.8587009000002581, 2.1779969999997775, 2.561724299999696, 2.419383399999788, 1.837584799999604, 1.5159450000001016, 2.128504499999508, 1.8282649000002493, 1.4731150999996316, 1.2598238000000492, 1.541152200000397, 1.296498700000484, 2.1003067999999985, 2.524274900000819, 2.353934300000219, 2.4767289000001256, 1.3769331000003149, 1.3089595000001282, 1.2522791999999754, 1.9855285000003278, 1.7475039000000834, 1.378364899999724, 1.3950721000001067, 1.314481600000363, 1.6271650999997291, 2.5025087999993048, 1.440078600000561, 1.7659622000001036, 1.6928470000002562, 1.8526808000005985, 1.5403943999999683, 1.699134999999842, 1.398573899999974, 1.9581946999996944, 2.9987836000000243, 2.1363227000001643, 1.740108799999689, 1.3842364000001908, 1.3646749999998065, 1.2934810999995534, 1.3258705999996891, 2.2023643000002266, 2.8706215000001976, 2.6163814000001366, 2.230251199999657, 2.4658331999999064, 1.79070640000009, 1.218112999999903, 1.3343922000003658, 1.3615176000002975, 1.4381690000000162, 2.1633661000005304, 2.1570613000003505, 2.0541855999999825, 1.8261126000006698, 1.5195871999994779, 1.2959522999999535, 1.5248005000003104, 2.1519421000002694, 2.303299799999877, 2.0982869999998, 1.9703865000001315, 1.3918055000003733, 1.3421221999997215, 1.2368511999993643, 1.2268475999999282, 1.8833730000005744, 1.9607810999996218, 2.1288978000002317, 2.470551599999453, 1.934661999999662, 1.3897862000003443, 1.3733930999997028, 1.3002745000003415, 1.2524057999999059, 2.044659700000011, 2.1790295999999216, 2.08741689999988, 2.369110499999806, 1.3785869000003004, 1.2708484000004319, 1.452448000000004, 2.0971816999999646, 2.0577519999997094, 2.1869154000005437, 1.926901099999668, 1.7430135999993581, 1.5367427999999563, 1.2828778000002785, 1.2462531999999555, 1.2086411999998745, 1.2279020999994827, 1.2582446000005802, 2.059315599999536, 2.1042661000001317, 1.9907125999998243, 2.0840063999994527]\n",
      "\n",
      "\n",
      "Iteration 99 \n",
      "Mutation Rate 0.3 \n",
      "Time for Mutation Rate [1.7145282000001316, 1.2791391999999178, 1.8587009000002581, 2.1779969999997775, 2.561724299999696, 2.419383399999788, 1.837584799999604, 1.5159450000001016, 2.128504499999508, 1.8282649000002493, 1.4731150999996316, 1.2598238000000492, 1.541152200000397, 1.296498700000484, 2.1003067999999985, 2.524274900000819, 2.353934300000219, 2.4767289000001256, 1.3769331000003149, 1.3089595000001282, 1.2522791999999754, 1.9855285000003278, 1.7475039000000834, 1.378364899999724, 1.3950721000001067, 1.314481600000363, 1.6271650999997291, 2.5025087999993048, 1.440078600000561, 1.7659622000001036, 1.6928470000002562, 1.8526808000005985, 1.5403943999999683, 1.699134999999842, 1.398573899999974, 1.9581946999996944, 2.9987836000000243, 2.1363227000001643, 1.740108799999689, 1.3842364000001908, 1.3646749999998065, 1.2934810999995534, 1.3258705999996891, 2.2023643000002266, 2.8706215000001976, 2.6163814000001366, 2.230251199999657, 2.4658331999999064, 1.79070640000009, 1.218112999999903, 1.3343922000003658, 1.3615176000002975, 1.4381690000000162, 2.1633661000005304, 2.1570613000003505, 2.0541855999999825, 1.8261126000006698, 1.5195871999994779, 1.2959522999999535, 1.5248005000003104, 2.1519421000002694, 2.303299799999877, 2.0982869999998, 1.9703865000001315, 1.3918055000003733, 1.3421221999997215, 1.2368511999993643, 1.2268475999999282, 1.8833730000005744, 1.9607810999996218, 2.1288978000002317, 2.470551599999453, 1.934661999999662, 1.3897862000003443, 1.3733930999997028, 1.3002745000003415, 1.2524057999999059, 2.044659700000011, 2.1790295999999216, 2.08741689999988, 2.369110499999806, 1.3785869000003004, 1.2708484000004319, 1.452448000000004, 2.0971816999999646, 2.0577519999997094, 2.1869154000005437, 1.926901099999668, 1.7430135999993581, 1.5367427999999563, 1.2828778000002785, 1.2462531999999555, 1.2086411999998745, 1.2279020999994827, 1.2582446000005802, 2.059315599999536, 2.1042661000001317, 1.9907125999998243, 2.0840063999994527, 1.757508499999858]\n",
      "\n",
      "\n",
      "Cost 0.07475388465193315 Chromosome [ 3.21440584 -1.21066442 -1.19868717 -1.27090737  3.23075885]\n"
     ]
    },
    {
     "data": {
      "image/png": "[encoded data removed]",
      "text/plain": [
       "<Figure size 432x288 with 1 Axes>"
      ]
     },
     "metadata": {
      "needs_background": "light"
     },
     "output_type": "display_data"
    }
   ],
   "source": [
    "test_mutation_rate_alt()"
   ]
  },
  {
   "cell_type": "markdown",
   "metadata": {},
   "source": [
    "<h3>With the number of runs set at 100 for the graph above which would mainly focus on the mutation rate with the other updated values,the shortest time taken for the algorithm occurs towards the end of the iteration where the mutation rate determines if more mutation would occur invloving a singular individual. This mutation process frequently increases the times taken to complete an iteration of the genetic algorithm as it tries to reach more search spaces to get to the optimal cost. If the rate of mutation is massive, more areas would be searched in the search space whereas a very low mutation rate would lead to better results as seen earlier in the test of the original parameters where the mutation rate is set at 0.1.<h3>"
   ]
  },
  {
   "cell_type": "markdown",
   "metadata": {},
   "source": [
    "<h2>------------------------------------------------------------------------------------------<h2>"
   ]
  },
  {
   "cell_type": "markdown",
   "metadata": {},
   "source": [
    "<h1>Testing out child rate, number of children and population below multiple times with value of 5 and 250 respectively before population changes combined with majority of updated parameters from earlier on where the number of iterations is not updated here.(The second last test).<h1>"
   ]
  },
  {
   "cell_type": "code",
   "execution_count": 117,
   "metadata": {},
   "outputs": [],
   "source": [
    "pars.child_rate = 2"
   ]
  },
  {
   "cell_type": "code",
   "execution_count": 123,
   "metadata": {},
   "outputs": [],
   "source": [
    "pars.number_in_population = 150"
   ]
  },
  {
   "cell_type": "code",
   "execution_count": 124,
   "metadata": {},
   "outputs": [],
   "source": [
    "pars.number_of_children = pars.number_in_population * pars.child_rate"
   ]
  },
  {
   "cell_type": "code",
   "execution_count": 125,
   "metadata": {},
   "outputs": [
    {
     "data": {
      "text/plain": [
       "300"
      ]
     },
     "execution_count": 125,
     "metadata": {},
     "output_type": "execute_result"
    }
   ],
   "source": [
    "pars.number_of_children"
   ]
  },
  {
   "cell_type": "code",
   "execution_count": 126,
   "metadata": {},
   "outputs": [
    {
     "data": {
      "text/plain": [
       "'Iterations/Generations 200 Population 150 Children No 300 Child Rate 2 Explore Rate 0.5 Mutation Rate 0.3 Mutation Range 0.2'"
      ]
     },
     "execution_count": 126,
     "metadata": {},
     "output_type": "execute_result"
    }
   ],
   "source": [
    "pars.to_string()"
   ]
  },
  {
   "cell_type": "code",
   "execution_count": 127,
   "metadata": {},
   "outputs": [
    {
     "data": {
      "text/plain": [
       "61.69169229999898"
      ]
     },
     "execution_count": 127,
     "metadata": {},
     "output_type": "execute_result"
    }
   ],
   "source": [
    "test_genetic(100,prob,pars,0.1)"
   ]
  },
  {
   "cell_type": "markdown",
   "metadata": {},
   "source": [
    "<h3>The child rate is set to 3 as well as the number in population which is set at 200 and the updated number of children is revealed here too to test out the algorithm here. All the parameters are updated at this point The time it takes to run the genetic algorithm here is slower than all of the previous tests. This is where the number of runs was 100 because all of the changed parameters as tested out here for the first CA have a major impact on the cost of the algorithm where the higher the fitness cost, the closer we hopefully get to the optimal solution. But, it seems the lower the solution, the better the fitness cost will be.<h3>"
   ]
  },
  {
   "cell_type": "code",
   "execution_count": 128,
   "metadata": {},
   "outputs": [
    {
     "data": {
      "text/plain": [
       "6.036692199999379"
      ]
     },
     "execution_count": 128,
     "metadata": {},
     "output_type": "execute_result"
    }
   ],
   "source": [
    "test_genetic(10,prob,pars,0.1)"
   ]
  },
  {
   "cell_type": "markdown",
   "metadata": {},
   "source": [
    "<h3>Meanwhile, the test by using the number of runs for the test of the genetic algorithm is unsurprisingly slower when the rest of the parameters including a higher child rate are placed in these two test_genetic() tests than the tests when the values of the mutation rate and range were performed and implemented earlier on. This is because the child rate and all the other updated parameters except for the number of iterations including the population of 200 is much higher than all the other parameters in the parameters class This allows for much more children to be born in every iteration when combined with the edited mutation rate and range and the other paramaters as there is a greater possibility that the optimal solution would be reached when multiple iterations of the algorithm are carried out. This would hopefully allow plenty of the iterations to last a shorter amount of time than some of the previous tests carried out when the scientific methodology is put into perspective here.<h3>"
   ]
  },
  {
   "cell_type": "code",
   "execution_count": 140,
   "metadata": {},
   "outputs": [],
   "source": [
    "def test_algorithm():\n",
    "    times_for_algorithm = []\n",
    "    for i in range(20):\n",
    "        #pars.child_rate = float(i) / 5.0\n",
    "        times_for_algorithm.append(test_genetic(10,prob,pars,0.1))\n",
    "        print(\"Iteration {} \\nChild Rate {} \\nTime for Algorithm {}\\n\".format(i,pars.child_rate,times_for_algorithm))\n",
    "        print()\n",
    "    plt.xlabel(\"Iterations\")\n",
    "    plt.ylabel(\"Times for updated parameters excluding iterations number\")\n",
    "    plt.title(\"Genetic Algorithm\")\n",
    "    plt.plot(times_for_algorithm)\n",
    "    print(\"Cost {} Best Solution Chromosome {}\".format(best_solution.cost,best_solution.chromosome))"
   ]
  },
  {
   "cell_type": "code",
   "execution_count": 141,
   "metadata": {},
   "outputs": [
    {
     "name": "stdout",
     "output_type": "stream",
     "text": [
      "Iteration 0 \n",
      "Child Rate 2 \n",
      "Time for Algorithm [6.593744100002368]\n",
      "\n",
      "\n",
      "Iteration 1 \n",
      "Child Rate 2 \n",
      "Time for Algorithm [6.593744100002368, 9.154948100000183]\n",
      "\n",
      "\n",
      "Iteration 2 \n",
      "Child Rate 2 \n",
      "Time for Algorithm [6.593744100002368, 9.154948100000183, 5.534493899998779]\n",
      "\n",
      "\n",
      "Iteration 3 \n",
      "Child Rate 2 \n",
      "Time for Algorithm [6.593744100002368, 9.154948100000183, 5.534493899998779, 7.6451419000004535]\n",
      "\n",
      "\n",
      "Iteration 4 \n",
      "Child Rate 2 \n",
      "Time for Algorithm [6.593744100002368, 9.154948100000183, 5.534493899998779, 7.6451419000004535, 6.8014265000019805]\n",
      "\n",
      "\n",
      "Iteration 5 \n",
      "Child Rate 2 \n",
      "Time for Algorithm [6.593744100002368, 9.154948100000183, 5.534493899998779, 7.6451419000004535, 6.8014265000019805, 7.274962499999674]\n",
      "\n",
      "\n",
      "Iteration 6 \n",
      "Child Rate 2 \n",
      "Time for Algorithm [6.593744100002368, 9.154948100000183, 5.534493899998779, 7.6451419000004535, 6.8014265000019805, 7.274962499999674, 7.3236958000015875]\n",
      "\n",
      "\n",
      "Iteration 7 \n",
      "Child Rate 2 \n",
      "Time for Algorithm [6.593744100002368, 9.154948100000183, 5.534493899998779, 7.6451419000004535, 6.8014265000019805, 7.274962499999674, 7.3236958000015875, 6.7833169000005]\n",
      "\n",
      "\n",
      "Iteration 8 \n",
      "Child Rate 2 \n",
      "Time for Algorithm [6.593744100002368, 9.154948100000183, 5.534493899998779, 7.6451419000004535, 6.8014265000019805, 7.274962499999674, 7.3236958000015875, 6.7833169000005, 6.601478500000667]\n",
      "\n",
      "\n",
      "Iteration 9 \n",
      "Child Rate 2 \n",
      "Time for Algorithm [6.593744100002368, 9.154948100000183, 5.534493899998779, 7.6451419000004535, 6.8014265000019805, 7.274962499999674, 7.3236958000015875, 6.7833169000005, 6.601478500000667, 5.206965900000796]\n",
      "\n",
      "\n",
      "Iteration 10 \n",
      "Child Rate 2 \n",
      "Time for Algorithm [6.593744100002368, 9.154948100000183, 5.534493899998779, 7.6451419000004535, 6.8014265000019805, 7.274962499999674, 7.3236958000015875, 6.7833169000005, 6.601478500000667, 5.206965900000796, 6.057589000000007]\n",
      "\n",
      "\n",
      "Iteration 11 \n",
      "Child Rate 2 \n",
      "Time for Algorithm [6.593744100002368, 9.154948100000183, 5.534493899998779, 7.6451419000004535, 6.8014265000019805, 7.274962499999674, 7.3236958000015875, 6.7833169000005, 6.601478500000667, 5.206965900000796, 6.057589000000007, 5.517996300000959]\n",
      "\n",
      "\n",
      "Iteration 12 \n",
      "Child Rate 2 \n",
      "Time for Algorithm [6.593744100002368, 9.154948100000183, 5.534493899998779, 7.6451419000004535, 6.8014265000019805, 7.274962499999674, 7.3236958000015875, 6.7833169000005, 6.601478500000667, 5.206965900000796, 6.057589000000007, 5.517996300000959, 5.02448910000021]\n",
      "\n",
      "\n",
      "Iteration 13 \n",
      "Child Rate 2 \n",
      "Time for Algorithm [6.593744100002368, 9.154948100000183, 5.534493899998779, 7.6451419000004535, 6.8014265000019805, 7.274962499999674, 7.3236958000015875, 6.7833169000005, 6.601478500000667, 5.206965900000796, 6.057589000000007, 5.517996300000959, 5.02448910000021, 5.372837999999319]\n",
      "\n",
      "\n",
      "Iteration 14 \n",
      "Child Rate 2 \n",
      "Time for Algorithm [6.593744100002368, 9.154948100000183, 5.534493899998779, 7.6451419000004535, 6.8014265000019805, 7.274962499999674, 7.3236958000015875, 6.7833169000005, 6.601478500000667, 5.206965900000796, 6.057589000000007, 5.517996300000959, 5.02448910000021, 5.372837999999319, 6.1301830999982485]\n",
      "\n",
      "\n",
      "Iteration 15 \n",
      "Child Rate 2 \n",
      "Time for Algorithm [6.593744100002368, 9.154948100000183, 5.534493899998779, 7.6451419000004535, 6.8014265000019805, 7.274962499999674, 7.3236958000015875, 6.7833169000005, 6.601478500000667, 5.206965900000796, 6.057589000000007, 5.517996300000959, 5.02448910000021, 5.372837999999319, 6.1301830999982485, 5.279899200002546]\n",
      "\n",
      "\n",
      "Iteration 16 \n",
      "Child Rate 2 \n",
      "Time for Algorithm [6.593744100002368, 9.154948100000183, 5.534493899998779, 7.6451419000004535, 6.8014265000019805, 7.274962499999674, 7.3236958000015875, 6.7833169000005, 6.601478500000667, 5.206965900000796, 6.057589000000007, 5.517996300000959, 5.02448910000021, 5.372837999999319, 6.1301830999982485, 5.279899200002546, 5.47952350000196]\n",
      "\n",
      "\n",
      "Iteration 17 \n",
      "Child Rate 2 \n",
      "Time for Algorithm [6.593744100002368, 9.154948100000183, 5.534493899998779, 7.6451419000004535, 6.8014265000019805, 7.274962499999674, 7.3236958000015875, 6.7833169000005, 6.601478500000667, 5.206965900000796, 6.057589000000007, 5.517996300000959, 5.02448910000021, 5.372837999999319, 6.1301830999982485, 5.279899200002546, 5.47952350000196, 5.534669699998631]\n",
      "\n",
      "\n",
      "Iteration 18 \n",
      "Child Rate 2 \n",
      "Time for Algorithm [6.593744100002368, 9.154948100000183, 5.534493899998779, 7.6451419000004535, 6.8014265000019805, 7.274962499999674, 7.3236958000015875, 6.7833169000005, 6.601478500000667, 5.206965900000796, 6.057589000000007, 5.517996300000959, 5.02448910000021, 5.372837999999319, 6.1301830999982485, 5.279899200002546, 5.47952350000196, 5.534669699998631, 5.330132099999901]\n",
      "\n",
      "\n",
      "Iteration 19 \n",
      "Child Rate 2 \n",
      "Time for Algorithm [6.593744100002368, 9.154948100000183, 5.534493899998779, 7.6451419000004535, 6.8014265000019805, 7.274962499999674, 7.3236958000015875, 6.7833169000005, 6.601478500000667, 5.206965900000796, 6.057589000000007, 5.517996300000959, 5.02448910000021, 5.372837999999319, 6.1301830999982485, 5.279899200002546, 5.47952350000196, 5.534669699998631, 5.330132099999901, 5.611250300000393]\n",
      "\n",
      "\n",
      "Cost 0.07475388465193315 Best Solution Chromosome [ 3.21440584 -1.21066442 -1.19868717 -1.27090737  3.23075885]\n"
     ]
    },
    {
     "data": {
      "image/png": "[encoded data removed]",
      "text/plain": [
       "<Figure size 432x288 with 1 Axes>"
      ]
     },
     "metadata": {
      "needs_background": "light"
     },
     "output_type": "display_data"
    }
   ],
   "source": [
    "test_algorithm()"
   ]
  },
  {
   "cell_type": "markdown",
   "metadata": {},
   "source": [
    "<h3>With the child rate set at 5 as well as all of the other parameters except for the number of iterations, there is a chance that graph flow would fluctuate from high to low with regards to the time as the rate of children is higher when the population remains at 50 in this case.The time taken to finish the algorithm suddenly takes longer than usual when ran 100 times because the child rate here determines the number of new children per iteration which would slow down the algorithm and lead to the fluctuating results. The graph starts with a little increase of time which then decreases gradually and so on. After this, it switches between a higher time period and a lower time period where the average time is surprisingly the same as the child rate test when ran 10 times as the high child rate has a major impact on the algorithm where it seems the tests would veer between short implementations of the algortihm and longer times for implementing the method. This shows that when the parameters are updated to a bigger value, it will increase the time taken to complete the algorithm which may search through more search spaces to find the optimal solution and use previous experiences of the test as knowledge to see which values are best to be closest to the best solution cost and best chromosome.<h3>"
   ]
  },
  {
   "cell_type": "markdown",
   "metadata": {},
   "source": [
    "<h3>With regards to the ideal population when it is set higher, it may be ideal but it is not as efficient as the earlier examples involving the preset parameters because with the emergence of multiple costs and chromosomes to see which ones are closest to the best solution, there's a better chance when there is a lower population where the best solution may be more likely to be reached as the best solution cost is reached when it goes below the error rate<h3>"
   ]
  },
  {
   "cell_type": "code",
   "execution_count": 142,
   "metadata": {},
   "outputs": [],
   "source": [
    "def test_algorithm_alt():\n",
    "    times_for_algorithm = []\n",
    "    for i in range(10):\n",
    "        #pars.child_rate = float(i) / 5.0\n",
    "        times_for_algorithm.append(test_genetic(10,prob,pars,0.1))\n",
    "        print(\"Iteration {} \\nChild Rate {} \\nTime for algorithm {}\\n\".format(i,pars.child_rate,times_for_algorithm))\n",
    "        print()\n",
    "    plt.xlabel(\"Iterations\")\n",
    "    plt.ylabel(\"Times for Child Rate\")\n",
    "    plt.title(\"Genetic Algorithm\")\n",
    "    plt.plot(times_for_algorithm)\n",
    "    print(\"Cost {} Chromosome {}\".format(best_solution.cost,best_solution.chromosome))"
   ]
  },
  {
   "cell_type": "code",
   "execution_count": 143,
   "metadata": {},
   "outputs": [
    {
     "data": {
      "text/plain": [
       "'Iterations/Generations 200 Population 150 Children No 300 Child Rate 2 Explore Rate 0.5 Mutation Rate 0.3 Mutation Range 0.2'"
      ]
     },
     "execution_count": 143,
     "metadata": {},
     "output_type": "execute_result"
    }
   ],
   "source": [
    "pars.to_string()"
   ]
  },
  {
   "cell_type": "code",
   "execution_count": 144,
   "metadata": {},
   "outputs": [
    {
     "name": "stdout",
     "output_type": "stream",
     "text": [
      "Iteration 0 \n",
      "Child Rate 2 \n",
      "Time for algorithm [6.188006599997607]\n",
      "\n",
      "\n",
      "Iteration 1 \n",
      "Child Rate 2 \n",
      "Time for algorithm [6.188006599997607, 6.562230399998953]\n",
      "\n",
      "\n",
      "Iteration 2 \n",
      "Child Rate 2 \n",
      "Time for algorithm [6.188006599997607, 6.562230399998953, 5.958351900000707]\n",
      "\n",
      "\n",
      "Iteration 3 \n",
      "Child Rate 2 \n",
      "Time for algorithm [6.188006599997607, 6.562230399998953, 5.958351900000707, 5.706392399999459]\n",
      "\n",
      "\n",
      "Iteration 4 \n",
      "Child Rate 2 \n",
      "Time for algorithm [6.188006599997607, 6.562230399998953, 5.958351900000707, 5.706392399999459, 5.596647200000007]\n",
      "\n",
      "\n",
      "Iteration 5 \n",
      "Child Rate 2 \n",
      "Time for algorithm [6.188006599997607, 6.562230399998953, 5.958351900000707, 5.706392399999459, 5.596647200000007, 8.57147989999794]\n",
      "\n",
      "\n",
      "Iteration 6 \n",
      "Child Rate 2 \n",
      "Time for algorithm [6.188006599997607, 6.562230399998953, 5.958351900000707, 5.706392399999459, 5.596647200000007, 8.57147989999794, 5.747948800002632]\n",
      "\n",
      "\n",
      "Iteration 7 \n",
      "Child Rate 2 \n",
      "Time for algorithm [6.188006599997607, 6.562230399998953, 5.958351900000707, 5.706392399999459, 5.596647200000007, 8.57147989999794, 5.747948800002632, 8.956728299999668]\n",
      "\n",
      "\n",
      "Iteration 8 \n",
      "Child Rate 2 \n",
      "Time for algorithm [6.188006599997607, 6.562230399998953, 5.958351900000707, 5.706392399999459, 5.596647200000007, 8.57147989999794, 5.747948800002632, 8.956728299999668, 6.72095790000094]\n",
      "\n",
      "\n",
      "Iteration 9 \n",
      "Child Rate 2 \n",
      "Time for algorithm [6.188006599997607, 6.562230399998953, 5.958351900000707, 5.706392399999459, 5.596647200000007, 8.57147989999794, 5.747948800002632, 8.956728299999668, 6.72095790000094, 6.791721800000232]\n",
      "\n",
      "\n",
      "Cost 0.07475388465193315 Chromosome [ 3.21440584 -1.21066442 -1.19868717 -1.27090737  3.23075885]\n"
     ]
    },
    {
     "data": {
      "image/png": "[encoded data removed]",
      "text/plain": [
       "<Figure size 432x288 with 1 Axes>"
      ]
     },
     "metadata": {
      "needs_background": "light"
     },
     "output_type": "display_data"
    }
   ],
   "source": [
    "test_algorithm_alt()"
   ]
  },
  {
   "cell_type": "markdown",
   "metadata": {},
   "source": [
    "<h3>This algorithm does not look close to the optimal solution where a mean distribution would occur if the perfect solution is reached. A mean distribution is expected in a test to ensure that the path to the optimal solution is improved on when searching the values to determine which value is closest to the solution you are looking for when the solutiom target is calculated. The child rate is updated along with every other updated parameter other than the number of iterations parameter. This would account for the time taken to reveal all of the fitness costs and reveal the best solution costs for each iteration of the algorithm. The graph naturally increases and decreases after the halfway mark of the testing of the algorithm. For the majority of the test, the time taken to complete the algorithm decreases in most iterations due to the presence of the child rate. It may fluctuate at the beginning of the test with the graph figures as the test is appended to try and accommodate for the best score so far in the algorithm. More tweaking of the parameters would probably lead to a much improved solution which can be fixed when the algortihm is changed and edited soon. When it peaks at the longest time, it is certain that this would happen as the parameter values are higher than previous parameter values. That shows the impact that a high child rate would have on different tests of the algorithm using the multiple parameters. The average time taken here for the testing of the child rate is unsurprisingly longer than other tests which ran 10 times as the amount of new children per iteration is much higher which would go well above the total population unless the population is much higher than the children when the number of children is calculated by multiplying the child rate by the number in the population. <h3>"
   ]
  },
  {
   "cell_type": "markdown",
   "metadata": {},
   "source": [
    "<h2>------------------------------------------------------------------------------------------<h2>"
   ]
  },
  {
   "cell_type": "code",
   "execution_count": null,
   "metadata": {},
   "outputs": [],
   "source": [
    "final_pop[0].chromosome"
   ]
  },
  {
   "cell_type": "code",
   "execution_count": null,
   "metadata": {},
   "outputs": [],
   "source": [
    "q = parameters()"
   ]
  },
  {
   "cell_type": "code",
   "execution_count": null,
   "metadata": {},
   "outputs": [],
   "source": [
    "pop = run_genetic(p1, q, 0.0001)"
   ]
  },
  {
   "cell_type": "code",
   "execution_count": null,
   "metadata": {},
   "outputs": [],
   "source": [
    "pop, best_soln = run_genetic(p1,q,0.0001)"
   ]
  },
  {
   "cell_type": "code",
   "execution_count": null,
   "metadata": {},
   "outputs": [],
   "source": [
    "pop[5].chromosome"
   ]
  },
  {
   "cell_type": "code",
   "execution_count": null,
   "metadata": {},
   "outputs": [],
   "source": [
    "best_soln.chromosome"
   ]
  },
  {
   "cell_type": "code",
   "execution_count": null,
   "metadata": {},
   "outputs": [],
   "source": [
    "plt.plot(best_solution.chromosome)"
   ]
  },
  {
   "cell_type": "code",
   "execution_count": null,
   "metadata": {},
   "outputs": [],
   "source": []
  },
  {
   "cell_type": "markdown",
   "metadata": {},
   "source": [
    "<h1>Alternative version of the genetic algorithm with a couple of tweaks to the algorithm for final tests<h1>"
   ]
  },
  {
   "cell_type": "code",
   "execution_count": 165,
   "metadata": {},
   "outputs": [],
   "source": [
    "def roulette_selection(pop, fitness_no, number):\n",
    "    sum_fitness = float(sum(fitness_no))\n",
    "    relate_fitness = [fit / sum_fitness for fit in fitnesses]\n",
    "    # Generate probability intervals for each individual\n",
    "    problems = [sum(relate_fitness[:i+1]) for i in range(len(relate_fitness))]\n",
    "    # Draw new population\n",
    "    new_pop = []\n",
    "    for n in xrange(num):\n",
    "        r = rand()\n",
    "        for (i, individ) in enumerate(pop):\n",
    "            if r <= problems[i]:\n",
    "                new_pop.append(individ)\n",
    "                break\n",
    "    return new_pop"
   ]
  },
  {
   "cell_type": "code",
   "execution_count": 166,
   "metadata": {},
   "outputs": [],
   "source": [
    "def run_genetic_alt(problem, parameters, max_error):\n",
    "    \n",
    "    #read problem\n",
    "    #Fitness Function\n",
    "    cost_function = problem.cost_function\n",
    "    \n",
    "    #read parameters\n",
    "    number_in_population = parameters.number_in_population\n",
    "    number_of_iterations = parameters.number_of_iterations\n",
    "    number_of_children = parameters.number_of_children\n",
    "    explore_rate = parameters.explore_rate\n",
    "    mutation_rate = parameters.mutation_rate\n",
    "    mutation_range = parameters.mutation_range\n",
    "    \n",
    "    #placeholder for best solution\n",
    "    best_solution = deepcopy(individual())\n",
    "    best_solution.cost = np.infty\n",
    "    \n",
    "    # Placeholder for best cost at each iteration\n",
    "    best_costs = []\n",
    "    \n",
    "    population = []\n",
    "    \n",
    "    #initialize population for the above problem. i.e. generate random individuals\n",
    "    for i in range(number_in_population):\n",
    "        new_individual = individual(problem)\n",
    "        population.append(new_individual)\n",
    "        if new_individual.cost < best_solution.cost:#Cost = Fitness\n",
    "            best_solution = deepcopy(new_individual)\n",
    "            \n",
    "    for iteration in range(number_of_iterations):      \n",
    "        # generate a new population of children\n",
    "        children = []\n",
    "        \n",
    "        # How Many Children\n",
    "        while len(children) < number_of_children:\n",
    "            \n",
    "        # Select 2 Parents\n",
    "            #parent1_index, parent2_index = choose_distinct_pair_from(number_in_population)\n",
    "            parent1_index, parent2_index = select_parent_roulette(number_in_population)\n",
    "            parent_1 = population[parent1_index]\n",
    "            parent_2 = population[parent2_index]\n",
    "            \n",
    "        # Use crossover to produce 2 children\n",
    "            child_1,child_2 = parent_1.crossover(parent_2, explore_rate)\n",
    "            \n",
    "        # Mutate these children\n",
    "            child_1.mutate(mutation_rate, mutation_range)\n",
    "            child_2.mutate(mutation_rate, mutation_range)\n",
    "            \n",
    "        # calculate costs (Fitness) for these children\n",
    "            child_1.cost = cost_function(child_1.chromosome)\n",
    "            child_2.cost = cost_function(child_2.chromosome)\n",
    "                \n",
    "        # add to the children population\n",
    "            children.append(child_1)\n",
    "            children.append(child_2)\n",
    "            \n",
    "        #merge parent and child populations    \n",
    "        population += children\n",
    "        \n",
    "        #Sort into ascending order of cost\n",
    "        population = sorted(population, key = lambda x: x.cost)\n",
    "        \n",
    "        #Select population next iteration\n",
    "        population = population[0:number_in_population]\n",
    "        \n",
    "        #update best solution - Fitness\n",
    "        if population[0].cost < best_solution.cost:\n",
    "            best_solution = deepcopy(population[0])\n",
    "            \n",
    "        #print iteration results\n",
    "        #print(\"Iteration/Generation {} Cost/Fitness {}\".format(iteration, best_solution.cost))\n",
    "        #best_costs.append(best_solution.cost)\n",
    "        #output results ?? class/struct/ best solution/ population?\n",
    "        if best_solution.cost < max_error:\n",
    "            #print(\"Stopped at {} Iterations\".format(iteration))\n",
    "            break\n",
    "            \n",
    "    #plt.semilogy(best_costs)\n",
    "    #plt.xlabel(\"Iterations\")\n",
    "    #plt.ylabel(\"Best Cost\")\n",
    "    #plt.title(\"Genetic Algorithm \\n\" + parameters.to_string())\n",
    "    #print(\"Solution Score {}\".format(best_solution.chromosome))\n",
    "    return population, best_solution      "
   ]
  },
  {
   "cell_type": "code",
   "execution_count": 167,
   "metadata": {},
   "outputs": [],
   "source": [
    "prob_alt = problem()"
   ]
  },
  {
   "cell_type": "code",
   "execution_count": 168,
   "metadata": {},
   "outputs": [],
   "source": [
    "para = parameters()"
   ]
  },
  {
   "cell_type": "code",
   "execution_count": 169,
   "metadata": {},
   "outputs": [
    {
     "ename": "TypeError",
     "evalue": "select_parent_roulette() missing 1 required positional argument: 'pop'",
     "output_type": "error",
     "traceback": [
      "\u001b[1;31m---------------------------------------------------------------------------\u001b[0m",
      "\u001b[1;31mTypeError\u001b[0m                                 Traceback (most recent call last)",
      "\u001b[1;32m<ipython-input-169-ac9202f56dce>\u001b[0m in \u001b[0;36m<module>\u001b[1;34m\u001b[0m\n\u001b[1;32m----> 1\u001b[1;33m \u001b[0mpopula\u001b[0m\u001b[1;33m,\u001b[0m \u001b[0mbest_solut\u001b[0m \u001b[1;33m=\u001b[0m \u001b[0mrun_genetic_alt\u001b[0m\u001b[1;33m(\u001b[0m\u001b[0mprob_alt\u001b[0m\u001b[1;33m,\u001b[0m\u001b[0mpara\u001b[0m\u001b[1;33m,\u001b[0m\u001b[1;36m0.0001\u001b[0m\u001b[1;33m)\u001b[0m\u001b[1;33m\u001b[0m\u001b[1;33m\u001b[0m\u001b[0m\n\u001b[0m",
      "\u001b[1;32m<ipython-input-166-d86426f8a4bb>\u001b[0m in \u001b[0;36mrun_genetic_alt\u001b[1;34m(problem, parameters, max_error)\u001b[0m\n\u001b[0;32m     38\u001b[0m         \u001b[1;31m# Select 2 Parents\u001b[0m\u001b[1;33m\u001b[0m\u001b[1;33m\u001b[0m\u001b[1;33m\u001b[0m\u001b[0m\n\u001b[0;32m     39\u001b[0m             \u001b[1;31m#parent1_index, parent2_index = choose_distinct_pair_from(number_in_population)\u001b[0m\u001b[1;33m\u001b[0m\u001b[1;33m\u001b[0m\u001b[1;33m\u001b[0m\u001b[0m\n\u001b[1;32m---> 40\u001b[1;33m             \u001b[0mparent1_index\u001b[0m\u001b[1;33m,\u001b[0m \u001b[0mparent2_index\u001b[0m \u001b[1;33m=\u001b[0m \u001b[0mselect_parent_roulette\u001b[0m\u001b[1;33m(\u001b[0m\u001b[0mnumber_in_population\u001b[0m\u001b[1;33m)\u001b[0m\u001b[1;33m\u001b[0m\u001b[1;33m\u001b[0m\u001b[0m\n\u001b[0m\u001b[0;32m     41\u001b[0m             \u001b[0mparent_1\u001b[0m \u001b[1;33m=\u001b[0m \u001b[0mpopulation\u001b[0m\u001b[1;33m[\u001b[0m\u001b[0mparent1_index\u001b[0m\u001b[1;33m]\u001b[0m\u001b[1;33m\u001b[0m\u001b[1;33m\u001b[0m\u001b[0m\n\u001b[0;32m     42\u001b[0m             \u001b[0mparent_2\u001b[0m \u001b[1;33m=\u001b[0m \u001b[0mpopulation\u001b[0m\u001b[1;33m[\u001b[0m\u001b[0mparent2_index\u001b[0m\u001b[1;33m]\u001b[0m\u001b[1;33m\u001b[0m\u001b[1;33m\u001b[0m\u001b[0m\n",
      "\u001b[1;31mTypeError\u001b[0m: select_parent_roulette() missing 1 required positional argument: 'pop'"
     ]
    }
   ],
   "source": [
    "popula, best_solut = run_genetic_alt(prob_alt,para,0.0001)"
   ]
  },
  {
   "cell_type": "code",
   "execution_count": null,
   "metadata": {},
   "outputs": [],
   "source": [
    "best_solut.chromosome"
   ]
  },
  {
   "cell_type": "code",
   "execution_count": null,
   "metadata": {},
   "outputs": [],
   "source": [
    "best_solut.cost"
   ]
  }
 ],
 "metadata": {
  "kernelspec": {
   "display_name": "Python 3",
   "language": "python",
   "name": "python3"
  },
  "language_info": {
   "codemirror_mode": {
    "name": "ipython",
    "version": 3
   },
   "file_extension": ".py",
   "mimetype": "text/x-python",
   "name": "python",
   "nbconvert_exporter": "python",
   "pygments_lexer": "ipython3",
   "version": "3.7.4"
  }
 },
 "nbformat": 4,
 "nbformat_minor": 2
}
